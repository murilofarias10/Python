{
  "nbformat": 4,
  "nbformat_minor": 0,
  "metadata": {
    "colab": {
      "name": "2Exercicio_FGV_AnaliseExploratoria.ipynb",
      "provenance": [],
      "collapsed_sections": [],
      "authorship_tag": "ABX9TyPZzmwJQpVa/drhQHPxyUyb",
      "include_colab_link": true
    },
    "kernelspec": {
      "name": "python3",
      "display_name": "Python 3"
    },
    "language_info": {
      "name": "python"
    }
  },
  "cells": [
    {
      "cell_type": "markdown",
      "metadata": {
        "id": "view-in-github",
        "colab_type": "text"
      },
      "source": [
        "<a href=\"https://colab.research.google.com/github/murilofarias10/AnaliseComPython/blob/main/2Exercicio_FGV_AnaliseExploratoria.ipynb\" target=\"_parent\"><img src=\"https://colab.research.google.com/assets/colab-badge.svg\" alt=\"Open In Colab\"/></a>"
      ]
    },
    {
      "cell_type": "markdown",
      "metadata": {
        "id": "8tPXNWu1lzfO"
      },
      "source": [
        "**2º Exercicio: Analise Utilizando arquivo dados_biotipo**"
      ]
    },
    {
      "cell_type": "code",
      "metadata": {
        "colab": {
          "base_uri": "https://localhost:8080/"
        },
        "id": "TQz7dUnEN6ZB",
        "outputId": "3c538e42-88c8-4222-91f1-d323e931c4b8"
      },
      "source": [
        "#carregando o arquivo excel\n",
        "import pandas as pd\n",
        "arquivo_biotipo = pd.read_excel('/content/dados_biotipo_alterado.xlsx')\n",
        "\n",
        "#arquivo.head()\n",
        "print(arquivo_biotipo)"
      ],
      "execution_count": null,
      "outputs": [
        {
          "output_type": "stream",
          "name": "stdout",
          "text": [
            "      Peso  Altura  Cor Olho Cor Cabelo     IMC\n",
            "0     6.55    1.85      azul      loiro    1.91\n",
            "1    46.83    1.19      azul      loiro   33.07\n",
            "2   119.66    2.18  castanho      preto   25.18\n",
            "3    83.44    1.78  castanho              26.37\n",
            "4   121.39    1.56      azul      preto   49.88\n",
            "5    48.21    1.61  castanho   castanho   18.60\n",
            "6    78.76    1.65     verde      preto   28.93\n",
            "7   104.46    0.00      azul      preto   31.19\n",
            "8   110.97    1.01  castanho      preto  108.78\n",
            "9    76.57    1.08                preto   65.65\n",
            "10  119.19    1.57  castanho      loiro   48.35\n",
            "11   62.49    1.05     verde      loiro   56.68\n",
            "12   83.44    1.44      azul              30.25\n",
            "13  100.01    1.79     verde      loiro   31.21\n",
            "14   96.16    1.98      azul   castanho   24.53\n",
            "15   88.14    1.13      azul      preto   69.03\n",
            "16   56.83    1.77     verde              18.14\n",
            "17  163.91    0.00     verde      loiro  115.75\n",
            "18   44.49    1.82  castanho   castanho   13.43\n",
            "19   80.39    1.77                preto   25.66\n",
            "20  100.29    1.29     verde      loiro   60.27\n",
            "21   75.24    2.02      azul      preto   18.44\n",
            "22   81.33    1.80                preto   25.10\n",
            "23   83.44    1.79      azul              44.81\n",
            "24   85.84    1.75  castanho      preto   28.03\n",
            "25   60.49    1.96      azul      preto   15.75\n",
            "26   26.81    1.45      azul      preto   12.75\n",
            "27   82.25    0.00      azul      loiro   31.34\n",
            "28   72.92    1.79      azul   castanho   22.76\n",
            "29  103.92    1.66     verde      loiro   37.71\n",
            "30   74.72    1.79             castanho   23.32\n",
            "31  116.55    1.69     verde              40.81\n",
            "32   81.16    1.32  castanho   castanho   46.58\n",
            "33  103.92    1.83     verde      loiro   31.03\n",
            "34   92.49    2.01     verde      preto   22.89\n",
            "35   50.04    1.55  castanho      preto   20.83\n",
            "36   64.89    1.75  castanho      loiro   21.19\n",
            "37  114.36    1.62      azul      loiro   43.58\n",
            "38  129.08    0.00  castanho      preto   47.99\n",
            "39  142.97    1.69      azul      loiro   50.06\n",
            "40   97.32    1.60  castanho   castanho   38.02\n",
            "41  102.51    2.00             castanho   25.63\n",
            "42   80.96    1.74     verde      loiro   26.74\n",
            "43   83.44    1.74  castanho      preto   19.40\n",
            "44   78.45    1.67  castanho              28.13\n",
            "45   28.92    1.48      azul      loiro   13.20\n",
            "46   99.33    1.80  castanho      loiro   30.66\n",
            "47   40.17    2.10  castanho   castanho    9.11\n",
            "48   85.01    1.57      azul      preto   34.49\n",
            "49   41.29    1.71      azul   castanho   14.12\n"
          ]
        }
      ]
    },
    {
      "cell_type": "code",
      "metadata": {
        "colab": {
          "base_uri": "https://localhost:8080/"
        },
        "id": "g_Coj0eDOL1w",
        "outputId": "dd3658e4-9bde-4ce9-a81b-4faadff5a34f"
      },
      "source": [
        "#Analise estatisticas do peso\n",
        "analise_do_peso = arquivo_biotipo[\"Peso\"].describe()\n",
        "print('Analise do peso: \\n', analise_do_peso)"
      ],
      "execution_count": null,
      "outputs": [
        {
          "output_type": "stream",
          "name": "stdout",
          "text": [
            "Analise do peso: \n",
            " count     50.000000\n",
            "mean      83.440000\n",
            "std       30.375672\n",
            "min        6.550000\n",
            "25%       66.897500\n",
            "50%       83.440000\n",
            "75%      101.955000\n",
            "max      163.910000\n",
            "Name: Peso, dtype: float64\n"
          ]
        }
      ]
    },
    {
      "cell_type": "code",
      "metadata": {
        "colab": {
          "base_uri": "https://localhost:8080/"
        },
        "id": "EzSfFtv9VV5U",
        "outputId": "d6c1c6ba-7dcd-437f-b5a6-5adaf6180c8e"
      },
      "source": [
        "#Analise estatisticas do Altura\n",
        "analise_do_peso = arquivo_biotipo[\"Altura\"].describe()\n",
        "print('Analise do peso: \\n', analise_do_peso)"
      ],
      "execution_count": null,
      "outputs": [
        {
          "output_type": "stream",
          "name": "stdout",
          "text": [
            "Analise do peso: \n",
            " count    50.00000\n",
            "mean      1.52800\n",
            "std       0.52491\n",
            "min       0.00000\n",
            "25%       1.45750\n",
            "50%       1.69000\n",
            "75%       1.79000\n",
            "max       2.18000\n",
            "Name: Altura, dtype: float64\n"
          ]
        }
      ]
    },
    {
      "cell_type": "code",
      "metadata": {
        "id": "54m7w6NmXR7L"
      },
      "source": [
        "#INSERINDO COLUNA CONTADOR que recebe valor 1\n",
        "arquivo_biotipo = arquivo_biotipo.assign(Cont=1)"
      ],
      "execution_count": null,
      "outputs": []
    },
    {
      "cell_type": "code",
      "metadata": {
        "colab": {
          "base_uri": "https://localhost:8080/"
        },
        "id": "_NpWPpTAXUkl",
        "outputId": "0f1b9204-4167-4df0-dcfe-9452392d3bda"
      },
      "source": [
        "#verificando se inseriu a coluna corretamente\n",
        "print(arquivo_biotipo)"
      ],
      "execution_count": null,
      "outputs": [
        {
          "output_type": "stream",
          "name": "stdout",
          "text": [
            "      Peso  Altura   CorOlho CorCabelo     IMC CorOlho  Cont\n",
            "0     6.55    1.85      azul     loiro    1.91     NaN     1\n",
            "1    46.83    1.19      azul     loiro   33.07     NaN     1\n",
            "2   119.66    2.18  castanho     preto   25.18     NaN     1\n",
            "3    83.44    1.78  castanho       BBB   26.37     NaN     1\n",
            "4   121.39    1.56      azul     preto   49.88     NaN     1\n",
            "5    48.21    1.61  castanho  castanho   18.60     NaN     1\n",
            "6    78.76    1.65     verde     preto   28.93     NaN     1\n",
            "7   104.46    0.00      azul     preto   31.19     NaN     1\n",
            "8   110.97    1.01  castanho     preto  108.78     NaN     1\n",
            "9    76.57    1.08       AAA     preto   65.65     AAA     1\n",
            "10  119.19    1.57  castanho     loiro   48.35     NaN     1\n",
            "11   62.49    1.05     verde     loiro   56.68     NaN     1\n",
            "12   83.44    1.44      azul       BBB   30.25     NaN     1\n",
            "13  100.01    1.79     verde     loiro   31.21     NaN     1\n",
            "14   96.16    1.98      azul  castanho   24.53     NaN     1\n",
            "15   88.14    1.13      azul     preto   69.03     NaN     1\n",
            "16   56.83    1.77     verde       BBB   18.14     NaN     1\n",
            "17  163.91    0.00     verde     loiro  115.75     NaN     1\n",
            "18   44.49    1.82  castanho  castanho   13.43     NaN     1\n",
            "19   80.39    1.77       AAA     preto   25.66     AAA     1\n",
            "20  100.29    1.29     verde     loiro   60.27     NaN     1\n",
            "21   75.24    2.02      azul     preto   18.44     NaN     1\n",
            "22   81.33    1.80       AAA     preto   25.10     AAA     1\n",
            "23   83.44    1.79      azul       BBB   44.81     NaN     1\n",
            "24   85.84    1.75  castanho     preto   28.03     NaN     1\n",
            "25   60.49    1.96      azul     preto   15.75     NaN     1\n",
            "26   26.81    1.45      azul     preto   12.75     NaN     1\n",
            "27   82.25    0.00      azul     loiro   31.34     NaN     1\n",
            "28   72.92    1.79      azul  castanho   22.76     NaN     1\n",
            "29  103.92    1.66     verde     loiro   37.71     NaN     1\n",
            "30   74.72    1.79       AAA  castanho   23.32     AAA     1\n",
            "31  116.55    1.69     verde       BBB   40.81     NaN     1\n",
            "32   81.16    1.32  castanho  castanho   46.58     NaN     1\n",
            "33  103.92    1.83     verde     loiro   31.03     NaN     1\n",
            "34   92.49    2.01     verde     preto   22.89     NaN     1\n",
            "35   50.04    1.55  castanho     preto   20.83     NaN     1\n",
            "36   64.89    1.75  castanho     loiro   21.19     NaN     1\n",
            "37  114.36    1.62      azul     loiro   43.58     NaN     1\n",
            "38  129.08    0.00  castanho     preto   47.99     NaN     1\n",
            "39  142.97    1.69      azul     loiro   50.06     NaN     1\n",
            "40   97.32    1.60  castanho  castanho   38.02     NaN     1\n",
            "41  102.51    2.00       AAA  castanho   25.63     AAA     1\n",
            "42   80.96    1.74     verde     loiro   26.74     NaN     1\n",
            "43   83.44    1.74  castanho     preto   19.40     NaN     1\n",
            "44   78.45    1.67  castanho       BBB   28.13     NaN     1\n",
            "45   28.92    1.48      azul     loiro   13.20     NaN     1\n",
            "46   99.33    1.80  castanho     loiro   30.66     NaN     1\n",
            "47   40.17    2.10  castanho  castanho    9.11     NaN     1\n",
            "48   85.01    1.57      azul     preto   34.49     NaN     1\n",
            "49   41.29    1.71      azul  castanho   14.12     NaN     1\n"
          ]
        }
      ]
    },
    {
      "cell_type": "code",
      "metadata": {
        "id": "zkvuKm3mXrtw"
      },
      "source": [
        "#ALTERANDO NOME DAS COLUNAS COR OLHO \n",
        "arquivo_biotipo = arquivo_biotipo.rename(columns={'Cor Olho': 'CorOlho'})"
      ],
      "execution_count": null,
      "outputs": []
    },
    {
      "cell_type": "code",
      "metadata": {
        "id": "u88JmeNNYY3a"
      },
      "source": [
        "#ALTERANDO NOME DAS COLUNAS COR CABELO \n",
        "arquivo_biotipo = arquivo_biotipo.rename(columns={'Cor Cabelo': 'CorCabelo'})"
      ],
      "execution_count": null,
      "outputs": []
    },
    {
      "cell_type": "code",
      "metadata": {
        "colab": {
          "base_uri": "https://localhost:8080/"
        },
        "id": "n9OhQAyvX1xW",
        "outputId": "40a5f8f7-fd7e-47e0-ab87-29ab7f87cf84"
      },
      "source": [
        "#Verificando se alterou o nome das coluans corretamente\n",
        "print(arquivo_biotipo)"
      ],
      "execution_count": null,
      "outputs": [
        {
          "output_type": "stream",
          "name": "stdout",
          "text": [
            "      Peso  Altura   CorOlho CorCabelo     IMC CorOlho  Cont\n",
            "0     6.55    1.85      azul     loiro    1.91     NaN     1\n",
            "1    46.83    1.19      azul     loiro   33.07     NaN     1\n",
            "2   119.66    2.18  castanho     preto   25.18     NaN     1\n",
            "3    83.44    1.78  castanho       BBB   26.37     NaN     1\n",
            "4   121.39    1.56      azul     preto   49.88     NaN     1\n",
            "5    48.21    1.61  castanho  castanho   18.60     NaN     1\n",
            "6    78.76    1.65     verde     preto   28.93     NaN     1\n",
            "7   104.46    0.00      azul     preto   31.19     NaN     1\n",
            "8   110.97    1.01  castanho     preto  108.78     NaN     1\n",
            "9    76.57    1.08       AAA     preto   65.65     AAA     1\n",
            "10  119.19    1.57  castanho     loiro   48.35     NaN     1\n",
            "11   62.49    1.05     verde     loiro   56.68     NaN     1\n",
            "12   83.44    1.44      azul       BBB   30.25     NaN     1\n",
            "13  100.01    1.79     verde     loiro   31.21     NaN     1\n",
            "14   96.16    1.98      azul  castanho   24.53     NaN     1\n",
            "15   88.14    1.13      azul     preto   69.03     NaN     1\n",
            "16   56.83    1.77     verde       BBB   18.14     NaN     1\n",
            "17  163.91    0.00     verde     loiro  115.75     NaN     1\n",
            "18   44.49    1.82  castanho  castanho   13.43     NaN     1\n",
            "19   80.39    1.77       AAA     preto   25.66     AAA     1\n",
            "20  100.29    1.29     verde     loiro   60.27     NaN     1\n",
            "21   75.24    2.02      azul     preto   18.44     NaN     1\n",
            "22   81.33    1.80       AAA     preto   25.10     AAA     1\n",
            "23   83.44    1.79      azul       BBB   44.81     NaN     1\n",
            "24   85.84    1.75  castanho     preto   28.03     NaN     1\n",
            "25   60.49    1.96      azul     preto   15.75     NaN     1\n",
            "26   26.81    1.45      azul     preto   12.75     NaN     1\n",
            "27   82.25    0.00      azul     loiro   31.34     NaN     1\n",
            "28   72.92    1.79      azul  castanho   22.76     NaN     1\n",
            "29  103.92    1.66     verde     loiro   37.71     NaN     1\n",
            "30   74.72    1.79       AAA  castanho   23.32     AAA     1\n",
            "31  116.55    1.69     verde       BBB   40.81     NaN     1\n",
            "32   81.16    1.32  castanho  castanho   46.58     NaN     1\n",
            "33  103.92    1.83     verde     loiro   31.03     NaN     1\n",
            "34   92.49    2.01     verde     preto   22.89     NaN     1\n",
            "35   50.04    1.55  castanho     preto   20.83     NaN     1\n",
            "36   64.89    1.75  castanho     loiro   21.19     NaN     1\n",
            "37  114.36    1.62      azul     loiro   43.58     NaN     1\n",
            "38  129.08    0.00  castanho     preto   47.99     NaN     1\n",
            "39  142.97    1.69      azul     loiro   50.06     NaN     1\n",
            "40   97.32    1.60  castanho  castanho   38.02     NaN     1\n",
            "41  102.51    2.00       AAA  castanho   25.63     AAA     1\n",
            "42   80.96    1.74     verde     loiro   26.74     NaN     1\n",
            "43   83.44    1.74  castanho     preto   19.40     NaN     1\n",
            "44   78.45    1.67  castanho       BBB   28.13     NaN     1\n",
            "45   28.92    1.48      azul     loiro   13.20     NaN     1\n",
            "46   99.33    1.80  castanho     loiro   30.66     NaN     1\n",
            "47   40.17    2.10  castanho  castanho    9.11     NaN     1\n",
            "48   85.01    1.57      azul     preto   34.49     NaN     1\n",
            "49   41.29    1.71      azul  castanho   14.12     NaN     1\n"
          ]
        }
      ]
    },
    {
      "cell_type": "code",
      "metadata": {
        "colab": {
          "base_uri": "https://localhost:8080/",
          "height": 119
        },
        "id": "hIbqOGCqXZlr",
        "outputId": "c8e8e433-8b49-42d2-e14c-9ea3d10885fc"
      },
      "source": [
        "#Agrupando por cor do olho\n",
        "display(arquivo_biotipo['CorOlho'].value_counts())\n",
        "print('Somatorioa Total: ', arquivo_biotipo['Cont'].sum())"
      ],
      "execution_count": null,
      "outputs": [
        {
          "output_type": "display_data",
          "data": {
            "text/plain": [
              "azul        18\n",
              "castanho    16\n",
              "verde       11\n",
              "             5\n",
              "Name: CorOlho, dtype: int64"
            ]
          },
          "metadata": {}
        },
        {
          "output_type": "stream",
          "name": "stdout",
          "text": [
            "Somatorioa Total:  50\n"
          ]
        }
      ]
    },
    {
      "cell_type": "code",
      "metadata": {
        "colab": {
          "base_uri": "https://localhost:8080/"
        },
        "id": "39tZ65vEYSuK",
        "outputId": "d71b3abc-46ce-4f85-ae45-5e0943c332e1"
      },
      "source": [
        "#Calculando a MODA  COR OLHO e COR CABELO\n",
        "# mode() retornará o valor mais comum de um conjunto numérico discreto bem como dados não numéricos\n",
        "# Essa a única função estatística que pode ser usada com valores não numéricos.\n",
        "import random\n",
        "import statistics\n",
        "\n",
        "mais_comum_olho = statistics.mode(arquivo_biotipo['CorOlho'])\n",
        "print('A cor mais comum de olho é: {}'.format(mais_comum_olho.upper()))\n",
        "\n",
        "mais_comum_cabelo = statistics.mode(arquivo_biotipo['CorCabelo'])\n",
        "print('A cor mais comum de cabelo é: {}'.format(mais_comum_cabelo.upper()))\n"
      ],
      "execution_count": null,
      "outputs": [
        {
          "output_type": "stream",
          "name": "stdout",
          "text": [
            "A cor mais comum de olho é: AZUL\n",
            "A cor mais comum de cabelo é: PRETO\n"
          ]
        }
      ]
    },
    {
      "cell_type": "code",
      "metadata": {
        "colab": {
          "base_uri": "https://localhost:8080/"
        },
        "id": "qgJfG63ScN1R",
        "outputId": "e9abb305-ab20-4e8e-9b58-14d5443ee791"
      },
      "source": [
        "#Preenchendo coluna CorOlho que estão em branco com AAA\n",
        "arquivo_biotipo.loc[[9,19,22,30,41], ['CorOlho']] = 'AAA'\n",
        "print(arquivo_biotipo)\n",
        "\n"
      ],
      "execution_count": null,
      "outputs": [
        {
          "output_type": "stream",
          "name": "stdout",
          "text": [
            "      Peso  Altura   CorOlho CorCabelo     IMC CorOlho\n",
            "0     6.55    1.85      azul     loiro    1.91     NaN\n",
            "1    46.83    1.19      azul     loiro   33.07     NaN\n",
            "2   119.66    2.18  castanho     preto   25.18     NaN\n",
            "3    83.44    1.78  castanho             26.37     NaN\n",
            "4   121.39    1.56      azul     preto   49.88     NaN\n",
            "5    48.21    1.61  castanho  castanho   18.60     NaN\n",
            "6    78.76    1.65     verde     preto   28.93     NaN\n",
            "7   104.46    0.00      azul     preto   31.19     NaN\n",
            "8   110.97    1.01  castanho     preto  108.78     NaN\n",
            "9    76.57    1.08       AAA     preto   65.65     AAA\n",
            "10  119.19    1.57  castanho     loiro   48.35     NaN\n",
            "11   62.49    1.05     verde     loiro   56.68     NaN\n",
            "12   83.44    1.44      azul             30.25     NaN\n",
            "13  100.01    1.79     verde     loiro   31.21     NaN\n",
            "14   96.16    1.98      azul  castanho   24.53     NaN\n",
            "15   88.14    1.13      azul     preto   69.03     NaN\n",
            "16   56.83    1.77     verde             18.14     NaN\n",
            "17  163.91    0.00     verde     loiro  115.75     NaN\n",
            "18   44.49    1.82  castanho  castanho   13.43     NaN\n",
            "19   80.39    1.77       AAA     preto   25.66     AAA\n",
            "20  100.29    1.29     verde     loiro   60.27     NaN\n",
            "21   75.24    2.02      azul     preto   18.44     NaN\n",
            "22   81.33    1.80       AAA     preto   25.10     AAA\n",
            "23   83.44    1.79      azul             44.81     NaN\n",
            "24   85.84    1.75  castanho     preto   28.03     NaN\n",
            "25   60.49    1.96      azul     preto   15.75     NaN\n",
            "26   26.81    1.45      azul     preto   12.75     NaN\n",
            "27   82.25    0.00      azul     loiro   31.34     NaN\n",
            "28   72.92    1.79      azul  castanho   22.76     NaN\n",
            "29  103.92    1.66     verde     loiro   37.71     NaN\n",
            "30   74.72    1.79       AAA  castanho   23.32     AAA\n",
            "31  116.55    1.69     verde             40.81     NaN\n",
            "32   81.16    1.32  castanho  castanho   46.58     NaN\n",
            "33  103.92    1.83     verde     loiro   31.03     NaN\n",
            "34   92.49    2.01     verde     preto   22.89     NaN\n",
            "35   50.04    1.55  castanho     preto   20.83     NaN\n",
            "36   64.89    1.75  castanho     loiro   21.19     NaN\n",
            "37  114.36    1.62      azul     loiro   43.58     NaN\n",
            "38  129.08    0.00  castanho     preto   47.99     NaN\n",
            "39  142.97    1.69      azul     loiro   50.06     NaN\n",
            "40   97.32    1.60  castanho  castanho   38.02     NaN\n",
            "41  102.51    2.00       AAA  castanho   25.63     AAA\n",
            "42   80.96    1.74     verde     loiro   26.74     NaN\n",
            "43   83.44    1.74  castanho     preto   19.40     NaN\n",
            "44   78.45    1.67  castanho             28.13     NaN\n",
            "45   28.92    1.48      azul     loiro   13.20     NaN\n",
            "46   99.33    1.80  castanho     loiro   30.66     NaN\n",
            "47   40.17    2.10  castanho  castanho    9.11     NaN\n",
            "48   85.01    1.57      azul     preto   34.49     NaN\n",
            "49   41.29    1.71      azul  castanho   14.12     NaN\n"
          ]
        }
      ]
    },
    {
      "cell_type": "code",
      "metadata": {
        "colab": {
          "base_uri": "https://localhost:8080/"
        },
        "id": "mArECzoFkWtX",
        "outputId": "56b1f07b-4ac2-454a-e9f6-876042328649"
      },
      "source": [
        "#Preenchendo coluna CorCabelo que estão em branco com BBB\n",
        "arquivo_biotipo.loc[[3,12,16,23,31,44], ['CorCabelo']] = 'BBB'\n",
        "print(arquivo_biotipo)"
      ],
      "execution_count": null,
      "outputs": [
        {
          "output_type": "stream",
          "name": "stdout",
          "text": [
            "      Peso  Altura   CorOlho CorCabelo     IMC CorOlho\n",
            "0     6.55    1.85      azul     loiro    1.91     NaN\n",
            "1    46.83    1.19      azul     loiro   33.07     NaN\n",
            "2   119.66    2.18  castanho     preto   25.18     NaN\n",
            "3    83.44    1.78  castanho       BBB   26.37     NaN\n",
            "4   121.39    1.56      azul     preto   49.88     NaN\n",
            "5    48.21    1.61  castanho  castanho   18.60     NaN\n",
            "6    78.76    1.65     verde     preto   28.93     NaN\n",
            "7   104.46    0.00      azul     preto   31.19     NaN\n",
            "8   110.97    1.01  castanho     preto  108.78     NaN\n",
            "9    76.57    1.08       AAA     preto   65.65     AAA\n",
            "10  119.19    1.57  castanho     loiro   48.35     NaN\n",
            "11   62.49    1.05     verde     loiro   56.68     NaN\n",
            "12   83.44    1.44      azul       BBB   30.25     NaN\n",
            "13  100.01    1.79     verde     loiro   31.21     NaN\n",
            "14   96.16    1.98      azul  castanho   24.53     NaN\n",
            "15   88.14    1.13      azul     preto   69.03     NaN\n",
            "16   56.83    1.77     verde       BBB   18.14     NaN\n",
            "17  163.91    0.00     verde     loiro  115.75     NaN\n",
            "18   44.49    1.82  castanho  castanho   13.43     NaN\n",
            "19   80.39    1.77       AAA     preto   25.66     AAA\n",
            "20  100.29    1.29     verde     loiro   60.27     NaN\n",
            "21   75.24    2.02      azul     preto   18.44     NaN\n",
            "22   81.33    1.80       AAA     preto   25.10     AAA\n",
            "23   83.44    1.79      azul       BBB   44.81     NaN\n",
            "24   85.84    1.75  castanho     preto   28.03     NaN\n",
            "25   60.49    1.96      azul     preto   15.75     NaN\n",
            "26   26.81    1.45      azul     preto   12.75     NaN\n",
            "27   82.25    0.00      azul     loiro   31.34     NaN\n",
            "28   72.92    1.79      azul  castanho   22.76     NaN\n",
            "29  103.92    1.66     verde     loiro   37.71     NaN\n",
            "30   74.72    1.79       AAA  castanho   23.32     AAA\n",
            "31  116.55    1.69     verde       BBB   40.81     NaN\n",
            "32   81.16    1.32  castanho  castanho   46.58     NaN\n",
            "33  103.92    1.83     verde     loiro   31.03     NaN\n",
            "34   92.49    2.01     verde     preto   22.89     NaN\n",
            "35   50.04    1.55  castanho     preto   20.83     NaN\n",
            "36   64.89    1.75  castanho     loiro   21.19     NaN\n",
            "37  114.36    1.62      azul     loiro   43.58     NaN\n",
            "38  129.08    0.00  castanho     preto   47.99     NaN\n",
            "39  142.97    1.69      azul     loiro   50.06     NaN\n",
            "40   97.32    1.60  castanho  castanho   38.02     NaN\n",
            "41  102.51    2.00       AAA  castanho   25.63     AAA\n",
            "42   80.96    1.74     verde     loiro   26.74     NaN\n",
            "43   83.44    1.74  castanho     preto   19.40     NaN\n",
            "44   78.45    1.67  castanho       BBB   28.13     NaN\n",
            "45   28.92    1.48      azul     loiro   13.20     NaN\n",
            "46   99.33    1.80  castanho     loiro   30.66     NaN\n",
            "47   40.17    2.10  castanho  castanho    9.11     NaN\n",
            "48   85.01    1.57      azul     preto   34.49     NaN\n",
            "49   41.29    1.71      azul  castanho   14.12     NaN\n"
          ]
        }
      ]
    },
    {
      "cell_type": "code",
      "metadata": {
        "colab": {
          "base_uri": "https://localhost:8080/"
        },
        "id": "KNGFe75-ku6o",
        "outputId": "7336a6ce-b6fe-446a-d35c-3a03165a8b1a"
      },
      "source": [
        "#verificando informações do arquivo, se está totalmente preenchido\n",
        "print(arquivo_biotipo.info())"
      ],
      "execution_count": null,
      "outputs": [
        {
          "output_type": "stream",
          "name": "stdout",
          "text": [
            "<class 'pandas.core.frame.DataFrame'>\n",
            "RangeIndex: 50 entries, 0 to 49\n",
            "Data columns (total 7 columns):\n",
            " #   Column     Non-Null Count  Dtype  \n",
            "---  ------     --------------  -----  \n",
            " 0   Peso       50 non-null     float64\n",
            " 1   Altura     50 non-null     float64\n",
            " 2   CorOlho    50 non-null     object \n",
            " 3   CorCabelo  50 non-null     object \n",
            " 4   IMC        50 non-null     float64\n",
            " 5   CorOlho    5 non-null      object \n",
            " 6   Cont       50 non-null     int64  \n",
            "dtypes: float64(3), int64(1), object(3)\n",
            "memory usage: 2.9+ KB\n",
            "None\n"
          ]
        }
      ]
    },
    {
      "cell_type": "code",
      "metadata": {
        "colab": {
          "base_uri": "https://localhost:8080/",
          "height": 267
        },
        "id": "CP8cgoNsluXW",
        "outputId": "d01ac7b7-d8ea-425e-a71a-5a433fb61f22"
      },
      "source": [
        "#Verificar se existe outlier na coluna IMC\n",
        "import matplotlib.pyplot as plt\n",
        "plt.boxplot(arquivo_biotipo[\"IMC\"]);"
      ],
      "execution_count": null,
      "outputs": [
        {
          "output_type": "display_data",
          "data": {
            "image/png": "[encoded data removed]",
            "text/plain": [
              "<Figure size 432x288 with 1 Axes>"
            ]
          },
          "metadata": {
            "needs_background": "light"
          }
        }
      ]
    },
    {
      "cell_type": "code",
      "metadata": {
        "colab": {
          "base_uri": "https://localhost:8080/"
        },
        "id": "kboTcw2Eo4Py",
        "outputId": "bdcf1cd0-a4aa-4e08-daae-eaacf634b20c"
      },
      "source": [
        "#Analise estatisticas do IMC\n",
        "analise_estatistica_IMG = arquivo_biotipo[\"IMC\"].describe()\n",
        "print('Analise do IMC: \\n', analise_estatistica_IMG)\n",
        "\n",
        "#Analise da altura: \n",
        "#count    50.000000 contagem\n",
        "#mean      34.14660 media\n",
        "#std       21.68581 desvio padrao\n",
        "#min       1.91000 minimo\n",
        "#25%       21.58250 primeiro quartil\n",
        "#50%       28.53000 mediana\n",
        "#75%       42.88750 segundo quartil\n",
        "#max       115.75000 maximo"
      ],
      "execution_count": null,
      "outputs": [
        {
          "output_type": "stream",
          "name": "stdout",
          "text": [
            "Analise do IMC: \n",
            " count     50.00000\n",
            "mean      34.14660\n",
            "std       21.68581\n",
            "min        1.91000\n",
            "25%       21.58250\n",
            "50%       28.53000\n",
            "75%       42.88750\n",
            "max      115.75000\n",
            "Name: IMC, dtype: float64\n"
          ]
        }
      ]
    },
    {
      "cell_type": "code",
      "metadata": {
        "colab": {
          "base_uri": "https://localhost:8080/"
        },
        "id": "3M1Cb15Ymd19",
        "outputId": "e0e235b0-9bec-479f-e88d-391f3ca30627"
      },
      "source": [
        "#ordenando do menor para o maior de acordo com a coluna IMC\n",
        "ordenado_IMC = arquivo_biotipo.sort_values(by='IMC')\n",
        "print(ordenado_IMC)"
      ],
      "execution_count": null,
      "outputs": [
        {
          "output_type": "stream",
          "name": "stdout",
          "text": [
            "      Peso  Altura   CorOlho CorCabelo     IMC CorOlho\n",
            "0     6.55    1.85      azul     loiro    1.91     NaN\n",
            "47   40.17    2.10  castanho  castanho    9.11     NaN\n",
            "26   26.81    1.45      azul     preto   12.75     NaN\n",
            "45   28.92    1.48      azul     loiro   13.20     NaN\n",
            "18   44.49    1.82  castanho  castanho   13.43     NaN\n",
            "49   41.29    1.71      azul  castanho   14.12     NaN\n",
            "25   60.49    1.96      azul     preto   15.75     NaN\n",
            "16   56.83    1.77     verde       BBB   18.14     NaN\n",
            "21   75.24    2.02      azul     preto   18.44     NaN\n",
            "5    48.21    1.61  castanho  castanho   18.60     NaN\n",
            "43   83.44    1.74  castanho     preto   19.40     NaN\n",
            "35   50.04    1.55  castanho     preto   20.83     NaN\n",
            "36   64.89    1.75  castanho     loiro   21.19     NaN\n",
            "28   72.92    1.79      azul  castanho   22.76     NaN\n",
            "34   92.49    2.01     verde     preto   22.89     NaN\n",
            "30   74.72    1.79       AAA  castanho   23.32     AAA\n",
            "14   96.16    1.98      azul  castanho   24.53     NaN\n",
            "22   81.33    1.80       AAA     preto   25.10     AAA\n",
            "2   119.66    2.18  castanho     preto   25.18     NaN\n",
            "41  102.51    2.00       AAA  castanho   25.63     AAA\n",
            "19   80.39    1.77       AAA     preto   25.66     AAA\n",
            "3    83.44    1.78  castanho       BBB   26.37     NaN\n",
            "42   80.96    1.74     verde     loiro   26.74     NaN\n",
            "24   85.84    1.75  castanho     preto   28.03     NaN\n",
            "44   78.45    1.67  castanho       BBB   28.13     NaN\n",
            "6    78.76    1.65     verde     preto   28.93     NaN\n",
            "12   83.44    1.44      azul       BBB   30.25     NaN\n",
            "46   99.33    1.80  castanho     loiro   30.66     NaN\n",
            "33  103.92    1.83     verde     loiro   31.03     NaN\n",
            "7   104.46    0.00      azul     preto   31.19     NaN\n",
            "13  100.01    1.79     verde     loiro   31.21     NaN\n",
            "27   82.25    0.00      azul     loiro   31.34     NaN\n",
            "1    46.83    1.19      azul     loiro   33.07     NaN\n",
            "48   85.01    1.57      azul     preto   34.49     NaN\n",
            "29  103.92    1.66     verde     loiro   37.71     NaN\n",
            "40   97.32    1.60  castanho  castanho   38.02     NaN\n",
            "31  116.55    1.69     verde       BBB   40.81     NaN\n",
            "37  114.36    1.62      azul     loiro   43.58     NaN\n",
            "23   83.44    1.79      azul       BBB   44.81     NaN\n",
            "32   81.16    1.32  castanho  castanho   46.58     NaN\n",
            "38  129.08    0.00  castanho     preto   47.99     NaN\n",
            "10  119.19    1.57  castanho     loiro   48.35     NaN\n",
            "4   121.39    1.56      azul     preto   49.88     NaN\n",
            "39  142.97    1.69      azul     loiro   50.06     NaN\n",
            "11   62.49    1.05     verde     loiro   56.68     NaN\n",
            "20  100.29    1.29     verde     loiro   60.27     NaN\n",
            "9    76.57    1.08       AAA     preto   65.65     AAA\n",
            "15   88.14    1.13      azul     preto   69.03     NaN\n",
            "8   110.97    1.01  castanho     preto  108.78     NaN\n",
            "17  163.91    0.00     verde     loiro  115.75     NaN\n"
          ]
        }
      ]
    },
    {
      "cell_type": "code",
      "metadata": {
        "colab": {
          "base_uri": "https://localhost:8080/",
          "height": 111
        },
        "id": "vVrF7TtSm20d",
        "outputId": "ab2f089d-23fb-434d-b1c0-d433c51d9f0d"
      },
      "source": [
        "#Tirei algumas duvidas no site: https://minerandodados.com.br/analise-de-dados-com-python-usando-pandas/\n",
        "#Trazendo apenas os 2 outliers\n",
        "ordenado_IMC.loc[[17,8]]"
      ],
      "execution_count": null,
      "outputs": [
        {
          "output_type": "execute_result",
          "data": {
            "text/html": [
              "<div>\n",
              "<style scoped>\n",
              "    .dataframe tbody tr th:only-of-type {\n",
              "        vertical-align: middle;\n",
              "    }\n",
              "\n",
              "    .dataframe tbody tr th {\n",
              "        vertical-align: top;\n",
              "    }\n",
              "\n",
              "    .dataframe thead th {\n",
              "        text-align: right;\n",
              "    }\n",
              "</style>\n",
              "<table border=\"1\" class=\"dataframe\">\n",
              "  <thead>\n",
              "    <tr style=\"text-align: right;\">\n",
              "      <th></th>\n",
              "      <th>Peso</th>\n",
              "      <th>Altura</th>\n",
              "      <th>CorOlho</th>\n",
              "      <th>CorCabelo</th>\n",
              "      <th>IMC</th>\n",
              "      <th>CorOlho</th>\n",
              "    </tr>\n",
              "  </thead>\n",
              "  <tbody>\n",
              "    <tr>\n",
              "      <th>17</th>\n",
              "      <td>163.91</td>\n",
              "      <td>0.00</td>\n",
              "      <td>verde</td>\n",
              "      <td>loiro</td>\n",
              "      <td>115.75</td>\n",
              "      <td>NaN</td>\n",
              "    </tr>\n",
              "    <tr>\n",
              "      <th>8</th>\n",
              "      <td>110.97</td>\n",
              "      <td>1.01</td>\n",
              "      <td>castanho</td>\n",
              "      <td>preto</td>\n",
              "      <td>108.78</td>\n",
              "      <td>NaN</td>\n",
              "    </tr>\n",
              "  </tbody>\n",
              "</table>\n",
              "</div>"
            ],
            "text/plain": [
              "      Peso  Altura   CorOlho CorCabelo     IMC CorOlho\n",
              "17  163.91    0.00     verde     loiro  115.75     NaN\n",
              "8   110.97    1.01  castanho     preto  108.78     NaN"
            ]
          },
          "metadata": {},
          "execution_count": 117
        }
      ]
    },
    {
      "cell_type": "code",
      "metadata": {
        "colab": {
          "base_uri": "https://localhost:8080/",
          "height": 111
        },
        "id": "h_3JkCksnEbX",
        "outputId": "3fe28b70-cd91-4fe8-fa6e-5c7c2d5633c3"
      },
      "source": [
        "#Removendo a ultima coluna que foi adicionada de maneira erroneamente\n",
        "ordenado_IMC.drop(ordenado_IMC.columns[-1], axis = 1, inplace = True)\n",
        "ordenado_IMC.loc[[17,8]]"
      ],
      "execution_count": null,
      "outputs": [
        {
          "output_type": "execute_result",
          "data": {
            "text/html": [
              "<div>\n",
              "<style scoped>\n",
              "    .dataframe tbody tr th:only-of-type {\n",
              "        vertical-align: middle;\n",
              "    }\n",
              "\n",
              "    .dataframe tbody tr th {\n",
              "        vertical-align: top;\n",
              "    }\n",
              "\n",
              "    .dataframe thead th {\n",
              "        text-align: right;\n",
              "    }\n",
              "</style>\n",
              "<table border=\"1\" class=\"dataframe\">\n",
              "  <thead>\n",
              "    <tr style=\"text-align: right;\">\n",
              "      <th></th>\n",
              "      <th>Peso</th>\n",
              "      <th>Altura</th>\n",
              "      <th>CorCabelo</th>\n",
              "      <th>IMC</th>\n",
              "    </tr>\n",
              "  </thead>\n",
              "  <tbody>\n",
              "    <tr>\n",
              "      <th>17</th>\n",
              "      <td>163.91</td>\n",
              "      <td>0.00</td>\n",
              "      <td>loiro</td>\n",
              "      <td>115.75</td>\n",
              "    </tr>\n",
              "    <tr>\n",
              "      <th>8</th>\n",
              "      <td>110.97</td>\n",
              "      <td>1.01</td>\n",
              "      <td>preto</td>\n",
              "      <td>108.78</td>\n",
              "    </tr>\n",
              "  </tbody>\n",
              "</table>\n",
              "</div>"
            ],
            "text/plain": [
              "      Peso  Altura CorCabelo     IMC\n",
              "17  163.91    0.00     loiro  115.75\n",
              "8   110.97    1.01     preto  108.78"
            ]
          },
          "metadata": {},
          "execution_count": 119
        }
      ]
    },
    {
      "cell_type": "code",
      "metadata": {
        "colab": {
          "base_uri": "https://localhost:8080/"
        },
        "id": "Pu-H0x37nWFM",
        "outputId": "f75b5442-19c5-4dfa-8c76-647f92139bce"
      },
      "source": [
        "#Imprimindo por fim os 2 outliers encontrados na coluna IMC\n",
        "outliers_IMC = ordenado_IMC.loc[[17,8]]\n",
        "print(outliers_IMC)"
      ],
      "execution_count": null,
      "outputs": [
        {
          "output_type": "stream",
          "name": "stdout",
          "text": [
            "      Peso  Altura CorCabelo     IMC\n",
            "17  163.91    0.00     loiro  115.75\n",
            "8   110.97    1.01     preto  108.78\n"
          ]
        }
      ]
    },
    {
      "cell_type": "code",
      "metadata": {
        "colab": {
          "base_uri": "https://localhost:8080/",
          "height": 868
        },
        "id": "tcUzkMOSswy7",
        "outputId": "bd5eba02-5a14-461c-8866-208f2e7d13d0"
      },
      "source": [
        "#Consolidando informações de outlier\n",
        "import seaborn as sns\n",
        "sns.pairplot(ordenado_IMC,  height=4)\n",
        "plt.show()"
      ],
      "execution_count": null,
      "outputs": [
        {
          "output_type": "display_data",
          "data": {
            "image/png": "[encoded data removed]",
            "text/plain": [
              "<Figure size 864x864 with 12 Axes>"
            ]
          },
          "metadata": {
            "needs_background": "light"
          }
        }
      ]
    }
  ]
}