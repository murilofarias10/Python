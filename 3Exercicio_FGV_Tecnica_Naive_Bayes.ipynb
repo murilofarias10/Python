{
  "nbformat": 4,
  "nbformat_minor": 0,
  "metadata": {
    "colab": {
      "name": "3Exercicio_FGV_Tecnica_Naive_Bayes.ipynb",
      "provenance": [],
      "collapsed_sections": [],
      "authorship_tag": "ABX9TyOomGwPBh3cuf25JdBAGDF6",
      "include_colab_link": true
    },
    "kernelspec": {
      "name": "python3",
      "display_name": "Python 3"
    },
    "language_info": {
      "name": "python"
    }
  },
  "cells": [
    {
      "cell_type": "markdown",
      "metadata": {
        "id": "view-in-github",
        "colab_type": "text"
      },
      "source": [
        "<a href=\"https://colab.research.google.com/github/murilofarias10/AnaliseComPython/blob/main/3Exercicio_FGV_Tecnica_Naive_Bayes.ipynb\" target=\"_parent\"><img src=\"https://colab.research.google.com/assets/colab-badge.svg\" alt=\"Open In Colab\"/></a>"
      ]
    },
    {
      "cell_type": "code",
      "metadata": {
        "id": "Qkr2OLFnX_lo"
      },
      "source": [
        "# carrega biblioteca\n",
        "import pandas as pd"
      ],
      "execution_count": 1,
      "outputs": []
    },
    {
      "cell_type": "code",
      "metadata": {
        "id": "P7qO-oNVYSTw"
      },
      "source": [
        "# carrega arquivo\n",
        "arquivo = pd.read_excel('tecnica_naive_bayes.xlsx', sheet_name='base_dados')"
      ],
      "execution_count": 11,
      "outputs": []
    },
    {
      "cell_type": "code",
      "metadata": {
        "colab": {
          "base_uri": "https://localhost:8080/",
          "height": 514
        },
        "id": "h-5ipi35YeBQ",
        "outputId": "6426bea6-69dc-4e39-badf-40099879ebdd"
      },
      "source": [
        "# mostrar arquivo completo\n",
        "display(arquivo)"
      ],
      "execution_count": 13,
      "outputs": [
        {
          "output_type": "display_data",
          "data": {
            "text/html": [
              "<div>\n",
              "<style scoped>\n",
              "    .dataframe tbody tr th:only-of-type {\n",
              "        vertical-align: middle;\n",
              "    }\n",
              "\n",
              "    .dataframe tbody tr th {\n",
              "        vertical-align: top;\n",
              "    }\n",
              "\n",
              "    .dataframe thead th {\n",
              "        text-align: right;\n",
              "    }\n",
              "</style>\n",
              "<table border=\"1\" class=\"dataframe\">\n",
              "  <thead>\n",
              "    <tr style=\"text-align: right;\">\n",
              "      <th></th>\n",
              "      <th>item</th>\n",
              "      <th>cor</th>\n",
              "      <th>forma</th>\n",
              "      <th>textura</th>\n",
              "      <th>classificação</th>\n",
              "      <th>CONTADOR</th>\n",
              "    </tr>\n",
              "  </thead>\n",
              "  <tbody>\n",
              "    <tr>\n",
              "      <th>0</th>\n",
              "      <td>15</td>\n",
              "      <td>azul</td>\n",
              "      <td>círculo</td>\n",
              "      <td>áspera</td>\n",
              "      <td>desagradável</td>\n",
              "      <td>1</td>\n",
              "    </tr>\n",
              "    <tr>\n",
              "      <th>1</th>\n",
              "      <td>10</td>\n",
              "      <td>azul</td>\n",
              "      <td>quadrado</td>\n",
              "      <td>áspera</td>\n",
              "      <td>agradável</td>\n",
              "      <td>1</td>\n",
              "    </tr>\n",
              "    <tr>\n",
              "      <th>2</th>\n",
              "      <td>12</td>\n",
              "      <td>azul</td>\n",
              "      <td>quadrado</td>\n",
              "      <td>áspera</td>\n",
              "      <td>agradável</td>\n",
              "      <td>1</td>\n",
              "    </tr>\n",
              "    <tr>\n",
              "      <th>3</th>\n",
              "      <td>14</td>\n",
              "      <td>vermelho</td>\n",
              "      <td>quadrado</td>\n",
              "      <td>áspera</td>\n",
              "      <td>agradável</td>\n",
              "      <td>1</td>\n",
              "    </tr>\n",
              "    <tr>\n",
              "      <th>4</th>\n",
              "      <td>4</td>\n",
              "      <td>azul</td>\n",
              "      <td>triângulo</td>\n",
              "      <td>áspera</td>\n",
              "      <td>agradável</td>\n",
              "      <td>1</td>\n",
              "    </tr>\n",
              "    <tr>\n",
              "      <th>5</th>\n",
              "      <td>3</td>\n",
              "      <td>azul</td>\n",
              "      <td>círculo</td>\n",
              "      <td>macia</td>\n",
              "      <td>agradável</td>\n",
              "      <td>1</td>\n",
              "    </tr>\n",
              "    <tr>\n",
              "      <th>6</th>\n",
              "      <td>6</td>\n",
              "      <td>azul</td>\n",
              "      <td>triângulo</td>\n",
              "      <td>macia</td>\n",
              "      <td>desagradável</td>\n",
              "      <td>1</td>\n",
              "    </tr>\n",
              "    <tr>\n",
              "      <th>7</th>\n",
              "      <td>8</td>\n",
              "      <td>vermelho</td>\n",
              "      <td>triângulo</td>\n",
              "      <td>macia</td>\n",
              "      <td>desagradável</td>\n",
              "      <td>1</td>\n",
              "    </tr>\n",
              "    <tr>\n",
              "      <th>8</th>\n",
              "      <td>5</td>\n",
              "      <td>azul</td>\n",
              "      <td>círculo</td>\n",
              "      <td>ondulada</td>\n",
              "      <td>agradável</td>\n",
              "      <td>1</td>\n",
              "    </tr>\n",
              "    <tr>\n",
              "      <th>9</th>\n",
              "      <td>2</td>\n",
              "      <td>vermelho</td>\n",
              "      <td>círculo</td>\n",
              "      <td>ondulada</td>\n",
              "      <td>desagradável</td>\n",
              "      <td>1</td>\n",
              "    </tr>\n",
              "    <tr>\n",
              "      <th>10</th>\n",
              "      <td>9</td>\n",
              "      <td>vermelho</td>\n",
              "      <td>círculo</td>\n",
              "      <td>ondulada</td>\n",
              "      <td>desagradável</td>\n",
              "      <td>1</td>\n",
              "    </tr>\n",
              "    <tr>\n",
              "      <th>11</th>\n",
              "      <td>1</td>\n",
              "      <td>verde</td>\n",
              "      <td>quadrado</td>\n",
              "      <td>ondulada</td>\n",
              "      <td>desagradável</td>\n",
              "      <td>1</td>\n",
              "    </tr>\n",
              "    <tr>\n",
              "      <th>12</th>\n",
              "      <td>7</td>\n",
              "      <td>verde</td>\n",
              "      <td>quadrado</td>\n",
              "      <td>ondulada</td>\n",
              "      <td>agradável</td>\n",
              "      <td>1</td>\n",
              "    </tr>\n",
              "    <tr>\n",
              "      <th>13</th>\n",
              "      <td>11</td>\n",
              "      <td>verde</td>\n",
              "      <td>quadrado</td>\n",
              "      <td>ondulada</td>\n",
              "      <td>agradável</td>\n",
              "      <td>1</td>\n",
              "    </tr>\n",
              "    <tr>\n",
              "      <th>14</th>\n",
              "      <td>13</td>\n",
              "      <td>vermelho</td>\n",
              "      <td>quadrado</td>\n",
              "      <td>ondulada</td>\n",
              "      <td>agradável</td>\n",
              "      <td>1</td>\n",
              "    </tr>\n",
              "  </tbody>\n",
              "</table>\n",
              "</div>"
            ],
            "text/plain": [
              "    item       cor      forma   textura classificação  CONTADOR\n",
              "0     15      azul    círculo    áspera  desagradável         1\n",
              "1     10      azul   quadrado    áspera     agradável         1\n",
              "2     12      azul   quadrado    áspera     agradável         1\n",
              "3     14  vermelho   quadrado    áspera     agradável         1\n",
              "4      4      azul  triângulo    áspera     agradável         1\n",
              "5      3      azul    círculo     macia     agradável         1\n",
              "6      6      azul  triângulo     macia  desagradável         1\n",
              "7      8  vermelho  triângulo     macia  desagradável         1\n",
              "8      5      azul    círculo  ondulada     agradável         1\n",
              "9      2  vermelho    círculo  ondulada  desagradável         1\n",
              "10     9  vermelho    círculo  ondulada  desagradável         1\n",
              "11     1     verde   quadrado  ondulada  desagradável         1\n",
              "12     7     verde   quadrado  ondulada     agradável         1\n",
              "13    11     verde   quadrado  ondulada     agradável         1\n",
              "14    13  vermelho   quadrado  ondulada     agradável         1"
            ]
          },
          "metadata": {}
        }
      ]
    },
    {
      "cell_type": "code",
      "metadata": {
        "colab": {
          "base_uri": "https://localhost:8080/"
        },
        "id": "3LLDGQVSZz3-",
        "outputId": "27a93ec2-9405-4899-f0a4-0e47a75967ca"
      },
      "source": [
        "# colunas do arquivo\n",
        "arquivo.columns"
      ],
      "execution_count": 14,
      "outputs": [
        {
          "output_type": "execute_result",
          "data": {
            "text/plain": [
              "Index(['item', 'cor', 'forma', 'textura', 'classificação', 'CONTADOR'], dtype='object')"
            ]
          },
          "metadata": {},
          "execution_count": 14
        }
      ]
    },
    {
      "cell_type": "code",
      "metadata": {
        "colab": {
          "base_uri": "https://localhost:8080/"
        },
        "id": "KqlatEzjZ8Xl",
        "outputId": "c13e8f84-aa34-4095-e93f-b2a2e70624e4"
      },
      "source": [
        "# tipos das colunas do arquivo\n",
        "arquivo.dtypes"
      ],
      "execution_count": 15,
      "outputs": [
        {
          "output_type": "execute_result",
          "data": {
            "text/plain": [
              "item              int64\n",
              "cor              object\n",
              "forma            object\n",
              "textura          object\n",
              "classificação    object\n",
              "CONTADOR          int64\n",
              "dtype: object"
            ]
          },
          "metadata": {},
          "execution_count": 15
        }
      ]
    },
    {
      "cell_type": "code",
      "metadata": {
        "colab": {
          "base_uri": "https://localhost:8080/"
        },
        "id": "FPeU4Jd4ajXN",
        "outputId": "20048707-ba43-4b61-dddb-7cb2ae952acb"
      },
      "source": [
        "# Quantos itens total nós temos no arquivo\n",
        "total_itens = arquivo['CONTADOR'].value_counts()\n",
        "total_itens = int(total_itens)\n",
        "print(total_itens)\n",
        "print(total_itens)"
      ],
      "execution_count": 113,
      "outputs": [
        {
          "output_type": "stream",
          "name": "stdout",
          "text": [
            "15\n",
            "15\n"
          ]
        }
      ]
    },
    {
      "cell_type": "code",
      "metadata": {
        "colab": {
          "base_uri": "https://localhost:8080/"
        },
        "id": "kcAYde2WaKhN",
        "outputId": "d3dc5b62-39bf-4818-eb8a-1b0643c307f5"
      },
      "source": [
        "# Quantos do total é agradavel ?\n",
        "\n",
        "arquivo['classificação'].value_counts()\n",
        "\n",
        "#Ou seja 9 agradavel e 6 desagradavel"
      ],
      "execution_count": 59,
      "outputs": [
        {
          "output_type": "execute_result",
          "data": {
            "text/plain": [
              "agradável       9\n",
              "desagradável    6\n",
              "Name: classificação, dtype: int64"
            ]
          },
          "metadata": {},
          "execution_count": 59
        }
      ]
    },
    {
      "cell_type": "code",
      "metadata": {
        "colab": {
          "base_uri": "https://localhost:8080/"
        },
        "id": "KAR-pMWThJqL",
        "outputId": "7dfa18ba-34e3-45d5-e826-5d4e6cc94e94"
      },
      "source": [
        "# Quantos do total é agradavel ?\n",
        "\n",
        "total_agradavel = arquivo.loc[arquivo['classificação']=='agradável', 'CONTADOR'].sum()\n",
        "print(total_agradavel)\n"
      ],
      "execution_count": 80,
      "outputs": [
        {
          "output_type": "stream",
          "name": "stdout",
          "text": [
            "9\n"
          ]
        }
      ]
    },
    {
      "cell_type": "code",
      "metadata": {
        "colab": {
          "base_uri": "https://localhost:8080/"
        },
        "id": "LSdXj4YHlkwn",
        "outputId": "55be9d98-b91a-4e44-c480-049854f28334"
      },
      "source": [
        "# Qual é o percentual de agradavel do total de itens ?\n",
        "\n",
        "percentual_agradavel = (total_agradavel / total_itens)*100\n",
        "percentual_agradavel = float(percentual_agradavel)\n",
        " \n",
        "print(percentual_agradavel)"
      ],
      "execution_count": 126,
      "outputs": [
        {
          "output_type": "stream",
          "name": "stdout",
          "text": [
            "60.0\n"
          ]
        }
      ]
    },
    {
      "cell_type": "code",
      "metadata": {
        "colab": {
          "base_uri": "https://localhost:8080/"
        },
        "id": "aOwtK5NVmJ_W",
        "outputId": "53f5dd3f-1b15-448a-daf0-5a40ab3cbac1"
      },
      "source": [
        "#Quantos do azul é agradavel:\n",
        "\n",
        "total_azul_agradavel = arquivo.loc[(arquivo['cor']=='azul') & (arquivo['classificação'] == 'agradável'), 'CONTADOR'].sum()\n",
        "print(total_azul_agradavel)"
      ],
      "execution_count": 87,
      "outputs": [
        {
          "output_type": "stream",
          "name": "stdout",
          "text": [
            "5\n"
          ]
        }
      ]
    },
    {
      "cell_type": "code",
      "metadata": {
        "colab": {
          "base_uri": "https://localhost:8080/"
        },
        "id": "jh4PK2olnwVT",
        "outputId": "23a5f9b4-bdbf-43c4-ee8f-87659e3bee0e"
      },
      "source": [
        "# Qual é o total de azul\n",
        "\n",
        "total_azul = arquivo.loc[arquivo['cor']=='azul', 'CONTADOR'].sum()\n",
        "print(total_azul)"
      ],
      "execution_count": 89,
      "outputs": [
        {
          "output_type": "stream",
          "name": "stdout",
          "text": [
            "7\n"
          ]
        }
      ]
    },
    {
      "cell_type": "code",
      "metadata": {
        "colab": {
          "base_uri": "https://localhost:8080/"
        },
        "id": "ZhcK8LzuoRuC",
        "outputId": "5bb14078-45d6-4cf6-ba3f-766a3725437b"
      },
      "source": [
        "# Qual é o percentual de agradavel do total de azuis ?\n",
        "percentual_azuis = (total_azul_agradavel / total_azul ) * 100\n",
        "print(percentual_azuis)"
      ],
      "execution_count": 90,
      "outputs": [
        {
          "output_type": "stream",
          "name": "stdout",
          "text": [
            "71.42857142857143\n"
          ]
        }
      ]
    },
    {
      "cell_type": "code",
      "metadata": {
        "colab": {
          "base_uri": "https://localhost:8080/"
        },
        "id": "ZzAlVuPHojcB",
        "outputId": "9ab25c38-4c1f-4c3b-ac00-75e7ee5ccf1e"
      },
      "source": [
        "# Qual é o total de quadrados:\n",
        "total_quadrados = arquivo.loc[arquivo['forma']=='quadrado', 'CONTADOR'].sum()\n",
        "print(total_quadrados)\n"
      ],
      "execution_count": 91,
      "outputs": [
        {
          "output_type": "stream",
          "name": "stdout",
          "text": [
            "7\n"
          ]
        }
      ]
    },
    {
      "cell_type": "code",
      "metadata": {
        "colab": {
          "base_uri": "https://localhost:8080/"
        },
        "id": "vrzXrgCdoyqZ",
        "outputId": "311da06f-576d-43af-da2b-234d752b11fc"
      },
      "source": [
        "# Quantos do quadrado é agradavel\n",
        "total_quadrados_agradavel = arquivo.loc[(arquivo['forma']=='quadrado') & (arquivo['classificação'] == 'agradável'), 'CONTADOR'].sum()\n",
        "total_quadrados_agradavel = int(total_quadrados_agradavel)\n",
        "print(total_quadrados_agradavel)"
      ],
      "execution_count": 115,
      "outputs": [
        {
          "output_type": "stream",
          "name": "stdout",
          "text": [
            "6\n"
          ]
        }
      ]
    },
    {
      "cell_type": "code",
      "metadata": {
        "colab": {
          "base_uri": "https://localhost:8080/"
        },
        "id": "22WEIHCepDmI",
        "outputId": "c01c0a17-45b3-404e-bedc-be76387c41ea"
      },
      "source": [
        "# Qual é o percentual de quadrados que são agradavel\n",
        "percentual_quadrados_agradavel = (total_quadrados_agradavel / total_quadrados) * 100\n",
        "percentual_quadrados_agradavel = float(percentual_quadrados_agradavel)\n",
        "print(percentual_quadrados_agradavel)"
      ],
      "execution_count": 118,
      "outputs": [
        {
          "output_type": "stream",
          "name": "stdout",
          "text": [
            "85.71428571428571\n"
          ]
        }
      ]
    },
    {
      "cell_type": "code",
      "metadata": {
        "colab": {
          "base_uri": "https://localhost:8080/"
        },
        "id": "rfH2DBFqpTxw",
        "outputId": "54a3c8ae-c256-4f38-8547-ba8b588ae0ce"
      },
      "source": [
        "# Total de ondulada\n",
        "total_ondulada = arquivo.loc[arquivo['textura']=='ondulada', 'CONTADOR'].sum()\n",
        "print(total_ondulada)\n"
      ],
      "execution_count": 94,
      "outputs": [
        {
          "output_type": "stream",
          "name": "stdout",
          "text": [
            "7\n"
          ]
        }
      ]
    },
    {
      "cell_type": "code",
      "metadata": {
        "colab": {
          "base_uri": "https://localhost:8080/"
        },
        "id": "ygHm1xP5putQ",
        "outputId": "d2c3d0ba-936b-4213-f5f0-7e5df7229c38"
      },
      "source": [
        "# Quantos do ondulada são agradavel\n",
        "total_ondulada_agradavel = arquivo.loc[(arquivo['textura']=='ondulada') & (arquivo['classificação'] == 'agradável'), 'CONTADOR'].sum()\n",
        "print(total_ondulada_agradavel)"
      ],
      "execution_count": 95,
      "outputs": [
        {
          "output_type": "stream",
          "name": "stdout",
          "text": [
            "4\n"
          ]
        }
      ]
    },
    {
      "cell_type": "code",
      "metadata": {
        "colab": {
          "base_uri": "https://localhost:8080/"
        },
        "id": "V6Hf91kqp7cw",
        "outputId": "2ea2e0db-e90d-440f-9726-43e21ed10b35"
      },
      "source": [
        "# Percentual de agradavel dentro de ondulada\n",
        "percentual_ondulada_agradavel = (total_ondulada_agradavel / total_ondulada) * 100\n",
        "print(percentual_ondulada_agradavel)"
      ],
      "execution_count": 96,
      "outputs": [
        {
          "output_type": "stream",
          "name": "stdout",
          "text": [
            "57.14285714285714\n"
          ]
        }
      ]
    },
    {
      "cell_type": "code",
      "metadata": {
        "colab": {
          "base_uri": "https://localhost:8080/"
        },
        "id": "PliXFfiUqSF3",
        "outputId": "57eb35cc-3d2f-4eec-a266-42f8b0912daf"
      },
      "source": [
        "\n",
        "a = percentual_ondulada_agradavel / 100 \n",
        "b = percentual_quadrados_agradavel / 100 \n",
        "c = percentual_azuis / 100\n",
        "d = percentual_agradavel / 100\n",
        "\n",
        "tecnica_naive_bayes = (a*b*c*d) *100\n",
        "\n",
        "x = float(tecnica_naive_bayes)\n",
        "print('*'*20 + ' RESULTADO FINAL ' + '*'*20)\n",
        "print('O total de itens no relatório é de: {} itens'.format(total_itens))\n",
        "print('agradavel em cima do total de itens é: {:.2f}% ou seja temos {} itens agradavel'.format(percentual_agradavel, total_agradavel))\n",
        "print('\\n')\n",
        "print('O total de itens azul no relatório é de: {} itens'.format(total_azul))\n",
        "print('agradavel em cima do total de azul é: {:.2f}% ou seja temos {} itens agradavel'.format(percentual_azuis,total_azul_agradavel))\n",
        "print('\\n')\n",
        "print('O total de itens quadrados relatório é de: {} itens'.format(total_quadrados))\n",
        "print('agradavel em cima do total de quadrado é: {:.2f}% ou seja temos {} itens agradavel'.format(percentual_quadrados_agradavel,total_quadrados_agradavel))\n",
        "print('\\n')\n",
        "print('O total de itens ondulado no relatório é de: {} itens'.format(total_ondulada))\n",
        "print('agradavel em cima do total de onduladas é: {:.2f}% ou seja temos {} itens agradavel'.format(percentual_ondulada_agradavel, total_ondulada_agradavel))\n",
        "print('\\n')\n",
        "print('Baseando tecnica de Naive Bayes temos um total: {:.2f}% de probabilidade para AZUL + QUADRADO + ONDULADO serem AGRADAVEL'.format(x))"
      ],
      "execution_count": 140,
      "outputs": [
        {
          "output_type": "stream",
          "name": "stdout",
          "text": [
            "******************** RESULTADO FINAL ********************\n",
            "O total de itens no relatório é de: 15 itens\n",
            "agradavel em cima do total de itens é: 60.00% ou seja temos 9 itens agradavel\n",
            "\n",
            "\n",
            "O total de itens azul no relatório é de: 7 itens\n",
            "agradavel em cima do total de azul é: 71.43% ou seja temos 5 itens agradavel\n",
            "\n",
            "\n",
            "O total de itens quadrados relatório é de: 7 itens\n",
            "agradavel em cima do total de quadrado é: 85.71% ou seja temos 6 itens agradavel\n",
            "\n",
            "\n",
            "O total de itens ondulado no relatório é de: 7 itens\n",
            "agradavel em cima do total de onduladas é: 57.14% ou seja temos 4 itens agradavel\n",
            "\n",
            "\n",
            "Baseando tecnica de Naive Bayes temos um total: 20.99% de probabilidade para AZUL + QUADRADO + ONDULADO serem AGRADAVEL\n"
          ]
        }
      ]
    },
    {
      "cell_type": "markdown",
      "metadata": {
        "id": "k5Cjj7a7qLrP"
      },
      "source": [
        "**Outros**"
      ]
    },
    {
      "cell_type": "code",
      "metadata": {
        "colab": {
          "base_uri": "https://localhost:8080/"
        },
        "id": "4-0FmyMzbWw8",
        "outputId": "68983d26-002c-40c8-e24c-c5938718a919"
      },
      "source": [
        "#Filtrando apenas os agradaveis em cima do total // 9 ITENS\n",
        "agradavel = arquivo.query('classificação==\"agradável\"').value_counts()\n",
        "print(agradavel)\n"
      ],
      "execution_count": 81,
      "outputs": [
        {
          "output_type": "stream",
          "name": "stdout",
          "text": [
            "item  cor       forma      textura   classificação  CONTADOR\n",
            "14    vermelho  quadrado   áspera    agradável      1           1\n",
            "13    vermelho  quadrado   ondulada  agradável      1           1\n",
            "12    azul      quadrado   áspera    agradável      1           1\n",
            "11    verde     quadrado   ondulada  agradável      1           1\n",
            "10    azul      quadrado   áspera    agradável      1           1\n",
            "7     verde     quadrado   ondulada  agradável      1           1\n",
            "5     azul      círculo    ondulada  agradável      1           1\n",
            "4     azul      triângulo  áspera    agradável      1           1\n",
            "3     azul      círculo    macia     agradável      1           1\n",
            "dtype: int64\n"
          ]
        }
      ]
    },
    {
      "cell_type": "code",
      "metadata": {
        "colab": {
          "base_uri": "https://localhost:8080/"
        },
        "id": "rxJNhV2MeHP9",
        "outputId": "7be6d58a-d15f-40fa-9d64-4d1e27943a1e"
      },
      "source": [
        "#Filtrando do total de azul os agradaveis // 5 ITENS\n",
        "arquivo.loc[(arquivo['cor']=='azul') & (arquivo['classificação'] == 'agradável')].value_counts()\n",
        "       "
      ],
      "execution_count": 141,
      "outputs": [
        {
          "output_type": "execute_result",
          "data": {
            "text/plain": [
              "item  cor   forma      textura   classificação  CONTADOR\n",
              "12    azul  quadrado   áspera    agradável      1           1\n",
              "10    azul  quadrado   áspera    agradável      1           1\n",
              "5     azul  círculo    ondulada  agradável      1           1\n",
              "4     azul  triângulo  áspera    agradável      1           1\n",
              "3     azul  círculo    macia     agradável      1           1\n",
              "dtype: int64"
            ]
          },
          "metadata": {},
          "execution_count": 141
        }
      ]
    },
    {
      "cell_type": "code",
      "metadata": {
        "colab": {
          "base_uri": "https://localhost:8080/"
        },
        "id": "WtnLRq6L0sIW",
        "outputId": "0bedefe4-407b-43a5-9f78-92e5742bee17"
      },
      "source": [
        "#Filtrando do total de quadrados os agradaveis // 6 ITENS\n",
        "arquivo.loc[(arquivo['forma']=='quadrado') & (arquivo['classificação'] == 'agradável')].value_counts()"
      ],
      "execution_count": 143,
      "outputs": [
        {
          "output_type": "execute_result",
          "data": {
            "text/plain": [
              "item  cor       forma     textura   classificação  CONTADOR\n",
              "14    vermelho  quadrado  áspera    agradável      1           1\n",
              "13    vermelho  quadrado  ondulada  agradável      1           1\n",
              "12    azul      quadrado  áspera    agradável      1           1\n",
              "11    verde     quadrado  ondulada  agradável      1           1\n",
              "10    azul      quadrado  áspera    agradável      1           1\n",
              "7     verde     quadrado  ondulada  agradável      1           1\n",
              "dtype: int64"
            ]
          },
          "metadata": {},
          "execution_count": 143
        }
      ]
    },
    {
      "cell_type": "code",
      "metadata": {
        "colab": {
          "base_uri": "https://localhost:8080/"
        },
        "id": "di6Cr3sN07-e",
        "outputId": "44a1d547-131e-4bcc-e8b2-0df044710e4c"
      },
      "source": [
        "#Filtrando do total de onduladas os agradaveis // 4 ITENS\n",
        "arquivo.loc[(arquivo['textura']=='ondulada') & (arquivo['classificação'] == 'agradável')].value_counts()"
      ],
      "execution_count": 144,
      "outputs": [
        {
          "output_type": "execute_result",
          "data": {
            "text/plain": [
              "item  cor       forma     textura   classificação  CONTADOR\n",
              "13    vermelho  quadrado  ondulada  agradável      1           1\n",
              "11    verde     quadrado  ondulada  agradável      1           1\n",
              "7     verde     quadrado  ondulada  agradável      1           1\n",
              "5     azul      círculo   ondulada  agradável      1           1\n",
              "dtype: int64"
            ]
          },
          "metadata": {},
          "execution_count": 144
        }
      ]
    }
  ]
}