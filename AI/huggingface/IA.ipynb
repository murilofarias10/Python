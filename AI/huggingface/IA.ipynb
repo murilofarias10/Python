{
 "cells": [
  {
   "cell_type": "markdown",
   "id": "c79891d0",
   "metadata": {},
   "source": [
    "Create a Basic Code Agent with Web Search Capability.\n",
    "Assessment Criteria:\n",
    "Correct imports are included\n",
    "DuckDuckGoSearchTool is added to tools list\n",
    "HfApiModel is properly configured\n",
    "Model ID is correctly specified\n"
   ]
  },
  {
   "cell_type": "code",
   "execution_count": null,
   "id": "94454e83",
   "metadata": {},
   "outputs": [],
   "source": [
    "from smolagents import CodeAgent, DuckDuckGoSearchTool, HfApiModel\n",
    "\n",
    "model = HfApiModel(model_id=\"gpt2\")\n",
    "\n",
    "agent = CodeAgent(\n",
    "    tools=[DuckDuckGoSearchTool()],          \n",
    "    model=model          \n",
    ")\n"
   ]
  },
  {
   "cell_type": "markdown",
   "id": "502834ee",
   "metadata": {},
   "source": [
    "\n",
    "Set Up a Multi-Agent System with Manager and Web Search Agents\n",
    "Assessment Criteria:\n",
    "Web agent has correct tools configured\n",
    "Manager agent properly references web agent\n",
    "Appropriate max_steps value is set\n",
    "Required imports are authorized\n"
   ]
  },
  {
   "cell_type": "code",
   "execution_count": null,
   "id": "91c2b9d5",
   "metadata": {},
   "outputs": [],
   "source": [
    "from smolagents import  ToolCallingAgent, CodeAgent, DuckDuckGoSearchTool, HfApiModel\n",
    "\n",
    "model = HfApiModel(model_id=\"gpt2\")\n",
    "\n",
    "web_agent = ToolCallingAgent(\n",
    "    tools=[DuckDuckGoSearchTool()],     \n",
    "    model=model,  \n",
    "    max_steps=3,  \n",
    "    name=\"webresearch\", \n",
    "    description=\"You are expert in web research and will find good information\"     \n",
    ")\n",
    "\n",
    "manager_agent = CodeAgent(\n",
    "    tools=[web_agent], \n",
    "    model=model, \n",
    ")"
   ]
  },
  {
   "cell_type": "markdown",
   "id": "5b8c958a",
   "metadata": {},
   "source": [
    "Configure Agent Security Settings\n",
    "\n",
    "Assessment Criteria:\n",
    "E2B sandbox is properly configured\n",
    "Authorized imports are appropriately limited\n",
    "Security settings are correctly implemented\n",
    "Basic agent configuration is maintained"
   ]
  },
  {
   "cell_type": "code",
   "execution_count": null,
   "id": "218a2a0d",
   "metadata": {},
   "outputs": [],
   "source": [
    "from smolagents import CodeAgent, DuckDuckGoSearchTool, HfApiModel\n",
    "from smolagents.sandboxes import E2BCodeInterpreterSandbox\n",
    "\n",
    "model = HfApiModel(model_id=\"gpt2\")\n",
    "\n",
    "sandbox = E2BCodeInterpreterSandbox()\n",
    "\n",
    "agent = CodeAgent(\n",
    "    tools=[DuckDuckGoSearchTool()],\n",
    "    model=model,\n",
    "    sandbox=sandbox,\n",
    ")"
   ]
  }
 ],
 "metadata": {
  "kernelspec": {
   "display_name": "base",
   "language": "python",
   "name": "python3"
  },
  "language_info": {
   "codemirror_mode": {
    "name": "ipython",
    "version": 3
   },
   "file_extension": ".py",
   "mimetype": "text/x-python",
   "name": "python",
   "nbconvert_exporter": "python",
   "pygments_lexer": "ipython3",
   "version": "3.12.7"
  }
 },
 "nbformat": 4,
 "nbformat_minor": 5
}
