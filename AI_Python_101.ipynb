{
  "cells": [
    {
      "cell_type": "markdown",
      "metadata": {
        "id": "view-in-github",
        "colab_type": "text"
      },
      "source": [
        "<a href=\"https://colab.research.google.com/github/murilofarias10/Python/blob/main/AI_Python_101.ipynb\" target=\"_parent\"><img src=\"https://colab.research.google.com/assets/colab-badge.svg\" alt=\"Open In Colab\"/></a>"
      ]
    },
    {
      "cell_type": "markdown",
      "source": [
        "# 🎉 Welcome to the **AI Python 101 Course Coding Platform** 🚀  \n",
        "\n",
        "This is a **Google Colab Notebook** designed to help you **get warmed up with Python** and **execute code** effortlessly.  \n",
        "\n",
        "✅ **Run pre-written scripts** to practice Python fundamentals  \n",
        "✅ **Modify and experiment** with the code to deepen your understanding  \n",
        "✅ **Build confidence** in executing Python scripts  \n",
        "\n",
        "Simply click **Shift + Enter** to run each cell and start your Python journey.\n",
        "\n",
        "Happy coding! 🐍✨"
      ],
      "metadata": {
        "id": "382RovxWt4X0"
      }
    },
    {
      "cell_type": "code",
      "source": [
        "print(\"hello world\")"
      ],
      "metadata": {
        "colab": {
          "base_uri": "https://localhost:8080/"
        },
        "id": "lQptjW8I9U30",
        "outputId": "66bf1404-7e0a-4c79-93a1-feedff1cb48b"
      },
      "execution_count": null,
      "outputs": [
        {
          "output_type": "stream",
          "name": "stdout",
          "text": [
            "hello world\n"
          ]
        }
      ]
    },
    {
      "cell_type": "code",
      "source": [
        "print(3+6+9)"
      ],
      "metadata": {
        "id": "ULc_Tmyw55Aw",
        "outputId": "5042c3f8-5a87-40d9-b222-192a6527b348",
        "colab": {
          "base_uri": "https://localhost:8080/"
        }
      },
      "execution_count": null,
      "outputs": [
        {
          "output_type": "stream",
          "name": "stdout",
          "text": [
            "18\n"
          ]
        }
      ]
    },
    {
      "cell_type": "markdown",
      "source": [
        "## Poem Code"
      ],
      "metadata": {
        "id": "McpBFwL71lki"
      }
    },
    {
      "cell_type": "code",
      "source": [
        "print(\"\"\"\n",
        "The sun sets low, the sky ablaze,\n",
        "A whisper of night, in twilight's gaze.\n",
        "Stars appear, like scattered dreams,\n",
        "The world asleep, in moonlit beams.\n",
        "\"\"\")\n"
      ],
      "metadata": {
        "id": "f4S6DXj51nlh",
        "colab": {
          "base_uri": "https://localhost:8080/"
        },
        "outputId": "9c992f44-71f2-4dc1-a0e0-fe92a07eccfc"
      },
      "execution_count": 9,
      "outputs": [
        {
          "output_type": "stream",
          "name": "stdout",
          "text": [
            "\n",
            "The sun sets low, the sky ablaze,  \n",
            "A whisper of night, in twilight's gaze.  \n",
            "Stars appear, like scattered dreams,  \n",
            "The world asleep, in moonlit beams.  \n",
            "\n"
          ]
        }
      ]
    },
    {
      "cell_type": "markdown",
      "source": [
        "## A Python game like Rock, Paper, Scissors - Ask ChatGPT to create one for you and paste it here."
      ],
      "metadata": {
        "id": "UB1Hbfev37Z6"
      }
    },
    {
      "cell_type": "code",
      "source": [
        "## chatgpt code here\n",
        "\n",
        "import random\n",
        "\n",
        "choices = [\"rock\", \"paper\", \"scissors\"]\n",
        "\n",
        "while True:\n",
        "    user_choice = input(\"Choose rock, paper, or scissors (or 'quit' to exit): \").lower()\n",
        "\n",
        "    if user_choice == \"quit\":\n",
        "        print(\"Thanks for playing!\")\n",
        "        break\n",
        "\n",
        "    if user_choice not in choices:\n",
        "        print(\"Invalid choice. Please try again.\")\n",
        "        continue\n",
        "\n",
        "    computer_choice = random.choice(choices)\n",
        "    print(f\"Computer chose: {computer_choice}\")\n",
        "\n",
        "    if user_choice == computer_choice:\n",
        "        print(\"It's a tie!\")\n",
        "    elif (user_choice == \"rock\" and computer_choice == \"scissors\") or \\\n",
        "         (user_choice == \"scissors\" and computer_choice == \"paper\") or \\\n",
        "         (user_choice == \"paper\" and computer_choice == \"rock\"):\n",
        "        print(\"You win!\")\n",
        "    else:\n",
        "        print(\"You lose!\")\n",
        "\n"
      ],
      "metadata": {
        "colab": {
          "base_uri": "https://localhost:8080/"
        },
        "id": "rLsDVunL3jp4",
        "outputId": "d488cc60-8707-4974-eeb1-18cad319b7a7"
      },
      "execution_count": 10,
      "outputs": [
        {
          "output_type": "stream",
          "name": "stdout",
          "text": [
            "Choose rock, paper, or scissors (or 'quit' to exit): rock\n",
            "Computer chose: scissors\n",
            "You win!\n",
            "Choose rock, paper, or scissors (or 'quit' to exit): quit\n",
            "Thanks for playing!\n"
          ]
        }
      ]
    },
    {
      "cell_type": "markdown",
      "source": [
        "## What would happen if..."
      ],
      "metadata": {
        "id": "acmuylM6wzKS"
      }
    },
    {
      "cell_type": "code",
      "source": [
        "print(3 + 5 *1000000 + 5)"
      ],
      "metadata": {
        "id": "nbgHckAc16tt",
        "colab": {
          "base_uri": "https://localhost:8080/"
        },
        "outputId": "ca3c0bda-b4d4-4fe9-b89f-8d82be4f4aa5"
      },
      "execution_count": null,
      "outputs": [
        {
          "output_type": "stream",
          "name": "stdout",
          "text": [
            "5000008\n"
          ]
        }
      ]
    },
    {
      "cell_type": "markdown",
      "source": [
        "## What is this mystery algorithm??"
      ],
      "metadata": {
        "id": "2Hqmqlt6zA1c"
      }
    },
    {
      "cell_type": "code",
      "source": [
        "def mystery(n):\n",
        "    if n <= 0:\n",
        "        return 0\n",
        "    elif n == 1:\n",
        "        return 1\n",
        "    return mystery(n - 1) + mystery(n - 2)\n",
        "\n",
        "# Example usage\n",
        "print(mystery(10))  # Output: 55\n"
      ],
      "metadata": {
        "id": "AlrfU2MizA-P",
        "colab": {
          "base_uri": "https://localhost:8080/"
        },
        "outputId": "4346c7fa-9649-4809-fc54-b53a13c3db7b"
      },
      "execution_count": 7,
      "outputs": [
        {
          "output_type": "stream",
          "name": "stdout",
          "text": [
            "55\n"
          ]
        }
      ]
    },
    {
      "cell_type": "markdown",
      "source": [
        "## Why does the Geometric Series below output 2.0?"
      ],
      "metadata": {
        "id": "EnHdut0nzNor"
      }
    },
    {
      "cell_type": "code",
      "source": [
        "def geometric_series(a, r, n):\n",
        "    return a * (1 - r**n) / (1 - r) if abs(r) < 1 else None\n",
        "\n",
        "print(geometric_series(1, 0.5, 1000))  # Output: 2.0\n"
      ],
      "metadata": {
        "id": "q3v5tAXzzSmK",
        "colab": {
          "base_uri": "https://localhost:8080/"
        },
        "outputId": "2fa4d340-f4d8-4ba2-9e8b-31b2698846a6"
      },
      "execution_count": 8,
      "outputs": [
        {
          "output_type": "stream",
          "name": "stdout",
          "text": [
            "2.0\n"
          ]
        }
      ]
    },
    {
      "cell_type": "markdown",
      "source": [
        "## Code below doesn't work :("
      ],
      "metadata": {
        "id": "hoJYurUKznwq"
      }
    },
    {
      "cell_type": "code",
      "source": [
        "print(3 + 5 + 3)"
      ],
      "metadata": {
        "colab": {
          "base_uri": "https://localhost:8080/"
        },
        "id": "LLZ7gLLFzqgX",
        "outputId": "bd94b65d-33c0-4322-f3c6-fc84c4fbd71f"
      },
      "execution_count": 4,
      "outputs": [
        {
          "output_type": "stream",
          "name": "stdout",
          "text": [
            "11\n"
          ]
        }
      ]
    },
    {
      "cell_type": "markdown",
      "source": [
        "## Another Code that Doesn't Work :( :("
      ],
      "metadata": {
        "id": "yCxX_HF0zvhH"
      }
    },
    {
      "cell_type": "code",
      "source": [
        "# The big mystery: No matter which number you start with, this collatz sequence always reaches 1!\n",
        "def collatz_sequence(n):\n",
        "    sequence = [n]\n",
        "    while n != 1:\n",
        "        n = n // 2 if n % 2 == 0 else 3 * n + 1\n",
        "        sequence.append(n)\n",
        "    return sequence\n",
        "\n",
        "# Example usage\n",
        "num = 27  # Try with different numbers!\n",
        "sequence = collatz_sequence(num)\n",
        "print(f\"Collatz sequence for {num}: {sequence}\")\n",
        "print(f'Total steps:', {len(sequence) - 1})\n"
      ],
      "metadata": {
        "colab": {
          "base_uri": "https://localhost:8080/"
        },
        "id": "zXt0l3xgzyWw",
        "outputId": "bdadd519-b07d-41c5-81aa-e3e4bb119b74"
      },
      "execution_count": 6,
      "outputs": [
        {
          "output_type": "stream",
          "name": "stdout",
          "text": [
            "Collatz sequence for 27: [27, 82, 41, 124, 62, 31, 94, 47, 142, 71, 214, 107, 322, 161, 484, 242, 121, 364, 182, 91, 274, 137, 412, 206, 103, 310, 155, 466, 233, 700, 350, 175, 526, 263, 790, 395, 1186, 593, 1780, 890, 445, 1336, 668, 334, 167, 502, 251, 754, 377, 1132, 566, 283, 850, 425, 1276, 638, 319, 958, 479, 1438, 719, 2158, 1079, 3238, 1619, 4858, 2429, 7288, 3644, 1822, 911, 2734, 1367, 4102, 2051, 6154, 3077, 9232, 4616, 2308, 1154, 577, 1732, 866, 433, 1300, 650, 325, 976, 488, 244, 122, 61, 184, 92, 46, 23, 70, 35, 106, 53, 160, 80, 40, 20, 10, 5, 16, 8, 4, 2, 1]\n",
            "Total steps: {111}\n"
          ]
        }
      ]
    }
  ],
  "metadata": {
    "colab": {
      "provenance": [],
      "include_colab_link": true
    },
    "kernelspec": {
      "display_name": "Python 3",
      "language": "python",
      "name": "python3"
    },
    "language_info": {
      "codemirror_mode": {
        "name": "ipython",
        "version": 3
      },
      "file_extension": ".py",
      "mimetype": "text/x-python",
      "name": "python",
      "nbconvert_exporter": "python",
      "pygments_lexer": "ipython3",
      "version": "3.12.3"
    }
  },
  "nbformat": 4,
  "nbformat_minor": 0
}