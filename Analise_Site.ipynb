{
 "cells": [
  {
   "cell_type": "markdown",
   "metadata": {},
   "source": [
    "Dia 05/07/2024\n",
    "Utilizando Python para extrair textos de site"
   ]
  },
  {
   "cell_type": "markdown",
   "metadata": {},
   "source": [
    "Codigo 1:"
   ]
  },
  {
   "cell_type": "code",
   "execution_count": null,
   "metadata": {},
   "outputs": [],
   "source": [
    "import requests\n",
    "from bs4 import BeautifulSoup\n",
    "\n",
    "# URL do site\n",
    "url = 'https://onsafety.com.br/pgr/'\n",
    "\n",
    "# Headers para imitar uma requisição de navegador\n",
    "headers = {\n",
    "    'User-Agent': 'Mozilla/5.0 (Windows NT 10.0; Win64; x64) AppleWebKit/537.36 (KHTML, like Gecko) Chrome/91.0.4472.124 Safari/537.36'\n",
    "}\n",
    "\n",
    "# Realizar a requisição HTTP com headers\n",
    "response = requests.get(url, headers=headers)\n",
    "\n",
    "# Verificar se a requisição foi bem-sucedida\n",
    "if response.status_code == 200:\n",
    "    # Parsear o conteúdo HTML\n",
    "    soup = BeautifulSoup(response.content, 'html.parser')\n",
    "\n",
    "    # Extrair todos os textos do site\n",
    "    textos = soup.get_text()\n",
    "\n",
    "    # Exibir o texto extraído\n",
    "    print(textos)\n",
    "else:\n",
    "    print(\"Erro ao acessar a página:\", response.status_code)\n"
   ]
  },
  {
   "cell_type": "markdown",
   "metadata": {},
   "source": [
    "Codigo 2: Implementando planilha para salvar os dados"
   ]
  },
  {
   "cell_type": "code",
   "execution_count": 4,
   "metadata": {},
   "outputs": [
    {
     "name": "stdout",
     "output_type": "stream",
     "text": [
      "Planilha criada e salva em: C:\\Users\\MuriloFarias\\Downloads\\Extracao_PGR.xlsx\n"
     ]
    }
   ],
   "source": [
    "import requests\n",
    "from bs4 import BeautifulSoup\n",
    "import pandas as pd\n",
    "import os\n",
    "\n",
    "# URL do site\n",
    "url = 'https://onsafety.com.br/pgr/'\n",
    "\n",
    "# Headers para imitar uma requisição de navegador\n",
    "headers = {\n",
    "    'User-Agent': 'Mozilla/5.0 (Windows NT 10.0; Win64; x64) AppleWebKit/537.36 (KHTML, like Gecko) Chrome/91.0.4472.124 Safari/537.36'\n",
    "}\n",
    "\n",
    "# Realizar a requisição HTTP com headers\n",
    "response = requests.get(url, headers=headers)\n",
    "\n",
    "# Verificar se a requisição foi bem-sucedida\n",
    "if response.status_code == 200:\n",
    "    # Parsear o conteúdo HTML\n",
    "    soup = BeautifulSoup(response.content, 'html.parser')\n",
    "\n",
    "    # Encontrar todos os elementos de título e conteúdo\n",
    "    titulos = soup.find_all(class_='elementor-image-box-title')\n",
    "    conteudos = soup.find_all(class_='elementor-image-box-description')\n",
    "\n",
    "    # Extrair textos e armazenar em listas\n",
    "    lista_titulos = [titulo.get_text(strip=True) for titulo in titulos]\n",
    "    lista_conteudos = [conteudo.get_text(strip=True) for conteudo in conteudos]\n",
    "\n",
    "    # Criar DataFrame\n",
    "    df = pd.DataFrame({'TITULO': lista_titulos, 'CONTEUDO': lista_conteudos})\n",
    "\n",
    "    # Caminho para a pasta de Downloads\n",
    "    caminho_planilha = os.path.join(os.path.expanduser('~'), 'Downloads', 'Extracao_PGR.xlsx')\n",
    "    df.to_excel(caminho_planilha, index=False)\n",
    "\n",
    "    print(\"Planilha criada e salva em:\", caminho_planilha)\n",
    "else:\n",
    "    print(\"Erro ao acessar a página:\", response.status_code)\n"
   ]
  },
  {
   "cell_type": "markdown",
   "metadata": {},
   "source": [
    "Codigo 3: Modificando para ler um arquivo, identifcar os sites depois salvar em outro arquivo"
   ]
  }
 ],
 "metadata": {
  "kernelspec": {
   "display_name": "Python 3",
   "language": "python",
   "name": "python3"
  },
  "language_info": {
   "codemirror_mode": {
    "name": "ipython",
    "version": 3
   },
   "file_extension": ".py",
   "mimetype": "text/x-python",
   "name": "python",
   "nbconvert_exporter": "python",
   "pygments_lexer": "ipython3",
   "version": "3.11.4"
  }
 },
 "nbformat": 4,
 "nbformat_minor": 2
}
