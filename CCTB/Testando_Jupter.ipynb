{
 "cells": [
  {
   "cell_type": "code",
   "execution_count": 1,
   "id": "fab714a7-913a-4990-9c0f-b572c6e622d0",
   "metadata": {},
   "outputs": [
    {
     "name": "stdout",
     "output_type": "stream",
     "text": [
      "Agora vai\n"
     ]
    }
   ],
   "source": [
    "print('Agora vai')"
   ]
  },
  {
   "cell_type": "code",
   "execution_count": null,
   "id": "ce77a382-cffb-45fb-8495-0502e664e52d",
   "metadata": {},
   "outputs": [],
   "source": []
  }
 ],
 "metadata": {
  "kernelspec": {
   "display_name": "Python 3 (ipykernel)",
   "language": "python",
   "name": "python3"
  },
  "language_info": {
   "codemirror_mode": {
    "name": "ipython",
    "version": 3
   },
   "file_extension": ".py",
   "mimetype": "text/x-python",
   "name": "python",
   "nbconvert_exporter": "python",
   "pygments_lexer": "ipython3",
   "version": "3.12.7"
  }
 },
 "nbformat": 4,
 "nbformat_minor": 5
}
