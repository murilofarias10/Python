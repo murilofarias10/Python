{
  "cells": [
    {
      "cell_type": "code",
      "execution_count": 2,
      "metadata": {
        "colab": {
          "base_uri": "https://localhost:8080/"
        },
        "id": "ecFJ2Flos04c",
        "outputId": "d0e63c11-c3e6-4f74-e903-eec2414fc1c5"
      },
      "outputs": [
        {
          "name": "stdout",
          "output_type": "stream",
          "text": [
            "F-statistic = 162.21, p-value = 0.0000\n"
          ]
        }
      ],
      "source": [
        "#ANOVA\n",
        "import pandas as pd\n",
        "from scipy import stats\n",
        "data = pd.DataFrame({\n",
        "    'Campaign': ['A']*5 + ['B']*5 + ['C']*5,\n",
        "    'Conversions': [20, 22, 23, 24, 25, 28, 30, 29, 31, 32, 40, 42, 41, 43, 44]\n",
        "    })\n",
        "# Create a list of conversion groups by campaign\n",
        "groups = [data[data['Campaign'] == g]['Conversions'] for g in ['A', 'B', 'C']]\n",
        "\n",
        "# Perform one-way ANOVA\n",
        "f_stat, p_val = stats.f_oneway(*groups)\n",
        "\n",
        "print(f\"F-statistic = {f_stat:.2f}, p-value = {p_val:.4f}\")"
      ]
    },
    {
      "cell_type": "code",
      "execution_count": 3,
      "metadata": {
        "colab": {
          "base_uri": "https://localhost:8080/"
        },
        "id": "j18V30klu7Dh",
        "outputId": "c5a7ca08-8c53-4005-9ecb-f72fe961e358"
      },
      "outputs": [
        {
          "name": "stdout",
          "output_type": "stream",
          "text": [
            "Multiple Comparison of Means - Tukey HSD, FWER=0.05 \n",
            "====================================================\n",
            "group1 group2 meandiff p-adj   lower   upper  reject\n",
            "----------------------------------------------------\n",
            "     A      B      7.2 0.0001  4.3266 10.0734   True\n",
            "     A      C     19.2    0.0 16.3266 22.0734   True\n",
            "     B      C     12.0    0.0  9.1266 14.8734   True\n",
            "----------------------------------------------------\n"
          ]
        }
      ],
      "source": [
        "import statsmodels.api as sm\n",
        "from statsmodels.stats.multicomp import pairwise_tukeyhsd\n",
        "\n",
        "tukey = pairwise_tukeyhsd(data['Conversions'], data['Campaign'], alpha=0.05)\n",
        "\n",
        "print(tukey)"
      ]
    },
    {
      "cell_type": "code",
      "execution_count": 4,
      "metadata": {
        "colab": {
          "base_uri": "https://localhost:8080/"
        },
        "id": "wpFH9_r7y8nD",
        "outputId": "3eb26634-0f85-428d-a94b-8662a6768b68"
      },
      "outputs": [
        {
          "name": "stdout",
          "output_type": "stream",
          "text": [
            "                   Multivariate linear model\n",
            "================================================================\n",
            "                                                                \n",
            "----------------------------------------------------------------\n",
            "       Intercept          Value   Num DF Den DF  F Value  Pr > F\n",
            "----------------------------------------------------------------\n",
            "          Wilks' lambda    0.0009 2.0000 2.0000 1094.3333 0.0009\n",
            "         Pillai's trace    0.9991 2.0000 2.0000 1094.3333 0.0009\n",
            " Hotelling-Lawley trace 1094.3333 2.0000 1.0000  547.1667 0.0302\n",
            "    Roy's greatest root 1094.3333 2.0000 2.0000 1094.3333 0.0009\n",
            "----------------------------------------------------------------\n",
            "                                                                \n",
            "----------------------------------------------------------------\n",
            "            Campaign         Value  Num DF Den DF F Value Pr > F\n",
            "----------------------------------------------------------------\n",
            "              Wilks' lambda  0.0722 4.0000 4.0000  2.7218 0.1778\n",
            "             Pillai's trace  0.9332 4.0000 6.0000  1.3120 0.3642\n",
            "     Hotelling-Lawley trace 12.7778 4.0000 2.0000  3.1944 0.2524\n",
            "        Roy's greatest root 12.7720 2.0000 3.0000 19.1580 0.0196\n",
            "================================================================\n",
            "\n"
          ]
        }
      ],
      "source": [
        "#MANOVA\n",
        "from statsmodels.multivariate.manova import MANOVA\n",
        "\n",
        "df = pd.DataFrame({ 'Campaign': ['A','A','B','B','C','C'], 'Sales': [200,220,230,240,260,270], 'Profit': [45,46,48,50,52,54] })\n",
        "\n",
        "maov = MANOVA.from_formula('Sales + Profit ~ Campaign', data=df)\n",
        "\n",
        "print(maov.mv_test())"
      ]
    },
    {
      "cell_type": "code",
      "execution_count": 5,
      "metadata": {
        "colab": {
          "base_uri": "https://localhost:8080/"
        },
        "id": "bVnHeNCV69xG",
        "outputId": "829ec640-6aa2-4871-dfc3-9f04f76be2dd"
      },
      "outputs": [
        {
          "name": "stdout",
          "output_type": "stream",
          "text": [
            "                 sum_sq   df          F    PR(>F)\n",
            "C(Campaign)    8.571429  2.0   0.257143  0.795455\n",
            "Budget       266.666667  1.0  16.000000  0.057191\n",
            "Residual      33.333333  2.0        NaN       NaN\n"
          ]
        }
      ],
      "source": [
        "#ANCOVA\n",
        "import statsmodels.formula.api as smf\n",
        "\n",
        "df = pd.DataFrame({\n",
        "    'Campaign': ['A','A','B','B','C','C'],\n",
        "    'Sales': [200,220,230,240,260,270],\n",
        "    'Budget': [10,11,12,13,14,15]\n",
        "})\n",
        "\n",
        "model = smf.ols('Sales ~ C(Campaign) + Budget', data=df).fit()\n",
        "anova_table = sm.stats.anova_lm(model, typ=2) #typ=2 order doesnt matter\n",
        "print(anova_table)\n"
      ]
    },
    {
      "cell_type": "code",
      "execution_count": 9,
      "metadata": {
        "colab": {
          "base_uri": "https://localhost:8080/"
        },
        "id": "838p8MqpC1d4",
        "outputId": "22f4ef47-f03d-4166-8ac9-f3cf4d35b2fd"
      },
      "outputs": [
        {
          "name": "stdout",
          "output_type": "stream",
          "text": [
            "Sample Data:\n",
            "  Group  Score_Math  Score_English  StudyHours\n",
            "0     A          80             75           8\n",
            "1     A          85             80          10\n",
            "2     A          78             78           7\n",
            "3     A          90             82          12\n",
            "4     A          82             77           9\n",
            "5     B          88             85          14\n",
            "6     B          92             88          13\n",
            "7     B          85             84          11\n",
            "8     B          91             90          15\n",
            "9     B          87             86          12\n",
            "\n",
            "MANCOVA Results:\n",
            "                  Multivariate linear model\n",
            "=============================================================\n",
            "                                                             \n",
            "-------------------------------------------------------------\n",
            "       Intercept         Value  Num DF Den DF F Value  Pr > F\n",
            "-------------------------------------------------------------\n",
            "          Wilks' lambda  0.0138 2.0000 6.0000 214.2399 0.0000\n",
            "         Pillai's trace  0.9862 2.0000 6.0000 214.2399 0.0000\n",
            " Hotelling-Lawley trace 71.4133 2.0000 6.0000 214.2399 0.0000\n",
            "    Roy's greatest root 71.4133 2.0000 6.0000 214.2399 0.0000\n",
            "-------------------------------------------------------------\n",
            "                                                             \n",
            "-------------------------------------------------------------\n",
            "           Group          Value  Num DF Den DF F Value Pr > F\n",
            "-------------------------------------------------------------\n",
            "            Wilks' lambda 0.3759 2.0000 6.0000  4.9805 0.0531\n",
            "           Pillai's trace 0.6241 2.0000 6.0000  4.9805 0.0531\n",
            "   Hotelling-Lawley trace 1.6602 2.0000 6.0000  4.9805 0.0531\n",
            "      Roy's greatest root 1.6602 2.0000 6.0000  4.9805 0.0531\n",
            "-------------------------------------------------------------\n",
            "                                                             \n",
            "-------------------------------------------------------------\n",
            "         StudyHours       Value  Num DF Den DF F Value Pr > F\n",
            "-------------------------------------------------------------\n",
            "            Wilks' lambda 0.1995 2.0000 6.0000 12.0402 0.0079\n",
            "           Pillai's trace 0.8005 2.0000 6.0000 12.0402 0.0079\n",
            "   Hotelling-Lawley trace 4.0134 2.0000 6.0000 12.0402 0.0079\n",
            "      Roy's greatest root 4.0134 2.0000 6.0000 12.0402 0.0079\n",
            "=============================================================\n",
            "\n"
          ]
        }
      ],
      "source": [
        "# MANCOVA\n",
        "# Python MANCOVA demonstration\n",
        "import pandas as pd\n",
        "import numpy as np\n",
        "from statsmodels.multivariate.manova import MANOVA\n",
        "\n",
        "# -----------------------------\n",
        "# Create a sample dataset\n",
        "# -----------------------------\n",
        "np.random.seed(42)\n",
        "data = pd.DataFrame({\n",
        "    'Group': ['A']*5 + ['B']*5,\n",
        "    'Score_Math': [80, 85, 78, 90, 82, 88, 92, 85, 91, 87],\n",
        "    'Score_English': [75, 80, 78, 82, 77, 85, 88, 84, 90, 86],\n",
        "    'StudyHours': [8, 10, 7, 12, 9, 14, 13, 11, 15, 12]   # Continuous covariate\n",
        "})\n",
        "\n",
        "print(\"Sample Data:\")\n",
        "print(data)\n",
        "\n",
        "# -----------------------------\n",
        "# Run MANCOVA\n",
        "# -----------------------------\n",
        "# Formula: dependent variables ~ independent variable(s) + covariate(s)\n",
        "mancova = MANOVA.from_formula('Score_Math + Score_English ~ Group + StudyHours', data=data)\n",
        "result = mancova.mv_test()\n",
        "\n",
        "print(\"\\nMANCOVA Results:\")\n",
        "print(result)\n",
        "\n",
        "#Group INDEPENDET VARIABLE\n",
        "#Score_Math and Score_English DEPENDENT VARIABLES\n",
        "#StudyHours COVARIATE"
      ]
    },
    {
      "cell_type": "code",
      "execution_count": 10,
      "metadata": {},
      "outputs": [
        {
          "data": {
            "text/plain": [
              "<Axes: xlabel='Group', ylabel='StudyHours'>"
            ]
          },
          "execution_count": 10,
          "metadata": {},
          "output_type": "execute_result"
        },
        {
          "data": {
            "image/png": "[encoded data removed]",
            "text/plain": [
              "<Figure size 640x480 with 1 Axes>"
            ]
          },
          "metadata": {},
          "output_type": "display_data"
        }
      ],
      "source": [
        "import seaborn as sns\n",
        "sns.boxplot(x='Group', y='StudyHours', data=data)"
      ]
    }
  ],
  "metadata": {
    "colab": {
      "provenance": []
    },
    "kernelspec": {
      "display_name": "base",
      "language": "python",
      "name": "python3"
    },
    "language_info": {
      "codemirror_mode": {
        "name": "ipython",
        "version": 3
      },
      "file_extension": ".py",
      "mimetype": "text/x-python",
      "name": "python",
      "nbconvert_exporter": "python",
      "pygments_lexer": "ipython3",
      "version": "3.12.7"
    }
  },
  "nbformat": 4,
  "nbformat_minor": 0
}
