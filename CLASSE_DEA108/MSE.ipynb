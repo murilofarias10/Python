{
 "cells": [
  {
   "cell_type": "code",
   "execution_count": 1,
   "id": "d06faeb4-0a8c-49eb-b719-58e0809bd55f",
   "metadata": {},
   "outputs": [],
   "source": [
    "import numpy as np\n",
    "from sklearn.metrics import mean_squared_error"
   ]
  },
  {
   "cell_type": "code",
   "execution_count": 2,
   "id": "205f31ec-b257-4d18-803c-8ef24ab08e05",
   "metadata": {},
   "outputs": [],
   "source": [
    "y_true = np.array([2, 4, 5, 7, 9])\n",
    "y_pred = np.array([2, 3, 5, 8, 10])"
   ]
  },
  {
   "cell_type": "code",
   "execution_count": 3,
   "id": "9475b44b-6f8e-4e49-bbfb-fcba53961357",
   "metadata": {},
   "outputs": [
    {
     "name": "stdout",
     "output_type": "stream",
     "text": [
      "Mean Squared Error: 0.6\n"
     ]
    }
   ],
   "source": [
    "mse = mean_squared_error(y_true, y_pred)\n",
    "print(\"Mean Squared Error:\", mse)"
   ]
  },
  {
   "cell_type": "code",
   "execution_count": null,
   "id": "3a939252-7b3b-4251-b1ad-67a8ca230c3a",
   "metadata": {},
   "outputs": [],
   "source": []
  }
 ],
 "metadata": {
  "kernelspec": {
   "display_name": "Python 3 (ipykernel)",
   "language": "python",
   "name": "python3"
  },
  "language_info": {
   "codemirror_mode": {
    "name": "ipython",
    "version": 3
   },
   "file_extension": ".py",
   "mimetype": "text/x-python",
   "name": "python",
   "nbconvert_exporter": "python",
   "pygments_lexer": "ipython3",
   "version": "3.12.7"
  }
 },
 "nbformat": 4,
 "nbformat_minor": 5
}
