{
  "cells": [
    {
      "cell_type": "code",
      "execution_count": null,
      "metadata": {
        "colab": {
          "base_uri": "https://localhost:8080/",
          "height": 72
        },
        "id": "fgDVyZxtZf5N",
        "outputId": "89f066b1-c74e-4eba-a21a-176a921379a0"
      },
      "outputs": [],
      "source": [
        "# =========================================\n",
        "# MANCOVA with multiple covariates\n",
        "# Dataset: adult_combined.xlsx\n",
        "# =========================================\n",
        "\n",
        "# --- STEP 1: Upload the Excel file ---\n",
        "from google.colab import files\n",
        "uploaded = files.upload()"
      ]
    },
    {
      "cell_type": "code",
      "execution_count": 1,
      "metadata": {
        "id": "kog4rAzxZk71"
      },
      "outputs": [],
      "source": [
        "# --- STEP 2: Install and import required libraries ---\n",
        "!pip install pingouin seaborn matplotlib --quiet\n",
        "import pandas as pd\n",
        "import pingouin as pg\n",
        "import seaborn as sns\n",
        "import matplotlib.pyplot as plt\n",
        "import statsmodels.api as sm\n",
        "from statsmodels.multivariate.manova import MANOVA"
      ]
    },
    {
      "cell_type": "code",
      "execution_count": 2,
      "metadata": {
        "colab": {
          "base_uri": "https://localhost:8080/"
        },
        "id": "m9p3LkzKZuXw",
        "outputId": "86495fea-35bd-4b36-cf20-89fc57bca482"
      },
      "outputs": [
        {
          "name": "stdout",
          "output_type": "stream",
          "text": [
            "Data loaded successfully!\n",
            "   age         workclass  fnlwgt  education  education_num  \\\n",
            "0   39         State-gov   77516  Bachelors             13   \n",
            "1   50  Self-emp-not-inc   83311  Bachelors             13   \n",
            "2   38           Private  215646    HS-grad              9   \n",
            "3   53           Private  234721       11th              7   \n",
            "4   28           Private  338409  Bachelors             13   \n",
            "\n",
            "       marital_status         occupation   relationship   race     sex  \\\n",
            "0       Never-married       Adm-clerical  Not-in-family  White    Male   \n",
            "1  Married-civ-spouse    Exec-managerial        Husband  White    Male   \n",
            "2            Divorced  Handlers-cleaners  Not-in-family  White    Male   \n",
            "3  Married-civ-spouse  Handlers-cleaners        Husband  Black    Male   \n",
            "4  Married-civ-spouse     Prof-specialty           Wife  Black  Female   \n",
            "\n",
            "   capital_gain  capital_loss  hours_per_week native_country income  \n",
            "0          2174             0              40  United-States  <=50K  \n",
            "1             0             0              13  United-States  <=50K  \n",
            "2             0             0              40  United-States  <=50K  \n",
            "3             0             0              40  United-States  <=50K  \n",
            "4             0             0              40           Cuba  <=50K  \n"
          ]
        }
      ],
      "source": [
        "# --- STEP 3: Read and view the Excel file ---\n",
        "\n",
        "df = pd.read_excel('adult_combined.xlsx')  # make sure the filename matches\n",
        "print(\"Data loaded successfully!\")\n",
        "print(df.head())"
      ]
    },
    {
      "cell_type": "code",
      "execution_count": 3,
      "metadata": {
        "colab": {
          "base_uri": "https://localhost:8080/",
          "height": 545
        },
        "id": "adpL06yaZ-6V",
        "outputId": "45af324b-2c35-4e2c-e3ed-5bb74476090c"
      },
      "outputs": [
        {
          "data": {
            "image/png": "[encoded data removed]",
            "text/plain": [
              "<Figure size 800x600 with 2 Axes>"
            ]
          },
          "metadata": {},
          "output_type": "display_data"
        }
      ],
      "source": [
        "# --- STEP 4: Visualize covariates using a heatmap ---\n",
        "covariates = ['education_num', 'fnlwgt']\n",
        "plt.figure(figsize=(8,6))\n",
        "sns.heatmap(df[covariates].corr(), annot=True, fmt=\".2f\", cmap='coolwarm')\n",
        "plt.title(\"Correlation Heatmap of Covariates\")\n",
        "plt.show()"
      ]
    },
    {
      "cell_type": "code",
      "execution_count": 4,
      "metadata": {
        "id": "29QLwZzRaE_q"
      },
      "outputs": [],
      "source": [
        "\n",
        "# --- STEP 5: Split data into train/test if needed (optional) ---\n",
        "from sklearn.model_selection import train_test_split\n",
        "train_df, test_df = train_test_split(df, test_size=0.3, random_state=42)"
      ]
    },
    {
      "cell_type": "code",
      "execution_count": 5,
      "metadata": {
        "colab": {
          "base_uri": "https://localhost:8080/"
        },
        "id": "710OE8OvaOjH",
        "outputId": "c4aacdf0-08f1-4c35-eadb-ddd50aed8703"
      },
      "outputs": [
        {
          "name": "stdout",
          "output_type": "stream",
          "text": [
            "\n",
            "MANCOVA Results:\n",
            "                    Multivariate linear model\n",
            "=================================================================\n",
            "                                                                 \n",
            "-----------------------------------------------------------------\n",
            "       Intercept        Value  Num DF   Den DF    F Value  Pr > F\n",
            "-----------------------------------------------------------------\n",
            "          Wilks' lambda 0.6125 4.0000 34182.0000 5406.0506 0.0000\n",
            "         Pillai's trace 0.3875 4.0000 34182.0000 5406.0506 0.0000\n",
            " Hotelling-Lawley trace 0.6326 4.0000 34182.0000 5406.0506 0.0000\n",
            "    Roy's greatest root 0.6326 4.0000 34182.0000 5406.0506 0.0000\n",
            "-----------------------------------------------------------------\n",
            "                                                                 \n",
            "-----------------------------------------------------------------\n",
            "           sex           Value  Num DF   Den DF   F Value  Pr > F\n",
            "-----------------------------------------------------------------\n",
            "           Wilks' lambda 0.9402 4.0000 34182.0000 543.1562 0.0000\n",
            "          Pillai's trace 0.0598 4.0000 34182.0000 543.1562 0.0000\n",
            "  Hotelling-Lawley trace 0.0636 4.0000 34182.0000 543.1562 0.0000\n",
            "     Roy's greatest root 0.0636 4.0000 34182.0000 543.1562 0.0000\n",
            "-----------------------------------------------------------------\n",
            "                                                                 \n",
            "-----------------------------------------------------------------\n",
            "      education_num      Value  Num DF   Den DF   F Value  Pr > F\n",
            "-----------------------------------------------------------------\n",
            "           Wilks' lambda 0.9602 4.0000 34182.0000 354.2081 0.0000\n",
            "          Pillai's trace 0.0398 4.0000 34182.0000 354.2081 0.0000\n",
            "  Hotelling-Lawley trace 0.0414 4.0000 34182.0000 354.2081 0.0000\n",
            "     Roy's greatest root 0.0414 4.0000 34182.0000 354.2081 0.0000\n",
            "-----------------------------------------------------------------\n",
            "                                                                 \n",
            "-----------------------------------------------------------------\n",
            "           fnlwgt         Value  Num DF   Den DF   F Value Pr > F\n",
            "-----------------------------------------------------------------\n",
            "            Wilks' lambda 0.9928 4.0000 34182.0000 61.7705 0.0000\n",
            "           Pillai's trace 0.0072 4.0000 34182.0000 61.7705 0.0000\n",
            "   Hotelling-Lawley trace 0.0072 4.0000 34182.0000 61.7705 0.0000\n",
            "      Roy's greatest root 0.0072 4.0000 34182.0000 61.7705 0.0000\n",
            "=================================================================\n",
            "\n"
          ]
        }
      ],
      "source": [
        "\n",
        "# --- STEP 7: PERFORM MANCOVA ---\n",
        "# Define dependent variables and covariates in formula\n",
        "# Example: Dependent Variables = age + hours_per_week +  capital_gain + capital_loss\n",
        "# Independet Variables = sex\n",
        "# Covariates = education_num + fnlwgt\n",
        "formula = 'age + hours_per_week +  capital_gain + capital_loss ~ sex + education_num + fnlwgt'\n",
        "\n",
        "# Fit MANOVA\n",
        "maov = MANOVA.from_formula(formula, data=train_df)\n",
        "print(\"\\nMANCOVA Results:\")\n",
        "print(maov.mv_test())"
      ]
    },
    {
      "cell_type": "code",
      "execution_count": null,
      "metadata": {
        "colab": {
          "base_uri": "https://localhost:8080/"
        },
        "id": "oZMZDGTDZb5l",
        "outputId": "68137fd7-ba29-43b2-d3d2-6dab09c6c30b"
      },
      "outputs": [
        {
          "name": "stdout",
          "output_type": "stream",
          "text": [
            "\n",
            "Post-hoc ANCOVA for age:\n",
            "\n",
            "Tukey HSD post-hoc for age:\n",
            "\n",
            " Multiple Comparison of Means - Tukey HSD, FWER=0.05\n",
            "=================================================\n",
            "group1 group2 meandiff p-adj lower  upper  reject\n",
            "-------------------------------------------------\n",
            "Female   Male   2.6184   0.0 2.3102 2.9267   True\n",
            "------------------------------------------------- \n",
            "\n",
            "\n",
            "Post-hoc ANCOVA for hours_per_week:\n",
            "\n",
            "Tukey HSD post-hoc for hours_per_week:\n",
            "\n",
            " Multiple Comparison of Means - Tukey HSD, FWER=0.05\n",
            "================================================\n",
            "group1 group2 meandiff p-adj lower  upper reject\n",
            "------------------------------------------------\n",
            "Female   Male   5.9548   0.0 5.6836 6.226   True\n",
            "------------------------------------------------ \n",
            "\n",
            "\n",
            "Post-hoc ANCOVA for capital_gain:\n",
            "\n",
            "Tukey HSD post-hoc for capital_gain:\n",
            "\n",
            "  Multiple Comparison of Means - Tukey HSD, FWER=0.05 \n",
            "=====================================================\n",
            "group1 group2 meandiff p-adj  lower    upper   reject\n",
            "-----------------------------------------------------\n",
            "Female   Male   745.23   0.0 579.4004 911.0596   True\n",
            "----------------------------------------------------- \n",
            "\n",
            "\n",
            "Post-hoc ANCOVA for capital_loss:\n",
            "\n",
            "Tukey HSD post-hoc for capital_loss:\n",
            "\n",
            " Multiple Comparison of Means - Tukey HSD, FWER=0.05\n",
            "===================================================\n",
            "group1 group2 meandiff p-adj  lower   upper  reject\n",
            "---------------------------------------------------\n",
            "Female   Male  37.6291   0.0 28.5565 46.7018   True\n",
            "--------------------------------------------------- \n",
            "\n"
          ]
        }
      ],
      "source": [
        "\n",
        "\n",
        "# --- STEP 8: Post-hoc (if needed) ---\n",
        "# Define your dependent variables and independent variable\n",
        "DVs = ['age', 'hours_per_week', 'capital_gain', 'capital_loss']  # replace with your actual dependent variable column names\n",
        "IV = 'sex'  # your independent variable\n",
        "covariates = ['education_num', 'fnlwgt']  # your covariates\n",
        "\n",
        "from pingouin import ancova\n",
        "from statsmodels.stats.multicomp import pairwise_tukeyhsd\n",
        "\n",
        "for dv in DVs:\n",
        "    print(f\"\\nPost-hoc ANCOVA for {dv}:\")\n",
        "\n",
        "    # Run univariate ANCOVA\n",
        "    ancova_res = pg.ancova(dv=dv, between=IV, covar=covariates, data=train_df)\n",
        "    #print(ancova_res)\n",
        "\n",
        "    # If ANCOVA is significant, run Tukey HSD\n",
        "    if ancova_res['p-unc'][0] < 0.05:\n",
        "        print(f\"\\nTukey HSD post-hoc for {dv}:\")\n",
        "        tukey = pairwise_tukeyhsd(endog=train_df[dv],\n",
        "                                  groups=train_df[IV],\n",
        "                                  alpha=0.05)\n",
        "        print(\"\\n\", tukey.summary(), \"\\n\")\n",
        "\n",
        "#reject = true is when they are significantly different\n",
        "#which means that the independent variable has a significant effect on the dependent variable after controlling for covariates"
      ]
    },
    {
      "cell_type": "code",
      "execution_count": null,
      "metadata": {
        "id": "1BkHgLC9awG3"
      },
      "outputs": [],
      "source": []
    }
  ],
  "metadata": {
    "colab": {
      "provenance": []
    },
    "kernelspec": {
      "display_name": "base",
      "language": "python",
      "name": "python3"
    },
    "language_info": {
      "codemirror_mode": {
        "name": "ipython",
        "version": 3
      },
      "file_extension": ".py",
      "mimetype": "text/x-python",
      "name": "python",
      "nbconvert_exporter": "python",
      "pygments_lexer": "ipython3",
      "version": "3.12.7"
    }
  },
  "nbformat": 4,
  "nbformat_minor": 0
}
