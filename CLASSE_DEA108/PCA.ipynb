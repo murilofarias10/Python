{
  "cells": [
    {
      "cell_type": "code",
      "execution_count": 1,
      "metadata": {
        "id": "JFaD-q8pPQ3F"
      },
      "outputs": [],
      "source": [
        "# ============================================================\n",
        "# PCA on California Housing Dataset (Google Colab Version)\n",
        "# ============================================================\n",
        "\n",
        "# Step 1: Upload the dataset to Google Colab\n",
        "#from google.colab import files\n",
        "import io\n",
        "import pandas as pd\n",
        "import numpy as np\n",
        "from sklearn.model_selection import train_test_split\n",
        "from sklearn.preprocessing import StandardScaler\n",
        "from sklearn.decomposition import PCA\n",
        "import matplotlib.pyplot as plt"
      ]
    },
    {
      "cell_type": "code",
      "execution_count": 5,
      "metadata": {
        "colab": {
          "base_uri": "https://localhost:8080/",
          "height": 144
        },
        "id": "BVPegbejPWeS",
        "outputId": "bf3312b0-8b2b-446f-bb6f-1c0dd2315a53"
      },
      "outputs": [],
      "source": [
        "# ------------------------------------------\n",
        "# Upload CSV file from your computer\n",
        "# ------------------------------------------\n",
        "#uploaded = files.upload()\n",
        "#filename = list(uploaded.keys())[0]  # get uploaded filename\n",
        "#data = pd.read_csv(io.BytesIO(uploaded[filename]))\n",
        "data = pd.read_csv('californiahousing.csv')\n",
        "#print(\"File uploaded successfully!\")\n",
        "#print(f\"Dataset shape: {data.shape}\")\n",
        "#print(\"Columns:\", list(data.columns))"
      ]
    },
    {
      "cell_type": "code",
      "execution_count": 6,
      "metadata": {
        "colab": {
          "base_uri": "https://localhost:8080/"
        },
        "id": "TnfRm86oPazu",
        "outputId": "6b699d42-c4fe-4b98-8ba2-3fe5c35b22c1"
      },
      "outputs": [
        {
          "name": "stdout",
          "output_type": "stream",
          "text": [
            "\n",
            "Checking for missing values...\n",
            "longitude               0\n",
            "latitude                0\n",
            "housing_median_age      0\n",
            "total_rooms             0\n",
            "total_bedrooms        207\n",
            "population              0\n",
            "households              0\n",
            "median_income           0\n",
            "median_house_value      0\n",
            "ocean_proximity         0\n",
            "dtype: int64\n",
            "longitude             0\n",
            "latitude              0\n",
            "housing_median_age    0\n",
            "total_rooms           0\n",
            "total_bedrooms        0\n",
            "population            0\n",
            "households            0\n",
            "median_income         0\n",
            "median_house_value    0\n",
            "ocean_proximity       0\n",
            "dtype: int64\n",
            "\n",
            "Missing values handled (filled with column means).\n"
          ]
        }
      ],
      "source": [
        "# ----------------------------------------------\n",
        "# Step 2: Handle missing values\n",
        "# ----------------------------------------------\n",
        "print(\"\\nChecking for missing values...\")\n",
        "print(data.isnull().sum())\n",
        "\n",
        "# Fill missing numeric values with the mean of their column\n",
        "data = data.fillna(data.mean(numeric_only=True))\n",
        "print(data.isnull().sum())\n",
        "print(\"\\nMissing values handled (filled with column means).\")"
      ]
    },
    {
      "cell_type": "code",
      "execution_count": 7,
      "metadata": {
        "colab": {
          "base_uri": "https://localhost:8080/",
          "height": 243
        },
        "id": "pRmorLbKP6lt",
        "outputId": "8b7a829b-8d51-447a-afa6-257d8c288d38"
      },
      "outputs": [
        {
          "data": {
            "text/html": [
              "<div>\n",
              "<style scoped>\n",
              "    .dataframe tbody tr th:only-of-type {\n",
              "        vertical-align: middle;\n",
              "    }\n",
              "\n",
              "    .dataframe tbody tr th {\n",
              "        vertical-align: top;\n",
              "    }\n",
              "\n",
              "    .dataframe thead th {\n",
              "        text-align: right;\n",
              "    }\n",
              "</style>\n",
              "<table border=\"1\" class=\"dataframe\">\n",
              "  <thead>\n",
              "    <tr style=\"text-align: right;\">\n",
              "      <th></th>\n",
              "      <th>longitude</th>\n",
              "      <th>latitude</th>\n",
              "      <th>housing_median_age</th>\n",
              "      <th>total_rooms</th>\n",
              "      <th>total_bedrooms</th>\n",
              "      <th>population</th>\n",
              "      <th>households</th>\n",
              "      <th>median_income</th>\n",
              "      <th>median_house_value</th>\n",
              "      <th>ocean_proximity_INLAND</th>\n",
              "      <th>ocean_proximity_ISLAND</th>\n",
              "      <th>ocean_proximity_NEAR BAY</th>\n",
              "      <th>ocean_proximity_NEAR OCEAN</th>\n",
              "    </tr>\n",
              "  </thead>\n",
              "  <tbody>\n",
              "    <tr>\n",
              "      <th>0</th>\n",
              "      <td>-122.23</td>\n",
              "      <td>37.88</td>\n",
              "      <td>41</td>\n",
              "      <td>880</td>\n",
              "      <td>129.0</td>\n",
              "      <td>322</td>\n",
              "      <td>126</td>\n",
              "      <td>8.3252</td>\n",
              "      <td>452600</td>\n",
              "      <td>0</td>\n",
              "      <td>0</td>\n",
              "      <td>1</td>\n",
              "      <td>0</td>\n",
              "    </tr>\n",
              "    <tr>\n",
              "      <th>1</th>\n",
              "      <td>-122.22</td>\n",
              "      <td>37.86</td>\n",
              "      <td>21</td>\n",
              "      <td>7099</td>\n",
              "      <td>1106.0</td>\n",
              "      <td>2401</td>\n",
              "      <td>1138</td>\n",
              "      <td>8.3014</td>\n",
              "      <td>358500</td>\n",
              "      <td>0</td>\n",
              "      <td>0</td>\n",
              "      <td>1</td>\n",
              "      <td>0</td>\n",
              "    </tr>\n",
              "    <tr>\n",
              "      <th>2</th>\n",
              "      <td>-122.24</td>\n",
              "      <td>37.85</td>\n",
              "      <td>52</td>\n",
              "      <td>1467</td>\n",
              "      <td>190.0</td>\n",
              "      <td>496</td>\n",
              "      <td>177</td>\n",
              "      <td>7.2574</td>\n",
              "      <td>352100</td>\n",
              "      <td>0</td>\n",
              "      <td>0</td>\n",
              "      <td>1</td>\n",
              "      <td>0</td>\n",
              "    </tr>\n",
              "    <tr>\n",
              "      <th>3</th>\n",
              "      <td>-122.25</td>\n",
              "      <td>37.85</td>\n",
              "      <td>52</td>\n",
              "      <td>1274</td>\n",
              "      <td>235.0</td>\n",
              "      <td>558</td>\n",
              "      <td>219</td>\n",
              "      <td>5.6431</td>\n",
              "      <td>341300</td>\n",
              "      <td>0</td>\n",
              "      <td>0</td>\n",
              "      <td>1</td>\n",
              "      <td>0</td>\n",
              "    </tr>\n",
              "    <tr>\n",
              "      <th>4</th>\n",
              "      <td>-122.25</td>\n",
              "      <td>37.85</td>\n",
              "      <td>52</td>\n",
              "      <td>1627</td>\n",
              "      <td>280.0</td>\n",
              "      <td>565</td>\n",
              "      <td>259</td>\n",
              "      <td>3.8462</td>\n",
              "      <td>342200</td>\n",
              "      <td>0</td>\n",
              "      <td>0</td>\n",
              "      <td>1</td>\n",
              "      <td>0</td>\n",
              "    </tr>\n",
              "  </tbody>\n",
              "</table>\n",
              "</div>"
            ],
            "text/plain": [
              "   longitude  latitude  housing_median_age  total_rooms  total_bedrooms  \\\n",
              "0    -122.23     37.88                  41          880           129.0   \n",
              "1    -122.22     37.86                  21         7099          1106.0   \n",
              "2    -122.24     37.85                  52         1467           190.0   \n",
              "3    -122.25     37.85                  52         1274           235.0   \n",
              "4    -122.25     37.85                  52         1627           280.0   \n",
              "\n",
              "   population  households  median_income  median_house_value  \\\n",
              "0         322         126         8.3252              452600   \n",
              "1        2401        1138         8.3014              358500   \n",
              "2         496         177         7.2574              352100   \n",
              "3         558         219         5.6431              341300   \n",
              "4         565         259         3.8462              342200   \n",
              "\n",
              "   ocean_proximity_INLAND  ocean_proximity_ISLAND  ocean_proximity_NEAR BAY  \\\n",
              "0                       0                       0                         1   \n",
              "1                       0                       0                         1   \n",
              "2                       0                       0                         1   \n",
              "3                       0                       0                         1   \n",
              "4                       0                       0                         1   \n",
              "\n",
              "   ocean_proximity_NEAR OCEAN  \n",
              "0                           0  \n",
              "1                           0  \n",
              "2                           0  \n",
              "3                           0  \n",
              "4                           0  "
            ]
          },
          "execution_count": 7,
          "metadata": {},
          "output_type": "execute_result"
        }
      ],
      "source": [
        "# ----------------------------------------------\n",
        "# Step 3: Handle categorical data (ocean_proximity)\n",
        "# ----------------------------------------------\n",
        "# Convert the 'ocean_proximity' column (text) into numeric form\n",
        "# using one-hot encoding (it creates separate columns for each category)\n",
        "data_encoded = pd.get_dummies(data, columns=['ocean_proximity'], drop_first=True)\n",
        "\n",
        "# Use the following 2 lines if you want to see 0 and 1 in the DataFrame instead of False/True. Convert only dummy columns to int\n",
        "dummy_cols = data_encoded.columns[data_encoded.dtypes == 'bool']\n",
        "data_encoded[dummy_cols] = data_encoded[dummy_cols].astype(int)\n",
        "\n",
        "# Check dataframe now\n",
        "data_encoded.head()"
      ]
    },
    {
      "cell_type": "code",
      "execution_count": 8,
      "metadata": {
        "colab": {
          "base_uri": "https://localhost:8080/",
          "height": 243
        },
        "id": "l826FJA-P8g8",
        "outputId": "4a80bc68-112d-4745-a5c2-6da705a79c64"
      },
      "outputs": [
        {
          "data": {
            "text/html": [
              "<div>\n",
              "<style scoped>\n",
              "    .dataframe tbody tr th:only-of-type {\n",
              "        vertical-align: middle;\n",
              "    }\n",
              "\n",
              "    .dataframe tbody tr th {\n",
              "        vertical-align: top;\n",
              "    }\n",
              "\n",
              "    .dataframe thead th {\n",
              "        text-align: right;\n",
              "    }\n",
              "</style>\n",
              "<table border=\"1\" class=\"dataframe\">\n",
              "  <thead>\n",
              "    <tr style=\"text-align: right;\">\n",
              "      <th></th>\n",
              "      <th>longitude</th>\n",
              "      <th>latitude</th>\n",
              "      <th>housing_median_age</th>\n",
              "      <th>total_rooms</th>\n",
              "      <th>total_bedrooms</th>\n",
              "      <th>population</th>\n",
              "      <th>households</th>\n",
              "      <th>median_income</th>\n",
              "      <th>median_house_value</th>\n",
              "      <th>ocean_proximity_INLAND</th>\n",
              "      <th>ocean_proximity_ISLAND</th>\n",
              "      <th>ocean_proximity_NEAR BAY</th>\n",
              "      <th>ocean_proximity_NEAR OCEAN</th>\n",
              "    </tr>\n",
              "  </thead>\n",
              "  <tbody>\n",
              "    <tr>\n",
              "      <th>0</th>\n",
              "      <td>-1.327803</td>\n",
              "      <td>1.052523</td>\n",
              "      <td>0.982119</td>\n",
              "      <td>-0.804800</td>\n",
              "      <td>-0.975204</td>\n",
              "      <td>-0.974405</td>\n",
              "      <td>-0.977009</td>\n",
              "      <td>2.344709</td>\n",
              "      <td>2.129580</td>\n",
              "      <td>-0.681873</td>\n",
              "      <td>-0.015566</td>\n",
              "      <td>2.830673</td>\n",
              "      <td>-0.384457</td>\n",
              "    </tr>\n",
              "    <tr>\n",
              "      <th>1</th>\n",
              "      <td>-1.322812</td>\n",
              "      <td>1.043159</td>\n",
              "      <td>-0.607004</td>\n",
              "      <td>2.045841</td>\n",
              "      <td>1.355055</td>\n",
              "      <td>0.861418</td>\n",
              "      <td>1.669921</td>\n",
              "      <td>2.332181</td>\n",
              "      <td>1.314124</td>\n",
              "      <td>-0.681873</td>\n",
              "      <td>-0.015566</td>\n",
              "      <td>2.830673</td>\n",
              "      <td>-0.384457</td>\n",
              "    </tr>\n",
              "    <tr>\n",
              "      <th>2</th>\n",
              "      <td>-1.332794</td>\n",
              "      <td>1.038478</td>\n",
              "      <td>1.856137</td>\n",
              "      <td>-0.535733</td>\n",
              "      <td>-0.829712</td>\n",
              "      <td>-0.820757</td>\n",
              "      <td>-0.843616</td>\n",
              "      <td>1.782656</td>\n",
              "      <td>1.258663</td>\n",
              "      <td>-0.681873</td>\n",
              "      <td>-0.015566</td>\n",
              "      <td>2.830673</td>\n",
              "      <td>-0.384457</td>\n",
              "    </tr>\n",
              "    <tr>\n",
              "      <th>3</th>\n",
              "      <td>-1.337785</td>\n",
              "      <td>1.038478</td>\n",
              "      <td>1.856137</td>\n",
              "      <td>-0.624199</td>\n",
              "      <td>-0.722382</td>\n",
              "      <td>-0.766010</td>\n",
              "      <td>-0.733764</td>\n",
              "      <td>0.932945</td>\n",
              "      <td>1.165072</td>\n",
              "      <td>-0.681873</td>\n",
              "      <td>-0.015566</td>\n",
              "      <td>2.830673</td>\n",
              "      <td>-0.384457</td>\n",
              "    </tr>\n",
              "    <tr>\n",
              "      <th>4</th>\n",
              "      <td>-1.337785</td>\n",
              "      <td>1.038478</td>\n",
              "      <td>1.856137</td>\n",
              "      <td>-0.462393</td>\n",
              "      <td>-0.615052</td>\n",
              "      <td>-0.759828</td>\n",
              "      <td>-0.629142</td>\n",
              "      <td>-0.012881</td>\n",
              "      <td>1.172871</td>\n",
              "      <td>-0.681873</td>\n",
              "      <td>-0.015566</td>\n",
              "      <td>2.830673</td>\n",
              "      <td>-0.384457</td>\n",
              "    </tr>\n",
              "  </tbody>\n",
              "</table>\n",
              "</div>"
            ],
            "text/plain": [
              "   longitude  latitude  housing_median_age  total_rooms  total_bedrooms  \\\n",
              "0  -1.327803  1.052523            0.982119    -0.804800       -0.975204   \n",
              "1  -1.322812  1.043159           -0.607004     2.045841        1.355055   \n",
              "2  -1.332794  1.038478            1.856137    -0.535733       -0.829712   \n",
              "3  -1.337785  1.038478            1.856137    -0.624199       -0.722382   \n",
              "4  -1.337785  1.038478            1.856137    -0.462393       -0.615052   \n",
              "\n",
              "   population  households  median_income  median_house_value  \\\n",
              "0   -0.974405   -0.977009       2.344709            2.129580   \n",
              "1    0.861418    1.669921       2.332181            1.314124   \n",
              "2   -0.820757   -0.843616       1.782656            1.258663   \n",
              "3   -0.766010   -0.733764       0.932945            1.165072   \n",
              "4   -0.759828   -0.629142      -0.012881            1.172871   \n",
              "\n",
              "   ocean_proximity_INLAND  ocean_proximity_ISLAND  ocean_proximity_NEAR BAY  \\\n",
              "0               -0.681873               -0.015566                  2.830673   \n",
              "1               -0.681873               -0.015566                  2.830673   \n",
              "2               -0.681873               -0.015566                  2.830673   \n",
              "3               -0.681873               -0.015566                  2.830673   \n",
              "4               -0.681873               -0.015566                  2.830673   \n",
              "\n",
              "   ocean_proximity_NEAR OCEAN  \n",
              "0                   -0.384457  \n",
              "1                   -0.384457  \n",
              "2                   -0.384457  \n",
              "3                   -0.384457  \n",
              "4                   -0.384457  "
            ]
          },
          "execution_count": 8,
          "metadata": {},
          "output_type": "execute_result"
        }
      ],
      "source": [
        "# ----------------------------------------------\n",
        "# Step 4: Standardize numeric columns (Standardization)\n",
        "# ----------------------------------------------\n",
        "# Subtract mean and divide by standard deviation\n",
        "data_scaled_df = (data_encoded - data_encoded.mean()) / data_encoded.std()\n",
        "\n",
        "# Check the result\n",
        "data_scaled_df.head()"
      ]
    },
    {
      "cell_type": "code",
      "execution_count": 9,
      "metadata": {
        "colab": {
          "base_uri": "https://localhost:8080/"
        },
        "id": "cRTET1ZuQJ9X",
        "outputId": "1938b9bb-f411-46d8-9c64-b25471c8a6ab"
      },
      "outputs": [
        {
          "name": "stdout",
          "output_type": "stream",
          "text": [
            "\n",
            "Training data shape: (16512, 13)\n",
            "Testing data shape: (4128, 13)\n"
          ]
        }
      ],
      "source": [
        "# ----------------------------------------------\n",
        "# Step 5: Split into train and test subsets\n",
        "# ----------------------------------------------\n",
        "train_data, test_data = train_test_split(data_scaled_df, test_size=0.2, random_state=42)\n",
        "\n",
        "print(f\"\\nTraining data shape: {train_data.shape}\")\n",
        "print(f\"Testing data shape: {test_data.shape}\")\n"
      ]
    },
    {
      "cell_type": "code",
      "execution_count": 10,
      "metadata": {
        "id": "d2uFpzcHQPgS"
      },
      "outputs": [],
      "source": [
        "# ------------------------------------------\n",
        "# Step 6: Perform PCA\n",
        "# ------------------------------------------\n",
        "pca = PCA()\n",
        "pca.fit(train_data)\n",
        "\n",
        "# Transform both train and test sets\n",
        "train_pca = pca.transform(train_data)\n",
        "test_pca = pca.transform(test_data)\n"
      ]
    },
    {
      "cell_type": "code",
      "execution_count": 11,
      "metadata": {
        "colab": {
          "base_uri": "https://localhost:8080/"
        },
        "id": "o0kadxQFQgKc",
        "outputId": "34e1c8f7-f36a-4070-ce6e-7b7f8aa79660"
      },
      "outputs": [
        {
          "name": "stdout",
          "output_type": "stream",
          "text": [
            "\n",
            "Explained Variance Ratio (first 10 PCs):\n",
            "PC1: 0.3010\n",
            "PC2: 0.1759\n",
            "PC3: 0.1630\n",
            "PC4: 0.0927\n",
            "PC5: 0.0772\n",
            "PC6: 0.0743\n",
            "PC7: 0.0466\n",
            "PC8: 0.0322\n",
            "PC9: 0.0200\n",
            "PC10: 0.0098\n",
            "PC11: 0.0043\n",
            "PC12: 0.0020\n",
            "PC13: 0.0011\n"
          ]
        }
      ],
      "source": [
        "# ------------------------------------------\n",
        "# Step 7: Show explained variance\n",
        "# ------------------------------------------\n",
        "explained_variance = pca.explained_variance_ratio_\n",
        "cum_explained_variance = np.cumsum(explained_variance)\n",
        "\n",
        "print(\"\\nExplained Variance Ratio (first 10 PCs):\")\n",
        "for i, var in enumerate(explained_variance[:13]):\n",
        "    print(f\"PC{i+1}: {var:.4f}\")"
      ]
    },
    {
      "cell_type": "code",
      "execution_count": 12,
      "metadata": {
        "colab": {
          "base_uri": "https://localhost:8080/",
          "height": 487
        },
        "id": "RbzO7gtKRJyc",
        "outputId": "6c8f0cca-0bbc-4ab2-f9d9-7f33ee3cdeeb"
      },
      "outputs": [
        {
          "data": {
            "image/png": "[encoded data removed]",
            "text/plain": [
              "<Figure size 800x500 with 1 Axes>"
            ]
          },
          "metadata": {},
          "output_type": "display_data"
        }
      ],
      "source": [
        "# ------------------------------------------\n",
        "# Step 8: Scree Plot\n",
        "# ------------------------------------------\n",
        "plt.figure(figsize=(8, 5))\n",
        "plt.plot(range(1, len(explained_variance)+1), cum_explained_variance, 'bo-', linewidth=2)\n",
        "plt.title('Scree Plot (Cumulative Explained Variance)')\n",
        "plt.xlabel('Number of Principal Components')\n",
        "plt.ylabel('Cumulative Explained Variance')\n",
        "plt.grid(True)\n",
        "plt.show()"
      ]
    },
    {
      "cell_type": "code",
      "execution_count": 14,
      "metadata": {
        "colab": {
          "base_uri": "https://localhost:8080/"
        },
        "id": "zXsuqk5HRLlq",
        "outputId": "74397fe7-98f4-4563-b777-e155bf65915c"
      },
      "outputs": [
        {
          "name": "stdout",
          "output_type": "stream",
          "text": [
            "\n",
            " Number of components explaining 95% variance: 8\n"
          ]
        }
      ],
      "source": [
        "# ------------------------------------------\n",
        "# Step 9: Choose top components (optional)\n",
        "# ------------------------------------------\n",
        "# You can select components that explain, e.g., 95% variance:\n",
        "n_components_95 = np.argmax(cum_explained_variance >= 0.95) + 1\n",
        "print(f\"\\n Number of components explaining 95% variance: {n_components_95}\")"
      ]
    },
    {
      "cell_type": "code",
      "execution_count": 16,
      "metadata": {
        "colab": {
          "base_uri": "https://localhost:8080/",
          "height": 52
        },
        "id": "tpRStareRZ-Z",
        "outputId": "f1df12bb-b024-445a-d1a6-8a5aa189018b"
      },
      "outputs": [
        {
          "name": "stdout",
          "output_type": "stream",
          "text": [
            "\n",
            "PCA loadings sorted by strongest contributors to PC1 and saved successfully!\n"
          ]
        }
      ],
      "source": [
        "# ------------------------------------------\n",
        "# Step 10: Save PCA Loadings with Attribute Names (sorted)\n",
        "\n",
        "# Loadings = eigenvectors * sqrt(eigenvalues)\n",
        "# They show how strongly each feature influences each principal component.\n",
        "# ------------------------------------------\n",
        "# Create loadings DataFrame\n",
        "loadings_df = pd.DataFrame(\n",
        "    pca.components_[:n_components_95].T,\n",
        "    columns=[f'PC{i+1}' for i in range(n_components_95)],\n",
        "    index=train_data.columns\n",
        ")\n",
        "\n",
        "# Reset index to show attribute names as a column\n",
        "loadings_df.reset_index(inplace=True)\n",
        "loadings_df.rename(columns={'index': 'Attribute'}, inplace=True)\n",
        "\n",
        "# Sort by absolute loading strength for the first principal component (PC1) — or change to any PC\n",
        "sorted_loadings = loadings_df.reindex(\n",
        "    loadings_df['PC1'].abs().sort_values(ascending=False).index\n",
        ")\n",
        "\n",
        "# Save both unsorted and sorted loadings\n",
        "loadings_df.to_csv('pca_loadings_unsorted.csv', index=False)\n",
        "sorted_loadings.to_csv('pca_loadings_sorted_PC1.csv', index=False)\n",
        "\n",
        "# Download from Colab\n",
        "#from google.colab import files\n",
        "#files.download('pca_loadings_sorted_PC1.csv')\n",
        "\n",
        "print(\"\\nPCA loadings sorted by strongest contributors to PC1 and saved successfully!\")"
      ]
    },
    {
      "cell_type": "code",
      "execution_count": 17,
      "metadata": {
        "colab": {
          "base_uri": "https://localhost:8080/",
          "height": 713
        },
        "id": "oIQ0PFtXRmHX",
        "outputId": "068db05b-c405-4bd0-9268-4c4a79dfbb0f"
      },
      "outputs": [
        {
          "name": "stdout",
          "output_type": "stream",
          "text": [
            "\n",
            " PCA Explained Variance on Test Data:\n",
            "     PC  Explained_Variance_Ratio  Cumulative_Explained_Variance\n",
            "0   PC1                  0.302387                       0.302387\n",
            "1   PC2                  0.174269                       0.476656\n",
            "2   PC3                  0.160026                       0.636682\n",
            "3   PC4                  0.089770                       0.726452\n",
            "4   PC5                  0.078001                       0.804453\n",
            "5   PC6                  0.078552                       0.883004\n",
            "6   PC7                  0.045340                       0.928344\n",
            "7   PC8                  0.030451                       0.958795\n",
            "8   PC9                  0.020595                       0.979390\n",
            "9  PC10                  0.010676                       0.990066\n"
          ]
        },
        {
          "data": {
            "image/png": "[encoded data removed]",
            "text/plain": [
              "<Figure size 800x500 with 1 Axes>"
            ]
          },
          "metadata": {},
          "output_type": "display_data"
        }
      ],
      "source": [
        "# STEP 11: Model Evaluation\n",
        "# Compute variance of each principal component in test data\n",
        "\n",
        "# axis = 0 means, compute variance column-wise i.e., compute variance of each PC across all observations\n",
        "test_pc_variance = np.var(test_pca, axis=0)\n",
        "\n",
        "# Compute fraction of total variance explained\n",
        "test_explained_variance_ratio = test_pc_variance / np.sum(np.var(test_data, axis=0))\n",
        "test_cum_variance = np.cumsum(test_explained_variance_ratio)\n",
        "\n",
        "#  Display results\n",
        "explained_df = pd.DataFrame({\n",
        "    'PC': [f'PC{i+1}' for i in range(len(test_explained_variance_ratio))],\n",
        "    'Explained_Variance_Ratio': test_explained_variance_ratio,\n",
        "    'Cumulative_Explained_Variance': test_cum_variance\n",
        "})\n",
        "\n",
        "print(\"\\n PCA Explained Variance on Test Data:\")\n",
        "print(explained_df.head(10))  # show first 10 PCs\n",
        "\n",
        "# Optional: Scree plot\n",
        "\n",
        "\n",
        "plt.figure(figsize=(8,5))\n",
        "plt.plot(range(1, len(test_cum_variance)+1), test_cum_variance, 'ro-', linewidth=2)\n",
        "plt.title('Scree Plot (Cumulative Explained Variance) - Test Data')\n",
        "plt.xlabel('Number of Principal Components')\n",
        "plt.ylabel('Cumulative Explained Variance')\n",
        "plt.grid(True)\n",
        "plt.show()"
      ]
    }
  ],
  "metadata": {
    "colab": {
      "provenance": []
    },
    "kernelspec": {
      "display_name": "base",
      "language": "python",
      "name": "python3"
    },
    "language_info": {
      "codemirror_mode": {
        "name": "ipython",
        "version": 3
      },
      "file_extension": ".py",
      "mimetype": "text/x-python",
      "name": "python",
      "nbconvert_exporter": "python",
      "pygments_lexer": "ipython3",
      "version": "3.12.7"
    }
  },
  "nbformat": 4,
  "nbformat_minor": 0
}
