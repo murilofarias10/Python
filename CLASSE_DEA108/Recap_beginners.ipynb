{
 "cells": [
  {
   "cell_type": "markdown",
   "id": "f9b99d5a-69a2-4c67-a3ef-fd60e1cc5036",
   "metadata": {},
   "source": [
    "Type        \n",
    "Integer  5\n",
    "Float 3,14\n",
    "String 'Helo'\n",
    "Boolean True/False"
   ]
  },
  {
   "cell_type": "code",
   "execution_count": null,
   "id": "801b0b35-27ac-4dc5-a242-ffe13571450a",
   "metadata": {},
   "outputs": [],
   "source": [
    "x = 10\n",
    "y = 3.5\n",
    "name = 'Murilo'\n",
    "is_happy = True"
   ]
  },
  {
   "cell_type": "code",
   "execution_count": null,
   "id": "3877301d-b1f9-473a-b475-d2adead4c23c",
   "metadata": {},
   "outputs": [],
   "source": [
    "print(type(x))\n",
    "print(type(y))\n",
    "print(type(name))\n",
    "print(type(is_happy))"
   ]
  },
  {
   "cell_type": "code",
   "execution_count": null,
   "id": "f8f29097-fa98-4f81-b46c-535844c4247d",
   "metadata": {},
   "outputs": [],
   "source": [
    "last = 'Farias'\n",
    "full = name + \" \" + last\n",
    "print(full)"
   ]
  },
  {
   "cell_type": "code",
   "execution_count": null,
   "id": "8d876a80-16cf-4f3b-9a3d-a7bf4330d165",
   "metadata": {},
   "outputs": [],
   "source": [
    "fruits = ['apple', 'banana', 'cherry']\n",
    "print(fruits)"
   ]
  },
  {
   "cell_type": "code",
   "execution_count": null,
   "id": "e987130f-fdf8-4e26-8372-7e43440143cc",
   "metadata": {},
   "outputs": [],
   "source": [
    "fruits.append('orange')\n",
    "print(len(fruits))\n",
    "print(fruits)"
   ]
  },
  {
   "cell_type": "code",
   "execution_count": null,
   "id": "b2b12507-8068-44c9-a472-02826467df06",
   "metadata": {},
   "outputs": [],
   "source": [
    "person = {'name': 'Nisa', 'age': 30}"
   ]
  },
  {
   "cell_type": "code",
   "execution_count": null,
   "id": "862c61f3-c945-47d6-aa52-8b5532430861",
   "metadata": {},
   "outputs": [],
   "source": [
    "print(person['name'])"
   ]
  },
  {
   "cell_type": "code",
   "execution_count": null,
   "id": "0210d1db-693d-40f9-a7f3-783121627df3",
   "metadata": {},
   "outputs": [],
   "source": [
    "person['city'] = 'Vancouver'"
   ]
  },
  {
   "cell_type": "code",
   "execution_count": null,
   "id": "0e2669fc-f0a6-4cc8-88ed-a1a607d93754",
   "metadata": {},
   "outputs": [],
   "source": [
    "print(person)"
   ]
  },
  {
   "cell_type": "code",
   "execution_count": null,
   "id": "88a6ff4a-d091-42b5-80a8-d26340fc600f",
   "metadata": {},
   "outputs": [],
   "source": [
    "x = 10\n",
    "if x > 5:\n",
    "    print('Big Number')\n",
    "else:\n",
    "    print('Smal number')"
   ]
  },
  {
   "cell_type": "code",
   "execution_count": null,
   "id": "3890a00d-ad0c-4479-be6a-aed92d47fd04",
   "metadata": {},
   "outputs": [],
   "source": [
    "x = 4\n",
    "if x > 5:\n",
    "    print('Big Number')\n",
    "else:\n",
    "    print('Smal number')"
   ]
  },
  {
   "cell_type": "code",
   "execution_count": null,
   "id": "2324a409-a674-4344-ab46-8a448f88bb62",
   "metadata": {},
   "outputs": [],
   "source": [
    "for i in range(5):\n",
    "    print(i)"
   ]
  },
  {
   "cell_type": "code",
   "execution_count": null,
   "id": "6a33915d-af37-4e46-9da2-07b5d093d0d6",
   "metadata": {},
   "outputs": [],
   "source": [
    "count = 0\n",
    "while count < 5 :\n",
    "    print(count)\n",
    "    count +=1"
   ]
  },
  {
   "cell_type": "code",
   "execution_count": null,
   "id": "62f4ec44-172a-4e35-89c3-1812630545b3",
   "metadata": {},
   "outputs": [],
   "source": [
    "def greet(name):\n",
    "    return 'hello ' + name\n",
    "\n",
    "print(greet('Murilo'))"
   ]
  },
  {
   "cell_type": "code",
   "execution_count": null,
   "id": "9898b622-71c0-4a38-b90e-aa0543dcfc13",
   "metadata": {},
   "outputs": [],
   "source": [
    "import math"
   ]
  },
  {
   "cell_type": "code",
   "execution_count": null,
   "id": "eb6cb8d3-6048-49d6-b6e4-dd1a6b37b59e",
   "metadata": {},
   "outputs": [],
   "source": [
    "print(math.sqrt(16))"
   ]
  },
  {
   "cell_type": "code",
   "execution_count": null,
   "id": "c8752dfb-98c3-4b2c-a26d-c01d3ecb3b72",
   "metadata": {},
   "outputs": [],
   "source": [
    "#We could say is a table\n",
    "\n",
    "import pandas as pd\n",
    "data = pd.DataFrame({\n",
    "    'Name': ['Nisa', 'Murilo'], 'Age': [30,25]\n",
    "})\n",
    "\n",
    "print(data)"
   ]
  },
  {
   "cell_type": "code",
   "execution_count": null,
   "id": "9cc2b366-6176-45ef-a59b-35bfb39ef37e",
   "metadata": {},
   "outputs": [],
   "source": [
    "import numpy as np\n",
    "arr = np.array([1,2,3])\n",
    "print(arr)"
   ]
  },
  {
   "cell_type": "code",
   "execution_count": null,
   "id": "b8f68620-43d4-4eb3-858d-0a19dfb62fac",
   "metadata": {},
   "outputs": [],
   "source": [
    "print(arr +5)"
   ]
  },
  {
   "cell_type": "code",
   "execution_count": null,
   "id": "682f7b9d-6586-43eb-a5cc-7786a1a48602",
   "metadata": {},
   "outputs": [],
   "source": [
    "print(arr)"
   ]
  },
  {
   "cell_type": "code",
   "execution_count": null,
   "id": "17042a8a-1e1c-4b32-bead-9332176f397d",
   "metadata": {},
   "outputs": [],
   "source": [
    "import pandas as pd\n",
    "data = pd.DataFrame({\n",
    "'Age':[25,30,22,35],\n",
    "'Salary':[5000,60000,45000,7000],\n",
    "'Purchased': [0,1,0,1]\n",
    "})"
   ]
  },
  {
   "cell_type": "code",
   "execution_count": null,
   "id": "215e4025-917c-475a-a424-b120a588e876",
   "metadata": {},
   "outputs": [],
   "source": [
    "print(data)"
   ]
  },
  {
   "cell_type": "code",
   "execution_count": null,
   "id": "b3989c70-1ac5-4845-a2bb-d137be2886ea",
   "metadata": {},
   "outputs": [],
   "source": [
    "df = pd.read_csv('college.csv')"
   ]
  },
  {
   "cell_type": "code",
   "execution_count": null,
   "id": "e9ad39ea-3679-4224-a199-06ce38e52795",
   "metadata": {},
   "outputs": [],
   "source": [
    "print(df.head())"
   ]
  },
  {
   "cell_type": "code",
   "execution_count": null,
   "id": "f38e2210-0c22-4211-b2b2-8dd23794c88e",
   "metadata": {},
   "outputs": [],
   "source": [
    "print(df.info())"
   ]
  },
  {
   "cell_type": "code",
   "execution_count": null,
   "id": "da8bf49b-ad33-4822-a018-e0f3ab26a78b",
   "metadata": {},
   "outputs": [],
   "source": [
    "print(df.describe())"
   ]
  },
  {
   "cell_type": "code",
   "execution_count": null,
   "id": "8a67a2cf-03d1-4f5c-9600-7398d5290211",
   "metadata": {},
   "outputs": [],
   "source": [
    "print(df['Apps'].mean())"
   ]
  },
  {
   "cell_type": "code",
   "execution_count": null,
   "id": "84ea37bd-dfcd-49f8-a59d-9b569c5eccc4",
   "metadata": {},
   "outputs": [],
   "source": [
    "df.isnull().sum()"
   ]
  },
  {
   "cell_type": "markdown",
   "id": "8d9c3915-b322-41ce-843b-ad8793d261f1",
   "metadata": {},
   "source": [
    "**************** Multiple Linear Regression **************"
   ]
  },
  {
   "cell_type": "markdown",
   "id": "f9d3f668-0964-41d9-9408-94ddcbfa2826",
   "metadata": {},
   "source": [
    "y = b0 + b1x1 + b2x2 + error"
   ]
  },
  {
   "cell_type": "code",
   "execution_count": null,
   "id": "79ba4b8c-4564-4f43-8b5d-714b42732a89",
   "metadata": {},
   "outputs": [],
   "source": [
    "import statsmodels.api as sm\n",
    "import pandas as pd\n",
    "df_dois = pd.DataFrame({\n",
    "'Age':[25,30,22,35],\n",
    "'Salary':[50000,60000,45000,70000],\n",
    "'Experience': [0,1,0,1]\n",
    "})"
   ]
  },
  {
   "cell_type": "code",
   "execution_count": null,
   "id": "93134122-0698-420b-833c-204120b1dbd2",
   "metadata": {},
   "outputs": [],
   "source": [
    "X = df_dois[['Age', 'Experience']]\n",
    "y = df_dois['Salary']\n",
    "X = sm.add_constant(X)\n",
    "#OLS is the fcuntion for Multiple linear Regression\n",
    "model = sm.OLS(y, X).fit()"
   ]
  },
  {
   "cell_type": "code",
   "execution_count": null,
   "id": "19ef70e0-b5a4-4283-b1f3-76436715db76",
   "metadata": {
    "scrolled": true
   },
   "outputs": [],
   "source": [
    "print(model.summary())"
   ]
  },
  {
   "cell_type": "code",
   "execution_count": null,
   "id": "d4367ca8-763b-4544-879d-3a6545880b47",
   "metadata": {},
   "outputs": [],
   "source": [
    "X_new = pd.DataFrame({\n",
    "'Age':[28,40],\n",
    "'Experience': [3,15]\n",
    "})"
   ]
  },
  {
   "cell_type": "code",
   "execution_count": null,
   "id": "af9ae965-c316-405a-bfde-86a1104b2dd8",
   "metadata": {},
   "outputs": [],
   "source": [
    "X_new = sm.add_constant(X_new)\n",
    "y_pred = model.predict(X_new)\n",
    "print(y_pred)"
   ]
  },
  {
   "cell_type": "markdown",
   "id": "4d0e516c-a6d7-42ed-b2c9-af719f13770d",
   "metadata": {},
   "source": [
    "**************** LOGISTIC REGRESSION **************"
   ]
  },
  {
   "cell_type": "markdown",
   "id": "24ab0988-503b-4a94-a855-d9334afb9aba",
   "metadata": {},
   "source": [
    "logit(p) = ln(p / 1-p) = b0 + b1x1 + b2x2"
   ]
  },
  {
   "cell_type": "code",
   "execution_count": 1,
   "id": "118c99f5-67b2-4f6e-87b2-f9dad0408ebc",
   "metadata": {},
   "outputs": [],
   "source": [
    "import pandas as pd\n",
    "import statsmodels.api as sm"
   ]
  },
  {
   "cell_type": "code",
   "execution_count": 2,
   "id": "2b221308-8847-40b5-8572-ea309ef9b519",
   "metadata": {},
   "outputs": [],
   "source": [
    "data_dois = pd.DataFrame({\n",
    "'Age':[25,30,22,35],\n",
    "'Salary':[50000,60000,45000,70000],\n",
    "'Purchased': [0,1,0,1]\n",
    "})"
   ]
  },
  {
   "cell_type": "code",
   "execution_count": 3,
   "id": "2b18d696-2b52-4188-bdfb-f72c31d95d04",
   "metadata": {},
   "outputs": [
    {
     "name": "stdout",
     "output_type": "stream",
     "text": [
      "   Age  Salary  Purchased\n",
      "0   25   50000          0\n",
      "1   30   60000          1\n",
      "2   22   45000          0\n",
      "3   35   70000          1\n"
     ]
    }
   ],
   "source": [
    "print(data_dois)"
   ]
  },
  {
   "cell_type": "code",
   "execution_count": 4,
   "id": "2467e203-0333-4c19-924a-1731a9af5116",
   "metadata": {},
   "outputs": [],
   "source": [
    "X = data_dois[['Age']] #based on the age only because the dataset is so small\n",
    "y = data_dois['Purchased']\n",
    "\n",
    "import warnings\n",
    "warnings.filterwarnings(\"ignore\")"
   ]
  },
  {
   "cell_type": "code",
   "execution_count": 5,
   "id": "f231a310-74a0-442f-9fdd-1454189c915b",
   "metadata": {},
   "outputs": [],
   "source": [
    "X = sm.add_constant(X)"
   ]
  },
  {
   "cell_type": "code",
   "execution_count": 6,
   "id": "6f4dd253-ff37-4569-a25f-20dcd91c4f20",
   "metadata": {
    "scrolled": true
   },
   "outputs": [
    {
     "name": "stdout",
     "output_type": "stream",
     "text": [
      "Warning: Maximum number of iterations has been exceeded.\n",
      "         Current function value: 0.000000\n",
      "         Iterations: 35\n"
     ]
    }
   ],
   "source": [
    "logit_model = sm.Logit(y, X).fit()"
   ]
  },
  {
   "cell_type": "code",
   "execution_count": 7,
   "id": "f6f2a632-8d48-4692-b829-ee2a6567163a",
   "metadata": {},
   "outputs": [
    {
     "name": "stdout",
     "output_type": "stream",
     "text": [
      "                           Logit Regression Results                           \n",
      "==============================================================================\n",
      "Dep. Variable:              Purchased   No. Observations:                    4\n",
      "Model:                          Logit   Df Residuals:                        2\n",
      "Method:                           MLE   Df Model:                            1\n",
      "Date:                Tue, 23 Sep 2025   Pseudo R-squ.:                   1.000\n",
      "Time:                        19:13:59   Log-Likelihood:            -4.5940e-11\n",
      "converged:                      False   LL-Null:                       -2.7726\n",
      "Covariance Type:            nonrobust   LLR p-value:                   0.01853\n",
      "==============================================================================\n",
      "                 coef    std err          z      P>|z|      [0.025      0.975]\n",
      "------------------------------------------------------------------------------\n",
      "const       -269.4197   1.62e+06     -0.000      1.000   -3.18e+06    3.18e+06\n",
      "Age            9.8004   5.93e+04      0.000      1.000   -1.16e+05    1.16e+05\n",
      "==============================================================================\n",
      "\n",
      "Complete Separation: The results show that there iscomplete separation or perfect prediction.\n",
      "In this case the Maximum Likelihood Estimator does not exist and the parameters\n",
      "are not identified.\n"
     ]
    }
   ],
   "source": [
    "print(logit_model.summary())"
   ]
  },
  {
   "cell_type": "code",
   "execution_count": 8,
   "id": "cb4c65c5-ee1e-40cb-a6e0-a760e5016c63",
   "metadata": {},
   "outputs": [],
   "source": [
    "X_new = pd.DataFrame({\n",
    "'Age':[28,2]\n",
    "})"
   ]
  },
  {
   "cell_type": "code",
   "execution_count": 9,
   "id": "9a037a1c-bde7-4a09-8876-5005d7997bff",
   "metadata": {},
   "outputs": [
    {
     "name": "stdout",
     "output_type": "stream",
     "text": [
      "0    1\n",
      "1    0\n",
      "dtype: int32\n"
     ]
    }
   ],
   "source": [
    "X_new = sm.add_constant(X_new)\n",
    "y_prob = logit_model.predict(X_new)\n",
    "y_pred = (y_prob > 0.5).astype(int)\n",
    "print(y_pred)"
   ]
  }
 ],
 "metadata": {
  "kernelspec": {
   "display_name": "Python 3 (ipykernel)",
   "language": "python",
   "name": "python3"
  },
  "language_info": {
   "codemirror_mode": {
    "name": "ipython",
    "version": 3
   },
   "file_extension": ".py",
   "mimetype": "text/x-python",
   "name": "python",
   "nbconvert_exporter": "python",
   "pygments_lexer": "ipython3",
   "version": "3.12.7"
  }
 },
 "nbformat": 4,
 "nbformat_minor": 5
}
