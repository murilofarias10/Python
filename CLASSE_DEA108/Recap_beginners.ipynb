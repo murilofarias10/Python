{
 "cells": [
  {
   "cell_type": "markdown",
   "id": "f9b99d5a-69a2-4c67-a3ef-fd60e1cc5036",
   "metadata": {},
   "source": [
    "Type        \n",
    "Integer  5\n",
    "Float 3,14\n",
    "String 'Helo'\n",
    "Boolean True/False"
   ]
  },
  {
   "cell_type": "code",
   "execution_count": 1,
   "id": "801b0b35-27ac-4dc5-a242-ffe13571450a",
   "metadata": {},
   "outputs": [],
   "source": [
    "x = 10\n",
    "y = 3.5\n",
    "name = 'Murilo'\n",
    "is_happy = True"
   ]
  },
  {
   "cell_type": "code",
   "execution_count": 2,
   "id": "3877301d-b1f9-473a-b475-d2adead4c23c",
   "metadata": {},
   "outputs": [
    {
     "name": "stdout",
     "output_type": "stream",
     "text": [
      "<class 'int'>\n",
      "<class 'float'>\n",
      "<class 'str'>\n",
      "<class 'bool'>\n"
     ]
    }
   ],
   "source": [
    "print(type(x))\n",
    "print(type(y))\n",
    "print(type(name))\n",
    "print(type(is_happy))"
   ]
  },
  {
   "cell_type": "code",
   "execution_count": 3,
   "id": "f8f29097-fa98-4f81-b46c-535844c4247d",
   "metadata": {},
   "outputs": [
    {
     "name": "stdout",
     "output_type": "stream",
     "text": [
      "Murilo Farias\n"
     ]
    }
   ],
   "source": [
    "last = 'Farias'\n",
    "full = name + \" \" + last\n",
    "print(full)"
   ]
  },
  {
   "cell_type": "code",
   "execution_count": 4,
   "id": "8d876a80-16cf-4f3b-9a3d-a7bf4330d165",
   "metadata": {},
   "outputs": [
    {
     "name": "stdout",
     "output_type": "stream",
     "text": [
      "['apple', 'banana', 'cherry']\n"
     ]
    }
   ],
   "source": [
    "fruits = ['apple', 'banana', 'cherry']\n",
    "print(fruits)"
   ]
  },
  {
   "cell_type": "code",
   "execution_count": 5,
   "id": "e987130f-fdf8-4e26-8372-7e43440143cc",
   "metadata": {},
   "outputs": [
    {
     "name": "stdout",
     "output_type": "stream",
     "text": [
      "4\n",
      "['apple', 'banana', 'cherry', 'orange']\n"
     ]
    }
   ],
   "source": [
    "fruits.append('orange')\n",
    "print(len(fruits))\n",
    "print(fruits)"
   ]
  },
  {
   "cell_type": "code",
   "execution_count": 6,
   "id": "b2b12507-8068-44c9-a472-02826467df06",
   "metadata": {},
   "outputs": [],
   "source": [
    "person = {'name': 'Nisa', 'age': 30}"
   ]
  },
  {
   "cell_type": "code",
   "execution_count": 7,
   "id": "862c61f3-c945-47d6-aa52-8b5532430861",
   "metadata": {},
   "outputs": [
    {
     "name": "stdout",
     "output_type": "stream",
     "text": [
      "Nisa\n"
     ]
    }
   ],
   "source": [
    "print(person['name'])"
   ]
  },
  {
   "cell_type": "code",
   "execution_count": 8,
   "id": "0210d1db-693d-40f9-a7f3-783121627df3",
   "metadata": {},
   "outputs": [],
   "source": [
    "person['city'] = 'Vancouver'"
   ]
  },
  {
   "cell_type": "code",
   "execution_count": 9,
   "id": "0e2669fc-f0a6-4cc8-88ed-a1a607d93754",
   "metadata": {},
   "outputs": [
    {
     "name": "stdout",
     "output_type": "stream",
     "text": [
      "{'name': 'Nisa', 'age': 30, 'city': 'Vancouver'}\n"
     ]
    }
   ],
   "source": [
    "print(person)"
   ]
  },
  {
   "cell_type": "code",
   "execution_count": 10,
   "id": "88a6ff4a-d091-42b5-80a8-d26340fc600f",
   "metadata": {},
   "outputs": [
    {
     "name": "stdout",
     "output_type": "stream",
     "text": [
      "Big Number\n"
     ]
    }
   ],
   "source": [
    "x = 10\n",
    "if x > 5:\n",
    "    print('Big Number')\n",
    "else:\n",
    "    print('Smal number')"
   ]
  },
  {
   "cell_type": "code",
   "execution_count": 11,
   "id": "3890a00d-ad0c-4479-be6a-aed92d47fd04",
   "metadata": {},
   "outputs": [
    {
     "name": "stdout",
     "output_type": "stream",
     "text": [
      "Smal number\n"
     ]
    }
   ],
   "source": [
    "x = 4\n",
    "if x > 5:\n",
    "    print('Big Number')\n",
    "else:\n",
    "    print('Smal number')"
   ]
  },
  {
   "cell_type": "code",
   "execution_count": 12,
   "id": "2324a409-a674-4344-ab46-8a448f88bb62",
   "metadata": {},
   "outputs": [
    {
     "name": "stdout",
     "output_type": "stream",
     "text": [
      "0\n",
      "1\n",
      "2\n",
      "3\n",
      "4\n"
     ]
    }
   ],
   "source": [
    "for i in range(5):\n",
    "    print(i)"
   ]
  },
  {
   "cell_type": "code",
   "execution_count": 13,
   "id": "6a33915d-af37-4e46-9da2-07b5d093d0d6",
   "metadata": {},
   "outputs": [
    {
     "name": "stdout",
     "output_type": "stream",
     "text": [
      "0\n",
      "1\n",
      "2\n",
      "3\n",
      "4\n"
     ]
    }
   ],
   "source": [
    "count = 0\n",
    "while count < 5 :\n",
    "    print(count)\n",
    "    count +=1"
   ]
  },
  {
   "cell_type": "code",
   "execution_count": 14,
   "id": "62f4ec44-172a-4e35-89c3-1812630545b3",
   "metadata": {},
   "outputs": [
    {
     "name": "stdout",
     "output_type": "stream",
     "text": [
      "hello Murilo\n"
     ]
    }
   ],
   "source": [
    "def greet(name):\n",
    "    return 'hello ' + name\n",
    "\n",
    "print(greet('Murilo'))"
   ]
  },
  {
   "cell_type": "code",
   "execution_count": 15,
   "id": "9898b622-71c0-4a38-b90e-aa0543dcfc13",
   "metadata": {},
   "outputs": [],
   "source": [
    "import math"
   ]
  },
  {
   "cell_type": "code",
   "execution_count": 16,
   "id": "eb6cb8d3-6048-49d6-b6e4-dd1a6b37b59e",
   "metadata": {},
   "outputs": [
    {
     "name": "stdout",
     "output_type": "stream",
     "text": [
      "4.0\n"
     ]
    }
   ],
   "source": [
    "print(math.sqrt(16))"
   ]
  },
  {
   "cell_type": "code",
   "execution_count": 17,
   "id": "c8752dfb-98c3-4b2c-a26d-c01d3ecb3b72",
   "metadata": {},
   "outputs": [
    {
     "name": "stdout",
     "output_type": "stream",
     "text": [
      "     Name  Age\n",
      "0    Nisa   30\n",
      "1  Murilo   25\n"
     ]
    }
   ],
   "source": [
    "#We could say is a table\n",
    "\n",
    "import pandas as pd\n",
    "data = pd.DataFrame({\n",
    "    'Name': ['Nisa', 'Murilo'], 'Age': [30,25]\n",
    "})\n",
    "\n",
    "print(data)"
   ]
  },
  {
   "cell_type": "code",
   "execution_count": 18,
   "id": "9cc2b366-6176-45ef-a59b-35bfb39ef37e",
   "metadata": {},
   "outputs": [
    {
     "name": "stdout",
     "output_type": "stream",
     "text": [
      "[1 2 3]\n"
     ]
    }
   ],
   "source": [
    "import numpy as np\n",
    "arr = np.array([1,2,3])\n",
    "print(arr)"
   ]
  },
  {
   "cell_type": "code",
   "execution_count": 19,
   "id": "b8f68620-43d4-4eb3-858d-0a19dfb62fac",
   "metadata": {},
   "outputs": [
    {
     "name": "stdout",
     "output_type": "stream",
     "text": [
      "[6 7 8]\n"
     ]
    }
   ],
   "source": [
    "print(arr +5)"
   ]
  },
  {
   "cell_type": "code",
   "execution_count": 20,
   "id": "682f7b9d-6586-43eb-a5cc-7786a1a48602",
   "metadata": {},
   "outputs": [
    {
     "name": "stdout",
     "output_type": "stream",
     "text": [
      "[1 2 3]\n"
     ]
    }
   ],
   "source": [
    "print(arr)"
   ]
  },
  {
   "cell_type": "code",
   "execution_count": 21,
   "id": "17042a8a-1e1c-4b32-bead-9332176f397d",
   "metadata": {},
   "outputs": [],
   "source": [
    "import pandas as pd\n",
    "data = pd.DataFrame({\n",
    "'Age':[25,30,22,35],\n",
    "'Salary':[5000,60000,45000,7000],\n",
    "'Purchased': [0,1,0,1]\n",
    "})"
   ]
  },
  {
   "cell_type": "code",
   "execution_count": 22,
   "id": "215e4025-917c-475a-a424-b120a588e876",
   "metadata": {},
   "outputs": [
    {
     "name": "stdout",
     "output_type": "stream",
     "text": [
      "   Age  Salary  Purchased\n",
      "0   25    5000          0\n",
      "1   30   60000          1\n",
      "2   22   45000          0\n",
      "3   35    7000          1\n"
     ]
    }
   ],
   "source": [
    "print(data)"
   ]
  },
  {
   "cell_type": "code",
   "execution_count": 23,
   "id": "b3989c70-1ac5-4845-a2bb-d137be2886ea",
   "metadata": {},
   "outputs": [],
   "source": [
    "df = pd.read_csv('college.csv')"
   ]
  },
  {
   "cell_type": "code",
   "execution_count": 24,
   "id": "e9ad39ea-3679-4224-a199-06ce38e52795",
   "metadata": {},
   "outputs": [
    {
     "name": "stdout",
     "output_type": "stream",
     "text": [
      "                     Unnamed: 0 Private  Apps  Accept  Enroll  Top10perc  \\\n",
      "0  Abilene Christian University     Yes  1660    1232     721         23   \n",
      "1            Adelphi University     Yes  2186    1924     512         16   \n",
      "2                Adrian College     Yes  1428    1097     336         22   \n",
      "3           Agnes Scott College     Yes   417     349     137         60   \n",
      "4     Alaska Pacific University     Yes   193     146      55         16   \n",
      "\n",
      "   Top25perc  F.Undergrad  P.Undergrad  Outstate  Room.Board  Books  Personal  \\\n",
      "0         52         2885          537      7440        3300    450      2200   \n",
      "1         29         2683         1227     12280        6450    750      1500   \n",
      "2         50         1036           99     11250        3750    400      1165   \n",
      "3         89          510           63     12960        5450    450       875   \n",
      "4         44          249          869      7560        4120    800      1500   \n",
      "\n",
      "   PhD  Terminal  S.F.Ratio  perc.alumni  Expend  Grad.Rate  \n",
      "0   70        78       18.1           12    7041         60  \n",
      "1   29        30       12.2           16   10527         56  \n",
      "2   53        66       12.9           30    8735         54  \n",
      "3   92        97        7.7           37   19016         59  \n",
      "4   76        72       11.9            2   10922         15  \n"
     ]
    }
   ],
   "source": [
    "print(df.head())"
   ]
  },
  {
   "cell_type": "code",
   "execution_count": 25,
   "id": "f38e2210-0c22-4211-b2b2-8dd23794c88e",
   "metadata": {},
   "outputs": [
    {
     "name": "stdout",
     "output_type": "stream",
     "text": [
      "<class 'pandas.core.frame.DataFrame'>\n",
      "RangeIndex: 777 entries, 0 to 776\n",
      "Data columns (total 19 columns):\n",
      " #   Column       Non-Null Count  Dtype  \n",
      "---  ------       --------------  -----  \n",
      " 0   Unnamed: 0   777 non-null    object \n",
      " 1   Private      777 non-null    object \n",
      " 2   Apps         777 non-null    int64  \n",
      " 3   Accept       777 non-null    int64  \n",
      " 4   Enroll       777 non-null    int64  \n",
      " 5   Top10perc    777 non-null    int64  \n",
      " 6   Top25perc    777 non-null    int64  \n",
      " 7   F.Undergrad  777 non-null    int64  \n",
      " 8   P.Undergrad  777 non-null    int64  \n",
      " 9   Outstate     777 non-null    int64  \n",
      " 10  Room.Board   777 non-null    int64  \n",
      " 11  Books        777 non-null    int64  \n",
      " 12  Personal     777 non-null    int64  \n",
      " 13  PhD          777 non-null    int64  \n",
      " 14  Terminal     777 non-null    int64  \n",
      " 15  S.F.Ratio    777 non-null    float64\n",
      " 16  perc.alumni  777 non-null    int64  \n",
      " 17  Expend       777 non-null    int64  \n",
      " 18  Grad.Rate    777 non-null    int64  \n",
      "dtypes: float64(1), int64(16), object(2)\n",
      "memory usage: 115.5+ KB\n",
      "None\n"
     ]
    }
   ],
   "source": [
    "print(df.info())"
   ]
  },
  {
   "cell_type": "code",
   "execution_count": 26,
   "id": "da8bf49b-ad33-4822-a018-e0f3ab26a78b",
   "metadata": {},
   "outputs": [
    {
     "name": "stdout",
     "output_type": "stream",
     "text": [
      "               Apps        Accept       Enroll   Top10perc   Top25perc  \\\n",
      "count    777.000000    777.000000   777.000000  777.000000  777.000000   \n",
      "mean    3001.638353   2018.804376   779.972973   27.558559   55.796654   \n",
      "std     3870.201484   2451.113971   929.176190   17.640364   19.804778   \n",
      "min       81.000000     72.000000    35.000000    1.000000    9.000000   \n",
      "25%      776.000000    604.000000   242.000000   15.000000   41.000000   \n",
      "50%     1558.000000   1110.000000   434.000000   23.000000   54.000000   \n",
      "75%     3624.000000   2424.000000   902.000000   35.000000   69.000000   \n",
      "max    48094.000000  26330.000000  6392.000000   96.000000  100.000000   \n",
      "\n",
      "        F.Undergrad   P.Undergrad      Outstate   Room.Board        Books  \\\n",
      "count    777.000000    777.000000    777.000000   777.000000   777.000000   \n",
      "mean    3699.907336    855.298584  10440.669241  4357.526384   549.380952   \n",
      "std     4850.420531   1522.431887   4023.016484  1096.696416   165.105360   \n",
      "min      139.000000      1.000000   2340.000000  1780.000000    96.000000   \n",
      "25%      992.000000     95.000000   7320.000000  3597.000000   470.000000   \n",
      "50%     1707.000000    353.000000   9990.000000  4200.000000   500.000000   \n",
      "75%     4005.000000    967.000000  12925.000000  5050.000000   600.000000   \n",
      "max    31643.000000  21836.000000  21700.000000  8124.000000  2340.000000   \n",
      "\n",
      "          Personal         PhD    Terminal   S.F.Ratio  perc.alumni  \\\n",
      "count   777.000000  777.000000  777.000000  777.000000   777.000000   \n",
      "mean   1340.642214   72.660232   79.702703   14.089704    22.743887   \n",
      "std     677.071454   16.328155   14.722359    3.958349    12.391801   \n",
      "min     250.000000    8.000000   24.000000    2.500000     0.000000   \n",
      "25%     850.000000   62.000000   71.000000   11.500000    13.000000   \n",
      "50%    1200.000000   75.000000   82.000000   13.600000    21.000000   \n",
      "75%    1700.000000   85.000000   92.000000   16.500000    31.000000   \n",
      "max    6800.000000  103.000000  100.000000   39.800000    64.000000   \n",
      "\n",
      "             Expend  Grad.Rate  \n",
      "count    777.000000  777.00000  \n",
      "mean    9660.171171   65.46332  \n",
      "std     5221.768440   17.17771  \n",
      "min     3186.000000   10.00000  \n",
      "25%     6751.000000   53.00000  \n",
      "50%     8377.000000   65.00000  \n",
      "75%    10830.000000   78.00000  \n",
      "max    56233.000000  118.00000  \n"
     ]
    }
   ],
   "source": [
    "print(df.describe())"
   ]
  },
  {
   "cell_type": "code",
   "execution_count": 27,
   "id": "8a67a2cf-03d1-4f5c-9600-7398d5290211",
   "metadata": {},
   "outputs": [
    {
     "name": "stdout",
     "output_type": "stream",
     "text": [
      "3001.6383526383524\n"
     ]
    }
   ],
   "source": [
    "print(df['Apps'].mean())"
   ]
  },
  {
   "cell_type": "code",
   "execution_count": 28,
   "id": "84ea37bd-dfcd-49f8-a59d-9b569c5eccc4",
   "metadata": {},
   "outputs": [
    {
     "data": {
      "text/plain": [
       "Unnamed: 0     0\n",
       "Private        0\n",
       "Apps           0\n",
       "Accept         0\n",
       "Enroll         0\n",
       "Top10perc      0\n",
       "Top25perc      0\n",
       "F.Undergrad    0\n",
       "P.Undergrad    0\n",
       "Outstate       0\n",
       "Room.Board     0\n",
       "Books          0\n",
       "Personal       0\n",
       "PhD            0\n",
       "Terminal       0\n",
       "S.F.Ratio      0\n",
       "perc.alumni    0\n",
       "Expend         0\n",
       "Grad.Rate      0\n",
       "dtype: int64"
      ]
     },
     "execution_count": 28,
     "metadata": {},
     "output_type": "execute_result"
    }
   ],
   "source": [
    "df.isnull().sum()"
   ]
  },
  {
   "cell_type": "markdown",
   "id": "8d9c3915-b322-41ce-843b-ad8793d261f1",
   "metadata": {},
   "source": [
    "**************** Multiple Linear Regression **************"
   ]
  },
  {
   "cell_type": "markdown",
   "id": "f9d3f668-0964-41d9-9408-94ddcbfa2826",
   "metadata": {},
   "source": [
    "y = b0 + b1x1 + b2x2 + error"
   ]
  },
  {
   "cell_type": "code",
   "execution_count": 29,
   "id": "79ba4b8c-4564-4f43-8b5d-714b42732a89",
   "metadata": {},
   "outputs": [],
   "source": [
    "import statsmodels.api as sm\n",
    "import pandas as pd\n",
    "df_dois = pd.DataFrame({\n",
    "'Age':[25,30,22,35],\n",
    "'Salary':[50000,60000,45000,70000],\n",
    "'Experience': [0,1,0,1]\n",
    "})"
   ]
  },
  {
   "cell_type": "code",
   "execution_count": 30,
   "id": "93134122-0698-420b-833c-204120b1dbd2",
   "metadata": {},
   "outputs": [],
   "source": [
    "X = df_dois[['Age', 'Experience']]\n",
    "y = df_dois['Salary']\n",
    "X = sm.add_constant(X)\n",
    "#OLS is the fcuntion for Multiple linear Regression\n",
    "model = sm.OLS(y, X).fit()"
   ]
  },
  {
   "cell_type": "code",
   "execution_count": 31,
   "id": "19ef70e0-b5a4-4283-b1f3-76436715db76",
   "metadata": {
    "scrolled": true
   },
   "outputs": [
    {
     "name": "stdout",
     "output_type": "stream",
     "text": [
      "                            OLS Regression Results                            \n",
      "==============================================================================\n",
      "Dep. Variable:                 Salary   R-squared:                       0.999\n",
      "Model:                            OLS   Adj. R-squared:                  0.997\n",
      "Method:                 Least Squares   F-statistic:                     501.0\n",
      "Date:                Thu, 25 Sep 2025   Prob (F-statistic):             0.0316\n",
      "Time:                        10:20:04   Log-Likelihood:                -28.533\n",
      "No. Observations:                   4   AIC:                             63.07\n",
      "Df Residuals:                       1   BIC:                             61.22\n",
      "Df Model:                           2                                         \n",
      "Covariance Type:            nonrobust                                         \n",
      "==============================================================================\n",
      "                 coef    std err          t      P>|t|      [0.025      0.975]\n",
      "------------------------------------------------------------------------------\n",
      "const       2573.5294   3482.377      0.739      0.595   -4.17e+04    4.68e+04\n",
      "Age         1911.7647    147.059     13.000      0.049      43.205    3780.324\n",
      "Experience   294.1176   1455.808      0.202      0.873   -1.82e+04    1.88e+04\n",
      "==============================================================================\n",
      "Omnibus:                          nan   Durbin-Watson:                   1.059\n",
      "Prob(Omnibus):                    nan   Jarque-Bera (JB):                0.527\n",
      "Skew:                           0.000   Prob(JB):                        0.768\n",
      "Kurtosis:                       1.221   Cond. No.                         349.\n",
      "==============================================================================\n",
      "\n",
      "Notes:\n",
      "[1] Standard Errors assume that the covariance matrix of the errors is correctly specified.\n"
     ]
    },
    {
     "name": "stderr",
     "output_type": "stream",
     "text": [
      "c:\\Users\\MuriloFarias\\anaconda3\\Lib\\site-packages\\statsmodels\\stats\\stattools.py:74: ValueWarning: omni_normtest is not valid with less than 8 observations; 4 samples were given.\n",
      "  warn(\"omni_normtest is not valid with less than 8 observations; %i \"\n"
     ]
    }
   ],
   "source": [
    "print(model.summary())"
   ]
  },
  {
   "cell_type": "code",
   "execution_count": 32,
   "id": "d4367ca8-763b-4544-879d-3a6545880b47",
   "metadata": {},
   "outputs": [],
   "source": [
    "X_new = pd.DataFrame({\n",
    "'Age':[28,40],\n",
    "'Experience': [3,15]\n",
    "})"
   ]
  },
  {
   "cell_type": "code",
   "execution_count": 33,
   "id": "af9ae965-c316-405a-bfde-86a1104b2dd8",
   "metadata": {},
   "outputs": [
    {
     "name": "stdout",
     "output_type": "stream",
     "text": [
      "0    56985.294118\n",
      "1    83455.882353\n",
      "dtype: float64\n"
     ]
    }
   ],
   "source": [
    "X_new = sm.add_constant(X_new)\n",
    "y_pred = model.predict(X_new)\n",
    "print(y_pred)"
   ]
  },
  {
   "cell_type": "markdown",
   "id": "4d0e516c-a6d7-42ed-b2c9-af719f13770d",
   "metadata": {},
   "source": [
    "**************** LOGISTIC REGRESSION **************"
   ]
  },
  {
   "cell_type": "markdown",
   "id": "24ab0988-503b-4a94-a855-d9334afb9aba",
   "metadata": {},
   "source": [
    "logit(p) = ln(p / 1-p) = b0 + b1x1 + b2x2"
   ]
  },
  {
   "cell_type": "code",
   "execution_count": 34,
   "id": "118c99f5-67b2-4f6e-87b2-f9dad0408ebc",
   "metadata": {},
   "outputs": [],
   "source": [
    "import pandas as pd\n",
    "import statsmodels.api as sm"
   ]
  },
  {
   "cell_type": "code",
   "execution_count": 35,
   "id": "0dd53bb5",
   "metadata": {},
   "outputs": [],
   "source": [
    "\n",
    "data = pd.DataFrame({\n",
    "'Age':[22,25,27,30,32,35,40,45,50,55],\n",
    "'Salary':[40000,48000,50000,52000,60000,65000,70000,72000,75000,80000],\n",
    "'Purchased': [0,0,0,1,1,0,1,1,0,1]\n",
    "})"
   ]
  },
  {
   "cell_type": "code",
   "execution_count": 36,
   "id": "beae0eda",
   "metadata": {},
   "outputs": [],
   "source": [
    "data[\"Salary\"] = data[\"Salary\"]/1000  #scaling the salary to make the model better"
   ]
  },
  {
   "cell_type": "code",
   "execution_count": 37,
   "id": "2467e203-0333-4c19-924a-1731a9af5116",
   "metadata": {},
   "outputs": [],
   "source": [
    "X = sm.add_constant(data[['Age', 'Salary']])\n",
    "y = data['Purchased']"
   ]
  },
  {
   "cell_type": "code",
   "execution_count": 38,
   "id": "6f4dd253-ff37-4569-a25f-20dcd91c4f20",
   "metadata": {
    "scrolled": true
   },
   "outputs": [
    {
     "name": "stdout",
     "output_type": "stream",
     "text": [
      "Optimization terminated successfully.\n",
      "         Current function value: 0.583679\n",
      "         Iterations 5\n"
     ]
    }
   ],
   "source": [
    "logit_model = sm.Logit(y, X).fit()"
   ]
  },
  {
   "cell_type": "code",
   "execution_count": 39,
   "id": "f6f2a632-8d48-4692-b829-ee2a6567163a",
   "metadata": {},
   "outputs": [
    {
     "name": "stdout",
     "output_type": "stream",
     "text": [
      "                           Logit Regression Results                           \n",
      "==============================================================================\n",
      "Dep. Variable:              Purchased   No. Observations:                   10\n",
      "Model:                          Logit   Df Residuals:                        7\n",
      "Method:                           MLE   Df Model:                            2\n",
      "Date:                Thu, 25 Sep 2025   Pseudo R-squ.:                  0.1579\n",
      "Time:                        10:20:04   Log-Likelihood:                -5.8368\n",
      "converged:                       True   LL-Null:                       -6.9315\n",
      "Covariance Type:            nonrobust   LLR p-value:                    0.3346\n",
      "==============================================================================\n",
      "                 coef    std err          z      P>|z|      [0.025      0.975]\n",
      "------------------------------------------------------------------------------\n",
      "const         -6.0497      5.562     -1.088      0.277     -16.950       4.851\n",
      "Age           -0.0793      0.271     -0.293      0.769      -0.610       0.451\n",
      "Salary         0.1450      0.232      0.626      0.531      -0.309       0.599\n",
      "==============================================================================\n"
     ]
    }
   ],
   "source": [
    "print(logit_model.summary())"
   ]
  },
  {
   "cell_type": "code",
   "execution_count": 40,
   "id": "cb4c65c5-ee1e-40cb-a6e0-a760e5016c63",
   "metadata": {},
   "outputs": [],
   "source": [
    "X_new = pd.DataFrame({\n",
    "'Age':[30,45], \"salary\": [55000,80000]\n",
    "})"
   ]
  },
  {
   "cell_type": "code",
   "execution_count": 41,
   "id": "6e21c352",
   "metadata": {},
   "outputs": [],
   "source": [
    "X_new = sm.add_constant(X_new)"
   ]
  },
  {
   "cell_type": "code",
   "execution_count": 42,
   "id": "090212ed",
   "metadata": {},
   "outputs": [],
   "source": [
    "y_prob = logit_model.predict(X_new)"
   ]
  },
  {
   "cell_type": "code",
   "execution_count": 43,
   "id": "9a037a1c-bde7-4a09-8876-5005d7997bff",
   "metadata": {},
   "outputs": [],
   "source": [
    "y_pred = (y_prob > 0.5).astype(int)"
   ]
  },
  {
   "cell_type": "code",
   "execution_count": 44,
   "id": "e9455766",
   "metadata": {},
   "outputs": [
    {
     "name": "stdout",
     "output_type": "stream",
     "text": [
      "0    1.0\n",
      "1    1.0\n",
      "dtype: float64\n",
      "0    1\n",
      "1    1\n",
      "dtype: int32\n"
     ]
    }
   ],
   "source": [
    "print(y_prob)\n",
    "print(y_pred)"
   ]
  },
  {
   "cell_type": "markdown",
   "id": "f2dba182",
   "metadata": {},
   "source": [
    "WITHOUT SCALING SALARY"
   ]
  },
  {
   "cell_type": "code",
   "execution_count": 45,
   "id": "0c676c00",
   "metadata": {},
   "outputs": [],
   "source": [
    "import pandas as pd\n",
    "import statsmodels.api as sm\n",
    "\n",
    "data = pd.DataFrame({\n",
    "'Age':[22,25,27,30,32,35,40,45,50,55],\n",
    "'Salary':[40000,48000,50000,52000,60000,65000,70000,72000,75000,80000],\n",
    "'Purchased': [0,0,0,1,1,0,1,1,0,1]\n",
    "})"
   ]
  },
  {
   "cell_type": "code",
   "execution_count": 46,
   "id": "9f9acc16",
   "metadata": {},
   "outputs": [],
   "source": [
    "X = data[['Age', 'Salary']]\n",
    "y = data['Purchased']\n"
   ]
  },
  {
   "cell_type": "code",
   "execution_count": 47,
   "id": "073a4f00",
   "metadata": {},
   "outputs": [],
   "source": [
    "X = sm.add_constant(X)"
   ]
  },
  {
   "cell_type": "code",
   "execution_count": 48,
   "id": "c7c25f94",
   "metadata": {},
   "outputs": [
    {
     "name": "stdout",
     "output_type": "stream",
     "text": [
      "Optimization terminated successfully.\n",
      "         Current function value: 0.583679\n",
      "         Iterations 5\n"
     ]
    }
   ],
   "source": [
    "logit_model = sm.Logit(y, X).fit()"
   ]
  },
  {
   "cell_type": "code",
   "execution_count": 49,
   "id": "1491eec5",
   "metadata": {},
   "outputs": [
    {
     "name": "stdout",
     "output_type": "stream",
     "text": [
      "                           Logit Regression Results                           \n",
      "==============================================================================\n",
      "Dep. Variable:              Purchased   No. Observations:                   10\n",
      "Model:                          Logit   Df Residuals:                        7\n",
      "Method:                           MLE   Df Model:                            2\n",
      "Date:                Thu, 25 Sep 2025   Pseudo R-squ.:                  0.1579\n",
      "Time:                        10:20:04   Log-Likelihood:                -5.8368\n",
      "converged:                       True   LL-Null:                       -6.9315\n",
      "Covariance Type:            nonrobust   LLR p-value:                    0.3346\n",
      "==============================================================================\n",
      "                 coef    std err          z      P>|z|      [0.025      0.975]\n",
      "------------------------------------------------------------------------------\n",
      "const         -6.0497      5.562     -1.088      0.277     -16.950       4.851\n",
      "Age           -0.0793      0.271     -0.293      0.769      -0.610       0.451\n",
      "Salary         0.0001      0.000      0.626      0.531      -0.000       0.001\n",
      "==============================================================================\n"
     ]
    }
   ],
   "source": [
    "print(logit_model.summary())"
   ]
  },
  {
   "cell_type": "code",
   "execution_count": 50,
   "id": "1bb37d30",
   "metadata": {},
   "outputs": [],
   "source": [
    "X_new = pd.DataFrame({\"Age\":[30,45], \"Salary\": [55000,80000]})"
   ]
  },
  {
   "cell_type": "code",
   "execution_count": 51,
   "id": "9a413273",
   "metadata": {},
   "outputs": [],
   "source": [
    "X_new = sm.add_constant(X_new)"
   ]
  },
  {
   "cell_type": "code",
   "execution_count": 52,
   "id": "aa1ad28b",
   "metadata": {},
   "outputs": [],
   "source": [
    "y_prob = logit_model.predict(X_new)"
   ]
  },
  {
   "cell_type": "code",
   "execution_count": 53,
   "id": "df494117",
   "metadata": {},
   "outputs": [],
   "source": [
    "y_pred = (y_prob > 0.5).astype(int)"
   ]
  },
  {
   "cell_type": "code",
   "execution_count": 54,
   "id": "54ce5e89",
   "metadata": {},
   "outputs": [
    {
     "name": "stdout",
     "output_type": "stream",
     "text": [
      "0    0.388369\n",
      "1    0.878792\n",
      "dtype: float64\n"
     ]
    }
   ],
   "source": [
    "print(y_prob)"
   ]
  },
  {
   "cell_type": "code",
   "execution_count": 55,
   "id": "b87751b4",
   "metadata": {},
   "outputs": [
    {
     "name": "stdout",
     "output_type": "stream",
     "text": [
      "0    0\n",
      "1    1\n",
      "dtype: int32\n"
     ]
    }
   ],
   "source": [
    "\n",
    "print(y_pred)"
   ]
  },
  {
   "attachments": {
    "Compare_codes.png": {
     "image/png": "[encoded data removed]"
    }
   },
   "cell_type": "markdown",
   "id": "785e6a86",
   "metadata": {},
   "source": [
    "![Compare_codes.png](attachment:Compare_codes.png)"
   ]
  }
 ],
 "metadata": {
  "kernelspec": {
   "display_name": "base",
   "language": "python",
   "name": "python3"
  },
  "language_info": {
   "codemirror_mode": {
    "name": "ipython",
    "version": 3
   },
   "file_extension": ".py",
   "mimetype": "text/x-python",
   "name": "python",
   "nbconvert_exporter": "python",
   "pygments_lexer": "ipython3",
   "version": "3.12.7"
  }
 },
 "nbformat": 4,
 "nbformat_minor": 5
}
