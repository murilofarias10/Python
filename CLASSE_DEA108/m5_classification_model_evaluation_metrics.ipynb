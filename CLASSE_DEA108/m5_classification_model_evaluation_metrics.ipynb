{
  "cells": [
    {
      "cell_type": "code",
      "execution_count": 5,
      "metadata": {
        "id": "2Z7EsD1DhAes"
      },
      "outputs": [],
      "source": [
        "# 📊 Classification Metrics\n",
        "\n",
        "from sklearn.metrics import confusion_matrix, accuracy_score, precision_score, recall_score, f1_score, roc_curve, auc, log_loss\n",
        "from sklearn.datasets import make_classification\n",
        "from sklearn.model_selection import train_test_split\n",
        "from sklearn.linear_model import LogisticRegression"
      ]
    },
    {
      "cell_type": "code",
      "execution_count": 6,
      "metadata": {
        "id": "peZtBBfvhRzm"
      },
      "outputs": [],
      "source": [
        "# Generate sample classification dataset\n",
        "X, y = make_classification(n_samples=1000, n_features=5, random_state=42)\n",
        "X_train, X_test, y_train, y_test = train_test_split(X, y, test_size=0.3, random_state=42)"
      ]
    },
    {
      "cell_type": "code",
      "execution_count": 7,
      "metadata": {
        "id": "lhgFTdDkkhkm"
      },
      "outputs": [],
      "source": [
        "# Train a logistic regression model\n",
        "model = LogisticRegression()\n",
        "model.fit(X_train, y_train)\n",
        "y_pred = model.predict(X_test)\n",
        "y_prob = model.predict_proba(X_test)[:, 1]"
      ]
    },
    {
      "cell_type": "code",
      "execution_count": 8,
      "metadata": {
        "colab": {
          "base_uri": "https://localhost:8080/"
        },
        "id": "2Y92igd8kvUA",
        "outputId": "0db9a3c1-5a7e-45a4-9c32-85856ecb9155"
      },
      "outputs": [
        {
          "name": "stdout",
          "output_type": "stream",
          "text": [
            "Confusion Matrix:\n",
            " [[135  11]\n",
            " [ 22 132]]\n"
          ]
        }
      ],
      "source": [
        "# ---- Confusion Matrix\n",
        "cm = confusion_matrix(y_test, y_pred)\n",
        "print(\"Confusion Matrix:\\n\", cm)"
      ]
    },
    {
      "cell_type": "code",
      "execution_count": 9,
      "metadata": {
        "colab": {
          "base_uri": "https://localhost:8080/"
        },
        "id": "J-LztEotlA1b",
        "outputId": "0ae83e7a-5028-40f1-f30f-367ca8215441"
      },
      "outputs": [
        {
          "name": "stdout",
          "output_type": "stream",
          "text": [
            "Accuracy: 0.89\n"
          ]
        }
      ],
      "source": [
        "# ---- Accuracy\n",
        "# Formula: Accuracy = (TP + TN) / (TP + TN + FP + FN)\n",
        "acc = accuracy_score(y_test, y_pred)\n",
        "print(\"Accuracy:\", acc)"
      ]
    },
    {
      "cell_type": "code",
      "execution_count": 10,
      "metadata": {
        "colab": {
          "base_uri": "https://localhost:8080/"
        },
        "id": "-U2hTZ_DlIOG",
        "outputId": "c2d0fe6d-ce78-4e05-899e-87d1425f70da"
      },
      "outputs": [
        {
          "name": "stdout",
          "output_type": "stream",
          "text": [
            "Precision: 0.9230769230769231\n"
          ]
        }
      ],
      "source": [
        "# ---- Precision\n",
        "# Formula: Precision = TP / (TP + FP)\n",
        "prec = precision_score(y_test, y_pred)\n",
        "print(\"Precision:\", prec)"
      ]
    },
    {
      "cell_type": "code",
      "execution_count": 11,
      "metadata": {
        "colab": {
          "base_uri": "https://localhost:8080/"
        },
        "id": "Kj3JdXU4lMVZ",
        "outputId": "c8491c22-fd61-4c55-d1a7-14fca73a9226"
      },
      "outputs": [
        {
          "name": "stdout",
          "output_type": "stream",
          "text": [
            "Recall: 0.8571428571428571\n"
          ]
        }
      ],
      "source": [
        "# ---- Recall\n",
        "# Formula: Recall = TP / (TP + FN)\n",
        "rec = recall_score(y_test, y_pred)\n",
        "print(\"Recall:\", rec)"
      ]
    },
    {
      "cell_type": "code",
      "execution_count": null,
      "metadata": {
        "colab": {
          "base_uri": "https://localhost:8080/"
        },
        "id": "kNEDmiPjlVqh",
        "outputId": "d9aaa161-5e35-4b81-e394-e5efcb4ca1cb"
      },
      "outputs": [],
      "source": [
        "# ---- F1 Score\n",
        "# Formula: F1 = 2 * (Precision * Recall) / (Precision + Recall)\n",
        "f1 = f1_score(y_test, y_pred)\n",
        "print(\"F1 Score:\", f1)"
      ]
    },
    {
      "cell_type": "code",
      "execution_count": null,
      "metadata": {
        "colab": {
          "base_uri": "https://localhost:8080/"
        },
        "id": "tgIaXia5lat9",
        "outputId": "ea56c094-5ca1-45d1-c33c-89035189aa14"
      },
      "outputs": [],
      "source": [
        "# ---- Log Loss\n",
        "# Formula: - (1/n) Σ [ yi * log(pi) + (1 - yi) * log(1 - pi) ]\n",
        "ll = log_loss(y_test, y_prob)\n",
        "print(\"Log Loss:\", ll)"
      ]
    },
    {
      "cell_type": "code",
      "execution_count": 12,
      "metadata": {
        "colab": {
          "base_uri": "https://localhost:8080/"
        },
        "id": "tQibB0_QlfkX",
        "outputId": "ac98f03f-6060-411d-ae84-fe4d4a85dc45"
      },
      "outputs": [
        {
          "name": "stdout",
          "output_type": "stream",
          "text": [
            "AUC: 0.9560131649172745\n"
          ]
        }
      ],
      "source": [
        "# Let's assume we already have:\n",
        "# y_test  = actual labels (0 or 1)\n",
        "# y_prob  = predicted probabilities for the positive class (values between 0 and 1)\n",
        "\n",
        "# roc_curve() calculates three things:\n",
        "# fpr = False Positive Rate\n",
        "# tpr = True Positive Rate\n",
        "# thresholds = cutoff points for classifying probabilities into 0 or 1\n",
        "\n",
        "# ---- ROC Curve & AUC\n",
        "fpr, tpr, thresholds = roc_curve(y_test, y_prob)\n",
        "roc_auc = auc(fpr, tpr)\n",
        "print(\"AUC:\", roc_auc)"
      ]
    },
    {
      "cell_type": "code",
      "execution_count": 13,
      "metadata": {
        "id": "gh4P7azalqqR"
      },
      "outputs": [],
      "source": [
        "# Optional: Plot ROC Curve\n",
        "import matplotlib.pyplot as plt"
      ]
    },
    {
      "cell_type": "code",
      "execution_count": 14,
      "metadata": {
        "colab": {
          "base_uri": "https://localhost:8080/",
          "height": 472
        },
        "id": "BbZ4ZQXmlvWS",
        "outputId": "bcb72f05-6155-4427-d9c1-0dfcbe202a0a"
      },
      "outputs": [
        {
          "data": {
            "image/png": "[encoded data removed]",
            "text/plain": [
              "<Figure size 640x480 with 1 Axes>"
            ]
          },
          "metadata": {},
          "output_type": "display_data"
        }
      ],
      "source": [
        "\n",
        "plt.plot(fpr, tpr, label=f\"AUC = {roc_auc:.2f}\") # ROC curve\n",
        "plt.plot([0, 1], [0, 1], linestyle=\"--\", color=\"gray\") # diagonal line (random guessing)\n",
        "plt.xlabel(\"False Positive Rate\") # X-axis label\n",
        "plt.ylabel(\"True Positive Rate\") # Y-axis label\n",
        "plt.title(\"ROC Curve\") # Chart title\n",
        "plt.legend()  # Show AUC value in legend\n",
        "plt.show()"
      ]
    }
  ],
  "metadata": {
    "colab": {
      "provenance": []
    },
    "kernelspec": {
      "display_name": "base",
      "language": "python",
      "name": "python3"
    },
    "language_info": {
      "codemirror_mode": {
        "name": "ipython",
        "version": 3
      },
      "file_extension": ".py",
      "mimetype": "text/x-python",
      "name": "python",
      "nbconvert_exporter": "python",
      "pygments_lexer": "ipython3",
      "version": "3.12.7"
    }
  },
  "nbformat": 4,
  "nbformat_minor": 0
}
