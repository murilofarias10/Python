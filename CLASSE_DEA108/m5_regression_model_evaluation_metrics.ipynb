{
  "nbformat": 4,
  "nbformat_minor": 0,
  "metadata": {
    "colab": {
      "provenance": []
    },
    "kernelspec": {
      "name": "python3",
      "display_name": "Python 3"
    },
    "language_info": {
      "name": "python"
    }
  },
  "cells": [
    {
      "cell_type": "code",
      "source": [
        "import numpy as np\n",
        "\n",
        "from sklearn.metrics import mean_absolute_error, mean_squared_error, r2_score, mean_absolute_percentage_error"
      ],
      "metadata": {
        "id": "Yy1KFu-aWYgh"
      },
      "execution_count": 12,
      "outputs": []
    },
    {
      "cell_type": "code",
      "source": [
        "# Sample regression dataset\n",
        "y_true = np.array([3, -0.5, 2, 7])\n",
        "y_pred = np.array([2.5, 0.0, 2, 8])"
      ],
      "metadata": {
        "id": "A7T0Edy-ZTnR"
      },
      "execution_count": 2,
      "outputs": []
    },
    {
      "cell_type": "code",
      "source": [
        "# ---- Mean Absolute Error (MAE)\n",
        "# Formula: MAE = (1/n) * Σ |yi - ŷi|\n",
        "mae = mean_absolute_error(y_true, y_pred)\n",
        "print(\"MAE:\", mae)"
      ],
      "metadata": {
        "colab": {
          "base_uri": "https://localhost:8080/"
        },
        "id": "dMpAHWPTZgU3",
        "outputId": "4a46ee04-8401-4bcc-835c-10f4ae9386b3"
      },
      "execution_count": 3,
      "outputs": [
        {
          "output_type": "stream",
          "name": "stdout",
          "text": [
            "MAE: 0.5\n"
          ]
        }
      ]
    },
    {
      "cell_type": "code",
      "source": [
        "# ---- Mean Squared Error (MSE)\n",
        "# Formula: MSE = (1/n) * Σ (yi - ŷi)^2\n",
        "mse = mean_squared_error(y_true, y_pred)\n",
        "print(\"MSE:\", mse)"
      ],
      "metadata": {
        "colab": {
          "base_uri": "https://localhost:8080/"
        },
        "id": "HGiPudVFZqve",
        "outputId": "75fcd6f9-34a4-4076-d931-7bb0afd69b51"
      },
      "execution_count": 4,
      "outputs": [
        {
          "output_type": "stream",
          "name": "stdout",
          "text": [
            "MSE: 0.375\n"
          ]
        }
      ]
    },
    {
      "cell_type": "code",
      "source": [
        "# ---- Root Mean Squared Error (RMSE)\n",
        "# Formula: RMSE = sqrt(MSE)\n",
        "rmse = np.sqrt(mse)\n",
        "print(\"RMSE:\", rmse)"
      ],
      "metadata": {
        "colab": {
          "base_uri": "https://localhost:8080/"
        },
        "id": "rmLBde0KZzMG",
        "outputId": "32cb3af6-16ce-4596-9d3a-ea803762cd98"
      },
      "execution_count": 5,
      "outputs": [
        {
          "output_type": "stream",
          "name": "stdout",
          "text": [
            "RMSE: 0.6123724356957945\n"
          ]
        }
      ]
    },
    {
      "cell_type": "code",
      "source": [
        "# ---- R-Squared (R²)\n",
        "# Formula: R² = 1 - (Σ (yi - ŷi)^2 / Σ (yi - ȳ)^2)\n",
        "r2 = r2_score(y_true, y_pred)\n",
        "print(\"R²:\", r2)"
      ],
      "metadata": {
        "colab": {
          "base_uri": "https://localhost:8080/"
        },
        "id": "duuBESVbZ8qG",
        "outputId": "db6facea-3481-4747-b25e-7612d95b4557"
      },
      "execution_count": 6,
      "outputs": [
        {
          "output_type": "stream",
          "name": "stdout",
          "text": [
            "R²: 0.9486081370449679\n"
          ]
        }
      ]
    },
    {
      "cell_type": "code",
      "source": [
        "\n",
        "# ---- Mean Absolute Percentage Error (MAPE)\n",
        "# Formula: MAPE = (100/n) * Σ |(yi - ŷi) / yi|\n",
        "mape = mean_absolute_percentage_error(y_true, y_pred)\n",
        "print(\"MAPE:\", mape)"
      ],
      "metadata": {
        "colab": {
          "base_uri": "https://localhost:8080/"
        },
        "id": "Qis5SEfdcPen",
        "outputId": "7ad233b9-ba4b-427f-df24-6f2d153776ff"
      },
      "execution_count": 11,
      "outputs": [
        {
          "output_type": "stream",
          "name": "stdout",
          "text": [
            "MAPE: 0.3273809523809524\n"
          ]
        }
      ]
    },
    {
      "cell_type": "code",
      "source": [],
      "metadata": {
        "id": "7MfMEjhBdLiY"
      },
      "execution_count": null,
      "outputs": []
    }
  ]
}