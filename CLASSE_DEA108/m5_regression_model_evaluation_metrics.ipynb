{
  "cells": [
    {
      "cell_type": "code",
      "execution_count": 1,
      "metadata": {
        "id": "Yy1KFu-aWYgh"
      },
      "outputs": [],
      "source": [
        "import numpy as np\n",
        "\n",
        "from sklearn.metrics import mean_absolute_error, mean_squared_error, r2_score, mean_absolute_percentage_error"
      ]
    },
    {
      "cell_type": "code",
      "execution_count": 2,
      "metadata": {
        "id": "A7T0Edy-ZTnR"
      },
      "outputs": [],
      "source": [
        "# Sample regression dataset\n",
        "y_true = np.array([3, -0.5, 2, 7])\n",
        "y_pred = np.array([2.5, 0.0, 2, 8])"
      ]
    },
    {
      "cell_type": "code",
      "execution_count": 3,
      "metadata": {
        "colab": {
          "base_uri": "https://localhost:8080/"
        },
        "id": "dMpAHWPTZgU3",
        "outputId": "4a46ee04-8401-4bcc-835c-10f4ae9386b3"
      },
      "outputs": [
        {
          "name": "stdout",
          "output_type": "stream",
          "text": [
            "MAE: 0.5\n"
          ]
        }
      ],
      "source": [
        "# ---- Mean Absolute Error (MAE)\n",
        "# Formula: MAE = (1/n) * Σ |yi - ŷi|\n",
        "mae = mean_absolute_error(y_true, y_pred)\n",
        "print(\"MAE:\", mae)"
      ]
    },
    {
      "cell_type": "code",
      "execution_count": 4,
      "metadata": {
        "colab": {
          "base_uri": "https://localhost:8080/"
        },
        "id": "HGiPudVFZqve",
        "outputId": "75fcd6f9-34a4-4076-d931-7bb0afd69b51"
      },
      "outputs": [
        {
          "name": "stdout",
          "output_type": "stream",
          "text": [
            "MSE: 0.375\n"
          ]
        }
      ],
      "source": [
        "# ---- Mean Squared Error (MSE)\n",
        "# Formula: MSE = (1/n) * Σ (yi - ŷi)^2\n",
        "mse = mean_squared_error(y_true, y_pred)\n",
        "print(\"MSE:\", mse)"
      ]
    },
    {
      "cell_type": "code",
      "execution_count": 5,
      "metadata": {
        "colab": {
          "base_uri": "https://localhost:8080/"
        },
        "id": "rmLBde0KZzMG",
        "outputId": "32cb3af6-16ce-4596-9d3a-ea803762cd98"
      },
      "outputs": [
        {
          "name": "stdout",
          "output_type": "stream",
          "text": [
            "RMSE: 0.6123724356957945\n"
          ]
        }
      ],
      "source": [
        "# ---- Root Mean Squared Error (RMSE)\n",
        "# Formula: RMSE = sqrt(MSE)\n",
        "rmse = np.sqrt(mse)\n",
        "print(\"RMSE:\", rmse)"
      ]
    },
    {
      "cell_type": "code",
      "execution_count": 6,
      "metadata": {
        "colab": {
          "base_uri": "https://localhost:8080/"
        },
        "id": "duuBESVbZ8qG",
        "outputId": "db6facea-3481-4747-b25e-7612d95b4557"
      },
      "outputs": [
        {
          "name": "stdout",
          "output_type": "stream",
          "text": [
            "R²: 0.9486081370449679\n"
          ]
        }
      ],
      "source": [
        "# ---- R-Squared (R²)\n",
        "# Formula: R² = 1 - (Σ (yi - ŷi)^2 / Σ (yi - ȳ)^2)\n",
        "r2 = r2_score(y_true, y_pred)\n",
        "print(\"R²:\", r2)"
      ]
    },
    {
      "cell_type": "code",
      "execution_count": 7,
      "metadata": {
        "colab": {
          "base_uri": "https://localhost:8080/"
        },
        "id": "Qis5SEfdcPen",
        "outputId": "7ad233b9-ba4b-427f-df24-6f2d153776ff"
      },
      "outputs": [
        {
          "name": "stdout",
          "output_type": "stream",
          "text": [
            "MAPE: 0.3273809523809524\n"
          ]
        }
      ],
      "source": [
        "\n",
        "# ---- Mean Absolute Percentage Error (MAPE)\n",
        "# Formula: MAPE = (100/n) * Σ |(yi - ŷi) / yi|\n",
        "mape = mean_absolute_percentage_error(y_true, y_pred)\n",
        "print(\"MAPE:\", mape)"
      ]
    }
  ],
  "metadata": {
    "colab": {
      "provenance": []
    },
    "kernelspec": {
      "display_name": "base",
      "language": "python",
      "name": "python3"
    },
    "language_info": {
      "codemirror_mode": {
        "name": "ipython",
        "version": 3
      },
      "file_extension": ".py",
      "mimetype": "text/x-python",
      "name": "python",
      "nbconvert_exporter": "python",
      "pygments_lexer": "ipython3",
      "version": "3.12.7"
    }
  },
  "nbformat": 4,
  "nbformat_minor": 0
}
