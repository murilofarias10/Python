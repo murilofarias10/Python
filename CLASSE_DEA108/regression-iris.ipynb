{
 "cells": [
  {
   "cell_type": "code",
   "execution_count": 2,
   "id": "e61fc26c-e023-4499-8d81-01556b492524",
   "metadata": {},
   "outputs": [],
   "source": [
    "#Importat libraries\n",
    "import pandas as pd\n",
    "import seaborn as sns\n",
    "import statsmodels.api as sm\n",
    "from statsmodels.stats.outliers_influence import variance_inflation_factor"
   ]
  },
  {
   "cell_type": "code",
   "execution_count": 3,
   "id": "50490652-53ac-44ea-9e50-08d821ea1239",
   "metadata": {},
   "outputs": [],
   "source": [
    "#load the iris dataset from sns\n",
    "iris = sns.load_dataset('iris')\n",
    "\n",
    "#read\n",
    "df = pd.read_csv(\"iris-1.csv\")\n",
    "\n",
    "df2 = \"C://Users/MuriloFarias/Desktop/GitHub/Python/CLASSE_DEA108/iris-1.csv\"\n",
    "#df = pd.read_csv(file_path)"
   ]
  },
  {
   "cell_type": "code",
   "execution_count": 3,
   "id": "84e54e76-cd22-45a7-98f6-95d87bfc730e",
   "metadata": {},
   "outputs": [
    {
     "name": "stdout",
     "output_type": "stream",
     "text": [
      "       sepal_length  sepal_width  petal_length  petal_width\n",
      "count    150.000000   150.000000    150.000000   150.000000\n",
      "mean       5.843333     3.057333      3.758000     1.199333\n",
      "std        0.828066     0.435866      1.765298     0.762238\n",
      "min        4.300000     2.000000      1.000000     0.100000\n",
      "25%        5.100000     2.800000      1.600000     0.300000\n",
      "50%        5.800000     3.000000      4.350000     1.300000\n",
      "75%        6.400000     3.300000      5.100000     1.800000\n",
      "max        7.900000     4.400000      6.900000     2.500000\n"
     ]
    }
   ],
   "source": [
    "print(iris.describe())"
   ]
  },
  {
   "cell_type": "code",
   "execution_count": 4,
   "id": "2f536acb-7f91-449e-952a-ecc61b33b34d",
   "metadata": {},
   "outputs": [
    {
     "name": "stdout",
     "output_type": "stream",
     "text": [
      "              sepal_length  sepal_width  petal_length  petal_width\n",
      "sepal_length      1.000000    -0.117570      0.871754     0.817941\n",
      "sepal_width      -0.117570     1.000000     -0.428440    -0.366126\n",
      "petal_length      0.871754    -0.428440      1.000000     0.962865\n",
      "petal_width       0.817941    -0.366126      0.962865     1.000000\n"
     ]
    }
   ],
   "source": [
    "print(iris.select_dtypes(include='number').corr())"
   ]
  },
  {
   "cell_type": "code",
   "execution_count": 5,
   "id": "391be26d-2c2f-453e-9324-017c19f96e1a",
   "metadata": {},
   "outputs": [],
   "source": [
    "x = iris.select_dtypes(include='number')"
   ]
  },
  {
   "cell_type": "code",
   "execution_count": 6,
   "id": "e5df6c90-5e0a-4fbe-8410-582003fa66d8",
   "metadata": {},
   "outputs": [],
   "source": [
    "y = x.pop('sepal_length')"
   ]
  },
  {
   "cell_type": "code",
   "execution_count": 7,
   "id": "80e12bc1-9e99-4947-ac04-4298c02bb255",
   "metadata": {},
   "outputs": [],
   "source": [
    "def compute_vif(df):\n",
    "    vif_data = pd.DataFrame()\n",
    "    vif_data[\"feature\"] = df.columns\n",
    "    vif_data[\"VIF\"] = [variance_inflation_factor(df.values, i) for i in range(df.shape[1])]\n",
    "    return vif_data"
   ]
  },
  {
   "cell_type": "code",
   "execution_count": 8,
   "id": "a3b5a6b0-b0eb-4bed-b0d2-ffdec274c203",
   "metadata": {},
   "outputs": [
    {
     "name": "stdout",
     "output_type": "stream",
     "text": [
      "        feature        VIF\n",
      "0   sepal_width   5.856965\n",
      "1  petal_length  62.071308\n",
      "2   petal_width  43.292574\n"
     ]
    }
   ],
   "source": [
    "print(compute_vif(x))"
   ]
  },
  {
   "cell_type": "code",
   "execution_count": 9,
   "id": "b261bee4-a779-4e49-9cbb-585373048896",
   "metadata": {},
   "outputs": [
    {
     "name": "stdout",
     "output_type": "stream",
     "text": [
      "        feature      VIF\n",
      "0   sepal_width  4.14612\n",
      "1  petal_length  4.14612\n"
     ]
    }
   ],
   "source": [
    "x_reduced = x.drop('petal_width', axis=1)\n",
    "print(compute_vif(x_reduced))"
   ]
  },
  {
   "cell_type": "markdown",
   "id": "a10e1fd3-d7c1-4e94-94b4-fda033ac47ee",
   "metadata": {},
   "source": [
    "SECOND APPROACH"
   ]
  },
  {
   "cell_type": "code",
   "execution_count": 1,
   "id": "7ffb9a10-3f64-4c72-a273-f01075911af9",
   "metadata": {},
   "outputs": [],
   "source": [
    "#Importat libraries\n",
    "import pandas as pd\n",
    "import seaborn as sns\n",
    "import statsmodels.api as sm\n",
    "from statsmodels.stats.outliers_influence import variance_inflation_factor\n",
    "iris = sns.load_dataset('iris')\n",
    "iris = sns.load_dataset('iris')\n",
    "x = iris.select_dtypes(include='number')\n",
    "y = x.pop('sepal_length')\n",
    "#drop one of the strongly correlated variables\n",
    "x_reduced = x.drop('petal_width', axis=1)\n",
    "print(x_reduced.select_dtypes(include='number').corr())\n",
    "x_reduced = sm.add_constant(x_reduced)\n",
    "model = sm.OLS(y, x_reduced).fit()\n",
    "print(model.summary())\n",
    "print(x_reduced.select_dtypes(include='number').corr())"
   ]
  },
  {
   "cell_type": "code",
   "execution_count": 9,
   "id": "c859183b-ec6d-4b00-b115-ae078cdc86dd",
   "metadata": {},
   "outputs": [
    {
     "name": "stdout",
     "output_type": "stream",
     "text": [
      "                            OLS Regression Results                            \n",
      "==============================================================================\n",
      "Dep. Variable:           sepal_length   R-squared:                       0.840\n",
      "Model:                            OLS   Adj. R-squared:                  0.838\n",
      "Method:                 Least Squares   F-statistic:                     386.4\n",
      "Date:                Thu, 11 Sep 2025   Prob (F-statistic):           2.93e-59\n",
      "Time:                        19:17:28   Log-Likelihood:                -46.513\n",
      "No. Observations:                 150   AIC:                             99.03\n",
      "Df Residuals:                     147   BIC:                             108.1\n",
      "Df Model:                           2                                         \n",
      "Covariance Type:            nonrobust                                         \n",
      "================================================================================\n",
      "                   coef    std err          t      P>|t|      [0.025      0.975]\n",
      "--------------------------------------------------------------------------------\n",
      "const            2.2491      0.248      9.070      0.000       1.759       2.739\n",
      "sepal_width      0.5955      0.069      8.590      0.000       0.459       0.733\n",
      "petal_length     0.4719      0.017     27.569      0.000       0.438       0.506\n",
      "==============================================================================\n",
      "Omnibus:                        0.164   Durbin-Watson:                   2.021\n",
      "Prob(Omnibus):                  0.921   Jarque-Bera (JB):                0.319\n",
      "Skew:                          -0.044   Prob(JB):                        0.853\n",
      "Kurtosis:                       2.792   Cond. No.                         48.3\n",
      "==============================================================================\n",
      "\n",
      "Notes:\n",
      "[1] Standard Errors assume that the covariance matrix of the errors is correctly specified.\n"
     ]
    }
   ],
   "source": [
    "\n",
    "#sepal_lengh = 2.2491+sepal_width(0.5955)+petal_length(0.4719)  \n",
    "\n",
    "#strong negative correlative  \n",
    "#percentages "
   ]
  },
  {
   "cell_type": "code",
   "execution_count": null,
   "id": "0ea8c37d-3f0b-43e0-b961-dee4f5507f8d",
   "metadata": {},
   "outputs": [],
   "source": []
  }
 ],
 "metadata": {
  "kernelspec": {
   "display_name": "Python 3 (ipykernel)",
   "language": "python",
   "name": "python3"
  },
  "language_info": {
   "codemirror_mode": {
    "name": "ipython",
    "version": 3
   },
   "file_extension": ".py",
   "mimetype": "text/x-python",
   "name": "python",
   "nbconvert_exporter": "python",
   "pygments_lexer": "ipython3",
   "version": "3.12.7"
  }
 },
 "nbformat": 4,
 "nbformat_minor": 5
}
