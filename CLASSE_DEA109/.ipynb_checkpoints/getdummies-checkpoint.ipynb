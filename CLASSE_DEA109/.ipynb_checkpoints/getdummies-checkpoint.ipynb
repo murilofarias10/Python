{
 "cells": [
  {
   "cell_type": "code",
   "execution_count": 1,
   "id": "eadb3610-1929-45d8-b02f-37dc58a57045",
   "metadata": {},
   "outputs": [],
   "source": [
    "import pandas as pd"
   ]
  },
  {
   "cell_type": "code",
   "execution_count": 5,
   "id": "88fb4a51-97a5-48ed-8cf2-eb5be0211a99",
   "metadata": {},
   "outputs": [],
   "source": [
    "data = {\n",
    "'Neighborhood' : ['Downtown', 'Suburb', 'Suburb', 'Rural'],\n",
    "'Price': [500000, 300000, 350000, 200000]\n",
    "}"
   ]
  },
  {
   "cell_type": "code",
   "execution_count": 16,
   "id": "81a67c82-5f0b-46a6-8ddf-5d2e9093cb2d",
   "metadata": {},
   "outputs": [],
   "source": [
    "df = pd.DataFrame(data)"
   ]
  },
  {
   "cell_type": "code",
   "execution_count": 17,
   "id": "dcba7b53-601b-4ffb-9f6e-4e35dc13aea8",
   "metadata": {},
   "outputs": [
    {
     "data": {
      "text/html": [
       "<div>\n",
       "<style scoped>\n",
       "    .dataframe tbody tr th:only-of-type {\n",
       "        vertical-align: middle;\n",
       "    }\n",
       "\n",
       "    .dataframe tbody tr th {\n",
       "        vertical-align: top;\n",
       "    }\n",
       "\n",
       "    .dataframe thead th {\n",
       "        text-align: right;\n",
       "    }\n",
       "</style>\n",
       "<table border=\"1\" class=\"dataframe\">\n",
       "  <thead>\n",
       "    <tr style=\"text-align: right;\">\n",
       "      <th></th>\n",
       "      <th>Neighborhood</th>\n",
       "      <th>Price</th>\n",
       "    </tr>\n",
       "  </thead>\n",
       "  <tbody>\n",
       "    <tr>\n",
       "      <th>0</th>\n",
       "      <td>Downtown</td>\n",
       "      <td>500000</td>\n",
       "    </tr>\n",
       "    <tr>\n",
       "      <th>1</th>\n",
       "      <td>Suburb</td>\n",
       "      <td>300000</td>\n",
       "    </tr>\n",
       "    <tr>\n",
       "      <th>2</th>\n",
       "      <td>Suburb</td>\n",
       "      <td>350000</td>\n",
       "    </tr>\n",
       "    <tr>\n",
       "      <th>3</th>\n",
       "      <td>Rural</td>\n",
       "      <td>200000</td>\n",
       "    </tr>\n",
       "  </tbody>\n",
       "</table>\n",
       "</div>"
      ],
      "text/plain": [
       "  Neighborhood   Price\n",
       "0     Downtown  500000\n",
       "1       Suburb  300000\n",
       "2       Suburb  350000\n",
       "3        Rural  200000"
      ]
     },
     "execution_count": 17,
     "metadata": {},
     "output_type": "execute_result"
    }
   ],
   "source": [
    "df.head()"
   ]
  },
  {
   "cell_type": "code",
   "execution_count": 9,
   "id": "d90d2853-2a34-4124-aca4-582231115748",
   "metadata": {},
   "outputs": [
    {
     "name": "stdout",
     "output_type": "stream",
     "text": [
      "          Price\n",
      "count       4.0\n",
      "mean   337500.0\n",
      "std    125000.0\n",
      "min    200000.0\n",
      "25%    275000.0\n",
      "50%    325000.0\n",
      "75%    387500.0\n",
      "max    500000.0\n"
     ]
    }
   ],
   "source": [
    "print(df.describe())"
   ]
  },
  {
   "cell_type": "code",
   "execution_count": 12,
   "id": "6334f98e-4fb0-4989-8ce4-1cd1311d687c",
   "metadata": {},
   "outputs": [],
   "source": [
    "df_dummies = pd.get_dummies(df, columns=['Neighborhood'], drop_first=True, dtype=int)"
   ]
  },
  {
   "cell_type": "code",
   "execution_count": 13,
   "id": "861accae-38d6-4aff-ac75-13452b56eb3e",
   "metadata": {},
   "outputs": [
    {
     "name": "stdout",
     "output_type": "stream",
     "text": [
      "    Price  Neighborhood_Rural  Neighborhood_Suburb\n",
      "0  500000                   0                    0\n",
      "1  300000                   0                    1\n",
      "2  350000                   0                    1\n",
      "3  200000                   1                    0\n"
     ]
    }
   ],
   "source": [
    "print(df_dummies)"
   ]
  },
  {
   "cell_type": "code",
   "execution_count": 14,
   "id": "c569f8da-1955-432c-8af6-93272345cd57",
   "metadata": {},
   "outputs": [],
   "source": [
    "df_dummies = pd.get_dummies(df, columns=['Neighborhood'], drop_first=False, dtype=int)"
   ]
  },
  {
   "cell_type": "code",
   "execution_count": 15,
   "id": "b6fcb172-db87-4e82-a014-c723baef2799",
   "metadata": {},
   "outputs": [
    {
     "name": "stdout",
     "output_type": "stream",
     "text": [
      "    Price  Neighborhood_Downtown  Neighborhood_Rural  Neighborhood_Suburb\n",
      "0  500000                      1                   0                    0\n",
      "1  300000                      0                   0                    1\n",
      "2  350000                      0                   0                    1\n",
      "3  200000                      0                   1                    0\n"
     ]
    }
   ],
   "source": [
    "print(df_dummies)"
   ]
  }
 ],
 "metadata": {
  "kernelspec": {
   "display_name": "Python 3 (ipykernel)",
   "language": "python",
   "name": "python3"
  },
  "language_info": {
   "codemirror_mode": {
    "name": "ipython",
    "version": 3
   },
   "file_extension": ".py",
   "mimetype": "text/x-python",
   "name": "python",
   "nbconvert_exporter": "python",
   "pygments_lexer": "ipython3",
   "version": "3.12.7"
  }
 },
 "nbformat": 4,
 "nbformat_minor": 5
}
