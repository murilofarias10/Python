{
 "cells": [
  {
   "cell_type": "markdown",
   "id": "acd58ad3-575b-4453-a2e2-aee9a225cc54",
   "metadata": {},
   "source": [
    "For this assignment, you must select a dataset that meets the following criteria:\n",
    "1\n",
    "It should be a labeled dataset with clearly defined target variables. A labeled dataset allows you to explore relationships between features and targets, making your analysis more focused and actionable. \n",
    "\n",
    "2\n",
    "Consisting of at least 1000 rows to ensure adequate data for meaningful analysis.\n",
    "\n",
    "3\n",
    "Most of the features should be numerical, enabling the creation of diverse and insightful visualizations such as scatter plots, histograms, and heat maps.\n"
   ]
  },
  {
   "cell_type": "code",
   "execution_count": 2,
   "id": "d504d798-ca48-404d-aa1d-330dc37b13ce",
   "metadata": {},
   "outputs": [
    {
     "name": "stdout",
     "output_type": "stream",
     "text": [
      "Requirement already satisfied: scikit-learn in c:\\users\\murilofarias\\anaconda3\\lib\\site-packages (1.5.1)\n",
      "Requirement already satisfied: numpy>=1.19.5 in c:\\users\\murilofarias\\anaconda3\\lib\\site-packages (from scikit-learn) (1.26.4)\n",
      "Requirement already satisfied: scipy>=1.6.0 in c:\\users\\murilofarias\\anaconda3\\lib\\site-packages (from scikit-learn) (1.13.1)\n",
      "Requirement already satisfied: joblib>=1.2.0 in c:\\users\\murilofarias\\anaconda3\\lib\\site-packages (from scikit-learn) (1.4.2)\n",
      "Requirement already satisfied: threadpoolctl>=3.1.0 in c:\\users\\murilofarias\\anaconda3\\lib\\site-packages (from scikit-learn) (3.5.0)\n",
      "Requirement already satisfied: pandas in c:\\users\\murilofarias\\anaconda3\\lib\\site-packages (2.2.2)\n",
      "Requirement already satisfied: numpy>=1.26.0 in c:\\users\\murilofarias\\anaconda3\\lib\\site-packages (from pandas) (1.26.4)\n",
      "Requirement already satisfied: python-dateutil>=2.8.2 in c:\\users\\murilofarias\\anaconda3\\lib\\site-packages (from pandas) (2.9.0.post0)\n",
      "Requirement already satisfied: pytz>=2020.1 in c:\\users\\murilofarias\\anaconda3\\lib\\site-packages (from pandas) (2024.1)\n",
      "Requirement already satisfied: tzdata>=2022.7 in c:\\users\\murilofarias\\anaconda3\\lib\\site-packages (from pandas) (2023.3)\n",
      "Requirement already satisfied: six>=1.5 in c:\\users\\murilofarias\\anaconda3\\lib\\site-packages (from python-dateutil>=2.8.2->pandas) (1.16.0)\n",
      "Collecting tensorflow\n",
      "  Downloading tensorflow-2.20.0-cp312-cp312-win_amd64.whl.metadata (4.6 kB)\n",
      "Collecting absl-py>=1.0.0 (from tensorflow)\n",
      "  Downloading absl_py-2.3.1-py3-none-any.whl.metadata (3.3 kB)\n",
      "Collecting astunparse>=1.6.0 (from tensorflow)\n",
      "  Downloading astunparse-1.6.3-py2.py3-none-any.whl.metadata (4.4 kB)\n",
      "Collecting flatbuffers>=24.3.25 (from tensorflow)\n",
      "  Downloading flatbuffers-25.2.10-py2.py3-none-any.whl.metadata (875 bytes)\n",
      "Collecting gast!=0.5.0,!=0.5.1,!=0.5.2,>=0.2.1 (from tensorflow)\n",
      "  Using cached gast-0.6.0-py3-none-any.whl.metadata (1.3 kB)\n",
      "Collecting google_pasta>=0.1.1 (from tensorflow)\n",
      "  Downloading google_pasta-0.2.0-py3-none-any.whl.metadata (814 bytes)\n",
      "Collecting libclang>=13.0.0 (from tensorflow)\n",
      "  Using cached libclang-18.1.1-py2.py3-none-win_amd64.whl.metadata (5.3 kB)\n",
      "Collecting opt_einsum>=2.3.2 (from tensorflow)\n",
      "  Downloading opt_einsum-3.4.0-py3-none-any.whl.metadata (6.3 kB)\n",
      "Requirement already satisfied: packaging in c:\\users\\murilofarias\\anaconda3\\lib\\site-packages (from tensorflow) (24.1)\n",
      "Collecting protobuf>=5.28.0 (from tensorflow)\n",
      "  Downloading protobuf-6.32.0-cp310-abi3-win_amd64.whl.metadata (593 bytes)\n",
      "Requirement already satisfied: requests<3,>=2.21.0 in c:\\users\\murilofarias\\anaconda3\\lib\\site-packages (from tensorflow) (2.32.3)\n",
      "Requirement already satisfied: setuptools in c:\\users\\murilofarias\\anaconda3\\lib\\site-packages (from tensorflow) (75.1.0)\n",
      "Requirement already satisfied: six>=1.12.0 in c:\\users\\murilofarias\\anaconda3\\lib\\site-packages (from tensorflow) (1.16.0)\n",
      "Collecting termcolor>=1.1.0 (from tensorflow)\n",
      "  Downloading termcolor-3.1.0-py3-none-any.whl.metadata (6.4 kB)\n",
      "Requirement already satisfied: typing_extensions>=3.6.6 in c:\\users\\murilofarias\\anaconda3\\lib\\site-packages (from tensorflow) (4.11.0)\n",
      "Requirement already satisfied: wrapt>=1.11.0 in c:\\users\\murilofarias\\anaconda3\\lib\\site-packages (from tensorflow) (1.14.1)\n",
      "Collecting grpcio<2.0,>=1.24.3 (from tensorflow)\n",
      "  Downloading grpcio-1.74.0-cp312-cp312-win_amd64.whl.metadata (4.0 kB)\n",
      "Collecting tensorboard~=2.20.0 (from tensorflow)\n",
      "  Downloading tensorboard-2.20.0-py3-none-any.whl.metadata (1.8 kB)\n",
      "Collecting keras>=3.10.0 (from tensorflow)\n",
      "  Downloading keras-3.11.3-py3-none-any.whl.metadata (5.9 kB)\n",
      "Requirement already satisfied: numpy>=1.26.0 in c:\\users\\murilofarias\\anaconda3\\lib\\site-packages (from tensorflow) (1.26.4)\n",
      "Requirement already satisfied: h5py>=3.11.0 in c:\\users\\murilofarias\\anaconda3\\lib\\site-packages (from tensorflow) (3.11.0)\n",
      "Collecting ml_dtypes<1.0.0,>=0.5.1 (from tensorflow)\n",
      "  Downloading ml_dtypes-0.5.3-cp312-cp312-win_amd64.whl.metadata (9.2 kB)\n",
      "Requirement already satisfied: wheel<1.0,>=0.23.0 in c:\\users\\murilofarias\\anaconda3\\lib\\site-packages (from astunparse>=1.6.0->tensorflow) (0.44.0)\n",
      "Requirement already satisfied: rich in c:\\users\\murilofarias\\anaconda3\\lib\\site-packages (from keras>=3.10.0->tensorflow) (13.7.1)\n",
      "Collecting namex (from keras>=3.10.0->tensorflow)\n",
      "  Downloading namex-0.1.0-py3-none-any.whl.metadata (322 bytes)\n",
      "Collecting optree (from keras>=3.10.0->tensorflow)\n",
      "  Downloading optree-0.17.0-cp312-cp312-win_amd64.whl.metadata (34 kB)\n",
      "Requirement already satisfied: charset-normalizer<4,>=2 in c:\\users\\murilofarias\\anaconda3\\lib\\site-packages (from requests<3,>=2.21.0->tensorflow) (3.3.2)\n",
      "Requirement already satisfied: idna<4,>=2.5 in c:\\users\\murilofarias\\anaconda3\\lib\\site-packages (from requests<3,>=2.21.0->tensorflow) (3.7)\n",
      "Requirement already satisfied: urllib3<3,>=1.21.1 in c:\\users\\murilofarias\\anaconda3\\lib\\site-packages (from requests<3,>=2.21.0->tensorflow) (2.2.3)\n",
      "Requirement already satisfied: certifi>=2017.4.17 in c:\\users\\murilofarias\\anaconda3\\lib\\site-packages (from requests<3,>=2.21.0->tensorflow) (2025.8.3)\n",
      "Requirement already satisfied: markdown>=2.6.8 in c:\\users\\murilofarias\\anaconda3\\lib\\site-packages (from tensorboard~=2.20.0->tensorflow) (3.4.1)\n",
      "Requirement already satisfied: pillow in c:\\users\\murilofarias\\anaconda3\\lib\\site-packages (from tensorboard~=2.20.0->tensorflow) (10.4.0)\n",
      "Collecting tensorboard-data-server<0.8.0,>=0.7.0 (from tensorboard~=2.20.0->tensorflow)\n",
      "  Downloading tensorboard_data_server-0.7.2-py3-none-any.whl.metadata (1.1 kB)\n",
      "Requirement already satisfied: werkzeug>=1.0.1 in c:\\users\\murilofarias\\anaconda3\\lib\\site-packages (from tensorboard~=2.20.0->tensorflow) (3.0.3)\n",
      "Requirement already satisfied: MarkupSafe>=2.1.1 in c:\\users\\murilofarias\\anaconda3\\lib\\site-packages (from werkzeug>=1.0.1->tensorboard~=2.20.0->tensorflow) (2.1.3)\n",
      "Requirement already satisfied: markdown-it-py>=2.2.0 in c:\\users\\murilofarias\\anaconda3\\lib\\site-packages (from rich->keras>=3.10.0->tensorflow) (2.2.0)\n",
      "Requirement already satisfied: pygments<3.0.0,>=2.13.0 in c:\\users\\murilofarias\\anaconda3\\lib\\site-packages (from rich->keras>=3.10.0->tensorflow) (2.15.1)\n",
      "Requirement already satisfied: mdurl~=0.1 in c:\\users\\murilofarias\\anaconda3\\lib\\site-packages (from markdown-it-py>=2.2.0->rich->keras>=3.10.0->tensorflow) (0.1.0)\n",
      "Downloading tensorflow-2.20.0-cp312-cp312-win_amd64.whl (331.9 MB)\n",
      "   ---------------------------------------- 0.0/331.9 MB ? eta -:--:--\n",
      "    --------------------------------------- 8.1/331.9 MB 46.0 MB/s eta 0:00:08\n",
      "   -- ------------------------------------- 18.1/331.9 MB 45.7 MB/s eta 0:00:07\n",
      "   --- ------------------------------------ 29.6/331.9 MB 49.5 MB/s eta 0:00:07\n",
      "   ---- ----------------------------------- 40.1/331.9 MB 49.1 MB/s eta 0:00:06\n",
      "   ------ --------------------------------- 51.1/331.9 MB 50.1 MB/s eta 0:00:06\n",
      "   ------- -------------------------------- 62.1/331.9 MB 50.8 MB/s eta 0:00:06\n",
      "   -------- ------------------------------- 73.4/331.9 MB 51.5 MB/s eta 0:00:06\n",
      "   ---------- ----------------------------- 84.7/331.9 MB 51.9 MB/s eta 0:00:05\n",
      "   ----------- ---------------------------- 94.1/331.9 MB 51.3 MB/s eta 0:00:05\n",
      "   ------------ -------------------------- 105.6/331.9 MB 51.9 MB/s eta 0:00:05\n",
      "   ------------- ------------------------- 116.1/331.9 MB 51.9 MB/s eta 0:00:05\n",
      "   -------------- ------------------------ 126.6/331.9 MB 51.8 MB/s eta 0:00:04\n",
      "   ---------------- ---------------------- 139.2/331.9 MB 52.3 MB/s eta 0:00:04\n",
      "   ----------------- --------------------- 150.2/331.9 MB 52.2 MB/s eta 0:00:04\n",
      "   ------------------- ------------------- 161.7/331.9 MB 52.2 MB/s eta 0:00:04\n",
      "   -------------------- ------------------ 174.1/331.9 MB 52.7 MB/s eta 0:00:03\n",
      "   --------------------- ----------------- 187.2/331.9 MB 53.2 MB/s eta 0:00:03\n",
      "   ----------------------- --------------- 199.5/331.9 MB 53.6 MB/s eta 0:00:03\n",
      "   ------------------------ -------------- 209.7/331.9 MB 53.4 MB/s eta 0:00:03\n",
      "   ------------------------- ------------- 219.9/331.9 MB 53.3 MB/s eta 0:00:03\n",
      "   --------------------------- ----------- 231.5/331.9 MB 53.4 MB/s eta 0:00:02\n",
      "   ---------------------------- ---------- 242.2/331.9 MB 53.2 MB/s eta 0:00:02\n",
      "   ----------------------------- --------- 253.8/331.9 MB 53.4 MB/s eta 0:00:02\n",
      "   ------------------------------- ------- 265.8/331.9 MB 53.7 MB/s eta 0:00:02\n",
      "   -------------------------------- ------ 278.4/331.9 MB 54.2 MB/s eta 0:00:01\n",
      "   ---------------------------------- ---- 290.5/331.9 MB 54.2 MB/s eta 0:00:01\n",
      "   ----------------------------------- --- 302.3/331.9 MB 54.8 MB/s eta 0:00:01\n",
      "   ------------------------------------ -- 314.8/331.9 MB 54.9 MB/s eta 0:00:01\n",
      "   --------------------------------------  325.8/331.9 MB 55.0 MB/s eta 0:00:01\n",
      "   --------------------------------------  331.9/331.9 MB 54.9 MB/s eta 0:00:01\n",
      "   --------------------------------------  331.9/331.9 MB 54.9 MB/s eta 0:00:01\n",
      "   --------------------------------------  331.9/331.9 MB 54.9 MB/s eta 0:00:01\n",
      "   --------------------------------------- 331.9/331.9 MB 48.0 MB/s eta 0:00:00\n",
      "Downloading absl_py-2.3.1-py3-none-any.whl (135 kB)\n",
      "Downloading astunparse-1.6.3-py2.py3-none-any.whl (12 kB)\n",
      "Downloading flatbuffers-25.2.10-py2.py3-none-any.whl (30 kB)\n",
      "Using cached gast-0.6.0-py3-none-any.whl (21 kB)\n",
      "Downloading google_pasta-0.2.0-py3-none-any.whl (57 kB)\n",
      "Downloading grpcio-1.74.0-cp312-cp312-win_amd64.whl (4.5 MB)\n",
      "   ---------------------------------------- 0.0/4.5 MB ? eta -:--:--\n",
      "   ---------------------------------------- 4.5/4.5 MB 38.8 MB/s eta 0:00:00\n",
      "Downloading keras-3.11.3-py3-none-any.whl (1.4 MB)\n",
      "   ---------------------------------------- 0.0/1.4 MB ? eta -:--:--\n",
      "   ---------------------------------------- 1.4/1.4 MB 37.0 MB/s eta 0:00:00\n",
      "Using cached libclang-18.1.1-py2.py3-none-win_amd64.whl (26.4 MB)\n",
      "Downloading ml_dtypes-0.5.3-cp312-cp312-win_amd64.whl (208 kB)\n",
      "Downloading opt_einsum-3.4.0-py3-none-any.whl (71 kB)\n",
      "Downloading protobuf-6.32.0-cp310-abi3-win_amd64.whl (435 kB)\n",
      "Downloading tensorboard-2.20.0-py3-none-any.whl (5.5 MB)\n",
      "   ---------------------------------------- 0.0/5.5 MB ? eta -:--:--\n",
      "   ---------------------------------------- 5.5/5.5 MB 42.1 MB/s eta 0:00:00\n",
      "Downloading termcolor-3.1.0-py3-none-any.whl (7.7 kB)\n",
      "Downloading tensorboard_data_server-0.7.2-py3-none-any.whl (2.4 kB)\n",
      "Downloading namex-0.1.0-py3-none-any.whl (5.9 kB)\n",
      "Downloading optree-0.17.0-cp312-cp312-win_amd64.whl (314 kB)\n",
      "Installing collected packages: namex, libclang, flatbuffers, termcolor, tensorboard-data-server, protobuf, optree, opt_einsum, ml_dtypes, grpcio, google_pasta, gast, astunparse, absl-py, tensorboard, keras, tensorflow\n",
      "  Attempting uninstall: protobuf\n",
      "    Found existing installation: protobuf 4.25.3\n",
      "    Uninstalling protobuf-4.25.3:\n",
      "      Successfully uninstalled protobuf-4.25.3\n",
      "Successfully installed absl-py-2.3.1 astunparse-1.6.3 flatbuffers-25.2.10 gast-0.6.0 google_pasta-0.2.0 grpcio-1.74.0 keras-3.11.3 libclang-18.1.1 ml_dtypes-0.5.3 namex-0.1.0 opt_einsum-3.4.0 optree-0.17.0 protobuf-6.32.0 tensorboard-2.20.0 tensorboard-data-server-0.7.2 tensorflow-2.20.0 termcolor-3.1.0\n"
     ]
    },
    {
     "name": "stderr",
     "output_type": "stream",
     "text": [
      "ERROR: pip's dependency resolver does not currently take into account all the packages that are installed. This behaviour is the source of the following dependency conflicts.\n",
      "streamlit 1.37.1 requires protobuf<6,>=3.20, but you have protobuf 6.32.0 which is incompatible.\n"
     ]
    },
    {
     "name": "stdout",
     "output_type": "stream",
     "text": [
      "Requirement already satisfied: matplotlib in c:\\users\\murilofarias\\anaconda3\\lib\\site-packages (3.9.2)\n",
      "Requirement already satisfied: contourpy>=1.0.1 in c:\\users\\murilofarias\\anaconda3\\lib\\site-packages (from matplotlib) (1.2.0)\n",
      "Requirement already satisfied: cycler>=0.10 in c:\\users\\murilofarias\\anaconda3\\lib\\site-packages (from matplotlib) (0.11.0)\n",
      "Requirement already satisfied: fonttools>=4.22.0 in c:\\users\\murilofarias\\anaconda3\\lib\\site-packages (from matplotlib) (4.51.0)\n",
      "Requirement already satisfied: kiwisolver>=1.3.1 in c:\\users\\murilofarias\\anaconda3\\lib\\site-packages (from matplotlib) (1.4.4)\n",
      "Requirement already satisfied: numpy>=1.23 in c:\\users\\murilofarias\\anaconda3\\lib\\site-packages (from matplotlib) (1.26.4)\n",
      "Requirement already satisfied: packaging>=20.0 in c:\\users\\murilofarias\\anaconda3\\lib\\site-packages (from matplotlib) (24.1)\n",
      "Requirement already satisfied: pillow>=8 in c:\\users\\murilofarias\\anaconda3\\lib\\site-packages (from matplotlib) (10.4.0)\n",
      "Requirement already satisfied: pyparsing>=2.3.1 in c:\\users\\murilofarias\\anaconda3\\lib\\site-packages (from matplotlib) (3.1.2)\n",
      "Requirement already satisfied: python-dateutil>=2.7 in c:\\users\\murilofarias\\anaconda3\\lib\\site-packages (from matplotlib) (2.9.0.post0)\n",
      "Requirement already satisfied: six>=1.5 in c:\\users\\murilofarias\\anaconda3\\lib\\site-packages (from python-dateutil>=2.7->matplotlib) (1.16.0)\n"
     ]
    }
   ],
   "source": [
    "!pip install scikit-learn\n",
    "!pip install pandas\n",
    "!pip install tensorflow\n",
    "!pip install matplotlib"
   ]
  },
  {
   "cell_type": "code",
   "execution_count": 17,
   "id": "885886b0-449e-44df-8c72-bab9c198c303",
   "metadata": {},
   "outputs": [],
   "source": [
    "import numpy as np\n",
    "import pandas as pd\n",
    "import matplotlib.pyplot as plt\n",
    "import warnings\n",
    "warnings.filterwarnings('ignore')\n",
    "import os"
   ]
  },
  {
   "cell_type": "code",
   "execution_count": 9,
   "id": "89aa4a7b-33d0-424a-a127-2e8ad8673445",
   "metadata": {},
   "outputs": [],
   "source": [
    "# 1. GENERATE SYNTHETIC DATA\n",
    "np.random.seed(0)\n",
    "data_size = 2000"
   ]
  },
  {
   "cell_type": "code",
   "execution_count": 10,
   "id": "fc4e6a3f-c1f4-4d8c-b0cd-c0083c388fc0",
   "metadata": {},
   "outputs": [],
   "source": [
    "# Base numeric features\n",
    "df = pd.DataFrame({\n",
    "    \"VisitDuration\":  np.random.rand(data_size),                 # 0–1 (normalize as you like)\n",
    "    \"PagesVisited\":   np.random.randint(1, 21, size=data_size),  # 1–20 pages\n",
    "    \"ItemsViewed\":    np.random.randint(1, 16, size=data_size),  # 1–15 items\n",
    "    \"DeviceType\":     np.random.choice([0, 1], size=data_size),  # 0=Desktop, 1=Mobile\n",
    "    \"AdClicks\":       np.random.randint(0, 6, size=data_size),   # 0–5 ads\n",
    "    \"CartAdds\":       np.random.randint(0, 4, size=data_size),   # 0–3 items added\n",
    "})"
   ]
  },
  {
   "cell_type": "code",
   "execution_count": 11,
   "id": "fcd5fdc8-9c93-4ad1-9b32-3628a1eb3e9e",
   "metadata": {},
   "outputs": [],
   "source": [
    "# Demographics\n",
    "df[\"Age\"] = np.clip(np.random.normal(loc=33, scale=10, size=data_size).round(), 16, 75).astype(int)\n",
    "df[\"Gender\"] = np.random.choice([0, 1], size=data_size)  # 0=woman, 1=man"
   ]
  },
  {
   "cell_type": "code",
   "execution_count": 12,
   "id": "6c73d0eb-af87-41cf-916c-5bae2650ca41",
   "metadata": {},
   "outputs": [],
   "source": [
    "# Locations around Vancouver (with mild weights)\n",
    "locations = [\"New Westminster\", \"Downtown\", \"Surrey\", \"Burnaby\", \"Kitsilano\"]\n",
    "weights   = [0.18,               0.26,        0.22,     0.20,      0.14]\n",
    "df[\"Location\"] = np.random.choice(locations, size=data_size, p=weights)\n",
    "\n",
    "# One-hot encode location\n",
    "loc_dummies = pd.get_dummies(df[\"Location\"], prefix=\"Loc\")\n",
    "df = pd.concat([df.drop(columns=[\"Location\"]), loc_dummies], axis=1)"
   ]
  },
  {
   "cell_type": "code",
   "execution_count": 13,
   "id": "9c16e1bb-7582-4bcb-abc7-f511d416b07c",
   "metadata": {},
   "outputs": [],
   "source": [
    "# Target (Purchase): keep it labeled & realistic\n",
    "df[\"Purchase\"] = (\n",
    "    (df[\"VisitDuration\"] + (df[\"PagesVisited\"]/20.0) > 1.0) |\n",
    "    (df[\"CartAdds\"] > 0) |\n",
    "    (df[\"AdClicks\"] >= 3) |\n",
    "    (df[\"ItemsViewed\"] >= 8)\n",
    ").astype(int)"
   ]
  },
  {
   "cell_type": "code",
   "execution_count": 14,
   "id": "ea5dd800-146b-40ef-b4d9-8ae16420c65e",
   "metadata": {},
   "outputs": [],
   "source": [
    "# column order (features first, then target)\n",
    "feature_cols = [\n",
    "    \"VisitDuration\",\"PagesVisited\",\"ItemsViewed\",\"DeviceType\",\"AdClicks\",\"CartAdds\",\n",
    "    \"Age\",\"Gender\",\n",
    "    # one-hot locations\n",
    "    \"Loc_Burnaby\",\"Loc_Downtown\",\"Loc_Kitsilano\",\"Loc_New Westminster\",\"Loc_Surrey\"\n",
    "]\n",
    "df = df[feature_cols + [\"Purchase\"]]"
   ]
  },
  {
   "cell_type": "code",
   "execution_count": 15,
   "id": "ef489153-2789-468a-a241-bd974311a104",
   "metadata": {},
   "outputs": [
    {
     "name": "stdout",
     "output_type": "stream",
     "text": [
      "   VisitDuration  PagesVisited  ItemsViewed  DeviceType  AdClicks  CartAdds  \\\n",
      "0       0.548814            12            2           0         5         0   \n",
      "1       0.715189            16            2           1         0         0   \n",
      "2       0.602763             5            4           1         5         0   \n",
      "3       0.544883            18            7           0         2         0   \n",
      "4       0.423655            13            6           1         4         2   \n",
      "\n",
      "   Age  Gender  Loc_Burnaby  Loc_Downtown  Loc_Kitsilano  Loc_New Westminster  \\\n",
      "0   35       1         True         False          False                False   \n",
      "1   43       0         True         False          False                False   \n",
      "2   18       0         True         False          False                False   \n",
      "3   21       0        False         False          False                False   \n",
      "4   33       1        False         False          False                 True   \n",
      "\n",
      "   Loc_Surrey  Purchase  \n",
      "0       False         1  \n",
      "1       False         1  \n",
      "2       False         1  \n",
      "3        True         1  \n",
      "4       False         1  \n"
     ]
    }
   ],
   "source": [
    "print(df.head())"
   ]
  },
  {
   "cell_type": "code",
   "execution_count": 16,
   "id": "3ca2e6c4-1d27-4985-a6b3-dd722d745921",
   "metadata": {},
   "outputs": [
    {
     "name": "stdout",
     "output_type": "stream",
     "text": [
      "\n",
      "Shape: (2000, 14)\n"
     ]
    }
   ],
   "source": [
    "print(\"\\nShape:\", df.shape)"
   ]
  },
  {
   "cell_type": "code",
   "execution_count": 23,
   "id": "b5cfd4c6-72f9-4518-9192-f5068e924fd4",
   "metadata": {},
   "outputs": [
    {
     "data": {
      "text/plain": [
       "'C:/Users/MuriloFarias/Desktop/GitHub/Python/CLASSE_DEA109/Assignment/vancouver_shopping_dataset.csv'"
      ]
     },
     "execution_count": 23,
     "metadata": {},
     "output_type": "execute_result"
    }
   ],
   "source": [
    "#Save the dataset to CSV\n",
    "output = 'C:/Users/MuriloFarias/Desktop/GitHub/Python/CLASSE_DEA109/Assignment/vancouver_shopping_dataset.csv'\n",
    "df.to_csv(output, index=False)\n",
    "output"
   ]
  },
  {
   "cell_type": "markdown",
   "id": "59cf79e5-5a04-466d-9c9a-96ab16be958d",
   "metadata": {},
   "source": [
    "This dataset simulates online shopping behavior for 2,000 customers in Vancouver-area cities. It is labeled, with a target variable Purchase that indicates whether a session resulted in a purchase (1) or not (0)\n"
   ]
  },
  {
   "cell_type": "markdown",
   "id": "641966de-2fd4-43fe-aa72-f2029111d377",
   "metadata": {},
   "source": [
    "Features\n",
    "VisitDuration (float) → Normalized session duration (0–1).\n",
    "PagesVisited (int) → Number of pages visited during the session (1–20).\n",
    "ItemsViewed (int) → Number of product items viewed (1–15).\n",
    "DeviceType (int) → 0 = Desktop, 1 = Mobile.\n",
    "AdClicks (int) → Number of ads clicked during the session (0–5).\n",
    "CartAdds (int) → Number of items added to the shopping cart (0–3).\n",
    "Age (int) → Customer’s age, ranging from 16 to 75 (normally distributed around 33).\n",
    "Gender (int) → 0 = Woman, 1 = Man.\n",
    "Loc_Burnaby, Loc_Downtown, Loc_Kitsilano, Loc_New Westminster, Loc_Surrey (binary) → One-hot encoded location of the customer session, covering major areas around Vancouver.\n",
    "\n",
    "Target Variable\n",
    "Purchase (binary) → Indicates if a purchase occurred in the session."
   ]
  }
 ],
 "metadata": {
  "kernelspec": {
   "display_name": "Python 3 (ipykernel)",
   "language": "python",
   "name": "python3"
  },
  "language_info": {
   "codemirror_mode": {
    "name": "ipython",
    "version": 3
   },
   "file_extension": ".py",
   "mimetype": "text/x-python",
   "name": "python",
   "nbconvert_exporter": "python",
   "pygments_lexer": "ipython3",
   "version": "3.12.7"
  }
 },
 "nbformat": 4,
 "nbformat_minor": 5
}
