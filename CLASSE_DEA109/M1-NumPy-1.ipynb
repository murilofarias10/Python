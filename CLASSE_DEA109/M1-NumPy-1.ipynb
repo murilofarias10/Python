{
 "cells": [
  {
   "cell_type": "markdown",
   "id": "39ffbdf8",
   "metadata": {},
   "source": [
    "# NumPy\n",
    "- NumPy is a powerful library for numerical computing in Python\n",
    "- NumPy's primary data structure is the **array**. These arrays are similar to Python lists but more efficient for numerical computations. They can be one-dimensional, two-dimensional (**matrices**).\n",
    "- NumPy arrays are more efficient than Python lists because they are homogeneous (all elements have the same data type) and stored in contiguous memory. This design allows for faster operations on large datasets.\n",
    "- To install NumPy using conda\n",
    "    - conda install numpy"
   ]
  },
  {
   "cell_type": "markdown",
   "id": "bfb7d038",
   "metadata": {},
   "source": [
    "## Importing NumPy"
   ]
  },
  {
   "cell_type": "code",
   "execution_count": 1,
   "id": "9dc161e3",
   "metadata": {},
   "outputs": [],
   "source": [
    "# To use NumPy, we need to import it into our notebook.\n",
    "import numpy as np"
   ]
  },
  {
   "cell_type": "code",
   "execution_count": 2,
   "id": "fbf8a96c",
   "metadata": {},
   "outputs": [
    {
     "data": {
      "text/plain": [
       "'1.24.3'"
      ]
     },
     "execution_count": 2,
     "metadata": {},
     "output_type": "execute_result"
    }
   ],
   "source": [
    "# Check NumPy version\n",
    "np.__version__"
   ]
  },
  {
   "cell_type": "markdown",
   "id": "b4828094",
   "metadata": {},
   "source": [
    "## Creating NumPy Arrays\n",
    "- We can create NumPy arrays using various methods."
   ]
  },
  {
   "cell_type": "code",
   "execution_count": 3,
   "id": "dad3ce72",
   "metadata": {},
   "outputs": [
    {
     "name": "stdout",
     "output_type": "stream",
     "text": [
      "[1 2 3 4 5]\n"
     ]
    }
   ],
   "source": [
    "# Creating a 1D array\n",
    "arr_1d = np.array([1, 2, 3, 4, 5])\n",
    "print(arr_1d)"
   ]
  },
  {
   "cell_type": "code",
   "execution_count": 4,
   "id": "43f55e70",
   "metadata": {},
   "outputs": [
    {
     "name": "stdout",
     "output_type": "stream",
     "text": [
      "[[1 2 3]\n",
      " [4 5 6]\n",
      " [7 8 9]]\n"
     ]
    }
   ],
   "source": [
    "# Creating a 2D array\n",
    "arr_2d = np.array([[1, 2, 3], [4, 5, 6], [7, 8, 9]])\n",
    "print(arr_2d)"
   ]
  },
  {
   "cell_type": "code",
   "execution_count": 5,
   "id": "c14c05e2",
   "metadata": {},
   "outputs": [
    {
     "name": "stdout",
     "output_type": "stream",
     "text": [
      "Zeros Array:\n",
      "[[0. 0. 0. 0.]\n",
      " [0. 0. 0. 0.]\n",
      " [0. 0. 0. 0.]]\n",
      "\n",
      "Ones Array:\n",
      "[[1. 1.]\n",
      " [1. 1.]]\n",
      "\n",
      "Identity Matrix:\n",
      "[[1. 0. 0.]\n",
      " [0. 1. 0.]\n",
      " [0. 0. 1.]]\n"
     ]
    }
   ],
   "source": [
    "# Creating NumPy arrays with functions\n",
    "# NumPy provides several functions for creating arrays.\n",
    "\n",
    "# Creating an array of zeros\n",
    "zeros_array = np.zeros((3, 4))\n",
    "\n",
    "# Creating an array of ones\n",
    "ones_array = np.ones((2, 2))\n",
    "\n",
    "# Creating an identity matrix\n",
    "identity_matrix = np.eye(3)\n",
    "\n",
    "# Display the arrays\n",
    "print(\"Zeros Array:\")\n",
    "print(zeros_array)\n",
    "print()\n",
    "print(\"Ones Array:\")\n",
    "print(ones_array)\n",
    "print()\n",
    "print(\"Identity Matrix:\")\n",
    "print(identity_matrix)"
   ]
  },
  {
   "cell_type": "code",
   "execution_count": 6,
   "id": "115f9aeb",
   "metadata": {},
   "outputs": [
    {
     "name": "stdout",
     "output_type": "stream",
     "text": [
      "Arange Array:\n",
      "[1 3 5 7 9]\n"
     ]
    }
   ],
   "source": [
    "# Creating an array using arange\n",
    "# The \"arange\" function creates a range of values with specified start, end, and step size.\n",
    "arange_array = np.arange(1, 11, 2)\n",
    "\n",
    "# Display the arange array\n",
    "print(\"Arange Array:\")\n",
    "print(arange_array)"
   ]
  },
  {
   "cell_type": "code",
   "execution_count": 7,
   "id": "2fc60daf",
   "metadata": {},
   "outputs": [
    {
     "name": "stdout",
     "output_type": "stream",
     "text": [
      "Linspace Array:\n",
      "[ 1.   2.8  4.6  6.4  8.2 10. ]\n"
     ]
    }
   ],
   "source": [
    "# Creating an array using linspace\n",
    "# The \"linspace\" function creates an array of evenly spaced values within a specified range.\n",
    "linspace_array = np.linspace(1, 10, 6)\n",
    "\n",
    "# Display the linspace array\n",
    "print(\"Linspace Array:\")\n",
    "print(linspace_array)"
   ]
  },
  {
   "cell_type": "markdown",
   "id": "cc9c7e52",
   "metadata": {},
   "source": [
    "## Array Properties\n",
    "- NumPy arrays have various properties that provide information about their dimensions, shape, and data type."
   ]
  },
  {
   "cell_type": "code",
   "execution_count": 8,
   "id": "d4b976ce",
   "metadata": {
    "scrolled": true
   },
   "outputs": [
    {
     "name": "stdout",
     "output_type": "stream",
     "text": [
      "[[1 2 3]\n",
      " [4 5 6]]\n",
      "\n",
      "Array Shape: (2, 3)\n",
      "Number of Dimensions: 2\n",
      "Data Type: int32\n",
      "Number of Elements: 6\n"
     ]
    }
   ],
   "source": [
    "sample_array = np.array([[1, 2, 3], [4, 5, 6]])\n",
    "print(sample_array)\n",
    "print()\n",
    "\n",
    "# The \"shape\" property provides information about the dimensions of the array.\n",
    "array_shape = sample_array.shape\n",
    "# Display the array shape\n",
    "print(\"Array Shape:\", array_shape)\n",
    "\n",
    "# The \"ndim\" property returns the number of dimensions of the array.\n",
    "num_dimensions = sample_array.ndim\n",
    "# Display the number of dimensions\n",
    "print(\"Number of Dimensions:\", num_dimensions)\n",
    "\n",
    "# The \"dtype\" property shows the data type of the elements in the array.\n",
    "data_type = sample_array.dtype\n",
    "# Display the data type\n",
    "print(\"Data Type:\", data_type)\n",
    "\n",
    "# We can calculate the total number of elements in the array using the \"size\" property.\n",
    "num_elements = sample_array.size\n",
    "# Display the number of elements\n",
    "print(\"Number of Elements:\", num_elements)"
   ]
  },
  {
   "cell_type": "markdown",
   "id": "34b92ec4",
   "metadata": {},
   "source": [
    "## Array Operations\n",
    "- NumPy provides a wide range of operations for performing mathematical and array-based computations on arrays."
   ]
  },
  {
   "cell_type": "code",
   "execution_count": 9,
   "id": "1b31bb88",
   "metadata": {},
   "outputs": [
    {
     "name": "stdout",
     "output_type": "stream",
     "text": [
      "Array 1: [1 2 3]\n",
      "Array 2: [4 5 6]\n",
      "\n",
      "Addition Result: [5 7 9]\n",
      "Subtraction Result: [-3 -3 -3]\n",
      "Multiplication Result: [ 4 10 18]\n",
      "Division Result: [0.25 0.4  0.5 ]\n",
      "Scalar Addition Result: [11 12 13]\n"
     ]
    }
   ],
   "source": [
    "array1 = np.array([1, 2, 3])\n",
    "array2 = np.array([4, 5, 6])\n",
    "\n",
    "# Display the arrays\n",
    "print(\"Array 1:\", array1)\n",
    "print(\"Array 2:\", array2)\n",
    "\n",
    "print()\n",
    "\n",
    "# Addition\n",
    "addition_result = array1 + array2\n",
    "\n",
    "# Subtraction\n",
    "subtraction_result = array1 - array2\n",
    "\n",
    "# Multiplication\n",
    "multiplication_result = array1 * array2\n",
    "\n",
    "# Division\n",
    "division_result = array1 / array2\n",
    "\n",
    "# Scalar Addition\n",
    "scalar_addition = array1 + 10\n",
    "\n",
    "# Display the results\n",
    "print(\"Addition Result:\", addition_result)\n",
    "print(\"Subtraction Result:\", subtraction_result)\n",
    "print(\"Multiplication Result:\", multiplication_result)\n",
    "print(\"Division Result:\", division_result)\n",
    "print(\"Scalar Addition Result:\", scalar_addition)"
   ]
  },
  {
   "cell_type": "code",
   "execution_count": 10,
   "id": "f86733a5",
   "metadata": {
    "scrolled": true
   },
   "outputs": [
    {
     "name": "stdout",
     "output_type": "stream",
     "text": [
      "Array 1: [1 2 3]\n",
      "Array 2:\n",
      "[[1.]\n",
      " [1.]\n",
      " [1.]]\n",
      "\n",
      "Broadcast Result:\n",
      "[[2. 3. 4.]\n",
      " [2. 3. 4.]\n",
      " [2. 3. 4.]]\n"
     ]
    }
   ],
   "source": [
    "# NumPy arrays can also perform operations with arrays of different shapes, thanks to broadcasting.\n",
    "\n",
    "# Array with Different Shape\n",
    "array1 = np.array([1, 2, 3])\n",
    "array2 = np.ones((3,1))\n",
    "\n",
    "# Display the arrays\n",
    "print(\"Array 1:\", array1)\n",
    "print(\"Array 2:\")\n",
    "print(array2)\n",
    "\n",
    "print()\n",
    "\n",
    "broadcast_result = array1 + array2\n",
    "\n",
    "# Display the results\n",
    "print(\"Broadcast Result:\")\n",
    "print(broadcast_result)"
   ]
  },
  {
   "cell_type": "code",
   "execution_count": 11,
   "id": "fe9ae7c0",
   "metadata": {},
   "outputs": [
    {
     "name": "stdout",
     "output_type": "stream",
     "text": [
      "Array 1: [1 2 3]\n",
      "Array 2: [4 5 6]\n",
      "\n",
      "Sum of Array 1: 6\n",
      "Element-wise Add Result: [5 7 9]\n",
      "Element-wise Subtraction Result: [-3 -3 -3]\n",
      "Dot Product Result: 32\n",
      "Element-wise Multiplication Result: [ 4 10 18]\n",
      "Product of Array Elements: 6\n",
      "Element-wise Division Result: [0.25 0.4  0.5 ]\n",
      "Floor Division Result: [0 0 0]\n"
     ]
    }
   ],
   "source": [
    "# NumPy provides a wide range of functions for performing operations on arrays.\n",
    "array1 = np.array([1, 2, 3])\n",
    "array2 = np.array([4, 5, 6])\n",
    "\n",
    "# Display the arrays\n",
    "print(\"Array 1:\", array1)\n",
    "print(\"Array 2:\", array2)\n",
    "\n",
    "print()\n",
    "\n",
    "# The \"numpy.sum\" function calculates the sum of elements in an array.\n",
    "sum_array1 = np.sum(array1)\n",
    "\n",
    "# The \"np.add\" function perform element-wise addition of two arrays.\n",
    "elementwise_add = np.add(array1, array2)\n",
    "\n",
    "# The \"subtract\" function performs element-wise subtraction of two arrays.\n",
    "elementwise_subtract = np.subtract(array1, array2)\n",
    "\n",
    "# The \"dot\" function computes the dot product of two arrays.\n",
    "dot_product = np.dot(array1, array2)\n",
    "\n",
    "# The \"multiply\" function performs element-wise multiplication of two arrays.\n",
    "elementwise_multiply = np.multiply(array1, array2)\n",
    "\n",
    "# The \"prod\" function calculates the product of all elements in an array.\n",
    "product_result = np.prod(array1)\n",
    "\n",
    "# The \"divide\" function performs element-wise division of two arrays.\n",
    "elementwise_divide = np.divide(array1, array2)\n",
    "\n",
    "# The \"floor_divide\" function performs element-wise floor division of two arrays.\n",
    "floor_divide_result = np.floor_divide(array1, array2)\n",
    "\n",
    "# Display the results\n",
    "print(\"Sum of Array 1:\", sum_array1)\n",
    "print(\"Element-wise Add Result:\", elementwise_add)\n",
    "print(\"Element-wise Subtraction Result:\", elementwise_subtract)\n",
    "print(\"Dot Product Result:\", dot_product)\n",
    "print(\"Element-wise Multiplication Result:\", elementwise_multiply)\n",
    "print(\"Product of Array Elements:\", product_result)\n",
    "print(\"Element-wise Division Result:\", elementwise_divide)\n",
    "print(\"Floor Division Result:\", floor_divide_result)"
   ]
  },
  {
   "cell_type": "code",
   "execution_count": 12,
   "id": "42d13a8b",
   "metadata": {
    "scrolled": true
   },
   "outputs": [
    {
     "name": "stdout",
     "output_type": "stream",
     "text": [
      "Original 2D Array:\n",
      "[[1 2 3]\n",
      " [4 5 6]\n",
      " [7 8 9]]\n",
      "\n",
      "Cumulative Sum along Axis 0:\n",
      "[[ 1  2  3]\n",
      " [ 5  7  9]\n",
      " [12 15 18]]\n",
      "Cumulative Sum along Axis 1:\n",
      "[[ 1  3  6]\n",
      " [ 4  9 15]\n",
      " [ 7 15 24]]\n"
     ]
    }
   ],
   "source": [
    "# The cumulative sum (also known as a running total) is a sequence of partial sums of an array. \n",
    "# Computing the cumulative sum along specific axes is valuable when working with multi-dimensional data.\n",
    "\n",
    "array_2d = np.array([[1, 2, 3], [4, 5, 6], [7, 8, 9]])\n",
    "\n",
    "# Display the original 2D array\n",
    "print(\"Original 2D Array:\")\n",
    "print(array_2d)\n",
    "\n",
    "print()\n",
    "\n",
    "# We can compute the cumulative sum along axis 0 (by each row) using the \"cumsum\" function with \"axis=0\".\n",
    "cumulative_sum_axis0 = np.cumsum(array_2d, axis=0)\n",
    "\n",
    "# We can compute the cumulative sum along axis 1 (by each column) using the \"cumsum\" function with \"axis=1\".\n",
    "cumulative_sum_axis1 = np.cumsum(array_2d, axis=1)\n",
    "\n",
    "# Display the results\n",
    "print(\"Cumulative Sum along Axis 0:\")\n",
    "print(cumulative_sum_axis0)\n",
    "print(\"Cumulative Sum along Axis 1:\")\n",
    "print(cumulative_sum_axis1)"
   ]
  },
  {
   "cell_type": "markdown",
   "id": "4da5b792",
   "metadata": {},
   "source": [
    "## Array Mathematical Functions\n",
    "- NumPy provides a wide range of mathematical functions that can be applied to arrays to perform element-wise computations."
   ]
  },
  {
   "cell_type": "code",
   "execution_count": 13,
   "id": "5d72c697",
   "metadata": {
    "scrolled": true
   },
   "outputs": [
    {
     "name": "stdout",
     "output_type": "stream",
     "text": [
      "Array:\n",
      "[1 2 3 4 5]\n",
      "\n",
      "Mean of the Array: 3.0\n",
      "Square Root Result: [1.         1.41421356 1.73205081 2.         2.23606798]\n",
      "Exponential Result: [  2.71828183   7.3890561   20.08553692  54.59815003 148.4131591 ]\n",
      "\n"
     ]
    }
   ],
   "source": [
    "array = np.array([1, 2, 3, 4, 5])\n",
    "\n",
    "# Display the array\n",
    "print(\"Array:\")\n",
    "print(array)\n",
    "\n",
    "print()\n",
    "\n",
    "# The \"np.mean\" function calculates the mean (average) of elements in an array.\n",
    "mean_result = np.mean(array)\n",
    "\n",
    "# The \"sqrt\" function computes the square root of each element in the array.\n",
    "sqrt_result = np.sqrt(array)\n",
    "\n",
    "# The \"exp\" function computes the exponential (e^x) of each element in the array.\n",
    "exp_result = np.exp(array)\n",
    "\n",
    "# Display the results\n",
    "print(\"Mean of the Array:\", mean_result)\n",
    "print(\"Square Root Result:\", sqrt_result)\n",
    "print(\"Exponential Result:\", exp_result)\n",
    "print()"
   ]
  },
  {
   "cell_type": "code",
   "execution_count": 14,
   "id": "81dd0e22",
   "metadata": {},
   "outputs": [
    {
     "name": "stdout",
     "output_type": "stream",
     "text": [
      "Evaluation of Polynomial at x = 2 is 11\n"
     ]
    }
   ],
   "source": [
    "# The \"np.polyval\" function evaluates a polynomial at a given point.\n",
    "\n",
    "# Define a polynomial coefficients array\n",
    "coefficients = [1, 2, 3]\n",
    "\n",
    "# Evaluate the polynomial at x = 2\n",
    "x = 2\n",
    "polyval_result = np.polyval(coefficients, x)\n",
    "\n",
    "# Display the polynomial evaluation result\n",
    "print(\"Evaluation of Polynomial at x =\", x, \"is\", polyval_result)"
   ]
  },
  {
   "cell_type": "code",
   "execution_count": 15,
   "id": "09a1ae7d",
   "metadata": {},
   "outputs": [
    {
     "name": "stdout",
     "output_type": "stream",
     "text": [
      "Derivative Coefficients: [2 2]\n"
     ]
    }
   ],
   "source": [
    "# The \"np.polyder\" function returns the coefficients of the derivative of a polynomial.\n",
    "\n",
    "# Define a polynomial coefficients array\n",
    "coefficients = [1, 2, 3]\n",
    "\n",
    "# Find the derivative of the polynomial\n",
    "derivative = np.polyder(coefficients)\n",
    "\n",
    "# Display the derivative coefficients\n",
    "print(\"Derivative Coefficients:\", derivative)"
   ]
  },
  {
   "cell_type": "code",
   "execution_count": 16,
   "id": "5f3fb377",
   "metadata": {},
   "outputs": [
    {
     "name": "stdout",
     "output_type": "stream",
     "text": [
      "Integral Coefficients: [0.33333333 1.         3.         0.        ]\n"
     ]
    }
   ],
   "source": [
    "# The \"np.polyint\" function returns the coefficients of the indefinite integral of a polynomial.\n",
    "\n",
    "# Define a polynomial coefficients array\n",
    "coefficients = [1, 2, 3]\n",
    "\n",
    "# Find the integral of the polynomial\n",
    "integral = np.polyint(coefficients)\n",
    "\n",
    "# Display the integral coefficients\n",
    "print(\"Integral Coefficients:\", integral)"
   ]
  },
  {
   "cell_type": "code",
   "execution_count": 17,
   "id": "8a064fdc",
   "metadata": {},
   "outputs": [
    {
     "name": "stdout",
     "output_type": "stream",
     "text": [
      "NaN: nan\n",
      "Is NaN: True\n"
     ]
    }
   ],
   "source": [
    "# NumPy defines \"np.nan\" to represent a missing or undefined value in numerical computations.\n",
    "nan_value = np.nan\n",
    "\n",
    "# Check if a value is NaN\n",
    "is_nan = np.isnan(nan_value)\n",
    "\n",
    "# Display NaN and check result\n",
    "print(\"NaN:\", nan_value)\n",
    "print(\"Is NaN:\", is_nan)"
   ]
  },
  {
   "cell_type": "code",
   "execution_count": 18,
   "id": "1c06c8aa",
   "metadata": {
    "scrolled": true
   },
   "outputs": [
    {
     "name": "stdout",
     "output_type": "stream",
     "text": [
      "Positive Infinity: inf\n",
      "Negative Infinity: -inf\n"
     ]
    }
   ],
   "source": [
    "# NumPy defines \"np.inf\" to represent positive infinity and \"-np.inf\" for negative infinity.\n",
    "\n",
    "positive_infinity = np.inf\n",
    "negative_infinity = -np.inf\n",
    "\n",
    "# Display positive and negative infinity\n",
    "print(\"Positive Infinity:\", positive_infinity)\n",
    "print(\"Negative Infinity:\", negative_infinity)"
   ]
  },
  {
   "cell_type": "markdown",
   "id": "42ba9a17",
   "metadata": {},
   "source": [
    "## Generating Random Numbers\n",
    "- NumPy provides functions for generating random numbers, which can be useful for various applications such as simulations and random sampling."
   ]
  },
  {
   "cell_type": "code",
   "execution_count": 19,
   "id": "dea3fd96",
   "metadata": {},
   "outputs": [
    {
     "name": "stdout",
     "output_type": "stream",
     "text": [
      "Random Numbers from a Uniform Distribution:\n",
      "[0.70917202 0.6373829  0.10334913 0.81225806 0.84007579]\n",
      "\n",
      "Random Matrix (3x2) from a Uniform Distribution:\n",
      "[[0.68471279 0.30274966]\n",
      " [0.10620358 0.12907785]\n",
      " [0.20776103 0.71697081]]\n"
     ]
    }
   ],
   "source": [
    "# The \"np.random.random\" function generates random numbers from a uniform distribution in the range [0.0, 1.0).\n",
    "\n",
    "# Generating 5 random numbers\n",
    "random_numbers = np.random.random(5)\n",
    "\n",
    "# We can generate random numbers with a specific shape using the \"size\" parameter.\n",
    "# Generating a 3x2 array of random numbers\n",
    "random_matrix = np.random.random((3, 2))\n",
    "\n",
    "# Display the generated random numbers\n",
    "print(\"Random Numbers from a Uniform Distribution:\")\n",
    "print(random_numbers)\n",
    "\n",
    "print() \n",
    "\n",
    "print(\"Random Matrix (3x2) from a Uniform Distribution:\")\n",
    "print(random_matrix)"
   ]
  },
  {
   "cell_type": "code",
   "execution_count": 20,
   "id": "c85bb370",
   "metadata": {},
   "outputs": [
    {
     "name": "stdout",
     "output_type": "stream",
     "text": [
      "Random Numbers from Uniform Distribution:\n",
      "[0.51138338 0.36093409 0.68052205 0.83195245 0.57327963]\n"
     ]
    }
   ],
   "source": [
    "# The \"np.random.uniform\" function generates random numbers from a uniform distribution within a specified range.\n",
    "\n",
    "# Generating 5 random numbers between 0 and 1\n",
    "uniform_random_numbers = np.random.uniform(0, 1, 5)\n",
    "\n",
    "# Display the generated random numbers\n",
    "print(\"Random Numbers from Uniform Distribution:\")\n",
    "print(uniform_random_numbers)"
   ]
  },
  {
   "cell_type": "code",
   "execution_count": 21,
   "id": "9118d575",
   "metadata": {},
   "outputs": [
    {
     "name": "stdout",
     "output_type": "stream",
     "text": [
      "Random Numbers from Standard Normal Distribution:\n",
      "[ 0.33515263  1.43261558 -0.0656244  -2.01613847  0.56147703]\n"
     ]
    }
   ],
   "source": [
    "# The \"np.random.standard_normal\" function generates random numbers from a standard normal (Gaussian) distribution with mean 0 and standard deviation 1.\n",
    "\n",
    "# Generating 5 random numbers from the standard normal distribution\n",
    "standard_normal_numbers = np.random.standard_normal(5)\n",
    "\n",
    "# Display the generated standard normal random numbers\n",
    "print(\"Random Numbers from Standard Normal Distribution:\")\n",
    "print(standard_normal_numbers)"
   ]
  },
  {
   "cell_type": "markdown",
   "id": "246f2d63",
   "metadata": {},
   "source": [
    "## Working with Unique Elements, Union, and Intersection\n",
    "- NumPy provides functions for working with unique elements, calculating the union and intersection of arrays."
   ]
  },
  {
   "cell_type": "code",
   "execution_count": 22,
   "id": "77241157",
   "metadata": {},
   "outputs": [
    {
     "name": "stdout",
     "output_type": "stream",
     "text": [
      "Array 1: [1 2 3 4 5 5]\n",
      "Array 2: [4 5 6 6 7 8]\n",
      "\n",
      "Unique elements in Array 1: [1 2 3 4 5]\n",
      "Unique elements in Array 2: [4 5 6 7 8]\n",
      "Union of Array 1 and Array 2: [1 2 3 4 5 6 7 8]\n",
      "Intersection of Array 1 and Array 2: [4 5]\n"
     ]
    }
   ],
   "source": [
    "array1 = np.array([1, 2, 3, 4, 5, 5])\n",
    "array2 = np.array([4, 5, 6, 6, 7, 8])\n",
    "\n",
    "# Display the arrays\n",
    "print(\"Array 1:\", array1)\n",
    "print(\"Array 2:\", array2)\n",
    "\n",
    "print()\n",
    "\n",
    "# The \"np.unique\" function returns the unique elements of an array.\n",
    "unique_array1 = np.unique(array1)\n",
    "unique_array2 = np.unique(array2)\n",
    "\n",
    "# The \"np.union1d\" function calculates the union of two arrays, preserving unique values from both arrays.\n",
    "union_result = np.union1d(array1, array2)\n",
    "\n",
    "# The \"np.intersect1d\" function calculates the intersection of two arrays, preserving unique values common to both arrays.\n",
    "intersection_result = np.intersect1d(array1, array2)\n",
    "\n",
    "# Display unique elements\n",
    "print(\"Unique elements in Array 1:\", unique_array1)\n",
    "print(\"Unique elements in Array 2:\", unique_array2)\n",
    "print(\"Union of Array 1 and Array 2:\", union_result)\n",
    "print(\"Intersection of Array 1 and Array 2:\", intersection_result)"
   ]
  },
  {
   "cell_type": "markdown",
   "id": "545e1ddd",
   "metadata": {},
   "source": [
    "## Slicing and Reshaping\n",
    "- NumPy provides powerful tools for slicing arrays and reshaping them to meet various data manipulation needs."
   ]
  },
  {
   "cell_type": "code",
   "execution_count": 23,
   "id": "8f83c4b2",
   "metadata": {},
   "outputs": [
    {
     "name": "stdout",
     "output_type": "stream",
     "text": [
      "Original Array:\n",
      "[[ 1  2  3  4]\n",
      " [ 5  6  7  8]\n",
      " [ 9 10 11 12]]\n",
      "\n",
      "Sliced Element: 7\n",
      "Sliced Row: [1 2 3 4]\n",
      "Sliced Column: [ 3  7 11]\n",
      "Reshaped Array (4x3):\n",
      "[[ 1  2  3]\n",
      " [ 4  5  6]\n",
      " [ 7  8  9]\n",
      " [10 11 12]]\n"
     ]
    }
   ],
   "source": [
    "# Let's create a NumPy array to demonstrate slicing and reshaping.\n",
    "original_array = np.array([[1, 2, 3, 4],\n",
    "                           [5, 6, 7, 8],\n",
    "                           [9, 10, 11, 12]])\n",
    "\n",
    "# Display the original array\n",
    "print(\"Original Array:\")\n",
    "print(original_array)\n",
    "\n",
    "print()\n",
    "\n",
    "# Slicing a single element\n",
    "element = original_array[1, 2]\n",
    "\n",
    "# Slicing a row\n",
    "row = original_array[0, :]\n",
    "\n",
    "# Slicing a column\n",
    "column = original_array[:, 2]\n",
    "\n",
    "# NumPy allows us to reshape arrays into different dimensions.\n",
    "# Reshaping into a 4x3 array\n",
    "reshaped_array = original_array.reshape(4, 3)\n",
    "\n",
    "# Display the results\n",
    "print(\"Sliced Element:\", element)\n",
    "print(\"Sliced Row:\", row)\n",
    "print(\"Sliced Column:\", column)\n",
    "print(\"Reshaped Array (4x3):\")\n",
    "print(reshaped_array)"
   ]
  }
 ],
 "metadata": {
  "kernelspec": {
   "display_name": "Python 3 (ipykernel)",
   "language": "python",
   "name": "python3"
  },
  "language_info": {
   "codemirror_mode": {
    "name": "ipython",
    "version": 3
   },
   "file_extension": ".py",
   "mimetype": "text/x-python",
   "name": "python",
   "nbconvert_exporter": "python",
   "pygments_lexer": "ipython3",
   "version": "3.11.4"
  }
 },
 "nbformat": 4,
 "nbformat_minor": 5
}
