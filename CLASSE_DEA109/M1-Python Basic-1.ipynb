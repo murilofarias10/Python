{
 "cells": [
  {
   "cell_type": "markdown",
   "metadata": {},
   "source": [
    "# Python Basic "
   ]
  },
  {
   "cell_type": "markdown",
   "metadata": {},
   "source": [
    "## Command Termination"
   ]
  },
  {
   "cell_type": "code",
   "execution_count": 1,
   "metadata": {},
   "outputs": [
    {
     "name": "stdout",
     "output_type": "stream",
     "text": [
      "1\n"
     ]
    }
   ],
   "source": [
    "# In Python, commands are typically terminated using new lines.\n",
    "# We don't need semicolons to end commands.\n",
    "a = 1\n",
    "b = 2\n",
    "c = 3\n",
    "\n",
    "print(a)"
   ]
  },
  {
   "cell_type": "code",
   "execution_count": 2,
   "metadata": {},
   "outputs": [],
   "source": [
    "# Python allows the use of semicolons to separate multiple statements on a single line.\n",
    "# It is generally discouraged as it can make the code less readable.\n",
    "x = 10; y = 20; z = 30"
   ]
  },
  {
   "cell_type": "markdown",
   "metadata": {},
   "source": [
    "## Indentation and Code Blocks\n",
    "- Python uses indentation to determine the scope of code blocks instead of curly braces."
   ]
  },
  {
   "cell_type": "code",
   "execution_count": 3,
   "metadata": {},
   "outputs": [
    {
     "name": "stdout",
     "output_type": "stream",
     "text": [
      "x is less than y\n",
      "This is inside the if block\n"
     ]
    }
   ],
   "source": [
    "# It is important to maintain consistent indentation levels within a code block.\n",
    "# Common practice is to use 2 or 4 spaces for each level of indentation.\n",
    "if x < y:\n",
    "    print(\"x is less than y\")\n",
    "    print(\"This is inside the if block\")"
   ]
  },
  {
   "cell_type": "code",
   "execution_count": 4,
   "metadata": {},
   "outputs": [
    {
     "ename": "IndentationError",
     "evalue": "unexpected indent (1582760880.py, line 5)",
     "output_type": "error",
     "traceback": [
      "\u001b[1;36m  Cell \u001b[1;32mIn[4], line 5\u001b[1;36m\u001b[0m\n\u001b[1;33m    print(\"This is incorrectly indented.\")\u001b[0m\n\u001b[1;37m    ^\u001b[0m\n\u001b[1;31mIndentationError\u001b[0m\u001b[1;31m:\u001b[0m unexpected indent\n"
     ]
    }
   ],
   "source": [
    "# Inconsistent indentation will result in an error.\n",
    "def incorrect_function():\n",
    "    for i in range(5):\n",
    "        print(\"This is inside the function and loop.\")\n",
    "         print(\"This is incorrectly indented.\")\n",
    "    print(\"This is inside the function but outside the loop.\")"
   ]
  },
  {
   "cell_type": "markdown",
   "metadata": {},
   "source": [
    "## Comments"
   ]
  },
  {
   "cell_type": "code",
   "execution_count": 19,
   "metadata": {},
   "outputs": [
    {
     "data": {
      "text/plain": [
       "'\\nThis is a\\nmulti-line comment\\nor a docstring.\\n'"
      ]
     },
     "execution_count": 19,
     "metadata": {},
     "output_type": "execute_result"
    }
   ],
   "source": [
    "# In Python, we can create single-line comments using the \"#\" symbol.\n",
    "# This is a single-line comment\n",
    "\n",
    "\n",
    "# Python does not have a built-in syntax for multi-line comments, but we can use triple quotes to create docstrings.\n",
    "# Although triple-quotes can be used for multi-line comments, they are more commonly used for docstrings.\n",
    "'''\n",
    "This is a\n",
    "multi-line comment\n",
    "or a docstring.\n",
    "'''"
   ]
  },
  {
   "cell_type": "markdown",
   "metadata": {},
   "source": [
    "## Variables\n",
    "- Variables are used to store and manage data in Python. They act as placeholders for values.\n"
   ]
  },
  {
   "cell_type": "code",
   "execution_count": 20,
   "metadata": {},
   "outputs": [],
   "source": [
    "# We can assign a value to a variable using the assignment operator (=).\n",
    "x = 42\n",
    "name = \"Alice\"\n",
    "is_student = True\n",
    "\n",
    "# We can assign values to multiple variables in a single line.\n",
    "a, b, c = 1, 2, 3"
   ]
  },
  {
   "cell_type": "code",
   "execution_count": 21,
   "metadata": {},
   "outputs": [
    {
     "ename": "SyntaxError",
     "evalue": "invalid decimal literal (4009047771.py, line 12)",
     "output_type": "error",
     "traceback": [
      "\u001b[1;36m  Cell \u001b[1;32mIn[21], line 12\u001b[1;36m\u001b[0m\n\u001b[1;33m    3rd_variable = 42  # Starts with a number\u001b[0m\n\u001b[1;37m    ^\u001b[0m\n\u001b[1;31mSyntaxError\u001b[0m\u001b[1;31m:\u001b[0m invalid decimal literal\n"
     ]
    }
   ],
   "source": [
    "# Variable names must follow certain rules:\n",
    "# 1. Variable names can contain letters, numbers, and underscores.\n",
    "# 2. Variable names must start with a letter or underscore (not a number).\n",
    "# 3. Variable names are case-sensitive (e.g., \"name\" and \"Name\" are different variables).\n",
    "# 4. Avoid using reserved words as variable names (e.g., \"if,\" \"else,\" \"while\").\n",
    "\n",
    "# Valid variable names:\n",
    "my_variable = 10\n",
    "another_variable = \"Hello\"\n",
    "\n",
    "# Invalid variable names:\n",
    "3rd_variable = 42  # Starts with a number\n",
    "my-variable = \"World\"  # Contains a hyphen\n",
    "if = True  # Reserved word"
   ]
  },
  {
   "cell_type": "markdown",
   "metadata": {},
   "source": [
    "## Data Types\n",
    "- Python supports a wide range of data types, each serving a specific purpose."
   ]
  },
  {
   "cell_type": "code",
   "execution_count": 22,
   "metadata": {},
   "outputs": [
    {
     "name": "stdout",
     "output_type": "stream",
     "text": [
      "42\n",
      "3.14\n",
      "3\n"
     ]
    }
   ],
   "source": [
    "# 1. Numeric\n",
    "# Python has several numeric data types, including integers and floating-point numbers.\n",
    "integer_number = 42\n",
    "float_number = 3.14\n",
    "\n",
    "print(integer_number)\n",
    "print(float_number)\n",
    "print(int(float_number))"
   ]
  },
  {
   "cell_type": "code",
   "execution_count": 23,
   "metadata": {},
   "outputs": [
    {
     "name": "stdout",
     "output_type": "stream",
     "text": [
      "Hello, World!\n"
     ]
    }
   ],
   "source": [
    "# 2. Strings\n",
    "# Strings are used to represent text and are enclosed in single or double quotes.\n",
    "text = \"Hello, World!\"\n",
    "\n",
    "print(text)"
   ]
  },
  {
   "cell_type": "code",
   "execution_count": 24,
   "metadata": {},
   "outputs": [
    {
     "name": "stdout",
     "output_type": "stream",
     "text": [
      "True\n",
      "False\n"
     ]
    }
   ],
   "source": [
    "# 3. Booleans\n",
    "# Booleans represent binary values, either True or False.\n",
    "is_python_fun = True\n",
    "is_learning = False\n",
    "\n",
    "print(is_python_fun)\n",
    "print(is_learning)"
   ]
  },
  {
   "cell_type": "code",
   "execution_count": 25,
   "metadata": {},
   "outputs": [
    {
     "name": "stdout",
     "output_type": "stream",
     "text": [
      "['apple', 'banana', 'cherry']\n"
     ]
    }
   ],
   "source": [
    "# 4. Lists\n",
    "# Lists are ordered collections that can hold various data types.\n",
    "fruits = [\"apple\", \"banana\", \"cherry\"]\n",
    "\n",
    "print(fruits)"
   ]
  },
  {
   "cell_type": "code",
   "execution_count": 26,
   "metadata": {},
   "outputs": [
    {
     "name": "stdout",
     "output_type": "stream",
     "text": [
      "(3, 4)\n"
     ]
    }
   ],
   "source": [
    "# 5. Tuples\n",
    "# Tuples are similar to lists, but they are immutable, meaning their elements cannot be changed after creation.\n",
    "point = (3, 4)\n",
    "\n",
    "print(point)"
   ]
  },
  {
   "cell_type": "code",
   "execution_count": 27,
   "metadata": {},
   "outputs": [
    {
     "name": "stdout",
     "output_type": "stream",
     "text": [
      "{'name': 'Alice', 'age': 30}\n"
     ]
    }
   ],
   "source": [
    "# 6. Dictionaries\n",
    "# Dictionaries store key-value pairs and are used for data lookup.\n",
    "person = {\"name\": \"Alice\", \"age\": 30}\n",
    "\n",
    "print(person)"
   ]
  },
  {
   "cell_type": "code",
   "execution_count": 28,
   "metadata": {},
   "outputs": [
    {
     "name": "stdout",
     "output_type": "stream",
     "text": [
      "{1, 2, 3, 4, 5}\n"
     ]
    }
   ],
   "source": [
    "# 7. Sets\n",
    "# Sets are unordered collections of unique elements.\n",
    "unique_numbers = {1, 2, 3, 4, 5, 1}\n",
    "\n",
    "print(unique_numbers)"
   ]
  },
  {
   "cell_type": "code",
   "execution_count": 29,
   "metadata": {},
   "outputs": [
    {
     "name": "stdout",
     "output_type": "stream",
     "text": [
      "None\n"
     ]
    }
   ],
   "source": [
    "# 8. None\n",
    "# None represents the absence of a value or a null value.\n",
    "no_value = None\n",
    "\n",
    "print(no_value)"
   ]
  },
  {
   "cell_type": "code",
   "execution_count": 30,
   "metadata": {
    "scrolled": true
   },
   "outputs": [
    {
     "name": "stdout",
     "output_type": "stream",
     "text": [
      "42\n",
      "123\n",
      "3.14\n"
     ]
    }
   ],
   "source": [
    "# Type Conversion\n",
    "# We can convert between different data types using type casting.\n",
    "number_as_string = str(42)\n",
    "string_as_number = int(\"123\")\n",
    "float_as_string = float(\"3.14\")\n",
    "\n",
    "print(number_as_string)\n",
    "print(string_as_number)\n",
    "print(float_as_string)"
   ]
  },
  {
   "cell_type": "code",
   "execution_count": 31,
   "metadata": {},
   "outputs": [
    {
     "name": "stdout",
     "output_type": "stream",
     "text": [
      "Type of integer_number: <class 'int'>\n",
      "Type of text: <class 'str'>\n",
      "Type of is_python_fun: <class 'bool'>\n"
     ]
    }
   ],
   "source": [
    "# Checking Data Types\n",
    "# We can use the \"type\" function to check the data type of a variable.\n",
    "print(\"Type of integer_number:\", type(integer_number))\n",
    "print(\"Type of text:\", type(text))\n",
    "print(\"Type of is_python_fun:\", type(is_python_fun))"
   ]
  },
  {
   "cell_type": "markdown",
   "metadata": {},
   "source": [
    "## Arithmetic Operators\n",
    "- Arithmetic operators in Python are used to perform mathematical operations on numbers."
   ]
  },
  {
   "cell_type": "code",
   "execution_count": 32,
   "metadata": {},
   "outputs": [
    {
     "name": "stdout",
     "output_type": "stream",
     "text": [
      "Sum: 16\n",
      "Difference: 4\n",
      "Product: 60\n",
      "Quotient: 1.6666666666666667\n",
      "Integer Quotient: 1\n",
      "Remainder: 4\n",
      "Power: 1000000\n",
      "Result: 98\n"
     ]
    }
   ],
   "source": [
    "x = 10\n",
    "y = 6\n",
    "\n",
    "# Addition\n",
    "# The addition operator (+) is used to add two numbers.\n",
    "sum_result = x + y\n",
    "print(\"Sum:\", sum_result)\n",
    "\n",
    "# Subtraction\n",
    "# The subtraction operator (-) is used to subtract one number from another.\n",
    "difference = x - y\n",
    "print(\"Difference:\", difference)\n",
    "\n",
    "# Multiplication\n",
    "# The multiplication operator (*) is used to multiply two numbers.\n",
    "product = x * y\n",
    "print(\"Product:\", product)\n",
    "\n",
    "# Division\n",
    "# The division operator (/) is used to divide one number by another.\n",
    "quotient = x / y\n",
    "print(\"Quotient:\", quotient)\n",
    "\n",
    "# Integer Division\n",
    "# The double-slash (//) operator is used for integer division, which returns the quotient as an integer.\n",
    "integer_quotient = x // y\n",
    "print(\"Integer Quotient:\", integer_quotient)\n",
    "\n",
    "# Modulus (Remainder)\n",
    "# The modulus operator (%) is used to find the remainder when one number is divided by another.\n",
    "remainder = x % y\n",
    "print(\"Remainder:\", remainder)\n",
    "\n",
    "# Exponentiation\n",
    "# The double-asterisk (**) operator is used to raise a number to a power.\n",
    "power = x ** y\n",
    "print(\"Power:\", power)\n",
    "\n",
    "# Order of Operations\n",
    "# Python follows the standard order of operations: parentheses, exponentiation, multiplication and division (left to right),\n",
    "# addition and subtraction (left to right).\n",
    "result = 2 * (3 + 4) ** 2\n",
    "print(\"Result:\", result)"
   ]
  },
  {
   "cell_type": "code",
   "execution_count": 33,
   "metadata": {},
   "outputs": [
    {
     "name": "stdout",
     "output_type": "stream",
     "text": [
      "x = 10\n",
      "y = 6\n",
      "\n",
      "Arithmetic Operators Table:\n",
      "--------------------------------------------------------\n",
      "| Operator | Description         | Example    | Result \n",
      "--------------------------------------------------------\n",
      "| +        | Addition            | x + y      | 16\n",
      "| -        | Subtraction         | x - y      | 4\n",
      "| *        | Multiplication      | x * y      | 60\n",
      "| /        | Division            | x / y      | 1.6666666666666667\n",
      "| //       | Integer Division    | x // y     | 1\n",
      "| %        | Modulus (Remainder) | x % y      | 4\n",
      "| **       | Exponentiation      | x ** y     | 1000000\n",
      "--------------------------------------------------------\n"
     ]
    }
   ],
   "source": [
    "print(\"x = \" + str(x))\n",
    "print(\"y = \" + str(y))\n",
    "print(\"\\nArithmetic Operators Table:\")\n",
    "print(\"--------------------------------------------------------\")\n",
    "print(\"| Operator | Description         | Example    | Result \")\n",
    "print(\"--------------------------------------------------------\")\n",
    "print(\"| +        | Addition            | x + y      |\", sum_result)\n",
    "print(\"| -        | Subtraction         | x - y      |\", difference)\n",
    "print(\"| *        | Multiplication      | x * y      |\", product)\n",
    "print(\"| /        | Division            | x / y      |\", quotient)\n",
    "print(\"| //       | Integer Division    | x // y     |\", integer_quotient)\n",
    "print(\"| %        | Modulus (Remainder) | x % y      |\", remainder)\n",
    "print(\"| **       | Exponentiation      | x ** y     |\", power)\n",
    "print(\"--------------------------------------------------------\")"
   ]
  },
  {
   "cell_type": "code",
   "execution_count": 34,
   "metadata": {
    "scrolled": true
   },
   "outputs": [
    {
     "name": "stdout",
     "output_type": "stream",
     "text": [
      "Concatenated Message: Hello, Alice!\n"
     ]
    }
   ],
   "source": [
    "# We can concatenate strings using the '+' operator.\n",
    "greeting = \"Hello\"\n",
    "name = \"Alice\"\n",
    "message = greeting + \", \" + name + \"!\"\n",
    "print(\"Concatenated Message:\", message)"
   ]
  },
  {
   "cell_type": "code",
   "execution_count": 35,
   "metadata": {},
   "outputs": [
    {
     "ename": "TypeError",
     "evalue": "can only concatenate str (not \"int\") to str",
     "output_type": "error",
     "traceback": [
      "\u001b[1;31m---------------------------------------------------------------------------\u001b[0m",
      "\u001b[1;31mTypeError\u001b[0m                                 Traceback (most recent call last)",
      "Cell \u001b[1;32mIn[35], line 5\u001b[0m\n\u001b[0;32m      3\u001b[0m name \u001b[38;5;241m=\u001b[39m \u001b[38;5;124m\"\u001b[39m\u001b[38;5;124mAlice\u001b[39m\u001b[38;5;124m\"\u001b[39m\n\u001b[0;32m      4\u001b[0m age \u001b[38;5;241m=\u001b[39m \u001b[38;5;241m30\u001b[39m\n\u001b[1;32m----> 5\u001b[0m result \u001b[38;5;241m=\u001b[39m name \u001b[38;5;241m+\u001b[39m age\n",
      "\u001b[1;31mTypeError\u001b[0m: can only concatenate str (not \"int\") to str"
     ]
    }
   ],
   "source": [
    "# Unlike some other programming languages like JavaScript, we cannot directly add a string and a number in Python.\n",
    "\n",
    "name = \"Alice\"\n",
    "age = 30\n",
    "result = name + age"
   ]
  },
  {
   "cell_type": "code",
   "execution_count": 36,
   "metadata": {
    "scrolled": true
   },
   "outputs": [
    {
     "name": "stdout",
     "output_type": "stream",
     "text": [
      "Line of Stars: **********\n"
     ]
    }
   ],
   "source": [
    "# We can 'multiply' a string by a number, which repeats the string that many times.\n",
    "\n",
    "star = \"*\"\n",
    "line = star * 10\n",
    "print(\"Line of Stars:\", line)"
   ]
  },
  {
   "cell_type": "markdown",
   "metadata": {},
   "source": [
    "## Relational Operators\n",
    "- Relational operators are used to compare values and determine relationships between them."
   ]
  },
  {
   "cell_type": "code",
   "execution_count": 37,
   "metadata": {},
   "outputs": [
    {
     "name": "stdout",
     "output_type": "stream",
     "text": [
      "x == y: False\n",
      "x != y: True\n",
      "x > y: False\n",
      "x < y: True\n",
      "x >= y: False\n",
      "x <= y: True\n"
     ]
    }
   ],
   "source": [
    "x = 5\n",
    "y = 10\n",
    "\n",
    "# Equality operator (==)\n",
    "is_equal = x == y\n",
    "print(\"x == y:\", is_equal)\n",
    "\n",
    "# Not equal operator (!=)\n",
    "is_not_equal = x != y\n",
    "print(\"x != y:\", is_not_equal)\n",
    "\n",
    "# Greater than operator (>)\n",
    "is_greater = x > y\n",
    "print(\"x > y:\", is_greater)\n",
    "\n",
    "# Less than operator (<)\n",
    "is_less = x < y\n",
    "print(\"x < y:\", is_less)\n",
    "\n",
    "# Greater than or equal to operator (>=)\n",
    "is_greater_equal = x >= y\n",
    "print(\"x >= y:\", is_greater_equal)\n",
    "\n",
    "# Less than or equal to operator (<=)\n",
    "is_less_equal = x <= y\n",
    "print(\"x <= y:\", is_less_equal)"
   ]
  },
  {
   "cell_type": "markdown",
   "metadata": {},
   "source": [
    "## Logical Operators\n",
    "- Logical operators are used to combine conditional statements."
   ]
  },
  {
   "cell_type": "code",
   "execution_count": 38,
   "metadata": {},
   "outputs": [
    {
     "name": "stdout",
     "output_type": "stream",
     "text": [
      "is_good_weather: False\n",
      "is_any_condition_met: True\n",
      "is_not_sunny: False\n"
     ]
    }
   ],
   "source": [
    "is_sunny = True\n",
    "is_warm = False\n",
    "\n",
    "# Logical AND operator (and)\n",
    "is_good_weather = is_sunny and is_warm\n",
    "print(\"is_good_weather:\", is_good_weather)\n",
    "\n",
    "# Logical OR operator (or)\n",
    "is_any_condition_met = is_sunny or is_warm\n",
    "print(\"is_any_condition_met:\", is_any_condition_met)\n",
    "\n",
    "# Logical NOT operator (not)\n",
    "is_not_sunny = not is_sunny\n",
    "print(\"is_not_sunny:\", is_not_sunny)"
   ]
  },
  {
   "cell_type": "markdown",
   "metadata": {},
   "source": [
    "## Identity Operators\n",
    "- Identity operators are used to compare the memory location of two objects."
   ]
  },
  {
   "cell_type": "code",
   "execution_count": 39,
   "metadata": {
    "scrolled": true
   },
   "outputs": [
    {
     "name": "stdout",
     "output_type": "stream",
     "text": [
      "a is b: True\n",
      "a is not \"Hello\": True\n"
     ]
    },
    {
     "name": "stderr",
     "output_type": "stream",
     "text": [
      "<>:9: SyntaxWarning: \"is not\" with a literal. Did you mean \"!=\"?\n",
      "<>:9: SyntaxWarning: \"is not\" with a literal. Did you mean \"!=\"?\n",
      "C:\\Users\\Anonymous\\AppData\\Local\\Temp\\ipykernel_17572\\2936751030.py:9: SyntaxWarning: \"is not\" with a literal. Did you mean \"!=\"?\n",
      "  is_not_same_object = a is not \"Hello\"\n"
     ]
    }
   ],
   "source": [
    "a = [1, 2, 3]\n",
    "b = a\n",
    "\n",
    "# Identity equality (is)\n",
    "is_same_object = a is b\n",
    "print(\"a is b:\", is_same_object)\n",
    "\n",
    "# Identity inequality (is not)\n",
    "is_not_same_object = a is not \"Hello\"\n",
    "print('a is not \"Hello\":', is_not_same_object)"
   ]
  },
  {
   "cell_type": "markdown",
   "metadata": {},
   "source": [
    "## Membership Operators\n",
    "- Membership operators are used to test if a sequence is present in an object."
   ]
  },
  {
   "cell_type": "code",
   "execution_count": 40,
   "metadata": {},
   "outputs": [
    {
     "name": "stdout",
     "output_type": "stream",
     "text": [
      "\"banana\" in fruits: True\n",
      "\"orange\" not in fruits: True\n"
     ]
    }
   ],
   "source": [
    "fruits = [\"apple\", \"banana\", \"cherry\"]\n",
    "\n",
    "# Membership (in)\n",
    "is_banana_in_fruits = \"banana\" in fruits\n",
    "print('\"banana\" in fruits:', is_banana_in_fruits)\n",
    "\n",
    "# Not in\n",
    "is_orange_not_in_fruits = \"orange\" not in fruits\n",
    "print('\"orange\" not in fruits:', is_orange_not_in_fruits)"
   ]
  },
  {
   "cell_type": "markdown",
   "metadata": {},
   "source": [
    "## Input and Output\n",
    "- Input and output operations allow us to interact with the user, read data from external sources, and display information."
   ]
  },
  {
   "cell_type": "code",
   "execution_count": 41,
   "metadata": {},
   "outputs": [
    {
     "name": "stdout",
     "output_type": "stream",
     "text": [
      "My name is Alice, and I am 30 years old.\n",
      "Formatted Item: I bought a apple for $1.50\n"
     ]
    }
   ],
   "source": [
    "# Printing Variables\n",
    "\n",
    "# We can use string formatting to display variables within a string.\n",
    "name = \"Alice\"\n",
    "age = 30\n",
    "message = f\"My name is {name}, and I am {age} years old.\"\n",
    "print(message)\n",
    "\n",
    "\n",
    "# We can use the \"format\" method to insert values into placeholders within a string.\n",
    "item = \"apple\"\n",
    "price = 1.5\n",
    "formatted_item = \"I bought a {} for ${:.2f}\".format(item, price)\n",
    "print(\"Formatted Item: \" + formatted_item)"
   ]
  },
  {
   "cell_type": "code",
   "execution_count": 42,
   "metadata": {},
   "outputs": [
    {
     "name": "stdout",
     "output_type": "stream",
     "text": [
      "Enter your name: Long\n",
      "You entered: Long\n"
     ]
    }
   ],
   "source": [
    "# User Input\n",
    "\n",
    "# The \"input\" function is used to get user input.\n",
    "user_input = input(\"Enter your name: \")\n",
    "print(\"You entered:\", user_input)"
   ]
  },
  {
   "cell_type": "markdown",
   "metadata": {},
   "source": [
    "## Control Flow\n",
    "- Control flow in Python allows us to make decisions, repeat tasks, and control the execution of your program."
   ]
  },
  {
   "cell_type": "code",
   "execution_count": 43,
   "metadata": {},
   "outputs": [
    {
     "name": "stdout",
     "output_type": "stream",
     "text": [
      "b is equal to 7\n"
     ]
    }
   ],
   "source": [
    "# if-elif-else Statements\n",
    "# The \"if-elif-else\" statement allows us to check multiple conditions and execute the corresponding code block.\n",
    "b = 7\n",
    "if b == 3:\n",
    "    print(\"b is equal to 3\")\n",
    "elif b == 5: \n",
    "    print(\"b is equal to 5\")\n",
    "elif b == 7:\n",
    "    print(\"b is equal to 7\")\n",
    "else:\n",
    "    print(\"b is not 3, 5, or 7\")"
   ]
  },
  {
   "cell_type": "code",
   "execution_count": 44,
   "metadata": {},
   "outputs": [
    {
     "name": "stdout",
     "output_type": "stream",
     "text": [
      "I like apple\n",
      "I like banana\n",
      "I like cherry\n",
      "\n",
      "Number: 0\n",
      "Number: 1\n",
      "Number: 2\n",
      "Number: 3\n",
      "Number: 4\n",
      "\n",
      "Number: 2\n",
      "Number: 4\n",
      "Number: 6\n",
      "Number: 8\n",
      "\n",
      "1 2 3 \n",
      "4 5 6 \n",
      "7 8 9 \n"
     ]
    }
   ],
   "source": [
    "# Loops - for loop\n",
    "# The \"for\" loop is used to iterate over a sequence (e.g., a list, string, or range).\n",
    "\n",
    "# We can use a \"for\" loop to iterate over the elements of a list.\n",
    "fruits = [\"apple\", \"banana\", \"cherry\"]\n",
    "for fruit in fruits:\n",
    "    print(\"I like\", fruit)\n",
    "\n",
    "print()\n",
    "\n",
    "# A \"for\" loop can also be used to iterate over a range of numbers.\n",
    "for number in range(5):\n",
    "    print(\"Number:\", number)\n",
    "    \n",
    "print()\n",
    "\n",
    "# The \"range\" function generates a sequence of numbers, which is commonly used with \"for\" loops.\n",
    "for i in range(2, 10, 2):\n",
    "    print(\"Number:\", i)\n",
    "    \n",
    "print()\n",
    "\n",
    "# We can nest \"for\" loops to handle more complex iterations, like iterating over a 2D list or grid.\n",
    "matrix = [[1, 2, 3], [4, 5, 6], [7, 8, 9]]\n",
    "for row in matrix:\n",
    "    for value in row:\n",
    "        print(str(value) + \" \", end=\"\")\n",
    "    print()"
   ]
  },
  {
   "cell_type": "code",
   "execution_count": 45,
   "metadata": {},
   "outputs": [
    {
     "name": "stdout",
     "output_type": "stream",
     "text": [
      "Count: 0\n",
      "Count: 1\n",
      "Count: 2\n",
      "Count: 3\n",
      "Count: 4\n"
     ]
    }
   ],
   "source": [
    "# Loops - while loop\n",
    "# The \"while\" loop is used to execute a block of code as long as a condition is true.\n",
    "count = 0\n",
    "while count < 5:\n",
    "    print(\"Count:\", count)\n",
    "    count += 1"
   ]
  },
  {
   "cell_type": "code",
   "execution_count": 46,
   "metadata": {},
   "outputs": [
    {
     "name": "stdout",
     "output_type": "stream",
     "text": [
      "Number: 0\n",
      "Number: 1\n",
      "Number: 3\n"
     ]
    }
   ],
   "source": [
    "# Control Structures - break and continue\n",
    "# \"break\" is used to exit a loop, and \"continue\" is used to skip the current iteration and continue to the next.\n",
    "\n",
    "for number in range(10):\n",
    "    if number == 4:\n",
    "        break\n",
    "    if number == 2:\n",
    "        continue\n",
    "    print(\"Number:\", number)"
   ]
  },
  {
   "cell_type": "markdown",
   "metadata": {},
   "source": [
    "## Function\n",
    "- Functions are blocks of reusable code that perform a specific task when called. They make your code more organized and modular."
   ]
  },
  {
   "cell_type": "code",
   "execution_count": 47,
   "metadata": {},
   "outputs": [
    {
     "name": "stdout",
     "output_type": "stream",
     "text": [
      "Hello, Alice!\n"
     ]
    }
   ],
   "source": [
    "# Defining a Function\n",
    "# We can define a function using the \"def\" keyword, followed by the function name and parameters.\n",
    "\n",
    "def greet(name):\n",
    "    print(f\"Hello, {name}!\")\n",
    "\n",
    "# Calling a Function\n",
    "# To execute a function, we simply call it with the required arguments.\n",
    "greet(\"Alice\")"
   ]
  }
 ],
 "metadata": {
  "kernelspec": {
   "display_name": "Python 3 (ipykernel)",
   "language": "python",
   "name": "python3"
  },
  "language_info": {
   "codemirror_mode": {
    "name": "ipython",
    "version": 3
   },
   "file_extension": ".py",
   "mimetype": "text/x-python",
   "name": "python",
   "nbconvert_exporter": "python",
   "pygments_lexer": "ipython3",
   "version": "3.11.4"
  }
 },
 "nbformat": 4,
 "nbformat_minor": 4
}
