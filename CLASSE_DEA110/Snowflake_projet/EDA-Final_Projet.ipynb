{
 "metadata": {
  "kernelspec": {
   "display_name": "Streamlit Notebook",
   "name": "streamlit"
  },
  "lastEditStatus": {
   "notebookId": "7kzbn5i3hh7eq2d52jto",
   "authorId": "1056606100277",
   "authorName": "MURILOFARIAS",
   "authorEmail": "murilo.cornelio4837@mycanctb.ca",
   "sessionId": "656644ad-7683-497a-af2b-3103acdf850c",
   "lastEditTime": 1761670887365
  }
 },
 "nbformat_minor": 5,
 "nbformat": 4,
 "cells": [
  {
   "cell_type": "markdown",
   "id": "4cfe88e4-2a3e-4c59-98fd-524918bd8c35",
   "metadata": {
    "name": "Title",
    "collapsed": false
   },
   "source": "Author: Murilo Farias\n\nStarting: 2025-10-27\n\nCollege: CCTB - Canadian College of Technology and Business\n\nCourse Title: Data Warehouse (EDW) Concepts\n"
  },
  {
   "cell_type": "code",
   "id": "3775908f-ca36-4846-8f38-5adca39217f2",
   "metadata": {
    "language": "python",
    "name": "importing_packages"
   },
   "source": "# Import python packages\nimport streamlit as st\nimport pandas as pd\nimport matplotlib.pyplot as plt\nimport seaborn as sns\n\n# We can also use Snowpark for our analyses!\nfrom snowflake.snowpark.context import get_active_session\nsession = get_active_session()\n",
   "execution_count": null,
   "outputs": []
  },
  {
   "cell_type": "code",
   "id": "be7c8485-0369-477a-9b78-8176a9105117",
   "metadata": {
    "language": "python",
    "name": "Loading_tables"
   },
   "outputs": [],
   "source": "# Load dimension tables\ndim_customer = session.table(\"PUBLIC.DIM_CUSTOMER\").to_pandas()\ndim_location = session.table(\"PUBLIC.DIM_LOCATION\").to_pandas()\ndim_device = session.table(\"PUBLIC.DIM_DEVICE\").to_pandas()\n\n# Load fact table\nfact_shopping = session.table(\"PUBLIC.FACT_SHOPPING\").to_pandas()",
   "execution_count": null
  },
  {
   "cell_type": "code",
   "id": "15ce8c4b-6f78-46f8-9d00-80096e1c82d5",
   "metadata": {
    "language": "python",
    "name": "Changing_settings"
   },
   "outputs": [],
   "source": "pd.set_option('display.max_columns', None)  # Show all columns\npd.set_option('display.width', None)        # Auto-detect width\npd.set_option('display.max_colwidth', None) # Show full column content",
   "execution_count": null
  },
  {
   "cell_type": "code",
   "id": "cf11a6b6-01dd-40b7-b068-da6e26521ca1",
   "metadata": {
    "language": "python",
    "name": "fact_table_head"
   },
   "outputs": [],
   "source": "print(\"FACT_SHOPPING - First 5 rows\")\ndisplay(fact_shopping.head(5))",
   "execution_count": null
  },
  {
   "cell_type": "code",
   "id": "00e13e32-df87-48dd-adc6-29a55206d285",
   "metadata": {
    "language": "python",
    "name": "fact_table_info"
   },
   "outputs": [],
   "source": "print(fact_shopping.info())",
   "execution_count": null
  },
  {
   "cell_type": "code",
   "id": "dbb8da82-18be-4e90-a3f9-da2871f49a50",
   "metadata": {
    "language": "python",
    "name": "fact_table_describe"
   },
   "outputs": [],
   "source": "print(fact_shopping.describe())",
   "execution_count": null
  },
  {
   "cell_type": "code",
   "id": "51a9e81b-00a4-4e53-a072-2822196a06a5",
   "metadata": {
    "language": "python",
    "name": "fact_table_kpi"
   },
   "outputs": [],
   "source": "total_transactions = len(fact_shopping)\ntotal_purchases = fact_shopping['PURCHASE'].sum()\nconversion_rate = (total_purchases / total_transactions) * 100\nprint(\"KEY PERFORMANCE INDICATORS (KPIs)\")\nprint(f\"Total Transactions: {total_transactions:,}\")\nprint(f\"Total Purchases: {total_purchases:,}\")\nprint(f\"Conversion Rate: {conversion_rate:.2f}%\")",
   "execution_count": null
  },
  {
   "cell_type": "code",
   "id": "2d114e5b-b9c3-4b10-851d-77602c3d9b01",
   "metadata": {
    "language": "python",
    "name": "fact_table_null_values"
   },
   "outputs": [],
   "source": "print(\"MISSING VALUES ANALYSIS\")\nmissing = fact_shopping.isnull().sum()\nprint(missing)",
   "execution_count": null
  },
  {
   "cell_type": "code",
   "id": "d039867b-b8c3-4b2c-b4ce-f1f313a8db56",
   "metadata": {
    "language": "python",
    "name": "fact_table_some_distribuition"
   },
   "outputs": [],
   "source": "print(\"DEVICE DISTRIBUTION:\")\nprint(fact_shopping['DEVICEID'].value_counts().sort_index())\n\nprint(\"PURCHASE DISTRIBUTION:\")\nprint(fact_shopping['PURCHASE'].value_counts().sort_index())",
   "execution_count": null
  },
  {
   "cell_type": "code",
   "id": "413d04a0-1735-4b3b-827b-552fe71f8e1d",
   "metadata": {
    "language": "python",
    "name": "fact_table_correlation_matrix"
   },
   "outputs": [],
   "source": "print(\"CORRELATION MATRIX\")\nnumeric_cols = fact_shopping.select_dtypes(include='number')\ncorrelation = numeric_cols.corr()\n\n# Plot heatmap\nplt.figure(figsize=(10, 5))\nsns.heatmap(correlation, annot=True, cmap='coolwarm', fmt=\".2f\")\nplt.title(\"Correlation Heatmap\", fontsize=14, pad=10)\nplt.show()\n",
   "execution_count": null
  },
  {
   "cell_type": "code",
   "id": "4dbc014a-0b05-47c0-9f12-a3084e2106fe",
   "metadata": {
    "language": "python",
    "name": "fact_table_visit_duration"
   },
   "outputs": [],
   "source": "# Distribution of Visit Duration\nfig, ax = plt.subplots(figsize=(12, 6))\nax.hist(fact_shopping['VISITDURATION'], bins=50, color='steelblue', edgecolor='black', alpha=0.7)\nax.set_title('Distribution of Visit Duration', fontsize=16, fontweight='bold')\nax.set_xlabel('Visit Duration', fontsize=12)\nax.set_ylabel('Frequency', fontsize=12)\nax.grid(axis='y', alpha=0.3)\nst.pyplot(fig)\n",
   "execution_count": null
  },
  {
   "cell_type": "code",
   "id": "8c1eb47f-b8c5-4220-a860-01311db6a54d",
   "metadata": {
    "language": "python",
    "name": "dim_customer_head"
   },
   "outputs": [],
   "source": "print(dim_customer.head(5))",
   "execution_count": null
  },
  {
   "cell_type": "code",
   "id": "721f99eb-8ca6-48ce-b3df-fd46ccbcff05",
   "metadata": {
    "language": "python",
    "name": "dim_customer_describe"
   },
   "outputs": [],
   "source": "display(dim_customer.describe())",
   "execution_count": null
  },
  {
   "cell_type": "code",
   "id": "9e4b968f-970c-4fcd-a401-bab2e1984a3d",
   "metadata": {
    "language": "python",
    "name": "dim_customer_pie_chart"
   },
   "outputs": [],
   "source": "gender_counts = dim_customer['GENDER'].value_counts()\n\nfig, ax = plt.subplots()\nax.pie(gender_counts.values, labels=gender_counts.index, autopct='%1.1f%%', startangle=90)\nax.set_title('Gender Distribution')\nplt.close(fig)\nst.pyplot(fig)",
   "execution_count": null
  },
  {
   "cell_type": "code",
   "id": "2f61ea25-3fa2-46b7-ae77-c776d43d4bb6",
   "metadata": {
    "language": "python",
    "name": "dim_customer_agegroup_bar"
   },
   "outputs": [],
   "source": "age_counts = dim_customer['AGEGROUP'].value_counts()\nage_counts = age_counts.reindex(\n    ['Under 18'] + [age for age in sorted(age_counts.index) if age != 'Under 18']\n)\n\nfig, ax = plt.subplots()\nbars = ax.bar(age_counts.index, age_counts.values)\n\n# Add value labels\nfor bar in bars:\n    ax.text(bar.get_x() + bar.get_width()/2, bar.get_height(),\n            str(bar.get_height()), ha='center', va='bottom')\n\nplt.close(fig)\nst.pyplot(fig)",
   "execution_count": null
  },
  {
   "cell_type": "code",
   "id": "1a7db0dd-a18f-49c5-8fd9-e655edde20ca",
   "metadata": {
    "language": "python",
    "name": "dim_device_shape"
   },
   "outputs": [],
   "source": "print(dim_device.shape)",
   "execution_count": null
  },
  {
   "cell_type": "code",
   "id": "1ec1d6b5-819b-46c8-b4b4-65a65657b021",
   "metadata": {
    "language": "python",
    "name": "dim_device_table"
   },
   "outputs": [],
   "source": "print(dim_device)",
   "execution_count": null
  },
  {
   "cell_type": "code",
   "id": "f9e93cf4-d551-4aca-a9a0-df6deb36461b",
   "metadata": {
    "language": "python",
    "name": "dim_location_shape"
   },
   "outputs": [],
   "source": "print(dim_location.shape)",
   "execution_count": null
  },
  {
   "cell_type": "code",
   "id": "caaea4a2-a17e-451f-9ff1-9c6aeb40f016",
   "metadata": {
    "language": "python",
    "name": "dim_location_columns"
   },
   "outputs": [],
   "source": "print(dim_location.columns)",
   "execution_count": null
  },
  {
   "cell_type": "code",
   "id": "0773603b-d7cd-4d80-8bf1-e3e93be880ce",
   "metadata": {
    "language": "python",
    "name": "dim_location_head"
   },
   "outputs": [],
   "source": "display(dim_location.head(5))",
   "execution_count": null
  },
  {
   "cell_type": "code",
   "id": "76f5bfe8-0975-4c37-9156-9d012eef786c",
   "metadata": {
    "language": "python",
    "name": "dim_location_city_bar"
   },
   "outputs": [],
   "source": "# City counts and percentages\ncity_counts = dim_location['CITY'].value_counts().sort_values(ascending=True)\ncity_percentage = (city_counts / len(dim_location) * 100).round(2)\n\n# Horizontal bar chart\nfig, ax = plt.subplots(figsize=(10,6))\nbars = ax.barh(city_counts.index, city_counts.values, color='steelblue')\n\n# Add value labels (count and percentage)\nfor bar, pct in zip(bars, city_percentage):\n    ax.text(bar.get_width() + 0.5, bar.get_y() + bar.get_height()/2,\n            f\"{int(bar.get_width())} ({pct}%)\", va='center', fontsize=9)\n\nax.set_title('City Distribution')\nax.set_xlabel('Count')\nax.set_ylabel('City')\nplt.tight_layout()\nplt.close(fig)\nst.pyplot(fig)",
   "execution_count": null
  },
  {
   "cell_type": "code",
   "id": "95e0d38f-826c-469f-9a53-f82adb0dbb8c",
   "metadata": {
    "language": "python",
    "name": "dim_location_region"
   },
   "outputs": [],
   "source": "print(dim_location['REGION'].value_counts())",
   "execution_count": null
  },
  {
   "cell_type": "code",
   "id": "31e093da-a010-4c29-b13a-923efecb4e0e",
   "metadata": {
    "language": "python",
    "name": "dim_location_neighborhood_bar"
   },
   "outputs": [],
   "source": "# Neighborhood counts and percentages\nneigh_counts = dim_location['NEIGHBORHOOD'].value_counts().sort_values(ascending=True)\nneigh_percentage = (neigh_counts / len(dim_location) * 100).round(2)\n\n# Horizontal bar chart\nfig, ax = plt.subplots(figsize=(10,6))\nbars = ax.barh(neigh_counts.index, neigh_counts.values, color='steelblue')\n\n# Add value labels (count and percentage)\nfor bar, pct in zip(bars, neigh_percentage):\n    ax.text(bar.get_width() + 0.5, bar.get_y() + bar.get_height()/2,\n            f\"{int(bar.get_width())} ({pct}%)\", va='center', fontsize=9)\n\nax.set_title('Neighborhood Distribution')\nax.set_xlabel('Count')\nax.set_ylabel('Neighborhood')\nplt.tight_layout()\nplt.close(fig)\nst.pyplot(fig)",
   "execution_count": null
  }
 ]
}