{
  "nbformat": 4,
  "nbformat_minor": 0,
  "metadata": {
    "colab": {
      "name": "Certificacao_Cisco.ipynb",
      "provenance": [],
      "authorship_tag": "ABX9TyOzkHeZI0BMTDnPjwxMyOT4",
      "include_colab_link": true
    },
    "kernelspec": {
      "name": "python3",
      "display_name": "Python 3"
    },
    "language_info": {
      "name": "python"
    }
  },
  "cells": [
    {
      "cell_type": "markdown",
      "metadata": {
        "id": "view-in-github",
        "colab_type": "text"
      },
      "source": [
        "<a href=\"https://colab.research.google.com/github/murilofarias10/AnaliseComPython/blob/main/Certificacao_Cisco.ipynb\" target=\"_parent\"><img src=\"https://colab.research.google.com/assets/colab-badge.svg\" alt=\"Open In Colab\"/></a>"
      ]
    },
    {
      "cell_type": "code",
      "metadata": {
        "colab": {
          "base_uri": "https://localhost:8080/"
        },
        "id": "-FWZbmPqP9Tx",
        "outputId": "b091097b-d3fc-440c-d474-c38c8706628a"
      },
      "source": [
        "y = [9,3,81,2,5]\n",
        "\n",
        "posicao = y.index(max(y))\n",
        "\n",
        "print(posicao)\n",
        "\n",
        "(20+20+10+10)/4"
      ],
      "execution_count": 1,
      "outputs": [
        {
          "output_type": "stream",
          "name": "stdout",
          "text": [
            "2\n"
          ]
        },
        {
          "output_type": "execute_result",
          "data": {
            "text/plain": [
              "15.0"
            ]
          },
          "metadata": {},
          "execution_count": 1
        }
      ]
    },
    {
      "cell_type": "code",
      "metadata": {
        "colab": {
          "base_uri": "https://localhost:8080/"
        },
        "id": "vXBVCX0_Qkpx",
        "outputId": "c53142ee-1c9c-4648-aec3-938afa4383a5"
      },
      "source": [
        "lista = ['Matrix','Vovozona','Mad_Max','Batman']\n",
        "lista.insert(0,'Coringa')\n",
        "print(lista)"
      ],
      "execution_count": 2,
      "outputs": [
        {
          "output_type": "stream",
          "name": "stdout",
          "text": [
            "['Coringa', 'Matrix', 'Vovozona', 'Mad_Max', 'Batman']\n"
          ]
        }
      ]
    },
    {
      "cell_type": "code",
      "metadata": {
        "colab": {
          "base_uri": "https://localhost:8080/"
        },
        "id": "NWv-1P_3QmMi",
        "outputId": "5b1b453f-5743-4f65-c621-f3b5768c9ce6"
      },
      "source": [
        "#Alterando listas, as listas igualadas se alteram\n",
        "lista1 = [1]\n",
        "\n",
        "lista2 = lista1\n",
        "print(lista2)\n",
        "lista1[0] = 2\n",
        "\n",
        "print(lista2)\n",
        "print(lista1)\n"
      ],
      "execution_count": 3,
      "outputs": [
        {
          "output_type": "stream",
          "name": "stdout",
          "text": [
            "[1]\n",
            "[2]\n",
            "[2]\n"
          ]
        }
      ]
    },
    {
      "cell_type": "code",
      "metadata": {
        "colab": {
          "base_uri": "https://localhost:8080/"
        },
        "id": "6aQ7rw9cQn37",
        "outputId": "8a55151f-71c1-4489-d943-a072772dcee0"
      },
      "source": [
        "##############duvida\n",
        "lista = [1,2,3]\n",
        "for v in range(len(lista)):\n",
        "  lista.insert(1, lista[v])\n",
        "\n",
        "print(lista)"
      ],
      "execution_count": 4,
      "outputs": [
        {
          "output_type": "stream",
          "name": "stdout",
          "text": [
            "[1, 1, 1, 1, 2, 3]\n"
          ]
        }
      ]
    },
    {
      "cell_type": "code",
      "metadata": {
        "colab": {
          "base_uri": "https://localhost:8080/"
        },
        "id": "NJX_ZYEcQvPD",
        "outputId": "763c5f3b-b174-48d1-9c49-c21d24a39782"
      },
      "source": [
        "nums = [1,2,3]\n",
        "\n",
        "vals = nums[-1:-2]\n",
        "\n",
        "print(vals)"
      ],
      "execution_count": 5,
      "outputs": [
        {
          "output_type": "stream",
          "name": "stdout",
          "text": [
            "[]\n"
          ]
        }
      ]
    },
    {
      "cell_type": "code",
      "metadata": {
        "colab": {
          "base_uri": "https://localhost:8080/"
        },
        "id": "HlL6jAYjQw1D",
        "outputId": "8bf5a22a-2c39-4f2e-fc01-758f9a274831"
      },
      "source": [
        "t=[[3-i for i in range(3)] for j in range(3)]\n",
        "print(t)\n",
        "\n",
        "s = 0\n",
        "for i in range(3):\n",
        "  s+= t[i][i]\n",
        "\n",
        "print(s)"
      ],
      "execution_count": 6,
      "outputs": [
        {
          "output_type": "stream",
          "name": "stdout",
          "text": [
            "[[3, 2, 1], [3, 2, 1], [3, 2, 1]]\n",
            "6\n"
          ]
        }
      ]
    },
    {
      "cell_type": "code",
      "metadata": {
        "colab": {
          "base_uri": "https://localhost:8080/"
        },
        "id": "b1pwlzVXQyYr",
        "outputId": "c75ff4fa-a1f4-461e-d2e9-0746a2d5e3e3"
      },
      "source": [
        "lista = [3,1,-2]\n",
        "print(lista[lista[-1]])"
      ],
      "execution_count": 7,
      "outputs": [
        {
          "output_type": "stream",
          "name": "stdout",
          "text": [
            "1\n"
          ]
        }
      ]
    },
    {
      "cell_type": "code",
      "metadata": {
        "colab": {
          "base_uri": "https://localhost:8080/"
        },
        "id": "G6lFoI05QzwL",
        "outputId": "751ba94c-1349-4675-bb48-534a686fdf4b"
      },
      "source": [
        "#VER COM CALMAAAAAAAAA\n",
        "var = 0\n",
        "\n",
        "while var <6:\n",
        "  var +=1\n",
        "\n",
        "  if var % 2 ==0:\n",
        "    continue\n",
        "  \n",
        "  print('#')"
      ],
      "execution_count": 8,
      "outputs": [
        {
          "output_type": "stream",
          "name": "stdout",
          "text": [
            "#\n",
            "#\n",
            "#\n"
          ]
        }
      ]
    },
    {
      "cell_type": "code",
      "metadata": {
        "colab": {
          "base_uri": "https://localhost:8080/"
        },
        "id": "rpuR0gRcRMWl",
        "outputId": "acdd0356-114f-4dc0-8b6b-f28ca717fba0"
      },
      "source": [
        "lista = [i for i in range(-1,2)]\n",
        "print(lista)"
      ],
      "execution_count": 9,
      "outputs": [
        {
          "output_type": "stream",
          "name": "stdout",
          "text": [
            "[-1, 0, 1]\n"
          ]
        }
      ]
    },
    {
      "cell_type": "code",
      "metadata": {
        "colab": {
          "base_uri": "https://localhost:8080/"
        },
        "id": "2b7iQPdHROEF",
        "outputId": "e2789eb5-1115-471b-8242-2c03533db2d1"
      },
      "source": [
        "#Validação com Boleanos\n",
        "a = 1\n",
        "b = 0\n",
        "c = a & b # A e B = 0\n",
        "d = a | b # A ou B = 1\n",
        "e = a ^ b # A elevado 0 = 1\n",
        "\n",
        "print(c)\n",
        "print(d)\n",
        "print(e)\n",
        "\n",
        "print('Resposta final: {}'.format(c+d+e))"
      ],
      "execution_count": 10,
      "outputs": [
        {
          "output_type": "stream",
          "name": "stdout",
          "text": [
            "0\n",
            "1\n",
            "1\n",
            "Resposta final: 2\n"
          ]
        }
      ]
    },
    {
      "cell_type": "code",
      "metadata": {
        "colab": {
          "base_uri": "https://localhost:8080/"
        },
        "id": "3dAxR1zrRPr7",
        "outputId": "732639ae-a2d6-4c30-dee3-722fa2e5f65e"
      },
      "source": [
        "#MINIMAAA IDEIA\n",
        "var = 1\n",
        "\n",
        "while var < 10:\n",
        "  print('#')\n",
        "  var = var << 1"
      ],
      "execution_count": 11,
      "outputs": [
        {
          "output_type": "stream",
          "name": "stdout",
          "text": [
            "#\n",
            "#\n",
            "#\n",
            "#\n"
          ]
        }
      ]
    },
    {
      "cell_type": "code",
      "metadata": {
        "colab": {
          "base_uri": "https://localhost:8080/"
        },
        "id": "coB6IClARRQs",
        "outputId": "f3921da9-fff2-4534-9fc8-daa7ad89e3a1"
      },
      "source": [
        "i = 0\n",
        "while i <=5:\n",
        "  i +=1\n",
        "  if i % 2 ==0:\n",
        "    break\n",
        "  print('*')"
      ],
      "execution_count": 12,
      "outputs": [
        {
          "output_type": "stream",
          "name": "stdout",
          "text": [
            "*\n"
          ]
        }
      ]
    },
    {
      "cell_type": "code",
      "metadata": {
        "colab": {
          "base_uri": "https://localhost:8080/"
        },
        "id": "yW4m6iUbRSyD",
        "outputId": "7b31414d-fa2e-46dc-dc05-1b3259217e67"
      },
      "source": [
        "lista = [0,1,2]\n",
        "\n",
        "lista[0], lista[2] = lista[2], lista[0]\n",
        "\n",
        "print(lista)"
      ],
      "execution_count": 13,
      "outputs": [
        {
          "output_type": "stream",
          "name": "stdout",
          "text": [
            "[2, 1, 0]\n"
          ]
        }
      ]
    },
    {
      "cell_type": "code",
      "metadata": {
        "colab": {
          "base_uri": "https://localhost:8080/"
        },
        "id": "bJ-CrQ9xRUQq",
        "outputId": "aaeaa891-09b7-4ded-a239-903765f2a668"
      },
      "source": [
        "nums = [1,2,3]\n",
        "\n",
        "vals = nums\n",
        "\n",
        "del vals[1:2]\n",
        "\n",
        "print(vals)\n",
        "print(nums)"
      ],
      "execution_count": 14,
      "outputs": [
        {
          "output_type": "stream",
          "name": "stdout",
          "text": [
            "[1, 3]\n",
            "[1, 3]\n"
          ]
        }
      ]
    },
    {
      "cell_type": "code",
      "metadata": {
        "colab": {
          "base_uri": "https://localhost:8080/"
        },
        "id": "6BtRuTh3RVv6",
        "outputId": "4290b1ba-901d-481a-a932-855612d164b8"
      },
      "source": [
        "for x in range(5,0, -1):\n",
        "  print(x)"
      ],
      "execution_count": 15,
      "outputs": [
        {
          "output_type": "stream",
          "name": "stdout",
          "text": [
            "5\n",
            "4\n",
            "3\n",
            "2\n",
            "1\n"
          ]
        }
      ]
    },
    {
      "cell_type": "code",
      "metadata": {
        "colab": {
          "base_uri": "https://localhost:8080/"
        },
        "id": "qy8MrY8oRXjj",
        "outputId": "9ddf6bd5-b28f-41d4-a9f9-e6fa26500638"
      },
      "source": [
        "lista = [1,2,3,4]\n",
        "\n",
        "print(lista[::-1])"
      ],
      "execution_count": 16,
      "outputs": [
        {
          "output_type": "stream",
          "name": "stdout",
          "text": [
            "[4, 3, 2, 1]\n"
          ]
        }
      ]
    },
    {
      "cell_type": "code",
      "metadata": {
        "colab": {
          "base_uri": "https://localhost:8080/"
        },
        "id": "V3vjkt_jRY_j",
        "outputId": "f75a231e-508a-43cf-c353-78c50007a004"
      },
      "source": [
        "valor = int(input('Digite um numero: '))\n",
        "\n",
        "for i in range(valor):\n",
        "  print(i)"
      ],
      "execution_count": 17,
      "outputs": [
        {
          "output_type": "stream",
          "name": "stdout",
          "text": [
            "Digite um numero: 10\n",
            "0\n",
            "1\n",
            "2\n",
            "3\n",
            "4\n",
            "5\n",
            "6\n",
            "7\n",
            "8\n",
            "9\n"
          ]
        }
      ]
    },
    {
      "cell_type": "code",
      "metadata": {
        "colab": {
          "base_uri": "https://localhost:8080/"
        },
        "id": "A71Z64kJRakC",
        "outputId": "e73db302-7508-49aa-ebd0-d4c496ccedae"
      },
      "source": [
        "import numpy as np\n",
        "def contduplicado(numbers):\n",
        "  numbers = numbers.flatten().tolist()\n",
        "  nova_lista = list(set(numbers))\n",
        "  resposta = []\n",
        "  for i in nova_lista:\n",
        "    resposta.append(numbers.count(i))\n",
        "  print(max(resposta))\n",
        "\n",
        "numbers = np.array([1,2,3,3,3,2,3])\n",
        "contduplicado(numbers)"
      ],
      "execution_count": 18,
      "outputs": [
        {
          "output_type": "stream",
          "name": "stdout",
          "text": [
            "4\n"
          ]
        }
      ]
    },
    {
      "cell_type": "code",
      "metadata": {
        "colab": {
          "base_uri": "https://localhost:8080/"
        },
        "id": "a5mcCQbERdjC",
        "outputId": "5b1c7471-ffad-4697-e24c-b1021886155a"
      },
      "source": [
        "def contduplicado(numbers):\n",
        "  \n",
        "  nova_lista = list(set(numbers))\n",
        "  resposta = []\n",
        "  for i in nova_lista:\n",
        "    resposta.append(numbers.count(i))\n",
        "  print(max(resposta))\n",
        "\n",
        "numbers = [1,2,3,3,2,3]\n",
        "contduplicado(numbers)"
      ],
      "execution_count": 19,
      "outputs": [
        {
          "output_type": "stream",
          "name": "stdout",
          "text": [
            "3\n"
          ]
        }
      ]
    },
    {
      "cell_type": "code",
      "metadata": {
        "colab": {
          "base_uri": "https://localhost:8080/"
        },
        "id": "_Ihn8KkMRfIq",
        "outputId": "90d2b2b7-b883-4f51-a137-cae47a5178c6"
      },
      "source": [
        "lista = ['banana','pear','apple','apple']\n",
        "resultado = []\n",
        "for i in list(set(lista)):\n",
        "  print(i,lista.count(i))\n",
        "  #resultado.append(lista.count(i))\n",
        "  \n",
        "\n"
      ],
      "execution_count": 20,
      "outputs": [
        {
          "output_type": "stream",
          "name": "stdout",
          "text": [
            "banana 1\n",
            "apple 2\n",
            "pear 1\n"
          ]
        }
      ]
    },
    {
      "cell_type": "code",
      "metadata": {
        "colab": {
          "base_uri": "https://localhost:8080/"
        },
        "id": "WIlDswuyRgmS",
        "outputId": "f8bd9175-1bd5-4abe-a7b9-ae4d3a65ccc0"
      },
      "source": [
        "def grouptransaction(transactions):\n",
        "  resultado = []\n",
        "  for i in list(set(transactions)):\n",
        "    print(i,transactions.count(i))\n",
        "\n",
        "transactions = ['bin','can','bin','bin']\n",
        "grouptransaction(transactions)\n"
      ],
      "execution_count": 21,
      "outputs": [
        {
          "output_type": "stream",
          "name": "stdout",
          "text": [
            "bin 3\n",
            "can 1\n"
          ]
        }
      ]
    },
    {
      "cell_type": "code",
      "metadata": {
        "colab": {
          "base_uri": "https://localhost:8080/",
          "height": 108
        },
        "id": "MRjhq_x-RkBz",
        "outputId": "44b5c192-10da-48ba-ea19-7b229573b8c8"
      },
      "source": [
        "log = ['30 99 sign-in','30 105 sign-out','12 100 sign-in','20 80 sign-in','12 120 sign-out','20 101 sign-out','21 110 sign-in']\n",
        "ordenado = []\n",
        "ordenado = (sorted(log))\n",
        "\n",
        "novo = ','.join(log)\n",
        "\n",
        "novo2 = novo.replace(',', ' ')\n",
        "\n",
        "novo3 = novo2.split(' ')\n",
        "\n",
        "print(novo3)\n",
        "\n",
        "dicionario = {}\n",
        "chaves = []\n",
        "inicio = 0\n",
        "while inicio < len(novo3):\n",
        "  #dicionario[key] = (novo3[inicio])\n",
        "  chaves.append((novo3[inicio]))\n",
        "  inicio = inicio+3\n",
        "\n",
        "print('Chaves',chaves)\n",
        "\n",
        "inicio = 1\n",
        "tempo_inicial = []\n",
        "while inicio < len(novo3):\n",
        "  tempo_inicial.append(novo3[inicio])\n",
        "  inicio = inicio+3\n",
        "\n",
        "print('Inicial',tempo_inicial)\n",
        "\n",
        "inicio = 3\n",
        "saida = []\n",
        "while inicio < len(novo3):\n",
        "  saida.append(novo3[inicio])\n",
        "  inicio = inicio+3\n",
        "\n",
        "print('Saida', saida)\n",
        "'''\n",
        "for i in range(0,len(novo3)):\n",
        "  print(novo3[i])\n",
        "  i = i+2\n",
        "'''\n",
        "'''\n",
        "for key in len(log):\n",
        "  \n",
        "  \n",
        "\n",
        "print(dict_from_list)\n",
        "'''\n",
        "\n",
        "\n"
      ],
      "execution_count": 22,
      "outputs": [
        {
          "output_type": "stream",
          "name": "stdout",
          "text": [
            "['30', '99', 'sign-in', '30', '105', 'sign-out', '12', '100', 'sign-in', '20', '80', 'sign-in', '12', '120', 'sign-out', '20', '101', 'sign-out', '21', '110', 'sign-in']\n",
            "Chaves ['30', '30', '12', '20', '12', '20', '21']\n",
            "Inicial ['99', '105', '100', '80', '120', '101', '110']\n",
            "Saida ['30', '12', '20', '12', '20', '21']\n"
          ]
        },
        {
          "output_type": "execute_result",
          "data": {
            "application/vnd.google.colaboratory.intrinsic+json": {
              "type": "string"
            },
            "text/plain": [
              "'\\nfor key in len(log):\\n  \\n  \\n\\nprint(dict_from_list)\\n'"
            ]
          },
          "metadata": {},
          "execution_count": 22
        }
      ]
    },
    {
      "cell_type": "code",
      "metadata": {
        "colab": {
          "base_uri": "https://localhost:8080/"
        },
        "id": "WE-Y1Zd5RlwM",
        "outputId": "05f58b0c-a31c-4c2f-ec28-e5cfaf62bbd7"
      },
      "source": [
        "key_list = ['name', 'age', 'address']\n",
        "value_list = ['Johnny', '27', 'New York']\n",
        "\n",
        "dict_from_lista = {}\n",
        "for key in key_list:\n",
        "  for value in value_list:\n",
        "    dict_from_lista[key] = value\n",
        "    \n",
        "    break\n",
        "\n",
        "print(dict_from_lista)"
      ],
      "execution_count": 23,
      "outputs": [
        {
          "output_type": "stream",
          "name": "stdout",
          "text": [
            "{'name': 'Johnny', 'age': 'Johnny', 'address': 'Johnny'}\n"
          ]
        }
      ]
    },
    {
      "cell_type": "code",
      "metadata": {
        "colab": {
          "base_uri": "https://localhost:8080/"
        },
        "id": "GBs2z8ABRnJL",
        "outputId": "aac15dd0-fa88-4fd1-a0bb-6ccc04cbea4d"
      },
      "source": [
        "conjunto = {1,2,9,1,2,3,1,4,1,5,7}\n",
        "\n",
        "print(conjunto)\n",
        "\n",
        "conjunto = set(conjunto)\n",
        "\n",
        "print(conjunto)"
      ],
      "execution_count": 24,
      "outputs": [
        {
          "output_type": "stream",
          "name": "stdout",
          "text": [
            "{1, 2, 3, 4, 5, 7, 9}\n",
            "{1, 2, 3, 4, 5, 7, 9}\n"
          ]
        }
      ]
    },
    {
      "cell_type": "code",
      "metadata": {
        "colab": {
          "base_uri": "https://localhost:8080/"
        },
        "id": "ruLpI2NBRooD",
        "outputId": "b943ecf9-d8df-45c6-b703-c5b93d759498"
      },
      "source": [
        "vals = [0,1,2]\n",
        "vals.insert(0,1)\n",
        "print(vals)\n",
        "del vals[1]\n",
        "print(vals)"
      ],
      "execution_count": 25,
      "outputs": [
        {
          "output_type": "stream",
          "name": "stdout",
          "text": [
            "[1, 0, 1, 2]\n",
            "[1, 1, 2]\n"
          ]
        }
      ]
    },
    {
      "cell_type": "code",
      "metadata": {
        "colab": {
          "base_uri": "https://localhost:8080/"
        },
        "id": "Yq674RVERrX7",
        "outputId": "724c8ffc-6c42-4607-b880-4260dd85cd1d"
      },
      "source": [
        "x = 1\n",
        "x = x == x\n",
        "print(x)"
      ],
      "execution_count": 26,
      "outputs": [
        {
          "output_type": "stream",
          "name": "stdout",
          "text": [
            "True\n"
          ]
        }
      ]
    },
    {
      "cell_type": "code",
      "metadata": {
        "colab": {
          "base_uri": "https://localhost:8080/"
        },
        "id": "_X1BoYq0Rs5T",
        "outputId": "b6b120ea-87be-4895-c49c-6f57926bcc31"
      },
      "source": [
        "lista = [i for i in range(-1,2)]\n",
        "print(lista)"
      ],
      "execution_count": 27,
      "outputs": [
        {
          "output_type": "stream",
          "name": "stdout",
          "text": [
            "[-1, 0, 1]\n"
          ]
        }
      ]
    },
    {
      "cell_type": "code",
      "metadata": {
        "colab": {
          "base_uri": "https://localhost:8080/"
        },
        "id": "T-GsGpwjRuwr",
        "outputId": "c83ae336-04d6-43d1-a163-40d8427459e7"
      },
      "source": [
        "lista = [1,2,3]\n",
        "lista2 = []\n",
        "for v in lista:\n",
        "  lista2.insert(0,v)\n",
        "print(lista2)"
      ],
      "execution_count": 28,
      "outputs": [
        {
          "output_type": "stream",
          "name": "stdout",
          "text": [
            "[3, 2, 1]\n"
          ]
        }
      ]
    },
    {
      "cell_type": "code",
      "metadata": {
        "colab": {
          "base_uri": "https://localhost:8080/"
        },
        "id": "bhLN58k3RwKT",
        "outputId": "b73aaa4c-b52c-484c-e17f-1b883fbe1247"
      },
      "source": [
        "i = 0\n",
        "while i <=5:\n",
        "  i += 1\n",
        "  if i % 2 ==0:\n",
        "    break\n",
        "  print('*')"
      ],
      "execution_count": 29,
      "outputs": [
        {
          "output_type": "stream",
          "name": "stdout",
          "text": [
            "*\n"
          ]
        }
      ]
    },
    {
      "cell_type": "code",
      "metadata": {
        "colab": {
          "base_uri": "https://localhost:8080/"
        },
        "id": "bgVRXhhPRxmS",
        "outputId": "94e8f965-de3e-404b-c960-948943d1e7e2"
      },
      "source": [
        "#Verificar o que significa <<\n",
        "var = 1\n",
        "while var < 10:\n",
        "  print('*')\n",
        "  var = var << 1"
      ],
      "execution_count": 30,
      "outputs": [
        {
          "output_type": "stream",
          "name": "stdout",
          "text": [
            "*\n",
            "*\n",
            "*\n",
            "*\n"
          ]
        }
      ]
    },
    {
      "cell_type": "code",
      "metadata": {
        "colab": {
          "base_uri": "https://localhost:8080/"
        },
        "id": "e_8YlVKRRzN6",
        "outputId": "5875fb7d-0247-4d9a-ea0a-dbd6b4e0ebd8"
      },
      "source": [
        "i = 0\n",
        "while i <=3:\n",
        "  i += 2\n",
        "  print('*')"
      ],
      "execution_count": 31,
      "outputs": [
        {
          "output_type": "stream",
          "name": "stdout",
          "text": [
            "*\n",
            "*\n"
          ]
        }
      ]
    },
    {
      "cell_type": "code",
      "metadata": {
        "colab": {
          "base_uri": "https://localhost:8080/"
        },
        "id": "EO8n9rEER0-D",
        "outputId": "41b27384-2aa9-497f-d703-b05234f66492"
      },
      "source": [
        "lista = [1,2,3]\n",
        "for v in range(3):\n",
        "  lista.insert(1,lista[v])\n",
        "print(lista)"
      ],
      "execution_count": 32,
      "outputs": [
        {
          "output_type": "stream",
          "name": "stdout",
          "text": [
            "[1, 1, 1, 1, 2, 3]\n"
          ]
        }
      ]
    },
    {
      "cell_type": "code",
      "metadata": {
        "colab": {
          "base_uri": "https://localhost:8080/"
        },
        "id": "RLefIRS3R18l",
        "outputId": "5f2d15d0-1770-4096-ab82-26a6a8faa172"
      },
      "source": [
        "#Entender o que significa os codigos\n",
        "a = 1\n",
        "b = 0\n",
        "c = a & b\n",
        "d = a | b\n",
        "e = a ^ b\n",
        "print(c+d+e)"
      ],
      "execution_count": 33,
      "outputs": [
        {
          "output_type": "stream",
          "name": "stdout",
          "text": [
            "2\n"
          ]
        }
      ]
    },
    {
      "cell_type": "code",
      "metadata": {
        "colab": {
          "base_uri": "https://localhost:8080/"
        },
        "id": "N7SJmq53R3TK",
        "outputId": "d1257347-c756-47b6-dca8-f1ac63898fcd"
      },
      "source": [
        "nums = [1,2,3]\n",
        "vals = nums\n",
        "del vals[1:2]\n",
        "\n",
        "print(nums)\n",
        "print(vals)"
      ],
      "execution_count": 34,
      "outputs": [
        {
          "output_type": "stream",
          "name": "stdout",
          "text": [
            "[1, 3]\n",
            "[1, 3]\n"
          ]
        }
      ]
    },
    {
      "cell_type": "code",
      "metadata": {
        "colab": {
          "base_uri": "https://localhost:8080/"
        },
        "id": "PuVNfKaNR5OC",
        "outputId": "86d74640-ba84-46a8-b258-d29e36aaff20"
      },
      "source": [
        "var = 0\n",
        "while var < 6:\n",
        "  var +=1\n",
        "  if var % 2 ==0:\n",
        "    continue\n",
        "  print('*')"
      ],
      "execution_count": 35,
      "outputs": [
        {
          "output_type": "stream",
          "name": "stdout",
          "text": [
            "*\n",
            "*\n",
            "*\n"
          ]
        }
      ]
    },
    {
      "cell_type": "code",
      "metadata": {
        "colab": {
          "base_uri": "https://localhost:8080/"
        },
        "id": "TrY5DcynR6ay",
        "outputId": "b376d711-8056-46ee-dbe1-912331a5c7cb"
      },
      "source": [
        "t = [[3-i for i in range(3)]for j in range(3)]\n",
        "print(t)\n",
        "s = 0\n",
        "for i in range(3):\n",
        "  s += t[i][i]\n",
        "\n",
        "print(s)"
      ],
      "execution_count": 36,
      "outputs": [
        {
          "output_type": "stream",
          "name": "stdout",
          "text": [
            "[[3, 2, 1], [3, 2, 1], [3, 2, 1]]\n",
            "6\n"
          ]
        }
      ]
    },
    {
      "cell_type": "code",
      "metadata": {
        "colab": {
          "base_uri": "https://localhost:8080/"
        },
        "id": "Og8wKtg9R74i",
        "outputId": "c0df749c-0f15-49ce-b3e0-bcbaae738674"
      },
      "source": [
        "lista = [1,2,3,4]\n",
        "print(lista[-3:-2])"
      ],
      "execution_count": 37,
      "outputs": [
        {
          "output_type": "stream",
          "name": "stdout",
          "text": [
            "[2]\n"
          ]
        }
      ]
    },
    {
      "cell_type": "code",
      "metadata": {
        "colab": {
          "base_uri": "https://localhost:8080/"
        },
        "id": "rHiQpS7SR9M6",
        "outputId": "5aa06a23-65df-4e20-f563-5c6e7a769f3e"
      },
      "source": [
        "for i in range(1):\n",
        "  print('*')\n",
        "\n",
        "else:\n",
        "  print('*')"
      ],
      "execution_count": 38,
      "outputs": [
        {
          "output_type": "stream",
          "name": "stdout",
          "text": [
            "*\n",
            "*\n"
          ]
        }
      ]
    },
    {
      "cell_type": "code",
      "metadata": {
        "colab": {
          "base_uri": "https://localhost:8080/"
        },
        "id": "mW6qdfDwR-tM",
        "outputId": "90eacb4e-624c-40b3-ed60-154a9a95a4dd"
      },
      "source": [
        "lista = [3,1,-2]\n",
        "print(lista[lista[-1]])\n"
      ],
      "execution_count": 39,
      "outputs": [
        {
          "output_type": "stream",
          "name": "stdout",
          "text": [
            "1\n"
          ]
        }
      ]
    }
  ]
}