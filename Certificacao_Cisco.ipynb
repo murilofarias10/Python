{
  "nbformat": 4,
  "nbformat_minor": 0,
  "metadata": {
    "colab": {
      "name": "Certificacao_Cisco.ipynb",
      "provenance": [],
      "collapsed_sections": [],
      "authorship_tag": "ABX9TyOS0Yo8SCqCJJFOouMuNCNL",
      "include_colab_link": true
    },
    "kernelspec": {
      "name": "python3",
      "display_name": "Python 3"
    },
    "language_info": {
      "name": "python"
    }
  },
  "cells": [
    {
      "cell_type": "markdown",
      "metadata": {
        "id": "view-in-github",
        "colab_type": "text"
      },
      "source": [
        "<a href=\"https://colab.research.google.com/github/murilofarias10/AnaliseComPython/blob/main/Certificacao_Cisco.ipynb\" target=\"_parent\"><img src=\"https://colab.research.google.com/assets/colab-badge.svg\" alt=\"Open In Colab\"/></a>"
      ]
    },
    {
      "cell_type": "code",
      "metadata": {
        "colab": {
          "base_uri": "https://localhost:8080/"
        },
        "id": "-FWZbmPqP9Tx",
        "outputId": "b091097b-d3fc-440c-d474-c38c8706628a"
      },
      "source": [
        "y = [9,3,81,2,5]\n",
        "\n",
        "posicao = y.index(max(y))\n",
        "\n",
        "print(posicao)\n",
        "\n",
        "(20+20+10+10)/4"
      ],
      "execution_count": null,
      "outputs": [
        {
          "output_type": "stream",
          "name": "stdout",
          "text": [
            "2\n"
          ]
        },
        {
          "output_type": "execute_result",
          "data": {
            "text/plain": [
              "15.0"
            ]
          },
          "metadata": {},
          "execution_count": 1
        }
      ]
    },
    {
      "cell_type": "code",
      "metadata": {
        "colab": {
          "base_uri": "https://localhost:8080/"
        },
        "id": "vXBVCX0_Qkpx",
        "outputId": "c53142ee-1c9c-4648-aec3-938afa4383a5"
      },
      "source": [
        "lista = ['Matrix','Vovozona','Mad_Max','Batman']\n",
        "lista.insert(0,'Coringa')\n",
        "print(lista)"
      ],
      "execution_count": null,
      "outputs": [
        {
          "output_type": "stream",
          "name": "stdout",
          "text": [
            "['Coringa', 'Matrix', 'Vovozona', 'Mad_Max', 'Batman']\n"
          ]
        }
      ]
    },
    {
      "cell_type": "code",
      "metadata": {
        "colab": {
          "base_uri": "https://localhost:8080/"
        },
        "id": "NWv-1P_3QmMi",
        "outputId": "5b1b453f-5743-4f65-c621-f3b5768c9ce6"
      },
      "source": [
        "#Alterando listas, as listas igualadas se alteram\n",
        "lista1 = [1]\n",
        "\n",
        "lista2 = lista1\n",
        "print(lista2)\n",
        "lista1[0] = 2\n",
        "\n",
        "print(lista2)\n",
        "print(lista1)\n"
      ],
      "execution_count": null,
      "outputs": [
        {
          "output_type": "stream",
          "name": "stdout",
          "text": [
            "[1]\n",
            "[2]\n",
            "[2]\n"
          ]
        }
      ]
    },
    {
      "cell_type": "code",
      "metadata": {
        "colab": {
          "base_uri": "https://localhost:8080/"
        },
        "id": "6aQ7rw9cQn37",
        "outputId": "8a55151f-71c1-4489-d943-a072772dcee0"
      },
      "source": [
        "##############duvida\n",
        "lista = [1,2,3]\n",
        "for v in range(len(lista)):\n",
        "  lista.insert(1, lista[v])\n",
        "\n",
        "print(lista)"
      ],
      "execution_count": null,
      "outputs": [
        {
          "output_type": "stream",
          "name": "stdout",
          "text": [
            "[1, 1, 1, 1, 2, 3]\n"
          ]
        }
      ]
    },
    {
      "cell_type": "code",
      "metadata": {
        "colab": {
          "base_uri": "https://localhost:8080/"
        },
        "id": "NJX_ZYEcQvPD",
        "outputId": "763c5f3b-b174-48d1-9c49-c21d24a39782"
      },
      "source": [
        "nums = [1,2,3]\n",
        "\n",
        "vals = nums[-1:-2]\n",
        "\n",
        "print(vals)"
      ],
      "execution_count": null,
      "outputs": [
        {
          "output_type": "stream",
          "name": "stdout",
          "text": [
            "[]\n"
          ]
        }
      ]
    },
    {
      "cell_type": "code",
      "metadata": {
        "colab": {
          "base_uri": "https://localhost:8080/"
        },
        "id": "HlL6jAYjQw1D",
        "outputId": "8bf5a22a-2c39-4f2e-fc01-758f9a274831"
      },
      "source": [
        "t=[[3-i for i in range(3)] for j in range(3)]\n",
        "print(t)\n",
        "\n",
        "s = 0\n",
        "for i in range(3):\n",
        "  s+= t[i][i]\n",
        "\n",
        "print(s)"
      ],
      "execution_count": null,
      "outputs": [
        {
          "output_type": "stream",
          "name": "stdout",
          "text": [
            "[[3, 2, 1], [3, 2, 1], [3, 2, 1]]\n",
            "6\n"
          ]
        }
      ]
    },
    {
      "cell_type": "code",
      "metadata": {
        "colab": {
          "base_uri": "https://localhost:8080/"
        },
        "id": "b1pwlzVXQyYr",
        "outputId": "c75ff4fa-a1f4-461e-d2e9-0746a2d5e3e3"
      },
      "source": [
        "lista = [3,1,-2]\n",
        "print(lista[lista[-1]])"
      ],
      "execution_count": null,
      "outputs": [
        {
          "output_type": "stream",
          "name": "stdout",
          "text": [
            "1\n"
          ]
        }
      ]
    },
    {
      "cell_type": "code",
      "metadata": {
        "colab": {
          "base_uri": "https://localhost:8080/"
        },
        "id": "G6lFoI05QzwL",
        "outputId": "751ba94c-1349-4675-bb48-534a686fdf4b"
      },
      "source": [
        "#VER COM CALMAAAAAAAAA\n",
        "var = 0\n",
        "\n",
        "while var <6:\n",
        "  var +=1\n",
        "\n",
        "  if var % 2 ==0:\n",
        "    continue\n",
        "  \n",
        "  print('#')"
      ],
      "execution_count": null,
      "outputs": [
        {
          "output_type": "stream",
          "name": "stdout",
          "text": [
            "#\n",
            "#\n",
            "#\n"
          ]
        }
      ]
    },
    {
      "cell_type": "code",
      "metadata": {
        "colab": {
          "base_uri": "https://localhost:8080/"
        },
        "id": "rpuR0gRcRMWl",
        "outputId": "acdd0356-114f-4dc0-8b6b-f28ca717fba0"
      },
      "source": [
        "lista = [i for i in range(-1,2)]\n",
        "print(lista)"
      ],
      "execution_count": null,
      "outputs": [
        {
          "output_type": "stream",
          "name": "stdout",
          "text": [
            "[-1, 0, 1]\n"
          ]
        }
      ]
    },
    {
      "cell_type": "code",
      "metadata": {
        "colab": {
          "base_uri": "https://localhost:8080/"
        },
        "id": "2b7iQPdHROEF",
        "outputId": "e2789eb5-1115-471b-8242-2c03533db2d1"
      },
      "source": [
        "#Validação com Boleanos\n",
        "a = 1\n",
        "b = 0\n",
        "c = a & b # A e B = 0\n",
        "d = a | b # A ou B = 1\n",
        "e = a ^ b # A elevado 0 = 1\n",
        "\n",
        "print(c)\n",
        "print(d)\n",
        "print(e)\n",
        "\n",
        "print('Resposta final: {}'.format(c+d+e))"
      ],
      "execution_count": null,
      "outputs": [
        {
          "output_type": "stream",
          "name": "stdout",
          "text": [
            "0\n",
            "1\n",
            "1\n",
            "Resposta final: 2\n"
          ]
        }
      ]
    },
    {
      "cell_type": "code",
      "metadata": {
        "colab": {
          "base_uri": "https://localhost:8080/"
        },
        "id": "3dAxR1zrRPr7",
        "outputId": "732639ae-a2d6-4c30-dee3-722fa2e5f65e"
      },
      "source": [
        "#MINIMAAA IDEIA\n",
        "var = 1\n",
        "\n",
        "while var < 10:\n",
        "  print('#')\n",
        "  var = var << 1"
      ],
      "execution_count": null,
      "outputs": [
        {
          "output_type": "stream",
          "name": "stdout",
          "text": [
            "#\n",
            "#\n",
            "#\n",
            "#\n"
          ]
        }
      ]
    },
    {
      "cell_type": "code",
      "metadata": {
        "colab": {
          "base_uri": "https://localhost:8080/"
        },
        "id": "coB6IClARRQs",
        "outputId": "f3921da9-fff2-4534-9fc8-daa7ad89e3a1"
      },
      "source": [
        "i = 0\n",
        "while i <=5:\n",
        "  i +=1\n",
        "  if i % 2 ==0:\n",
        "    break\n",
        "  print('*')"
      ],
      "execution_count": null,
      "outputs": [
        {
          "output_type": "stream",
          "name": "stdout",
          "text": [
            "*\n"
          ]
        }
      ]
    },
    {
      "cell_type": "code",
      "metadata": {
        "colab": {
          "base_uri": "https://localhost:8080/"
        },
        "id": "yW4m6iUbRSyD",
        "outputId": "7b31414d-fa2e-46dc-dc05-1b3259217e67"
      },
      "source": [
        "lista = [0,1,2]\n",
        "\n",
        "lista[0], lista[2] = lista[2], lista[0]\n",
        "\n",
        "print(lista)"
      ],
      "execution_count": null,
      "outputs": [
        {
          "output_type": "stream",
          "name": "stdout",
          "text": [
            "[2, 1, 0]\n"
          ]
        }
      ]
    },
    {
      "cell_type": "code",
      "metadata": {
        "colab": {
          "base_uri": "https://localhost:8080/"
        },
        "id": "bJ-CrQ9xRUQq",
        "outputId": "aaeaa891-09b7-4ded-a239-903765f2a668"
      },
      "source": [
        "nums = [1,2,3]\n",
        "\n",
        "vals = nums\n",
        "\n",
        "del vals[1:2]\n",
        "\n",
        "print(vals)\n",
        "print(nums)"
      ],
      "execution_count": null,
      "outputs": [
        {
          "output_type": "stream",
          "name": "stdout",
          "text": [
            "[1, 3]\n",
            "[1, 3]\n"
          ]
        }
      ]
    },
    {
      "cell_type": "code",
      "metadata": {
        "colab": {
          "base_uri": "https://localhost:8080/"
        },
        "id": "6BtRuTh3RVv6",
        "outputId": "4290b1ba-901d-481a-a932-855612d164b8"
      },
      "source": [
        "for x in range(5,0, -1):\n",
        "  print(x)"
      ],
      "execution_count": null,
      "outputs": [
        {
          "output_type": "stream",
          "name": "stdout",
          "text": [
            "5\n",
            "4\n",
            "3\n",
            "2\n",
            "1\n"
          ]
        }
      ]
    },
    {
      "cell_type": "code",
      "metadata": {
        "colab": {
          "base_uri": "https://localhost:8080/"
        },
        "id": "qy8MrY8oRXjj",
        "outputId": "9ddf6bd5-b28f-41d4-a9f9-e6fa26500638"
      },
      "source": [
        "lista = [1,2,3,4]\n",
        "\n",
        "print(lista[::-1])"
      ],
      "execution_count": null,
      "outputs": [
        {
          "output_type": "stream",
          "name": "stdout",
          "text": [
            "[4, 3, 2, 1]\n"
          ]
        }
      ]
    },
    {
      "cell_type": "code",
      "metadata": {
        "colab": {
          "base_uri": "https://localhost:8080/"
        },
        "id": "V3vjkt_jRY_j",
        "outputId": "f75a231e-508a-43cf-c353-78c50007a004"
      },
      "source": [
        "valor = int(input('Digite um numero: '))\n",
        "\n",
        "for i in range(valor):\n",
        "  print(i)"
      ],
      "execution_count": null,
      "outputs": [
        {
          "output_type": "stream",
          "name": "stdout",
          "text": [
            "Digite um numero: 10\n",
            "0\n",
            "1\n",
            "2\n",
            "3\n",
            "4\n",
            "5\n",
            "6\n",
            "7\n",
            "8\n",
            "9\n"
          ]
        }
      ]
    },
    {
      "cell_type": "code",
      "metadata": {
        "colab": {
          "base_uri": "https://localhost:8080/"
        },
        "id": "A71Z64kJRakC",
        "outputId": "e73db302-7508-49aa-ebd0-d4c496ccedae"
      },
      "source": [
        "import numpy as np\n",
        "def contduplicado(numbers):\n",
        "  numbers = numbers.flatten().tolist()\n",
        "  nova_lista = list(set(numbers))\n",
        "  resposta = []\n",
        "  for i in nova_lista:\n",
        "    resposta.append(numbers.count(i))\n",
        "  print(max(resposta))\n",
        "\n",
        "numbers = np.array([1,2,3,3,3,2,3])\n",
        "contduplicado(numbers)"
      ],
      "execution_count": null,
      "outputs": [
        {
          "output_type": "stream",
          "name": "stdout",
          "text": [
            "4\n"
          ]
        }
      ]
    },
    {
      "cell_type": "code",
      "metadata": {
        "colab": {
          "base_uri": "https://localhost:8080/"
        },
        "id": "a5mcCQbERdjC",
        "outputId": "5b1c7471-ffad-4697-e24c-b1021886155a"
      },
      "source": [
        "def contduplicado(numbers):\n",
        "  \n",
        "  nova_lista = list(set(numbers))\n",
        "  resposta = []\n",
        "  for i in nova_lista:\n",
        "    resposta.append(numbers.count(i))\n",
        "  print(max(resposta))\n",
        "\n",
        "numbers = [1,2,3,3,2,3]\n",
        "contduplicado(numbers)"
      ],
      "execution_count": null,
      "outputs": [
        {
          "output_type": "stream",
          "name": "stdout",
          "text": [
            "3\n"
          ]
        }
      ]
    },
    {
      "cell_type": "code",
      "metadata": {
        "colab": {
          "base_uri": "https://localhost:8080/"
        },
        "id": "_Ihn8KkMRfIq",
        "outputId": "90d2b2b7-b883-4f51-a137-cae47a5178c6"
      },
      "source": [
        "lista = ['banana','pear','apple','apple']\n",
        "resultado = []\n",
        "for i in list(set(lista)):\n",
        "  print(i,lista.count(i))\n",
        "  #resultado.append(lista.count(i))\n",
        "  \n",
        "\n"
      ],
      "execution_count": null,
      "outputs": [
        {
          "output_type": "stream",
          "name": "stdout",
          "text": [
            "banana 1\n",
            "apple 2\n",
            "pear 1\n"
          ]
        }
      ]
    },
    {
      "cell_type": "code",
      "metadata": {
        "colab": {
          "base_uri": "https://localhost:8080/"
        },
        "id": "WIlDswuyRgmS",
        "outputId": "f8bd9175-1bd5-4abe-a7b9-ae4d3a65ccc0"
      },
      "source": [
        "def grouptransaction(transactions):\n",
        "  resultado = []\n",
        "  for i in list(set(transactions)):\n",
        "    print(i,transactions.count(i))\n",
        "\n",
        "transactions = ['bin','can','bin','bin']\n",
        "grouptransaction(transactions)\n"
      ],
      "execution_count": null,
      "outputs": [
        {
          "output_type": "stream",
          "name": "stdout",
          "text": [
            "bin 3\n",
            "can 1\n"
          ]
        }
      ]
    },
    {
      "cell_type": "code",
      "metadata": {
        "colab": {
          "base_uri": "https://localhost:8080/",
          "height": 108
        },
        "id": "MRjhq_x-RkBz",
        "outputId": "44b5c192-10da-48ba-ea19-7b229573b8c8"
      },
      "source": [
        "log = ['30 99 sign-in','30 105 sign-out','12 100 sign-in','20 80 sign-in','12 120 sign-out','20 101 sign-out','21 110 sign-in']\n",
        "ordenado = []\n",
        "ordenado = (sorted(log))\n",
        "\n",
        "novo = ','.join(log)\n",
        "\n",
        "novo2 = novo.replace(',', ' ')\n",
        "\n",
        "novo3 = novo2.split(' ')\n",
        "\n",
        "print(novo3)\n",
        "\n",
        "dicionario = {}\n",
        "chaves = []\n",
        "inicio = 0\n",
        "while inicio < len(novo3):\n",
        "  #dicionario[key] = (novo3[inicio])\n",
        "  chaves.append((novo3[inicio]))\n",
        "  inicio = inicio+3\n",
        "\n",
        "print('Chaves',chaves)\n",
        "\n",
        "inicio = 1\n",
        "tempo_inicial = []\n",
        "while inicio < len(novo3):\n",
        "  tempo_inicial.append(novo3[inicio])\n",
        "  inicio = inicio+3\n",
        "\n",
        "print('Inicial',tempo_inicial)\n",
        "\n",
        "inicio = 3\n",
        "saida = []\n",
        "while inicio < len(novo3):\n",
        "  saida.append(novo3[inicio])\n",
        "  inicio = inicio+3\n",
        "\n",
        "print('Saida', saida)\n",
        "'''\n",
        "for i in range(0,len(novo3)):\n",
        "  print(novo3[i])\n",
        "  i = i+2\n",
        "'''\n",
        "'''\n",
        "for key in len(log):\n",
        "  \n",
        "  \n",
        "\n",
        "print(dict_from_list)\n",
        "'''\n",
        "\n",
        "\n"
      ],
      "execution_count": null,
      "outputs": [
        {
          "output_type": "stream",
          "name": "stdout",
          "text": [
            "['30', '99', 'sign-in', '30', '105', 'sign-out', '12', '100', 'sign-in', '20', '80', 'sign-in', '12', '120', 'sign-out', '20', '101', 'sign-out', '21', '110', 'sign-in']\n",
            "Chaves ['30', '30', '12', '20', '12', '20', '21']\n",
            "Inicial ['99', '105', '100', '80', '120', '101', '110']\n",
            "Saida ['30', '12', '20', '12', '20', '21']\n"
          ]
        },
        {
          "output_type": "execute_result",
          "data": {
            "application/vnd.google.colaboratory.intrinsic+json": {
              "type": "string"
            },
            "text/plain": [
              "'\\nfor key in len(log):\\n  \\n  \\n\\nprint(dict_from_list)\\n'"
            ]
          },
          "metadata": {},
          "execution_count": 22
        }
      ]
    },
    {
      "cell_type": "code",
      "metadata": {
        "colab": {
          "base_uri": "https://localhost:8080/"
        },
        "id": "WE-Y1Zd5RlwM",
        "outputId": "05f58b0c-a31c-4c2f-ec28-e5cfaf62bbd7"
      },
      "source": [
        "key_list = ['name', 'age', 'address']\n",
        "value_list = ['Johnny', '27', 'New York']\n",
        "\n",
        "dict_from_lista = {}\n",
        "for key in key_list:\n",
        "  for value in value_list:\n",
        "    dict_from_lista[key] = value\n",
        "    \n",
        "    break\n",
        "\n",
        "print(dict_from_lista)"
      ],
      "execution_count": null,
      "outputs": [
        {
          "output_type": "stream",
          "name": "stdout",
          "text": [
            "{'name': 'Johnny', 'age': 'Johnny', 'address': 'Johnny'}\n"
          ]
        }
      ]
    },
    {
      "cell_type": "code",
      "metadata": {
        "colab": {
          "base_uri": "https://localhost:8080/"
        },
        "id": "GBs2z8ABRnJL",
        "outputId": "aac15dd0-fa88-4fd1-a0bb-6ccc04cbea4d"
      },
      "source": [
        "conjunto = {1,2,9,1,2,3,1,4,1,5,7}\n",
        "\n",
        "print(conjunto)\n",
        "\n",
        "conjunto = set(conjunto)\n",
        "\n",
        "print(conjunto)"
      ],
      "execution_count": null,
      "outputs": [
        {
          "output_type": "stream",
          "name": "stdout",
          "text": [
            "{1, 2, 3, 4, 5, 7, 9}\n",
            "{1, 2, 3, 4, 5, 7, 9}\n"
          ]
        }
      ]
    },
    {
      "cell_type": "code",
      "metadata": {
        "colab": {
          "base_uri": "https://localhost:8080/"
        },
        "id": "ruLpI2NBRooD",
        "outputId": "b943ecf9-d8df-45c6-b703-c5b93d759498"
      },
      "source": [
        "vals = [0,1,2]\n",
        "vals.insert(0,1)\n",
        "print(vals)\n",
        "del vals[1]\n",
        "print(vals)"
      ],
      "execution_count": null,
      "outputs": [
        {
          "output_type": "stream",
          "name": "stdout",
          "text": [
            "[1, 0, 1, 2]\n",
            "[1, 1, 2]\n"
          ]
        }
      ]
    },
    {
      "cell_type": "code",
      "metadata": {
        "colab": {
          "base_uri": "https://localhost:8080/"
        },
        "id": "Yq674RVERrX7",
        "outputId": "724c8ffc-6c42-4607-b880-4260dd85cd1d"
      },
      "source": [
        "x = 1\n",
        "x = x == x\n",
        "print(x)"
      ],
      "execution_count": null,
      "outputs": [
        {
          "output_type": "stream",
          "name": "stdout",
          "text": [
            "True\n"
          ]
        }
      ]
    },
    {
      "cell_type": "code",
      "metadata": {
        "colab": {
          "base_uri": "https://localhost:8080/"
        },
        "id": "_X1BoYq0Rs5T",
        "outputId": "b6b120ea-87be-4895-c49c-6f57926bcc31"
      },
      "source": [
        "lista = [i for i in range(-1,2)]\n",
        "print(lista)"
      ],
      "execution_count": null,
      "outputs": [
        {
          "output_type": "stream",
          "name": "stdout",
          "text": [
            "[-1, 0, 1]\n"
          ]
        }
      ]
    },
    {
      "cell_type": "code",
      "metadata": {
        "colab": {
          "base_uri": "https://localhost:8080/"
        },
        "id": "T-GsGpwjRuwr",
        "outputId": "c83ae336-04d6-43d1-a163-40d8427459e7"
      },
      "source": [
        "lista = [1,2,3]\n",
        "lista2 = []\n",
        "for v in lista:\n",
        "  lista2.insert(0,v)\n",
        "print(lista2)"
      ],
      "execution_count": null,
      "outputs": [
        {
          "output_type": "stream",
          "name": "stdout",
          "text": [
            "[3, 2, 1]\n"
          ]
        }
      ]
    },
    {
      "cell_type": "code",
      "metadata": {
        "colab": {
          "base_uri": "https://localhost:8080/"
        },
        "id": "bhLN58k3RwKT",
        "outputId": "b73aaa4c-b52c-484c-e17f-1b883fbe1247"
      },
      "source": [
        "i = 0\n",
        "while i <=5:\n",
        "  i += 1\n",
        "  if i % 2 ==0:\n",
        "    break\n",
        "  print('*')"
      ],
      "execution_count": null,
      "outputs": [
        {
          "output_type": "stream",
          "name": "stdout",
          "text": [
            "*\n"
          ]
        }
      ]
    },
    {
      "cell_type": "code",
      "metadata": {
        "colab": {
          "base_uri": "https://localhost:8080/"
        },
        "id": "bgVRXhhPRxmS",
        "outputId": "94e8f965-de3e-404b-c960-948943d1e7e2"
      },
      "source": [
        "#Verificar o que significa <<\n",
        "var = 1\n",
        "while var < 10:\n",
        "  print('*')\n",
        "  var = var << 1"
      ],
      "execution_count": null,
      "outputs": [
        {
          "output_type": "stream",
          "name": "stdout",
          "text": [
            "*\n",
            "*\n",
            "*\n",
            "*\n"
          ]
        }
      ]
    },
    {
      "cell_type": "code",
      "metadata": {
        "colab": {
          "base_uri": "https://localhost:8080/"
        },
        "id": "e_8YlVKRRzN6",
        "outputId": "5875fb7d-0247-4d9a-ea0a-dbd6b4e0ebd8"
      },
      "source": [
        "i = 0\n",
        "while i <=3:\n",
        "  i += 2\n",
        "  print('*')"
      ],
      "execution_count": null,
      "outputs": [
        {
          "output_type": "stream",
          "name": "stdout",
          "text": [
            "*\n",
            "*\n"
          ]
        }
      ]
    },
    {
      "cell_type": "code",
      "metadata": {
        "colab": {
          "base_uri": "https://localhost:8080/"
        },
        "id": "EO8n9rEER0-D",
        "outputId": "41b27384-2aa9-497f-d703-b05234f66492"
      },
      "source": [
        "lista = [1,2,3]\n",
        "for v in range(3):\n",
        "  lista.insert(1,lista[v])\n",
        "print(lista)"
      ],
      "execution_count": null,
      "outputs": [
        {
          "output_type": "stream",
          "name": "stdout",
          "text": [
            "[1, 1, 1, 1, 2, 3]\n"
          ]
        }
      ]
    },
    {
      "cell_type": "code",
      "metadata": {
        "colab": {
          "base_uri": "https://localhost:8080/"
        },
        "id": "RLefIRS3R18l",
        "outputId": "5f2d15d0-1770-4096-ab82-26a6a8faa172"
      },
      "source": [
        "#Entender o que significa os codigos\n",
        "a = 1\n",
        "b = 0\n",
        "c = a & b\n",
        "d = a | b\n",
        "e = a ^ b\n",
        "print(c+d+e)"
      ],
      "execution_count": null,
      "outputs": [
        {
          "output_type": "stream",
          "name": "stdout",
          "text": [
            "2\n"
          ]
        }
      ]
    },
    {
      "cell_type": "code",
      "metadata": {
        "colab": {
          "base_uri": "https://localhost:8080/"
        },
        "id": "N7SJmq53R3TK",
        "outputId": "d1257347-c756-47b6-dca8-f1ac63898fcd"
      },
      "source": [
        "nums = [1,2,3]\n",
        "vals = nums\n",
        "del vals[1:2]\n",
        "\n",
        "print(nums)\n",
        "print(vals)"
      ],
      "execution_count": null,
      "outputs": [
        {
          "output_type": "stream",
          "name": "stdout",
          "text": [
            "[1, 3]\n",
            "[1, 3]\n"
          ]
        }
      ]
    },
    {
      "cell_type": "code",
      "metadata": {
        "colab": {
          "base_uri": "https://localhost:8080/"
        },
        "id": "PuVNfKaNR5OC",
        "outputId": "86d74640-ba84-46a8-b258-d29e36aaff20"
      },
      "source": [
        "var = 0\n",
        "while var < 6:\n",
        "  var +=1\n",
        "  if var % 2 ==0:\n",
        "    continue\n",
        "  print('*')"
      ],
      "execution_count": null,
      "outputs": [
        {
          "output_type": "stream",
          "name": "stdout",
          "text": [
            "*\n",
            "*\n",
            "*\n"
          ]
        }
      ]
    },
    {
      "cell_type": "code",
      "metadata": {
        "colab": {
          "base_uri": "https://localhost:8080/"
        },
        "id": "TrY5DcynR6ay",
        "outputId": "b376d711-8056-46ee-dbe1-912331a5c7cb"
      },
      "source": [
        "t = [[3-i for i in range(3)]for j in range(3)]\n",
        "print(t)\n",
        "s = 0\n",
        "for i in range(3):\n",
        "  s += t[i][i]\n",
        "\n",
        "print(s)"
      ],
      "execution_count": null,
      "outputs": [
        {
          "output_type": "stream",
          "name": "stdout",
          "text": [
            "[[3, 2, 1], [3, 2, 1], [3, 2, 1]]\n",
            "6\n"
          ]
        }
      ]
    },
    {
      "cell_type": "code",
      "metadata": {
        "colab": {
          "base_uri": "https://localhost:8080/"
        },
        "id": "Og8wKtg9R74i",
        "outputId": "c0df749c-0f15-49ce-b3e0-bcbaae738674"
      },
      "source": [
        "lista = [1,2,3,4]\n",
        "print(lista[-3:-2])"
      ],
      "execution_count": null,
      "outputs": [
        {
          "output_type": "stream",
          "name": "stdout",
          "text": [
            "[2]\n"
          ]
        }
      ]
    },
    {
      "cell_type": "code",
      "metadata": {
        "colab": {
          "base_uri": "https://localhost:8080/"
        },
        "id": "rHiQpS7SR9M6",
        "outputId": "5aa06a23-65df-4e20-f563-5c6e7a769f3e"
      },
      "source": [
        "for i in range(1):\n",
        "  print('*')\n",
        "\n",
        "else:\n",
        "  print('*')"
      ],
      "execution_count": null,
      "outputs": [
        {
          "output_type": "stream",
          "name": "stdout",
          "text": [
            "*\n",
            "*\n"
          ]
        }
      ]
    },
    {
      "cell_type": "code",
      "metadata": {
        "colab": {
          "base_uri": "https://localhost:8080/"
        },
        "id": "mW6qdfDwR-tM",
        "outputId": "90eacb4e-624c-40b3-ed60-154a9a95a4dd"
      },
      "source": [
        "lista = [3,1,-2]\n",
        "print(lista[lista[-1]])\n"
      ],
      "execution_count": null,
      "outputs": [
        {
          "output_type": "stream",
          "name": "stdout",
          "text": [
            "1\n"
          ]
        }
      ]
    },
    {
      "cell_type": "code",
      "metadata": {
        "colab": {
          "base_uri": "https://localhost:8080/",
          "height": 244
        },
        "id": "oxJvv-dvZ7PT",
        "outputId": "dc6de2c9-2e88-42e8-e771-c0b88294ebaa"
      },
      "source": [
        "dicionario = {'one': 'two', 'three': 'one', 'two': 'three'}\n",
        "v = dicionario['one']\n",
        "\n",
        "\n",
        "\n",
        "for k in range(len(dicionario)):\n",
        "  v = dicionario[v]\n",
        "\n",
        "print(v)\n",
        "\n",
        "x = dicionario[0]\n",
        "print(x)\n"
      ],
      "execution_count": null,
      "outputs": [
        {
          "output_type": "stream",
          "name": "stdout",
          "text": [
            "two\n"
          ]
        },
        {
          "output_type": "error",
          "ename": "KeyError",
          "evalue": "ignored",
          "traceback": [
            "\u001b[0;31m---------------------------------------------------------------------------\u001b[0m",
            "\u001b[0;31mKeyError\u001b[0m                                  Traceback (most recent call last)",
            "\u001b[0;32m<ipython-input-49-c9f8f9858db0>\u001b[0m in \u001b[0;36m<module>\u001b[0;34m()\u001b[0m\n\u001b[1;32m      9\u001b[0m \u001b[0mprint\u001b[0m\u001b[0;34m(\u001b[0m\u001b[0mv\u001b[0m\u001b[0;34m)\u001b[0m\u001b[0;34m\u001b[0m\u001b[0;34m\u001b[0m\u001b[0m\n\u001b[1;32m     10\u001b[0m \u001b[0;34m\u001b[0m\u001b[0m\n\u001b[0;32m---> 11\u001b[0;31m \u001b[0mx\u001b[0m \u001b[0;34m=\u001b[0m \u001b[0mdicionario\u001b[0m\u001b[0;34m[\u001b[0m\u001b[0;36m0\u001b[0m\u001b[0;34m]\u001b[0m\u001b[0;34m\u001b[0m\u001b[0;34m\u001b[0m\u001b[0m\n\u001b[0m\u001b[1;32m     12\u001b[0m \u001b[0mprint\u001b[0m\u001b[0;34m(\u001b[0m\u001b[0mx\u001b[0m\u001b[0;34m)\u001b[0m\u001b[0;34m\u001b[0m\u001b[0;34m\u001b[0m\u001b[0m\n",
            "\u001b[0;31mKeyError\u001b[0m: 0"
          ]
        }
      ]
    },
    {
      "cell_type": "code",
      "metadata": {
        "colab": {
          "base_uri": "https://localhost:8080/"
        },
        "id": "YS5lSwsTbEDd",
        "outputId": "c5778fa3-d40e-4b1a-a48f-58a241b35f98"
      },
      "source": [
        "def fun(x):\n",
        "  global y\n",
        "  y = x * x\n",
        "  return y\n",
        "\n",
        "fun(2)\n",
        "print(y)"
      ],
      "execution_count": null,
      "outputs": [
        {
          "output_type": "stream",
          "name": "stdout",
          "text": [
            "4\n"
          ]
        }
      ]
    },
    {
      "cell_type": "code",
      "metadata": {
        "colab": {
          "base_uri": "https://localhost:8080/"
        },
        "id": "ExatnmImbNzE",
        "outputId": "d25919a0-6e68-4d12-a128-b5ba4bfdb4aa"
      },
      "source": [
        "a = None\n",
        "b = x \n",
        "\n",
        "a == b \n"
      ],
      "execution_count": null,
      "outputs": [
        {
          "output_type": "execute_result",
          "data": {
            "text/plain": [
              "False"
            ]
          },
          "metadata": {},
          "execution_count": 53
        }
      ]
    },
    {
      "cell_type": "code",
      "metadata": {
        "colab": {
          "base_uri": "https://localhost:8080/"
        },
        "id": "pZTssBdHbaHN",
        "outputId": "07a072b5-b9bb-4bb7-ebba-1bfa1353a7b3"
      },
      "source": [
        "def fun(inp=2,out=3):\n",
        "  return inp * out\n",
        "\n",
        "print(fun(out=2))"
      ],
      "execution_count": null,
      "outputs": [
        {
          "output_type": "stream",
          "name": "stdout",
          "text": [
            "4\n"
          ]
        }
      ]
    },
    {
      "cell_type": "code",
      "metadata": {
        "colab": {
          "base_uri": "https://localhost:8080/"
        },
        "id": "rdqy81e-bl8k",
        "outputId": "1fc98a83-3c66-4ccc-972f-cf949b4aa24d"
      },
      "source": [
        "def fun(x):\n",
        "  x +=1\n",
        "  return x\n",
        "\n",
        "x = 2\n",
        "x = fun(x+1)\n",
        "print(x)"
      ],
      "execution_count": null,
      "outputs": [
        {
          "output_type": "stream",
          "name": "stdout",
          "text": [
            "4\n"
          ]
        }
      ]
    },
    {
      "cell_type": "code",
      "metadata": {
        "colab": {
          "base_uri": "https://localhost:8080/"
        },
        "id": "NC9j6z4qb_SL",
        "outputId": "765eb28e-4e51-4eb4-e2dc-1f37d84c91d8"
      },
      "source": [
        "def fun(x,y,z):\n",
        "  return x+2*y+3*z\n",
        "\n",
        "print(fun(0,z=1,y=3))"
      ],
      "execution_count": null,
      "outputs": [
        {
          "output_type": "stream",
          "name": "stdout",
          "text": [
            "9\n"
          ]
        }
      ]
    },
    {
      "cell_type": "code",
      "metadata": {
        "colab": {
          "base_uri": "https://localhost:8080/"
        },
        "id": "Unr-lNIucJ8q",
        "outputId": "58b3ca60-b8c8-4d50-b450-f9a2989b1a0a"
      },
      "source": [
        "dicionario = {}\n",
        "lista = ['a','b','c','d']\n",
        "for i in range(len(lista)-1):\n",
        "  dicionario[lista[i]] = (lista[i],)\n",
        "\n",
        "print(dicionario)\n",
        "for i in sorted(dicionario.keys()): #sorted serve para ordenar uma lista\n",
        "  k = dicionario[i][0]\n",
        "  print(k)"
      ],
      "execution_count": null,
      "outputs": [
        {
          "output_type": "stream",
          "name": "stdout",
          "text": [
            "{'a': ('a',), 'b': ('b',), 'c': ('c',)}\n",
            "a\n",
            "b\n",
            "c\n"
          ]
        }
      ]
    },
    {
      "cell_type": "code",
      "metadata": {
        "colab": {
          "base_uri": "https://localhost:8080/"
        },
        "id": "uS8WcM1UhCO2",
        "outputId": "0186659c-c87a-412e-da04-31b8595f5c41"
      },
      "source": [
        "lista = [5,2,1,8,6]\n",
        "\n",
        "lista = sorted(lista)\n",
        "\n",
        "print(lista)"
      ],
      "execution_count": null,
      "outputs": [
        {
          "output_type": "stream",
          "name": "stdout",
          "text": [
            "[1, 2, 5, 6, 8]\n"
          ]
        }
      ]
    },
    {
      "cell_type": "code",
      "metadata": {
        "colab": {
          "base_uri": "https://localhost:8080/"
        },
        "id": "h7Zr-mfMcwWi",
        "outputId": "ee25f311-239d-4156-8cb4-7900afbadfa8"
      },
      "source": [
        "def fun1(a):\n",
        "  return a ** a\n",
        "\n",
        "def fun2(a):\n",
        "  return fun1(a) * fun1(a)\n",
        "\n",
        "print(fun2(2))"
      ],
      "execution_count": null,
      "outputs": [
        {
          "output_type": "stream",
          "name": "stdout",
          "text": [
            "16\n"
          ]
        }
      ]
    },
    {
      "cell_type": "code",
      "metadata": {
        "colab": {
          "base_uri": "https://localhost:8080/"
        },
        "id": "Df3RDePJdDTR",
        "outputId": "78d8c1a1-54bf-40a4-bc69-02e6e510e286"
      },
      "source": [
        "tup = (1,2,4,8)\n",
        "tup = tup[1:-1]\n",
        "tup = tup[0]\n",
        "print(tup)"
      ],
      "execution_count": null,
      "outputs": [
        {
          "output_type": "stream",
          "name": "stdout",
          "text": [
            "2\n"
          ]
        }
      ]
    },
    {
      "cell_type": "code",
      "metadata": {
        "colab": {
          "base_uri": "https://localhost:8080/",
          "height": 207
        },
        "id": "Taal3g3bdR0h",
        "outputId": "2dc2720e-b684-4a28-8465-363c7727eaae"
      },
      "source": [
        "def func(a, b):\n",
        "  return a ** a\n",
        "\n",
        "print(func(2))"
      ],
      "execution_count": null,
      "outputs": [
        {
          "output_type": "error",
          "ename": "TypeError",
          "evalue": "ignored",
          "traceback": [
            "\u001b[0;31m---------------------------------------------------------------------------\u001b[0m",
            "\u001b[0;31mTypeError\u001b[0m                                 Traceback (most recent call last)",
            "\u001b[0;32m<ipython-input-66-c205304b4093>\u001b[0m in \u001b[0;36m<module>\u001b[0;34m()\u001b[0m\n\u001b[1;32m      2\u001b[0m   \u001b[0;32mreturn\u001b[0m \u001b[0ma\u001b[0m \u001b[0;34m**\u001b[0m \u001b[0ma\u001b[0m\u001b[0;34m\u001b[0m\u001b[0;34m\u001b[0m\u001b[0m\n\u001b[1;32m      3\u001b[0m \u001b[0;34m\u001b[0m\u001b[0m\n\u001b[0;32m----> 4\u001b[0;31m \u001b[0mprint\u001b[0m\u001b[0;34m(\u001b[0m\u001b[0mfunc\u001b[0m\u001b[0;34m(\u001b[0m\u001b[0;36m2\u001b[0m\u001b[0;34m)\u001b[0m\u001b[0;34m)\u001b[0m\u001b[0;34m\u001b[0m\u001b[0;34m\u001b[0m\u001b[0m\n\u001b[0m",
            "\u001b[0;31mTypeError\u001b[0m: func() missing 1 required positional argument: 'b'"
          ]
        }
      ]
    },
    {
      "cell_type": "code",
      "metadata": {
        "colab": {
          "base_uri": "https://localhost:8080/",
          "height": 189
        },
        "id": "2ZR3b4sGdlE4",
        "outputId": "b00ffeb9-e0f2-45a1-d05f-9a948f2287ce"
      },
      "source": [
        "tupla = (1,2,3)\n",
        "tupla[1] = tupla[1] + tupla[0]"
      ],
      "execution_count": null,
      "outputs": [
        {
          "output_type": "error",
          "ename": "TypeError",
          "evalue": "ignored",
          "traceback": [
            "\u001b[0;31m---------------------------------------------------------------------------\u001b[0m",
            "\u001b[0;31mTypeError\u001b[0m                                 Traceback (most recent call last)",
            "\u001b[0;32m<ipython-input-68-71ce96a24adf>\u001b[0m in \u001b[0;36m<module>\u001b[0;34m()\u001b[0m\n\u001b[1;32m      1\u001b[0m \u001b[0mtupla\u001b[0m \u001b[0;34m=\u001b[0m \u001b[0;34m(\u001b[0m\u001b[0;36m1\u001b[0m\u001b[0;34m,\u001b[0m\u001b[0;36m2\u001b[0m\u001b[0;34m,\u001b[0m\u001b[0;36m3\u001b[0m\u001b[0;34m)\u001b[0m\u001b[0;34m\u001b[0m\u001b[0;34m\u001b[0m\u001b[0m\n\u001b[0;32m----> 2\u001b[0;31m \u001b[0mtupla\u001b[0m\u001b[0;34m[\u001b[0m\u001b[0;36m1\u001b[0m\u001b[0;34m]\u001b[0m \u001b[0;34m=\u001b[0m \u001b[0mtupla\u001b[0m\u001b[0;34m[\u001b[0m\u001b[0;36m1\u001b[0m\u001b[0;34m]\u001b[0m \u001b[0;34m+\u001b[0m \u001b[0mtupla\u001b[0m\u001b[0;34m[\u001b[0m\u001b[0;36m0\u001b[0m\u001b[0;34m]\u001b[0m\u001b[0;34m\u001b[0m\u001b[0;34m\u001b[0m\u001b[0m\n\u001b[0m",
            "\u001b[0;31mTypeError\u001b[0m: 'tuple' object does not support item assignment"
          ]
        }
      ]
    },
    {
      "cell_type": "code",
      "metadata": {
        "colab": {
          "base_uri": "https://localhost:8080/",
          "height": 335
        },
        "id": "RFK8TChNd861",
        "outputId": "e54aa9a9-19b6-4869-be4f-94ca0534109e"
      },
      "source": [
        "#analisar com mais calma\n",
        "lista = ['mary', 'had','a','little','lamb']\n",
        "\n",
        "def lista(lista):\n",
        "  del lista[3]\n",
        "  lista[3] = 'ram'\n",
        "\n",
        "print(lista(lista))"
      ],
      "execution_count": null,
      "outputs": [
        {
          "output_type": "error",
          "ename": "TypeError",
          "evalue": "ignored",
          "traceback": [
            "\u001b[0;31m---------------------------------------------------------------------------\u001b[0m",
            "\u001b[0;31mTypeError\u001b[0m                                 Traceback (most recent call last)",
            "\u001b[0;32m<ipython-input-80-eb89e00257e5>\u001b[0m in \u001b[0;36m<module>\u001b[0;34m()\u001b[0m\n\u001b[1;32m      6\u001b[0m   \u001b[0mlista\u001b[0m\u001b[0;34m[\u001b[0m\u001b[0;36m3\u001b[0m\u001b[0;34m]\u001b[0m \u001b[0;34m=\u001b[0m \u001b[0;34m'ram'\u001b[0m\u001b[0;34m\u001b[0m\u001b[0;34m\u001b[0m\u001b[0m\n\u001b[1;32m      7\u001b[0m \u001b[0;34m\u001b[0m\u001b[0m\n\u001b[0;32m----> 8\u001b[0;31m \u001b[0mprint\u001b[0m\u001b[0;34m(\u001b[0m\u001b[0mlista\u001b[0m\u001b[0;34m(\u001b[0m\u001b[0mlista\u001b[0m\u001b[0;34m)\u001b[0m\u001b[0;34m)\u001b[0m\u001b[0;34m\u001b[0m\u001b[0;34m\u001b[0m\u001b[0m\n\u001b[0m",
            "\u001b[0;32m<ipython-input-80-eb89e00257e5>\u001b[0m in \u001b[0;36mlista\u001b[0;34m(lista)\u001b[0m\n\u001b[1;32m      3\u001b[0m \u001b[0;34m\u001b[0m\u001b[0m\n\u001b[1;32m      4\u001b[0m \u001b[0;32mdef\u001b[0m \u001b[0mlista\u001b[0m\u001b[0;34m(\u001b[0m\u001b[0mlista\u001b[0m\u001b[0;34m)\u001b[0m\u001b[0;34m:\u001b[0m\u001b[0;34m\u001b[0m\u001b[0;34m\u001b[0m\u001b[0m\n\u001b[0;32m----> 5\u001b[0;31m   \u001b[0;32mdel\u001b[0m \u001b[0mlista\u001b[0m\u001b[0;34m[\u001b[0m\u001b[0;36m3\u001b[0m\u001b[0;34m]\u001b[0m\u001b[0;34m\u001b[0m\u001b[0;34m\u001b[0m\u001b[0m\n\u001b[0m\u001b[1;32m      6\u001b[0m   \u001b[0mlista\u001b[0m\u001b[0;34m[\u001b[0m\u001b[0;36m3\u001b[0m\u001b[0;34m]\u001b[0m \u001b[0;34m=\u001b[0m \u001b[0;34m'ram'\u001b[0m\u001b[0;34m\u001b[0m\u001b[0;34m\u001b[0m\u001b[0m\n\u001b[1;32m      7\u001b[0m \u001b[0;34m\u001b[0m\u001b[0m\n",
            "\u001b[0;31mTypeError\u001b[0m: 'function' object does not support item deletion"
          ]
        }
      ]
    },
    {
      "cell_type": "code",
      "metadata": {
        "id": "sng_wPlZebwe"
      },
      "source": [
        "def funcao(x=0):\n",
        "  return x"
      ],
      "execution_count": null,
      "outputs": []
    },
    {
      "cell_type": "code",
      "metadata": {
        "colab": {
          "base_uri": "https://localhost:8080/"
        },
        "id": "_mopX3CketDT",
        "outputId": "edc047b8-c436-42d7-a930-3800502b2df9"
      },
      "source": [
        "def any ():\n",
        "  print(var + 1, end='')\n",
        "\n",
        "var = 1\n",
        "any()\n",
        "print(var)"
      ],
      "execution_count": null,
      "outputs": [
        {
          "output_type": "stream",
          "name": "stdout",
          "text": [
            "21\n"
          ]
        }
      ]
    },
    {
      "cell_type": "code",
      "metadata": {
        "colab": {
          "base_uri": "https://localhost:8080/"
        },
        "id": "MSS4ttH4fGzS",
        "outputId": "d1f208f7-0072-4d4f-b5af-97ac8898c0b4"
      },
      "source": [
        "#ver com mais calma\n",
        "def f(x):\n",
        "  if x ==0:\n",
        "    return 0\n",
        "  return x + f(x-1)\n",
        "\n",
        "print(f(3))"
      ],
      "execution_count": null,
      "outputs": [
        {
          "output_type": "stream",
          "name": "stdout",
          "text": [
            "6\n"
          ]
        }
      ]
    },
    {
      "cell_type": "code",
      "metadata": {
        "colab": {
          "base_uri": "https://localhost:8080/",
          "height": 207
        },
        "id": "BeI8kfWhfbLR",
        "outputId": "fcd6f2e5-316a-42e2-ff95-14ad64a8b696"
      },
      "source": [
        "def fun(x):\n",
        "  if x % 2 ==0:\n",
        "    return 1\n",
        "  else:\n",
        "    return\n",
        "  \n",
        "print(fun(fun(2)) + 1)"
      ],
      "execution_count": null,
      "outputs": [
        {
          "output_type": "error",
          "ename": "TypeError",
          "evalue": "ignored",
          "traceback": [
            "\u001b[0;31m---------------------------------------------------------------------------\u001b[0m",
            "\u001b[0;31mTypeError\u001b[0m                                 Traceback (most recent call last)",
            "\u001b[0;32m<ipython-input-74-1c037c1725a3>\u001b[0m in \u001b[0;36m<module>\u001b[0;34m()\u001b[0m\n\u001b[1;32m      5\u001b[0m     \u001b[0;32mreturn\u001b[0m\u001b[0;34m\u001b[0m\u001b[0;34m\u001b[0m\u001b[0m\n\u001b[1;32m      6\u001b[0m \u001b[0;34m\u001b[0m\u001b[0m\n\u001b[0;32m----> 7\u001b[0;31m \u001b[0mprint\u001b[0m\u001b[0;34m(\u001b[0m\u001b[0mfun\u001b[0m\u001b[0;34m(\u001b[0m\u001b[0mfun\u001b[0m\u001b[0;34m(\u001b[0m\u001b[0;36m2\u001b[0m\u001b[0;34m)\u001b[0m\u001b[0;34m)\u001b[0m\u001b[0;34m+\u001b[0m\u001b[0;36m1\u001b[0m\u001b[0;34m)\u001b[0m\u001b[0;34m\u001b[0m\u001b[0;34m\u001b[0m\u001b[0m\n\u001b[0m",
            "\u001b[0;31mTypeError\u001b[0m: unsupported operand type(s) for +: 'NoneType' and 'int'"
          ]
        }
      ]
    },
    {
      "cell_type": "code",
      "metadata": {
        "colab": {
          "base_uri": "https://localhost:8080/"
        },
        "id": "euZqbrvRmc7_",
        "outputId": "e04a60b6-3962-41fe-84a8-c05c680d0d01"
      },
      "source": [
        "lista = [x*x for x in range(5)]\n",
        "print(lista)\n",
        "\n",
        "def fun(lst):\n",
        "  del lst[lst[2]]\n",
        "  return lst\n",
        "\n",
        "print(fun(lista))"
      ],
      "execution_count": null,
      "outputs": [
        {
          "output_type": "stream",
          "name": "stdout",
          "text": [
            "[0, 1, 4, 9, 16]\n",
            "[0, 1, 4, 9]\n"
          ]
        }
      ]
    },
    {
      "cell_type": "code",
      "metadata": {
        "colab": {
          "base_uri": "https://localhost:8080/"
        },
        "id": "ZMBPIeJjmval",
        "outputId": "8e4c8801-1024-48aa-ead7-27d58af754ea"
      },
      "source": [
        "lista = [[x for x in range(3)] for y in range(3)]\n",
        "for r in range(3):\n",
        "  for c in range(3):\n",
        "    print(r,c)\n",
        "    if lista[r][c] % 2 !=0:\n",
        "      print('*')"
      ],
      "execution_count": null,
      "outputs": [
        {
          "output_type": "stream",
          "name": "stdout",
          "text": [
            "0 0\n",
            "0 1\n",
            "*\n",
            "0 2\n",
            "1 0\n",
            "1 1\n",
            "*\n",
            "1 2\n",
            "2 0\n",
            "2 1\n",
            "*\n",
            "2 2\n"
          ]
        }
      ]
    },
    {
      "cell_type": "code",
      "metadata": {
        "colab": {
          "base_uri": "https://localhost:8080/"
        },
        "id": "F9VTOLc8nOLc",
        "outputId": "746e6b73-bd51-4fcd-b789-3e44f0d86e3f"
      },
      "source": [
        "lista = [1,2]\n",
        "for v in range(2):\n",
        "  lista.insert(-1, lista[v]) #na posição -1 inserir o valor lista´v\n",
        "\n",
        "print(lista)"
      ],
      "execution_count": null,
      "outputs": [
        {
          "output_type": "stream",
          "name": "stdout",
          "text": [
            "[1, 1, 1, 2]\n"
          ]
        }
      ]
    },
    {
      "cell_type": "code",
      "metadata": {
        "colab": {
          "base_uri": "https://localhost:8080/"
        },
        "id": "s1mk6lslntoM",
        "outputId": "6923981a-d61d-4bc7-d77a-e7f7533d8648"
      },
      "source": [
        "lista = [i for i in range(-1,-2)]\n",
        "print(lista)"
      ],
      "execution_count": null,
      "outputs": [
        {
          "output_type": "stream",
          "name": "stdout",
          "text": [
            "[]\n"
          ]
        }
      ]
    },
    {
      "cell_type": "code",
      "metadata": {
        "colab": {
          "base_uri": "https://localhost:8080/"
        },
        "id": "hB6kDBUSn5dj",
        "outputId": "c61367f9-6e80-4025-92c3-47e92acf8b1f"
      },
      "source": [
        "nums = [1,2,3]\n",
        "vals = nums\n",
        "del vals[:]\n",
        "print(vals)\n",
        "print(nums)"
      ],
      "execution_count": null,
      "outputs": [
        {
          "output_type": "stream",
          "name": "stdout",
          "text": [
            "[]\n",
            "[]\n"
          ]
        }
      ]
    },
    {
      "cell_type": "code",
      "metadata": {
        "colab": {
          "base_uri": "https://localhost:8080/"
        },
        "id": "qg3tHT53oK4w",
        "outputId": "3d956914-d67e-4055-b641-2380f8c36621"
      },
      "source": [
        "4 ** (1/2)"
      ],
      "execution_count": null,
      "outputs": [
        {
          "output_type": "execute_result",
          "data": {
            "text/plain": [
              "2.0"
            ]
          },
          "metadata": {},
          "execution_count": 99
        }
      ]
    },
    {
      "cell_type": "code",
      "metadata": {
        "colab": {
          "base_uri": "https://localhost:8080/"
        },
        "id": "QOasPvXrokgq",
        "outputId": "0c87bf19-99d3-4e9f-fcc3-2dab1c614108"
      },
      "source": [
        "dic = {}\n",
        "dic['1'] = (1,2)\n",
        "dic['2'] = (2,1)\n",
        "print(dic['1'][0])\n",
        "\n",
        "#for x in dic.keys():\n",
        "  #print(dic[x][1], end='')"
      ],
      "execution_count": null,
      "outputs": [
        {
          "output_type": "stream",
          "name": "stdout",
          "text": [
            "1\n"
          ]
        }
      ]
    },
    {
      "cell_type": "code",
      "metadata": {
        "colab": {
          "base_uri": "https://localhost:8080/"
        },
        "id": "ZjrIQO3mpY8m",
        "outputId": "66c0230c-e796-4d2a-a1cf-607eafc8b8ec"
      },
      "source": [
        "#Verificar com calma\n",
        "dicionario = {'one':'two','three':'one','two':'three'}\n",
        "v = dicionario['three']\n",
        "for k in range(len(dicionario)):\n",
        "  v = dicionario[v]\n",
        "\n",
        "print(v)"
      ],
      "execution_count": null,
      "outputs": [
        {
          "output_type": "stream",
          "name": "stdout",
          "text": [
            "one\n"
          ]
        }
      ]
    },
    {
      "cell_type": "code",
      "metadata": {
        "colab": {
          "base_uri": "https://localhost:8080/"
        },
        "id": "qw2Xk55gp_p6",
        "outputId": "309659a3-e2df-42b3-9910-e752d61f4f24"
      },
      "source": [
        "x = 3\n",
        "y = 2\n",
        "x = x % y\n",
        "x = x % y\n",
        "y = y % x\n",
        "print(y)"
      ],
      "execution_count": null,
      "outputs": [
        {
          "output_type": "stream",
          "name": "stdout",
          "text": [
            "0\n"
          ]
        }
      ]
    },
    {
      "cell_type": "code",
      "metadata": {
        "colab": {
          "base_uri": "https://localhost:8080/"
        },
        "id": "NLUUl1LWqhw6",
        "outputId": "3efe88cd-9bd4-467f-cbac-1e7bf455d6ec"
      },
      "source": [
        "def fun(x,y):\n",
        "  if x == y:\n",
        "    return x\n",
        "  else:\n",
        "    return fun(x,y-1)\n",
        "  \n",
        "print(fun(0,3))"
      ],
      "execution_count": null,
      "outputs": [
        {
          "output_type": "stream",
          "name": "stdout",
          "text": [
            "0\n"
          ]
        }
      ]
    },
    {
      "cell_type": "code",
      "metadata": {
        "colab": {
          "base_uri": "https://localhost:8080/"
        },
        "id": "8SebO3Y_qr7E",
        "outputId": "f1471a63-d211-4f94-d3e0-339886ef420c"
      },
      "source": [
        "#verificar o que significa os sinais\n",
        "a = 1\n",
        "b = 0\n",
        "a = a ^ b\n",
        "b = a ^ b\n",
        "a = a ^ b\n",
        "\n",
        "print(a,b)"
      ],
      "execution_count": null,
      "outputs": [
        {
          "output_type": "stream",
          "name": "stdout",
          "text": [
            "0 1\n"
          ]
        }
      ]
    },
    {
      "cell_type": "code",
      "metadata": {
        "colab": {
          "base_uri": "https://localhost:8080/"
        },
        "id": "2QH8YIqDwE0n",
        "outputId": "2c0b1bef-b617-4466-aac2-7686d96dfcd4"
      },
      "source": [
        "0 ^ 0"
      ],
      "execution_count": null,
      "outputs": [
        {
          "output_type": "execute_result",
          "data": {
            "text/plain": [
              "0"
            ]
          },
          "metadata": {},
          "execution_count": 146
        }
      ]
    },
    {
      "cell_type": "code",
      "metadata": {
        "colab": {
          "base_uri": "https://localhost:8080/"
        },
        "id": "mgvDqTd4rDhS",
        "outputId": "e9386d42-5ef3-449e-bc74-0c539a407e25"
      },
      "source": [
        "dd = {'1':'0', '0':'1'}\n",
        "for x in dd.values():\n",
        "  print(x,end='')"
      ],
      "execution_count": null,
      "outputs": [
        {
          "output_type": "stream",
          "name": "stdout",
          "text": [
            "01"
          ]
        }
      ]
    },
    {
      "cell_type": "code",
      "metadata": {
        "colab": {
          "base_uri": "https://localhost:8080/"
        },
        "id": "Y1LlFGg_sKfi",
        "outputId": "c63e055c-364b-4e7d-d68f-764822e12b10"
      },
      "source": [
        "print('a','b','c', sep='sep')"
      ],
      "execution_count": null,
      "outputs": [
        {
          "output_type": "stream",
          "name": "stdout",
          "text": [
            "asepbsepc\n"
          ]
        }
      ]
    },
    {
      "cell_type": "code",
      "metadata": {
        "colab": {
          "base_uri": "https://localhost:8080/"
        },
        "id": "xKAQpV2YsTDq",
        "outputId": "bb57fadb-ba77-4b20-d581-ed6c3ca5a1ca"
      },
      "source": [
        "tup = (1,2,4,8)\n",
        "tup = tup[-2:-1]\n",
        "tup = tup[-1]\n",
        "print(tup)"
      ],
      "execution_count": null,
      "outputs": [
        {
          "output_type": "stream",
          "name": "stdout",
          "text": [
            "4\n"
          ]
        }
      ]
    },
    {
      "cell_type": "code",
      "metadata": {
        "colab": {
          "base_uri": "https://localhost:8080/",
          "height": 335
        },
        "id": "5nkPfKPhslkZ",
        "outputId": "9f49d244-dedf-4ba8-ea76-753c7436945a"
      },
      "source": [
        "def funcao1(a):\n",
        "  return None\n",
        "\n",
        "def funcao2(a):\n",
        "  return funcao1(a) * funcao1(a)\n",
        "\n",
        "print(funcao2(2))"
      ],
      "execution_count": null,
      "outputs": [
        {
          "output_type": "error",
          "ename": "TypeError",
          "evalue": "ignored",
          "traceback": [
            "\u001b[0;31m---------------------------------------------------------------------------\u001b[0m",
            "\u001b[0;31mTypeError\u001b[0m                                 Traceback (most recent call last)",
            "\u001b[0;32m<ipython-input-131-618f7f8571e3>\u001b[0m in \u001b[0;36m<module>\u001b[0;34m()\u001b[0m\n\u001b[1;32m      5\u001b[0m   \u001b[0;32mreturn\u001b[0m \u001b[0mfuncao1\u001b[0m\u001b[0;34m(\u001b[0m\u001b[0ma\u001b[0m\u001b[0;34m)\u001b[0m \u001b[0;34m*\u001b[0m \u001b[0mfuncao1\u001b[0m\u001b[0;34m(\u001b[0m\u001b[0ma\u001b[0m\u001b[0;34m)\u001b[0m\u001b[0;34m\u001b[0m\u001b[0;34m\u001b[0m\u001b[0m\n\u001b[1;32m      6\u001b[0m \u001b[0;34m\u001b[0m\u001b[0m\n\u001b[0;32m----> 7\u001b[0;31m \u001b[0mprint\u001b[0m\u001b[0;34m(\u001b[0m\u001b[0mfuncao2\u001b[0m\u001b[0;34m(\u001b[0m\u001b[0;36m2\u001b[0m\u001b[0;34m)\u001b[0m\u001b[0;34m)\u001b[0m\u001b[0;34m\u001b[0m\u001b[0;34m\u001b[0m\u001b[0m\n\u001b[0m",
            "\u001b[0;32m<ipython-input-131-618f7f8571e3>\u001b[0m in \u001b[0;36mfuncao2\u001b[0;34m(a)\u001b[0m\n\u001b[1;32m      3\u001b[0m \u001b[0;34m\u001b[0m\u001b[0m\n\u001b[1;32m      4\u001b[0m \u001b[0;32mdef\u001b[0m \u001b[0mfuncao2\u001b[0m\u001b[0;34m(\u001b[0m\u001b[0ma\u001b[0m\u001b[0;34m)\u001b[0m\u001b[0;34m:\u001b[0m\u001b[0;34m\u001b[0m\u001b[0;34m\u001b[0m\u001b[0m\n\u001b[0;32m----> 5\u001b[0;31m   \u001b[0;32mreturn\u001b[0m \u001b[0mfuncao1\u001b[0m\u001b[0;34m(\u001b[0m\u001b[0ma\u001b[0m\u001b[0;34m)\u001b[0m \u001b[0;34m*\u001b[0m \u001b[0mfuncao1\u001b[0m\u001b[0;34m(\u001b[0m\u001b[0ma\u001b[0m\u001b[0;34m)\u001b[0m\u001b[0;34m\u001b[0m\u001b[0;34m\u001b[0m\u001b[0m\n\u001b[0m\u001b[1;32m      6\u001b[0m \u001b[0;34m\u001b[0m\u001b[0m\n\u001b[1;32m      7\u001b[0m \u001b[0mprint\u001b[0m\u001b[0;34m(\u001b[0m\u001b[0mfuncao2\u001b[0m\u001b[0;34m(\u001b[0m\u001b[0;36m2\u001b[0m\u001b[0;34m)\u001b[0m\u001b[0;34m)\u001b[0m\u001b[0;34m\u001b[0m\u001b[0;34m\u001b[0m\u001b[0m\n",
            "\u001b[0;31mTypeError\u001b[0m: unsupported operand type(s) for *: 'NoneType' and 'NoneType'"
          ]
        }
      ]
    },
    {
      "cell_type": "code",
      "metadata": {
        "colab": {
          "base_uri": "https://localhost:8080/"
        },
        "id": "Sph-15rFs6iJ",
        "outputId": "625b1a43-5b70-4d7f-ea94-61d520ccf03f"
      },
      "source": [
        "def fun(x):\n",
        "  if x % 2 ==0:\n",
        "    return 1\n",
        "  else:\n",
        "    return 2\n",
        "\n",
        "print(fun(fun(2)))"
      ],
      "execution_count": null,
      "outputs": [
        {
          "output_type": "stream",
          "name": "stdout",
          "text": [
            "2\n"
          ]
        }
      ]
    },
    {
      "cell_type": "code",
      "metadata": {
        "colab": {
          "base_uri": "https://localhost:8080/"
        },
        "id": "WNLf939BtGep",
        "outputId": "28e6842a-c3af-4e43-c550-d0ddf75d033a"
      },
      "source": [
        "def funcao(a,b):\n",
        "  return b ** a\n",
        "\n",
        "print(funcao(2,b=2))"
      ],
      "execution_count": null,
      "outputs": [
        {
          "output_type": "stream",
          "name": "stdout",
          "text": [
            "4\n"
          ]
        }
      ]
    },
    {
      "cell_type": "code",
      "metadata": {
        "colab": {
          "base_uri": "https://localhost:8080/"
        },
        "id": "SmdfcmRttRRp",
        "outputId": "3c226b22-dcdd-4319-8a0f-5405ce154fb9"
      },
      "source": [
        "x = 1\n",
        "y = 2\n",
        "x,y,z = x,x,y \n",
        "z,y,z = x,y,z\n",
        "\n",
        "print(x,y,z)"
      ],
      "execution_count": null,
      "outputs": [
        {
          "output_type": "stream",
          "name": "stdout",
          "text": [
            "1 1 2\n"
          ]
        }
      ]
    },
    {
      "cell_type": "code",
      "metadata": {
        "colab": {
          "base_uri": "https://localhost:8080/"
        },
        "id": "C_RXjwWruCfJ",
        "outputId": "6359301b-5d47-414e-f741-6ad6f8b6f8cc"
      },
      "source": [
        "x = 1 // 5 + 1/5\n",
        "print(x)"
      ],
      "execution_count": null,
      "outputs": [
        {
          "output_type": "stream",
          "name": "stdout",
          "text": [
            "0.2\n"
          ]
        }
      ]
    },
    {
      "cell_type": "code",
      "metadata": {
        "colab": {
          "base_uri": "https://localhost:8080/"
        },
        "id": "gIj0xVy2_PA5",
        "outputId": "6494935e-2da8-4c14-9206-d264cd56a52e"
      },
      "source": [
        "dados = {\"nome\" : input(\"Digite seu nome: \"),\n",
        "\"Idade\": int(input(\"Digite sua Idade: \")),\n",
        "\"Altura\": float(input(\"Digite sua altura: \")),\n",
        "\"Peso\": float(input(\"Digite seu peso: \")) }\n",
        "\n",
        "print(dados)"
      ],
      "execution_count": null,
      "outputs": [
        {
          "output_type": "stream",
          "name": "stdout",
          "text": [
            "Digite seu nome: murilo\n",
            "Digite sua Idade: 28\n",
            "Digite sua altura: 1.65\n",
            "Digite seu peso: 64\n",
            "{'nome': 'murilo', 'Idade': 28, 'Altura': 1.65, 'Peso': 64.0}\n"
          ]
        }
      ]
    },
    {
      "cell_type": "code",
      "metadata": {
        "colab": {
          "base_uri": "https://localhost:8080/"
        },
        "id": "KTXndrmDsdhr",
        "outputId": "aa2c1dfe-0d82-452e-d394-3cd7ac1488ab"
      },
      "source": [
        "print('oi')"
      ],
      "execution_count": 1,
      "outputs": [
        {
          "output_type": "stream",
          "name": "stdout",
          "text": [
            "oi\n"
          ]
        }
      ]
    },
    {
      "cell_type": "code",
      "metadata": {
        "colab": {
          "base_uri": "https://localhost:8080/"
        },
        "id": "ixBSWmc5s5R9",
        "outputId": "97eebe78-ebfd-43cc-9eab-8628e6dbed47"
      },
      "source": [
        "print(chr(ord('z')-2))"
      ],
      "execution_count": 2,
      "outputs": [
        {
          "output_type": "stream",
          "name": "stdout",
          "text": [
            "x\n"
          ]
        }
      ]
    },
    {
      "cell_type": "code",
      "metadata": {
        "colab": {
          "base_uri": "https://localhost:8080/"
        },
        "id": "xx3Ze9i4tINk",
        "outputId": "625d77e9-17d5-4773-a530-7d7545e3a94e"
      },
      "source": [
        "print(ord('c')-ord('a'))"
      ],
      "execution_count": 3,
      "outputs": [
        {
          "output_type": "stream",
          "name": "stdout",
          "text": [
            "2\n"
          ]
        }
      ]
    },
    {
      "cell_type": "code",
      "metadata": {
        "colab": {
          "base_uri": "https://localhost:8080/",
          "height": 171
        },
        "id": "amMI6xhetPPB",
        "outputId": "ebda3ecb-fab3-48c8-c49f-cae6b9ad8fd1"
      },
      "source": [
        "print(float('1,3'))"
      ],
      "execution_count": 4,
      "outputs": [
        {
          "output_type": "error",
          "ename": "ValueError",
          "evalue": "ignored",
          "traceback": [
            "\u001b[0;31m---------------------------------------------------------------------------\u001b[0m",
            "\u001b[0;31mValueError\u001b[0m                                Traceback (most recent call last)",
            "\u001b[0;32m<ipython-input-4-01484b853a79>\u001b[0m in \u001b[0;36m<module>\u001b[0;34m()\u001b[0m\n\u001b[0;32m----> 1\u001b[0;31m \u001b[0mprint\u001b[0m\u001b[0;34m(\u001b[0m\u001b[0mfloat\u001b[0m\u001b[0;34m(\u001b[0m\u001b[0;34m'1,3'\u001b[0m\u001b[0;34m)\u001b[0m\u001b[0;34m)\u001b[0m\u001b[0;34m\u001b[0m\u001b[0;34m\u001b[0m\u001b[0m\n\u001b[0m",
            "\u001b[0;31mValueError\u001b[0m: could not convert string to float: '1,3'"
          ]
        }
      ]
    },
    {
      "cell_type": "code",
      "metadata": {
        "colab": {
          "base_uri": "https://localhost:8080/"
        },
        "id": "duDfMePotUTJ",
        "outputId": "d686f17b-b5ea-41f9-e7a5-ab9d56efeb98"
      },
      "source": [
        "x = '\\''\n",
        "print(len(x))"
      ],
      "execution_count": 5,
      "outputs": [
        {
          "output_type": "stream",
          "name": "stdout",
          "text": [
            "1\n"
          ]
        }
      ]
    },
    {
      "cell_type": "code",
      "metadata": {
        "colab": {
          "base_uri": "https://localhost:8080/"
        },
        "id": "XTL_EKy6tbLp",
        "outputId": "4a1c869d-1831-423a-8d1b-16af7cca18b2"
      },
      "source": [
        "print('Mike' > 'Mikey')"
      ],
      "execution_count": 6,
      "outputs": [
        {
          "output_type": "stream",
          "name": "stdout",
          "text": [
            "False\n"
          ]
        }
      ]
    },
    {
      "cell_type": "code",
      "metadata": {
        "id": "7unKOORst2bQ"
      },
      "source": [
        "#assert ???\n",
        "#assert var == 0 \n",
        "#O assert é uma verificação em tempo de execução de uma condição qualquer. \n",
        "#Se a condição não for verdadeira, uma exceção AssertionError acontece e o programa pára."
      ],
      "execution_count": 8,
      "outputs": []
    },
    {
      "cell_type": "code",
      "metadata": {
        "colab": {
          "base_uri": "https://localhost:8080/"
        },
        "id": "5_iUVAOAuRe_",
        "outputId": "61d17672-9384-49e5-8029-2186f905c9ed"
      },
      "source": [
        "print(3*'abc' + 'xyz')"
      ],
      "execution_count": 9,
      "outputs": [
        {
          "output_type": "stream",
          "name": "stdout",
          "text": [
            "abcabcabcxyz\n"
          ]
        }
      ]
    },
    {
      "cell_type": "code",
      "metadata": {
        "id": "LnMIpk0ku2wk"
      },
      "source": [
        "#documentacao de excessoes Python\n",
        "#https://docs.python.org/pt-br/3/library/exceptions.html"
      ],
      "execution_count": null,
      "outputs": []
    },
    {
      "cell_type": "code",
      "metadata": {
        "colab": {
          "base_uri": "https://localhost:8080/"
        },
        "id": "wfy7j7TKuj54",
        "outputId": "94b95f5c-9a12-4d3f-8a49-662eacc21647"
      },
      "source": [
        "#validar ?\n",
        "try:\n",
        "  print(0/10)\n",
        "except ArithmeticError:\n",
        "  print('arith')\n",
        "except ZeroDivisionError:\n",
        "  print('zero')\n",
        "except:\n",
        "  print('unsupported operand type(s) for /: str and int')"
      ],
      "execution_count": 16,
      "outputs": [
        {
          "output_type": "stream",
          "name": "stdout",
          "text": [
            "0.0\n"
          ]
        }
      ]
    },
    {
      "cell_type": "markdown",
      "metadata": {
        "id": "TJi2bcAJ8Q9a"
      },
      "source": [
        "\n",
        "\n",
        "*   Trabalhar com módulos Python; importar, criar, e utilizar módulos;\n",
        "*   Utilizar módulos STL Python selecionados (math, random e platform);\n",
        "*   Construir e utilizar pacotes em Python;\n",
        "*   PIP (Python Package Installer).\n",
        "\n",
        "\n",
        "\n",
        "\n",
        "\n",
        "\n"
      ]
    },
    {
      "cell_type": "markdown",
      "metadata": {
        "id": "CyvqVni5IMDP"
      },
      "source": [
        "**Trabalhando com modulos**"
      ]
    },
    {
      "cell_type": "code",
      "metadata": {
        "id": "8dt7uTh6yCFB"
      },
      "source": [
        "'''\n",
        "import mint\n",
        "mint.make_money()\n",
        "\n",
        "from mint import make_money\n",
        "make_money()\n",
        "\n",
        "from mint import make_mokey as mm\n",
        "make_money.mm()\n",
        "\n",
        "from mint import *\n",
        "valor.make_money()"
      ],
      "execution_count": null,
      "outputs": []
    },
    {
      "cell_type": "code",
      "metadata": {
        "colab": {
          "base_uri": "https://localhost:8080/"
        },
        "id": "NqdK6ffdy6LH",
        "outputId": "a37793b1-2a9f-4761-b96a-69ad09ce9b1b"
      },
      "source": [
        "import math \n",
        "count = 0\n",
        "print('Modulos: ',end='')\n",
        "for valor in dir(math): #utilizando metodo dir() para verificar as possibilidades\n",
        "  print(valor,end=' , ')\n",
        "  if count == 54:\n",
        "    print(valor+'.')\n",
        "  count +=1\n",
        "\n",
        "print(' \\n Na biblioteca math existem: {} metodos'.format(count))"
      ],
      "execution_count": 77,
      "outputs": [
        {
          "output_type": "stream",
          "name": "stdout",
          "text": [
            "Modulos: __doc__ , __loader__ , __name__ , __package__ , __spec__ , acos , acosh , asin , asinh , atan , atan2 , atanh , ceil , copysign , cos , cosh , degrees , e , erf , erfc , exp , expm1 , fabs , factorial , floor , fmod , frexp , fsum , gamma , gcd , hypot , inf , isclose , isfinite , isinf , isnan , ldexp , lgamma , log , log10 , log1p , log2 , modf , nan , pi , pow , radians , remainder , sin , sinh , sqrt , tan , tanh , tau , trunc , trunc.\n",
            " \n",
            " Na biblioteca math existem: 55 metodos\n"
          ]
        }
      ]
    },
    {
      "cell_type": "code",
      "metadata": {
        "id": "fNKK-1XDFCHy"
      },
      "source": [
        "#Modulos -> #https://docs.python.org/3/py-modindex.html"
      ],
      "execution_count": null,
      "outputs": []
    },
    {
      "cell_type": "markdown",
      "metadata": {
        "id": "TGUFBb900tVj"
      },
      "source": [
        "**TRABALHANDO COM MODULO: MATH**"
      ]
    },
    {
      "cell_type": "code",
      "metadata": {
        "id": "i-Q5LBXbzWvF"
      },
      "source": [
        "\n",
        "'''\n",
        "sin(x) → o seno de x;\n",
        "cos(x) → o cosseno de x;\n",
        "tan(x) → a tangente de x.\n",
        "\n",
        "asin(x) → o arco-seno de x;\n",
        "acos(x) → o arco-cosseno de x;\n",
        "atan(x) → o arco-tangente de x.\n",
        "\n",
        "pi → uma constante com um valor que é uma aproximação de π;\n",
        "radians(x) → uma função que converte x de graus para radianos;\n",
        "degrees(x) → atuando na outra direção (dos radianos aos graus)\n",
        "\n",
        "sinh(x) → o seno hiperbólico;\n",
        "cosh(x) → o cosseno hiperbólico;\n",
        "tanh(x) → a tangente hiperbólica;\n",
        "asinh(x) → o arco-seno hiperbólico;\n",
        "acosh(x) → o arco-cosseno hiperbólico;\n",
        "atanh(x) → o arco-tangente hiperbólico.\n",
        "\n",
        "e → uma constante com um valor que é uma aproximação do número de Euler (e)\n",
        "exp(x) → encontrar o valor de ex;\n",
        "log(x) → o logaritmo natural de x\n",
        "log(x, b) → o logaritmo de x para base b\n",
        "log10(x) → o logaritmo decimal de x (mais preciso do que log(x, 10))\n",
        "log2(x) → o logaritmo binário de x (mais preciso do que log(x, 2))\n",
        "\n",
        "pow(x, y) → encontrar o valor de xy (atenção aos domínios)\n",
        "\n",
        "ceil(x) → o teto de x (o menor inteiro maior ou igual a x)\n",
        "floor(x) → o piso de x (o maior número inteiro menor ou igual a x)\n",
        "trunc(x) → o valor de x truncado a um número inteiro (tenha cuidado - não é equivalente a um teto ou piso)\n",
        "factorial(x) → devolve x! (x tem de ser um integral e não um negativo)\n",
        "hypot(x, y) → devolve o comprimento da hipotenusa de um triângulo de ângulo retângulo com o comprimento das pernas igual a x e y (o mesmo que sqrt(pow(x, 2) + pow(y, 2)) mas mais preciso)"
      ],
      "execution_count": null,
      "outputs": []
    },
    {
      "cell_type": "markdown",
      "metadata": {
        "id": "lBAmtCOP08MD"
      },
      "source": [
        "**TRABALHANDO COM MODULO RANDOM**"
      ]
    },
    {
      "cell_type": "code",
      "metadata": {
        "id": "AU2NiaW207km"
      },
      "source": [
        "'''\n",
        "random() → um número float x vindo do intervalo (0.0, 1.0) (0,0 <= x < 1,0).\n",
        "\n",
        "seed() - define a seed com a hora atual;\n",
        "Definir a seed do gerador com o mesmo valor cada vez que o seu programa é executado garante que...\n",
        "os valores pseudo-aleatórios emitidos a partir do módulo random sejam exatamente os mesmos.\n",
        "\n",
        "seed(int_value) - define a seed com o valor inteiro int_value.\n",
        "\n",
        "randrange(end)\n",
        "randrange(beg, end)\n",
        "randrange(beg, end, step)\n",
        "\n",
        "randint(left, right)\n",
        "\n",
        "range(end)\n",
        "range(beg, end)\n",
        "range(beg, end, step)\n",
        "randrange(left, right+1)\n",
        "\n",
        "choice(sequence)\n",
        "sample(sequence, elements_to_choose) Nota: o elements_to_choose não deve ser maior do que o comprimento da sequência de input.\n",
        "\n"
      ],
      "execution_count": null,
      "outputs": []
    },
    {
      "cell_type": "code",
      "metadata": {
        "colab": {
          "base_uri": "https://localhost:8080/"
        },
        "id": "NQiaUMjt4Gn3",
        "outputId": "ae93f593-a094-46d6-de76-3f5135626879"
      },
      "source": [
        "from random import random\n",
        "\n",
        "\n",
        "for i in range(5):\n",
        "  print(random())"
      ],
      "execution_count": 34,
      "outputs": [
        {
          "output_type": "stream",
          "name": "stdout",
          "text": [
            "0.8235888725334455\n",
            "0.6534725339011758\n",
            "0.16022955651881965\n",
            "0.5206693596399246\n",
            "0.32777281162209315\n"
          ]
        }
      ]
    },
    {
      "cell_type": "code",
      "metadata": {
        "colab": {
          "base_uri": "https://localhost:8080/"
        },
        "id": "z2xf37eY4d0e",
        "outputId": "1b69ff0a-5036-4368-c740-e2f24466174f"
      },
      "source": [
        "import random\n",
        "for i in range(5):\n",
        "  print(random.random())"
      ],
      "execution_count": 36,
      "outputs": [
        {
          "output_type": "stream",
          "name": "stdout",
          "text": [
            "0.24999667668640035\n",
            "0.9528169091459117\n",
            "0.9965569925394552\n",
            "0.04455638245043303\n",
            "0.860161037286291\n"
          ]
        }
      ]
    },
    {
      "cell_type": "markdown",
      "metadata": {
        "id": "K_6ca0xS-FMU"
      },
      "source": [
        "**TRABALHANDO COM MODULO PLATFORM**"
      ]
    },
    {
      "cell_type": "code",
      "metadata": {
        "id": "34oWfXQB-I4F"
      },
      "source": [
        "'''\n",
        "1º o SEU CÓDIGO quer criar um ficheiro, por isso invoca uma das funções de Python;\n",
        "2º Python\n",
        "3º OS - o Python, embora muito poderoso, não é omnipotente - é forçado a utilizar muitos ajudantes se for processar ficheiros ou comunicar com dispositivos físicos;\n",
        "4º hardware\n",
        "\n",
        "platform(aliased = False, terse = False)\n",
        "  aliased → quando definido para True (ou qualquer valor não nulo) pode fazer com que a função apresente os nomes alternativos das camadas subjacentes em vez dos nomes comuns;\n",
        "  terse → quando definido para True (ou qualquer valor não nulo) pode convencer a função a apresentar uma forma mais breve do resultado (se possível)\n",
        "\n",
        "machine() apenas querer saber o nome genérico do processador que executa o seu SO juntamente com o Python e o seu código\n",
        "processor() A função  devolve uma string preenchida com o nome do processador real nome da CPU \n",
        "system() Uma função chamada devolve o nome genérico do SO como uma cadeia.\n",
        "version() A versão do SO é fornecida como uma string pela  função\n",
        "\n",
        "python_implementation() esperar CPython aqui,\n",
        "python_version_tuple()  → devolve um tuple de três elementos 1º a parte principal da versão do Python 2º a parte secundária; 3º  número do patch level."
      ],
      "execution_count": null,
      "outputs": []
    },
    {
      "cell_type": "code",
      "metadata": {
        "colab": {
          "base_uri": "https://localhost:8080/"
        },
        "id": "JiRm0sgwIoE-",
        "outputId": "8bb1481d-dc9d-47fa-bbdd-c63d565217c4"
      },
      "source": [
        "print(__name__)"
      ],
      "execution_count": 108,
      "outputs": [
        {
          "output_type": "stream",
          "name": "stdout",
          "text": [
            "__main__\n"
          ]
        }
      ]
    },
    {
      "cell_type": "code",
      "metadata": {
        "colab": {
          "base_uri": "https://localhost:8080/"
        },
        "id": "mlrztXrMCy1n",
        "outputId": "17804b4f-44c6-4c68-b744-acdfbe1069a1"
      },
      "source": [
        "from platform import python_implementation, python_version_tuple\n",
        "print(python_implementation())\n",
        "print(python_version_tuple())\n",
        "\n",
        "for i in range(0,3):\n",
        "  if i == 0:\n",
        "    print('Versão do Python: {}'.format(python_version_tuple()[i]))\n",
        "  elif i == 1:\n",
        "    print('Parte Secundaria: {}'.format(python_version_tuple()[i]))\n",
        "  else:\n",
        "    print('Número do patch: {}'.format(python_version_tuple()[i]))\n"
      ],
      "execution_count": 69,
      "outputs": [
        {
          "output_type": "stream",
          "name": "stdout",
          "text": [
            "CPython\n",
            "('3', '7', '12')\n",
            "Versão do Python: 3\n",
            "Parte Secundaria: 7\n",
            "Número do patch: 12\n"
          ]
        }
      ]
    },
    {
      "cell_type": "code",
      "metadata": {
        "colab": {
          "base_uri": "https://localhost:8080/",
          "height": 35
        },
        "id": "KBuRYoqY_JRb",
        "outputId": "a8843c6b-87be-4cc3-d62c-7f279dc12b54"
      },
      "source": [
        "#from platform import platform\n",
        "#platform(aliased = False, terse = False) #Linux-5.4.104+-x86_64-with-Ubuntu-18.04-bionic\n",
        "#platform(aliased = True, terse = False) #  Linux-5.4.104+-x86_64-with-Ubuntu-18.04-bionic\n",
        "#platform(aliased = False, terse = True) # Linux-5.4.104+-x86_64-with-glibc2.26\n",
        "#platform(aliased = False, terse = False) #Linux-5.4.104+-x86_64-with-Ubuntu-18.04-bionic"
      ],
      "execution_count": 43,
      "outputs": [
        {
          "output_type": "execute_result",
          "data": {
            "application/vnd.google.colaboratory.intrinsic+json": {
              "type": "string"
            },
            "text/plain": [
              "'Linux-5.4.104+-x86_64-with-Ubuntu-18.04-bionic'"
            ]
          },
          "metadata": {},
          "execution_count": 43
        }
      ]
    },
    {
      "cell_type": "code",
      "metadata": {
        "colab": {
          "base_uri": "https://localhost:8080/"
        },
        "id": "NeXmMW7YAyFZ",
        "outputId": "5761c161-821d-4488-e820-5a0691d970d3"
      },
      "source": [
        "from platform import machine\n",
        "from platform import processor\n",
        "from platform import system\n",
        "from platform import version\n",
        "print(machine())\n",
        "print(processor())\n",
        "print(system())\n",
        "print(version())"
      ],
      "execution_count": 50,
      "outputs": [
        {
          "output_type": "stream",
          "name": "stdout",
          "text": [
            "x86_64\n",
            "x86_64\n",
            "Linux\n",
            "#1 SMP Sat Jun 5 09:50:34 PDT 2021\n"
          ]
        }
      ]
    },
    {
      "cell_type": "code",
      "metadata": {
        "colab": {
          "base_uri": "https://localhost:8080/"
        },
        "id": "RA8okhTcA_Hq",
        "outputId": "d3995ba1-81f4-4e67-d9b5-e6c2e3ecea08"
      },
      "source": [
        "from platform import machine, processor, system, version\n",
        "print(machine())\n",
        "print(processor())\n",
        "print(system())\n",
        "print(version())"
      ],
      "execution_count": 52,
      "outputs": [
        {
          "output_type": "stream",
          "name": "stdout",
          "text": [
            "x86_64\n",
            "x86_64\n",
            "Linux\n",
            "#1 SMP Sat Jun 5 09:50:34 PDT 2021\n"
          ]
        }
      ]
    },
    {
      "cell_type": "markdown",
      "metadata": {
        "id": "Vvl9BhDAk88F"
      },
      "source": [
        "**Criando um módulo**\n",
        "\n",
        "Enquanto um módulo é concebido para acoplar algumas entidades relacionadas (funções, variáveis, constantes, etc.), um pacote é um recipiente que permite o acoplamento de vários módulos "
      ]
    },
    {
      "cell_type": "code",
      "metadata": {
        "id": "-mD_rNrbZRlX"
      },
      "source": [
        "# quando se executa diretamente um ficheiro, a sua variável __name__ é definida como __main__:\n",
        "#print(__name__)\n",
        "#__main__\n",
        "\n",
        "# quando um ficheiro é importado como um módulo, a sua variável __name__ é definida como o nome __nomedoficheiro__ (do modulo.py):\n",
        "#import module\n",
        "#print(__name__)\n",
        "#__nomedoficheiro__\n",
        "\n",
        "'''Pretende impedir o utilizador do seu módulo de executar o seu código como um script comum. Como conseguirá tal efeito?\n",
        "\n",
        "import sys\n",
        "\n",
        "if __name__ == \"__main__\":\n",
        "    print \"Don't do that!\"\n",
        "    sys.exit()\n",
        "'''\n",
        "'''D:\\Python\\Project\\Modules . Escreva um código assegurando que a diretoria é atravessada pelo Python, a fim de encontrar todos os módulos solicitados.\n",
        "\n",
        "import sys\n",
        "\n",
        "sys.path.append(\"D:\\\\Python\\\\Project\\\\Modules\")"
      ],
      "execution_count": 79,
      "outputs": []
    },
    {
      "cell_type": "code",
      "metadata": {
        "colab": {
          "base_uri": "https://localhost:8080/"
        },
        "id": "kdIn_G1Rdxt5",
        "outputId": "b64b2542-1c97-466f-e84a-a986db3389ca"
      },
      "source": [
        "''' Caso esteja dentro da mesma pasta:\n",
        "\n",
        "Dentro do arquivo modulo.py'''\n",
        "\n",
        "#!/usr/bin/env python3 \n",
        "__counter = 0\n",
        "\n",
        "def suml(the_list):\n",
        "    global __counter\n",
        "    __counter += 1\n",
        "    the_sum = 0\n",
        "    for element in the_list:\n",
        "        the_sum += element\n",
        "    return the_sum\n",
        "\n",
        "def prodl(the_list):\n",
        "    global __counter    \n",
        "    __counter += 1\n",
        "    prod = 1\n",
        "    for element in the_list:\n",
        "        prod *= element\n",
        "    return prod\n",
        "\n",
        "if __name__ == \"__main__\":\n",
        "    print(\"I prefer to be a module, but I can do some tests for you.\")\n",
        "    my_list = [i+1 for i in range(5)]\n",
        "    #print(suml(my_list) == 15)\n",
        "    #print(prodl(my_list) == 120)\n",
        "\n",
        "    print(my_list)\n",
        "    print(suml(my_list))\n",
        "    print(prodl(my_list))"
      ],
      "execution_count": 82,
      "outputs": [
        {
          "output_type": "stream",
          "name": "stdout",
          "text": [
            "I prefer to be a module, but I can do some tests for you.\n",
            "[1, 2, 3, 4, 5]\n",
            "15\n",
            "120\n"
          ]
        }
      ]
    },
    {
      "cell_type": "code",
      "metadata": {
        "colab": {
          "base_uri": "https://localhost:8080/"
        },
        "id": "akcXT0TNefiB",
        "outputId": "2abe81b5-8d92-483b-89fb-c8e296f688af"
      },
      "source": [
        "'''\n",
        "Caso esteja dentro da mesma pasta:\n",
        "\n",
        "Agora dentro do arquivo geral, importando o arquivo modulo\n",
        "\n",
        "from module import prodl, suml\n",
        "\n",
        "zeroes = [0 for i in range(5)]\n",
        "ones = [1 for i in range(5)]\n",
        "print(suml(zeroes))\n",
        "print(prodl(ones))\n"
      ],
      "execution_count": 87,
      "outputs": [
        {
          "output_type": "stream",
          "name": "stdout",
          "text": [
            "0\n",
            "1\n"
          ]
        }
      ]
    },
    {
      "cell_type": "code",
      "metadata": {
        "colab": {
          "base_uri": "https://localhost:8080/"
        },
        "id": "EppzRbF4hcA2",
        "outputId": "9ceb8f87-b2d1-44f5-b151-953a6ebec671"
      },
      "source": [
        "''' Para buscar o caminho do arquivo que estão os modulos\n",
        "import sys\n",
        "\n",
        "verificando o caminho que o sys encontra:\n",
        "\n",
        "for p in sys.path:\n",
        "    print(p)\n",
        "\n",
        "    /content\n",
        "    /env/python\n",
        "    /usr/lib/python37.zip\n",
        "    /usr/lib/python3.7\n",
        "    /usr/lib/python3.7/lib-dynload\n",
        "    /usr/local/lib/python3.7/dist-packages\n",
        "    /usr/lib/python3/dist-packages\n",
        "    /usr/local/lib/python3.7/dist-packages/IPython/extensions\n",
        "    /root/.ipython\n",
        "\n",
        "pode se utilizar o bruto:\n",
        "path.append('C:\\\\Users\\\\user\\\\py\\\\modules')"
      ],
      "execution_count": 88,
      "outputs": [
        {
          "output_type": "stream",
          "name": "stdout",
          "text": [
            "\n",
            "/content\n",
            "/env/python\n",
            "/usr/lib/python37.zip\n",
            "/usr/lib/python3.7\n",
            "/usr/lib/python3.7/lib-dynload\n",
            "/usr/local/lib/python3.7/dist-packages\n",
            "/usr/lib/python3/dist-packages\n",
            "/usr/local/lib/python3.7/dist-packages/IPython/extensions\n",
            "/root/.ipython\n"
          ]
        }
      ]
    },
    {
      "cell_type": "code",
      "metadata": {
        "id": "-OWI_jfKkKqH"
      },
      "source": [
        "''' exemplo de utilização:\n",
        "\n",
        "from sys import path\n",
        "path.append('..\\\\packages')\n",
        "\n",
        "import extra.iota\n",
        "print(extra.iota.funI())\n",
        "\n",
        "************************************************* duas opções\n",
        "\n",
        "from sys import path\n",
        "path.append('..\\\\packages')\n",
        "\n",
        "from extra.iota import funI\n",
        "print(funI())"
      ],
      "execution_count": null,
      "outputs": []
    },
    {
      "cell_type": "code",
      "metadata": {
        "id": "z6WqpxYppC5w"
      },
      "source": [
        "''' outro exemplo de utilização:\n",
        "D:\\Python\\Project\\Modules\n",
        "\n",
        "abc\n",
        " |__ def\n",
        "      |__ mymodule.py\n",
        "\n",
        "import sys\n",
        "\n",
        "sys.path.append(\"D:\\\\Python\\\\Project\\\\Modules\")\n",
        "\n",
        "import abc.def.mymodule\n",
        "\n",
        "*************************************************************\n",
        "\n",
        "from sys iport path\n",
        "\n",
        "path.append(\"D:\\\\Python\\\\Project\\\\Modules\")\n",
        "\n",
        "import abc.def.mymodule\n"
      ],
      "execution_count": null,
      "outputs": []
    },
    {
      "cell_type": "code",
      "metadata": {
        "id": "V6xtGiLHq3BN"
      },
      "source": [
        "#lista de pacotes disponiveis o mais famoso é o repositorio PyPi - Python Package Index\n",
        "#https://pypi.org/"
      ],
      "execution_count": null,
      "outputs": []
    },
    {
      "cell_type": "markdown",
      "metadata": {
        "id": "4rl25IWcstQS"
      },
      "source": [
        "from sys import path\n",
        "\n",
        "path.append('..\\\\packages')\n",
        "\n",
        "import extra.iota\n",
        "\n",
        "print(extra.iota.funI())\n",
        "\n",
        "************************************************* duas opções\n",
        "\n",
        "from sys import path\n",
        "\n",
        "path.append('..\\\\packages')\n",
        "\n",
        "from extra.iota import funI\n",
        "\n",
        "print(funI())\n",
        "\n",
        "\n",
        "![hier.png](data:image/png;base64,iVBORw0KGgoAAAANSUhEUgAAAiUAAAK4CAIAAAAk9xohAAAAAXNSR0IArs4c6QAAAARnQU1BAACxjwv8YQUAAAAJcEhZcwAADsMAAA7DAcdvqGQAAP+lSURBVHhe7L2HXxPZ/v//+4++927T3XXtvdN7R3ovIk2KKIqIHZTeIfSOSO8toffeCaQn7P187v3c1d8rmYiIrqu7IYL7fj7eyyZnzpxzZhLPM+/MZOb/+5UgCIIgdh7yDUEQBKEOyDcEQRCEOiDfEARBEOqAfEMQBEGoA/INQRAEoQ7INwRBEIQ6IN8QBEEQ6oB8QxAEQagD8g1BEAShDsg3BEEQhDog3xAEQRDqgHxDEARBqINP883GhkwmlUrEErHoAyERYenGG5SrEARBEMQWPsk30M389Ain7UVnY+n70dVcOTczwefz5+bmZDIZaitXIwiCIIg3/LFvIBuJcK2nLLyNdbUl06sla3u0Zl+tzn20ujTb38sRCXlikYAJJERIixRIN6TiDZn01w0Z2lO2SxAEQfyd+Khv5F+PySRiQV9LESfHhZNt/3tRFmNbnBRUlBRaln6rPD28PANxp64sRSYV8tZWxvoaFwdfrIw1iNbm0N5OJEBSqZTHF4rEYqkUSiMIgiB2HR/zDfKS9dX59uK73dnOnGyHbY7ZGuxsB3a2I5vlxJGH85twyXtsMzc1vLYyz6563pPv2V90bX2uV64cVWc5S8urli7+TtduLK9ykU8pSwmCIIhdw0d9IxENt+Z2Zrux3xPMpwQ7yx4GKk2+LhKsDbNrWrKu9uQ4jVTdlkkE21IcpFFITeYXl/qHRjs5fezeweGxibmFRYRAKJJ9Qj60urZu5xV8Uscqu6BcIpHQd3YEQRC7jY/5RsRfnmhO6Mn92DdpfxAsx848/6G+zoHejmbW9R6WY1/hVYmQuyE/kKMEshGLJR3svptRz3St3Q9dNDmla23h4hcc8SQ0MhrukUikyqq/D3RVUln7ywVjO6+ghaVlOk2OIAhit/Ex3/BXZ0bqnvTkOG+3yCcHO9uxI8enu61moK+rOScIvhksDZSKeYoTB5RIpNKunn57RXZi5eofePvh1ZC7+lc8fjprcEb/CiwiFouVVZkjSpCVDDnPO0ZByfIq19TR57yRXXFlLfSjXEAQBEHsDj7mG97K9HDt47/om3bW1a7W6je+cRqrjZJJhFu/TxMKRV7BEcc0zYPuPEaWM7ewNDE1U9vUZu7sCwMVlr8UiZTygGMEAuHw6MTk9Oz7SY9EIsktrjyqYRYY/nBmbkFZShAEQewO1OubHKfp9jSZVLTpG+Qlo+NThy6ZmDldGxweg1rkZ09Lpes8XmZ+qZnjtbrm9k21CEWi/NIqXWs3XSs3OIkp3EQqk83Mzlu7B1w2dayobtiWABEEQRBfFnX7ZnGgYuv5aUhKKmoaD5w3Crj1QCKVbjoC8ljn8blr64yBmEIkN6ms4lO61se1LIZGx5nCTZjsJyu/7Mcz+rcfxq5y1zZXJAiCIL446vbN2kzXxsbbr8JEYnF2YTnymzuPYuEYZalCRzLZhvwozZY0Bf5YWllFxtPWxUGuoyzdAioPDI8Z2noZ2Hq2dfdsPfBDEARBfFnU7BtnIXd668EbsVhSUPby4EWTsKgYqfQPzkPDajCKVCpTZEJvG9nKCnftcXzaSR2rh7GpK6tcZSlBEATxpVGrb/oKvKTCNWXrCuCYTnbfz+cMXXzDlle427IZgVAklkiUzz8N1G/pYJs6+lw0cegfGv09LREEQRBqRo2+yQ0ZrrwpPxl6C/DBKnfN3Mn3rIHt8xTW9Ow8ny/gCwRIU17UNV2//aj8Zb1AIGQqKwwkRJ25hUUkRkzhNlCHu7Ye8TgODotLy5Ef/iHlEARB7ALU55uWvNCJxhiZWKBs/Q3ISKobWs4b2p3QtrR2C7h5/9mD5yk+oZHnjexO6Vqn5xbz+MpVJBJJVV0z6lxxD5yem2cKPwgavGTioGXhsrC4LPmjr+kIgiAINaBG3+SHzXZly3988y7IP5DB1DW3mzv7HtO0OHzJFHFEwwy+eRKfvryyunmamVAoSsuRn592VMO8d3D4I2kLcibvkLtHLps9T8ne/PkOQRAE8QX5mG/k1xeo/evXF7jW3VrT39MB3ywNv5T/+OY9NhSXtJlfXKptakvOKnieysoreTE4PM4XCLcegEGmMjE1k5Vfll9Wtc7jK0s/BByDTOi8kb2mucvSyiodxSEIgvjifMw3ovXF8abYno/eieAPguXYkes32NvObn3ZnHvjzcWhPwCUAJDKbEFeolz8hs067y/aCpbCVQG3Huhd8RganaBDOARBEF+cj/lGKhGOdxZ053r+6etDd2U5lqcEjQ311OQ/GWxIEvOXt16pc0eBcobHJpHlbEuSCIIgiC/Cx3yzIZNyl6bbSx90ZjshU/nc6Miwz4y6kpn4oDTzAedl7PriiNpkQxAEQew2PuobIJPyuQtzox2tFUnNZXGNxTH1+ffr8u59QkT11GdM9tXOjnYuTvWLeEsyKR23JwiC+PvyMd8oURwykUjEYpFQLBLIQ8j/4xAJpBIR1oOxtt59gCAIgvh78gm+USDPdeTXM/us2MBqWFXZBEEQBPE35lN9sw2pVCoSi/kCgVgskXuFIAiCID7Kn/ENBDO3sJiZX/o0MaOqrpnHF5ByCIIgiI/zZ3wjlcnuxyQf17L8+Zyhsb13dUPr713NjCAIgiAY/oxvRGKx/hX3fxzR+H+HL0M5z5KzNy9xRhAEQRAf5M/4hi8QaJg5QTaI/Wf0H8WlrfPeueozQRAEQWzjL/vmtP7D2NS1dfINQRAE8THINwRBEIQ6IN8QBEEQ6oB8QxAEQagD8g1BEAShDr4+38ivuyOTSWVSyQdCJmUutEM/UCUIglAzX5tv4BqhYH11cXppbmx5fnxlfuKdWJhcW5mHdSQKlOsQBEEQO89X5RtkLWIRf4xd+TLVtyzOtSLBvTLB451I9KhIuT4/M7aytDA1OS4S8jdDLBYp0h75tbA3lJe1phyIIAhCZXxNvoEjJDOjXR2FNzjZjttuNsoEO9uhM9OxPO1mZ01mS2UKu57FRFd97nBvG/Kede7S8mTX6mQbb2FAJhagTWXbBEEQxF/j6/ENbDPKqWaX3GzPgGwctplmM7qzHBqT7RpTHJpSHZtSnZhoTHVuYgUNd1etLs8NdlUNlocOv7i90FciEawqWycIgiD+Gl+Jb+TfpAm4HTnXkMFsE8wnRlemQ1mc2/RIl1QirEnz4bCcBsuCkegoO1Agk22IxRKRWIwQyw8ASRF4oCwRS2SooaxLEARBvMNX4hupVDzKru7JddtmkU8PdpZ9Q+KVyd7q//z7f/Pib3RnO/bmeywOlCs7UNA3OOLmf8vAxlP/iruFs1/pi7qG1i5Hn1A81bN2t3L1b+/ulcroZqYEQRAf4K/7Ru/hc7lvFAfb1YpyNAokYlFXTXpPjss2i3x6wDcd6TYjXaX/+z//YsWHdWc59hV4LQ1VKTtQ0NTWdc7A7scz+j+fM7xo7PA4Lq2oovqyqSOe7jule1LHKre4EikOaso2NiRwoFjCJEJSKTSkuOHpG/AYhfKkCHUkisRoy1I8xVJmPXlN+f285YkUCjar4f9YSV6uSLmYXrY2QhAEsav4q77Zd1rvXnTi/OIyXyBUZwiEQkyvygHJfSPsrE7j/AXfIOCb0a7S/2F8k+00UBq4OtGi7EABtJqcVXDe0M7ZN6y5vZvHF/D4/O7eARffsMOXTBMy8tb5fGa+R82B4dGWDnZdc3sHu29odGJ6dl4kEisWymWD8Y+MTza2ddU1dyArmplbgC6US+V7WDg0Mt47MDwwPIamVrlr6AWV+4dGsSIjFchmeZXL7htEeUNLJx6MTUwvLC6TcgiC2J38Vd98e1zb1NEn/GEsrKPeSIpNZTV3sDH/Ykg74Bvn4cpb6/N9zCYzCEWiwvJqLXOX67cfrXDXMLMD+CDozuNjmhblLxtQARaEWpIy8209g3QsXS8a2xvaejn5hIbcfTIyNolGUGFuYSmFVejiF6Zl4XLeyN7A1tP/5v3y6gY0pchzNjrYvVCalVuAtXtASnbhg+cpxvbeyKgcroZUVDcwN1QdGh0Pf/Dc3NlPw8z5spmThYufWwBeh1TkOljKDJggCGL38Fd98wXjh5O6tl5BnZw+TK4q9w2b5TJaEyVclRtiEyQoxRU12hauwXcec9fWmcJ1Hj844slxLcuKmkZUgP+yC8vP6NtcMLL3CbkLM1m6+h+6aHJKx7q5nc34KTox85iWxSld2CQcFey8gw+cM9S2dK2qb0YLMA5SIhe/m+eN7KDz03pXfjpnCKOgMtQS/iB2fnEJ7fjfevDTWQMje2+/m/d9b9yDur4/oWPmdA3jQQvM2AiCIHYPf8Y3+BSP2Y25v+cXjG+PaWEuzioow+S7A75xnWiM2XY+9Kf4Bk+fxKcfOG+EBKWg/GXv4HAnuy8mKQs50Oj4lEwmY/cOntW3wQ5MyynuHRgeHBnv5PQjLzmqYe4TGjk2MQ1ZCATC/qHRG/ei953W+/m84fXbDzn9QxNTMz39w2OT00wGo2PldvCCcWjk05rGVrTT0sF2D0TCkywWSyi/IQhiF/JnfCOVSq+F3sNUiA/U3x3X/jJxQnvfKT1Nc+eX9S074psct6m2FJlUpNxmBZu+Cbrz6F3fPD6ubVkJ34jFkHFxZa2muQtympM6VkgE3QNvx6XlQAk8vgC7LjmrYP9p/WOa5vo2HhbOvggzx2taivqXTZ2gDaZZtP/gecrP5wzvP0uenV+Uf8/GLFCATX4Ul4b8BpZCLmWMLCcsKiOvdGl5RSKhswYIgtiN/BnfYDqbnJ4LDH+oZ+2OGf9LhaWrf05xpUAoV4LKfcPJ85rrLdqQKo/wM0AnpS/qtC1dfcOiVrlrTOHaOg+7AvlNdUMrc57YwuLyi9omZCfmzr4aZs5nDWyPXDazdPHj9A1BBs+Ss6BqJECw0TlDW3kY2J7RuwJt6Fq5bfPN4Uum5S/rhYpt3AryJEgIgrkacheygahOaFv9eMYAIsTAsFRZjyAIYtfwp3yD+V0ixUSPqRbT4pcKJBaY3pm5VeW+6SnwWR6p3ZC9c01PbHVrJ8fM6RqU09XTj3wFY+ji9MN8kMrQ6AQqLK2sJmXmI6HpHxqFEnoHRpASOVwN2XdSNzO/FBnSi7omWETH0vVZcnZZVX1FdSOiqKImM680p6hiamYOuxfV8CDicdwvF4wLyqrmF5dXuGt8RXqE1AWbPD23EHj7YU5R5fjUDNzfyelH2oRcBxpubO0i3xAEsQv5M77ZBInOl0Q5Cjkq901vkd/aTPfGxttTrgH6RPZw53H8T2cN7L2DE9JzEzPyXPxu/nzO8PrtRzw+HxP9wPAYhIRsw+/mfYiHVVQRm8qy8Qj86YwBq7AcCdDs/IJHYPjBiyYOV0MT0vNYhRVpOcVIZZAzBUc87h8eRS/FlTV3HseZOvrsO6XnHhB+90nC/WfJqTlFk9OzWIpGkD9BRWcNbCIex6fnlmQXlEfFJJ3QtoTGYESplHxDEMSu4y/5Zvegct/0lVznL0/8uvHOxA3DyTY2hkYmQiOjT+tdwfx+Stf6rL4NVNE7MKxIPjagBO+gCBQe17I8pWN93sj+pI7VRWOHsKiYsYkpmWxDKBIhJbp2494ZfZuTOtYXjOzR1FFN80smDvJzCiam0IjvjXvHNC0OXjBGHL5selTDDK1BYx3sXixFR929A+cMbJFUHdOUH7/BY7SgaeGSyipE5oc6zIAJgiB2D1+Tb1RxfYHO0v/5179YcTf6y0LE8pPTPjBxY7qfm1+sbWpD4vIsObuypnF6dl4sVn7zJhCKkOK0dLCLK2ux9F5MEtKguub2+cWlzV90iiUSaKmqvvl5Sva96CSkKEiDmtq7USgUyc896x8afVnfUlHdUP4m0Esnp3/zRz98gRDuaWrrxoqP49OQHmUVlHVy+kg2BEHsWr4S30glYk5jbk+u6zaLfHqws+yak63HuiuQ32Q89R2uiZK9e7LAJpjQZTKZSCzm8fnrPL78N56KX2luLpUoruAJ8WDp2jqPxxfgKVbZWgfSYk6eRgX8hT9Qh7l6DSrATFgqFIrehkgkkcgvirPZgryOWIwVmUbwYPNoFkEQxC7kK/GNTCblzo9153pyWB++883HA8lNV6Z9abT1KKd2oLerMcNrabhWfss1giAIQkV8Jb7BJ36ZVNJVldDB8oI5tunk48HOtu9Mt62OsylKDK2ryCpNvTXDzpdJREgilG0TBEEQf5mvxjewg0wsWBvuLBtrSR1vThxrih9tjB9teP4pMdyQ0FSWUF3G6qjNWRxvl4qF284UIAiCIP4iX49vNpEfXBEJhHyegL8uWF/94+CtQjAbMon8CzTKaQiCIHaGr9A3cjY+D9IMQRDETvOV+uZDwCtS+X3MkP/Qd2UEQRDq5m/kG4FQtLC4PLewyF1bJ+UQBEGomb+Fb5DZSCSSyprGKx6BulZuUTFJC0vLpByCIAh18rfwDdSCtMbhasg/j2r+44jGKV3r4soaseSda3ESBEEQO8rfwjdSqfIymsyN2g5fNk3MyBOJP3z5AIIgCGIn+Fv4RiKV9g4MmzhcZXxz6JJJXGqOSES+IQiCUB/kG4IgCEIdkG8IgiAIdUC+IQiCINQB+YYgCIJQB+QbgiAIQh2Qb7488gvtSCUSsVAsEoiFAvnfdwNLNy8Jp1yHIAhir0G++fLIZNKFqcHqvKdl6Xcrsu69yL6/NSqz73Paq//9v/+zvLy0xuWiMhMbyhuGyi82urEhw195EARB7FbIN18YqELIW23IDuLkuHBYzh+Myji7teXZlcVpdlcrj7vEX5OHgMdFSoTVpRKxVMSTivkyKd0jjiCI3Qv55gsiz0vWlqaG2vIbUxzZ7914dDM6Mx2LYpyLn7uWxLqVxnmUxSsiya+vpWR1aXZusn+0PXeyLXmhv1S0Nqu4DTZZhyCIXQf55osB2fDXljtL7rGzHTnZDtsc816gwvZoy3BuLHm2trIw3F3NzvftyXGaaHom5i1RlkMQxC6EfPPFkEpEA20lnDyv99TyqcHOcqhJ8expeyEUrHcX3YCBBksDuVMd8sM5BEEQuwzyzRdDIuK3ljzqynbeZpFPj+4su4oYy/bqzN9++29rwS12tkN/ke/KWIPiK7W3yM8nUPDm6faSTZhC+XkICpSlW1AuYFCWvUVZrliC/5RPPtQOQRB/Q8g3Xwy5b4rv/2XfWHRUZ7z67bfm/JvwzUDp9bVZztb8BtO9WCLBxorEYqlUXo69gadCkUgikWyVgUwmQzlfIOThP/lS+Z1Qt1UQiyV8voAvEKCGVPqO1dA4usCKYrEYNbFUKBQhUICnykoEQfyN+Tv65pfzRg+ep8zOLy6trKo5VlbXMAMz8+8b3zhts8inB3xT+a5vhipuCFYnN30DW6yt83JLXjxPyc7ML1tYXEZJV09/fHrus+Ss4soaLEUJwKiGxyaSMvOv337kHRRxPya5rKq+sbUT7kE7GDA0MjUzl5Vf5n/zvndwRFRMUnfvwDqPzzgMYClWR7Mp2YU9/UM9A8OP4tJ8QiOzCsq4il6YagRB/G35O/rmn0c195/WP3jB+NBFE3XG4UummuYumXmlmMQx/+6AbxxHqu5IRevwDLPh8ASccVbf5sB5Ix0rt57+YZS4+d86omG277Sew9UQSAIlSIDqmtsNbDwxwjP6NucM7fDgxzP6Vm7+new+uY2EooaWTkNbz5/PGZ7Wu3LWwObIZdODF41v3X8GazMuiU7KPK5l+dNZAzR+xT3wvKHdoUumJ7Qtj1w2e5qQgWyJGRJBEH9b/ha+kUql/UMjpo4+jG8Q/0Ac0VB/fHtc+6KxAz7+Y5bfCd+M1z/ZkIo3fQMTLCwtY7rXtnTVNHdm9w2ipKmt6/bD2FO61raeQYxveHx+5NMEpH0wEHIUVlFF5NNEIzsv52s3MFSsMjQ6rmPpelzLwivoTgqrMKeo4sHzZLSJkuSsAr5AqKgzgSwKa2Ebfz5rqG/jgSQyu7D8+u2HucWV5BuCIP4WvsGUOjk9e8U9YNM3XyqQWp3UsWpq64YCd8I3M50ZGzL5xW+UWw7XymQwgcf121oWLvANU9g/NGpk523ntekbwaPY1IMXTazcAu48jkvNKSp7WZ9TXPmyvnmVu476z5Kzvj+hA8HEprIKyl8WVVQXllf7hkXtP63n6ndzZGySSXFEInFwxGMkRrZeQVV1zWKxRLaxIT8YRLdSJQjib+IbzIaYClOyC07rWf98zvDHswY/nvkC8dNZA8zpN6Nille5MtmOfJ+2OFCxsfHO7z0/xTcSqZTTNxR059ElU8cT2pbnDe1Q2do9IIVVtLi8gr0XEP7g2+Nahy+ZIjnTMHPSMHPG37MGttiZFi5+rZ2crb6BULMKypAzoQjlzCKCIIi/hW8YVrlrnL7B0qq6QsXHc/VHcWVNaxdncWkFssF4dsI3q5Pt2358A98Mj8l9o2nu3NXTL5XKJBIJ7GJo62XreX18agaZFhKRTk5/Y2sXu3eworrxeQrrakjkCR0rJDRIUyCMm/efIb/RsXILjXwaFhUDZSLC7kWjPDY1Bz5DHsPkSddvPzpnYFv+sh45zftnuBEE8Xfmb+Qb+Qd5iQTzID6Gf5kQA4l8ClaMR/W+YTnxl0Y3D94woLuxiWnvoIgT2lb1zR0rq2uj41N3HsX9csHY0tW/b3AEA1tYWtYyd7ZyC2hq756ZW5hbWIJC4BLUSWUVwRgv61uQnF0ycSgoezk1Mz87v4hqoxPTNY1tjW1dEDl6WefxsejajXundK2zC8vn5hfnF5fW1nkwHCmHIAjwN/LNbkO1vmnJv8XJcRELVpStvwFzPRzDHJ7Rs3Z39Am9YGR/6JLJj2f0D100cQ8Mhy0WFpcvGjv8fM7wvKGdtXuAq/8tAxvPo5rmFs5+9S0daAEuuRn17Iy+zUkdK3NnX1e/m9ZuAXgKh7kFhPcMDMMrntfvHNey/PmsIVo+fMkUqx/XsrB2D1xaWSXfEAQByDdfDFX7Jryv2F8q5itb3wKm+4Hh0ZC7T4ztr+pd8bDxvO4bFgU9uPjdvPM4jru2DltExSR5BN629bxuYOupbelq5nTN/+b9uuZ2oUiEFpChcNd5SZn5TtduoIKOlRv+XnEP9Lt5v6iieoW7hhYinyZgKXyGwAMmQiKfLC2TbwiCkEO++WLIfVPy4K9fX6CtKv1f//q1Nf/WWP0TmUSobP1dJBLp7NxCWyensbWzf2gUDpienZ+cnkPqI5HIv+KDdeYXlwZHxprbu2ubULFvfmEJa22qAsrh8QVjE1OKCu3NHd19gyNoR/kNoUJI41Mz22J1bZ1ZyjRCEMTfGfLNF0MiFnS8iO9muW2zyKdHd5Z9xTOblqqswf6ezsIbS8PVMimdeUwQxC6FfPPFkMmk3KWpzlw/tvzmAttd8oeB5KY93a42K4Td3vCC9WCwLlYiXNt2chpBEMTugXzzRdnYmB7pepno0pPr3pPr+lnBznHNvG8b/+R29rPA/roE4frCtjPTCIIgdhXkmy/MhkwqFQunRnv6u+v7Omt7Wss4zcWfEsOcOv7KhGB1WsxflUnFlNkQBLHLId/sBjYU1++XSCUI8daQyH+0IxKJBCKhAI+3LpJJJXCMXDOU1hAEsRcg3+xqmPO+ujj9A0OjUrqLDEEQexnyza5maHQiNPKpkZ2XpYtfSnahWCymc4sJgtijkG92NXDMz+cMFTcy0DJ19BmdmJZRlkMQxN6EfLOreZqQ8e0xrf93+PI3xzQvmThWN7TQt2oEQexRyDe7mifx6d8c1WRunHPeyK6yplEqpRuXEQSxJyHf7GrINwRBfDWQb3Y15BuCIL4ayDe7GvINQRBfDeSbXQ35hiCIrwbyza5mD/lm40MolxEEQZBvdjl7wjcyxY26fw+yDkEQDOSbXc1u9o1EzJ8f61wab5sZbBjjVI2y34mhrqqh/u6V5aWVlWWZVAonbUUuIfIQQfzNIN/sanaxbzbWl8YbU53b0uza0mzej/ok2/ykcB53aXhoYGZ6YnZ6EjE3O728vIRY465KJaINmQTtKNsjCOJrh3yzq9mdvpFJRGO9Dezy++xsB3a2/QejO8uhOsFxuPZxf9VDdlkkp1we7PJ7DfmRbfVl62src+M94+1Z0+2pq+PNMomQ7qdAEF895Jtdze70zXhfQ1d+QGfmZ9+WlJ2FZMi2mRXY1fKCv7bYVx3DznYaKAlYHqlV5DoEQXzNkG92NbvPN8hDJEO10exsR86fug02O8seouosjZKI+Ozmso4s154cp5EX4VIxX9kDQRBfKeSbXc1u883GxoZwfWm05v42i3xWQDkdBcGzU8OcjrqObA94a7DsukTIVfbxIRSnF9CRHoLY25BvdjW7zzeytaWpoaq72xTyudGed31qfIDTUSv3DctxpCpcJvnd/AaiEQpFfIFARtfGJoi9DPlmV7Ppm38c0TiqaX7vaWJ5dX1lbaM642V98+jEtEgsVpzHDN9MqsA3+W9905PjPNkSK5MImU1GHiMQCAvLq5OyCjLzSyuqG9Nyiu/HJEc+TcSDnv4hkUgskUqnZuZYheWok55bzO4dlEikK6trOcWVyVkFaTlFDa2d3HUe0yBBELsE8s2uZtM3iG+Pax/TND9naHtenWFkd9HYwdk3rLqxVSz/8eYO+CbXbb6nQCYVMZsMq8El5w3tfjile+C80Rl9m5/PGX5zTAvxywVjh6shze3d6zx+UUXNcS2L70/q/HTW4P6zZJT09A8f1TDHWj+dM/QMujMyNsk0SBDELoF8s6uR++aY0jdIcf55VAP6QYl6QwuTuLH9VR5fsBO+6c33WB1v2jw/TZ7fCEXIVMycrn13XPvQJdPbD2NrGtuq6poDwx+e0La09QzqGRieW1gKuvMYvrFy9W/pYMOFS8urMUlZ+0/raZo7l1bV8Xh0AgJB7C7IN7saTKA/nNSFZhjlfKmAck7qWiOH2Anf9BV485dGNmRvj0tBObPzC9dvP8K234yKWVhclkjljE9Oo3Dfab2s/DKkQf1DYxdNHI3tvRtaO6UyGYZ36/6zI5fNwh885/FJNgSx6yDf7Gpe1rfoWLnhMzvSmn9+oYBsDl82C7n7VCgU7YRv+ouuyU9O2/J7z42NX+cXl0LuPjmuZZlbXCmRSGEggAfZheW/nDeKikmSSCTcdV5sKuvgBeN70YmK79OGDlwwMnHw6WD3fdmzKgiC+CDkm12NUCR6UduEud4z6M6XCp/QSEzra+s8JBk74Zuh8lB5crPldGeFb5ZD7z79+Zxh5NPEuYUlgVCEmJqZi3gcd+CcYVJWvjzfkcl6B4b1r3hAyS0dbP+bUUh94B6hSAw5KdsiCGLXQL7Z7TAf7b88ysGo3jfjDU/RLNpW9CCH8Q3ym+9P6JzStY54HF9Q9rKgrCo44vFJHSsIpr27l6nJXVu/F5106JKpR+DtIxpmp/WucPqH3gyWIIjdBfmG+Ax2wjczXdlyw7znG+Q3B84bHdeyOKFtddnU6ZKJIx5bufqXVtVBM0xNJDmtXT0WLn4/njX45bzRw+cpfIGAWUQQxG6DfEN8BgrfqOL3nlt8szT8UuGbtyh9E/n0rIHtk4T01OzCm1ExSG5SWIU9/cMCofKXOgCpDI8viIpO2n9aT8PMaW5hSSql34QSxC6FfEN8BvDN+vLU8Mu/6puO/KDp8QF2W017lsfaLBsNKztQwPjmRmT0RWOH4sqadR4PCc3q2jqfL1D8BuhtZZlMtri0cv32w+9P6sSn5SLdoS/TCGLXQr4hPgPM5mIBd6T2Ifs9hXx6dGc5dBTenJ0ebXqR1ZnnJ+YvK1tXgC6gjf6hUZ/QyDP6Nhl5JZPTs0hilIsVyGQbyHLm5hcnpmbzS6s0zV1O6lh19QyQbAhiN0O+IT6XjcGmjI5Mx20W+fRoTHGsznvEaa9rzI+c6y2TSZRXFmBAyjK/uGRo6/XjGf1vj2sfvGhyVt+mvLphq0vEYkl1Y6sWNKNt9csF428Vv0i18woWien21QSxeyHfEJ8Nb3VuuCm1OfNqY4pTfbJjXZJ9XaLdp0RNgl1ZjE1OtEdlXlxjaeJ4d7lEwFWcnPYWCGNxeSXk7hOPwHD3wHCPwNvewXcb27q2agQJUHtXr/+tB1gqrxaAauF3HsWJxHQmNEHsXsg3xOezsSERCcb6moY6KwbbS/vbivtbPyl6W4ra6wraGyuHOI3ri2Ob1+h8n1Xu2uz8giIWFxaXIRjlgjdAK4tLK2/qyGOdRxfoJIhdDfmG+FMgK5FKpBKRPMRCyecF1hJv+43nNpCmyLbwwazlU+oQBLF7IN8QOwUJgCCIrZBviB0BshGLJRIJXceMIAgl5BtCxcA00MzQyHhOUUVmfkl374BILFYuIwjibwz5hlAxUplsfHLa1e/mt4qbpGlbuLD7Bum7NYIgyDeEihGLJfllVeeN7P7f4cv/OHz5lwvGCRl5MhldZoYg/u6QbwgVIxSKkjLzj2laMPdq++msweP4dLqsGUEQ5BtCxbzxjflb38SRbwiCIN8Qqga+SSTfEATxHuQbQsWQbwiC+CDkG0LFkG8Igvgg5BtCxZBvCIL4IOQbQsXsRd9s/A7KxQRBqALyDaFi9oZv5NcbFcskIplUJBSs89e5vHeDz1sXCAQSiYS5EugmytUJgvh8yDeEitkTvpGKBZy69OIYx8InNkVPbd8Lu7K0W7z1tcnJybm5Ofll4LZA16ImiD8H+YZQMbvfNxKRYGa4rbsotDvTvivT7oPRzvJufZk52tvY1/FymFPPxCC7YWSQzeWuCvjrvOVJ/vK4aG1Wfhcf0g9BfALkG0LF7HLfbMik4701LblB7enbb3S9NaCcxqQrDYmKwAPF46rYK/U54QvTg4vzU+yXif0lgaM1Udypjo/cOI4giE3IN4SK2c2+gWz4q3MdeYEcliMn22GbY7YGO2sz7DajO8u+Ld3+RXro+vLMytJsS9bVnhznsdr7/KURNK3sY2cQicTt3T3x6bmxqaymti6B4I8Nh5xrY2OjvqXjWXJWTFJWbAqrsqYRr45yMUGoHfINoWJ2s2+kEvFQZxkn122bXT49ujPtyp6azY11v3r1qiI1mMNy6C/yWZ1o2djY2Tv9rK3zIh7HH7lsdvCiyb3opOWVVeWC3weykclkvmFRB84b4VU4eMH4WmjkKndNuZgg1A75hlAxu9k3EpGgpTSak+OyzSKfHsh4mpKsJvqb4JvSlFD4ZqDEnzvVjrld2cfOIJFIR8enwh88P6Zpcedx/NLyH/sGQDkDw2P5pS9uPXh+ztDWK+jOyir5hvhikG8IFbPNNz+e0cfn8XUeny8QCtQZQgxEtM1zYiGvsfARm+W8zSKfHvBNS4r1ZH8jfFMi943jcOXN9bneTd9IpFJs6eraOjIJ7tr60vLKyiqXu87DRI/HSFNgDmgAYGwY4ip3fWlldQH/cdf4AoFUKl/KNIXsBBuCciyFYJDT5BRXnNG3ufM4bn5xGb2gfXSERqQyGVbk8QUr3DXUx4PNG0DggUgkLq9u0LV29wqKQDdMOQP6kg8YK65yF5flvWB17Lqt5+DJhyGU94WlqLO8wsVjdLFZgSA+EfINoWK2+eb7kzoOV0Mz8koz88uyCtQX2YXlL+qaZ+cXlcNSoHLf9LCcxuseCVYmmOM3mIKnZ+cfPk8xc/K1cvV38b15+LKpkZ13cMRjLQuXA+eN7LyCkXCIFT/rmV9cyi15Ye0WcPCiyU9nDQ1sPZ+nZI9PTkNIaArz/cLSckp2IVb/8YzBoUumaNAj8PZxLcs7j+KmZuZSswstXfxMHa8lpOfBVtNz81iKyiYOV+PT8+ADxRbLgVEqaxr1rni87xuMBGnTo7g0TXPnHxXfuZk5XUvLKZ5bWILAUAFbBAOxiiosXPyOapgjWz1vZO/oE+oTGsnjC0k5xGdBviFUDHyz9X4E/ziiAeXsP62PREetcdYA8zumZnw235wWVe+bHKep1kQxbwkTM9pHRzDBrQfPj2iY7T+th0kc0zRsgc2/bOpkbO8N/VwNucvj8WGIx3FpZ/VtUG7vHezsG2Zo63Va94pvWNTY5DSaml9YehibimxGw8zJ4WqIvXcIHvxwSnffKT1s1MzcwvMUlqGd1/4z+jfvP4O6Riem3APC9a94oLubUc+QgSi2WA6yn8raJiza5hsobWhkwsknFCKB7Zyu3UBHGDOe3rgXjTbldWSy0qq6Y1oW5wzt7LyCUMfU0QcVTmhbTk7PkW+Iz4J8Q6gYoUiUnFWAGYrxzZcNZBQT07OYNJmx7YBvnOfYuVvPh8bk3snpM7DxhFoKy17WN3dcMLJHwMFVdc2ndK1P611ZXF6paWzF2HSs3ArLXyKngV3qmtvd/G/9fM4wJikL83hFTcNxbUsoKqe4cnJmDnXyS6t0rd0g79uPYheX5F/NIe1AwhEWFYNMCP2OjE9mF5TDsjcio7lr68oB/Y5v0IVYLIG60KCz743Gtk5kZthXZVX1yMIwDPSLOsiN7kUnwp22nkFopH94tL27FzbCKqvcdfIN8VmQbwgVIxKJ80penDO03Zz0keL8E3FUrfHNUc1vj2kZ2XuvcNc2p0WV+6Y3z21xoHzrydDoa3hswtzZ97yhHSb3wZFxvSse1u4BLZ3s/qHRswa2yPwmpmaepWRjTo9Ly1nn8TGnw4jICyuqG84a2CCBkEgkD56n/HLBOD49l7vOw3LUgUKQEkEwkASMheyksa0LjTC+wVOxWNzY2nXwovGn+EYm25hbWLR09f/mmNZFYwdHn1DnazeQvth5ByN3QWFA+APUwcBe1Daf0LaCKSE/pDi+YffCHzx/2dDCHIhiWiOIT4F8Q6gYfGp+UdukZe7CyOabY5pHLpudM7BVcyClsHLzx/yLSVM5sh3wTX+h98pYg7L1N4yMTcI3l0wd+QLByPiUga2nvXcwkp6h0XFo+JiGOR5EPk2AGMpfNkAtzKyNmb2nf0jLwuWcoZ1ILA65+wSzPBIkJjlDFSiHVVh+VMNMnt8sr2CdJqVvoucXl7GZWOt936DxN8dv3L2C7iyvcje7G52YMnG4ihcI8f0JnR9OInSR7uDxdye03QPDRWL5caZV7lpJVZ1PSCSyMSgQwjuqYW7reX1peZUZG0F8IuQbQsXANy/rW7Qtlb45fMk0M68Un+J5fIE6g48QCJlj75uo3Dfyk6Gnu5StK8BkzuQ3l0wc1nk8uMfAxtPWK6id3Ts0ovTN9OxcYmaePFN5HIeEAz6AAzDgjLySo5rm1u6BGPbD2NQfz+g/T8mGOZC7IEfBAxTuO6V368EzCAYdNbV3wzchd5/Ozi+gkbV1XllVPZoNjXzK+AbNSqVSgVAIb+lauXkE3kYmhBdInk/JNlAfA/v2uPa96KTm9u727t4Odl9bdw+arWvuQGaGStiTz5KykjLz5xeX8CLCMVh6xT0QLyuSM6GIfj1KfAbkG0LFiCWMb1wZ3yC5ySup2iUfhFXtmxtD5SG8xUFl6wowQWPSv2zqdFzLoriyFlmNvo0n9kZmfimnbxC++eW8EfYPUhPkFrDLrQfPG1o6Wjs5MUlZ2hauJ7Qt80ur4Imm9i5kSBrmztFJmVja0sF+mpBxUsfqu+PamO6LKqqRzXRy+pEMWbr442ldc3vk08Qz+jb7TunaeQX3DAxDBpPTs3klL9JyioIjnpzStda38YhPz4XVqhtal1e4eKXSc0uOaJghF0xIz8WQ2ro45dUNGElg+MOc4kq8avAlujumaRH5JKGhtbOD3VtWVYcSrJWcVSASiZWbTRCfAPmGUDF/K98MvwgXcuWnkzHAE0hikEYgydh3Wg96wK4wtPPGUyu3gJrGtosmDj+c1HX1uzk6MQUTWLj4YdG3x7V+OKmz/4y+loXLs+TsVcUlAJCgZBeW61q77z+tp/iCSweZDWZ5JD0wCtpZWFyemVsIf/Ace/i7E9rfHtNCrnPWAL7RO3jRBO3MLyzhL1TxwynFt2SKQO8YmKmjT31LB14p9HX3aQLEhhbQC+KbY1r7T+vDQI/i0pAzwVjOvmFwFfpFJiQfyXFt9Ojmf2tmbn6XvKzEXoF8Q6iY3e0bvgp8k2w98cY3ozVREsHbn/pv/Prr6tp6bVN7YmY+MomcoorJmbm80qrEzLzKmsap2bmsgjKUQzxIg9Z5/PbuXjyFM27ci45OzKxpbF1ZXWN++II9BuUga0FaExr59Nb9Z5AHco6kzPy4tJyCspfIbxCj41MoCYuKuf0oNgGZy4va+LTcVFZR7+AIXyAYGB5LyymOTWVtiRysjmpzC4voAkbBgCtqGh/FpaKXkLtPI57Ex6Wyyl7Wz84vQp9Ikmqb2pByYV2kYqhw94m8H/gSq6MCs+EE8SmQbwgVs6t9IxK0lD3nsP7S9WzqE6xmhtt+++9/ixL8J1viZZK3v6z8E2DKhniQZ2C/KYvehclCUOf3rgmECvLFAsHWMyM+F4miF9hOIBR90CJ4BZlx8gX0M0/iT0K+IVTMbvaNTCqZH+/+K9frZGc75D+ynhvvaW2qbckJXJ1s3ZB92BOfDqZvOcpn28GCjy5/s/pfdoCyld9pB6XKxX+5I+JvC/mGUDG72TeYMiViYWtRZE+OS0+O8+cGh+XUlOrQUpFUU1Wa9dBphlMslw3NvwTxaZBvCBWzq30DNjbWuQtdNWltBWHs4jB2yadGd/GNqrSA9JjgjLg7beXPuLM9yJYUn/sJgvgkyDeEitntvpEfipBKJSKpWCAR8aWfHKgsEvKEAgRfIhZtyKSU2RDEZ0G+IVTM7vcNQRBfBPINoWLINx8BWZFMIpJJhDKx4J2QIIR0NIj4uiHfECqGfPMBmPO6ZDLuwsRYZ+Fo3aPR2gdbY6zu4VRL/PosR/41HUF8pZBvCBVDvnkPSEQi5HNHe+p7ulo4dek9eR4975381pPrMlgayF8apXMQiK8V8g2hYsg3b5GnNFKRYH1hZri/u4nT3cnuamfXpHByPvyD0948t9WJlr/+gx6C2J2QbwgVQ75h2NjYEAt5ywtTQz2tnO52NkNXO6fqOed3LqjTm+u62F8mE/+lCxYQxK6FfEOoGPINVCMVC1fmxydHeno7GzjIabo75IEHzeWcwgAOy3GbaZiQ+6aPfEN8tZBvCBVDvtmQSZfHWwfqEtjV8ezqxDeRwKmK4RSHbHPM1lCbbxTnLsgDKIv+CPkqyrXAZ6xIEJuQbwgVQ75BdjPTmdGb783J9eDkur+NHNffy2yYUINv5NqQbaysro2MTSJW3tzu8w8RikTzC8sjYxPDoxP4K7/BKCmH+EzIN4SKId/IpKLptqSeHKetLmFnO3RmOXZkObVlOrdlOrVnOnVkOnZlOWytox7fzC0smjr6HNeyPKZl8Tw5S/I716XexszcwkVjh5M6Vse1LI5pmvuFRZFviM+FfEOoGPLNB31Tne4VFfvA6UGawe0c3VuZFrcSbj248yLFnb2ljnp8s7C07OIbdkbfZv8Z/QfPU8TiT/LN7PyiubOvjqUrlLPvlJ57QDjyJOUygvg0yDeEiiHffNA3D2Pvh0THOEUlHQsuPhKYf8gv++i11PuPQjq3pDjbfIOdJhSJ+QKhQCBc5a5PTs8q7nMjnJ1fmJ6bRyFzZ7bNmtx1HupMz86v83gSiVS2Jf+QymQisXhpeWV0AssXkKxEPk3cd0o3KiZRKBLhJZP3IkQbYjQlkUrROEpQsPnCYdHyyuro+FTo3af7T+u7+t18/zXFilhrcWllTN7LIh7Lh/EJLz0sKJXKMBD5MBRdc9ewvXMzs/M8Ph/DQwW0gwcYEioIMFJFIZIzpr68RCzvTNkisSsh3xAqhnzzvm+QxNyOeeTxIMHyTsrhwIJffHN+8s7c75F67XZ4e+bbIzpbfYPJFPJIzy1+lpwVl5ZzPybJJzTyeUp2SnZhUMSjgPAHSZn5kBDTIzxUVFGDZMUn9G7ArQfRiZmtnRz4glmKpuYXl4ora24/ivW4fjvk7pP49Dy/m/f3n9a7F52IaqyiCvTyPIXV1t2DSZ/TO/gsOZvpd3BknGkEoB28uI9iU38+Z/i+byA3mAzDuxn1zCMwPOjO49hUVltXz6d8XwctDQyPJWbmo9+41JzM/LL7McnXbtzDtsSmsHoHRiASPl/Q0NIZn5bL1OnpH4ai+gZHUQFDRV/lL+sxeGWLxK6EfEOoGPLNVt+0ZboUp/hnJQXfib7vcT/W6e7zK+HPj/qm7fNI/d418dqdW0OVLhMvHAcLHXpY231TXd9y3tDup7MGB84Z/XLe6NBFk6Ma5kc1LQ5eNPnlgvHhS6bpuSXYsXPzi4/j0s8b2aEQe/vQJdMjGmZGdl4ZuSVIODApI9WIiklCBbRw6JLJ4cumaAd1vjuhI/eNQKht4XrwojFWh8+QTzxNzDiqYXbgvBE6KiyvZjaKAWJ4FJv2vm/wovcOjkBmaBZroQtFR2bG9t75pVUYBDZHWfVDIGvJKa48oW2JlhGndK0VQ0UjptjMK+6B8BYypuCIJ2gZFbCZcKFYLGYVlqMCSlDf1jMIWY6yRWJXQr4hVAz5hvENJ8eJne3wMO6BRVSeUUSuXjhLKyzzcnDq+YCkA14p37smfesU6383TDjm8a8pFx7HoT9/u2/gieu3H/54Rv+fRzW9giLwuX7fKV3E3ScJNl5B/zii4eZ/CwJASnFCW3lMpbK2CYaw8wpCtbP6NgPDo0h9Ciuqj2la7DutFxj+EA7LyC2+bOr0zTGtb49pMflN2ct6G4/rWOVRXBrqj05MQTk6lq4/nNTNK3nBbBTD7/kGlrLzDkYXBy+ZRDyJf9nQglFdNHHAyM0crw0MjW1+9fdBkAOh07CoGFgKq2AkIXefVje0pmYXaZg57z+tr2/jOTE1W9PQamjr9e1xLRvP6z0Dw7App2/Q8Wro9yd0Lho71Da3w1vKFoldCfmGUDHkG8Y3bJZzfYaH/r2SM+EVJ2+UHgsqOOyf+8u1zJ+80n5wg2zivnF4Fnr/xq8zrq8W7P533Gqqymbb8RuRSByblnMEuchls4mpmQ5234ELRlau/r0Dw1HRif88omHvHTIxPeviF4Yc6GFs6vIqVyiSH96Ympmz9w6GqByuhnT3Dli6+u8/ow+1zC8uIQNABbxAl0ydvj+pg7wHvWDFZ8lZsAh8s87jY/afX1z2CYn8RN/gQW1T+1FNczjPM+hOYmZ+Wm4xfBOTlPXdca2DF4wjn8qzKKbyB4Fc0WnJi9pLJo7oFPWhPQyVxxc0tXXhvYQNRINCkRjS/fm80SkdK2w4Urem9u5LJg4/njXILX6Byn+rt9lehHxDqBjyDeObbpZLZlKoxp3S4zfKjwYVHwnMPRmQcdo/6eS1uOPeMUc9npz3eVCcd/U/szav583/b9Jovs5im2/EYkl8Rt4xLYvjWhbzC0vQDD7+23peHxmffBSX+s+jGnbeIR3sXi0Ll18uGA8MjWLPMysiZUGSgcKTOlZ1ze0nta2OaZrnl1Ztnoo2O79w41409CD3jViMyT0xI+/AeSPGN5j98dfv5v1P9I1UJkvKykfht8e1ITn0y3wVhgaRqaAceRVfoNyo30Mm2yivbmCymfGpGTSOYeDvKnfNyi0A7WDAKOH0DSEVQy8P41Ix7IT0PFgTFfqHRj+eQhG7AfINoWLIN4xvOlmuz+LuXLhVfDS4+HBAvs6N5NuxkSkZoemZQWnpgRkZfi0VbuLhK69mTV7P6P02rrnUYPwnfMPuGzSw9cTMjgxjUyeYiIPvPMZEf97Ivr6544z+laMa5jnFlZuH05EAXb/9aN/p7b5BksT4BiVXg+9+um9yiyuxOurr23g4+4a5B4Qj3Pxvufrf9Ai8nZxV8IdH8t/4xgmNIENa5a6jfaRryG80zZ3hG6gF1TDauLQc5hgVNg31MRhWUblYLMawmaaIXQv5hlAx5BvGN10sl7SE4HM38g8H5p+7nhaXFr466P3rnNe/5tz/NePyP9N2/zdj8du00etp7dcTF/87fHax1uCd4ze//rqyyr39KA7z+IHzxk1t3T0DwwcvmuhZu9e3dNx9Ev+PIxr6Np4NLZ1IRFDHyjUgp6iik9Pf2snB1HzJxPGns4aP49OGxyZQ4aezBtBAaVVd78BISwf7/rPkM3pXvjuu7ep/q7WLs7zKzSooQyPugeHNHey6pvZnydmXTByQr9x5FDe/uITUYWh0vORFbWH5S6wCJRjYeBZVVKPBTk4fXyAcGZ+6aOLw4xkDN/+bcE9Te3dDaycqx6XmxKaw0ODmkXy8E7BdSLayC8pn5hY2JcH45rKZE0aFkYQ/jI1Pz32akG5k542ESdfafXxymll9bGIKhftP65k5XcN2WbvLkxuSzZ6AfEOoGPLN5vGbmjSPS6GZh/1YJqHPGqsD/7Pk+XrV7fWy4+uFK6/nTF/P6L+e0nw9ce716Il/952YKn8nv8EECsdomrtg0kc4Xg3l9A0hv8HHee9g+UnP/zyqiYk45O7TwvJqzL+Ypo9pWpg5XoMJDl82xVOnazeWVlaRIjS2duLlUBxUt7d09Te09cKKSI/QAgRm7nxtYXGltqkNiRSemjpe07JwgVGw9JtjWsiNoCI+X+Bx/fYpPetTutaQwTfHNDHd4/FZA1unaxjYIHpJyyk6eMF4sxdzZ99Lpo6ojDZv3o9BC8zOwdujqb0Ltjt8yRTG2jxbWukbU6dvj2t9d0Lnm6Oa2AT54+PaxvbeyN6Q2TA18SA2lYX9AOMiy4EaeW8aJ3Y55BtCxZBvGN9wcpy6shzDHkac8U+5cuNRR53vfxddXi/ZvV6wfDVr/NuU3m/jl38bPfffoRP/6T/Ca77Yn3dlm2+6evptPYMuGNlfMLa/Gnx3aHRC38ZDw8zpXnRiXFrOeSM7iCEqJhm2YPcOXQ2JPKlrdVTDDFPwZRPHR7GpQyPj2O0A03F1Yyv0c0LbEi/HUQ1zLUtX+ADNQgnIe9Z5fKQ4D5+nnNa7gtWPoYK5C1MBPVbVN4tE4rB70chgEChE1/iLxxrmTv43749NTEtlMu7a+ouaJlMHn+NaFmhE3o6mxUVjh6A7j3sHhiQS5cEVqVSG0WJ16KqqrnnzjbF5/AZpWUV1w73oJFf/m97BEVkF5Uhf4JjNmhKpdHp2/ryhPbR3xT1wUn7iAB252RuQbwgVQ75hfMP8/qYlw7kqxb06xW2+zem/8/JTA36bNhR0GnFbDLjNunMvDUeKLYYLrPpzbXpYdtuP30gkSFBm5xcRmM0xq+Lp/OIy9MBdX0fh/OLSKncN5ZiCV1bXUDI1MzcxNTO/sMQXCDf3OdQlFotRc2ZuYXR8CpM1VlxcXplbkLcA04jF8t/qo4vZ+YXxyWlUmFtYQiNz84sLS8s8Ph86WVvnMSPZGqi2vMLFOJmOoCUUyHuZmMIw5O3ML2LFra++YjAS9DszN795+jIKsRVlL+th0wMXjKGQlVUuWsaYNw/MyOvIZPCWQCjqHxo5qWP14xn96MRMZimxJyDfECqGfLPVN91ZDl1ZDt3ZDittV36bkZ8a8HpS49XYuf/tP/M/vSe4DRp9CtMgtl1fAChmYfnVZRDYgZhW8T/My3gMUCgH5QrkczFqypEXo4RphAFP5atImArMqu+0gDpMm8xy+QNFKJYrTxXbLNwMZvlmX3iA55u9MO1gRWbpJopq8tY2V0Qd2C49t+Ssge2PZwxaOzmDI+NQDtM1U0dhqeXhscnegWHkZPtO653QseodHHm/fWLXQr4hVAz5ZqtvNmOh3vI/o7qvxi+9Gj3929BxYdv5tcZLc1V6jGmY2Oabvw8isbioovqEttX+0/r7Tun9csHosqljQflL5WIFyMPuPI6TX3rgkimq/XBKd/8Zfa+gO9x13qaTiF0O+YZQMeSbD/pmqNBmpclI0n35X5xT/2IfF7efWa7VGiqw3Frnb+sboUhU39LhHhhu7nQNYeni53n9dl1Tu3KxglXuWnJWgePVEKYOwsot4FlyFnd9nXyzVyDfECqGfPNB3/Sw7PtzbUeKLSdKTSdKTUaKzPvzrmxNbhB/W9/g7cEXCEfHp7p7B7p7+tm9AyPjk5snpDFIpdJV7vrA8BgqKGKgp39oeWWVZLOHIN8QKoZ8I/dNe3JPjvNWlyC6sxy6s5w6FdGV5YSn2yrIfdNfJpP87XxD/E0g3xAqhnyzIRXPdrP68j22uoQtP3HAsTPLuSPLVRHOeMrOfvf+nnlu3Mm2DRmd3Ut8nZBvCBVDvoEweAsDIy8j4A+kLEz0/E5sVujNcx+uCBMsj6MBZUME8XVBviFUDPlGccavjL84NN2eOtEc+zaa3o0tiyabY2c60nnz/ZTcEF8x5BtCxZBvGGAOmUSoCMEnhFAmFW3IJFCVcn2C+Oog3xAqhnxDEMQHId8QKoZ8QxDEByHfECqGfEMQxAch3xAqhnxDEMQHId8QKoZ8QxDEByHfECqGfEMQxAch3xAqhnxDEMQHId8QKoZ8QxDEByHfECqGfEMQxAch3xAqhnxDEMQHId8QKoZ8QxDEByHfECpGLJa8qG3SNHdmfHP4sllucSX5hiAI8g2hYkRicX5p1XlDO8Y3v1wwTs4qkJJvCOJvD/mGUDFCkSiVVXhC25LxzU9nDZ8mZEil5BuC+LtDviFUjFAoSsrMP6Zp/sY3Bo/j0sk3BEGQbwgVA98kkm8IgngP8g2hYsg3BEF8EPINoWLINwRBfBDyDaFiyDcEQXwQ8g2hYvaMbzaATB6yD8UWlPUJgvhrkG8IFbMnfAPNiPjcmfHevq76zuYXXc1V70RL1ejwwPT09NzcnFAoVK5DEMRfg3xDqJjd75sNmVSwtjhcH8fOdefkuLFzXNms7dGYHTgx0j8y1D81OSYS8MRCRYgEUolYJpPKpBKZRCSTijdkErhL2S5BEB+FfEOomF3vmw0hb2W8p5pdeJ3DcuRkO3wwWtKdixMD6wsfv8y5V5UdKQ/WvaayxP6uuvHRwYWpwZmBuqXh2vW5XqloTdkwQRAfhXxDqJhd7ZsNJCSioZac5gw3hWzsfy+6s+y7shy6s522RmeWU22aN6e5VMBb7Wku7Mn3GSgJWOgvlQhX1ZzlbGxsSKXSxeWVyenZuYUlgVBIx5mI3Q/5hlAxu9k3GzLZ6vxoR7bHNrt8enRl2hdGOy/NjsBc9Zl+kNZQxY312R48VfahFrA/Ryemwu7FXA2+GxWTNDQ6QVdEJXY/5BtCxexm30jFIk59FifXdZtFPj3YWfbVsZYzIx2//fZbWUoIh+XQX3RtdaJVzb6BXQaGx/Ss3Q9dMjF19Gnr4tAVUYndD/mGUDG72TdiIb+p6DGb5bzNIp8e8E1zsvXkQNOrV69KUkLhm8HSQO5U56ZvNvBIJpNIpRL8p/grlkjE+E/+XH6atbKawhkoYpa+X4FBJpN/b7alDp5hPTlCkaiprcvaPcDIzqupvVuExfLumDrSzXZQc3MMTAPMyd7MUoDHKGPaRwX5mBXtMD3JqzJbhEY2x6koV66vAE+xwtte5GvLV1cuJggF5BtCxexy3zQWPvqLvmmBb/obGd/0sBxHXt7hLQxu+gYz7Qp3rX9olN03OD41MzUz/6K2KaugrLapfX5xSSgSM9UwF6/z+DNzC3VN7ViaXVje3t2ztLK6dUdhUhcIhNOz8+UvG1JZRcWVNWgWjXDX1zGnY4ofGZ909btp4nC1vqVjcXkFS7t6BvoGR+YXlzHjowXUWVvnjYxNVtY0ZuSVooXRiSm+QLjZC7qAIebml0pe1KKLl/XNGFLv4Eh37wDW4q6ty/UjkXLXeSjEIDPzy9q6epZXVqE3pgWAXvCiT0zNVtY2ZuSWVNQ0Do9NYNjYwG1aIv7mkG8IFbPNN/tP6928/wzTz9TMHOYgtcXMHGbdFXzSVg5LgVjIU4FvUrb4JsdpouGpcHUaky7TBTqNeBJ/TNPi4EUTmEDTwuW4lsVJHSvsEHNn35qmNuwfyEYgFCWk5142dTyqYX5C21JeQcvCJyRydHyKkQHqLK9y4QAdKzesiwrHtS1P6145b2gXcvfpwtIy6oxNTLkF3EIvNQ2tAeEPDl8yPXjBGO2gArSEuR55yPXbj07qWDNjQEdn9G0exaaurHKxOipACTCNrpW7YhjyQRrbXz1y2ezAeaMLxvboncfjwzQ+oZHYouNalqiDYdh5BcNwUA6T/qC1hPS880Z2zDhRE39P611B+kUpDrEV8g2hYrb55ttjWhpmTh6B4Z7Xb6szvIPv3nkU19XTv/UD9g74xnm6PVUiWMXszXSBfCKv5IWJg8+PZ/T/eVRTw9w5OOJJZHSi5/U7mMdhi8bWLszUPL4gISMP2Qmm8tuPYu89TYSNDl0ySWEVYhHawUTPKizHrH3ByN4vLCoqJgnaNrT1Qr5o7RYwNjmNiZ7xjZGdd0p2obG99w8ndc/oX/EIvJ2ZX7rKXUcFTPc37kWjFxjofkxy+MPYy6ZOGAZSEHSBpci9Dl00Oalrfe3GvcgnCT4hd/HC4SXDp4SrIXerG1q7ewbsvYLRqZVbwO2HsXcfx7v63UILF00c2H0DzBdnpVV1GmbO8BPc9uBZCswHR/58zrCw/KWUfENsgXxDqBj4Zuv9b/5xRAPz13cntL8/oaPO+OGkzr5Tuk7XbqyuyWdeZmw74Zt5Tr5M+vbLJUziEEZcag5SCszLhRXVq9w1lExMzWJCx2d/O68glGCmnpiaKa9uSM4qiE1lxafnYsZH/fAHz5HWoJ2hkXHHq6GXTBzhEuRMaIG7tl5Z02jmeM07OGJmbgHbBN+4+t88pWutZeGy/7Q+lIMpfn5hSSAQYhiMb0bGp3KLK/GKoBf8hdUgj6SsAiyF0mBlWOr+s+S5hUU8RQ56LzrxlwvGGAlMA3c+eJ5y+LIpLIV1kUXBQNmF5RYuftAJhIT0CEbJL62CfvCp4mlCRlFFDXI4CC/84fP+4TGMgtktBAHIN4SKUdzfs2jz/p6b1vkicc7QbnxyGtMuMzaV+6Y3331pqIppfBORSAyLIDVx9All5AGQCIyMT57VtzmiYTY6PgV/sIoqbDyunzOwPappDg8huYEJQiOfwi6o39TWdUrHCmrBWsz4IRgop7Gtq72rh8mB4BsXv5vfn9T551ENaANeQS+bcsVafIEQLjGw8YSTjmrIv+w6eMEYiRdSKyyFAqEfPEUXzCpYfWh04oy+DT4u9A+NwovIFL85poVXE4mTkZ0XwsDWE1ux/4w+NnBmdkGhtEm458ezBrCUprmzhYuvx/Xb6bklK9y1zcEQBCDfECpGJBYXV9ZeNHbYNA0mrO+Oa6s55CnOKV1n3xtbfwupct/0F/qsjjczjW/C+OakjrWutfv84hJzkAMabmjtxMSNQGaDRAFJyZHLppjQHz5PiXgcb+nqD+XciIxmfAOvHNOy8L95f2yLL/EAjcMiYrH8uBST3xy6aAJdIZmDElo7e9ARUxnVIp8mntC2umBkF3DrATKVm1ExGNIb32wgm7Fw9sVeQg7ErCKWSPoGRxTHYDZ9cwc787yhnaGNJ1IrRfiYOFw1dfBBojY7L/fN4tLKwPDoi7qm5ynZgeEP4TCoCNJC3rM5coIA5BtCxWAqfFnfgsmU8Q0+fRvaeXkG3fFSb+AT94NnKYtLy1s/YqvcN4OlgeuzHGXrb3jjG6vvTmj73rg3PjmDiRv5iqmjD9zgGxY1Mzv/KC4N8z4m6DkYaXl1dn4xLi0H2rh++xEeY8zs3kEkE9qWrrVNbetIZ4RCBJ8vGBwZKyh7ubC0IpXKhkbHna7d0LfxyCt54eQTeuC80SVTR5gMtSUS+dUHUIJ5v6iiBp2gl+nZefhj/2n9Z8nZAoEQgURk3ym924/i0AVfIFhZ5d68/+yX80Zy3wyP4qW8F5108KIJErXRiSkMdW5hEX9n5hZm5xbmF5awikAouvskwcLFb3R8EqujFyQ9SZn52Hy3gPBdcl4isUsg3xAqhvENJkrGN4cvm2YXlmNWwiyM1EedgZFs+3ytct8MVYTyl0aUrb9h0zcHzhn+dNYQXvlF8S0WdgUm7rmFJUzuqawiFCIVeJKQHv7gOfKM/af1vjmqeUrXOvD2Q+7a+vIqFwZivgRDCvQ0IeNZSjZsdMnEAVqqaWybnJ71Do6AGAxsPOTnQy+t6Fm7I5U8jl3vd+tlQ+v84jIyHnTq5n8LyQ2avWBk/+1x7W+OaaIKlAA3vGxoQS6Ckdh5Bd95FGfnHfzTOcNvj2sd1TRHyoK91zMwbOsV9MNJXV1rtzuPYqHJsKiYK+6BGKeBrefC0jIawTCQTZ7VtwmNfIrNgbHQ78ELxveiE+l8AWIr5BtCxYgl7/jmyGWzvJLd8r2Kqn1zY6TqjmhtTtn6GxjfYB5HznHr/jOna6E2Htdd/W9GJ2ZMzcwhd8HeQGpy/c4jTXPnswa2543soAq4x8DGEw9sPYMmp+ckUinSEXjCxOHqZVMnzObnDG3xwMzpGnIOLOrq6bd2D8DMjume0zcIuSKlQ1KBFswcr2XklSytrNY1tdt5BV0wtkeWA1GhKfSiY+mKjBN2QSPImfBpAMO7aOxw1sBGw8wJWcnP5wyhMfgGQ8Wr2dzB9ggMR8sYwBk9G0gLLy66jngSDy8i9XqSkAGRIs3CIoxT/uUbtuHOY6REMjp+Q2yBfEOomN3tG35jkSp8w1xfIDlkrPa+VLj9+tCMbzDtIiHAjLyyysXMvspd27oTZLKNmbmFF7VNSHQw49c0tfUNjrR19TS2dnH6h5hZGtM9j8+HVwrLq9NyitJyi4srarCYL5AfkcJ+7uoZQP3ungHm7OeJqZnG1s6G1s7WTs7i8gpK0Mzw2ER+aVV6bnF+WRWaGhgabWjpbG5nj01Ob/4mdHh0oqi8Oiu/tORFLbtv8Jyh3XEtC6woHwSGurGB1moaW+GwlOxCjPZFXfPA8BgGwKyODUEa1NTWlVv8AhVYheUYhvy0QGZ9gngD+YZQMbvZN1KJiF2X2ZPrts0inx7dWfYvnplPD7fLpJKSBN/ZriyZVHl8ngFbig/9z1OyT+pYBUU8npiexcwrVvw0UllDAaZpqUyGfSUUioQQFNITOfJLwmw95iGvJpViOeqgJh5gucIjzCJ5C8yVY1CGv3iqaOjtWWqbqzPrIpgKAHXkaymuQTA5PQtd9Q6OIAlDcmNk57W0vMq0gEpMy/KhKkcrX39ze7CUaRZLBPIK8o2hzIZ4H/INoWIw1+xa38hk0rXFybZM+c0I2NkOSFY+N7oy7VkP7WbH+3IzE3vK7vCXRjZk8ixhE2Qzsamsi8YOP58zhHIM7bxu3n+2tKKcu3cbjEuCI54Y23sj9KzdmZ8N5ZW8ENCNTQlVQ74hVMxu9g3mV6lEPNhW0JrhIr+fTaZ9Z4ZdByLd9lOiPd2uJNqmujgl+dmd1tzr6/MDctm8+0F+cXlFcRay5eHLpocvmx3XtvS8fmdRcfmZXQjjG6drN45pWiBOaFlauPhWN7QgU9ktLxnxFUG+IVTMrvaNAomIPzXUUZP/uDw9vCA+kBXtzYr2+sPIjvZKf3w1P/lOZ03WwmizmL8ik75zcTYGqVTGFwjmF5amlZdxW1iRX03gnRxo9wBVQjk8voAZ7cLi8to6D7JRLiYIlUK+IVTM7veNfIrdkOGDPbKTzw+ZfF0Fiun6A8hblzf/BqbuLkYxYCXywdKhF2JnIN8QKmYP+Oaj4MN+W1dPW3fP/OKSVLpL8xKC2IuQbwgVs6d9I5FKE9LzDO28jO2vRsUkzS/u0uMuBLEXId8QKmbv+gaDHJ2YMrLz/va49ncndDTNnRtaOpXLCIL4y5BvCBWzd32D5Ka1i3PJxJEZ+XEti+LKWuUygiD+MuQbQsXsYd9IpC0d7Ismyitbk28IQrWQbwgVs6d90wzfvLmTAvmGIFQL+YZQMeQbgiA+CPmGUDHkG4IgPgj5hlAx5Bs1oPhRJvPL020hR1mJIHYZ5BtCxZBvdha5aGRSiVgsEopFgvdCKJXK7zLHoFyFIHYH5BtCxZBvdpQNmXR5erCjOqOmMOZl/tPq/OitUVP4rLOpfHpqfHRkmMdbh3uYgKEUV+JhkKEVeEvZIkGoC/INoWLINzuKYH1xoDKCne3IYX04alI8GyqzulprRvo7p0Z75THWNzc9xuetCQWCde6SmLco5i/LJAJSDqFmyDeEiiHf7BDIbFbmhgcbU3ryvbfdBW5rNKfYvUhwrc3wr80IqENkBiKa82931WbMTAwtzIyOdpVPtSXP9xQIlsc3pHQpaEJ9kG8IFUO+2RE2Nvhri50lke3p9uz3HPOHwc6yb0pxeMF6IJMIZ0a72rK9e/Ncp1riResLO5flKL+9oyyKeAP5hlAx5JudAMkNd7aPnesBc2xzyScGO9uxLslhbmpYLOTVZN/ksBz7C715833ywzmqBo7B26D0RV35y3qB8J37bRN/Z8g3hIoh3+wEUolwklPem+e2zSKfEw7sbIeWmiKpRFTNiuSwHHpzXdZmOb/nG/np1QreT1AUSYucbU8BU4K1ZuYWTBx8Lps6rnDXlMvebUdZpCjE382zuZmlDPLyN2xbROxFyDeEiiHf7AQSkWCkPb8n1/U9i3x6wDeOjS/ypBIx45uBYl/ewuAHfYPXa22dt7S8ClsgQdk612MRSvgCIf4yGhCJxXiKwA5k6ojFkoGRMS0Ll8OXTadm5vgCAUIoetsOVhSK5GsJhEI8lkil6zzeqrwv4ZY6GyKRmLu2vrSyurIqX8SUE3sX8g2hYr4a3xzTtMgvrcLUqeaQI5ViIlcOS4FExFetb3pYjiNVtwUrE/Jzo9+AuV4qlc4vLr2obbr/LCUw/OGNe9HpucXdvQNwAypgaOzeweSsgucp2fg7ODIOJxVX1MSmsJ6nsLAWVodamtq77z9LPqZlsf+0Hh6gMiI1p2h0fEqKt4JsY2B4LJVVhMK4tJyR8cn6lo77z1NC7j7Nyi+bnV/E5sM0nZz+tJziiMdx/rcehEXFpGQX9g2OwFLMUIm9CPmGUDFfjW8OXjSJiknCVKjmaGzr6h0YFr572EP1vslxmmiKEa3PQTLKPhRpx9Ts/O2HsQfOGx04b3jOwBbS3X9G38DGs7SqDjbi8fgPnqdg6T+Pau4/rZ+Qntfe3atn7f7PIxrfHNU0c7qGLGRqdi7k7pNfzhujzj+OaHx/UueHU7qIoxrmWQVlEAbeIZDHwQvG3x7T+u6E9rUbkeeN7NDaoUsmhy+ZpuUU8fmCuYUlR5/Qb49rodpZfZvTelfQqYNPaP/QqHKsxB6EfEOomK/GN98e1z6jd0XHyk3NoWvtbunqn55bgql588ulHfCN80xXpkSwiqyG6QIgNYl8moBJX8/aIyEjD45BhocUB3O9sf1VJCUCoQhJBupAHj+c1A2OeIzs55yh3Y9n9H3Domqb2vFCIxPq4vTHp+We0LZCeVJmPquoAlFUUTM5PYsECBuFRCenqELH0hXK+emsgb6NvLu8khcPnqXAuHgL8fiCkhe1camszLzSwrKXGIadVzASJtRRjpXYg5BvCBWzh30jlbZ0vr3f2heMfxy+bOHsOzQ6vrnfdsI3iwPl8l99vgEaGBqdwAsHkfiERiZm5mfml2G6fxKfjgwDr+Pz5GzmmM3i8go08/M5wyMaZpDNoYsmN6OeTUzNSKXK0UplsrGJKejk0CXThaUP35MbmRAymO+Oa1u7BbR2cpDPYf+vrfPw/sFI0NTE9CzSoMDwh+4B4X5hURAezIQS5frEHoR8Q6iYvesbDJKZcDfn/S8YRnbevQPDO+eb3lzX1fHmrScLYJZv6WDDH98e10JCgywHSQzi0CWTfaf1frlgHHDrARIgVIMYFpZWrt9+9P0Jne9OaNt7B3f19IvEb7OxT/fN/jP6bV0c5jQBBiwSiyUjY5NIaJhv2A5fNsNfyAaRnFXArE7sRcg3hIrZu77BZCeRSO4+iT+maXH4sinmyi8SmFtPaFtGPI7HR35m/gUq9k1OZH+Rz9osm2mcAX1x+gY1zJxgEadrN3zD7vnfuo/wu3kfjwPCH6SwCnl8AXbR0spqdGLmj2cMYKMz+jYHLxijzvjkNKMcjBgv99jktI6VK1KfuYVFqVQqkUixdI3Hk28UhKRIZRyuhvx41qCnfwhpE942ipMk5NvLFwjhNuwKEwefhPTcsqq6jLwSG88g9JiQkcd8I8eMmdhbkG8IFbN3fQMwjeGzdl1ze25xZXZh+ReJnKLKuqZ2zOxbZ1VV++beUHkwb2FQ2fobVrlrbv63kEb4hEQ2tHYODI8hOjl91Q2tRRU13b0Dq9z1/qHRkLtPkQChWlxaTn1zh561OxRl5xXU3N69zuNDGni5Z+YWUP7zOaPapvaxien+4dH6ls5nyVllL+thFtiosa3LxOHqvlO62NXIq9q7e0YnpphEh7u2rmHmDPOl5xb3DowgeSqtqrNw9t13Si/8YezE1AzeY8oRE3sK8g2hYva0bwCGio/wYrFYJPoyATAAmeydj/Aq983Iywj5ydDvgo7hDBuP6/JTBq54uPrddPW/aeHid97Q7ryRfWwqC/oJDH+ItObHM/qKV/ZF78CwpYsfTPDzOUMjO29YhElTkMcE3Xl84JyRoZ2Xe2C4vXfwZVPHU7rWtx/GLi2v3nrwXMfS9eBFE7Rz0dgB7xa9K+7Q2Oj4FDYc+U3E47jTutaGtl4ufjetXP2x4i8XjNDLeSO7qJgkJFjKERN7CvINoWL2um92Jyr1jQi+Ga9/LFqfV7a+BUz3XZz+yCcJ1u4BmubOWhYu5s6+3sF3kcr0Do4gU8GDazfueQdHBN5+iBwI2cajuDRU8AqOCIuK4fQNIn1BO1AO5BR2LwZ5CRpBKsOcg4DC1bX1pMz8qyF3vYIivILuKCICT+NSWVMzc3irSGUyPHgUm4quoSUzp2tBdx5FPI5HNd+wqLScYuRhzGiJvQX5hlAx5JudQCoWjncV9+T+xevZODa9zJeIhVXZEVOtiRIhV9n6FjY25D/qRAoyNDrO7hvk9A3BEJPTs2vrPOYYzPIqFzJAyfTcvEAolEili8sreIqYW1hCbsb8UlXRjvyno1gdjfQPjWKtdR4fbw+8GSAM1J/YEpMzcyurXCyFqIBUKkVH8nX75QOYnV9AL6iGRrAuhMSMlthbkG8IFUO+2QlkUvHyRFtvnvt7FvnUkF88LdVubLCLt7pQluS/0F+KNpWtE4RaIN8QKoZ8sxNsbMjWlqaas/27MreL5FOCnW3fkeGQEuW0sjCZHX9ntDFOxFv44JXTCGLnIN8QKoZ8s0PIZJKZ4dbO4tudeb7t2d5tWZ7N6a7NaS6fFBnuJfHe1aWZ2Yn3BhuS+KvTWy+bRhDqgXxDqBjyzc6xsbGxtrIw0F3X1VTaUVfYVJnRWJ76B1GBSGt5mTPErl+Z7hNyZ2QyKVpStkgQaoR8Q6gY8s2OIj+WLhFLxCJFCMWiTwixEJWx1oZMSt+hEV8Q8g2hYsg3XxeK08U2ZHJXvR+wl/xsNMqWiE+CfEOoGPLN1wN8IpWuLU/P9pTMdrO2BztnZaxRzF9GJWV9gvgo5BtCxZBv1I88AVGgyEWUhX8BeSswjUiwPjPa08du7SkN78l17clxfjdc+go8p1qTFDc1IIg/hnxDqBjyjfqRSqVzC4sTU/JfZW67EM6fAK4RCdaW5iYHeto57G5OVzunJIzDcuJkO2yLHpbjUHnw+lyvck2C+CjkG0LFkG/UjFQm6+L0h9x94uRz42lixuz8gnLBZyPPasQi/sri7Ngwp4fdCdmwEZ2tnMIAhWC2/6yHw3IYKPZbm+5UNkAQH4V8Q6gY8o06gSK4a+vBEU9+OKX7jyMaBy8Y5xRVKJd9JjKpZG1lbmpssJfdLtcME91d7MZCTs7vXUcHvvHlkm+IT4N8Q6gY8o06kW1sTE7POilu9f+Pw5dhnQfPU5TLPocNmWRlsmuoKa23NpmDqGEiifPiiTy5YTm+ZxomyDfEZ0C+IVQM+UadYMeOTkzZewd/e0wLe/v7kzpRMUnKZZ+DTCKc7c7h5Lq9EzlubJZzd7Zjd5YDE+zP8Y1UKpXfSE0sxiD/3GkMWEsqlV8uWvmc2OOQbwgVQ75RJ6rzjWCmK1NxkOZtwDRtWS7Nma6NGW5NGa7NGS6dWdsSnd/1DVTRNzRyUsfK3Nm3ratHIv3sc6axadz19cGR8eUVLr1/vg7IN4SKId+oE1X6phO+eesSqKUi7dqTuHu+j2PtIlPsI+K8Ih/FxgQ1prsg0XlT7WO+GRod17Fyc/YN6+rpR66jXPDJYJX8sipNM+fKmqY/oStiF0K+IVQM+Uad7JxvGjI8Ip8/DouJtopMPxFceDgg76Bv9uXA+LjogC1Zzse+TxMIhOzewcHhsXUe/yPfp8ElH1wqFktSsguPapin5RSLxR+7dQLM9NffYDKZ/DdMqvj1EvG7kG8IFUO+USc74Rt2tn13tsPLdO/gpzHeD2ONwtOPXc/7xZf1k3fGQa/Euw+CO+Ab1u/6BvJYWFwuLK9OSM+NTWWl5xbDOhKJRLlYAQyxyl2ra25/mpgR/uD5/WfJSGWmZubw5sHq2KilldWc4koXv5s/ntF39b8Zl8pKzMhLzMyvqmteXllFBYlEOjE1U1D28mlCxu2HsRGP454nZ3d0975/K+4PghGWv6xPzipIysxvbOvKyC2JfJpw53EceukdHBGKRBDPxPQsq6gCnaayijrYvShc4a5V1jSiBNVKXtSiL9LTZ0G+IVQM+UadqNw37GyHrizHF2lXWUnXI6Lvez+IcYuMtr71/MDVjH0eqT+6xUU8DO4tdh4qduhh2ffIf3+z3TcYUn1Lh5Gd96FLpgcvGF80cUjOLhAKRcrFCuYXlmJTWHrW7j+fM/zuuPb+03pn9W0Cbj3oGxyBiuCSDnbfZVNHyOabo5pYeuiiyeFLpngvOfiEdvcOoA5m/wfPUy4Y2/94xuDb49qIA+eMrFz9Wzs5WF3Zze/T0sG2dPVHgwcvmuC9elzLArvu+xM6KEF5bVM7UqbSqrqzBraocEzTAmNbW+dx+oes3QKwURiPloXL8gr3I3kb8T7kG0LFkG/UiWp9g7SmJdM1OCbe6F6hzu2Cy2G550JYpwIzj15L2++R+r1r4j6XZ4/iQwQjHv8z7bLQZN+b++H8BnkAJuvopExr94DTelfi0nIEQuHmUpFYjPTgpI4VjBKTlNnQ2llQVuXkc+OohpnfzfvIPLBRyH6Qu7j43vzpjIHTtRtoCqlSfHouUiLM+2gEUsHjiMfxKEeqUV7d4B1y94iGWXDEEz5fwPT1EVZWuRU1jRAeHAPneQXdqaxtQolvWBTEBpcMjU6MTUyHRcXAN3pXPNh9A2KxGF3HJGUd07I4oW1ZXFmDt7qyOeLTIN8QKoZ8o05U6xtkNvEJd3Qiy07dqjwWWnb4euFBv9yffTL3e6b94Jr4rVPsAdencalBG1MurxZt/3fCcrDQ7oPHbxQ+kHDX1u/FJJ01sIESNn2DAc/OL2DASCngJB5fwCQr/UOjdp5BmNw72X2ogxawCgSDTCI5q2CdxxeJxBAV0g4sQjtM+4Mj41kFZdGJmc+TsyOfJhw4Z4iWues8pq+PwLTv6n9z3yldO6+ghaVlDEMslqysrjn7hiEzQ/IEu7B7B4ztvY9qmI9NTGEAAqEIu/fAeaO7TxI+flCK+CDkG0LFkG/UiWp905HlFBT97EJ4+fHQsiNBRYf8c4/4Zhz1ST7kFf+L27NfXJ6YXb9bV+7972mbV3Nm/zdhOFFh/XvnC2AuhkvuP08+Z2C71TcQxvDYxGUzJ0ef0JHxSUYtANkDpvgD5w1ZheXwCmriL0xz+LJZKqtQcUCFQd4I/iABSkjPQ/LEfNv2ywXjH07qKuQRDA/JK/0RaN8t4BaSG2RXAoGQaR0dZReU403ref02fAPHQGNHNc2v334IJ3X3DJg5XTtvZNc7MEy/CvoTkG8IFUO+USeq9U17lpPXw4QzYSWQzYnrOabh8eGx956k3HqcFPY4MSQm6Xpjubt4yPq3GZPX07r/HdOYqTL/vfwG0zEygPvPks/q2zxPycZjRi3wzej4lJaFq6WLX0//kPyQu7xQfvpA+IPnSB0Kyl6iEI0w56fBNymsQrgB1dACCqEEvMcqahqRdmiYOV2//ehxXNq96ETkJftP69t6Bq2+6xtmMBL08e6JcIxv9p/RD7n7dGp2TqhIX2bnF8PuRR++bHrr/jO+QIgeOf1DRnZexzTNi8qrnyZknNC2RHKzsspVtkJ8DuQbQsWQb9SJin2T6eT7MOZUSOGhgHz9sMSigmDhqOe/59z/Pev67xmn/0zb/DZr/nrW8PW01uuJC/8dPjNdafqh8wU2lldWh0cnkA0ERzw+qWMFkeAx0hr5t2cy2eLyytWQu4cumUQ+SRgcGce8j1k+p6hCx8oNyRCnb5CxAt5I6bklkAq2CLqCZiZn5qCZjLyS6dn54IgnyGxuRsUsr3LRXUd3b1hUDHRl6nhteGwSamEGA9A+eqlpbMVaW9+HjG++O6H9y3mjkLtP4Lm80hcYKt6xZ/Rsmtu7MQCMBHaLSc7ad1pPx8oVejOy825s64L2lK0QnwP5hlAx5Bt1olrfdGY5Poy5fTY4+xdflmPk09kuz/9b8ni14vpqyeHVgvWrOZPXM3qvpzRej599NXLif3uPDxdZve+biakZZBtWrv7G9t6ndK1/PKN/Rt/G2P6qlVvA4/h05BASiRTvEEzcp3WtzZ19kZfYeFy/ZOJ4Rv9KTFIWd22dyUGQCVU3tGqaO58ztHP0CXW+dsPKzV/LwkXXyo3TN5RdWP7zOUMIAIvsvIIMbD2RlMBABy+a+IRGdvcOYHVFM7+OTU4H3Hqga+3+NDETwmMKAeObH07pnjWwPaphdtnUEXFcyxLayy+rEgjlyQ2q4e/E9OwlEwc0jh6xe5Hc0Pv5z0G+IVQM+UadqNY33VkO1Wke5jefH/ZJ97j/YL3P9bcl59dLdq/nLV7PGr2a0nk1cenV6Jnfho/9d+DwSq1mX67t+76Zmpm78yhO7gkD27dhaKtl7gKd8AXyGZ/H4yOB8A6OOHTRZN8p3Z/PGkI/rKIKxXF75VsFuQXc8yw567TulX2n9BCHL5k6eAfnl1atcteWVlbvP0tB8gRhYNFFYwfkTBeN7S8YYWfcRZK0eUkC7B/P63cOXzZ7FJf2vm+gQ6grI7cECRO0FJeW0zc4gmpbTwXgC4QYOWrCdo2tXVu/lCM+C/INoWLIN+pEtb6R/9Izy6Elwzknzqcqy1PQa//b/JXXc6b/GTdcazPmthhwm3Tnq/Uny41Hiix7WXY9LPv3fQNhYCoXCISYtbcGSsRiCXOYHcOWSCTIIZZWVnoHh6dn51EBa2HdrbO5TCb/OmttnYdtlF9IbZWLRlANq0ulUqFQhFRjaHQchkMdWAEhb0eEbt4eqsFjrIg6imNIbxtnfPPzecP6lg758IQiBFpH+rXt7YqlwRGPYbsb96LRkbKU+HzIN4SKId+oE9X65u31BbIcBovsBRzr32aMX8/ovpq89NvouX/1nv0X58TCS93eHFuY5veuL/BZwArYhI9nDFioPIlNWfAWlCnW/tjqDPJKW6rBTNhvNh7XmfxmYHgMCdNmasUAtYyMTfYPjdY1tx84b3RW3yav5MUnnvxGfBDyDaFiyDfqZCd8w8RAvh231fy/E9qvJy68Hjv138Fj602X1hovzVYa9LDs3lT7q775UrB7Bz2u34ZF/nlU87iWhYGNZ0p24eZJ2wy1jW3G9lfPG9od1TT/xxGNn84auAeE9wwMKxcTnw/5hlAx5Bt1snO+gVTGSq3XWw1k7Ev/03Py1+4T/OYLc1V6gwVWX4FvRsYnHz5P8QqKcA8M9wi8HRj+sOxlPd66ysUKuuTn1z3xCrqDCjCNd3DEg+cpYxPTysXE50O+IVQM+Uad7JxvEPLDM/k2o8UWE2Um46UmI4UWfTk279bZq76RH9RZ4U5Oz45PzSBm5xcEQvlPSpWLFYjE4vnF5Yk3dVB5aXl165nWxOdCviFUDPlGneyobxBsxRU82dmO3fLbr21fqvCN3170DXM4B3tPKpUH2CYboKywpc4nHisifg/yDaFiyDfqBDtWJb7ZkIrne/J7cpw4rLf3UmNnOXZmOXdkuXVke8gjy7Uzywn62fRND8tpqDx4fa5H2QpBfBTyDaFiyDfqRFW+wYf5tZnukarbvXluPSxHzh8F6iD6C72nWhPFvEVlIwTxUcg3hIoh36gTlfnm1w2ZRLA+y5lj5061JX9KTLenLA5UCLlTGzI6pEF8EuQbQsWQb9SJ6nxDEDsO+YZQMeQbdbLTvtmQySQi3tpc/9oMe22me0uw12bZwtUpmUS4sUEvLvFJkG8IFUO+USc75xvF2VlS7uLU2EDn4MtHA6WBAyUB70RpwEjV7cWhF1COch2C+CjkG0LFkG/UyY74Rn7Sr0zIX5sY7u7ldHK6O3pKbvbkODPnCLwTuS4jL8L5i/STe+KTIN8QKoZ8o05U6xsmpxEJeUtzE/2cNg6HLaerjV0UvOU86S3Bchgo8Vub7lKuTxAfhXxDqBjyjTpRqW82xCL+yvL8cF8Hh92tUA3oZrfVcPK8tptGGXv1+gLEF4F8Q6gY8o06UZVvkNjwV6Ym++r62so4LRXslnJ5NJexG/M5FVEcltN7pmGCfEN8BuQbQsWQb9SJqnwjk4rmekt7ioI4W4JddJ2Tf43DclZc0mabaZjYcd9gA4H8iNKfvZAMVmQuRvN7LSjapqvUqAPyDaFiyDfqBDtWNb6RCGa7srZdRIDNcuzOdurMcuqQh2NnluPWi9mowTdisTgzvzQsKqaiukEkFitLP5Oh0Ynwh7Gxqaypmbn334dQkUCovIcbWWenId8QKoZ8o05U6Jtt1+uEWtqznItT/J/H3Y54ev/e04j45yHVqe5dWVtznZ31DUxw7ca9IxpmD56nQArK0s+kub37lI61tVtA78DwtjuqAZgmOjHTzf/m1Mw8vUt3GvINoWLIN+pk53zTkun6OC7K7VGqYUTO6dDC49fzjvplWYRG58RdhXLeVNtZ30gU76XkrMK2rh7Jn70RwPTsfFpOcXFFzeLSyvsZDI8vgIr0rng0tnWhO2UpsTOQbwgVQ75RJzvnm5p0r1sxT+7FRNncTT4elHfQL+enq5lHrybefxjUken4ptpO+QbbNb+41N07ANMg+gZHhKK336dh6cLiMrtvECnL6PhUV89AfXNHY2sndoVYLGHebFALUiKs2MHube3kdHL6l5ZXt74PZbINdIHGdazczhnYJmcVtHf3okc0O7ewqIbv1tCFQCAcHBln98o3ZGJqhtM/1NDSWdfczukbXFnlQrGos8pdw1ZgYL2DI9hqSFEoEmEt+VB7B6dm5iQSeTVlo7sb8g2hYsg36gQ7did8053t8DLd627Mfc/7sXYR8YZhiQd9Mvd7pv3knnA7Krgjy7GHtYO+weyJtCMhPdfY3tvAxtPY/urVkLtr67zNpXiPPY5Lw1ILFz9X/1v6Nh7HNC1O6Vp7BUW0d/cwaQp0gunYytXfwNYLgZotHWysyDQCME3HprBMHHx+Omuw75TeRWMH/SsehrZexg5X70UnYXVlvR0Dr113z4CLb5iRnbelqx+20dTR54S25VENc4wqOilzfHIadZCZ2XhcN7TzwrZAity1dcjJ1e8mhmpk53X3ScLs/OJe+fdFviFUDPlGnajWN+xsh84sp5TEWwFP4zweJly5m2J8K1X/RtKl60k/eqV975q03zX2/rPgxU63dY7LeIV9b85O+QapSX5pFVxi4nAV86/+FXd8zN9cKpXJMPOeN7L/8YzBoUsmNp7Xw6Ji3PxvwTreQRGYf5lqI2OTvmFRmKwvmTgevmRaVdeM7IdpBGDX5Za8QBcHL5r8ct4Ik76dV7Cjzw20g8axurLejoEuhscmr995BFPuP63383lDGDQ08mlwxGNtK9fj2paRTxNmZufxrwkeghE1zZzzy6r4AiG2yz0gHJrE9j54nrK0sqqG0aoE8g2hYsg36kS1vunOcsxLCbK4n386/MXxG+VHgooPBuT9fC37R6/0H9ySv3WO3+8cE5MUIpty+23RUTJo059vv0Pfp2ECxQd5bFpB2cvLpo66Vm4rq1zlMsXS+cUlj8Dbhy6a+N64x+kfmltYGh6bQBKgYebc1qW8/xveitOz8109A8F3n8A3lbWNW09yQyPImYZGx5EeXTC2ZxVVDI6Mo8eJqRl0ray0k0ARGOH41Ax8ue+0nqWLX0NLx/zCEnzZ0NqJTYYmS17UQiflLxsgJGQzA8NjUCaUc+dR3IHzRk7XQjFaNaRiqoJ8Q6gY8o06Ua1vOrKcbj97eulO2YmwiqPBxYcC8g9cY/3onbHPPfk75/hvHZ+d8nqUk+P3r2n7V/OW/5k0GSuz2bnzBTCNQg+NbV06lq561u/4Bqzz+P637l8ydcwuLOfxBXjX4a/D1ZALRvZ1Te1MHRgFmdDC4vK96KQjGmbbfANksNo6z9TxmqaFS01jm0AolMrBTlXTDI4RYkNc/G6e0bdJzi7AY8W9q6Wra+vIsTDmR3Fp2HB40d47BHUSM/LWeTxIVMPMCUtfNrRs26JdDvmGUDHkG3WiWt+0ZzldfZRw5mbpseCSY9fzzlzP0L2RYBwWYxTy2OD6A9PgyOi4gMVu+//Omr+eMfzvuPZ0leXO+QZTvkQqbW7vxid9+GZ5hYvZWblMfl4ZfPNA01z+FZNQJP/1jFAocvIJPW9ot+kbgFUWl1einiUfhW9qGkUi8bZvnjDFmzldw9u1rrmd+bYNq6A1uXZU+iUV2mJa3roVgM8XuPrfPGtgk5SZD7FgkyUSKRSTyiqS+yY2DYVy77Z2ntSxtvUM6uL0P0/OxiLIVSAUqXaQOw35hlAx5Bt1omLfZDp5PYw7FVp0OLDwYnD6/fiIsVZvXr87r9+N1+8i6Hf417j1bzMmr6f1Xk9q/Hf0/GyV6c59n4bZHzKobWrDe0nHynVmbkEgEG6esoxFvmFRGmbOuSUvhCIR9gOWYgo+Z2iHTIWpA2fwBcKp2fm7TxLwPiyurMU8jspbZ3y0Y+niB29V1TVjWscilIyOTw2OjENOykqqAC2vrK5hMBiAskgB45sfz+gjzSqrqh8ZmxwancADbPVFY/viihpm65DxBIQ/+OWC8fXbj4ztr57Usapv6cAGKlvZI5BvCBVDvlEnqvVNR5bjrSdRZ4JzfvHLtbnzbLDJ59+Lnq+W3V4tOb1asH01Z/F61vD1tPbryYuvxk7/Z/DkWKnFTvgG0+jA8Niz5Oy7TxO8g+8e1TA/pml+8/4zbBo+9Y9NTPH4gvTcYh0rN7y7vILudPcOyEvySi4aO2BGhl0mpmZXVrmZ+aVYBSuaOFzdf1rf1f9WxOP4x3FpL2qbNl0iEAqDFEfsr924l5ZTjPbvRSe6+Ib537o/tyA/70AlQDaz84tP4tOvhtwte1m/VXibvvn5rKGmuYub/y1Xv5vYEAwJg4dlsTdQH6KtbmhF4aFLJgcvyq0DL+6t5AaQbwgVQ75RJ6r1TVeWQ06iv0ZI6gGfTPf7j9b63H5bdnu97Ph60fr1vOnrGf3XU5qvJ869Hj3529ARcfvZgfwdOX4DGRSWVx++bPbPo5pb45tjWloWLnh3zS8uGdl5fXtc+5tjmj+fM4RXllZWDW29vjuh/c1RTSzCZ3/sFl1rd5Rsa+SnswZ+Yfc3z65GFtXayTGw8fz+hM4v543QGlbRMHOCGxaXV5g6fx0IA1LUv+IBrwRHPN7qCcY3J3WtIE5Hn1BkWpdMHPAAQp2amVNWUjA9O48UZ/9pvRPalu3dvdI9+G+KfEOoGPKNOlGtb9jZDm2ZTumxAUGRd+ISgvl9Tr8t2L1esPy/KRNBtwm/04DfrsNr1Vxv0liu1R4utOjJ2ZHz07BRS8urbV09+ES/NWob2zBrL69yIaT+odG65vaaxtbmdvbC0rJYLO4dGK5r7qhpbOP0Da1y1/gCYe/gSG1T27ZGGlu7sMc2v5dDX0KhiNM/xCqqQEYVn55bWduEppaWV/70FQ3eB3qB4ZBXxaayBoZH389vNMyd80urhscm+gZH0Pv45PQ6j7ft6zL4L/JpAqQYGvl0D50DvRXyDaFiyDfqRLW+YX7siSynNcOpr8hR0GPzm/zUAINXk1r/Hb34f0Nn/tN3fLFatz/XpjfHdud+78mA+VQm2xJ4/u4UyxQA5fPNEuUzOXj2TiOKVpTLtoByvG8hHoSqTxRQgn7hD5hy8xpu6ASPuWvrzr5hyKhKXtSu8/jbLhaAR9Ae1sLA2L2DxvbeF40dquqa8VRZY09BviFUDPlGneyEb9iKi3UOFtrxuix+m9J7PXn59fjZ/w6d4jZq8povzL/UfSObnfWNmpGLSIHy+c6wtQu8dtNz80hZTutdOXDeyNzJ9+b9Zz39Q/gXxFQAqNPV04/yqyF3LV38vjmmdd7ILjoxY/PXr3sL8g2hYsg36mQnfMNEX67dbI3lRp/Of4bO/3fo+H/6jwhbz67UaYyVmPWw7N5Ue8c3EolkbmGxf2gUk+bvxsBw7+DI9sKtMTA8OT270/P+x8FeRaoxNDqxfWzvRp98Q4a3FW6J4cGRcb5A8HtvfiRVLR1sWOSSiSOylsumjoa2Xshytv6kBnWy8ktNHK4qjus4nje0Qybk4he2uKSyY0vqhHxDqBjyjTrZOd8genPsxsssFmoMVus1Vuo156r0hgot363zjm9W19YfPEvBBGpk5/17YWJ/1czRx8h+e/lmGNtf9QmNxHT/BZUjEolrm9ocroZsG9s7Ye9t5nTN+Pc3BBXsvIIaWju35itbwQbCRk1tXWUv60ur6hB1ze2Ki4q+3XDUWVxaxmA261RUN3D6BsV76meem5BvCBVDvlEnO+obRA8LYdeTYyf/+zat2Yx3fMPjC+LTc139bmI8vxeYxJ2v3bD3DtlW/iZCUOHGvWiBQMi0+UWQSKStnZyrIXffG97WCHHxDfv9DUGEeAXd+fiJZFCLVCqFPJDTINAvXtBtokUJyjfrKGrtmQtCb4N8Q6gY8o06UZ1vhLPdLA7rndt3dmc7dGU5dWa7dWR7dmR7dGa5dGc5sd/e/MYe9QdLAtZmuplGMFmurHIxnqHRid+L4bGJkfHJ4ffKNwMV5hQX3PyCYDYXCEWT07PbxrYtPr4hiPGpGaRKe9QNOwH5hlAx5Bt1oirfbGzIlkdq+wt95HeS3tSJMhzYisCDbYt6cpxHayIFKxNvGpGfACaVyuQXZfmzAXbDu0WxLX9pQxDYEpLNVsg3hIoh36gTVfkGE6xEsDLfWzhUETpQ4v+JMVpzjzvVviHdk8cSCPVDviFUDPlGnajON4qP9EhOxHwxf1nMW/qD4C/DTzAN0gCsqWyBID4K+YZQMeQbdaJK3yiBPDbgnj8O0gzxmZBvCBVDvlEnO+AbgtgpyDeEiiHfqBPyDbGHIN8QKoZ8o07IN8QegnxDqBjyjToh3xB7CPINoWLIN+qEfEPsIcg3hIoh36gT8g2xhyDfECqGfKNOyDfEHoJ8Q6gY8o06Id8QewjyDaFiyDfqhHxD7CHIN4SKId+oE/INsYcg3xAqhnyjTsg3xB6CfEOoGPKNOtk538iv3onWZYo7BLwLyrBAXkF+FTWC+FTIN4SKId+ok53zjUQsXFmcnRofHhvu2xbjIwOLC/MrKytcLldZmyA+AfINoWLIN+pkR3yzsSEW8vrqUwcq73BKwrqLQt+LGyWptyCk1ZXlmekpkUgoFiNEUokE40FKhNiQSX+V36qAIN5CviFUDPlGnTC+sfN665t7f8038m/RpGL+6mxThue2u3luBjvLvvzZle6m4pbq3MqChJqSlNrSNER7Y+Xs9MTk+PDC1CBvcYi/PIqW5OLZNTDfAQLlc0K9kG8IFUO+USfYsSPjk3ZeQYxvvjuhHfEkXrns88FELJWIBtpKGlMcPnRj6S3BcuzJceHkOLNZzhxEDsKlK9ulJN57dmJwnbvS8+IRJ89zoCRgbYaNdpUdfFFksg2xWCIS44+ElPNFIN8QKoZ8o06wYzl9gxYuft8ofPPNMc0b96KVyz4fmUwyNdjCzvNCBrNdMJ8QWKs11bapMIq7PN/bUdud59PDchqtjhTzl774d2vYUQMjY9mF5Wk5ReUv6wVCoXIBoUbIN4SKId+oE6lU1tzRbWTnBdNgb//zqGbI3SfKZZ+PVCJsLrjbmemwTSSfFS8SXLqaypYXZnuKg5EGDZWHrM/1ftlv1ZDMIK2Jikk6fNn0h1O6Zk7XFpdXlMsINUK+IVQM+UadyH3T3m1o+9Y3wX/FN2JhW0FYV+Z2hXxWlD+3a6/N562tdBcqfFNxg784tLHxAd/gXYHxSyTys6vxVHFgBTALlTB15Cdh/85bCCtsVti+sgKUowv4ppPT/zg+7cB5I1NHn4Ul8s0XgHxDqBjyjTrBNLvdNxGPFbP2Z6BsS+Gb9oIbXZl22xTyWVH+zLa9Nm/TNyNVt8W8hW3fp6FTGGJhcbm1i1Pf3DE6PsXnCxaWlucWFnk8PtSBOgpPSGbnFtq7e1Ftdn5BIpfK29Eyjaysctm9gy0dnLHJabFYfoLc5hbhAUyDXtq6ejo5fdOz831Do0c1zck3XwryDaFiyDfq5D3faASEPxCKRJ8e+OCPWVvZ2g74ZrTmnkwqwuTPdMGwuraeW1KJef+M/pXTelc0zJyvuAfqWrldMnEwsvMeGZ/CGwZ6eBKfrmftfkbfBoF3VFR0EgoZo2DD19Z5eSUvTBx8zhnaosIFI3u/sKj+oVFsEbpALR5fEJ+ei2aZFrTMnf1uRv18zpB886Ug3xAqhnyjTrb55h9HNAxtPWOSMj85sjAjs/sGMUdjgla1b0J6cpwmW2KVY1Ugzzmk0sLyagjg4AVjTTMnCxe/Y5rm+07pfXtMa98p3cumTsOjE0vLK7fuPztw3gjvH7yXICE8+OWC8fXbj6Zm5iBIgVCYyio6oiEvvGTqaGx/9ZimxcGLJnAJ0h1U4AuEj2LTYJdDl0zRpqa58+HLpmh/32k98s2XgnxDqBjyjTrZ5hvEN8e0vjuh/VmBzKC2qV2e6KjcN7kus90s5VgV4J0wO7/gdO0GHJOQnru8ykWO1cHutXL1339a3ys4YmZugc8XlFfXn9C2NHW4WtfcjjQFdTo5/Tae109oWyVnFazz+IMjY7ALLJJdWL68whUKRdNzC34376ORm/efLa2s1jS1IXk6a2CbU1yJBgUCIZrSNHfZT775cpBvCBVDvlEnUpmsravHxOEqcz70n4vDl0wfxaVhTlexb4pCenNdl4aqlGNVAEEOjoyfM7Sz9w5BHqP4cuxX+COnuALJim/YvYWlZQgmMPwhLJiUlc/j85njMVBG2csG+MMnNHJ6dh5pGcxx41401pUf1VF8w9Y/NHrOwNbWM6iT03fnUdxRDTNU4K6tY3VUQEqUnF1A5wt8Qcg3hIoh36gT7FhMstZuAX/FN8e1LLIKynbAN6G9ee7cqQ7lWBVIpdK+wZGTOtZeQRHQBlMokUhqGlpP61ozvllb5zl4h+hauZVXNzAHY+R1pFKkOCh08gkdm5i+F5348znD2NR3kqepmTlzZ18zp2u1TW3XQu8dumSamV+G1IdZindmSwf7qAZzvsAyU0ioE/INoWLIN+oEO3br9QX+eVTzgrG907Ubnx4egbeTswrmF5eRH6jcN335noKlUeVYFWDA45MzBraeGmZOdU3y78pEIvH03Hz4g+fwB+MbgUAY+TTxpI7V7YexM3ML8pMaROKFxeXoxMxjmhZh92Iw2rySF/tO6bn43cTmI3FBBTRV8qL20CUTV7+bcPCj2NRjmuZewRHzi0uQFiog0bkfk/zTWQNje++5hUWMhMmcCLVBviFUDPlGnWDHbr1e53cntEPuPkHe8ImB2XxufhEzNdOaan3DLrrRX+gj4b+TSWCKX+fxo6KTYBcTh6vxaTnFlTV+YVGHL8l/icn4RiyWdPX0Q0hHNc39bz0oKH9ZXFl7/fajE9qWmubOZfKrA4jmFpZ0rNyQrDheDU3PLS55URcVk3TRyP7QRZPY1BxsUc/A8GUzpyMaZj6hkUUV1VDRzagYtIBekEglZOTNKE51Uw6LUAvkG0LFkG/UyTbffH9SJ/JpgvQzkF/MefNjvop9Uxw2UnVbKuIxjW+C7kbHp/xu3octDpw3gnjw95cLxvtP6zG+wYiQsJS+qNOycDl40YSpgweXTZ1YRRV8gQBbDSf1DAxZuvhBMEwFtHBK1/ruk4TlFS5TAfnTWQPbgxeNN7vYbA0yQ/uSNyeCE+qBfEOoGPKNOnnfN3/lfgQK34SpwDc1eWuri93FYVOtCTKJMnnaikQinV9czimuCAx/6B0U8fB5alxazlkDG/+b9xffHMkXCIS9AyMxyVlXQyK9gyOeJGSw+wbhIWYppAVbTM3MpecUoxGvoIiIx/ENrZ18vhAWZSqIROKB4bGnCRlXQ+4iy3kYm9rY1pmYkZ+QnldWVT+3sAjdMq0R6oF8Q6gY8o06UblvWvP/6vVsKp7bt9Xmjw73sYtCFwdfKH7s+QHgA6QgAqFIIBROK843O6ZpfudR3Cp3bbMCEh1soDwJQxamAIXMUgZFHcX9dhSJ2rYK21p40wYDFtLBG3VDviFUDPlGnWDHqtA3MqmYU5fGznHbppBPDHa2PXKjmvSA3q7Gl8XJPWW3hdyZjQ9dOQ1z/fjkDPIMJCV3Hsf537qPN4yOlVtlTSOSEmUl4quDfEOoGPKNOlGtb5ALrC3PtBSEs7MdOfL73zh8VnRnOdQlOVbkPK0sTK3PCV8YaUCCoWz6XZBqNLZ2alm4YNiI/af1DGw9WUUVK6trSDyUlYivDvINoWLIN+pEtb5RfAMlXV+ZG2gtLE+5XhjrzXrslHHPOv2e1adEUoRNVoxfc3nCRE/12uKYVCxAi8qW3wX98Pj8/qHRti5Oayenu3dgbHJ6ncfH5pBuvmLIN4SKId+oExX7RgGyHKlELBYJhPx1AX9NwON+avDXsIpELMD6UIqyud8HVeRHUYCygPjKId8QKoZ8o052wjdAIQG0DeQH4z8nkKDIPkU2xN8Q8g2hYsg36gQ7did8o2agKAnSKe6scGVye6xOSQQr8tuDksP2PuQbQsWQb9TJV+GbjfXVhZlRzlhL2lhN1Ltxf7zu4UxHmmB57IPnuRF7C/INoWLIN+pkD/tG/oWdVMhfmxnvGxrg9HTU9ZTf7clxei+ce/Pcx+oevH+dAmLPQb4hVAz5Rp2o0zcbitszi8RAwvyG/88iPzoklUgWZ0eGYRp2J7u7i91ezym7ve0HPUz0sBx789yEq1PKtYk9C/mGUDHkG3WiNt/IFNfZTM8tNnO6Fhj+cHJ6Ds5QLvscFOchSHlrS6MDXT2cbg6HLQe+aa3iFIdsMw0Tct/kugpWxpVNEHsW8g2hYsg36kRtvsHL2tDSeUrX+rvj2vtO6YVGPv0zv5TZ2BALVmdHO/o6ajgdjQg2E23V7JexnBzXbaZRhtw3LoJl8s2eh3xDqBjyjTpRm294fEF6bslPZw3+cUTjn0c1DWw9P/81RWojne7O45RHbo+iIA7LWXGRgvdkgyDffC2QbwgVQ75RJ2rzzTqPn5xV8OMZA/QC5ehYuX72ayr/Kk063vCUw3LaFt3ZTp1Zjkx0ZTmwt4nnz/pGIBSWVtVl5Zdl5peyCsv7h0Ylks847DQzN19SWYvVc4sr/9rxKkIJ+YZQMeQbdaJO3yTJfaPP+Eb7T/pGMt7wZKtLoJauLMfSVL/UhBtxsWEJsSGsBL/WTGf2ljp/zjcbG79Oz85fMnE4qmF2+LLpcS3LtJxigUCoXPwJVNY0YnWse0bvyuZ9EIi/AvmGUDHkG3Wy133TkeV0+3m026NUs7tZ2rdYGqEZmsHJrrfvt2Y4sbPeZDl/Nr/hC4T5pVWP49KcfcN+uWCckJ6HEuWyT2ByZg6rnDeyO3DeSCgk36gA8g2hYsg36mSv+6Yt01k3siwp4YZrVNyx6wW/+OX+7JN19Gpi5nOfro/6Bo1JpVKRSAyF8PkCHl+AByKxGKPCos06eDeurfOQ2SBNiU/L5Qve3DlbcQNQWEQgBPK/aEQeikaYb8/wF8qxcPHDVq9y17BI2YtI3gvTztZhyJdutrBlGB+BGQZ6Vw4D2yKQN4IHimHIG5Eo2mcqMC0DeYm88vZN3uWQbwgVQ75RJ9ixe9c33VkOzZmuBncLTO9kaodlngrMOuCTtd8z7aBnfPxT365shx7W7/pGIpFgw+8/S7Z08Tujb3NK19rY/moqq2hxaWXrsRb0iVk6u6DsiIbZVt/MLy4hd3H1v+noExqTnBUc8UTT3Pm0rrWFi29mfun8wpJ8sLKNmfkFS1e/745r349JMrTxOqFtZWjnlZiZt7i8wkzxYrGY0zd090mCmdM1jAEtWLn5ZxeWL8iH8Qf7B5ZYXuViXcdroe4B4fdjkv1u3r9s6nRS28rKLSC7oHx+cRk7eXB4LOjOI4zTPeAWNnBllctdW8daDldDHHxCHjxPmZie3brJuxnyDaFiyDfqZI/6pjXTpSglID4+/NHzu+73Y10inzvdidYLjjvgnfqDW/IB9+fJcb6TdS7TNY4DhfY9OR/0jbSg7KWetTveacb23pjuNcycTmhbPnyegjxDWUkBMgBWYflRDfOtvhmbmA6Lijmtd2X/ab2fzhpgRROHq+bOvpdNHY9cNsUiCAnv5Nn5RUtX/2+Pax04b6Rr5Wbh7HvJxOG4lgWchMwCG4QGk7MKdK3ddazcMAxTR59Lpo5nDWwz8kq2DeN9sPr07Jyz7w2Iav9p/R/PGECcpo7XkFFhGCd1rPBSzswt1Da1mzj47Duth00IfxiLkunZefurIRj2z+cNXfzCOP1De+XfF/mGUDHkG3WyF33DznbISQ62eZhz7nbliRvlR4KLDwXkH7jG+tEr4wf35G+d4392jc7J8P2feff/m3dabLLry3N43zfoHTNvyYvawvLqsqr6qrrmNFbRoUsmZo4+UzNzykoKPugbvEuHxyZ9QiOxRXAJLNXTPzQ4MlZUUWNg64l2EjPyUJnxzXcntD2u365uaB0dn0L5RWN7W8/rq9w1JEBIYtAOBlBQ/rL0Rd2L2qZHcWnQmG9Y1NzCItPXR5DKZJy+QQwD2sNaMUlZvQPDQ6MTeSUv9G08zhvZsYoqkEthMzHIy2ZOcA82RyyWZBWUHbxgrGnmjA0XKcynbHF3Q74hVAz5Rp3sOd+M1T/pyHKKev7w/O3Kk2HlR4NLIJtffFk/eafvd0/+3iX+W8fnh92fNJV4/mfO4dW8tajHYrjY7n3fYM6FVzBBO/uGWbsHWLsFXHEPRJZgaOc1Mj6prKTgg77BWDBNRz5NOHTRxMU3DOqSSKXImZCUoPLhy6a2nkFLy6uMbyCDwZFxoUgklUrbunqQS+ldcV9Z5WIPoHEsgmOcrt2wcvVHGNl5oU2PwNtok+nrI2AYfL7g/rOUw5dMA8IfInHBGBDctfXMvNITWpY3IqMxhrX19ashd0/rWkcnZmIRBglFoZd70UncNd5ekQ0g3xAqhnyjTvaib1oyXQOfxJ4IqzwWUnLkesER/+wTfqnn/GLP+MSc8np8/uqDWw+C+P12v81ZvJo1+teQwVipTW/eO77BBIvxBIY/PK5lCRkc07Q4omH27XHt70/oGNp6jYy99Q1qwivZct/Ij99s/Y4Lb9R70Yl4f4Y/iMUcjs0BqNzJ6UNlIztvTPSMb34+ZygQKk9s6+rpR4mOldvSyirqj01MXb/zCDLbd1rvhLYVtMEMwz0gHPJgVtkEWsA+2KYHtPwwNvWEtuX9Z8mbw0BhfUvHWX1b3xv30A7kilGdM7S1cPZt7+5taO08o2+DpXjp98qRGwbyDaFiyDfqBDt2z/mmKcPN52HssZDSw4EFxwOz78bcHm70nunwnO7wnOlwn+tyloza/DZr9mpG/9WU5r+HLo2XWW/1DZqRymTFFTU/nTUwtr9a09g6t7A0O7/QNzh64LyRoa3n8NjE25pSmUAgzMwvxfswLjWHmdCZGZ/xzS8XjE/pWje3dyPPgI3mF5e8giMOXjT2CbmLysz5AugIjWAtrNfF6bdw8cPbG9kP5JSRV4ql2P8tHeyFpWW4oaii5qKJA+MbpiMGPFacjYZu3zEE4xsozdjeG43w+HwMA+teu3Hv0CVTLFrlrmPMSGtuPXiO/Q8teStG+PB5Clrb2sXuh3xDqBjyjTrZi75py3QOffzgaFDBIf8cq1sx3H6P/yx6/rbi/tuSy6sFu1fzlq9mjV9P67yevPRq7MwG59xosdV230hlaawiDMYr6E7vwHDf0GhxZa2t53VM/ReM7Isra5B84H2IPfOitqnkRV1o5FNM6H5hUZBBVX3L4MgYVKH0zXmj/af1z+rbBN15fPtRrJnTtUMXTTTNndu7e2CUhpYOXWs35C6NrZ1LK1zshILyl1oWLkgv6ps7lle4samsfad07z5N4PQNDQyP5Ze9vOIe+PNZQxOHq+ga9Td9gB5rm9oinyYgO9kqCcY3P50z/OGULvoNufsk4nGcqcNViNDWM6itqwcDlW+yTNbcwYYaj2maI4vSMHOamVvYc/+syDeEiiHfqJM955vxhifd2Q7RMWFnrmcdupbpF3Xv30ter1bcXy87vV60eT1v9nrG4PWU1uuJ86/HTr4aOrrWeHkg32bb8Ru0hCTGwNbzwDkjzMs/nTX84aTucS3L745rY2yn9azzS6u4a2u2XkH7Tulhz3xzTPOf8su+aeAxNsHGI3BqZo7xDRIFAxsPZEXnDGwxm2Med/W72djWCaUh2zCy8/ruhPY3x7QOXjTJKa5sautGhW+Oav7zqOZRDbP27t76lg4jO2/IDA748YwBnAFd4VXAKse0LDrYfcxZ0Rjw3MKitVsAerdw8d36JRjjm8OXzbQsXPWueJw1sD2pYwXxeIfcRdaFmptyQhqHFAd9QZDJ2QUQ2OaivQL5hlAx5Bt1shd9w8m2f5HiefPBHYdbD5/GBP93ye31kv3rBav/mzT7ddBoo19P1qsp6b4k7jjPa744VmLWm/OB89Mw27Z0siOfJl4NifQJjcREnF1Qjqd3n8THpeX0D40KhCJkM/eikyKexEc8fhvYP7DR2jqP8c3hy6bRSZltXZyCspdoobKmcXp2Xj6V/yq/HE5mXilaQFLyJCEdbcJSKdmFd58koJfnKdkQwOrael1zO5r1Do7AMG4/ikvKzIc/sApSn9n5RZlCCfiPx+dj3WuhkWk5RVs9wfgGEnwcn97U1lVQVpWJ8dU1o3dkNspKCvASpOUUH9UwN7T1Gpuc3ov/psg3hIoh36iTPeobdrZ9a4ZTVYp7c5bLbwu2r+ctXs8a/mdM99d+zY2eC9Luc7MvDIYLLQbyrvSw7D5yPRtIZX5xaWFpGQ8+68M+KovE8vPTMH0nZMjPW0PJZ6y/BYVLBEhfMIyPXGYNrWMpFAWZKYsUw+ALhA+ep5wztGXOwH5/FPKBYc/JZNNz86GRT5HGQajwpXLxnoJ8Q6gY8o062aO+YZTTnYXExf6/M6avZvRfT2m+Gj/3f4OnF2v0pZ2npsqNe2Ea5koEv+8bZiKWnwDwmbJYW19HKmPh4rf/jL6Vm/+juLSGls6P2OLjKIax8YfDwEJFFWUdPIBscooqzJ19fzlvZO0e8Dg+jd03iH9BTAWAOnPzi6msoqhnSQHhD05oWx7TtEAat7LKVdbYU5BvCBVDvlEne9c3TPTm2gm6Tf47dvm30bO/DR//78DhtcZL0o5TA/nW8szmj3zzp+kdHHHxDTt40WT/af2fzxke0zT3u3kfqZJysVqAn4ZHJ7QsXA6cN8KOVQzDIuJJPI/PV9aQv74bJZU1l0wcD182RbV9p/R+OmuIFGdoVJV7Q22QbwgVQ75RJ3vdNz0s+75cu7mXxvzWS9LO06K2M8u1WoP51lvr7IRvBEJhcwcbWxSbmhOXmpOWU9TdM7DtTOWdBvtDLJZU1TXHp+Uyw0jPLRken9x6NgHqrHLXC8pexqfnokJsKisuLbe0qm7zh6t7C/INoWLIN+pkr/uGCaQyvTkIW3mw7N5mNkwwvllRpW8wFkzrIrFYKBQpr7u85UwwtaEchkg5DOjn/WFgP0skks068rGKJcxpCHsO8g2hYsg36mTP+WaiMeYdlyiO4nRnOXVlu3Rmu3Zmu3RnO3VnO7x/vzXh6jtXqSH2IuQbQsWQb9TJXvKNQjjzvUU9Oc4c1ts7RrOz7LuzHRWacVaEI/td36D+UEWoRLgnj5ATWyHfECqGfKNO9pRvwIZofW6i4Wlfvics8inRm+s6XHlzbbpzQ/r2NGJij0K+IVQM+Uad7DXf/Lohk0pF62Leoog78ykhXp9HZiOXzQa9hfY85BtCxZBv1Mme880WNpSxIf+eTSaVyCQCqZi/LWRigUI2e/LwOLEN8g2hYsg36mQv+2aTDYlIwF2cXBxpWOgr2RaLA+XcqQ6paI2U8xVAviFUDPlGnexp3yCtkUrF3OXZmYnh/s6a3op7vbmu2yPPrb/IZ46TL5Mo70BD7F3IN4SKId+ok73rm42NDcHa0uzUyEBPB6e7k93ewCm7s3lO2tboYTn2FXiL1rffvozYc5BvCBVDvlEne9A38sM1YhF/YWZ0eIDTy+nmsEEXu62GU3Jzm2mYgG+Q6AhWlHdRI/Yu5BtCxZBv1Mle8438KzQed36kr62X0ylPa5joamM35nHyvLeZRhk7cD0b4otAviFUDPlGnewp38jPQ1sYbeptyOppYHEasjn18mDXZbFfPJXLhuW43TRMkG++Fsg3hIoh36iTveQbuW6k443RnByXbcFmOSkuMeDQneWw7eIC7/tGtrGxts4bGZvsHxqdnJ4V/bXbXGJdqVQmxcYobiegLCV2BvINoWLIN+pkr/mGuV7n24vZKMKhLculOt2rMtW7KtWzMd0Vynmnwru+kUik5S8bHK6GmDr63IiMnpye+yvvLphmena+obVzeWUVylGWEjsD+YZQMeQbdbI3ffPWJV1ZjhlJN0Kjn3k9jHe6l+AY8dw94vGTp8Fd8kTnw76BIWoaW139bv501sDK1X9odAIJCrPoTyASi1NZRWgHb1q8dZWlxM5AviFUDPlGnex137RnOV95kHv32QPru6nHggsP+ecduJZ90T++JNGzO+tNlvOub9AMXyDo6R86omFm7uzbPzQqFOFNJ0cK8yi+F9usiacoZJYqlqPC2yQGS7FdYVEx543sYB08RhXE1k1704KykW1dfBxUk6+rCOUDRRtMF1gK8L/NOkyZvEQmY1ZhipTN7X3IN4SKId+oE+zYPe2btkxnzYhS56hEnZuZRwNzIZsfvTIOeyUkRPt2/o5vAFpaWeWe0LY0svMue1kfn5YTEP4gKOJxYXn1KndtM03B1L6yulZaVRcaGe17415kdGJLB5vHFzAzOMY/OTOXkVcCaR26ZOIeEB6bykrMzEvKzG9q62J8gOl+em6huLIm4km8X1hU0J1HaTlF41MzcAbTxUfA6nyBML+0Cg2yCsvRdQqr8PrtR4G3H6LTmbkFhcOkC0vLeJqYmZ+ZXzo6PoUS7OqSF7VYC321d/cKhF/PD13JN4SKId+okz3qm64sx5ZMl4YM96o0r4CHMb73n16999jkRuwvV9N+cE/5xT02PtqXk+c4UODQm8P8/uYd3wB4Bb5h7sF8+JLpMU1zpDtHNc09Am+PjE8ymcTk9JzTtRuHL5sxi/D38GXT0Miny6tcJnV4npJ9Vt9m/2m9H07q/nTWANY5qmGOBnWs3NbW+RgvanoHR6AEb2MsQqCOrWfQxPQsfKQcyu+A1Vs7OSd1rH65YIxA7wg0hZFgwA5XQzrYvQKBMC4tB41jQ1AnJjFzbZ3X1N59Ru8KdvWhS6aegbfHJ2eULe59yDeEiiHfqJM96psX6T6hMbGGkYUXw4vPhRacCso5EZB10Cd9n0fKdy4JB9xiWGl+G9Mev467TL207839Xd98f0L7pLZVcMRjJBDx6blmTtd+PGMAo8zOLyKBcLwa+vNZQ2u3ACzKK3nx4HmKjqUrJv170UnctXUMZ2h0IjoxU9/GAxax8QgMfxAb+TThfkwS8iRkN+hFIBQhzwi68/jh85RUVlF6XomN53W4IbfkhVgsQQvMYH4P9PI0IQP/Fr45qnlCx8r/5v280hdprCJn37DjWhaOPqEj41MYg5v/rQPnjQxtvZADwZRI3bAJ3x7X1rN2R2qFPa9sbu9DviFUDPlGnew939Q/QXITE39X42756ZsVx0JKj1wv+MUv5+ermfs8Ur93TfzGMfYXt6cVeVf/Pe/8asGW3209WAjlfNg3RzXMoqKTYBeIgS8QdnL6MUfrXXGvrG3KKarAnH7oogk0U1RRXVRRk19WFRzxBJuAOpy+IQwHSQ6UEHr3KbKcpMyCldU1NCIQCuESdIEKmP3HJqeLK2uRCaEdyAkJE9zwLDlb+AnnYSPHgva8g+/+cFLn9sNYPGbGOTQ67hZwC96qqGnk8QXdPQMaZs56VzyQD+GfD4aEcR68aPwoLg27/Wv6t0O+IVQM+Uad7DnfjNU/ac10CYmOOXnrxbHQsiPXCw/65/7sk/WjZ9oPbonfOcV+5xhjEnh3qsXpv3PWr+ZMNwaMRktte/M+7Bt9G8/m9m685ZhCCANWQHliRl74w+eY0Ped0kNicUrvijx0rU/qWv9wShcPSqvqmVUw+9+MenbB2D49t0QoFDGFDDLZBgwR+TTxgpE9di+2mgns5KeJGTDHH/oGu2hpedU3LOqohnllTSNTH3/hORgLY8MuhW/W1nn3nyVj38YkZSG5aWrrOmtgi3Snu3eAaeergXxDqBjyjTrZi75pynC79ij2OGQTVHTses6V28+S02/k5QTlsAJzsv0Lcq711Lv+e9Ly1YzRqymd/x3SHCuz/j3f6Fi51TS2IdVgCheXVyIexaE8lVUI8Ry+ZHpC28r3xr2Qu0+YQN4QHPH49qNYZELMKpu+ScsphkJQwvhALBajC3jrjN4VJEyxqSykRxl5pc6+Ychvot/zjXzjFGx1EJ7CN9duRO07rQeXLK2sisRioUg0PTsfePshCgvKXiKXQnctHWwdS1cTB5/G1i5Hn9BjmhZPEzK+pm/SGMg3hIoh36gT7Ng955uWTJfAR0+OBhUdCsjTDU0caLgqnfb697zH/865/XvG8T/TV36bNXs9a/B6WvPVxPn/6Ts/Vmq11TdoRiKRQi3HtSx+uWAccvfp5PQsZn+BQNjQ0olcxNDWs6q+ua65Hao4omGWnlM8NTOHKR6Bmo1tXZW1jUgjmNaw4t0nCcgnniVnQTACoZC7to51swvL2X2D/rceHLpoUlpVtwBvcNeQcLj4hmEnPIxNRVKydQ/AGaPjU62dnK3fgOGBwjf3/nlUE0kVPFfb1FZWVed/8z4Gb2Dr2Tc4wkgLKkKKg38sFs6+P501vGzqND0zjzaZdr4ayDeEiiHfqBPs2D13/KYzyzHyScTRwNxDvtk+96J+nff6bcXj1YrrqyX7VwtWr2aNX0/rvp68/Hr87KuR48K2C0OFV7Yev4Fs8kurTupaYRL/9rjWvlN6cIytV5CJw9UD54zkB2yeJcMZMMe96ETkIj+fM9SycEEFU6dreDf+dNZAw8ypqq6JaQ3pRdnL+qMa8rPXrNz8rd0DIAZoTM/aHZp5FJd28KIJSpx8bqAE5d+d0P7mmCb2M6y2wl1jbIG/E1MzUAjyEnS6eQYz4xvfsKhvjmn9/+2dh18T6fq3/6X3bG/u2gtWkN57702pgiBYUEQEUXoNvReRIr2m0HvvLZ095+xvV3m/yURExFX3xOwi9/W5xWTmnmeeJJPnmjuZzKAn6Bs688NZ/Z8vGOrbelbVNaHWYTLxroGr9G08vzyu+Z2sGMrCw2Qa/5wg3xBKhnyjSvafb+THp+Ul+liHPboUkBgWFfbHovvWkuPWgs2LabPfxw1/H9H+vyH13/rP/tZ76t+cE9NP9Xry3jheAHv9RRU1Fi5+utbuJo5XbTyuaVu6XTR2QE0A5Tx4kjYztyBblVS6urYRl5Jt7HAVgrloJEvAZmnq5HP/cSpqnVetIW0dktCycEUCMtGavXdwdmHF4tIKShbUT5iFxTVMndC+lVuAgZ2XnrWHw5XgxeXl176ZnIYtsOzj1Oxti2z75oyuNRSC9br5h7n6haE84vYNCoWi7edQ3tt1/7D7eAXRyamZuTc+mPtcIN8QSoZ8o0rwxO5H33SxHCpTPBJi/UtSPF/M22/NWW7NGP82rC/h6oi6Lws7Li3WacM0Y2VGPXnWu35/g2EYkphfWBqfmoFalldWeX2DNQ2tz1s6UGSgV4wDZJnyb2KmZ+eb2ruq65vrm9oxyiN/Zw7A7Q2+oHdwuL65va6pvX9oBAUKkwPWN/icnoGn9c0tnZyp6TnUNHDVxPTs9u9GGSRSaU//UHN7t6z9V9PRCHzjeyMSFVh9cwfubiNrmkmSgynzC4vewXdQALEKy4Wi/+kkpP9YyDeEkiHfqBI8sfvRN+xsu26WfRfLnpNn92LafGvaYGtS68Xoxf8bOLfRqrHZfXqiwoCXa8PNsUXy2+cXALLGXikBUpGdJkaMMX+PLmEi5mGzRDDnh1HM2IG8EaTJ2pGnvM6RzZJKsax8YQbZKWd25gBZGtixLG7wBUIIzMo94LimeVwKq72bt8HnY3kmAeA2ypqWDnZtY2t8eu5ZfdszulbNHexdByN8NpBvCCVDvlEleGL3o2+2oyfP9td+g5fjl1+OnXs5fPL3/mPztVqSzlNDxaYK2bzDN/988HC5vQMGtl6HLxl/e0oHLjF2uFLb2AYrvUqQfTZYUF6NHE0z59M6Vt+e1jl8ycThynU82+Qbgng/5BtVst99w82xGy614ndo/dZ7+ve+I//Xc1jYpjZZqf9aNoh965vZ+YWrIXdtPYOs3QNtvYKuBEcMDI/ufN5wu4Pd4+5/084rGGk2HtfsvIOjnqT9jxf1+cdCviGUDPlGlex33yCgHF6ubW++9UCheX+BpfwLmx2yQexP3wCULxsbfDx1q2vr+LvBF2DKTpHgtlgsWX+Vg0AWZLNdA31mkG8IJUO+USWfgW/YsrBn5ziwcxxlf2XX99zremtL+883skf8Jjtlw7BnzttpnwfkG0LJkG9UCZ7YfeMb2dAqmWxP4+Y47LzEp/zAAceubJeuHLeuHNcullM3C9Z57RturmNv8RXR+pyiGWLfQr4hlAz5RpXsK9/IjLM6zekr9ZMr57VRXgUk9GZlI5/YU+Ax3Z0jFX8+l4E5sJBvCCVDvlEl+8w3v25CG2szvIWB6rmekg+J+b7ylfE2MX9pU/p5fqVxoCDfEEqGfKNK9ptvGDY3JSKI54NCItzcpI3nM4F8QygZ8o0q2Z++AZuQzvtDdjKBz/Ob84MJ+YZQMuQbVbJvfUMcRMg3hJIh36gS8g2xjyDfEEqGfKNKyDfEPoJ8QygZ8o0qId8Q+wjyDaFkyDeqhHxD7CPIN4SSId+oEvINsY8g3xBKhnyjSsg3xD6CfEMoGfKNKiHfEPsI8g2hZMg3qoR8Q+wjyDeEkiHfqBLyDbGPIN8QSoZ8o0rIN8Q+gnxDKBnyjSoh3xD7CPINoWTIN6qEfEPsI8g3hJIh36gS8g2xjyDfEEqGfKNKyDfEPoJ8QygZ8o0q+fx8s/mnKJKI/Qn5hlAy5BtV8jn5BjqRSsQi4YaQv8ZfX15dXtgdK4v8jXWJhC4svV8h3xBKhnyjSj4j38hk099ZXZF8tfiRU8lj55K43VGeEjwxzNvYWNtYX5NIRMhXhFSCzsjrHylakV1/miqhfyTkG0LJkG9UyWfjGzhjfXm291k0O8eZk+PIyXHYFexsh+fJtp3VSeK1qeHe1tH+9rGBjrH+jpG+jpFB3uzMlEgk5K/OC5YnROvzUrGAlPMPhHxDKBnyjSr5PHwjEQsXp/o7yx+0Zbpwsu052XZ7RjfLrpPl2MFyactyast0wt/WTKf6ZIdnmUFD3Abopq+tkFMcOFx7b3GoTiJaV7Qu+6TuV7FYLBAK+QIhtk/FVELlkG8IJUO+USWfh2/Wl6e7yu51sRx3CeYDAx56muS+NDcpWFuoYwWzcxz7Sv3W5/p+3VT0UCrd7Ob1ZeaXJmcVlD6tZyZ+UvDkbPAFdIDDLsg3hJIh36iSv8U3iKPqJvfjUqIep35gxCZlFlfWLq+sSvbaElZnB9oyIJt3VjZ/Huxsuy6WU1VhEn99uaEskZ3jxM1zXhpp2JQqShlskzGJmWf1bA5fNLbxuPapNSAWS+qa2kPvPcJLQ1v+Tsg3hJIh36gSVfomReYbPeZl/ddRDbjnw+OncwZqejZpOcVCoUjR4g7WZnhs1m6LfFSwsx3TYgLXVxebq7PYuS7cXKel0aZt30gkUjav/87DxB/U9Izsr+BJAxIgv8HkbCM76oCZK5Edh/C2nDBBlvAqRw6yFGm4wRcI7j9OPX7ZvKSqTigSMSmyjANf7ZBvCCVDvlEleGJV45v1DX5qThHGa+ZlRfy/I+ofHv86qv7NKW1LV//Vtddfq2wD3+zyx8cGfJMaHbC+8so3eS5oc/uQAYz0AqGwoaXz8CVjA1svvkCIbswvLi2trG7wBTs3TmSKRGI82MWl5bmFxZXVNYFQ9EaC3F4bfD5mIQEVG0yMRkQikdwom1DQ8upaWGTczxeMWAXlS8hYXUcSOoAFkaBo6EBCviGUDPlGlajMN9hPr2loPalp8dUJra+Oa350nNCEq66G3MXorGhxB0ryjf+2b3pLfDYWhxWty8ET1drJwdZ40cg+JjHT0M7rlJYlbgffedg3OAIDIQeqWFperXjW4HAlGHI8qWVhaOf9KJmFZ1gskTCqEAiEKJWu3Yq+bOZ8QtP8gpG9k0+oT8jdbl4fU+5w+wY9r91S07X+7rTOOQM7Y4crpk4+EG1sUhYMR74hCGVCvlElKvMNBkoMl9Hx6Rg99W099W0+LozsvV39w7u4skFZ0eIOlOsbTq7rYNUNwfKEonU5jG9Q3zCfBMIW5i5+OpZuv1w0UjdxamjtlD3AhaWHiZnYYiEbM2dfC1d/bMaHzhtYuQdOTM1I5Nswp6ff2j3w+GUzGAs38BfW+emcgeyjQtQ4InFjW5eFix8Svj6hdVrHSsfKTdfaHc9A0O3o8cnpA/5GIN8QSoZ8o0pU5hsg3dxcXllDNQBtdHF6Pyq4vQMzs/PYNvbcwVeyb/LcRuqjhGuzitblbPvmuzO6HoE3UasNDI81t7OvR8T8cEbPzT98fmGxsPwZ6pULhvbx6bkd3TzUMaVP6+y9g38+b3jzQfwGn492yqrr4adLxg4JGXn1ze11Te0PnqTh+UeDYrHsmxoUcKh1vIJuQ0J4LaCflg42Vj02MSUQCqm+IQhlQr5RJar0zadD2b5xn2hJFG8sKlqXs+2bk1oWPQPDYnmZhdEfNQcEg3Knrqkt5G7sNye1zurb+ITcvXbrwbVb0QE3o1CZwRxndK0np2UC6+b2Wbr6H1E3Qcni7HsDuopOSC+seDa3sLi9kQsEwruxycc0TAvKqpkVEQzkG0LJkG9UCfmGiTd8k+8x3Z0jEa4pWpez7RtUJ/DB9ga5uraOCuaikUN+6VPfG5F4Gr8/o/vzBaOjGqYQxlF1018uGiFOaVsOjowhf2V1DSXL7eh4G49AiOr4ZbMzulbG9lfqm9qx5TNtkm/eBfmGUDLkG1VCvmFip2+4BZ7zfRVSsewQAAbUMUKRCJ745aKsvukfGoESRCKxUCiamZs/p2+HzbW+uf12dML3Z/Q8Am/VNLY2tHYiH8HcaO3iLi2voB1s27FJmXAPyp2R8cmmtu7gOw9hHSwlECrWiBt4FY6qm+QWV/IFAtmKRCKsEdMP+BuBfEMoGfKNKiHfMLHTNz2lAbIfe0pe/9AHz1Lf4HB0fPr3anrfnNQydfItfVrH7R2oaWh1uHL921M6rv7hKFzqmtr0bTx/OKsXci8WmmHz+htaOlNYhUG3o69HxCwuLa9v8EPvPfrutI5bQHh1fTOnZ6CxtSssMu6EpoWrXxiMwqwOdnmcmo3ayDv4DtbC6ekvLH+G2+bOvnMLiwf5KxzyDaFkyDeqhHzDxE7f9FeFr051b//YE6DCgGzU9KyxNR67bKamZwMZHL9sjhLktI6VtXtgezcPGoBOWIUVhnbezIdpJzTN8feYhtlFI3s8wzOz83yBMDIu5ZS2JQSDppCAdk5oWRjae1fWNopffZ4mkUjQIBR0+KIxVoc0rOuCob299/XZefINQSgP8o0qId8w8co3C81PM4fqojYWBjelr784wbPU3sVLzMiPS2YlZRVkF5ajKPEJvRd0+2FiZv7I+KREIts+IQKYqbmDDTn5hUVevR4REB4VEZPIKizvHxqFRaCKbm5vVn7Z49Sc63dirobcRUJ0QkZbFxfFzU6RiMWS580dETFJfmH3EXceJuaXPh2dmGIOqj6wkG8IJUO+USWfiW9me7v/x/PZ5DhlPb6xtjxflRsz0hQvWp/bPlknkIlELIYS+AIBahTE8srq9Izs/ACYsvNn/7iBzA2+ADMnp2fn5hfX1jfkpwZQ/N5Tdp5pgRAJi0srkzNzqFeQgIk7ZQNk7YjEmIV2ZubmV9fWhULRdiMHFvINoWTIN6rk8/DNyuxgY5oT+y+dr5ONYNm1Zti3Pi+fnx7Nj/Oe5pXJP0w70CP7PxPyDaFkyDeq5PPwjUiwNtJR0MFyQpUDeXx4dLNsu7Js2zJssx+6D/dzUqIDhhueiNYXSTb/TMg3hJIh36iSz8M3m5tSIX+V15Rfl+HTnnu1I+9Doy3nSnWSW2KEa1J0UGX6jbmBWolwbec3N8Q/CvINoWTIN6rk8/CNjE1IR7IpFX9sSBEShESKxTelsu9qqLj5p0K+IZQM+UaVfD6++RuBonYFGevTQL4hlAz5RpWQb/4nUBCJhWLB6luxhhly8RDKhHxDKBnyjSoh3/w1NqUQDX9uon+ks3i4JmK45s6bETHWELM81iwVC8g6SoR8QygZ8o0qId98JJuy74mk0rXl2eG+Th67nVMTz8lx2HWMNYKb4zD0NHxtmktHHygR8g2hZMg3qoR88zHANBIBf31imCszDYfN7u58l28QPYWe8/1VO8/DRvyPkG8IJUO+USXkmw9DbpqN1YXZiV5OK4fTDdWwu7vYna3sinvv8g0v322ut0wqeX2eaeJ/hHxDKBnyjSoh33wAm2IRf2lufLi3ndPVyu5qU0RHI/t5DqfgCucd5zUg3ygd8g2hZMg3qoR88142N6WrM7yBulhuZSRnZ5Tf5hT6cHIcd2lmO/4X32xuboolErEYf16fnI0g3xBKhnyjSsg372VTKl4aaegp9NjpEtlZ17LtuxEsReAuJu7M+V98g9eltZNTUdPA7R2Q0CU+X0G+IZQM+UaVkG/ey56+6WQ5tGQ5P03zzk/2z0v2q0z1as506mK98cHa/+IbVDaeQbfV9GzuxSZvX4eNIN8QSoZ8o0rIN+/lbd+gjilMDXCLTte+XXThRpFacL7atSyb8JjiJK+dJc6f+IY5qBqFiwT/yT4wk6GYJ58rFIlC7z0ydfR5kpbD38s3yJGdgUfegnxpWYOvbsiDWcWria/WpFgcyDNlCUwvcFcx4wOQN/l6jfJGZIHbigym/Vc5r6fI+sYsxkz7OMg3hJIh36gSPLHkmz/nbd90sBzvP4m8FhPnHhl/OrjgsH/+z1dZh7zTwu6FdmQ5bCvnXb7BWLuxwZ+encMzPzE1s7yyKr8EjmR7CBYIhYtLyzOz89Oz8wuLy/CBYsYONvj8yenZ4VFZCxt8AdqYX1hCU5AT/sNSmMJcgwdTsILRiSm0hjfX9kiPEgpLjE9OoxtIW9/gf6AEkCYSiZdWVrFG2dV9BMKpmbnR8Uk0gp5s52A6ejG/uLTdMtaOKegbOgdFMZkfBfmGUDLkG1VCvnkvO33TnW3fyXJoznKJfHzPMTLF6naKxvWMQz4533tlfueW4n/7RmuWIzfHnpvzTt9gpO7pH0LV4ht6z8kn1PPa7TsPEx7Ep3F6+uEVjMvQQ1VtY3jU45CIWJQ4sUlZfIFiEGdA6TM0Op6cVegdfMfeOxh/41JY9+NSr9+JuROdkJiZfzPqSejd2Mi45ICbUVeuR6RmF917lOLieyMg/H5FTQPcg/pibmGRVVgedv+xR+AtZ59QpKGRwZExvPsUq3k36M/z5o47DxOxxtjkrKSsAt8b95hGkrLy+4dG0QjWgrdt+P0nIXdjH6dmQ5+QaGNrF/qGx4VleweG/8KbmnxDKBnyjSoh37yXbd+ws+0bMt2TE+GCu34PHlnfSba8mWAS+uRH78xv3FO/dk4Muhc68MxlptFpqEz2Rc6evkFF4hcW+eNZ/VPalrpW7mf1bL45pf3tKZ3HqTlCoQi+wb5/REziUQ3Tn84ZfHNSS9PMGZWEYmF05tdfUUb4hNw9fNH4mIapjqUb2vnyuObXJ7S+OKaBpfRtPLHgv45qoM3jl81/uWD0g5oeEs4b2B1RNzGyv9LJ6RFLJO3dvGMaZpilpmvNNPKjmj7UhdrovUXO0vLqo2TWicvmXxzV+P6M7jcntU9pWWpZuJ7QNP/5ghHENjqOWmrOK+jOd2d0sV2h/ZGxSdRb8Wm5WAv6dviSccWz529f1fS9kG8IJUO+USXkm/fC+IZX4ImyxjcmWT+iSONm0fnQgjNBuScDso76pH3nnvaVc9KXjk/CokNWet3+O+Uk6rPtzbftKdjDN9i2tS3dLps5F1fWNLV11TW1RcalaJg65ZU+lY2/v/6KKmd0fLKhtTMzvxQbv5a5y7ZvMDrj3ZGRX4ph3dbzGoqVbl7f85YO1EkY2dX0bFJYhZ3snoCbD+Azcxe/0qd1V0Pu4jZeX6wI9cdxTXNMRH2zuLSCKqr82XP0B8VK6dP6C4b2J7UsOL0D73UA+jAxNROTmAmfYb1eQbdRuHRz+2ob21z9wo6qm6AsQ0HT3MG28bgGGyVl5kM2IpEIkjO094YCUd7Nzi+iG4oWPxjyDaFkyDeqhHzzXhjfcAu8clKCNO+Un7xRdex62ZHAol/8cg9dyfrRM+0718SvnZ584/jo/pMg0bDjyznr3yfNxqusegpc3/ZNB7vH1MkHgzKUI/8UK7viWUNbF3dmbn7n9zS4zesbRNmhbeG67Ru8WHyBwOlqCMSQL/OT7PM3oUjE5vWfN7TDW6alg427KD6OXzbD6zg3vxj1OBVFT3peCQqXyEcpGOsLyqqlm5sCoaitmxt0O9rE0UfPxsPMyRfywHutqb3rA2uOsur6cwaylWL7QU8wBd1rbO1UN3FEt8cnpwVCYWp2EUqZgPAoFG3oWG1jKzrmeDVkcHiMWeRjId8QSoZ8o0rIN+8FvlkcaeAUeD2Kv33xZunxkPLDgcVH/XNP+GWc9k06dfXJca/YEx7RRgERDRUev09avpwx+mNMb+65SW/hHr4RyL+eMXP2Pa1jdULT/PBFY9QfJo5Xse+PLV+R9A7fSKTSjQ2+kb036qHm9m5GDBi4J6dnrd0DdvoGLT+IT19YXI56knbssllOcSUaQSHF+EYoFOUWV/1y0Rh1EubCXniXoRvoDEquD/fNeQM7N//wnUc0TM3MGdp5HVE34fYNSiTSvsERbFpYBco1zLp2KxprQd2GTn7gWnZBviGUDPlGlZBv3su2b6LiIs7dKD56rfhIQJ7FrfgMVkhL1dXOau+Op57sZ24TrQ6/jppvTRtsTWr+MXJpqVGvt9Bll28wyMIixZU1/UMj7J7+0qq6mKRMG49r2Mi9gyNQECABrwjeAht8fhe3F9UAyqC5hUUYQiwH9Q2GeBgCo/ba+gYG7vUNPjRzTt8WbxlICI3EJGaiprn/OHV+YQm+we3soorFJdQ3yRAM3NM7MIx6CO4JvfsI8nve0pFVUIYWfr5g2NDSIZYftrDdYfhsgy9Af3YdUSavb2xhxMraxunZOfgMf9Nzi8+iJ2Yu84tLqKLQ25TsIpjV2j0Q+biBB9vTP6Ro4uMh3xBKhnyjSsg372XbNwlPQs9ezz/sn3/+WlpeYch/Z9xfLHm8WHJ7seDwYs7q5YzJyyndrQmNrbFzfwyenqvZwzcYyiNiEn86qx8e9RgbeTubhx3/h4mZano25i5+GJ1RE8zMztc0tBZV1MSlsH4+b3ha2xK2gJkaWzuXV1ZFInF2YcUPanooiXKKKpvauzGOW7r5f3tKG2+ZxraukbFJ3xuRh84bXrkeAaVFPU47fMkk7H7c4MjY3dgkLHjnYWJh+bNjGqZYaV1TO1xVWdOAXsFtmBuXLDtKbbtewQ1sHhl5pYUVz6AQZiID1ntW3+ar45pY8HpETHRCesDNqDO61riLfKaCwdY1MTVj4eL31QktdA9ySmYVQpCKJj4e8g2hZMg3qoR8815efX/jWZZyRfN6xjE/lk5wfGe978tl960l560Fu5ezFi+nDV9Oar8cv/RyRO3l0PH/9hwfKjZ7+/sb+CYyLvWncwaHLxnrWLnBMUb2VzBqXzJxRIWBLR/VSfmz57rWHqgSUMQgE4Gy4LyBnbmzLyoDVBvTs/Mhd2MxsqNGweIXjRyYNLxlYK+0HFmFceicwVk9mydpudEJGRCAmq41yprIuJTvz+hqmDoVlFU7+4YevmhsYOdl5uSDKcc0zOC2H8/qozV4Dt1gOgy9YcEzOlbI7OT0MhMZZPWNvq2GqTMeBaR4VN0UOrFyC0BBs7K6xrxhmfIoNbsI3fvmlDaqHGxseBKYFv4C5BtCyZBvVAn55r0wvukp9GzLcox6eMM8NNblZmRfo9fWkuPWvPXWrOm/h4z+3a/7716Nf/PO/8o5I+06NV+jxc2xfft4aIy/Hd28xMz8+49TXf3CzJx9bTwCQyJiUGEsLa9IpZsikQhSeZTMuvUgfmfcjk5IziqYnJ5FAYTxempmDlWOd/AdjO/uATdjk7IM7by04JuWzi5ub3R8OvKjnqSh+qlvbo96nPogPo3dM1Bd34ym4tNy+4dGOL0DMYmZDleuo4WrIXfROAoULIVlUUjt9E1LJ9sr6E7Y/ccj45PMRAb4BhZEFdXezauqbUTNVFHTwOsf2uALtj+OA9jABobHoCK8kRMz8v/azzy3Id8QSoZ8o0rIN+/llW88uln2rZlOdemuDZku8232W3OWWzNGLyd1pD06Uo6GpPviQp3OULF5f6FFT671u35/IxSKVtfWl1dWmR//wxwLi8sCgRADMYZpgO0fCYvLKzsDNpKfg0D2gxWAZORg2bGJqdHxKW7vgI6VO0oQyAyLo7xAPlaBZhHLq2vyw5HFGxt8NLW2ti4UiRCYiFIJjczNL8q6JF8KEwVC0fbbDZ1CC3MLS+gkWmYmQiboQ+nTunMGdv5h9xeWltc3+NAMLLX93Q/+ohGJRILHi9INtRSMODE1w8z9y5BvCCVDvlEl5Jv3su0bKIQJXq7dcqvlS/mhAVvjF14Mn5Gyzwpazi/VXe7JtXmdtpdv/ndkvpHIXrWa5y3V9U35ZdWu/uFH1U18b0TOzM4rkj4lsAhE9SA+/bimuY3HtfLqel7fIASmmC0H72L0sLahtUL+8eB3p3WvR8TAN4rZfxXyDaFkyDeqhHzzXt72DTfHbrrW/LchrZej57aGT7wcPCLuOLP8XGOqSo+bY7ud9ol8g5cMhdGV6xGyr23O6h86b4Bx38kntIPdI/5LP2r5WFAkRcal4I357Smd78/o/nzBELXL4PCYYracmbl5F98bzNHekA0C+Xdjk6i+If5ZkG9UCfnmvbztG0Rfgc1MjfFG62VR+zlR+5n15vPTT3V786125ny6+mZtfaP82fM7DxNuR8dHxCSlZBcODI9uf5b1qeELBE1tXfcfp95+EI+IiEnMyCtd3nHSHYAellTVQjBMzu3oBOS3dLAVs/8q5BtCyZBvVAn55r3s6RsmeLk2fQWW/QWWuLFrFuIT+eYgQ74hlAz5RpWQb96LzDejTT2FnjtdIru4J8uxK9u5K9ulK8e1K9upi+XA3nW9tQL3ud5y8o0SId8QSoZ8o0rIN+9lUypZnerqLw/k5jggOK+Cne3YDc3IlOOMG+zs17OYzL5SPxRGm5I3vkgn/hfIN4SSId+oEvLN+9nclAhhnKze4is9Be6oWt4bSOst8ppsTxPzlzY3adNVGuQbQsmQb1QJ+eaDkClnbX2ub3msdXms+QOiZX2mB4tgQUULhDIg3xBKhnyjSsg3H8ymTB4oVj40YBqSjZIh3xBKhnyjSsg3f41N2e/nJevLs/OjHbM9pbM9JTtjrqd0cbCWvzS+KZWQdZQI+YZQMuQbVUK++QtANiLB+vzU8GBvJ68ugZvrzM11fDOcegq9xlsSBMsT9P2NEiHfEEqGfKNKyDcfhayskYiXF6aGert6uGwOu5NTkyA7Jm3HYdDysOfk2PeV+CwO129K6fg0pUG+IZQM+UaVkG8+EPkHaFKRkD/a38Fld3E4bDa7m93dwal+tJdvZEG/91Q65BtCyZBvVAn55kOAagT89ZmJgR5Ou9w0cro72W21nOIglDK7TMME+UbpkG8IJUO+USXkm/eCwoa/PDnSWcxrzOU05LG3oz6TXX6Lk+si+/TsLdkgyDdKh3xDKBnyjSoh37wX+fnTGnuKrnByHN+MvTWzHeQbpUO+IZQM+UaVkG/ey6vzdb5x/rTubIcOlmNbllNzpgsCNzqyHLp3nT/tHb6RSKWDI+O1jW3M9dMUU4kPgHxDKBnyjSoh37yXPc8PXZvhef/JfdeoFMuIDLNbqfa34u5Ghz1Pd9mZ8y7fiETi6xExWhauA0OjEsk7N2yoiEFx/9Mg+1XqKxST/sGQbwglQ75RJeSb9/K2b7pYDrHxEX4xCU73ktWuFx4PzD/il33cJzXyQXDXjhJnT99gUBcIhLae1w5fNG5q6xKKZBdvfnu4x12xRIL3Ati18WMWpjDLyO7iRZRNkQUz5b0gTZYvS5ddmlq+FgnMt3Px7RzFfWaKPHamqRjyDaFkyDeqBE8s+ebP2ekbtuyTNPvWLOc7cfc9ohLtIpJOB+Ud8s39wTvrO4+0gDthrVmOnBw7WezlG4zU07Pzz1s6tC3dvjut+yiZ9bS+uaaxtaG1c2RskpEIhn7ktHdz80ufxqfnZuaXYu7M3ALeF5gLV3H7BmsbW1s62LPzi5iI5Ma2rtrGttZOzuLSimJN72ZtfYPXP1TX3F7X1MbrH2xq787IK01mFdY1tU9MzQiEst4uLC13sHuQ0NjaNT45jbVs8AU9WKqpDavuGxxBifa3WId8QygZ8o0qId+8l23fQDadLMfqDO/CVP+bsfctbqebhqcYhCb+CNm4p33jmhR4J7S70GmwzKEnX1blvO0bFBGxSVk/ntX/11GN/3dE/YujGl8cu/zl8cvfnNL2CrqNsR4vB/xx7eaDH9T0vj2t8/N5w5/OGRy+ZBx488Ho+BQWHx2fVNOz/uq45nlDu/Jnz1fX1m8/TPz2lA5euMumzo2tnYo1vZvmjm49aw+s8ZuTWuomjj9fMEJ/sLrvzuhiM0DJhT7kllSd0rb8+oQWpvveuLeyutbF7TO080ZXvzyuqW/rOTk9+7e8Jck3hJIh36gS8s17YXzDK/DsYDnFJUa4R6fZ3Ms0vZ1hEJamF5KsdS3hO4/0r12Sv3KMD40Kmet0Ew06L7ba8XLtegp2+wb1C+qSe7HJp3Wsvzmp7RF4Mzzqye3ohLuxSWXV9ahsUDQsLi2nsAohmIiYJBRAUY9TTRyvHlE3qXj2XCKVLq2sRidkaFu4XjC0xyLrG/z65vaw+3HqJk6XjB0aWjoUa3o3KGJQzVw0dvjqhOYvF41c/cIep2bHpWR7B9/55YKRjce1noGhTk7PlesRP5zVP6llUVJVh+IGFrweEQMz/XLROCEjDwai+ob4HCDfqBLyzXvZ9k1Zmq/hvZLT4U+Ph5QfuVb8i3/+T1ezv/dM/8Y15Uun+C8d4u48ui4Ycnkxb/fbuOVwmXVPgeuexwtAEpZuAYfOG0IVG3w+NnixRGYaZq5Uujk9O1dV25iUVRAdnw4TOPmEohJiFZYz74K5hcWg2w81TJ3Kq58LhSKJRDo3v4jy6AN9AwQCoYvvje/V9ByuXO8bHMGq0fLoxBTcc1zTHBXY2vo6p7f/opE9fMPp6Uf/RCLRnYeJhy8aX7sV/XfJBpBvCCVDvlEl5Jv3At8sjjRwCrwSE8PVb5WdCKk4GlRy2D//F5/sX66kH/JM+sH1yQ/Osac8HuTk+P5n3OblrNnv44YztWa9hXv7BsO9lbvMN01tXdjad47cEM/k9CwqHoz1p7UtT2ian9K2/Pm84b+OamTmlzEHs80vLqHUeO0bqXRhaRnlyIf7BktBLT9fMEIhtb6xgSnwB18gLH1ad/iSsX/Y/eXVVT5fcCs6HtVM0O3oxaWVLm4vyiz0Z2B4DPph2lE95BtCyZBvVAn55r1s+yby8b3zYSVHg0oPBxScvZbheufBvZjQB7FBUQ8DYx/5V+V78vtsXs4Yb03p/jGqudRo8E7fCIXW7oHwTUNLp0AoOz4NmpEdIyaWLC2vxqfnYZQ/ftnMP/x+XAor7P5jQztv+CYjr0Qmp81NuW9i1U2coAdYAZXHzNyC57XbF40cnjd37Kw8cBs2ksgOPdt5oNmvQpHI1T/sp3MG4fefLK+sikRiTEFNg8rmqLppyN3YjQ0+lhkZnzytY3XR2AErQqV1VMM0LDIOWlK08ndAviGUDPlGlZBv3su2bx49Dj8bUnAksPBkQFZM6q2NIY//znv+tuDx25zLbzN2/zdl8WLKcGtSa2v84h9DZxfrdXoLXd7lGzzhGO4Ly5/NzS8uLq+MT850cnrrmtp7B4ZtPYMuGNpnF1VMTM2MT053sHk+offgG7gHpsHrtbC4fCMy7py+bWZ+6fTsPOqhqrombUtXTKmsadx55BgsgoSh0XEssvMdxPgGr/URdZOI2KROTg/Kl9ikzB/P6qubOFbVNjJiQz8fpbAwUdvSTcfKHRVVN68PsxSt/B2QbwglQ75RJeSb9wLfLI00cAs8c5L8L1xnHfHL0QxObH7m92LJfWvZbWvRcWveemvWZGtKb2vi8tbY+Zcjp/6v7/h4hdG7vr/BFo5y4fBFY1PHq7cexIdHPXa8GnJW31bX2r2nfwg1xBkdK8er128/TAgIj9KxcsOI/9UJTV0r95jETDhgbX0jPbf4lLalmbMvxOMReAvF0A9qeiiYrobcHZuY2n6zjE1OB91+eMnYITEzDyUUMxEwvvn2tM5JLctjGmYoYk5qWaB80bJwfZyavcHnMy3g79TMrLqp0zentL8/oxv5KGVxaeXvfSeSbwglQ75RJXhiyTd/DuMbXoFnQ4aL252Hav6pBtcfcRqubC27bC3abc1ZvJwyejGh82JM/cXI2RdDJ/7oPyJoPduTZ83L39s3eM5Hxif9w+6jjkGFcUw+0HsG3UZNs7y6xu0b9A29h2IFQoIJzJx8HK9cN7D1Mna4cv1OzLrsky4JFg+6Ha2ma413x3lDO3vvYBuPQEM7L+/gO72Dw9tq6R8avXI94pyBbWRcCuoeZiJgfAM/3XmYcD8uBfUT0u48TKxtbOPzBYokOXDPw0RZ3XPJ2LG5vXvnh3V/C+QbQsmQb1QJ+ea9ML7pKfTsYtlXpnokxQVkxPtOtTpvLdhszZm+nDYQc/XFbG1Rl8ZKk9bMM72pKv3BIvN3nV8AYNQWi8VTM3PPmzsqaxqqahtbOtioS1C7YDrEMDoxVdfUXv7sOd4IbF7/4MhYB7uni9M7PjkN2cgXl+B2bWNrRU1DfXM7vNI7MNzJ7hkaHZdVJ6+ssMEXcHsHahpaUejsfAcxxwscvmRcUlm7sLg8OT07MTWzsrqGt97ONKxodW395oN4vAdRh80tLClm/H2QbwglQ75RJeSb9/LKN6/PZ8PLs1tus9qSHxrwclzjt/4Lm5xz4o6zC7WaPbnWr9Pe4Zu/F4lUuryy6ngl5JeLxnklVYtLy5DcrsIFVltb31hcXunpHzqlbaVt6fasoeXvPVKAgXxDKBnyjSoh37yXt33DzbFbaDR7Ma69NXZxa/TMi8Fj680X52u05mq0uTm222n/TN+gDLJw9v3utO6Xxy//eFb/rJ5NWk4xKiHFbDklVbWXzV2OqJv8dM7gi2OXvz2lY+nqz+0bVMz++yDfEEqGfKNKyDfv5W3fIIZKrDY6dP/Te+633pO/8Y78m31srekC8zHadvwzfcPm9bv43VA3cbxgaI/Qt/HMKarY5ZvK2kZTJ59Lxg5MDpI9r93qHxpRzP77IN8QSoZ8o0rIN+9lT9+gxOnJtR0qNp+oMJysNBgqNuXl2uxMQPwzfYNXXCAQrq6tr6yuIZgDEHZ9noacDT5/ZU2WgECWQHZut7/5YAFAviGUDPlGlZBv3ovcN427rreGYGfbd2c7sHPkgRvZ9uw3E/6ZvmGAYBgU9/dCkSFHMenvhnxDKBnyjSoh37yXTalkebytt8SHk/362jYy2bAcOllOHSwXRCfLuYslU852ApJ7i7wXBqqlEpGiIeJ/hnxDKBnyjSoh37yXzU2pYGVy9Hk0L9+Vm+vMzXXaDk6u83bsnI40Xp7LSF0kf3Fkc/NvO9vY5wf5hlAy5BtVQr75ADbhDMHy+FxPyWRb8kRr0nsDabPcQv7SGGojLK5ohvifId8QSoZ8o0rINx+GTDmbUvGmRPShgeRNbLQkG2VCviGUDPlGlZBviH0E+YZQMuQbVUK+IfYR5BtCyZBvVAn5hthHkG8IJUO+USXkG2IfQb4hlAz5RpWQb4h9BPmGUDLkG1VCviH2EeQbQsmQb1QJ+YbYR5BvCCVDvlEln8Q3m5sSkWCsr7W/o6q/s2qg6+mbUd3f9WxjdfE///nPysqKYhGC+ADIN4SSId+okk/hm02pZH1xrCXH91mCTU2CbU3irrB7luhYX5b622//nZqcFO1Adm3L7Wt/4a/sBv1ekngN+YZQMuQbVaJc30AVUol4fnKgqfA2O8epm2X3jrCvfGLfWnTreU5oU34YE89zw2sKYpYXpvnrK5N9jZOd2bO84o2FYdRKitaJAw/5hlAy5BtVomTfSCUTA+2d+X6dWfZs1vaZkveIrizbjgybndGOv1lOzXmhU2P9CzNjvIpbvHyPgfJr63O9itaVCh44qimBUMgXCAUCIW7/c866T7wL8g2hZMg3qkS5vpEI17tLwuQXg9ktmLcDQtod2fYtaXZtVQn//lXaWJHanuXCzXWaaE1UtK5U4Jj03GIbj0BzFz9LN//IRym7rnFJ/AMh3xBKhnyjSt72zZ2HCeKPQCKWSBSvzubm2sJYb9k1mGOXWj48ZMtWRc/PTtdV5rZmuXGy7Ufq7su/yFEyQqHoVnS8vq3nBSP7Q+cNnHxC19bXFfOIfyrkG0LJkG9UyS7ffHVc82rI3Q52z4cHu6d/fnEJTW1ubs5P8HpK/Hcp5GOjveTO2MhAbWVea5Y7J8dhvOkx01XlIt3cXFxa7mDz0nKKLxo72F+5vrpGvvmnQ74hlAz5RpXs8s3/O6J+QtPC0M77Q8Pe29TJJ+Ru7NDoOIodJfnm9g7fOE535yj6Kgd1STevr6iiBjE0Mi4UieCJqtqmgrLqYkwZnWCuxo+aa3J6tqjiWXRCenRCRk5xJdSCnMLyZy0d7A2+QHZow+YmFm9q79axcrf3fu0bzNrg85+3dCJZlt/JFgiwWhHMWlxZiylP65rmFmSKJVQM+YZQMuQbVSKVbo6MTW775q/FUXXTxMx8vkCgdN9wc50X+p8q+ioHVvC8dvucgd1ZfVtYBHfrm9q1Ld3UdK3PG9gVlD+DGaCc8akZv7D7Z/VsfjpngDitY6Vl4XpK2xJTbD2DRsenmNaQ2drJ0bX22OkbeIjbO2Djee2MrjUWdPG7MTg8Nju/6B8WdU7fFivSt/Usq65nkglVQr4hlAz5RpVgX35uYdHVP/zL45rb/vjYOHzR+MGTNOX7huXBzXNdmWhX9FUO6gyUFxDkt6d0UrOL1tY35heXouPTLd0CDp0zyMgr5QuEmAjZHFU3MbTzepyanZZTbO7s+4Oa3hfHLhs7XMktrlxZXWNa29M3eE6WV1bvP049om6CNuPTctdREAmFKG6OXzY7dN4gIDwKRSGTTKgS8g2hZMg3qkT20ZNEgmEaO/6Hzhv+hfj5vKGulXt7Nw8mULpvePnuGwtDir7KQUEmFqPDJV+f1EphFcIE2DaWVlYTM/LQmfTcEqhhcGQcNjKy95Z/dAYEC4tL5i5+/++I+q3oeGYRprU9fQMkEunS8oqFqz9qI6xFLBajbKptasPWeN7QbnRiClupIpVQIeQbQsmQb1QMlCMSidu6uNmF5Zn5ZR8VWQVlBWXVGN9lx6hJpcr2jWdPoZdoY0HR0Vegw1g14xvmmxioArXOLxeN0nJLoJOy6vqvjmteu/VAfuzcJjqGjQqLwDd3Y5N2/tTmXb5BApZFIYWqyNo9YHxyemZuwffGPRQ3MUlZaHW7BUKVkG8IJUO+UT2y4VUswUCMvfiPDYBBnWlEub5py/YaqAyVCF9rYBt4Dr5JziqAXbDeZdQ3mfmob9JyizEFnvjqhKZP6L2V1TW5B6UCoTA+PVfum2Q8UqYR+aMWowbStXa39w5GMqaA7bkrq+uOV0PO6tsmpOdlF1VomDrp2XiMTU6Ta/4uyDeEkiHf7FMwQCvbN95jTY+log3FCnbAKiz/9pROdELG0soqNpjGti5X/7Afz+onyQ00PDpx+JKJlrlLcWUtqhZIEdWboZ3Xtm/gC7lO1uYWlqrrm7UsXK3dAyGSpeWV9Y2NbeVApg2tnahwtC1dUQPBZ9mFFVAXM5dQPeQbQsmQb/YpyvdNzpUZbpFUvMfP/iGJcwa26iaOXsF3nH1CIQzI4OsTWrgBQ8AxsUlZxy+bXzJ2wFyoSMfS7dtT2oxvsIGhIKuqbbLxCLRw8dOxcoOofrloZOrkA+tcDbnbxVGcQQdpS8urATejvjml/e1pHSRMTM0wxRzxt0C+IZQM+WafojzfML/3zG3P9Vkaa9mU7vHN/Oz8QmRcyvHLZj+o6X13Wgdq0TRz+f6M7glNc6hIIBTNLy49Smad1LL8/owepv90zkDfxvO1bySSvJKqQ+cMsCxEsh1ojTEWsxY8ItjlaX0TbAQnZeaX8gV0zpu/E/INoWTIN/sUpfpm8Fl5TluuD39pbHNzj5deIpEKBMKe/qGq2sbWTs7C0vIGXyA7FE0ghEuYYwSEQtHUzBzk8bylY2J6trD82b+Oatx/nCqbLf++CvnrG28EczAbWmDWwvgGAvv5gpHDlev9Q6Nom5lF/C2QbwglQ77Zt2yuzo/2lgVxsu13KeTDo5tl11XxYGZqoio/rqsoSCISYNRXNP8mmAwZwA3vOlpsbX1jZHyyb3AEWurm9V0JjoA20nNLFLPfDVrDRjg5PTswPMbpHbhyPeKbU9oQ1fzCEvnm74V8QygZ8s3+RSLa4D19wM523GWRDwx2tl1run1bdepgX3d9TsgEu2jP4uZDgDNaOthOPqFmTr7GDlcuGNn/eFbf8WoIr29QkfFuUP+MTUwF34kxdfIxtPPCgvCNubMvGhSJ6Gc3fyfkG0LJkG/2L5tSydw4j10Z1ZblzM1zfRUuHxKcPJeaBLvsh54lWQ+byhNGu0qEG4vvKm7eC3zT3s1zD7xp7R5o5RYA8UTGpXSwe4TC91+9DcuOTUzfiIzDspau/uYufgiPwJsdbJ741UdtxN8C+YZQMuSbfQ0G6+X5idnh1tmB+kneU8QEp3ycXfrnMcEune59Nsqr43U1Dfe2L0z2imU/u/mLsmFY3+APj0309A/x+oeGRse3z2HzIYjFkvHJaV7fELd3EIGqCE1t8GW/9VFkEH8H5BtCyZBv9jubm1KpRCQRC8QiviyEGx8SEpFAIhaKRUKJWCSVKOFqm1L5qXpQkcgOR5N/yaOY8QFg7RKpVLasWBG4+1EtEJ8C8g2hZMg3xEcDP2xKN6WSTan4rZD85S+BiH8a5BtCyZBviI8FhdHGytzGwvD6/MDO2EAsDIvW538l5XwWkG8IJUO+IT4QWVEjlawvz81MDve1lfSWXe8tvrIr+kr9x5vjhaszKHQUixH7FvINoWTIN8QHsbkpWF+enRoZ4HVwutvZzaWcgiu7DrBmgpfnMssrkorpvGf7HvINoWTIN8Sfg7JGLBIszI4PD/TwOF0cNpvd3cluKubke+0yDRPcPOexpkdSMV+xPLFvId8QSoZ8Q7wT2SdoEv7a4mh/Vw8Xpulid8ujs5Vdl8bJddllGia4uU6jz6Mle51nmthfkG8IJUO+IfZGJhvR1GA7t6Oe09nM6Wxid8ijvYED2eR7cnIcdpmGCfLNZwP5hlAy5BtiT2AbwepUb7EPJ8/1jch15eQ4/clJ28g3nw3kG0LJkG+IPdnclAhWJnqKvORq2R1dLIdOlgNbdpt889lCviGUDPmG2JMdvnntkk6WIyv5euTje6ExD4IfRIU+iIiOCalLe+OLHPLNZwP5hlAy5BtiT972DaqZ0jQ/1+hM3+gnp0JKj1wrPuyfd8Y/zT/iJvvDfCP/BY9Udl0D/Ce/Ls7O6W+zKw28bmF73ptnvXmdIJ//Gnke/jAJYDthdxPvRr7sdlffWNF2I9vty6cpUEz4mHX9EyDfEEqGfEPsyZ6+SU26YXY3J/Rh1Mngwl/883+6mv2jV/p5n0fv9Q0z5q6tb3B7BwornpVU1Q0Mj27wBZgukUhW19b7Bke6uH1jk9PV9c3Pmztm5hbYPf35pU9bO9nMVd3QCFrA7cHh0eLK2tySypZOzsLislj8+uRvSNjY4HN6+rMLy7FsN69/dHwK7bB5/bPzC5iL5A0+f2RsAmtBTkVNA9YrEAg/RAPI4fMFgyPjXdzenoGhmbn5Tk4P1lJSVTs6PikUipgrA62srvUODCNnaHQc68L7C7NwG1N4fYNLK6sfsq5/COQbQsmQb4g92embLpZDB8uxNcs5NSHE/E6mUXi6TmjqSf+M7z0zvnFLOeX1iJNjz8u1Q3Bz9vYNNrPxqRn/8PvHNc0PXzJGHNMwC733CBpYXF65/TDx+GWzny8YXTZzOXxRNkvfxlNN1/qXC0antC3jUlh8gQCj+fzC0u3ohOMaZlj8l4vGR9RNLFz927q4AqEIYzichMZuPYg/qWWBuWjntI7VJWOHYxqmyL9k7Di/uDw5PRt2//EZXevDl0yQgOln9W2TMvMhifdu80jIKao4q2eDfqrp2RjZXzl+WfFY0NX4tFw0IpZIbkTGndA0//mC4QVD+8z8UoFQWFBWfU7fFkuhwyF3Y9c3+PtFOOQbQsmQb4g92fYNyprK9Kt3Hke7RaXa3U21up1sEZ5gFPLklG/yN26pXzolnvR8ONvsxO91mW927CvcwzfYo8dAb2TvjaFZ19r9SnDElesRWuYu2NgcvK+jGsjIK4UDvj2lDbtYuvphdP7ujC4GcbeAmxi7dSzdUKPMzi14Bd3GOK5h5uwecDMgPMrM2Qdzz+hatXfzUFnMLSxGxCTBLhjor4bc9Qm9p2Xh+uNZ/a9PaEEPWCOqq+HRieA7McYOV2w8r1279cA76A78oW7q9LS+WSh6z6V6pNLN5y2dtp7XflDTQ5voCdpBN1z9w7BG2OtBfDqUk8IqxF08Fh0rt5qGVjTb1NalbeGKRwT/xafnvndF/xzIN4SSId8Qe8L4hlfo1ZLlEhYXe/F25Zkb5SeCS44G5h/2zfnJO+M799SvnBO/cHii5vVgjev8x5zjb5M2k89seHlOow2vfQPZiMWS2KTM78/oufje6Ob1ra6tIzg9Axi7UcEkyssLF7+w79X07j1K4fYO+N6I/OWiESqGqZk5Myef8wZ22EQLyp5ivD6pZZmWW9zWze3k9FbVNjr7hGL0d/IJwSD+vLkDgoGcntY1of3lldXG1k5UIV+d0IyMS1mWVzAbfMHA8BhaK6mqLSx/lltSBXUdOm+YVVDOF7znBDx4IFgLyrEzOlY/nTPwCbkLU8Jh6Hzp0zp5xeMNtWC9CRl535/RdfMPR/UmEAiXllewFixyNzZpbX19H32BQ74hlAz5htiTV77xrsnwtL3POnmj6lhw2eHAokO+eT94s751T/vKJQmy+cI+zik0XDJs/3LO8uW08UKTeW+B407fYFvCmGviePWohmllbQMzEWD4rm1s/eLY5aDb0bPzi67+4T9fMKprahubmAq9++isvi2KAwzl9t7BuF1WXX8vNhlqQQFk5xWEiQg772B9G8+vT2od1zSfmZvPLqzAKC9Ty6vvSMRiMe6ixIHtoBNMRA2UmV9q43ENzsDqmA/3sFRaTjFUxHTsz4FgUBJdNnVG97Yvdw2jhNyNhQ6zCsr4fAE6A/NdMLIvr65f3+BDhCe1LC4ZOwyPTeyvdxb5hlAy5BtiTxjfcAu9q9K99W/nHbtefiSw6FhArmnY48CoiBsPw0Mf3AiNCnnwOJBT5/zHtPnWtMHLCe21VoP+IvvRhgc7fLMpEAp1rNyOaZg1tHYyJsBfiUTayen54piGf3jU9Oz8+3zzPCImifENygjYy8TRB3+NHa4Y2HrBH+NTM9lFMt/cf5y6sLSMDRirQF0V9TgVS8UkZUInGPrhg3P6thcM4aw74fcfyz7Ws3BF5fGxvkHJhfKIuQIpHgjqmKshd+EbFEx4sIic4soTmubewXc6unl+YfcPXzRGH+An5uHvF8g3hJIh3xB78to3aV76N1myo5/98uxuxfY0+SwPeq+PeK4Pu28MOomHbX6fMN2a1tuavPxy9Pxaq3Z/kd1O32CEFYpE/mH3UWfciIxD8YG7QqEILgm4GfXtKW2UILjt6h926LzBs+fNI2OTIXcfqelZV9c3Y7qdVzDG94qahhRW4bHLZno2Hq1dHG6f7JrTCG7vIKenv6d/GEM88i8Y2hvYeXF6B1DNoKjqGxyx9ghEAYSxHrKZnp1z8glBqYESB6XG1MwcMv3CItGxFFYRRAJJMX0GEolEKDeHWH5o3DaMb+AwSzf/usa21bX1mbmFmKSso+qmZk4+bV1cvKGwLAzq4H0d63ILCFc3cdSxcp+cnt13byvyDaFkyDfEnmx/nlab7m55K+kX//zDvqyC3Gv/mff6Y9HjxaLri3n7F7MWL6aNXk5qb01c2hpVezl0YqFOuzff4c3vb2QfqUEJxzRMf75gaO7sG5uU9TAhAxUPCgv8bWzrKqmqu2Dk8M1JbaerodX1LSF3Y3+5YOTmHz42MY3a5Xs1vcBbD2oaWlDQoILRMHWKiElMyiy4+yjZ8WoIygh1EyfUNNDJ9YiYQ+cNz+ha341NvhubpGPp9vUJLYSsvtngz84vugfc/FFN/+r1u4mZ+ZAfmvryuOZXxzX1rD1Q+siOHHtVfnXz+sycfaGWpraunUUJ4xs47LszurDOLxeNoCsEVpqRVyISiZAMUMqUVNZ+d1oHmehzdmE5FLuznX0B+YZQMuQbYk9e+carNcspNOqOWkD6Kd+UunLfPxbdt5acthZsXs6YvZg0eDGu9WLk0h9Dan/0n/g3++RYmbHseIG3jodGwVFV22jicPWUtiUMcULT4rSOlYWLH7a9mbl5uAGlCWoabIdP0nLuP069YGSPsqCDzfMOvoNMK7eAuqa2xtYua/dAjOxMC6geMOu8oZ2rXxgqIQzxA8OjV65HqOnZyBPMkXlUwxRigOE20AORqKquSdfKnekDFj+rb3vewA6NnNO3dQ8Ih0sYJeBvWXU9MjErNbtwpycY36CrvjcijR2uXjJ2QD/tvYIraxqhNEUSWvj11/6hETxAFHAGtl4opvbje4p8QygZ8g2xJ4xvmN/fPE11v/sgNCDiZvdTjxfzDlvzskMD/jtkIO3RkfI0JN0XV5s0VhrUp6r0e/Ksue/4vadEIsGwW1j+LCYxMzY5q7SqjvkNpkQqxXTo5Gl9U0Nr59z8Yu/AMLbJ1g4OXyDoYPc8rWtCtbG+sSGWSFDHlD6tgz8i41IeJbNyiys7OT1wCdoHaG1peQX5SHicml1Z24BK6Ii6yePUHOZHnSgyevqG0nKKox6nocSpa2rn9Q9V1zdXP28eHpuQSBSbPWyxsLiUU1yZkJ43PTu/syxhfAOFcHsHlldWxyamJmdmYTI8CrSvSJKD4swr6Pbxy+YprEIspZi6ryDfEEqGfEPsyU7fdLHsO2Q/+XSYqLN7MWO+NSM7NOC3QQ0J+5Kg/aKo4ywv10YWObbcPz2fDQZ0DM3MlysoRzBGYyJGaYzVYrEEm6L8uw9kSXEDgen4J8uU/3QfYMvEklgcjkE78l/1y+Yx7SMBikLBNDI+OTQ63tbF9Qi8dei8AdyG1pCEBFkfhOgD2pD3QYIVibFqtIy5TDtA3gexSJ7BTMFcLAA1nta21LZwfd7cMb+4jFZkvXyzA/Do1MxcSVUtSihzFz8oE6tiEvYX5BtCyZBviD3Z6RsmuDl2k9VWLyb1tiYub42dezl8StqttlinKek8uZ0jS3u3bz41GPlRIV279cA94Kaz7w0zJ59jGqZmzr7DoxM7XfLXwJuisbXzyvWIH8/qH75kbOUeGHT7Yf/QKASmyJDn5BRVeAffcfUP07P2+NdRjUvGjokZeWvr64qMfQX5hlAy5BtiT972DaI333ajQ//3wfMvBk/+0X/kN94RcfuZyUr9nTl/r2/KntZrmbuc0DQ/ftnsgqE93NPezVNKeYE3RVl1PXMqAQRMZmDjyeb1vembzQfxaWp61lg73kqHzhuiJ7ei41dW1xQZ+wryDaFkyDfEnuzpG5Q4PXk2QyXmM9V68zXaME1/oQUv1+aNnL/PNyhiNviCxeWVufnF2fnF+YWl9Y0NiUTyvxc34M3GFxBLK6sCgXDnmwU5a+sbmIO1Mznzi8haQx8UGfsK8g2hZMg3xJ7s6RtF5OyIXbP+Vt8AVBgoOMQSCRPYkpUiG4bXjcu/XmJaV8x7BabJvhPazlF2H1QJ+YZQMuQbYk82N6Wi9bne4is7XcLOtuuWXdnTqYPl3MFy6WQ5d7Ecu1mvExDcPOfxlgSp+IN+rk/8kyHfEEqGfEPsDYQjEaJS2ekSBJsF5djLwwF/2bJ4I6Gn0HN5rHlTqji3GLF/Id8QSoZ8Q7yDTRiHvzQ63Z091hQ32hj73hhrjEVlszDwTCJcx7KKZoh9C/mGUDKf2jcYtP4ERRLxT0Ve5KyJNhaE63OvYw0xK4+ZN2MWmfJP0uiV/Rwg3xBK5lP6BkKRyr43lf1sTrgrmJ/2YUVKdBvxCZBf8X9TujOkErFELJCINqCiN2NdKuJLJSIsolia2M+Qbwgl86l8s7kp4q/MDHf1dVS11eY3VWc3PX0jOhrL+3q5Y6Mj8/NzcBK8JAvZyU1kB/MA2ZglG7Zo5PrnIHtdJGLh+urCOK9muOHRSN39XTHWGLs4XA/r/Eqfp+1/yDeEkvlEvsFO7nTv006WIyeHCYdd0ZbpWJwVMzbE43S1TI4NTI0PImYmR1aWF9fX19bXlqEriXCVPpz554DXdH11cWqsj9fdwmku4xZe5eY4vB09Be7LYy2bqHKIfQ75hlAyn8I3YuHGUGdZX9VtTrb9ziOXdkY3y74szqGl8GZTfnhD3o1GeTTl3+ysTuJ1Pl+YnZjob5nqzp3h5K3NcKUSIX1E8zeCunNjbXl2aqy/p5PLYXPYXeymEk6B967XlAlunvNEayIdD/0ZQL4hlMyn8E1PY3ZTmuOuw2Q/MNoz7Guzb4wPcxdmRjoKgjg59kPPbq/N8DY39+UvtPc98g/QFmbGhvq5XGiG3S2L7g52Qy4nz23Xa8cE92/9vSehRMg3hJJRrm82N6Ui/iq70J/97srmfWHfnGbf31rw71+ldUWPMIWX7zrdlUWfz6gcvJiStaWp4d72Hk47p7uN3fUqmis4paGyj0l3v3ayIN98NpBvCCWjXN9IpZKZEXZP0Rs/Sv/Y6GbZsqvjxCL+s5JU2ZQch4mWBNlHam/CfMAmP7ZAgXzybnZOVuS9lamYKkcxaQfMdOY4hldTmP9fI0+RHbwFFJP2OXg0wrW5vupITukNeYQpoiSEk+8p+xLuHbsUn9Q3eHblJ5WRHfWIG4qpxKeBfEMoGSX7RiIe623iFux10q2Pia7KGKFgvaYkDbdl9U13tuwo2x0wIw5zSLVAIFxdW19bl12PSzFbDoZ+TMEDZKbjQfEFwvUNPqbsHKgwbPEFgj1bYEADmLWyusZc1ws58sHujadIJBIhB41gFZ+HdeAbwcpkb5H3q0M8dh738WfF6yf1DZ729XV+axe3nc1bWllVTCU+DeQbQsns8s2h84bR8Rnsnn5u78CHxWDvwPDK6joGWbQGK4z1NHILPHeNQR8bO3xj31t8ZaG/avv8KNDDzNxCWXV9TnFl6dP6+uaOFFbh3djk6IR0TBybnIYPMNzDROhYQXl1dlFlfln14tJKc3t3QkZedELG07omyAMjF9IWl5abO9gp2YURMYmYVVnTMDw6IRIp1oUnZ3p2DhOjHqfeehCfmJGHRnJLqrDqimcN45OyiwQLhEI2rz+3uPJBfPrd2CR0pqq2qb65nekG085+ZM/zdXazHOoyPItT/XKSA7ITA3ITfUtTvNqy3vhg7ZP6BrsX41Mz5/RtzZ19O9g8xVTi00C+IZTMLt98efwyc7ncDwxDOy9zF7+krALs3WN4/RS+6S8PXBlvQ9PbHa6sbTx80fhfRzVgx2MaZl8e10RZ9tM5/Z8vGPqG3hsZn4RKUMdEPkrGrP93RP27M7qRcSkXDO2/PqH13WkdNV3r6ufNTEXyKJl1wcj+29M6v1w0+vGs/qFzBu4B4RjIGH1Ozcxdj4g5om6CpQ5fMsbfM7rWXx67jFWf0DSHdYQiUUsnR8/aAy2gM2jk65NaX5/UxroWFpeZRvYpb/uGnW0H2QQ/euLxIFk9vPBcSN6l4Eyz0MfxjwIwazvtU/tmbn4RL8q9R8mDI2OKqcSngXxDKBkM3zUNrVqvfPP/Dl/64qgGhlSI5wPjqxOaGqZOLR1s2Ydbn8A3g1U3NhaG4DKmwygpJqZmHjxJO29gh35eNLJPysovfVqXmV/qeDXkhKZF4K0Hq+vrKC9QpcUmZWFfGD2EinSt3B+nZiezCm/ci2vv5kE2qFQgV21LN6SVVNUWlFX7hN47pmF65XpE3+CIWCzGdEjIxPFqanYREmISM8/oWEFakA1KpaHRcawl9N6jb05qu/mHswrK80qqkIMuqZs4oqL6zOobdrZ9ZnKIZWTO7djIU8FFhwMKfvbNOeSdYXDt4Z/4Bq8XXyBkPmzETsAGnz89O98/NIq/mI6naPtZQqZQKELpOTo+OTgyDq9gKRidScBfvCKyK9AsreCZHxqdwFxmwQ8B26ZA/mkquoE+4N/k9Gz/0AjqV1SoTLGLDRizMB8hkF+pGnpDB5gpGxt8TFA0dzAg3xBKBiNmWxcHZQr22f91VP1fRz4+jmpgr7+s+rnsWw2l+ybHfrgmQrSxiPFG0WP5wNTJ6bFw8fv+jC6KDCgTgwXGhdZODtzww1l9Ts8AkwkzmTn7wjcWrv6tXVyMVhh0FpeWUdwsLa/oWrujuMnIL8UYxORjHHQPvHlS0wLymFtY1LZ0/UFNr6KmgRn1llZWn6TlYKUoB0fGJpCPiTejnqB9fRvPiJgkGKuxrau0qq68uv5z+jwNppFfhsAxISFc42aRbjjraGDBIZ/cH7yzvnVPO+0dhwRujuxqbEje5RuRSAw3Y1fAxuNa0O3oe7HJ1u6Bxg5XLF39HyZkwDrMIM68gsWVtW4B4aZOPngdbT2Drt2KvvMwgXnyIQTsBATdirbzCkJTLn5hz1s6mFV8CHjFkzILnHxCsfbIRymokFCXoxtYC6pzeTekkFBIRKydd7CdVzBe6PmFJXQeuxr23sG2XkEB4VEonRXNHQzIN4SSwTsZ+25hkXGHzht+d0b329M6HxXfndb5/owe3v9zC0vQwCfwjcPo84fyL2/e8E0Xp9fSLQB1Fbd3gJkh+9qfLwi8+eCrE1pl1fXyab9iHxbDCh7a7PwiM2wxYNb41PTXJ7VsPa+NTU5v77dCSEWVNT+d1b/3KLmL23tW3/b4ZbPZ+QVmEYhtbGL6lwtGMt/Ihx5MH5+cxvh4RN3kqIbpsctmxzTMUFEVVdR8Tr5pzXIuSA18GB9x+1FkUPSDgKgo74gojcCEb93Tv3ZJOukVM1rtONvoNFLpwMvd7Rs8pa5+Yb9cNP7mlDbk/fMFIzxFp7QtmUsyO165Pjw6gScKTxcqyKPqpr9cNMLck1oWhy8Zo7jEDgFeIMgGry8KcTzzyPnpnAGWLSyvZlbxIaBycg+4ica/OamFZuXdMD2tY4W14IWDS1DoLCwt4bVD49ilgCBHx6ewlKt/+PdqelgEyR3dvH39mn4s5BtC+eAdtLK6VlnTkJxVkJSZ/3GRVYCdekY2aOdT+GayPW2nbIDMN1yZbzBqQC3yTz9kH5X0DgxjzxSjA8YFpGGPdXRiCvUNBjuUNSi/MKjJ+ylrbWZuAYMIbMTtHcSwIvvwRCJZXllNYRXCTzEJmYPDYxcM7WGX3v5hmAZzUR01tXVjLuMb2SgplvQPj2K9Da2dKdmF2GvGjjmaxYjZwenBIvL+7ksUvin0QlkTmxChE1F2Prz8TGjxyaCCY/7Zh69m/uCZ9rVL8peOT055Rq9ynH+fc/l11H600paX94Zv8MRB2ImZ+aie8cxcuR6B6nNhcbmlnW3scBUje2Rc8sYGH3sDPiH3cBfPIad3YGB4DK8s6ksdKzfmmzCAV3lwZKy5vds/7D5ehbzSKmYVHwJeQRSsDxMz/t8R9R/V9LEWbBvoWHV9E6ocdIxVWI53QVsX96Kxg5qeTVVt4wb2X4RCbt8gnIc9j7zSp9jGFM0dDMg3xCcBb2YMjhgaMIB+XMiXwhjOtKN033BzHWd5xXv6xsLV/8vjl7FDmpRZUF3fnFdSZesZhN1VZ99QDBx4ONgvrmlo0bV2xx5rN68Po1hP/9DM3Dy6jUZW19a9gm5jJxf7tmhtYmoGCikof3bR0P6ymTOGG4w12DH/6oTmtVvRqKJGxydbOtgoZb4+ocX4Bt1AcaNr5YYB63lLx/DYxNjEVDe3z9LN/8glE8gbLTAd3o8wvuEVetdnerg8yDgd/vRESPnRa0W/+OX/dJX1vWfGN66QTfwX9nHafvcE/Y4v5mxeTJvPPbfsyXccbXjtG7mVxU/rm784pmHh4jc0OiGXtxR/Otg8FByoJPoGh/FcPU7NQa18QssCUyJiknKKK3OKKmobW9HCdlN4WTHoRz1J+1jfYFm8XrklVf86quEeeBPbhkgk74ZEkl/6FFuR09VQiA1bTnR8OrT3MCFjaXkFvcouqvjmpDY2EtQ/aEHR3MGAfEP8o/kEvnFaGnmuaP0VjG9Q38AuKEGOqpue1LI4pmGmpmvtFXQHasHO8sLScvCdhwa2XihQflDTgydQ6Fi5BcQkyr4zwOiDnPZunoWrHxbELJ/QexiG0MJZPZtHySxmcGnt5EBXJzTNMVB6XruF24fOGXxz8rVv+gZHICfsHWtauHgH38F+t7138BF1E11rD9RYjNj2KYxvuIXeT9O9jSPyjodUHLlWcjQg7+y1dL3rjw2CY/QConT97pkH3WZlXv1t0urljMnLKb2VFuO+QoddvsET9ex5yxfHLkMkGMThDGYiipVzBrZ4Udi8PozskzOz4VGP7byCDO28Lhk7ntQ0VzdxwuiPRZC83Royo+MzPtY3DKhR4Juw+4+x2wHZyLqxufmsoUXLwhVbyOLSMvTT3s3Vt/FAH/Dqj45PoWA9q29T+rQOfUC+oqGDAfmG+EejfN/kOa9NcxWtvwLvfPjG2j1Q38YzI68U+8W3HsTfjU3CjurI2CSqLeRgkLoZ9cTGIxDD2XbYe19/kpbD+AY52O9u7mDfiIzD+HJK2/KcgR0KGlZB+czcgnw9su+6G1o7/cPvQyrYBTay974dnaA4XgC+2dzEWu48TPQNjTRz8oGrTmhaaJq5XLkegd357SFyn7Ltm6o0b71buUeDSg77F2hdT87IDnn+zL+1zre19mpbjVdfo4t0yGJrxmhrSvvl2KX1Vp2BIvvRhgd7+OaohrqJY3FlDSpLjPVr6xvx6bkoaLCLgDIRE9NzSyqePUcN2tjaWVJVi1dKw9QJexKVNY0ikezXvmgKLy6fL3gQn37ovAGKFUxhYNa1jWIqUExQIPeNOvYbntY1YYcD5ptfWMIriF2WgJtRKG7glMWlFRQ32MnAhnH/cSpmoQ7GNqNo4iBBviH+0Ugl4vG+Fl7hGz8S/AvRVSXzzdOiZF6+m2BlStH6KzB+dXJ64Bvsk2J4wlCFUQM7p3yBAPun2zmoUbAHPTD8OoZGxxcWl6EZZhjCaISd5dn5BV7/UAebB4fBIhgHGWMBNIJRaXJ6FjUTEvC3i9OLakbXyh0TMZohYW5+EbdR6KBLKJg4PQMTUzNYimlh/7L9edqzdA/TW2mHAwoP++bEJIULx73+M+fx25z7b7NOv03b/D5l+mJSf2vi8tbY+ZfDp5cbtPsK4Zu96pujGt+d1rlo5ODmH37tVrS9V/AZXWtYvLD8GV8g7B0cRpEBr8ckZcI3rV0cuEHDxOmYhml2UQWeT6FQ1NTejZqGVVju7BOKpgLCo3A3v+xp/9DoTrOIxOK2Tm541JPc4srtIw8Z0Ob/O6L+7WkdVE6wyLXb0dgjOa1jpW7q1NTWhQXRDjYPvJTGDleYoz9Q79Y2tn4GL+hfgHxD/KPZlEpW5kZ6iq7u8sdHRUembc/zVImIX5h8Y/BpmET0xpCBEQF7u/XN7ag29Gw8cGNhCQr5VJ9cYXXY7YWHhsYmOtk9V6/fPXzJ2D3w5q6B7PPjlW+8GjNcvO4+POqffdQn/Vmp/x9LHlvLrluL9ltzli+njV9O6b6cUH85eu7l0Inf+45OVenz8nZ/f8P45stjl1E0XDCyh7CZY8Aw6BeWV8vKHamU1zd43sAOE49cMkGlqKZng8rmp7P6hvbeE9MzMEHvwLCNxzVUkMcvmx06b/jNKe1fLhohB4Wpi9+Nnb4RCEVQ2vHL5pau/uyefsVUOYxvLhk7HNcwQzcQP6jpYUNijg5gctAUWkBxjM58dULTLSAcOyU72z84kG+Ifziy4aUp93pXluzn6LtE8iHRzbKveOLQVptXXZbTURC8Ptu7fSYbBqilqq4Jo9KXxy9/cUzj6xNaP18wbOva/ZmbUsAgs7yyamjnjb1peej+dE5f19qdzevb19/NfAiMb3oKvdjZ9qx4X/PQWI2Ax00VV/9YcN5asNmaM/tj0vD3UZ3fh9X/b/Dcf3tO/4d7Yq3xYn+BJffN46G3fYOx+2rIXVSTDa2dsh/oNrXjuRWJZGeikw/xwtTsoiepOcjRt/FAoWPpFhCbnDW3sIgEZKxtbLAKK8Lux4XeexRyN/Z6REzIvdgbkY8ghp3HFAC8NEUVz1Cg3HmYiHJWMVUOfIMy61Eya2Rs8tnzZtxtauteXFqRd+N1C1hhZW3jOQNbKA1FFe4qZhwwyDfEPmB1Yby9+FZn3tXWLNfmDOemNIfGVPsPC4dnSU7lGbcrClPrCyIXRttlp7F5c9dSIpF0sHtcfG+Yu/ghLFz8HK5c7x8aVcxWNusb/NC7j7AWrMvW4xoGu57+IeYbb0XGZ4rCN/Lf33SyHJoznRoynEdqHV7MWW3Nmryc1Nvs1dno0F5r1Vxt0ugrsOzLt+rJtebm2O7yDcZxuATD91fHNX1C7vEFAtlRxkL5wWE7xnGkwROYgyccBSWCOcwdT7UiYXMTS23wBfKQnadAHmhNgOqHyWFAsyhQ+PLMnZ+vQio5RRXwTVwKC47BXEU3Xr2UyBGKRAKBcHllLSImEYXsleAISPGzf63fBfmG2A9sbooEG72dNe212c1V6c9LE+qLH39I1BbH11dk9HVWL4yzRfxl7BkrGnwTvP8xdmwPOhgyPumIgBFJPnjJTiyNIemAjD47faOIHLupWuuX04Zbk9pb45dejqj9m3t2o+Xir93HX+e8dX4BsVjc2NoVFhn3xbHLqDkw4qMYhVTe9TRi+jaKSTvANMW8bRRzdiPPVNwGeO2aO9iBNx/866i6m394Rl4J7mIrUsyWA/9UPHvOKih/nJqDAgul893YpPHJ6Xev5DOHfEPsEzBcScRikQAhEvI/JgQSsUj6VlnzNn862iiZXYPXQWAP32TbDZZa/7tf98XIxRfDp18MHv2VfXK96cLyc/WdObt8gyrCJ/Te8cvm35/R/eWC0Rld6+sRMduHCKoMlDJ+YZHHL5t9d0YXhQu6gdoFExWz5aysrenbeJ7WsUJvfzpn8ONZ/fMGdtX1zSru6j8H8g1BvAOZfVB8SDalbwamoE6SlUoHdNT4a+zpG16u7WiFxWKDLr/toqhdbb3p/PRT3f4Ci505u3yDGuJ5c0d8eu6jpCxEQnpuY1vXmvxs4kyCahCKRM9bOhIz8phuJGbko+oSvOkblLBFFTWPU7Njk7IQcSmszPyy8akZ8g1BEK+BV0SCteVJ9vxA9UJ/1a5YHmsWbyztOu6A+HP29I1MJzm2PXk2vfnWvflWvXnWvFwbTHkj4a3jBVBGQDCra+sI3MDQv/ObG9Ug+27mzW7IjxF4oxu4yxcI1tZlCUzs/AboAEK+IYgdyGsaiVi0ujw3wG3m1afyCr14eS67o8BtsDJEtH4Qf7L3l8ETK1iZkl3fc4dLEN0s+84shw6WUwfLuSPLsYvlwGa9kcDNcx5rjJGKD9apxj5LyDcE8QrsgYsE66tLY/1dXHYHp7uTU5vMyXOTXe14dzhwcxzmessVCxIfAkQuXO+vCN7pEoTMN7JrEzh1spzxV+6bNy4vzct3meUVYWFFO8S+hXxDEEB2MML66uLMxHAvt4PDYcvo7uA8e8LJdd459u2M6S6WYmnig5CVjotD9UPPbvWXX+svC0D0vSOYuYiBiuCxpjjh6jSWVTRD7FvINwSxKRby56ZGBvsgmi54RhHtzznltzjZb+xr7wzyzV8AJeTGwtDKZOfyeNt7Y2W8fXWaLVybg6oUyxP7GfINcdDBcDbaVdzbmM1tyOY8fxV1qZzyO5w8112O2Rnkm7+C/AuyTan4I+Idv5oi9h3kG+KgszbTw8135+S9EexcV3aOU3e2PRN7nkrnk/pGLBbLf62++5Angti/kG+Ig87qNJeT4yA7CkD20ZkiOlmObVnOLVkuzZnOLZlOnSyHXbJBfDrfoAZ43tJhaOcVHvVkdGIKdxUzCGI/Q74hDjqr05ydFmFn28M0Wckhd+KirkQ99rwX53Mv6mHM9do01643j5v6pL6pa2zTMHUKuh09Ir/OtGIGQexnyDfEQWeXb7pYDtkp1z2iU32j486EFB0JLPzZN/fI1fSAiPC2TMedmZ/087TZ+YX6pnZOT//6xgbphvg8IN8QB52dvmFn23WwHGPiI5wiU70i404H5R32y/3Rm/WjR6p+wIOWd/gG9YdQKKppaM0tqSqpqiuqqHmUnFX2tL6T3ZOUmR+TlFnb2Lq0sird3BSJxeOT0xXPnidm5j94khablMUqKB+dmJLuOGvnzNxCftlTVmF5VkFZcVXt5PTs9vmGkTM9M4fF80qrGlo7y6vrHyWzHiZmFFfUzC8ufcgVDUQiMbunv6C8Oq+kqrm9+9nzloSMvKgnaehnWxd3ZW0dPREIhegwVpFX+hQ5yyurEom0p38Ii+ABVtY0LC6tUMlF/AXIN8RBZ9s33dn2rVnOtRkeCQk3fB488oqMtbsVd8Y/9TuP9G9ckzV8HrRlO/UW2vNyZSc23ukbjNEj45NG9t4nNM3P6due1bf5QU1PTc9Gz8bz8CXjH8/q61l7yK5hLBZv8AXBdx6qmzj+ctHo29M6SDt+2dw94CaUw1wDFON4fulTNV3rU9qWp3Ws9G09m9q7ty8PirmF5c80zV0wF3/PGdj+dM4AjeBGRGzSxqsLfP0JyPEPu39W3/akloWOpZuGqdMvF4yYM04a2V+B5FbX1heWVrQsXLF2rMXhyvWegWFY6tqtaCyCwCKQEB3FQPwFyDfEQUfuG9kBAunJoXZRLL07BZfD8s9dzz0dyDrul/GjV9o3rilfOcVr+t2f7nT/96Trcqd9X9Hu+kYgECZm5H9zUvvn84bOvjf8w6Pgnm9OaXtcu3XvUfLhi8a3HsSvrK6JRKL0vBLfG5GYmJlfmp5bbOTgDeWg0EELTGvjUzMoiW5ExunbeEIkdU1t25dswYoGhse8gm4fOmcAXZk5+WQVlCdnFSDzyCUTlFNM2p8gO5l/W5dH4M2vT2h9e0oH8kB9U1T+LDzqMQQDU6KyWV5ZS80pPnbZDA8hMSNvaXkFdqmqbbxo5HDovKFf2H3Zpa8V7RHER0C+IQ468A0727483dctOkMtvOp4SMXRoJJf/At+upr9vVfGt26QTcJXDo/0r91d6nF9ueDw+7TlWJXNTt8wzM4vfnda19jhSns3r6ah9bKZM0qc6Zk53D2ja+0Tem9+YUkoEmH4Hhodr6hpyCooyymuDLv/GPLwuxG5vqE4H6VEIvtECwVT4M0H5wzs0NS2bwBmJWbmHb9spm/tMTo+hQZRM8FeqKIy8koVSe8GxkJrKJK+PaUNmTW0dvIhOqEIZU18Wi6ahczmFhbRSRQ0sEtmXun6Bh+LcHr6UQmZOfu2dXEhLUVzBPExkG+Igw58053tkJ4Uoh9ReDIUsimFbA755BzyzvjRI/k7l/hvnOKOuUXfiQkSDdttzZpvTRvM1pvt6Zvvz+jaeAQODo89b+nQtnRDLCwud3F7IR7GNxjIUTFAP1+f1PpBTQ8VxhdHNb47rYO5a+vb5z+WWQE1RPCdh+cNd/sGbkBBg1ok5G4sJCHd3BRLJCiPfjpnkJiZr0j6U9B4UUUNuooWpmbmmK+OsIqWDraZky80OTE9A+c9e96Cbtt5BXF7B6C00LuP0OGHiZmwE/IVbRHEx0C+IQ46jG8S4sMuhRcfCy49FligFpjpeT86PD4i/MmtsLiwsEchCan+sx12v0+Zbk3rbU1oLDUZvOpE8oUAABW7SURBVMs3tp7XhkbGUTfoWLnrWLpBMN3cPplvQu6hbsgrrUKVoGHqdDXk7s2oeFQwBrZe36vp4e4O38iuzz8xNRN8++F5WX3TIhKLt4d4xjdndKxC7z3CIpgqkUofJbFkvsnY7RuZSKRSuGSXIeAbSM7hynVOz4CsvJGfV7+4okbL3AUVzOz8AtIhPKwCFQ8E2dTWhTXiEeGxKJogiI+HfEMcdGS+YTkkxoeq38g7Elh4PCA77OHtGbbXvyfd/jPl9p9Jp/+M2/3fhMXWjNHWlOyyx1ujaksNOm/7ZmR88rvTuhau/ry+wYYW+MYNtcL0zBzjG4/AW1Mz8w7e1785pR2TmMlcCoXT0+8beu/QeUP3gJsY5Zl2VtbWpufmsRQkhAXzy6ox9KM2Yq6Lj8UepbBOalsGhEcxx4nBF1GP0348q/8wMWPn1/iYtbax0drF7R8a3XXoGnzzzUmt78/oeQXdLntaX9fUnplfZubk8/MFwyepOYz5UDbVNbVdMnG8bOps6ep/VN30bmzy2vo60wJB/AXIN8RBR17f2Ocm+ZmEJx/2yz3ln8556vHfOY+XS24vFx1fztu8nDHdmtLfmtTcGju/NXLqxcCxqao36huM7LNzC+4B4V8eu3xU3eT6nZi8kiotC9cfz+mH3I1t7eRAG6d1rOJSsiGJb0/pGNh5XQmOcPG9YWjnffiS8bentE9oWoTffzwwPAo3+IVFWrkHGDtcgVRQMGmau1i6+TteDcnML4WlmJa/O6OLBiNiklZW1zAFYvvqhBaqk8LyZ6JXl9BH1fIkLRf1k1fwHTTLTGSAb7DSQ+cNsHYUWyhcUEid0ra8HhEzNjHFfHyHB7WwuOwfdh8mQzGkZeEyNDrxIYdcE8S7IN8QBx3meIGGDJdrkXdP+KWf9U+cbXX+Y8F1a9F+a85ya8b45aTuywn1l6NnXw6dfNF/RNRxZrDoje9vUFXMzM2bOF49csnkmIap57VbGPfNnH1RE6CA6GD36Fq5YzS/F5fC6R1wCwj/6ZwBRPLtaR1MRBoWOaZhhqVQGPX0D5k6+qCdXaGma/04NXt5ZTWFVXhW3xZT0DhkAN8kZebLpqibwGooU1DuML3i8wW3oxNQshjZe/P6h5iJDMznadduRydm5HkH37Fy80eZVVxZizpq53dFIrG4pKr2nL7t1ye0HiWztn8GRBB/DfINcdCBbzjyk3K2ZDplx19Nf+I73+rwx6zt1pz5HxOGArbhSov+SrPOcoP2dLX+RIVhf4Elc8HjHfXNrxiLhSLR+gYfgYEeRQbKC9zGDdhIIBBu8AVIYCaiUGhs7erm9S0uLSN9Y0MWmIXqATA5u0J2FJlIJJstkeAOMxELSKWbmIH58hykvD6/p0S+3vZu3vD47roEvvlBTe9BfPrcwhI6hiW329/5TQ/azy99Ct+cN7CFUBVTCeKvQr4hDjpy38h+T8OWnczGnpNrP99s+8eUifzQgMsvR8//1nf239xT0q5TPXnWOy+tv+v7mw8HSsDIjr87B/dPBFaxc0VY7/ziUlJWAeqb0HuP2D39M3MLu45vxt3J6dmh0XHMdfMPh5luP4ifW1hUzCaIvwr5hjjobPuGCW6O3eQzq99HdZlDA14OHRe0nV+suyxoVevJtd6Z+Zd98zeCKigmKVPd1OlfRzVOaFoY2nkF34lZXXvjKIDl1TXPwFuGdt6XzZx/PKv/5fHLuF3T0KKYTRB/FfINcdB52ze9BTYrzYZSzqX/9pz6L++YuP3MYp3GaJnRzuIGsR99IxSJEjPzHa+GWLkFWHsE4sbt6HjBq1MbMKxv8ANvPrD3vm7jcU2W5h7o4hf2vKVDMZsg/irkG+Kgs8s3TPTmWw+Xmo1XGE5UGIyWGfcXWOxKQOxH30ilm8srqwPDoz39Q4j+odH5xaXtr3wYJFLp9Oxc3+AIk9M7MDw4Ms4XCBSzCeKvQr4hDjp7+oYJtjzkl2LbPQuxH32zKUcikYrFEvnRCZCLbIpithzcZb5hkuUo0mRZitkE8Vch3xAHnfX5QW6u006psLPtO7McOljOHdnuHTmeHSy3TpZT9xsXW7Pn5jjMcAoUTRAE8QGQb4iDjkSwOlIXyct3k19JetsofxbwU1+J79psr6IJgiA+APINcdDZlIj4iyMz7NzxloTx5vgPicmO9JXxdqnkja/ZCYL4c8g3BEEQhCog3xDEHsi+MpeIhGtzG4vD/AXE0KuQ3RWuTkvFgs1NOpkYQXwE5BuCeBPZ4VqbIuHGzChvsDVnoCpsoCJoVwxW3ZjqzJSK33/9ZoIgtiHfEMQO5HXN8vx4H7uZy+7i1qVw8z24uY5vhRM3z3lppEGxFEEQHwD5hiBkQDRikXB9dXGkr5PLZXM4bHZ3J6cmkZPrsuvgtO2Y7s5RLEwQxAdAviGIXzelkvXVpanxgR5OB4fdzWboauVUPeDkOOzSzHbsx997EsTfCPmGOOiIhWtzY91D7Dpe+zNOWw2biZZKTm0qp9Bnl2N2BvmGID4K8g1x0FmfH+KVhXBKQ9+I4iBOvuef/wL0k/pGKj+pjPxcM3/lRDJYSn5OGkUwLSnmEcTfBPmGOOisTnM5OY67gp3t2J3t2MlyQHSxHLr3Es+n8w3U0Dc4EpOYWVxZO7+49LGqgGBWVtfKntb7hN618wzyDo4oLH82v7D7vJwEoWLIN8RBZ9f5OtnZdrBLa5ZLQUpAfHzY48c3UuMD69NcIZ43T6H2SX2zWVXbdPiSice1W4Mj4x/lGySvrW/cjk44oWnx41n9H9T08PeoumnUk7Tl1TWqcoi/EfINcdDZ5RtUM5XpV50eZFncZZ0LLToRVHDMP1fNP/VJbEBH1hvHDnzSz9N6B4cjYhJziivnFhY/ShIoYsqfPT+nb3vByD4tt/h5S0dyVoGGqdPxy2atnRyxhH6jSvxtkG+Ig84u36COiUu44xMdfzPm3png/MP++T9dzT7knWYWdL8103Fn5rZv4AOJVDo5Pds3ODI8OjE4MtbezcWN+cWlbl5fWxd3fHJaIBTK0iSS9Q3+6PhUN7evpYONWVhkg8/faZQNvmBgaJTTO4Bl+waHl1dWt+fif8wdGZ/sHxrF6kbGJtu7ea1dHPn1aYTMx2XoSXZRhbala17pU0wUikSra+v3HqX8fMEoJbsQd5mm3gXWhfII7fcPjYxOTGEt3N7B5vbuDnbP2OQ0mkOCVLq5sLSMBCaHWfXq2hq6gYczNDq+tLxCn90Rb0O+IQ46b/nGMTExzC0y0e3uY4MbKSf8Mr/3zPjWLUXD50FThtPOzG3fYGydnVu4divaxuOai1+Yk08o6gkX3xs3o54Y2HqqmzgG3noAf0gkUgzNrMIKz2u39Gw8zhnYqZs4WXsEpueWYIhnpIK/qEjsvYLRlK3ntashd9m8vu2xG3MbWju9gm7beQVdu/XA1T/8spnzRWMHrPFpXRPjEuSMjk8+e968uLSM22h1ZXUtPOoxfINyZ9elPHeBZKyrpKoW7WPt3sF3/MIiTR2vntW30TR3QWdqG1thR7FYEpOUaespy/ENvdfN7cWqC8ufOfvekD8DNwrLq5GmaJQgXkG+IQ46ct/Yd2c7VKVfvfckKvBhnEtkotnNVMMbyVrBSUeupn3jlvq1c+Jl3/tDda6r3c4TNfY9+W/4BoM6ShlY5NtTOj+d1cfQbGDndfii8Q9qeriNQfnYZbO4FBYqG9QHofce6Vi5Wbr6ewXdwSJqujYXDO2LKmq2K4+m9m4M9yaOV9X0rDGrvrkdomJmYUW4a+xw5cez+oiz+rZwD8R2Tt8WbaLc2U6DEgBuoNTIyCu9aGQPt6GawkQm511gEfjG3Nnv5/OG353WOapuiq76hd238w4+oWlhZO9dXv0cLrkfl4oHiBxLN/+Obh5WV1xZgwf79UktKLCosgaVlaJFgngF+YY46MA37Gz7ukzP648ea9yuOH2j4kRwydHAgl98c37yzvzOPfUr58QvHR9r+0cu8NxeLDj9OmIzVGa70zcAZQGvbxC+QTWTU1yZXVQBVWBErmtqr6ptPKFp7h92f2FxGVIZGh3v5PS0dnKa2rqaO9gRMUm/XDAKuvMQNmKawo3BkfHGti6PwFsQSU1D605JLK+sPohPQ8vHL5sVV9aOT04Pj04EhEd9f0YXI74iSQ66hNWl5xar6Vqf0bVOYRVur+LPwSpaOtintC2/OaUdcvcRu6d/akZ2eelHySzox/FqCPM5G8od9BxVHR4X7Da/sGTm7PvTOYPohHT6PI3YE/INcdCBb1DcZCcHm97LPx1Weex62eHAokO+eT94s771SPvKJelfDk++dYx1Cr+53u+4NW/1ctpkutZil2/A7Pzid6d1rdwCMDRDM1oWrlrmLnMLix3sHoz4PqH3MCJv8AXdvD5nn9Ajl0wwNKNGgaKgCsxdW99g2pGiOpFIIJKg29HnDe12+QZ1Q1JWPmRw7dYDDOvIhFQeJmSitaTMfEWSvExBg5FxKYcvGZ/WsUrNLlpZXZNKP+i4A7QJnZw3sNO1dm/r4opEmCBT1/DYBGSDVeMhYCIeJm4b2nlDSOgV+ol16Vi6DQyPQTbogKI5gngF+YY46DC+SUoI07hZfPx62dFrRccCci8GpWoGx2tci7vk//CCT5RlyO32Cpf/TlpszRhuTWovNhrt6Zvvz+jZegah4Gho7dSxcsfgu7i00s3tU9OzgVHmFpZ4/UMYxw9fMkHBgQII03++YAjfoFbY9g0DSorrd2KQs8s3QqEohVWAxW9EPlqXL4LBHZUHfJOYIfMNBnrIYHxqOvjOQ/hM3cQpI68Elc2eAsDEt92AKTNzC1i1kb13F7dXJBZjirzNGa+g28c0zLo4vVhmY4MfHvXk0HnDhIy8iakZa/dAzHqcmg2nKhoiiDch3xAHHZlvWA7x8WEXbhQevVZ8zD/XKjyurtxvvtt9keO+yHZd6nYU9Nr8PmX6ckp/a+Ly1tj55Sbdj/ZNyL25+UXv4DvfnNL2D7vP7R1YXlnt6R+GFTBkK9E3KERQcLj43fj5vKGulXvFswaUJ2CDz9/+HmgbLDuPLq6uKe7LYXwDL6LNu7HJvL7B2fkFVC0p2YVndK1MnXyGRsaRBks1tnWhAjNz9r0dnXDovIGejQceIxZn2iGIXZBviIOOvL6xz0y8pheWcdg//6R/ZnWBz+a054tF9xcLLi/m7V/MWL6cNtqa0tmaUN8aPfty6MRsjd6u4wVgi9Tsoq9OaF00ss/ILSl/9lzbwvWEpnlheTXzeZqBrefTuiYH7+vfntIJvPkgv/RpZn5ZWGQc8r89raNr7VFcUYPBem5hMa/06ZO0HAz0BrZev1w09rsRGZfCSs4qbO/m8QWCTk6PR+BNKMrY4UpFTYNAKGxn85yuhkJjrn5hMM3w2MS1W9E/qOmhM3ZeQdHx6U9Scx6lsNAgWkCxwvQZoNu8vqHrETH341JGxia2baTwjaH9l8cuo2Sx8woOvPUAjUNymuYurMLybTUi7c7DhKPqJsc0TFGlpeeVoE3AzCWIXZBviIMOc7xAVZqn652Yw74stYCU6WaXPxbctpacthZst+bMtqYNtia1tsYvbI2cfjl47D/c46Olxjt9gwF6fHL6kpHDv45qYIy2dPPPyC/VsnDFbSu3gNZO9lk9m+9O6wbdfgiXoNZB3XBSy+LnC4aQxBF1ky+PX/7qhKa1eyDMBJ2omziinV3x01kD1BALi8uxSbKvar6Qr8jZN3RhaTnqSdqPZ/W/OKaB6bFJWa2dHDT19UmtXS3ABw8TMnYepoxuwxDw32kdq7LqehRG29OZz9POGdg6Xg2BY1Aqnda2cva9Ufq0bmn59e+BUDk1t3cj4cvjmkYOVyanZ5npBLEn5BvioAPfcLLtO1iOBYlXgu7e8o+4Nd/i9Mecw9a81YtpE2mfkbBbX9ilLezQ4LdeWmu8NFlp0JNnvau+QZ3R0sHGcIyBG2XE+OTM85aO0qf13by+xeWVmsbWytqGgaHR5ZW1TnZPQnrezQdP7j9OLamqbWrvxiJl1c8hm5XVtdW1dUxBO7uiqrYRhYtQKBqbmHpa3ySbWF3P7R0QicSYLp9Sj/oJ611YXIJyyp4937k4AsVQ/9CoWPz6ozl0G63de5SckJEHwWx/Dsb45qKRg6VbQDO61T+EP/hvdGJqgy/A3O36BSXR4PCYtXsAyik8BDoGmvhzyDfEQUfuG9nvabpZ9q2Zjh3Zjgstdn9Myw4NeDmp/fuwxm/953/rPS3uUOsrsOzJteHmyA6G3ukbBqn89AEYgmUjsuL0zLJfwGB0xjQEM0zL5CQQrq1voNSALTBZNleeKZ+P4Z5p5w3QGjMXaUw+YBbBX2ZdTM723beQdUvexmswcR0OkZ37QDEFyA4NmJw+p29n4xHYNzgiEou3+8Yg64NEgqWwLEyGWs3KPQCKwhoUGQSxF+Qb4qCz7RsEO9uem2s322D1x4T+1uTlrfHzL4dPC9svLNVrSDpPMWXNduzyDdg1nr81vCtglCCT0quMXYmYvCt2gQm7F1H8r0CW8KctMMh78robAPd6BoZuRMYdOm94Rtc68OaD3OLKnWclQDIsVd/cfjc2KfRurKGd91cnNO29g1HVbX8iRxB7Qr4hDjo7fYPg5tgNlthIeDr/N3jhxeDJP/qPiDtOLz9Xn6/R4uXa7Mx82zefAdBJfHruBUP70zpWp7Qtz+nbmjheXVpZVcxWKEp65XrEBSP7s3o2cBLSkB+TmInCSJFEEHtBviEOOrt8w8Rwqfl8ne5qo/pa40UUN+MVBrtkg/hcfTM2MZVTXJmZX5aZX8oqKK9tbNt5VBtATje3L7uogslB5Jc+HRmbYD7QI4h3Qb4hDjp7+oabY8vLte3Js0HANNvf2eyMz9I3QCKRCoRCWQhkf/f6/gY5su9vFDmyJJH866F3fGxHEHLIN8RBZ322l5vjsPPS0WyWfZfsyp7OnTnunTkenSyXLpZjN8uevUM2yJ/uzlE0QRDEB0C+IQ46oo2FvhIfbu4b17ZBsLMhGHu4B393zeLkOHBznZZGGhRNEATxAZBviIOOVCxYGm0aqArtK/H9wOgvC5jsSJeI3jgDDUEQfw75hjjwyI64kkiEa8K1GeHqtHB16r0h5i9hEdn3GARBfDDkG4JgYH6oIv2g2P1zF4Ig3g/5hiAIglAF5BuCIAhCFZBvCIIgCFVAviEIgiBUAfmGIAiCUAXkG4IgCEIVkG8IgiAIVUC+IQiCIFQB+YYgCIJQBeQbgiAIQhWQbwiCIAhVQL4hCIIgVAH5hiAIglAF5BuCIAhCFZBvCIIgCFVAviEIgiBUAfmGIAiCUAXkG4IgCEIVkG8IgiAIVUC+IQiCIFQB+YYgCIJQBeQbgiAIQhWQbwiCIAhVQL4hCIIgPj2//vr/AXOXTUf6NO6SAAAAAElFTkSuQmCC)"
      ]
    },
    {
      "cell_type": "markdown",
      "metadata": {
        "id": "Tn5m8E3-tFKT"
      },
      "source": [
        "**Utilizando PIP**"
      ]
    },
    {
      "cell_type": "code",
      "metadata": {
        "id": "kGE4nGBztHbi"
      },
      "source": [
        "'''\n",
        "pip --version\n",
        "pip3 --version\n",
        "\n",
        "pip show package_name - mostra informações de package_name incluindo as dependências do\n",
        "\n",
        "pip help operation - mostra uma breve descrição do pip;\n",
        "\n",
        "pip help install >  sobre o uso e parametrização do comando install\n",
        "\n",
        "pip search anystring - pesquisa através das diretorias PyPI a fim de encontrar pacotes cujo nome contenha anystring;\n",
        "\n",
        "pip list > Se quiser saber que pacotes Python foram instalados até agora, pode usar a operação\n",
        "\n",
        "pip install name - instala o name em\n",
        "pip install --user name - instala o name apenas para si;\n",
        "pip install -U name - atualiza o pacote previamente instalado;\n",
        "\n",
        "pip uninstall name - desinstala o pacote instalado anteriormente"
      ],
      "execution_count": null,
      "outputs": []
    },
    {
      "cell_type": "code",
      "metadata": {
        "id": "ySLic0HTvFfR"
      },
      "source": [
        "import matplotlib"
      ],
      "execution_count": 96,
      "outputs": []
    },
    {
      "cell_type": "code",
      "metadata": {
        "colab": {
          "base_uri": "https://localhost:8080/"
        },
        "id": "ETpbbnBWwK5Y",
        "outputId": "95d41fe6-5343-4f84-d9c9-ca0897aff7b3"
      },
      "source": [
        "#Para verificar informações de pacotes:\n",
        "\n",
        "pip show matplotlib"
      ],
      "execution_count": 97,
      "outputs": [
        {
          "output_type": "stream",
          "name": "stdout",
          "text": [
            "Name: matplotlib\n",
            "Version: 3.2.2\n",
            "Summary: Python plotting package\n",
            "Home-page: https://matplotlib.org\n",
            "Author: John D. Hunter, Michael Droettboom\n",
            "Author-email: matplotlib-users@python.org\n",
            "License: PSF\n",
            "Location: /usr/local/lib/python3.7/dist-packages\n",
            "Requires: kiwisolver, cycler, numpy, pyparsing, python-dateutil\n",
            "Required-by: yellowbrick, seaborn, scikit-image, pycocotools, plotnine, pandas-profiling, mlxtend, mizani, missingno, matplotlib-venn, keras-vis, imgaug, fbprophet, fastai, descartes, daft, arviz\n"
          ]
        }
      ]
    },
    {
      "cell_type": "code",
      "metadata": {
        "id": "XM9BTSFwwpNZ"
      },
      "source": [
        "''' Utilizando o pip para buscar algo:\n",
        "pip search algo"
      ],
      "execution_count": null,
      "outputs": []
    },
    {
      "cell_type": "code",
      "metadata": {
        "colab": {
          "base_uri": "https://localhost:8080/"
        },
        "id": "5zjRrcpLJyjF",
        "outputId": "525b2001-e18f-4ab9-a756-857d55e127ce"
      },
      "source": [
        "from random import randint\n",
        "for i in range(2):\n",
        "  print(randint(1,2),end='')"
      ],
      "execution_count": 109,
      "outputs": [
        {
          "output_type": "stream",
          "name": "stdout",
          "text": [
            "22"
          ]
        }
      ]
    },
    {
      "cell_type": "code",
      "metadata": {
        "colab": {
          "base_uri": "https://localhost:8080/"
        },
        "id": "KdoqCG4BKdWs",
        "outputId": "df9967b8-7f2e-4ead-de55-9146bc3192e3"
      },
      "source": [
        "import math\n",
        "\n",
        "result = math.e != math.pow(2,4)\n",
        "print(int(result))"
      ],
      "execution_count": 111,
      "outputs": [
        {
          "output_type": "stream",
          "name": "stdout",
          "text": [
            "1\n"
          ]
        }
      ]
    },
    {
      "cell_type": "code",
      "metadata": {
        "colab": {
          "base_uri": "https://localhost:8080/"
        },
        "id": "851RgTIcQNl9",
        "outputId": "072b3d93-c862-421a-e5a2-7b96590dcb12"
      },
      "source": [
        "valor = 'a' != 'b'\n",
        "print(int(valor))"
      ],
      "execution_count": 120,
      "outputs": [
        {
          "output_type": "stream",
          "name": "stdout",
          "text": [
            "1\n"
          ]
        }
      ]
    },
    {
      "cell_type": "code",
      "metadata": {
        "colab": {
          "base_uri": "https://localhost:8080/",
          "height": 316
        },
        "id": "u8_zAJA-LIab",
        "outputId": "10027835-2c93-460a-f988-687649280dc1"
      },
      "source": [
        "from a.b import c"
      ],
      "execution_count": 112,
      "outputs": [
        {
          "output_type": "error",
          "ename": "ModuleNotFoundError",
          "evalue": "ignored",
          "traceback": [
            "\u001b[0;31m---------------------------------------------------------------------------\u001b[0m",
            "\u001b[0;31mModuleNotFoundError\u001b[0m                       Traceback (most recent call last)",
            "\u001b[0;32m<ipython-input-112-e35cd842e84f>\u001b[0m in \u001b[0;36m<module>\u001b[0;34m()\u001b[0m\n\u001b[0;32m----> 1\u001b[0;31m \u001b[0;32mfrom\u001b[0m \u001b[0ma\u001b[0m\u001b[0;34m.\u001b[0m\u001b[0mb\u001b[0m \u001b[0;32mimport\u001b[0m \u001b[0mc\u001b[0m\u001b[0;34m\u001b[0m\u001b[0;34m\u001b[0m\u001b[0m\n\u001b[0m",
            "\u001b[0;31mModuleNotFoundError\u001b[0m: No module named 'a'",
            "",
            "\u001b[0;31m---------------------------------------------------------------------------\u001b[0;32m\nNOTE: If your import is failing due to a missing package, you can\nmanually install dependencies using either !pip or !apt.\n\nTo view examples of installing some common dependencies, click the\n\"Open Examples\" button below.\n\u001b[0;31m---------------------------------------------------------------------------\u001b[0m\n"
          ],
          "errorDetails": {
            "actions": [
              {
                "action": "open_url",
                "actionText": "Open Examples",
                "url": "/notebooks/snippets/importing_libraries.ipynb"
              }
            ]
          }
        }
      ]
    }
  ]
}