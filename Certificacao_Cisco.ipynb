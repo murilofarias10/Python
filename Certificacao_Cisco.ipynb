{
  "nbformat": 4,
  "nbformat_minor": 0,
  "metadata": {
    "colab": {
      "name": "Certificacao_Cisco.ipynb",
      "provenance": [],
      "collapsed_sections": [],
      "authorship_tag": "ABX9TyNwJqRny8DyCvOIvpvBfOMx",
      "include_colab_link": true
    },
    "kernelspec": {
      "name": "python3",
      "display_name": "Python 3"
    },
    "language_info": {
      "name": "python"
    }
  },
  "cells": [
    {
      "cell_type": "markdown",
      "metadata": {
        "id": "view-in-github",
        "colab_type": "text"
      },
      "source": [
        "<a href=\"https://colab.research.google.com/github/murilofarias10/AnaliseComPython/blob/main/Certificacao_Cisco.ipynb\" target=\"_parent\"><img src=\"https://colab.research.google.com/assets/colab-badge.svg\" alt=\"Open In Colab\"/></a>"
      ]
    },
    {
      "cell_type": "code",
      "metadata": {
        "colab": {
          "base_uri": "https://localhost:8080/"
        },
        "id": "-FWZbmPqP9Tx",
        "outputId": "b091097b-d3fc-440c-d474-c38c8706628a"
      },
      "source": [
        "y = [9,3,81,2,5]\n",
        "\n",
        "posicao = y.index(max(y))\n",
        "\n",
        "print(posicao)\n",
        "\n",
        "(20+20+10+10)/4"
      ],
      "execution_count": 1,
      "outputs": [
        {
          "output_type": "stream",
          "name": "stdout",
          "text": [
            "2\n"
          ]
        },
        {
          "output_type": "execute_result",
          "data": {
            "text/plain": [
              "15.0"
            ]
          },
          "metadata": {},
          "execution_count": 1
        }
      ]
    },
    {
      "cell_type": "code",
      "metadata": {
        "colab": {
          "base_uri": "https://localhost:8080/"
        },
        "id": "vXBVCX0_Qkpx",
        "outputId": "c53142ee-1c9c-4648-aec3-938afa4383a5"
      },
      "source": [
        "lista = ['Matrix','Vovozona','Mad_Max','Batman']\n",
        "lista.insert(0,'Coringa')\n",
        "print(lista)"
      ],
      "execution_count": 2,
      "outputs": [
        {
          "output_type": "stream",
          "name": "stdout",
          "text": [
            "['Coringa', 'Matrix', 'Vovozona', 'Mad_Max', 'Batman']\n"
          ]
        }
      ]
    },
    {
      "cell_type": "code",
      "metadata": {
        "colab": {
          "base_uri": "https://localhost:8080/"
        },
        "id": "NWv-1P_3QmMi",
        "outputId": "5b1b453f-5743-4f65-c621-f3b5768c9ce6"
      },
      "source": [
        "#Alterando listas, as listas igualadas se alteram\n",
        "lista1 = [1]\n",
        "\n",
        "lista2 = lista1\n",
        "print(lista2)\n",
        "lista1[0] = 2\n",
        "\n",
        "print(lista2)\n",
        "print(lista1)\n"
      ],
      "execution_count": 3,
      "outputs": [
        {
          "output_type": "stream",
          "name": "stdout",
          "text": [
            "[1]\n",
            "[2]\n",
            "[2]\n"
          ]
        }
      ]
    },
    {
      "cell_type": "code",
      "metadata": {
        "colab": {
          "base_uri": "https://localhost:8080/"
        },
        "id": "6aQ7rw9cQn37",
        "outputId": "8a55151f-71c1-4489-d943-a072772dcee0"
      },
      "source": [
        "##############duvida\n",
        "lista = [1,2,3]\n",
        "for v in range(len(lista)):\n",
        "  lista.insert(1, lista[v])\n",
        "\n",
        "print(lista)"
      ],
      "execution_count": 4,
      "outputs": [
        {
          "output_type": "stream",
          "name": "stdout",
          "text": [
            "[1, 1, 1, 1, 2, 3]\n"
          ]
        }
      ]
    },
    {
      "cell_type": "code",
      "metadata": {
        "colab": {
          "base_uri": "https://localhost:8080/"
        },
        "id": "NJX_ZYEcQvPD",
        "outputId": "763c5f3b-b174-48d1-9c49-c21d24a39782"
      },
      "source": [
        "nums = [1,2,3]\n",
        "\n",
        "vals = nums[-1:-2]\n",
        "\n",
        "print(vals)"
      ],
      "execution_count": 5,
      "outputs": [
        {
          "output_type": "stream",
          "name": "stdout",
          "text": [
            "[]\n"
          ]
        }
      ]
    },
    {
      "cell_type": "code",
      "metadata": {
        "colab": {
          "base_uri": "https://localhost:8080/"
        },
        "id": "HlL6jAYjQw1D",
        "outputId": "8bf5a22a-2c39-4f2e-fc01-758f9a274831"
      },
      "source": [
        "t=[[3-i for i in range(3)] for j in range(3)]\n",
        "print(t)\n",
        "\n",
        "s = 0\n",
        "for i in range(3):\n",
        "  s+= t[i][i]\n",
        "\n",
        "print(s)"
      ],
      "execution_count": 6,
      "outputs": [
        {
          "output_type": "stream",
          "name": "stdout",
          "text": [
            "[[3, 2, 1], [3, 2, 1], [3, 2, 1]]\n",
            "6\n"
          ]
        }
      ]
    },
    {
      "cell_type": "code",
      "metadata": {
        "colab": {
          "base_uri": "https://localhost:8080/"
        },
        "id": "b1pwlzVXQyYr",
        "outputId": "c75ff4fa-a1f4-461e-d2e9-0746a2d5e3e3"
      },
      "source": [
        "lista = [3,1,-2]\n",
        "print(lista[lista[-1]])"
      ],
      "execution_count": 7,
      "outputs": [
        {
          "output_type": "stream",
          "name": "stdout",
          "text": [
            "1\n"
          ]
        }
      ]
    },
    {
      "cell_type": "code",
      "metadata": {
        "colab": {
          "base_uri": "https://localhost:8080/"
        },
        "id": "G6lFoI05QzwL",
        "outputId": "751ba94c-1349-4675-bb48-534a686fdf4b"
      },
      "source": [
        "#VER COM CALMAAAAAAAAA\n",
        "var = 0\n",
        "\n",
        "while var <6:\n",
        "  var +=1\n",
        "\n",
        "  if var % 2 ==0:\n",
        "    continue\n",
        "  \n",
        "  print('#')"
      ],
      "execution_count": 8,
      "outputs": [
        {
          "output_type": "stream",
          "name": "stdout",
          "text": [
            "#\n",
            "#\n",
            "#\n"
          ]
        }
      ]
    },
    {
      "cell_type": "code",
      "metadata": {
        "colab": {
          "base_uri": "https://localhost:8080/"
        },
        "id": "rpuR0gRcRMWl",
        "outputId": "acdd0356-114f-4dc0-8b6b-f28ca717fba0"
      },
      "source": [
        "lista = [i for i in range(-1,2)]\n",
        "print(lista)"
      ],
      "execution_count": 9,
      "outputs": [
        {
          "output_type": "stream",
          "name": "stdout",
          "text": [
            "[-1, 0, 1]\n"
          ]
        }
      ]
    },
    {
      "cell_type": "code",
      "metadata": {
        "colab": {
          "base_uri": "https://localhost:8080/"
        },
        "id": "2b7iQPdHROEF",
        "outputId": "e2789eb5-1115-471b-8242-2c03533db2d1"
      },
      "source": [
        "#Validação com Boleanos\n",
        "a = 1\n",
        "b = 0\n",
        "c = a & b # A e B = 0\n",
        "d = a | b # A ou B = 1\n",
        "e = a ^ b # A elevado 0 = 1\n",
        "\n",
        "print(c)\n",
        "print(d)\n",
        "print(e)\n",
        "\n",
        "print('Resposta final: {}'.format(c+d+e))"
      ],
      "execution_count": 10,
      "outputs": [
        {
          "output_type": "stream",
          "name": "stdout",
          "text": [
            "0\n",
            "1\n",
            "1\n",
            "Resposta final: 2\n"
          ]
        }
      ]
    },
    {
      "cell_type": "code",
      "metadata": {
        "colab": {
          "base_uri": "https://localhost:8080/"
        },
        "id": "3dAxR1zrRPr7",
        "outputId": "732639ae-a2d6-4c30-dee3-722fa2e5f65e"
      },
      "source": [
        "#MINIMAAA IDEIA\n",
        "var = 1\n",
        "\n",
        "while var < 10:\n",
        "  print('#')\n",
        "  var = var << 1"
      ],
      "execution_count": 11,
      "outputs": [
        {
          "output_type": "stream",
          "name": "stdout",
          "text": [
            "#\n",
            "#\n",
            "#\n",
            "#\n"
          ]
        }
      ]
    },
    {
      "cell_type": "code",
      "metadata": {
        "colab": {
          "base_uri": "https://localhost:8080/"
        },
        "id": "coB6IClARRQs",
        "outputId": "f3921da9-fff2-4534-9fc8-daa7ad89e3a1"
      },
      "source": [
        "i = 0\n",
        "while i <=5:\n",
        "  i +=1\n",
        "  if i % 2 ==0:\n",
        "    break\n",
        "  print('*')"
      ],
      "execution_count": 12,
      "outputs": [
        {
          "output_type": "stream",
          "name": "stdout",
          "text": [
            "*\n"
          ]
        }
      ]
    },
    {
      "cell_type": "code",
      "metadata": {
        "colab": {
          "base_uri": "https://localhost:8080/"
        },
        "id": "yW4m6iUbRSyD",
        "outputId": "7b31414d-fa2e-46dc-dc05-1b3259217e67"
      },
      "source": [
        "lista = [0,1,2]\n",
        "\n",
        "lista[0], lista[2] = lista[2], lista[0]\n",
        "\n",
        "print(lista)"
      ],
      "execution_count": 13,
      "outputs": [
        {
          "output_type": "stream",
          "name": "stdout",
          "text": [
            "[2, 1, 0]\n"
          ]
        }
      ]
    },
    {
      "cell_type": "code",
      "metadata": {
        "colab": {
          "base_uri": "https://localhost:8080/"
        },
        "id": "bJ-CrQ9xRUQq",
        "outputId": "aaeaa891-09b7-4ded-a239-903765f2a668"
      },
      "source": [
        "nums = [1,2,3]\n",
        "\n",
        "vals = nums\n",
        "\n",
        "del vals[1:2]\n",
        "\n",
        "print(vals)\n",
        "print(nums)"
      ],
      "execution_count": 14,
      "outputs": [
        {
          "output_type": "stream",
          "name": "stdout",
          "text": [
            "[1, 3]\n",
            "[1, 3]\n"
          ]
        }
      ]
    },
    {
      "cell_type": "code",
      "metadata": {
        "colab": {
          "base_uri": "https://localhost:8080/"
        },
        "id": "6BtRuTh3RVv6",
        "outputId": "4290b1ba-901d-481a-a932-855612d164b8"
      },
      "source": [
        "for x in range(5,0, -1):\n",
        "  print(x)"
      ],
      "execution_count": 15,
      "outputs": [
        {
          "output_type": "stream",
          "name": "stdout",
          "text": [
            "5\n",
            "4\n",
            "3\n",
            "2\n",
            "1\n"
          ]
        }
      ]
    },
    {
      "cell_type": "code",
      "metadata": {
        "colab": {
          "base_uri": "https://localhost:8080/"
        },
        "id": "qy8MrY8oRXjj",
        "outputId": "9ddf6bd5-b28f-41d4-a9f9-e6fa26500638"
      },
      "source": [
        "lista = [1,2,3,4]\n",
        "\n",
        "print(lista[::-1])"
      ],
      "execution_count": 16,
      "outputs": [
        {
          "output_type": "stream",
          "name": "stdout",
          "text": [
            "[4, 3, 2, 1]\n"
          ]
        }
      ]
    },
    {
      "cell_type": "code",
      "metadata": {
        "colab": {
          "base_uri": "https://localhost:8080/"
        },
        "id": "V3vjkt_jRY_j",
        "outputId": "f75a231e-508a-43cf-c353-78c50007a004"
      },
      "source": [
        "valor = int(input('Digite um numero: '))\n",
        "\n",
        "for i in range(valor):\n",
        "  print(i)"
      ],
      "execution_count": 17,
      "outputs": [
        {
          "output_type": "stream",
          "name": "stdout",
          "text": [
            "Digite um numero: 10\n",
            "0\n",
            "1\n",
            "2\n",
            "3\n",
            "4\n",
            "5\n",
            "6\n",
            "7\n",
            "8\n",
            "9\n"
          ]
        }
      ]
    },
    {
      "cell_type": "code",
      "metadata": {
        "colab": {
          "base_uri": "https://localhost:8080/"
        },
        "id": "A71Z64kJRakC",
        "outputId": "e73db302-7508-49aa-ebd0-d4c496ccedae"
      },
      "source": [
        "import numpy as np\n",
        "def contduplicado(numbers):\n",
        "  numbers = numbers.flatten().tolist()\n",
        "  nova_lista = list(set(numbers))\n",
        "  resposta = []\n",
        "  for i in nova_lista:\n",
        "    resposta.append(numbers.count(i))\n",
        "  print(max(resposta))\n",
        "\n",
        "numbers = np.array([1,2,3,3,3,2,3])\n",
        "contduplicado(numbers)"
      ],
      "execution_count": 18,
      "outputs": [
        {
          "output_type": "stream",
          "name": "stdout",
          "text": [
            "4\n"
          ]
        }
      ]
    },
    {
      "cell_type": "code",
      "metadata": {
        "colab": {
          "base_uri": "https://localhost:8080/"
        },
        "id": "a5mcCQbERdjC",
        "outputId": "5b1c7471-ffad-4697-e24c-b1021886155a"
      },
      "source": [
        "def contduplicado(numbers):\n",
        "  \n",
        "  nova_lista = list(set(numbers))\n",
        "  resposta = []\n",
        "  for i in nova_lista:\n",
        "    resposta.append(numbers.count(i))\n",
        "  print(max(resposta))\n",
        "\n",
        "numbers = [1,2,3,3,2,3]\n",
        "contduplicado(numbers)"
      ],
      "execution_count": 19,
      "outputs": [
        {
          "output_type": "stream",
          "name": "stdout",
          "text": [
            "3\n"
          ]
        }
      ]
    },
    {
      "cell_type": "code",
      "metadata": {
        "colab": {
          "base_uri": "https://localhost:8080/"
        },
        "id": "_Ihn8KkMRfIq",
        "outputId": "90d2b2b7-b883-4f51-a137-cae47a5178c6"
      },
      "source": [
        "lista = ['banana','pear','apple','apple']\n",
        "resultado = []\n",
        "for i in list(set(lista)):\n",
        "  print(i,lista.count(i))\n",
        "  #resultado.append(lista.count(i))\n",
        "  \n",
        "\n"
      ],
      "execution_count": 20,
      "outputs": [
        {
          "output_type": "stream",
          "name": "stdout",
          "text": [
            "banana 1\n",
            "apple 2\n",
            "pear 1\n"
          ]
        }
      ]
    },
    {
      "cell_type": "code",
      "metadata": {
        "colab": {
          "base_uri": "https://localhost:8080/"
        },
        "id": "WIlDswuyRgmS",
        "outputId": "f8bd9175-1bd5-4abe-a7b9-ae4d3a65ccc0"
      },
      "source": [
        "def grouptransaction(transactions):\n",
        "  resultado = []\n",
        "  for i in list(set(transactions)):\n",
        "    print(i,transactions.count(i))\n",
        "\n",
        "transactions = ['bin','can','bin','bin']\n",
        "grouptransaction(transactions)\n"
      ],
      "execution_count": 21,
      "outputs": [
        {
          "output_type": "stream",
          "name": "stdout",
          "text": [
            "bin 3\n",
            "can 1\n"
          ]
        }
      ]
    },
    {
      "cell_type": "code",
      "metadata": {
        "colab": {
          "base_uri": "https://localhost:8080/",
          "height": 108
        },
        "id": "MRjhq_x-RkBz",
        "outputId": "44b5c192-10da-48ba-ea19-7b229573b8c8"
      },
      "source": [
        "log = ['30 99 sign-in','30 105 sign-out','12 100 sign-in','20 80 sign-in','12 120 sign-out','20 101 sign-out','21 110 sign-in']\n",
        "ordenado = []\n",
        "ordenado = (sorted(log))\n",
        "\n",
        "novo = ','.join(log)\n",
        "\n",
        "novo2 = novo.replace(',', ' ')\n",
        "\n",
        "novo3 = novo2.split(' ')\n",
        "\n",
        "print(novo3)\n",
        "\n",
        "dicionario = {}\n",
        "chaves = []\n",
        "inicio = 0\n",
        "while inicio < len(novo3):\n",
        "  #dicionario[key] = (novo3[inicio])\n",
        "  chaves.append((novo3[inicio]))\n",
        "  inicio = inicio+3\n",
        "\n",
        "print('Chaves',chaves)\n",
        "\n",
        "inicio = 1\n",
        "tempo_inicial = []\n",
        "while inicio < len(novo3):\n",
        "  tempo_inicial.append(novo3[inicio])\n",
        "  inicio = inicio+3\n",
        "\n",
        "print('Inicial',tempo_inicial)\n",
        "\n",
        "inicio = 3\n",
        "saida = []\n",
        "while inicio < len(novo3):\n",
        "  saida.append(novo3[inicio])\n",
        "  inicio = inicio+3\n",
        "\n",
        "print('Saida', saida)\n",
        "'''\n",
        "for i in range(0,len(novo3)):\n",
        "  print(novo3[i])\n",
        "  i = i+2\n",
        "'''\n",
        "'''\n",
        "for key in len(log):\n",
        "  \n",
        "  \n",
        "\n",
        "print(dict_from_list)\n",
        "'''\n",
        "\n",
        "\n"
      ],
      "execution_count": 22,
      "outputs": [
        {
          "output_type": "stream",
          "name": "stdout",
          "text": [
            "['30', '99', 'sign-in', '30', '105', 'sign-out', '12', '100', 'sign-in', '20', '80', 'sign-in', '12', '120', 'sign-out', '20', '101', 'sign-out', '21', '110', 'sign-in']\n",
            "Chaves ['30', '30', '12', '20', '12', '20', '21']\n",
            "Inicial ['99', '105', '100', '80', '120', '101', '110']\n",
            "Saida ['30', '12', '20', '12', '20', '21']\n"
          ]
        },
        {
          "output_type": "execute_result",
          "data": {
            "application/vnd.google.colaboratory.intrinsic+json": {
              "type": "string"
            },
            "text/plain": [
              "'\\nfor key in len(log):\\n  \\n  \\n\\nprint(dict_from_list)\\n'"
            ]
          },
          "metadata": {},
          "execution_count": 22
        }
      ]
    },
    {
      "cell_type": "code",
      "metadata": {
        "colab": {
          "base_uri": "https://localhost:8080/"
        },
        "id": "WE-Y1Zd5RlwM",
        "outputId": "05f58b0c-a31c-4c2f-ec28-e5cfaf62bbd7"
      },
      "source": [
        "key_list = ['name', 'age', 'address']\n",
        "value_list = ['Johnny', '27', 'New York']\n",
        "\n",
        "dict_from_lista = {}\n",
        "for key in key_list:\n",
        "  for value in value_list:\n",
        "    dict_from_lista[key] = value\n",
        "    \n",
        "    break\n",
        "\n",
        "print(dict_from_lista)"
      ],
      "execution_count": 23,
      "outputs": [
        {
          "output_type": "stream",
          "name": "stdout",
          "text": [
            "{'name': 'Johnny', 'age': 'Johnny', 'address': 'Johnny'}\n"
          ]
        }
      ]
    },
    {
      "cell_type": "code",
      "metadata": {
        "colab": {
          "base_uri": "https://localhost:8080/"
        },
        "id": "GBs2z8ABRnJL",
        "outputId": "aac15dd0-fa88-4fd1-a0bb-6ccc04cbea4d"
      },
      "source": [
        "conjunto = {1,2,9,1,2,3,1,4,1,5,7}\n",
        "\n",
        "print(conjunto)\n",
        "\n",
        "conjunto = set(conjunto)\n",
        "\n",
        "print(conjunto)"
      ],
      "execution_count": 24,
      "outputs": [
        {
          "output_type": "stream",
          "name": "stdout",
          "text": [
            "{1, 2, 3, 4, 5, 7, 9}\n",
            "{1, 2, 3, 4, 5, 7, 9}\n"
          ]
        }
      ]
    },
    {
      "cell_type": "code",
      "metadata": {
        "colab": {
          "base_uri": "https://localhost:8080/"
        },
        "id": "ruLpI2NBRooD",
        "outputId": "b943ecf9-d8df-45c6-b703-c5b93d759498"
      },
      "source": [
        "vals = [0,1,2]\n",
        "vals.insert(0,1)\n",
        "print(vals)\n",
        "del vals[1]\n",
        "print(vals)"
      ],
      "execution_count": 25,
      "outputs": [
        {
          "output_type": "stream",
          "name": "stdout",
          "text": [
            "[1, 0, 1, 2]\n",
            "[1, 1, 2]\n"
          ]
        }
      ]
    },
    {
      "cell_type": "code",
      "metadata": {
        "colab": {
          "base_uri": "https://localhost:8080/"
        },
        "id": "Yq674RVERrX7",
        "outputId": "724c8ffc-6c42-4607-b880-4260dd85cd1d"
      },
      "source": [
        "x = 1\n",
        "x = x == x\n",
        "print(x)"
      ],
      "execution_count": 26,
      "outputs": [
        {
          "output_type": "stream",
          "name": "stdout",
          "text": [
            "True\n"
          ]
        }
      ]
    },
    {
      "cell_type": "code",
      "metadata": {
        "colab": {
          "base_uri": "https://localhost:8080/"
        },
        "id": "_X1BoYq0Rs5T",
        "outputId": "b6b120ea-87be-4895-c49c-6f57926bcc31"
      },
      "source": [
        "lista = [i for i in range(-1,2)]\n",
        "print(lista)"
      ],
      "execution_count": 27,
      "outputs": [
        {
          "output_type": "stream",
          "name": "stdout",
          "text": [
            "[-1, 0, 1]\n"
          ]
        }
      ]
    },
    {
      "cell_type": "code",
      "metadata": {
        "colab": {
          "base_uri": "https://localhost:8080/"
        },
        "id": "T-GsGpwjRuwr",
        "outputId": "c83ae336-04d6-43d1-a163-40d8427459e7"
      },
      "source": [
        "lista = [1,2,3]\n",
        "lista2 = []\n",
        "for v in lista:\n",
        "  lista2.insert(0,v)\n",
        "print(lista2)"
      ],
      "execution_count": 28,
      "outputs": [
        {
          "output_type": "stream",
          "name": "stdout",
          "text": [
            "[3, 2, 1]\n"
          ]
        }
      ]
    },
    {
      "cell_type": "code",
      "metadata": {
        "colab": {
          "base_uri": "https://localhost:8080/"
        },
        "id": "bhLN58k3RwKT",
        "outputId": "b73aaa4c-b52c-484c-e17f-1b883fbe1247"
      },
      "source": [
        "i = 0\n",
        "while i <=5:\n",
        "  i += 1\n",
        "  if i % 2 ==0:\n",
        "    break\n",
        "  print('*')"
      ],
      "execution_count": 29,
      "outputs": [
        {
          "output_type": "stream",
          "name": "stdout",
          "text": [
            "*\n"
          ]
        }
      ]
    },
    {
      "cell_type": "code",
      "metadata": {
        "colab": {
          "base_uri": "https://localhost:8080/"
        },
        "id": "bgVRXhhPRxmS",
        "outputId": "94e8f965-de3e-404b-c960-948943d1e7e2"
      },
      "source": [
        "#Verificar o que significa <<\n",
        "var = 1\n",
        "while var < 10:\n",
        "  print('*')\n",
        "  var = var << 1"
      ],
      "execution_count": 30,
      "outputs": [
        {
          "output_type": "stream",
          "name": "stdout",
          "text": [
            "*\n",
            "*\n",
            "*\n",
            "*\n"
          ]
        }
      ]
    },
    {
      "cell_type": "code",
      "metadata": {
        "colab": {
          "base_uri": "https://localhost:8080/"
        },
        "id": "e_8YlVKRRzN6",
        "outputId": "5875fb7d-0247-4d9a-ea0a-dbd6b4e0ebd8"
      },
      "source": [
        "i = 0\n",
        "while i <=3:\n",
        "  i += 2\n",
        "  print('*')"
      ],
      "execution_count": 31,
      "outputs": [
        {
          "output_type": "stream",
          "name": "stdout",
          "text": [
            "*\n",
            "*\n"
          ]
        }
      ]
    },
    {
      "cell_type": "code",
      "metadata": {
        "colab": {
          "base_uri": "https://localhost:8080/"
        },
        "id": "EO8n9rEER0-D",
        "outputId": "41b27384-2aa9-497f-d703-b05234f66492"
      },
      "source": [
        "lista = [1,2,3]\n",
        "for v in range(3):\n",
        "  lista.insert(1,lista[v])\n",
        "print(lista)"
      ],
      "execution_count": 32,
      "outputs": [
        {
          "output_type": "stream",
          "name": "stdout",
          "text": [
            "[1, 1, 1, 1, 2, 3]\n"
          ]
        }
      ]
    },
    {
      "cell_type": "code",
      "metadata": {
        "colab": {
          "base_uri": "https://localhost:8080/"
        },
        "id": "RLefIRS3R18l",
        "outputId": "5f2d15d0-1770-4096-ab82-26a6a8faa172"
      },
      "source": [
        "#Entender o que significa os codigos\n",
        "a = 1\n",
        "b = 0\n",
        "c = a & b\n",
        "d = a | b\n",
        "e = a ^ b\n",
        "print(c+d+e)"
      ],
      "execution_count": 33,
      "outputs": [
        {
          "output_type": "stream",
          "name": "stdout",
          "text": [
            "2\n"
          ]
        }
      ]
    },
    {
      "cell_type": "code",
      "metadata": {
        "colab": {
          "base_uri": "https://localhost:8080/"
        },
        "id": "N7SJmq53R3TK",
        "outputId": "d1257347-c756-47b6-dca8-f1ac63898fcd"
      },
      "source": [
        "nums = [1,2,3]\n",
        "vals = nums\n",
        "del vals[1:2]\n",
        "\n",
        "print(nums)\n",
        "print(vals)"
      ],
      "execution_count": 34,
      "outputs": [
        {
          "output_type": "stream",
          "name": "stdout",
          "text": [
            "[1, 3]\n",
            "[1, 3]\n"
          ]
        }
      ]
    },
    {
      "cell_type": "code",
      "metadata": {
        "colab": {
          "base_uri": "https://localhost:8080/"
        },
        "id": "PuVNfKaNR5OC",
        "outputId": "86d74640-ba84-46a8-b258-d29e36aaff20"
      },
      "source": [
        "var = 0\n",
        "while var < 6:\n",
        "  var +=1\n",
        "  if var % 2 ==0:\n",
        "    continue\n",
        "  print('*')"
      ],
      "execution_count": 35,
      "outputs": [
        {
          "output_type": "stream",
          "name": "stdout",
          "text": [
            "*\n",
            "*\n",
            "*\n"
          ]
        }
      ]
    },
    {
      "cell_type": "code",
      "metadata": {
        "colab": {
          "base_uri": "https://localhost:8080/"
        },
        "id": "TrY5DcynR6ay",
        "outputId": "b376d711-8056-46ee-dbe1-912331a5c7cb"
      },
      "source": [
        "t = [[3-i for i in range(3)]for j in range(3)]\n",
        "print(t)\n",
        "s = 0\n",
        "for i in range(3):\n",
        "  s += t[i][i]\n",
        "\n",
        "print(s)"
      ],
      "execution_count": 36,
      "outputs": [
        {
          "output_type": "stream",
          "name": "stdout",
          "text": [
            "[[3, 2, 1], [3, 2, 1], [3, 2, 1]]\n",
            "6\n"
          ]
        }
      ]
    },
    {
      "cell_type": "code",
      "metadata": {
        "colab": {
          "base_uri": "https://localhost:8080/"
        },
        "id": "Og8wKtg9R74i",
        "outputId": "c0df749c-0f15-49ce-b3e0-bcbaae738674"
      },
      "source": [
        "lista = [1,2,3,4]\n",
        "print(lista[-3:-2])"
      ],
      "execution_count": 37,
      "outputs": [
        {
          "output_type": "stream",
          "name": "stdout",
          "text": [
            "[2]\n"
          ]
        }
      ]
    },
    {
      "cell_type": "code",
      "metadata": {
        "colab": {
          "base_uri": "https://localhost:8080/"
        },
        "id": "rHiQpS7SR9M6",
        "outputId": "5aa06a23-65df-4e20-f563-5c6e7a769f3e"
      },
      "source": [
        "for i in range(1):\n",
        "  print('*')\n",
        "\n",
        "else:\n",
        "  print('*')"
      ],
      "execution_count": 38,
      "outputs": [
        {
          "output_type": "stream",
          "name": "stdout",
          "text": [
            "*\n",
            "*\n"
          ]
        }
      ]
    },
    {
      "cell_type": "code",
      "metadata": {
        "colab": {
          "base_uri": "https://localhost:8080/"
        },
        "id": "mW6qdfDwR-tM",
        "outputId": "90eacb4e-624c-40b3-ed60-154a9a95a4dd"
      },
      "source": [
        "lista = [3,1,-2]\n",
        "print(lista[lista[-1]])\n"
      ],
      "execution_count": 39,
      "outputs": [
        {
          "output_type": "stream",
          "name": "stdout",
          "text": [
            "1\n"
          ]
        }
      ]
    },
    {
      "cell_type": "code",
      "metadata": {
        "colab": {
          "base_uri": "https://localhost:8080/",
          "height": 244
        },
        "id": "oxJvv-dvZ7PT",
        "outputId": "dc6de2c9-2e88-42e8-e771-c0b88294ebaa"
      },
      "source": [
        "dicionario = {'one': 'two', 'three': 'one', 'two': 'three'}\n",
        "v = dicionario['one']\n",
        "\n",
        "\n",
        "\n",
        "for k in range(len(dicionario)):\n",
        "  v = dicionario[v]\n",
        "\n",
        "print(v)\n",
        "\n",
        "x = dicionario[0]\n",
        "print(x)\n"
      ],
      "execution_count": 49,
      "outputs": [
        {
          "output_type": "stream",
          "name": "stdout",
          "text": [
            "two\n"
          ]
        },
        {
          "output_type": "error",
          "ename": "KeyError",
          "evalue": "ignored",
          "traceback": [
            "\u001b[0;31m---------------------------------------------------------------------------\u001b[0m",
            "\u001b[0;31mKeyError\u001b[0m                                  Traceback (most recent call last)",
            "\u001b[0;32m<ipython-input-49-c9f8f9858db0>\u001b[0m in \u001b[0;36m<module>\u001b[0;34m()\u001b[0m\n\u001b[1;32m      9\u001b[0m \u001b[0mprint\u001b[0m\u001b[0;34m(\u001b[0m\u001b[0mv\u001b[0m\u001b[0;34m)\u001b[0m\u001b[0;34m\u001b[0m\u001b[0;34m\u001b[0m\u001b[0m\n\u001b[1;32m     10\u001b[0m \u001b[0;34m\u001b[0m\u001b[0m\n\u001b[0;32m---> 11\u001b[0;31m \u001b[0mx\u001b[0m \u001b[0;34m=\u001b[0m \u001b[0mdicionario\u001b[0m\u001b[0;34m[\u001b[0m\u001b[0;36m0\u001b[0m\u001b[0;34m]\u001b[0m\u001b[0;34m\u001b[0m\u001b[0;34m\u001b[0m\u001b[0m\n\u001b[0m\u001b[1;32m     12\u001b[0m \u001b[0mprint\u001b[0m\u001b[0;34m(\u001b[0m\u001b[0mx\u001b[0m\u001b[0;34m)\u001b[0m\u001b[0;34m\u001b[0m\u001b[0;34m\u001b[0m\u001b[0m\n",
            "\u001b[0;31mKeyError\u001b[0m: 0"
          ]
        }
      ]
    },
    {
      "cell_type": "code",
      "metadata": {
        "colab": {
          "base_uri": "https://localhost:8080/"
        },
        "id": "YS5lSwsTbEDd",
        "outputId": "c5778fa3-d40e-4b1a-a48f-58a241b35f98"
      },
      "source": [
        "def fun(x):\n",
        "  global y\n",
        "  y = x * x\n",
        "  return y\n",
        "\n",
        "fun(2)\n",
        "print(y)"
      ],
      "execution_count": 50,
      "outputs": [
        {
          "output_type": "stream",
          "name": "stdout",
          "text": [
            "4\n"
          ]
        }
      ]
    },
    {
      "cell_type": "code",
      "metadata": {
        "colab": {
          "base_uri": "https://localhost:8080/"
        },
        "id": "ExatnmImbNzE",
        "outputId": "d25919a0-6e68-4d12-a128-b5ba4bfdb4aa"
      },
      "source": [
        "a = None\n",
        "b = x \n",
        "\n",
        "a == b \n"
      ],
      "execution_count": 53,
      "outputs": [
        {
          "output_type": "execute_result",
          "data": {
            "text/plain": [
              "False"
            ]
          },
          "metadata": {},
          "execution_count": 53
        }
      ]
    },
    {
      "cell_type": "code",
      "metadata": {
        "colab": {
          "base_uri": "https://localhost:8080/"
        },
        "id": "pZTssBdHbaHN",
        "outputId": "07a072b5-b9bb-4bb7-ebba-1bfa1353a7b3"
      },
      "source": [
        "def fun(inp=2,out=3):\n",
        "  return inp * out\n",
        "\n",
        "print(fun(out=2))"
      ],
      "execution_count": 54,
      "outputs": [
        {
          "output_type": "stream",
          "name": "stdout",
          "text": [
            "4\n"
          ]
        }
      ]
    },
    {
      "cell_type": "code",
      "metadata": {
        "colab": {
          "base_uri": "https://localhost:8080/"
        },
        "id": "rdqy81e-bl8k",
        "outputId": "1fc98a83-3c66-4ccc-972f-cf949b4aa24d"
      },
      "source": [
        "def fun(x):\n",
        "  x +=1\n",
        "  return x\n",
        "\n",
        "x = 2\n",
        "x = fun(x+1)\n",
        "print(x)"
      ],
      "execution_count": 55,
      "outputs": [
        {
          "output_type": "stream",
          "name": "stdout",
          "text": [
            "4\n"
          ]
        }
      ]
    },
    {
      "cell_type": "code",
      "metadata": {
        "colab": {
          "base_uri": "https://localhost:8080/"
        },
        "id": "NC9j6z4qb_SL",
        "outputId": "765eb28e-4e51-4eb4-e2dc-1f37d84c91d8"
      },
      "source": [
        "def fun(x,y,z):\n",
        "  return x+2*y+3*z\n",
        "\n",
        "print(fun(0,z=1,y=3))"
      ],
      "execution_count": 56,
      "outputs": [
        {
          "output_type": "stream",
          "name": "stdout",
          "text": [
            "9\n"
          ]
        }
      ]
    },
    {
      "cell_type": "code",
      "metadata": {
        "colab": {
          "base_uri": "https://localhost:8080/"
        },
        "id": "Unr-lNIucJ8q",
        "outputId": "58b3ca60-b8c8-4d50-b450-f9a2989b1a0a"
      },
      "source": [
        "dicionario = {}\n",
        "lista = ['a','b','c','d']\n",
        "for i in range(len(lista)-1):\n",
        "  dicionario[lista[i]] = (lista[i],)\n",
        "\n",
        "print(dicionario)\n",
        "for i in sorted(dicionario.keys()): #sorted serve para ordenar uma lista\n",
        "  k = dicionario[i][0]\n",
        "  print(k)"
      ],
      "execution_count": 87,
      "outputs": [
        {
          "output_type": "stream",
          "name": "stdout",
          "text": [
            "{'a': ('a',), 'b': ('b',), 'c': ('c',)}\n",
            "a\n",
            "b\n",
            "c\n"
          ]
        }
      ]
    },
    {
      "cell_type": "code",
      "metadata": {
        "colab": {
          "base_uri": "https://localhost:8080/"
        },
        "id": "uS8WcM1UhCO2",
        "outputId": "0186659c-c87a-412e-da04-31b8595f5c41"
      },
      "source": [
        "lista = [5,2,1,8,6]\n",
        "\n",
        "lista = sorted(lista)\n",
        "\n",
        "print(lista)"
      ],
      "execution_count": 82,
      "outputs": [
        {
          "output_type": "stream",
          "name": "stdout",
          "text": [
            "[1, 2, 5, 6, 8]\n"
          ]
        }
      ]
    },
    {
      "cell_type": "code",
      "metadata": {
        "colab": {
          "base_uri": "https://localhost:8080/"
        },
        "id": "h7Zr-mfMcwWi",
        "outputId": "ee25f311-239d-4156-8cb4-7900afbadfa8"
      },
      "source": [
        "def fun1(a):\n",
        "  return a ** a\n",
        "\n",
        "def fun2(a):\n",
        "  return fun1(a) * fun1(a)\n",
        "\n",
        "print(fun2(2))"
      ],
      "execution_count": 60,
      "outputs": [
        {
          "output_type": "stream",
          "name": "stdout",
          "text": [
            "16\n"
          ]
        }
      ]
    },
    {
      "cell_type": "code",
      "metadata": {
        "colab": {
          "base_uri": "https://localhost:8080/"
        },
        "id": "Df3RDePJdDTR",
        "outputId": "78d8c1a1-54bf-40a4-bc69-02e6e510e286"
      },
      "source": [
        "tup = (1,2,4,8)\n",
        "tup = tup[1:-1]\n",
        "tup = tup[0]\n",
        "print(tup)"
      ],
      "execution_count": 62,
      "outputs": [
        {
          "output_type": "stream",
          "name": "stdout",
          "text": [
            "2\n"
          ]
        }
      ]
    },
    {
      "cell_type": "code",
      "metadata": {
        "colab": {
          "base_uri": "https://localhost:8080/",
          "height": 207
        },
        "id": "Taal3g3bdR0h",
        "outputId": "2dc2720e-b684-4a28-8465-363c7727eaae"
      },
      "source": [
        "def func(a, b):\n",
        "  return a ** a\n",
        "\n",
        "print(func(2))"
      ],
      "execution_count": 66,
      "outputs": [
        {
          "output_type": "error",
          "ename": "TypeError",
          "evalue": "ignored",
          "traceback": [
            "\u001b[0;31m---------------------------------------------------------------------------\u001b[0m",
            "\u001b[0;31mTypeError\u001b[0m                                 Traceback (most recent call last)",
            "\u001b[0;32m<ipython-input-66-c205304b4093>\u001b[0m in \u001b[0;36m<module>\u001b[0;34m()\u001b[0m\n\u001b[1;32m      2\u001b[0m   \u001b[0;32mreturn\u001b[0m \u001b[0ma\u001b[0m \u001b[0;34m**\u001b[0m \u001b[0ma\u001b[0m\u001b[0;34m\u001b[0m\u001b[0;34m\u001b[0m\u001b[0m\n\u001b[1;32m      3\u001b[0m \u001b[0;34m\u001b[0m\u001b[0m\n\u001b[0;32m----> 4\u001b[0;31m \u001b[0mprint\u001b[0m\u001b[0;34m(\u001b[0m\u001b[0mfunc\u001b[0m\u001b[0;34m(\u001b[0m\u001b[0;36m2\u001b[0m\u001b[0;34m)\u001b[0m\u001b[0;34m)\u001b[0m\u001b[0;34m\u001b[0m\u001b[0;34m\u001b[0m\u001b[0m\n\u001b[0m",
            "\u001b[0;31mTypeError\u001b[0m: func() missing 1 required positional argument: 'b'"
          ]
        }
      ]
    },
    {
      "cell_type": "code",
      "metadata": {
        "colab": {
          "base_uri": "https://localhost:8080/",
          "height": 189
        },
        "id": "2ZR3b4sGdlE4",
        "outputId": "b00ffeb9-e0f2-45a1-d05f-9a948f2287ce"
      },
      "source": [
        "tupla = (1,2,3)\n",
        "tupla[1] = tupla[1] + tupla[0]"
      ],
      "execution_count": 68,
      "outputs": [
        {
          "output_type": "error",
          "ename": "TypeError",
          "evalue": "ignored",
          "traceback": [
            "\u001b[0;31m---------------------------------------------------------------------------\u001b[0m",
            "\u001b[0;31mTypeError\u001b[0m                                 Traceback (most recent call last)",
            "\u001b[0;32m<ipython-input-68-71ce96a24adf>\u001b[0m in \u001b[0;36m<module>\u001b[0;34m()\u001b[0m\n\u001b[1;32m      1\u001b[0m \u001b[0mtupla\u001b[0m \u001b[0;34m=\u001b[0m \u001b[0;34m(\u001b[0m\u001b[0;36m1\u001b[0m\u001b[0;34m,\u001b[0m\u001b[0;36m2\u001b[0m\u001b[0;34m,\u001b[0m\u001b[0;36m3\u001b[0m\u001b[0;34m)\u001b[0m\u001b[0;34m\u001b[0m\u001b[0;34m\u001b[0m\u001b[0m\n\u001b[0;32m----> 2\u001b[0;31m \u001b[0mtupla\u001b[0m\u001b[0;34m[\u001b[0m\u001b[0;36m1\u001b[0m\u001b[0;34m]\u001b[0m \u001b[0;34m=\u001b[0m \u001b[0mtupla\u001b[0m\u001b[0;34m[\u001b[0m\u001b[0;36m1\u001b[0m\u001b[0;34m]\u001b[0m \u001b[0;34m+\u001b[0m \u001b[0mtupla\u001b[0m\u001b[0;34m[\u001b[0m\u001b[0;36m0\u001b[0m\u001b[0;34m]\u001b[0m\u001b[0;34m\u001b[0m\u001b[0;34m\u001b[0m\u001b[0m\n\u001b[0m",
            "\u001b[0;31mTypeError\u001b[0m: 'tuple' object does not support item assignment"
          ]
        }
      ]
    },
    {
      "cell_type": "code",
      "metadata": {
        "colab": {
          "base_uri": "https://localhost:8080/",
          "height": 335
        },
        "id": "RFK8TChNd861",
        "outputId": "e54aa9a9-19b6-4869-be4f-94ca0534109e"
      },
      "source": [
        "#analisar com mais calma\n",
        "lista = ['mary', 'had','a','little','lamb']\n",
        "\n",
        "def lista(lista):\n",
        "  del lista[3]\n",
        "  lista[3] = 'ram'\n",
        "\n",
        "print(lista(lista))"
      ],
      "execution_count": 80,
      "outputs": [
        {
          "output_type": "error",
          "ename": "TypeError",
          "evalue": "ignored",
          "traceback": [
            "\u001b[0;31m---------------------------------------------------------------------------\u001b[0m",
            "\u001b[0;31mTypeError\u001b[0m                                 Traceback (most recent call last)",
            "\u001b[0;32m<ipython-input-80-eb89e00257e5>\u001b[0m in \u001b[0;36m<module>\u001b[0;34m()\u001b[0m\n\u001b[1;32m      6\u001b[0m   \u001b[0mlista\u001b[0m\u001b[0;34m[\u001b[0m\u001b[0;36m3\u001b[0m\u001b[0;34m]\u001b[0m \u001b[0;34m=\u001b[0m \u001b[0;34m'ram'\u001b[0m\u001b[0;34m\u001b[0m\u001b[0;34m\u001b[0m\u001b[0m\n\u001b[1;32m      7\u001b[0m \u001b[0;34m\u001b[0m\u001b[0m\n\u001b[0;32m----> 8\u001b[0;31m \u001b[0mprint\u001b[0m\u001b[0;34m(\u001b[0m\u001b[0mlista\u001b[0m\u001b[0;34m(\u001b[0m\u001b[0mlista\u001b[0m\u001b[0;34m)\u001b[0m\u001b[0;34m)\u001b[0m\u001b[0;34m\u001b[0m\u001b[0;34m\u001b[0m\u001b[0m\n\u001b[0m",
            "\u001b[0;32m<ipython-input-80-eb89e00257e5>\u001b[0m in \u001b[0;36mlista\u001b[0;34m(lista)\u001b[0m\n\u001b[1;32m      3\u001b[0m \u001b[0;34m\u001b[0m\u001b[0m\n\u001b[1;32m      4\u001b[0m \u001b[0;32mdef\u001b[0m \u001b[0mlista\u001b[0m\u001b[0;34m(\u001b[0m\u001b[0mlista\u001b[0m\u001b[0;34m)\u001b[0m\u001b[0;34m:\u001b[0m\u001b[0;34m\u001b[0m\u001b[0;34m\u001b[0m\u001b[0m\n\u001b[0;32m----> 5\u001b[0;31m   \u001b[0;32mdel\u001b[0m \u001b[0mlista\u001b[0m\u001b[0;34m[\u001b[0m\u001b[0;36m3\u001b[0m\u001b[0;34m]\u001b[0m\u001b[0;34m\u001b[0m\u001b[0;34m\u001b[0m\u001b[0m\n\u001b[0m\u001b[1;32m      6\u001b[0m   \u001b[0mlista\u001b[0m\u001b[0;34m[\u001b[0m\u001b[0;36m3\u001b[0m\u001b[0;34m]\u001b[0m \u001b[0;34m=\u001b[0m \u001b[0;34m'ram'\u001b[0m\u001b[0;34m\u001b[0m\u001b[0;34m\u001b[0m\u001b[0m\n\u001b[1;32m      7\u001b[0m \u001b[0;34m\u001b[0m\u001b[0m\n",
            "\u001b[0;31mTypeError\u001b[0m: 'function' object does not support item deletion"
          ]
        }
      ]
    },
    {
      "cell_type": "code",
      "metadata": {
        "id": "sng_wPlZebwe"
      },
      "source": [
        "def funcao(x=0):\n",
        "  return x"
      ],
      "execution_count": 71,
      "outputs": []
    },
    {
      "cell_type": "code",
      "metadata": {
        "colab": {
          "base_uri": "https://localhost:8080/"
        },
        "id": "_mopX3CketDT",
        "outputId": "edc047b8-c436-42d7-a930-3800502b2df9"
      },
      "source": [
        "def any ():\n",
        "  print(var + 1, end='')\n",
        "\n",
        "var = 1\n",
        "any()\n",
        "print(var)"
      ],
      "execution_count": 72,
      "outputs": [
        {
          "output_type": "stream",
          "name": "stdout",
          "text": [
            "21\n"
          ]
        }
      ]
    },
    {
      "cell_type": "code",
      "metadata": {
        "colab": {
          "base_uri": "https://localhost:8080/"
        },
        "id": "MSS4ttH4fGzS",
        "outputId": "d1f208f7-0072-4d4f-b5af-97ac8898c0b4"
      },
      "source": [
        "#ver com mais calma\n",
        "def f(x):\n",
        "  if x ==0:\n",
        "    return 0\n",
        "  return x + f(x-1)\n",
        "\n",
        "print(f(3))"
      ],
      "execution_count": 73,
      "outputs": [
        {
          "output_type": "stream",
          "name": "stdout",
          "text": [
            "6\n"
          ]
        }
      ]
    },
    {
      "cell_type": "code",
      "metadata": {
        "colab": {
          "base_uri": "https://localhost:8080/",
          "height": 207
        },
        "id": "BeI8kfWhfbLR",
        "outputId": "fcd6f2e5-316a-42e2-ff95-14ad64a8b696"
      },
      "source": [
        "def fun(x):\n",
        "  if x % 2 ==0:\n",
        "    return 1\n",
        "  else:\n",
        "    return\n",
        "  \n",
        "print(fun(fun(2)) + 1)"
      ],
      "execution_count": 74,
      "outputs": [
        {
          "output_type": "error",
          "ename": "TypeError",
          "evalue": "ignored",
          "traceback": [
            "\u001b[0;31m---------------------------------------------------------------------------\u001b[0m",
            "\u001b[0;31mTypeError\u001b[0m                                 Traceback (most recent call last)",
            "\u001b[0;32m<ipython-input-74-1c037c1725a3>\u001b[0m in \u001b[0;36m<module>\u001b[0;34m()\u001b[0m\n\u001b[1;32m      5\u001b[0m     \u001b[0;32mreturn\u001b[0m\u001b[0;34m\u001b[0m\u001b[0;34m\u001b[0m\u001b[0m\n\u001b[1;32m      6\u001b[0m \u001b[0;34m\u001b[0m\u001b[0m\n\u001b[0;32m----> 7\u001b[0;31m \u001b[0mprint\u001b[0m\u001b[0;34m(\u001b[0m\u001b[0mfun\u001b[0m\u001b[0;34m(\u001b[0m\u001b[0mfun\u001b[0m\u001b[0;34m(\u001b[0m\u001b[0;36m2\u001b[0m\u001b[0;34m)\u001b[0m\u001b[0;34m)\u001b[0m\u001b[0;34m+\u001b[0m\u001b[0;36m1\u001b[0m\u001b[0;34m)\u001b[0m\u001b[0;34m\u001b[0m\u001b[0;34m\u001b[0m\u001b[0m\n\u001b[0m",
            "\u001b[0;31mTypeError\u001b[0m: unsupported operand type(s) for +: 'NoneType' and 'int'"
          ]
        }
      ]
    },
    {
      "cell_type": "code",
      "metadata": {
        "colab": {
          "base_uri": "https://localhost:8080/"
        },
        "id": "euZqbrvRmc7_",
        "outputId": "e04a60b6-3962-41fe-84a8-c05c680d0d01"
      },
      "source": [
        "lista = [x*x for x in range(5)]\n",
        "print(lista)\n",
        "\n",
        "def fun(lst):\n",
        "  del lst[lst[2]]\n",
        "  return lst\n",
        "\n",
        "print(fun(lista))"
      ],
      "execution_count": 89,
      "outputs": [
        {
          "output_type": "stream",
          "name": "stdout",
          "text": [
            "[0, 1, 4, 9, 16]\n",
            "[0, 1, 4, 9]\n"
          ]
        }
      ]
    },
    {
      "cell_type": "code",
      "metadata": {
        "colab": {
          "base_uri": "https://localhost:8080/"
        },
        "id": "ZMBPIeJjmval",
        "outputId": "8e4c8801-1024-48aa-ead7-27d58af754ea"
      },
      "source": [
        "lista = [[x for x in range(3)] for y in range(3)]\n",
        "for r in range(3):\n",
        "  for c in range(3):\n",
        "    print(r,c)\n",
        "    if lista[r][c] % 2 !=0:\n",
        "      print('*')"
      ],
      "execution_count": 92,
      "outputs": [
        {
          "output_type": "stream",
          "name": "stdout",
          "text": [
            "0 0\n",
            "0 1\n",
            "*\n",
            "0 2\n",
            "1 0\n",
            "1 1\n",
            "*\n",
            "1 2\n",
            "2 0\n",
            "2 1\n",
            "*\n",
            "2 2\n"
          ]
        }
      ]
    },
    {
      "cell_type": "code",
      "metadata": {
        "colab": {
          "base_uri": "https://localhost:8080/"
        },
        "id": "F9VTOLc8nOLc",
        "outputId": "746e6b73-bd51-4fcd-b789-3e44f0d86e3f"
      },
      "source": [
        "lista = [1,2]\n",
        "for v in range(2):\n",
        "  lista.insert(-1, lista[v]) #na posição -1 inserir o valor lista´v\n",
        "\n",
        "print(lista)"
      ],
      "execution_count": 93,
      "outputs": [
        {
          "output_type": "stream",
          "name": "stdout",
          "text": [
            "[1, 1, 1, 2]\n"
          ]
        }
      ]
    },
    {
      "cell_type": "code",
      "metadata": {
        "colab": {
          "base_uri": "https://localhost:8080/"
        },
        "id": "s1mk6lslntoM",
        "outputId": "6923981a-d61d-4bc7-d77a-e7f7533d8648"
      },
      "source": [
        "lista = [i for i in range(-1,-2)]\n",
        "print(lista)"
      ],
      "execution_count": 95,
      "outputs": [
        {
          "output_type": "stream",
          "name": "stdout",
          "text": [
            "[]\n"
          ]
        }
      ]
    },
    {
      "cell_type": "code",
      "metadata": {
        "colab": {
          "base_uri": "https://localhost:8080/"
        },
        "id": "hB6kDBUSn5dj",
        "outputId": "c61367f9-6e80-4025-92c3-47e92acf8b1f"
      },
      "source": [
        "nums = [1,2,3]\n",
        "vals = nums\n",
        "del vals[:]\n",
        "print(vals)\n",
        "print(nums)"
      ],
      "execution_count": 98,
      "outputs": [
        {
          "output_type": "stream",
          "name": "stdout",
          "text": [
            "[]\n",
            "[]\n"
          ]
        }
      ]
    },
    {
      "cell_type": "code",
      "metadata": {
        "colab": {
          "base_uri": "https://localhost:8080/"
        },
        "id": "qg3tHT53oK4w",
        "outputId": "3d956914-d67e-4055-b641-2380f8c36621"
      },
      "source": [
        "4 ** (1/2)"
      ],
      "execution_count": 99,
      "outputs": [
        {
          "output_type": "execute_result",
          "data": {
            "text/plain": [
              "2.0"
            ]
          },
          "metadata": {},
          "execution_count": 99
        }
      ]
    },
    {
      "cell_type": "code",
      "metadata": {
        "colab": {
          "base_uri": "https://localhost:8080/"
        },
        "id": "QOasPvXrokgq",
        "outputId": "0c87bf19-99d3-4e9f-fcc3-2dab1c614108"
      },
      "source": [
        "dic = {}\n",
        "dic['1'] = (1,2)\n",
        "dic['2'] = (2,1)\n",
        "print(dic['1'][0])\n",
        "\n",
        "#for x in dic.keys():\n",
        "  #print(dic[x][1], end='')"
      ],
      "execution_count": 111,
      "outputs": [
        {
          "output_type": "stream",
          "name": "stdout",
          "text": [
            "1\n"
          ]
        }
      ]
    },
    {
      "cell_type": "code",
      "metadata": {
        "colab": {
          "base_uri": "https://localhost:8080/"
        },
        "id": "ZjrIQO3mpY8m",
        "outputId": "66c0230c-e796-4d2a-a1cf-607eafc8b8ec"
      },
      "source": [
        "#Verificar com calma\n",
        "dicionario = {'one':'two','three':'one','two':'three'}\n",
        "v = dicionario['three']\n",
        "for k in range(len(dicionario)):\n",
        "  v = dicionario[v]\n",
        "\n",
        "print(v)"
      ],
      "execution_count": 113,
      "outputs": [
        {
          "output_type": "stream",
          "name": "stdout",
          "text": [
            "one\n"
          ]
        }
      ]
    },
    {
      "cell_type": "code",
      "metadata": {
        "colab": {
          "base_uri": "https://localhost:8080/"
        },
        "id": "qw2Xk55gp_p6",
        "outputId": "309659a3-e2df-42b3-9910-e752d61f4f24"
      },
      "source": [
        "x = 3\n",
        "y = 2\n",
        "x = x % y\n",
        "x = x % y\n",
        "y = y % x\n",
        "print(y)"
      ],
      "execution_count": 114,
      "outputs": [
        {
          "output_type": "stream",
          "name": "stdout",
          "text": [
            "0\n"
          ]
        }
      ]
    },
    {
      "cell_type": "code",
      "metadata": {
        "colab": {
          "base_uri": "https://localhost:8080/"
        },
        "id": "NLUUl1LWqhw6",
        "outputId": "3efe88cd-9bd4-467f-cbac-1e7bf455d6ec"
      },
      "source": [
        "def fun(x,y):\n",
        "  if x == y:\n",
        "    return x\n",
        "  else:\n",
        "    return fun(x,y-1)\n",
        "  \n",
        "print(fun(0,3))"
      ],
      "execution_count": 116,
      "outputs": [
        {
          "output_type": "stream",
          "name": "stdout",
          "text": [
            "0\n"
          ]
        }
      ]
    },
    {
      "cell_type": "code",
      "metadata": {
        "colab": {
          "base_uri": "https://localhost:8080/"
        },
        "id": "8SebO3Y_qr7E",
        "outputId": "f1471a63-d211-4f94-d3e0-339886ef420c"
      },
      "source": [
        "#verificar o que significa os sinais\n",
        "a = 1\n",
        "b = 0\n",
        "a = a ^ b\n",
        "b = a ^ b\n",
        "a = a ^ b\n",
        "\n",
        "print(a,b)"
      ],
      "execution_count": 117,
      "outputs": [
        {
          "output_type": "stream",
          "name": "stdout",
          "text": [
            "0 1\n"
          ]
        }
      ]
    },
    {
      "cell_type": "code",
      "metadata": {
        "colab": {
          "base_uri": "https://localhost:8080/"
        },
        "id": "2QH8YIqDwE0n",
        "outputId": "2c0b1bef-b617-4466-aac2-7686d96dfcd4"
      },
      "source": [
        "0 ^ 0"
      ],
      "execution_count": 146,
      "outputs": [
        {
          "output_type": "execute_result",
          "data": {
            "text/plain": [
              "0"
            ]
          },
          "metadata": {},
          "execution_count": 146
        }
      ]
    },
    {
      "cell_type": "code",
      "metadata": {
        "colab": {
          "base_uri": "https://localhost:8080/"
        },
        "id": "mgvDqTd4rDhS",
        "outputId": "e9386d42-5ef3-449e-bc74-0c539a407e25"
      },
      "source": [
        "dd = {'1':'0', '0':'1'}\n",
        "for x in dd.values():\n",
        "  print(x,end='')"
      ],
      "execution_count": 125,
      "outputs": [
        {
          "output_type": "stream",
          "name": "stdout",
          "text": [
            "01"
          ]
        }
      ]
    },
    {
      "cell_type": "code",
      "metadata": {
        "colab": {
          "base_uri": "https://localhost:8080/"
        },
        "id": "Y1LlFGg_sKfi",
        "outputId": "c63e055c-364b-4e7d-d68f-764822e12b10"
      },
      "source": [
        "print('a','b','c', sep='sep')"
      ],
      "execution_count": 126,
      "outputs": [
        {
          "output_type": "stream",
          "name": "stdout",
          "text": [
            "asepbsepc\n"
          ]
        }
      ]
    },
    {
      "cell_type": "code",
      "metadata": {
        "colab": {
          "base_uri": "https://localhost:8080/"
        },
        "id": "xKAQpV2YsTDq",
        "outputId": "bb57fadb-ba77-4b20-d581-ed6c3ca5a1ca"
      },
      "source": [
        "tup = (1,2,4,8)\n",
        "tup = tup[-2:-1]\n",
        "tup = tup[-1]\n",
        "print(tup)"
      ],
      "execution_count": 130,
      "outputs": [
        {
          "output_type": "stream",
          "name": "stdout",
          "text": [
            "4\n"
          ]
        }
      ]
    },
    {
      "cell_type": "code",
      "metadata": {
        "colab": {
          "base_uri": "https://localhost:8080/",
          "height": 335
        },
        "id": "5nkPfKPhslkZ",
        "outputId": "9f49d244-dedf-4ba8-ea76-753c7436945a"
      },
      "source": [
        "def funcao1(a):\n",
        "  return None\n",
        "\n",
        "def funcao2(a):\n",
        "  return funcao1(a) * funcao1(a)\n",
        "\n",
        "print(funcao2(2))"
      ],
      "execution_count": 131,
      "outputs": [
        {
          "output_type": "error",
          "ename": "TypeError",
          "evalue": "ignored",
          "traceback": [
            "\u001b[0;31m---------------------------------------------------------------------------\u001b[0m",
            "\u001b[0;31mTypeError\u001b[0m                                 Traceback (most recent call last)",
            "\u001b[0;32m<ipython-input-131-618f7f8571e3>\u001b[0m in \u001b[0;36m<module>\u001b[0;34m()\u001b[0m\n\u001b[1;32m      5\u001b[0m   \u001b[0;32mreturn\u001b[0m \u001b[0mfuncao1\u001b[0m\u001b[0;34m(\u001b[0m\u001b[0ma\u001b[0m\u001b[0;34m)\u001b[0m \u001b[0;34m*\u001b[0m \u001b[0mfuncao1\u001b[0m\u001b[0;34m(\u001b[0m\u001b[0ma\u001b[0m\u001b[0;34m)\u001b[0m\u001b[0;34m\u001b[0m\u001b[0;34m\u001b[0m\u001b[0m\n\u001b[1;32m      6\u001b[0m \u001b[0;34m\u001b[0m\u001b[0m\n\u001b[0;32m----> 7\u001b[0;31m \u001b[0mprint\u001b[0m\u001b[0;34m(\u001b[0m\u001b[0mfuncao2\u001b[0m\u001b[0;34m(\u001b[0m\u001b[0;36m2\u001b[0m\u001b[0;34m)\u001b[0m\u001b[0;34m)\u001b[0m\u001b[0;34m\u001b[0m\u001b[0;34m\u001b[0m\u001b[0m\n\u001b[0m",
            "\u001b[0;32m<ipython-input-131-618f7f8571e3>\u001b[0m in \u001b[0;36mfuncao2\u001b[0;34m(a)\u001b[0m\n\u001b[1;32m      3\u001b[0m \u001b[0;34m\u001b[0m\u001b[0m\n\u001b[1;32m      4\u001b[0m \u001b[0;32mdef\u001b[0m \u001b[0mfuncao2\u001b[0m\u001b[0;34m(\u001b[0m\u001b[0ma\u001b[0m\u001b[0;34m)\u001b[0m\u001b[0;34m:\u001b[0m\u001b[0;34m\u001b[0m\u001b[0;34m\u001b[0m\u001b[0m\n\u001b[0;32m----> 5\u001b[0;31m   \u001b[0;32mreturn\u001b[0m \u001b[0mfuncao1\u001b[0m\u001b[0;34m(\u001b[0m\u001b[0ma\u001b[0m\u001b[0;34m)\u001b[0m \u001b[0;34m*\u001b[0m \u001b[0mfuncao1\u001b[0m\u001b[0;34m(\u001b[0m\u001b[0ma\u001b[0m\u001b[0;34m)\u001b[0m\u001b[0;34m\u001b[0m\u001b[0;34m\u001b[0m\u001b[0m\n\u001b[0m\u001b[1;32m      6\u001b[0m \u001b[0;34m\u001b[0m\u001b[0m\n\u001b[1;32m      7\u001b[0m \u001b[0mprint\u001b[0m\u001b[0;34m(\u001b[0m\u001b[0mfuncao2\u001b[0m\u001b[0;34m(\u001b[0m\u001b[0;36m2\u001b[0m\u001b[0;34m)\u001b[0m\u001b[0;34m)\u001b[0m\u001b[0;34m\u001b[0m\u001b[0;34m\u001b[0m\u001b[0m\n",
            "\u001b[0;31mTypeError\u001b[0m: unsupported operand type(s) for *: 'NoneType' and 'NoneType'"
          ]
        }
      ]
    },
    {
      "cell_type": "code",
      "metadata": {
        "colab": {
          "base_uri": "https://localhost:8080/"
        },
        "id": "Sph-15rFs6iJ",
        "outputId": "625b1a43-5b70-4d7f-ea94-61d520ccf03f"
      },
      "source": [
        "def fun(x):\n",
        "  if x % 2 ==0:\n",
        "    return 1\n",
        "  else:\n",
        "    return 2\n",
        "\n",
        "print(fun(fun(2)))"
      ],
      "execution_count": 132,
      "outputs": [
        {
          "output_type": "stream",
          "name": "stdout",
          "text": [
            "2\n"
          ]
        }
      ]
    },
    {
      "cell_type": "code",
      "metadata": {
        "colab": {
          "base_uri": "https://localhost:8080/"
        },
        "id": "WNLf939BtGep",
        "outputId": "28e6842a-c3af-4e43-c550-d0ddf75d033a"
      },
      "source": [
        "def funcao(a,b):\n",
        "  return b ** a\n",
        "\n",
        "print(funcao(2,b=2))"
      ],
      "execution_count": 140,
      "outputs": [
        {
          "output_type": "stream",
          "name": "stdout",
          "text": [
            "4\n"
          ]
        }
      ]
    },
    {
      "cell_type": "code",
      "metadata": {
        "colab": {
          "base_uri": "https://localhost:8080/"
        },
        "id": "SmdfcmRttRRp",
        "outputId": "3c226b22-dcdd-4319-8a0f-5405ce154fb9"
      },
      "source": [
        "x = 1\n",
        "y = 2\n",
        "x,y,z = x,x,y \n",
        "z,y,z = x,y,z\n",
        "\n",
        "print(x,y,z)"
      ],
      "execution_count": 142,
      "outputs": [
        {
          "output_type": "stream",
          "name": "stdout",
          "text": [
            "1 1 2\n"
          ]
        }
      ]
    },
    {
      "cell_type": "code",
      "metadata": {
        "colab": {
          "base_uri": "https://localhost:8080/"
        },
        "id": "C_RXjwWruCfJ",
        "outputId": "6359301b-5d47-414e-f741-6ad6f8b6f8cc"
      },
      "source": [
        "x = 1 // 5 + 1/5\n",
        "print(x)"
      ],
      "execution_count": 144,
      "outputs": [
        {
          "output_type": "stream",
          "name": "stdout",
          "text": [
            "0.2\n"
          ]
        }
      ]
    },
    {
      "cell_type": "code",
      "metadata": {
        "colab": {
          "base_uri": "https://localhost:8080/"
        },
        "id": "gIj0xVy2_PA5",
        "outputId": "6494935e-2da8-4c14-9206-d264cd56a52e"
      },
      "source": [
        "dados = {\"nome\" : input(\"Digite seu nome: \"),\n",
        "\"Idade\": int(input(\"Digite sua Idade: \")),\n",
        "\"Altura\": float(input(\"Digite sua altura: \")),\n",
        "\"Peso\": float(input(\"Digite seu peso: \")) }\n",
        "\n",
        "print(dados)"
      ],
      "execution_count": 147,
      "outputs": [
        {
          "output_type": "stream",
          "name": "stdout",
          "text": [
            "Digite seu nome: murilo\n",
            "Digite sua Idade: 28\n",
            "Digite sua altura: 1.65\n",
            "Digite seu peso: 64\n",
            "{'nome': 'murilo', 'Idade': 28, 'Altura': 1.65, 'Peso': 64.0}\n"
          ]
        }
      ]
    }
  ]
}