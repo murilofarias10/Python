{
 "cells": [
  {
   "cell_type": "code",
   "execution_count": null,
   "metadata": {},
   "outputs": [],
   "source": [
    "Este notebook foi criado para realizar a Trilha Digital | Coders 24 | Engenharia de dados\n",
    "Autor: Murilo Farias\n",
    "Data de Início: 09/06/2024\n",
    "Professor: Alisson Silva ADA\n",
    "IDE (integrated development environment): VSC (Visual Studio Code)"
   ]
  },
  {
   "cell_type": "markdown",
   "metadata": {},
   "source": [
    "Python é case sensitive\n",
    "Aula 1\n",
    "Entrada e Saída de Dados\n",
    "Variáveis\n",
    "    Tipos de variaveis\n",
    "        int: numeros inteiros\n",
    "        float: numeros com parte decimal\n",
    "        str: dados textuais (string)\n",
    "        bool: valores logicos"
   ]
  },
  {
   "cell_type": "code",
   "execution_count": 28,
   "metadata": {},
   "outputs": [
    {
     "name": "stdout",
     "output_type": "stream",
     "text": [
      "\n",
      " idade é: 29 \n",
      " altura é: 1.7 \n",
      " nome é: Murilo Farias \n",
      " está estudando ? True\n"
     ]
    }
   ],
   "source": [
    "#Comentário ou \"\"\"\" para varias linhas \"\"\"\"\n",
    "#print(\"Bem vindo ao Curso\")\n",
    "\n",
    "idade = 29\n",
    "altura = 1.70\n",
    "nome = \"Murilo Farias\"\n",
    "estudando = True\n",
    "\n",
    "print(\"\\n\", \"idade é:\", idade, \"\\n\", \n",
    "      \"altura é:\", altura,  \"\\n\",\n",
    "      \"nome é:\", nome, \"\\n\",\n",
    "      \"está estudando ?\", estudando)\n",
    "#print(type(idade))\n",
    "#print(type(altura))\n",
    "#print(type(nome))\n",
    "#print(type(estudando))\n",
    "\n",
    "#linguagem = input('Qual é a linguagem de programação que voce está estudando ?')\n",
    "#print('A linguagem que voce está estudando é:', linguagem)"
   ]
  },
  {
   "cell_type": "markdown",
   "metadata": {},
   "source": [
    "Aula 2\n",
    "Operadores Aritméticos e Booleanos\n",
    "    Soma +\n",
    "    Subtração -\n",
    "    Multiplicação *\n",
    "    Divisao /\n",
    "    Divisao Inteira //\n",
    "    Resto da divisao %\n",
    "    Potencia **"
   ]
  },
  {
   "cell_type": "code",
   "execution_count": 32,
   "metadata": {},
   "outputs": [
    {
     "name": "stdout",
     "output_type": "stream",
     "text": [
      "soma 30\n",
      "subtração -10\n",
      "multiplicação 200\n",
      "divisao 0.5\n",
      "divisao inteira 0\n",
      "resto da divisao 10\n",
      "2^3 8\n"
     ]
    }
   ],
   "source": [
    "numero1 = 10\n",
    "numero2 = 20\n",
    "\n",
    "print(\"soma\",numero1 + numero2)\n",
    "print(\"subtração\",numero1 - numero2)\n",
    "print(\"multiplicação\",numero1 * numero2)\n",
    "print(\"divisao\",numero1 / numero2)\n",
    "print(\"divisao inteira\", numero1 // numero2)\n",
    "print(\"resto da divisao\",numero1 % numero2)\n",
    "print(\"2^3\",2**3)"
   ]
  },
  {
   "cell_type": "code",
   "execution_count": 41,
   "metadata": {},
   "outputs": [
    {
     "name": "stdout",
     "output_type": "stream",
     "text": [
      "Idade1 > Idade2 ?  False\n",
      "idade1 <= idade2 ?  True\n",
      "Python == python ?  False Case Sensitive\n",
      "banana != abacaxi ? True\n",
      "altura1 >= altura2 ?  True\n",
      "altura2 > altura3 ? False\n"
     ]
    }
   ],
   "source": [
    "idade1 = 10\n",
    "idade2 = 15\n",
    "altura1 = 1.77\n",
    "altura2 = 1.65\n",
    "altura3 = altura2\n",
    "\n",
    "print(\"Idade1 > Idade2 ? \", idade1 > idade2) #false\n",
    "print(\"idade1 <= idade2 ? \",idade1 <= idade2) #true\n",
    "print(\"Python == python ? \", \"Python\" == \"python\", \"Case Sensitive\") #false\n",
    "print(\"banana != abacaxi ?\", \"banana\" != \"abacaxi\") #true\n",
    "print(\"altura1 >= altura2 ? \", altura1 >= altura2) #true\n",
    "print(\"altura2 > altura3 ?\", altura2 > altura3) #false"
   ]
  },
  {
   "cell_type": "markdown",
   "metadata": {},
   "source": [
    "Aula 3\n",
    "Conversão de Tipos\n",
    "    int()\n",
    "    str()\n",
    "    float()\n",
    "    bool()\n"
   ]
  },
  {
   "cell_type": "code",
   "execution_count": 49,
   "metadata": {},
   "outputs": [
    {
     "name": "stdout",
     "output_type": "stream",
     "text": [
      "sua altura é: 1.62 <class 'float'>\n"
     ]
    }
   ],
   "source": [
    "#idade = '26'\n",
    "#print(idade, type(idade))\n",
    "#idade = int(idade)\n",
    "#print(idade, type(idade))\n",
    "\n",
    "altura = float(input(\"Digite sua altura: \"))\n",
    "print(\"sua altura é:\", altura, type(altura))"
   ]
  },
  {
   "cell_type": "markdown",
   "metadata": {},
   "source": [
    "Aula 4\n",
    "Estruturas Condicionais"
   ]
  },
  {
   "cell_type": "code",
   "execution_count": 52,
   "metadata": {},
   "outputs": [
    {
     "name": "stdout",
     "output_type": "stream",
     "text": [
      "voce tem 75 anos de idade e é maior\n"
     ]
    }
   ],
   "source": [
    "idade = int(input(\"Qual é a sua idade ? \"))\n",
    "if idade >= 18:\n",
    "    print('voce tem', idade, 'anos de idade e é maior')\n",
    "\n",
    "else:\n",
    "    print('voce tem', idade, 'anos de idade e é menor de idade')"
   ]
  }
 ],
 "metadata": {
  "kernelspec": {
   "display_name": "Python 3",
   "language": "python",
   "name": "python3"
  },
  "language_info": {
   "codemirror_mode": {
    "name": "ipython",
    "version": 3
   },
   "file_extension": ".py",
   "mimetype": "text/x-python",
   "name": "python",
   "nbconvert_exporter": "python",
   "pygments_lexer": "ipython3",
   "version": "3.11.4"
  }
 },
 "nbformat": 4,
 "nbformat_minor": 2
}
