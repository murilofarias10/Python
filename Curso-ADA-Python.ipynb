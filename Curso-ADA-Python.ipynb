{
 "cells": [
  {
   "cell_type": "code",
   "execution_count": null,
   "metadata": {},
   "outputs": [],
   "source": [
    "Este notebook foi criado para realizar a Trilha Digital | Coders 24 | Engenharia de dados\n",
    "Autor: Murilo Farias\n",
    "Data de Início: 09/06/2024\n",
    "Professor: Alisson Silva ADA\n",
    "IDE (integrated development environment): VSC (Visual Studio Code)"
   ]
  },
  {
   "cell_type": "markdown",
   "metadata": {},
   "source": [
    "Python é case sensitive\n",
    "Aula 1\n",
    "Entrada e Saída de Dados\n",
    "Variáveis\n",
    "    Tipos de variaveis\n",
    "        int: numeros inteiros\n",
    "        float: numeros com parte decimal\n",
    "        str: dados textuais (string)\n",
    "        bool: valores logicos"
   ]
  },
  {
   "cell_type": "code",
   "execution_count": 28,
   "metadata": {},
   "outputs": [
    {
     "name": "stdout",
     "output_type": "stream",
     "text": [
      "\n",
      " idade é: 29 \n",
      " altura é: 1.7 \n",
      " nome é: Murilo Farias \n",
      " está estudando ? True\n"
     ]
    }
   ],
   "source": [
    "#Comentário ou \"\"\"\" para varias linhas \"\"\"\"\n",
    "#print(\"Bem vindo ao Curso\")\n",
    "\n",
    "idade = 29\n",
    "altura = 1.70\n",
    "nome = \"Murilo Farias\"\n",
    "estudando = True\n",
    "\n",
    "print(\"\\n\", \"idade é:\", idade, \"\\n\", \n",
    "      \"altura é:\", altura,  \"\\n\",\n",
    "      \"nome é:\", nome, \"\\n\",\n",
    "      \"está estudando ?\", estudando)\n",
    "#print(type(idade))\n",
    "#print(type(altura))\n",
    "#print(type(nome))\n",
    "#print(type(estudando))\n",
    "\n",
    "#linguagem = input('Qual é a linguagem de programação que voce está estudando ?')\n",
    "#print('A linguagem que voce está estudando é:', linguagem)"
   ]
  },
  {
   "cell_type": "markdown",
   "metadata": {},
   "source": [
    "Aula 2\n",
    "Operadores Aritméticos e Booleanos\n",
    "    Soma +\n",
    "    Subtração -\n",
    "    Multiplicação *\n",
    "    Divisao /\n",
    "    Divisao Inteira //\n",
    "    Resto da divisao %\n",
    "    Potencia **"
   ]
  },
  {
   "cell_type": "code",
   "execution_count": 32,
   "metadata": {},
   "outputs": [
    {
     "name": "stdout",
     "output_type": "stream",
     "text": [
      "soma 30\n",
      "subtração -10\n",
      "multiplicação 200\n",
      "divisao 0.5\n",
      "divisao inteira 0\n",
      "resto da divisao 10\n",
      "2^3 8\n"
     ]
    }
   ],
   "source": [
    "numero1 = 10\n",
    "numero2 = 20\n",
    "\n",
    "print(\"soma\",numero1 + numero2)\n",
    "print(\"subtração\",numero1 - numero2)\n",
    "print(\"multiplicação\",numero1 * numero2)\n",
    "print(\"divisao\",numero1 / numero2)\n",
    "print(\"divisao inteira\", numero1 // numero2)\n",
    "print(\"resto da divisao\",numero1 % numero2)\n",
    "print(\"2^3\",2**3)"
   ]
  },
  {
   "cell_type": "code",
   "execution_count": 41,
   "metadata": {},
   "outputs": [
    {
     "name": "stdout",
     "output_type": "stream",
     "text": [
      "Idade1 > Idade2 ?  False\n",
      "idade1 <= idade2 ?  True\n",
      "Python == python ?  False Case Sensitive\n",
      "banana != abacaxi ? True\n",
      "altura1 >= altura2 ?  True\n",
      "altura2 > altura3 ? False\n"
     ]
    }
   ],
   "source": [
    "idade1 = 10\n",
    "idade2 = 15\n",
    "altura1 = 1.77\n",
    "altura2 = 1.65\n",
    "altura3 = altura2\n",
    "\n",
    "print(\"Idade1 > Idade2 ? \", idade1 > idade2) #false\n",
    "print(\"idade1 <= idade2 ? \",idade1 <= idade2) #true\n",
    "print(\"Python == python ? \", \"Python\" == \"python\", \"Case Sensitive\") #false\n",
    "print(\"banana != abacaxi ?\", \"banana\" != \"abacaxi\") #true\n",
    "print(\"altura1 >= altura2 ? \", altura1 >= altura2) #true\n",
    "print(\"altura2 > altura3 ?\", altura2 > altura3) #false"
   ]
  },
  {
   "cell_type": "markdown",
   "metadata": {},
   "source": [
    "Aula 3\n",
    "Conversão de Tipos\n",
    "    int()\n",
    "    str()\n",
    "    float()\n",
    "    bool()\n"
   ]
  },
  {
   "cell_type": "code",
   "execution_count": 49,
   "metadata": {},
   "outputs": [
    {
     "name": "stdout",
     "output_type": "stream",
     "text": [
      "sua altura é: 1.62 <class 'float'>\n"
     ]
    }
   ],
   "source": [
    "#idade = '26'\n",
    "#print(idade, type(idade))\n",
    "#idade = int(idade)\n",
    "#print(idade, type(idade))\n",
    "\n",
    "altura = float(input(\"Digite sua altura: \"))\n",
    "print(\"sua altura é:\", altura, type(altura))"
   ]
  },
  {
   "cell_type": "markdown",
   "metadata": {},
   "source": [
    "Aula 4\n",
    "Estruturas Condicionais"
   ]
  },
  {
   "cell_type": "code",
   "execution_count": 52,
   "metadata": {},
   "outputs": [
    {
     "name": "stdout",
     "output_type": "stream",
     "text": [
      "voce tem 75 anos de idade e é maior\n"
     ]
    }
   ],
   "source": [
    "idade = int(input(\"Qual é a sua idade ? \"))\n",
    "if idade >= 18:\n",
    "    print('voce tem', idade, 'anos de idade e é maior')\n",
    "\n",
    "else:\n",
    "    print('voce tem', idade, 'anos de idade e é menor de idade')"
   ]
  },
  {
   "cell_type": "markdown",
   "metadata": {},
   "source": [
    "Aula 5\n",
    "Laços de repetição While"
   ]
  },
  {
   "cell_type": "code",
   "execution_count": 76,
   "metadata": {},
   "outputs": [
    {
     "name": "stdout",
     "output_type": "stream",
     "text": [
      "voce terá 5 chances, chance nº: 1\n",
      "tente novamente\n",
      "voce terá 5 chances, chance nº: 2\n",
      "tente novamente\n",
      "voce terá 5 chances, chance nº: 3\n",
      "parabens voce acertou\n"
     ]
    }
   ],
   "source": [
    "resultado = 7\n",
    "contador = 1\n",
    "\n",
    "print('voce terá 5 chances, chance nº:', contador)\n",
    "\n",
    "numero = int(input(\"Digite um numero de 0 a 10\"))\n",
    "\n",
    "while numero != resultado and contador < 5:\n",
    "        print(\"tente novamente\")\n",
    "        contador = contador +1\n",
    "\n",
    "        print('voce terá 5 chances, chance nº:', contador)\n",
    "        numero = int(input(\"Digite um numero de 0 a 10\"))\n",
    "\n",
    "\n",
    "if numero == resultado:\n",
    "    print('parabens voce acertou')\n",
    "\n",
    "\n",
    "else:\n",
    "     print('voce perdeu, tentativas:', contador)\n",
    "\n",
    "    "
   ]
  },
  {
   "cell_type": "markdown",
   "metadata": {},
   "source": [
    "Aula 6\n",
    "Laços de repetição FOR"
   ]
  },
  {
   "cell_type": "code",
   "execution_count": 82,
   "metadata": {},
   "outputs": [
    {
     "name": "stdout",
     "output_type": "stream",
     "text": [
      "0\n",
      "1\n",
      "2\n",
      "3\n",
      "4\n",
      "\n",
      "\n",
      "1\n",
      "2\n",
      "3\n",
      "4\n",
      "\n",
      "\n",
      "1\n",
      "2\n",
      "3\n",
      "4\n"
     ]
    }
   ],
   "source": [
    "for i in range(5): #iniciando em zero\n",
    "    print(i)\n",
    "\n",
    "print('\\n')\n",
    "\n",
    "for i in range(1,5): #iniciando em 1 até 4\n",
    "    print(i)\n",
    "\n",
    "print('\\n')\n",
    "\n",
    "for i in range(1,5,1): #iniciando em 1 até 4 de 1 em 1\n",
    "    print(i)"
   ]
  },
  {
   "cell_type": "code",
   "execution_count": 106,
   "metadata": {},
   "outputs": [
    {
     "name": "stdout",
     "output_type": "stream",
     "text": [
      "sua nota 1 foi 2.5\n",
      "sua nota 2 foi 6.0\n",
      "sua nota 3 foi 5.0\n",
      "sua média é: 4.5\n"
     ]
    }
   ],
   "source": [
    "soma = 0\n",
    "for i in range(1,4):\n",
    "    valor = float(input(f'digite nota {i}'))\n",
    "    print('sua nota', i, 'foi', valor)\n",
    "    soma = soma + valor\n",
    "\n",
    "media = int(media)\n",
    "media = soma / 3\n",
    "print(f'sua média é: {media}')\n"
   ]
  },
  {
   "cell_type": "markdown",
   "metadata": {},
   "source": [
    "Aula 7 listas"
   ]
  },
  {
   "cell_type": "code",
   "execution_count": 178,
   "metadata": {},
   "outputs": [
    {
     "name": "stdout",
     "output_type": "stream",
     "text": [
      "[7.9, 9.8, 8.2, 'aa', True, 10]\n",
      "['murilo', [7.9, 9.8, 8.2, 'aa', True, 10]]\n",
      "comprimento 6\n",
      "7.9\n",
      "10\n",
      "10\n",
      "[7.9, 9.8, 8.2]\n",
      "\n",
      "\n",
      "7.9\n",
      "9.8\n",
      "8.2\n",
      "aa\n",
      "True\n",
      "10\n",
      "\n",
      "\n",
      "6\n",
      "\n",
      "\n",
      "7.9\n",
      "9.8\n",
      "8.2\n",
      "aa\n",
      "True\n",
      "10\n"
     ]
    }
   ],
   "source": [
    "notas = [7.9, 9.8, 8.2, 'aa', True, 10]\n",
    "lista_vazia = ['murilo', notas] #criando listas de listas\n",
    "print(notas)\n",
    "print(lista_vazia)\n",
    "print('comprimento', len(notas))\n",
    "\n",
    "print(notas[0])\n",
    "print(notas[5])\n",
    "print(notas[-1])\n",
    "print(notas[0:3])\n",
    "print('\\n')\n",
    "\n",
    "for i in notas:\n",
    "    print(i)\n",
    "\n",
    "print('\\n')\n",
    "print(len(notas))\n",
    "\n",
    "print('\\n')\n",
    "\n",
    "for i in range(len(notas)):\n",
    "    print(notas[i])"
   ]
  },
  {
   "cell_type": "markdown",
   "metadata": {},
   "source": [
    "Aula 8 Métodos e Funcões de listas"
   ]
  },
  {
   "cell_type": "code",
   "execution_count": 148,
   "metadata": {},
   "outputs": [
    {
     "name": "stdout",
     "output_type": "stream",
     "text": [
      "lista1 [1, 2, 3, 4, 5]\n",
      "lista1 [1, 2, 3, 4, 5, 6]\n",
      "lista2 [10, 1, 2, 3, 4, 5]\n",
      "lista2[10, 1, 2, 3, 4, 5]\n",
      "lista3 []\n",
      "lista3 [1, 2, 3, 4, 5, 6]\n",
      "lista3[1, 2, 3, 4, 5, 6, 10, 1, 2, 3, 4, 5]\n",
      "lista3[1, 2, 3, 4, 5, 6, 10, 1, 2, 3, 4]\n",
      "lista3[2, 3, 4, 5, 6, 10, 1, 2, 3, 4]\n"
     ]
    }
   ],
   "source": [
    "#append add elementos no final da lista\n",
    "lista1 = [1,2,3,4,5]\n",
    "print('lista1',lista1)\n",
    "lista1.append(6)\n",
    "print('lista1', lista1)\n",
    "\n",
    "#insert escolhe qual a posição\n",
    "lista2 = [1,2,3,4,5]\n",
    "lista2.insert(0,10)\n",
    "print('lista2',lista2)\n",
    "print(f'lista2{lista2}')\n",
    "\n",
    "lista3 = []\n",
    "#extend juntar duas lista\n",
    "#lista3 = lista.extend(lista2)\n",
    "print('lista3',lista3)\n",
    "lista3.extend(lista1)\n",
    "print('lista3', lista3)\n",
    "lista3.extend(lista2)\n",
    "print(f'lista3{lista3}')\n",
    "\n",
    "#pop remover elementos\n",
    "lista3.pop() #nenhum elemento ele remove o ultimo\n",
    "print(f'lista3{lista3}')\n",
    "lista3.pop(0) #nenhum elemento ele remove o ultimo\n",
    "print(f'lista3{lista3}')\n",
    "\n"
   ]
  },
  {
   "cell_type": "code",
   "execution_count": 168,
   "metadata": {},
   "outputs": [
    {
     "name": "stdout",
     "output_type": "stream",
     "text": [
      "[10, 6, 5, 4, 4, 2, 2, 1]\n",
      "1\n",
      "0\n",
      "[1, 2, 2, 4, 4, 5, 6, 10]\n",
      "[10, 6, 5, 4, 4, 2, 2, 1]\n"
     ]
    }
   ],
   "source": [
    "print(lista3)\n",
    "print(lista3.count(1)) #contando quantas vezes o 1 aparece na lista\n",
    "print(lista3.index(10)) #verificando em qual elemento esta o numero 10\n",
    "\n",
    "lista3.sort() #ordena a lista ordem crescente\n",
    "print(lista3) \n",
    "\n",
    "lista3.sort(reverse=True) #ordena a lista decrescente\n",
    "print(lista3) \n"
   ]
  },
  {
   "cell_type": "markdown",
   "metadata": {},
   "source": [
    "Funções\n",
    "    len\n",
    "    min\n",
    "    max\n",
    "    sum"
   ]
  },
  {
   "cell_type": "code",
   "execution_count": 177,
   "metadata": {},
   "outputs": [
    {
     "name": "stdout",
     "output_type": "stream",
     "text": [
      "[10, 6, 5, 4, 4, 2, 2, 1]\n",
      "soma 34\n",
      "comprimento 8\n",
      "Maximo 10\n",
      "Minimo 1\n"
     ]
    }
   ],
   "source": [
    "print(lista3)\n",
    "Total = sum(lista3)\n",
    "print('soma', Total)\n",
    "\n",
    "Comprimento = len(lista3)\n",
    "print('comprimento', Comprimento)\n",
    "\n",
    "Maximo = max(lista3)\n",
    "print('Maximo', Maximo)\n",
    "\n",
    "Minimo = min(lista3)\n",
    "print('Minimo', Minimo)\n"
   ]
  },
  {
   "cell_type": "markdown",
   "metadata": {},
   "source": [
    "Aula 9\n",
    "Funções"
   ]
  },
  {
   "cell_type": "code",
   "execution_count": 1,
   "metadata": {},
   "outputs": [
    {
     "name": "stdout",
     "output_type": "stream",
     "text": [
      "Ola, seja bem vindo lala\n",
      "Curso: ADA TECH\n",
      "Data inicio:  11/06/2024\n"
     ]
    }
   ],
   "source": [
    "def saudacao(nome, curso, data_inicio='11/06/2024'):\n",
    "    print('Ola, seja bem vindo', nome)\n",
    "    print(f'Curso: {curso}')\n",
    "    print('Data inicio: ', data_inicio)\n",
    "\n",
    "saudacao(input('Digite seu nome'), 'ADA TECH')"
   ]
  },
  {
   "cell_type": "code",
   "execution_count": 9,
   "metadata": {},
   "outputs": [
    {
     "name": "stdout",
     "output_type": "stream",
     "text": [
      "O resultado é:16\n"
     ]
    }
   ],
   "source": [
    "def soma(numero1, numero2):\n",
    "    return numero1 + numero2\n",
    "\n",
    "# Solicitar números do usuário\n",
    "valor1 = int(input(\"Digite o primeiro número: \"))\n",
    "valor2 = int(input(\"Digite o segundo número: \"))\n",
    "\n",
    "resultado = soma(valor1, valor2)\n",
    "\n",
    "print(f'O resultado é:{resultado}')"
   ]
  },
  {
   "cell_type": "code",
   "execution_count": 17,
   "metadata": {},
   "outputs": [
    {
     "name": "stdout",
     "output_type": "stream",
     "text": [
      "o resultado de 8-7 é igual ao 1 \n"
     ]
    }
   ],
   "source": [
    "def calculadora(num1, num2, operacao='+'):\n",
    "    if operacao == '+':\n",
    "        return num1 + num2\n",
    "    \n",
    "    elif operacao == '-':\n",
    "        return num1 - num2\n",
    "\n",
    "numero1 = int(input('Digite o primeiro numero'))\n",
    "numero2 = int(input('Digite o segundo numero'))\n",
    "escolha = input('Escolha + ou -')\n",
    "\n",
    "resultado = calculadora(numero1, numero2, escolha)\n",
    "print(f'o resultado de {numero1}{escolha}{numero2} é igual ao {resultado} ')\n"
   ]
  }
 ],
 "metadata": {
  "kernelspec": {
   "display_name": "Python 3",
   "language": "python",
   "name": "python3"
  },
  "language_info": {
   "codemirror_mode": {
    "name": "ipython",
    "version": 3
   },
   "file_extension": ".py",
   "mimetype": "text/x-python",
   "name": "python",
   "nbconvert_exporter": "python",
   "pygments_lexer": "ipython3",
   "version": "3.11.4"
  }
 },
 "nbformat": 4,
 "nbformat_minor": 2
}
