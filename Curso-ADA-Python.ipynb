{
 "cells": [
  {
   "cell_type": "code",
   "execution_count": null,
   "metadata": {},
   "outputs": [],
   "source": [
    "Este notebook foi criado para realizar a Trilha Digital | Coders 24 | Engenharia de dados\n",
    "Autor: Murilo Farias\n",
    "Data de Início: 09/06/2024\n",
    "Professor: Alisson Silva ADA\n",
    "IDE (integrated development environment): VSC (Visual Studio Code)"
   ]
  },
  {
   "cell_type": "markdown",
   "metadata": {},
   "source": [
    "Python é case sensitive\n",
    "Entrada e Saída de Dados\n",
    "Variáveis\n",
    "    Tipos de variaveis\n",
    "        int: numeros inteiros\n",
    "        float: numeros com parte decimal\n",
    "        str: dados textuais (string)\n",
    "        bool: valores logicos"
   ]
  },
  {
   "cell_type": "code",
   "execution_count": 28,
   "metadata": {},
   "outputs": [
    {
     "name": "stdout",
     "output_type": "stream",
     "text": [
      "\n",
      " idade é: 29 \n",
      " altura é: 1.7 \n",
      " nome é: Murilo Farias \n",
      " está estudando ? True\n"
     ]
    }
   ],
   "source": [
    "#Comentário ou \"\"\"\" para varias linhas \"\"\"\"\n",
    "#print(\"Bem vindo ao Curso\")\n",
    "\n",
    "idade = 29\n",
    "altura = 1.70\n",
    "nome = \"Murilo Farias\"\n",
    "estudando = True\n",
    "\n",
    "print(\"\\n\", \"idade é:\", idade, \"\\n\", \n",
    "      \"altura é:\", altura,  \"\\n\",\n",
    "      \"nome é:\", nome, \"\\n\",\n",
    "      \"está estudando ?\", estudando)\n",
    "#print(type(idade))\n",
    "#print(type(altura))\n",
    "#print(type(nome))\n",
    "#print(type(estudando))\n",
    "\n",
    "#linguagem = input('Qual é a linguagem de programação que voce está estudando ?')\n",
    "#print('A linguagem que voce está estudando é:', linguagem)"
   ]
  }
 ],
 "metadata": {
  "kernelspec": {
   "display_name": "Python 3",
   "language": "python",
   "name": "python3"
  },
  "language_info": {
   "codemirror_mode": {
    "name": "ipython",
    "version": 3
   },
   "file_extension": ".py",
   "mimetype": "text/x-python",
   "name": "python",
   "nbconvert_exporter": "python",
   "pygments_lexer": "ipython3",
   "version": "3.11.4"
  }
 },
 "nbformat": 4,
 "nbformat_minor": 2
}
