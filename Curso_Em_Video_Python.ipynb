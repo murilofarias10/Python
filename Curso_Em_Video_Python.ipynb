{
  "nbformat": 4,
  "nbformat_minor": 0,
  "metadata": {
    "colab": {
      "name": "Curso_Em_Video_Python.ipynb",
      "provenance": [],
      "collapsed_sections": [],
      "authorship_tag": "ABX9TyM4liggwjSFMjUjDSjSkR4r",
      "include_colab_link": true
    },
    "kernelspec": {
      "name": "python3",
      "display_name": "Python 3"
    },
    "language_info": {
      "name": "python"
    }
  },
  "cells": [
    {
      "cell_type": "markdown",
      "metadata": {
        "id": "view-in-github",
        "colab_type": "text"
      },
      "source": [
        "<a href=\"https://colab.research.google.com/github/murilofarias10/AnaliseComPython/blob/main/Curso_Em_Video_Python.ipynb\" target=\"_parent\"><img src=\"https://colab.research.google.com/assets/colab-badge.svg\" alt=\"Open In Colab\"/></a>"
      ]
    },
    {
      "cell_type": "code",
      "metadata": {
        "colab": {
          "base_uri": "https://localhost:8080/"
        },
        "id": "FakRgwqEz4iY",
        "outputId": "c5b768ca-2015-45db-b37d-fbfefadd8e5d"
      },
      "source": [
        "#Crie um Script que leia o nome de uma pessoa\n",
        "#E mostre uma msg de boas vindas\n",
        "\n",
        "nome = input('Digite seu nome:' )\n",
        "print('ola: ', nome.upper(), ' bem vindo')"
      ],
      "execution_count": null,
      "outputs": [
        {
          "output_type": "stream",
          "text": [
            "Digite seu nome:murilo\n",
            "ola:  MURILO  bem vindo\n"
          ],
          "name": "stdout"
        }
      ]
    },
    {
      "cell_type": "code",
      "metadata": {
        "colab": {
          "base_uri": "https://localhost:8080/"
        },
        "id": "eVhpCUyRhXPY",
        "outputId": "85c9e940-7457-40a4-a03c-3147e820a344"
      },
      "source": [
        "#trabalhando com formatos\n",
        "n1 = int(input('Digite um numero: '))\n",
        "n2 = int(input('Digite outro numero: '))\n",
        "soma = n1 + n2\n",
        "print('A soma de {} + {} é: {}'.format(n1, n2, soma))"
      ],
      "execution_count": null,
      "outputs": [
        {
          "output_type": "stream",
          "name": "stdout",
          "text": [
            "Digite um numero5\n",
            "Digite outro numero3\n",
            "A soma de 5 + 3 é: 8\n"
          ]
        }
      ]
    },
    {
      "cell_type": "code",
      "metadata": {
        "colab": {
          "base_uri": "https://localhost:8080/"
        },
        "id": "UpNCeGTjiaNI",
        "outputId": "fb15e8fc-7271-4935-861b-c28cf605fb04"
      },
      "source": [
        "#verificando os metodos de tipos\n",
        "n = input('Digite algo: ')\n",
        "\n",
        "#print(n.isnumeric()) #verificando se é numero\n",
        "#print(n.isalpha()) #verificando se é letra\n",
        "#print(n.isalnum()) #verificando se é numero ou letra\n",
        "print(n.isupper()) #verificando se é somente letra UPPER"
      ],
      "execution_count": null,
      "outputs": [
        {
          "output_type": "stream",
          "name": "stdout",
          "text": [
            "Digite algo: aaA\n",
            "False\n"
          ]
        }
      ]
    },
    {
      "cell_type": "code",
      "metadata": {
        "id": "69Ou5T32lS2K",
        "colab": {
          "base_uri": "https://localhost:8080/"
        },
        "outputId": "2e935842-f251-42b9-a685-610b2706ff57"
      },
      "source": [
        "#Programa que leia alguma coisa e verifique todos as possibilidades\n",
        "\n",
        "algo = input('Digite algo e verifique as respostas: ')\n",
        "\n",
        "print(type(algo))\n",
        "\n",
        "print('é somente espaço ? {}'.format(algo.isspace()))\n",
        "print('é um numero ? {}'.format(algo.isnumeric()))\n",
        "print('é uma letra ? {}'.format(algo.isalpha()))\n",
        "print('é um numero OU letra ? {}'.format(algo.isalnum()))\n",
        "print('esta em capslock ? {}'.format(algo.isupper()))\n",
        "print('esta em minusculo ? {}'.format(algo.islower()))\n",
        "print('é capitalizada (inicia maiusculo) ? {}'.format(algo.istitle()))\n",
        "\n",
        "#outros isidentifier isprintable isdigit isascii\n"
      ],
      "execution_count": 10,
      "outputs": [
        {
          "output_type": "stream",
          "name": "stdout",
          "text": [
            "Digite algo e verifique as respostas: mUrilo\n",
            "<class 'str'>\n",
            "é somente espaço ? False\n",
            "é um numero ? False\n",
            "é uma letra ? True\n",
            "é um numero OU letra ? True\n",
            "esta em capslock ? False\n",
            "esta em minusculo ? False\n",
            "é capitalizada (inicia maiusculo) ? False\n",
            "esta em identifier ? True\n",
            "esta em printable ? True\n",
            "esta em digit ? False\n",
            "esta em isascii ? True\n"
          ]
        }
      ]
    }
  ]
}