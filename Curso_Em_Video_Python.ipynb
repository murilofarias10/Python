{
  "nbformat": 4,
  "nbformat_minor": 0,
  "metadata": {
    "colab": {
      "name": "Curso_Em_Video_Python.ipynb",
      "provenance": [],
      "collapsed_sections": [],
      "authorship_tag": "ABX9TyPO2Y6nKgZ5ZKHDxydMeLf6",
      "include_colab_link": true
    },
    "kernelspec": {
      "name": "python3",
      "display_name": "Python 3"
    },
    "language_info": {
      "name": "python"
    }
  },
  "cells": [
    {
      "cell_type": "markdown",
      "metadata": {
        "id": "view-in-github",
        "colab_type": "text"
      },
      "source": [
        "<a href=\"https://colab.research.google.com/github/murilofarias10/AnaliseComPython/blob/main/Curso_Em_Video_Python.ipynb\" target=\"_parent\"><img src=\"https://colab.research.google.com/assets/colab-badge.svg\" alt=\"Open In Colab\"/></a>"
      ]
    },
    {
      "cell_type": "code",
      "metadata": {
        "colab": {
          "base_uri": "https://localhost:8080/"
        },
        "id": "FakRgwqEz4iY",
        "outputId": "c5b768ca-2015-45db-b37d-fbfefadd8e5d"
      },
      "source": [
        "#DESAFIO 003\n",
        "\n",
        "#Crie um Script que leia o nome de uma pessoa\n",
        "#E mostre uma msg de boas vindas\n",
        "\n",
        "nome = input('Digite seu nome:' )\n",
        "print('ola: ', nome.upper(), ' bem vindo')"
      ],
      "execution_count": null,
      "outputs": [
        {
          "output_type": "stream",
          "text": [
            "Digite seu nome:murilo\n",
            "ola:  MURILO  bem vindo\n"
          ],
          "name": "stdout"
        }
      ]
    },
    {
      "cell_type": "code",
      "metadata": {
        "colab": {
          "base_uri": "https://localhost:8080/"
        },
        "id": "eVhpCUyRhXPY",
        "outputId": "68f72e3d-b9d2-4fac-c431-64bf55206bc0"
      },
      "source": [
        "#trabalhando com formatos\n",
        "n1 = int(input('Digite um numero: '))\n",
        "n2 = int(input('Digite outro numero: '))\n",
        "\n",
        "print('A soma de {} + {} é: {}'.format(n1, n2, n1+n2))"
      ],
      "execution_count": null,
      "outputs": [
        {
          "output_type": "stream",
          "name": "stdout",
          "text": [
            "Digite um numero: 5\n",
            "Digite outro numero: 2\n",
            "A soma de 5 + 2 é: 7\n"
          ]
        }
      ]
    },
    {
      "cell_type": "code",
      "metadata": {
        "colab": {
          "base_uri": "https://localhost:8080/"
        },
        "id": "4txXNqRbuH-T",
        "outputId": "dbc4400c-57f8-4ed7-aade-15b8177ccea8"
      },
      "source": [
        "n1 = 400\n",
        "n2 = 15\n",
        "\n",
        "divisao = n1/n2\n",
        "soma = n1 + n2\n",
        "print('A divisão é: {:.3f}'.format(divisao), end=' ') #.3f trazendo 3 casas decimais\n",
        "print('A soma é: {}'.format(soma)) #utlizando end= no final do print faz não quebrar a linha"
      ],
      "execution_count": null,
      "outputs": [
        {
          "output_type": "stream",
          "name": "stdout",
          "text": [
            "A divisão é: 26.667 A soma é: 415\n"
          ]
        }
      ]
    },
    {
      "cell_type": "code",
      "metadata": {
        "colab": {
          "base_uri": "https://localhost:8080/"
        },
        "id": "UpNCeGTjiaNI",
        "outputId": "fb15e8fc-7271-4935-861b-c28cf605fb04"
      },
      "source": [
        "#verificando os metodos de tipos\n",
        "n = input('Digite algo: ')\n",
        "\n",
        "#print(n.isnumeric()) #verificando se é numero\n",
        "#print(n.isalpha()) #verificando se é letra\n",
        "#print(n.isalnum()) #verificando se é numero ou letra\n",
        "print(n.isupper()) #verificando se é somente letra UPPER"
      ],
      "execution_count": null,
      "outputs": [
        {
          "output_type": "stream",
          "name": "stdout",
          "text": [
            "Digite algo: aaA\n",
            "False\n"
          ]
        }
      ]
    },
    {
      "cell_type": "code",
      "metadata": {
        "id": "69Ou5T32lS2K",
        "colab": {
          "base_uri": "https://localhost:8080/"
        },
        "outputId": "5bc7bfbd-11ad-4631-d4e4-d708a0b76ee9"
      },
      "source": [
        "#DESAFIO 004\n",
        "\n",
        "#Programa que leia alguma coisa e verifique todos as possibilidades\n",
        "\n",
        "algo = input('Digite algo e verifique as respostas: ')\n",
        "\n",
        "print(type(algo))\n",
        "\n",
        "print('é somente espaço ? {}'.format(algo.isspace()))\n",
        "print('é um numero ? {}'.format(algo.isnumeric()))\n",
        "print('é uma letra ? {}'.format(algo.isalpha()))\n",
        "print('é um numero OU letra ? {}'.format(algo.isalnum()))\n",
        "print('esta em capslock ? {}'.format(algo.isupper()))\n",
        "print('esta em minusculo ? {}'.format(algo.islower()))\n",
        "print('é capitalizada (inicia maiusculo) ? {}'.format(algo.istitle()))\n",
        "\n",
        "#outros isidentifier isprintable isdigit isascii\n"
      ],
      "execution_count": null,
      "outputs": [
        {
          "output_type": "stream",
          "name": "stdout",
          "text": [
            "Digite algo e verifique as respostas: 2\n",
            "<class 'str'>\n",
            "é somente espaço ? False\n",
            "é um numero ? True\n",
            "é uma letra ? False\n",
            "é um numero OU letra ? True\n",
            "esta em capslock ? False\n",
            "esta em minusculo ? False\n",
            "é capitalizada (inicia maiusculo) ? False\n"
          ]
        }
      ]
    },
    {
      "cell_type": "code",
      "metadata": {
        "id": "cu25esctn0AX"
      },
      "source": [
        "#Operações Aritmeticas \n",
        "\n",
        "# 1 ()\n",
        "# 2 ** pow(4,3) = 4 ** 3\n",
        "# 3  * / // %\n",
        "# 4 + - \n",
        "\n",
        "#Raiz quadrada e inverso\n",
        "#9**9 = 81 #se fizer o resultado elevado a meio traz o valor\n",
        "81**(1/2)\n",
        "\n",
        "#Raiz cubica e inverso\n",
        "#9**3 = 729\n",
        "729**(1/3)"
      ],
      "execution_count": null,
      "outputs": []
    },
    {
      "cell_type": "code",
      "metadata": {
        "colab": {
          "base_uri": "https://localhost:8080/"
        },
        "id": "Zqx2MC_ysbvm",
        "outputId": "f7a54847-42eb-4933-86e5-e4ebcc4728bd"
      },
      "source": [
        "#Alinhamento a direita:\n",
        "nome = 'murilo'\n",
        "print('Prazer em te conhecer: {:>20}'.format(nome))"
      ],
      "execution_count": null,
      "outputs": [
        {
          "output_type": "stream",
          "name": "stdout",
          "text": [
            "Prazer em te conhecer:               murilo\n"
          ]
        }
      ]
    },
    {
      "cell_type": "code",
      "metadata": {
        "colab": {
          "base_uri": "https://localhost:8080/"
        },
        "id": "iy_WjfYKs6yV",
        "outputId": "7bc65a03-df18-467f-bbcb-68315ce9bfa5"
      },
      "source": [
        "#Centralizado\n",
        "nome = 'murilo'\n",
        "print('Prazer em te conhecer: {:^20}'.format(nome))"
      ],
      "execution_count": null,
      "outputs": [
        {
          "output_type": "stream",
          "name": "stdout",
          "text": [
            "Prazer em te conhecer:        murilo       \n"
          ]
        }
      ]
    },
    {
      "cell_type": "code",
      "metadata": {
        "colab": {
          "base_uri": "https://localhost:8080/"
        },
        "id": "L8pkIz0htXtF",
        "outputId": "21326b21-a646-435c-bbe3-425e98f079f8"
      },
      "source": [
        "#Inserindo algo\n",
        "nome = 'murilo'\n",
        "print('Prazer em te conhecer: {:=^20}'.format(nome))"
      ],
      "execution_count": null,
      "outputs": [
        {
          "output_type": "stream",
          "name": "stdout",
          "text": [
            "Prazer em te conhecer: =======murilo=======\n"
          ]
        }
      ]
    },
    {
      "cell_type": "code",
      "metadata": {
        "colab": {
          "base_uri": "https://localhost:8080/"
        },
        "id": "ubZqKMOnvTUJ",
        "outputId": "8feaf842-ccca-4328-a959-b766e6e84aba"
      },
      "source": [
        "#DESAFIO 005 - Murilo\n",
        "\n",
        "#Faça um programa que leia um numero inteiro e mostre na tela\n",
        "#Anterior, Numero, Proximo\n",
        "\n",
        "numero = (input('Digite um numero qualquer: ')) #digitando o numero\n",
        "\n",
        "validacao = (numero.isnumeric()) #validando se é numero\n",
        "\n",
        "while validacao == False: #se for falso\n",
        "  print('Opção invalida, DIGITE UM NUMERO: ') #tente novamente\n",
        "  numero = (input('Digite um numero qualquer: ')) #tente novamente\n",
        "  validacao = (numero.isnumeric()) #validação novamente\n",
        "\n",
        "if validacao == True: #se for verdadeiro\n",
        " numero_int = int(numero) #transformando em numero inteiro\n",
        " anterior = numero_int -1 #anterior\n",
        " proximo = numero_int +1 #posterior\n",
        "\n",
        "\n",
        "print(' {}  {}  {}'.format(anterior, numero, proximo))"
      ],
      "execution_count": null,
      "outputs": [
        {
          "output_type": "stream",
          "name": "stdout",
          "text": [
            "Digite um numero qualquer: 3\n",
            " 2  3  4\n"
          ]
        }
      ]
    },
    {
      "cell_type": "code",
      "metadata": {
        "colab": {
          "base_uri": "https://localhost:8080/"
        },
        "id": "M0_gdCGpk7E4",
        "outputId": "b31e3d3c-8193-486c-f32a-0a57ad2b2fe6"
      },
      "source": [
        "#DESAFIO 005 - Professor\n",
        "numero = int(input('Digite um numero'))\n",
        "\n",
        "print('{} {} {}'.format(numero-1,numero,numero+1))"
      ],
      "execution_count": null,
      "outputs": [
        {
          "output_type": "stream",
          "name": "stdout",
          "text": [
            "Digite um numero567\n",
            "566 567 568\n"
          ]
        }
      ]
    },
    {
      "cell_type": "code",
      "metadata": {
        "colab": {
          "base_uri": "https://localhost:8080/"
        },
        "id": "HygqGfBCyNLi",
        "outputId": "6864a528-3e34-4eaf-9ecc-251304fb9bc4"
      },
      "source": [
        "#DESAFIO 006 - Murilo\n",
        "\n",
        "#Faça um programa que leia um numero mostre seu dobro, triplo e raiz quadrada\n",
        "import math\n",
        "\n",
        "numero = (input('Digite um numero qualquer: ')) #digitando o numero\n",
        "validacao = (numero.isnumeric()) #validando se é numero\n",
        "\n",
        "while validacao == False: #se for falso\n",
        "  print('Opção invalida, DIGITE UM NUMERO: ') #tente novamente\n",
        "  numero = (input('Digite um numero qualquer: ')) #tente novamente\n",
        "  validacao = (numero.isnumeric()) #validação novamente\n",
        "\n",
        "if validacao == True: #se for verdadeiro\n",
        " numero_int = int(numero) #transformando em numero inteiro\n",
        " dobro = numero_int * 2 #dobro\n",
        " triplo = numero_int *3 #triplo\n",
        " raiz_quadrada = numero_int ** (1/2) #raiz quadrada = metade da potencia\n",
        " outro_raiz = pow(numero_int, (1/2)) #outra maneira de fazer raiz quadrada\n",
        "\n",
        "#raiz_arredondada = int(math.ceil(raiz_quadrada))\n",
        "#raiz_ant = float(raiz_quadrada)\n",
        "#raiz_string = str(raiz_ant)\n",
        "\n",
        "\n",
        "raiz_replace = f'{raiz_quadrada:_.4f}' #Utiliza esse metodo para fazer replace em numero inteiro _.2f\n",
        "\n",
        "raiz_replace = raiz_replace.replace('.',',')\n",
        "\n",
        "print('{:.2f}'.format(outro_raiz))\n",
        "\n",
        "print('numero: {} dobro: {}  triplo: {}  raiz quadrada: {}'.format(numero_int, dobro, triplo, raiz_replace))\n",
        "print('numero: {} dobro: {}  triplo: {}  raiz quadrada: {:.2f}'.format(numero_int, dobro, triplo, raiz_quadrada))"
      ],
      "execution_count": null,
      "outputs": [
        {
          "output_type": "stream",
          "name": "stdout",
          "text": [
            "Digite um numero qualquer: 8\n",
            "2.83\n",
            "numero: 8 dobro: 16  triplo: 24  raiz quadrada: 2,8284\n",
            "numero: 8 dobro: 16  triplo: 24  raiz quadrada: 2.83\n"
          ]
        }
      ]
    },
    {
      "cell_type": "code",
      "metadata": {
        "colab": {
          "base_uri": "https://localhost:8080/"
        },
        "id": "0MEF9CFxzNz4",
        "outputId": "b6593e96-e21d-4457-de8c-2cda2215662c"
      },
      "source": [
        "#DESAFIO 007 - Murilo\n",
        "\n",
        "#Faça um programa que leia dois numeros e mostre sua media\n",
        "\n",
        "numero_1 = (input('Digite 1º numero: ')) #digitando o numero\n",
        "validacao = (numero_1.isnumeric()) #validando se é numero\n",
        "while validacao == False:\n",
        "  print('Opção invalida, DIGITE novamente o 1º NUMERO: ')\n",
        "  numero_1 = (input('Digite 1º numero: ')) #digitando o numero\n",
        "  validacao = (numero_1.isnumeric()) #validando se é numero\n",
        "\n",
        "numero_2 = (input('Digite 2º numero: ')) #digitando o numero\n",
        "validacao2 = (numero_2.isnumeric()) #validando se é numero\n",
        "\n",
        "while validacao2 == False:\n",
        "  print('Opção invalida, DIGITE novamente o 2º NUMERO: ')\n",
        "  numero_2 = (input('Digite 2º numero: ')) #digitando o numero\n",
        "  validacao2 = (numero_2.isnumeric()) #validando se é numero\n",
        "\n",
        "if validacao == True and validacao2 == True:\n",
        "  transf_1 = float(numero_1)\n",
        "  transf_2 = float(numero_2)\n",
        "\n",
        "  \n",
        "  media = (transf_1 + transf_2) / 2\n",
        "\n",
        "print('numero 1: {} numero 2: {}  media: {}'.format(numero_1, numero_2, media))"
      ],
      "execution_count": null,
      "outputs": [
        {
          "output_type": "stream",
          "name": "stdout",
          "text": [
            "Digite 1º numero: 3.3\n",
            "Opção invalida, DIGITE novamente o 1º NUMERO: \n",
            "Digite 1º numero: 3\n",
            "Digite 2º numero: 6.7\n",
            "Opção invalida, DIGITE novamente o 2º NUMERO: \n",
            "Digite 2º numero: 1\n",
            "numero 1: 3 numero 2: 1  media: 2.0\n"
          ]
        }
      ]
    },
    {
      "cell_type": "code",
      "metadata": {
        "colab": {
          "base_uri": "https://localhost:8080/"
        },
        "id": "ubyT0S9PyeDc",
        "outputId": "5747d89f-05a7-454d-f53a-86047b179fc5"
      },
      "source": [
        "#DESAFIO 7 - Professor\n",
        "n1 = float(input('Digite a 1ª nota: '))\n",
        "n2 = float(input('Digite a 2ª nota: '))\n",
        "\n",
        "print('A media entre: {} e: {} é = {:.2f}'.format(n1,n2,((n1+n2)/2)))"
      ],
      "execution_count": null,
      "outputs": [
        {
          "output_type": "stream",
          "name": "stdout",
          "text": [
            "Digite a 1ª nota: 8.3\n",
            "Digite a 2ª nota: 3.8\n",
            "A media entre: 8.3 e: 3.8 é = 6.05\n"
          ]
        }
      ]
    },
    {
      "cell_type": "code",
      "metadata": {
        "colab": {
          "base_uri": "https://localhost:8080/"
        },
        "id": "HhswDOFk5dli",
        "outputId": "357eec3d-3b16-422f-c5a9-bb1e8f12503c"
      },
      "source": [
        "#DESAFIO 8 - Murilo\n",
        "\n",
        "#Escreva um programa que leia um valor em metros\n",
        "# e exiba convertido em centimetros\n",
        "\n",
        "numero = (input('Digite um numero qualquer: ')) #digitando o numero\n",
        "validacao = (numero.isnumeric()) #validando se é numero\n",
        "\n",
        "while validacao == False: #se for falso\n",
        "  print('Opção invalida, DIGITE UM NUMERO: ') #tente novamente\n",
        "  numero = (input('Digite um numero qualquer: ')) #tente novamente\n",
        "  validacao = (numero.isnumeric()) #validação novamente\n",
        "\n",
        "if validacao == True: #se for verdadeiro\n",
        " numero_int = int(numero) #transformando em numero inteiro\n",
        "\n",
        " centimetros = numero_int * 100\n",
        "\n",
        "print('\\n')\n",
        "\n",
        "print('Numero informado: {} m'.format(numero_int))\n",
        "print('Convertido para centrimentos: {} cm'.format(centimetros))\n"
      ],
      "execution_count": null,
      "outputs": [
        {
          "output_type": "stream",
          "name": "stdout",
          "text": [
            "Digite um numero qualquer: 44\n",
            "\n",
            "\n",
            "Numero informado: 44 m\n",
            "Convertido para centrimentos: 4400 cm\n"
          ]
        }
      ]
    },
    {
      "cell_type": "code",
      "metadata": {
        "colab": {
          "base_uri": "https://localhost:8080/"
        },
        "id": "wOt-Frq2eOdZ",
        "outputId": "71b06880-0ea3-487a-9acd-d17a0beaf36c"
      },
      "source": [
        "#DESAFIO 8 Professor\n",
        "numero = float(input('Digite um numero: '))\n",
        "print('o numero é: {} cm = {:.0f} mm = {:.0f}'.format(numero, (numero * 100), (numero * 1000)))"
      ],
      "execution_count": null,
      "outputs": [
        {
          "output_type": "stream",
          "name": "stdout",
          "text": [
            "Digite um numero: 44.3\n",
            "o numero é: 44.3 cm = 4430 mm = 44300\n"
          ]
        }
      ]
    },
    {
      "cell_type": "code",
      "metadata": {
        "id": "Fu7TPqkWF0or"
      },
      "source": [
        ""
      ],
      "execution_count": null,
      "outputs": []
    },
    {
      "cell_type": "code",
      "metadata": {
        "colab": {
          "base_uri": "https://localhost:8080/"
        },
        "id": "H3F7Rhkn_Euw",
        "outputId": "b78b59ae-888a-4361-8e7c-2a5b8d932358"
      },
      "source": [
        "#DESAFIO 9 - Murilo\n",
        "\n",
        "#leia um numero qualquer e escreva sua respectiva tabuada tabuada \n",
        "\n",
        "numero = (input('Digite um numero qualquer: ')) #digitando o numero\n",
        "validacao = (numero.isnumeric()) #validando se é numero\n",
        "\n",
        "while validacao == False: #se for falso\n",
        "  print('Opção invalida, DIGITE UM NUMERO: ') #tente novamente\n",
        "  numero = (input('Digite um numero qualquer: ')) #tente novamente\n",
        "  validacao = (numero.isnumeric()) #validação novamente\n",
        "\n",
        "if validacao == True:\n",
        "  numero_int = int(numero)\n",
        "  inicio = 1\n",
        "  final = 11\n",
        "  while inicio < final:\n",
        "\n",
        "    resposta = inicio * numero_int\n",
        "    print(' {} * {} = {}'.format(numero_int, inicio, resposta))\n",
        "    inicio +=1\n",
        "\n",
        " "
      ],
      "execution_count": null,
      "outputs": [
        {
          "output_type": "stream",
          "name": "stdout",
          "text": [
            "Digite um numero qualquer: a\n",
            "Opção invalida, DIGITE UM NUMERO: \n",
            "Digite um numero qualquer: 9.6\n",
            "Opção invalida, DIGITE UM NUMERO: \n",
            "Digite um numero qualquer: 777\n",
            " 777 * 1 = 777\n",
            " 777 * 2 = 1554\n",
            " 777 * 3 = 2331\n",
            " 777 * 4 = 3108\n",
            " 777 * 5 = 3885\n",
            " 777 * 6 = 4662\n",
            " 777 * 7 = 5439\n",
            " 777 * 8 = 6216\n",
            " 777 * 9 = 6993\n",
            " 777 * 10 = 7770\n"
          ]
        }
      ]
    },
    {
      "cell_type": "code",
      "metadata": {
        "colab": {
          "base_uri": "https://localhost:8080/"
        },
        "id": "cm-yGFR6F770",
        "outputId": "88ff59e5-8e61-471a-b11b-201b7040479e"
      },
      "source": [
        "#Desafio 9 Professor - TABUADA\n",
        "numero = int(input('Digite um numero inteiro'))\n",
        "inicio = 1\n",
        "final = 10\n",
        "print('=' * 30)\n",
        "while inicio <= final:\n",
        "  resultado = inicio * numero\n",
        "  print('{:2} * {} = {}'.format(inicio, numero,resultado))\n",
        "  inicio +=1\n",
        "\n",
        "print('=' * 30)"
      ],
      "execution_count": null,
      "outputs": [
        {
          "output_type": "stream",
          "name": "stdout",
          "text": [
            "Digite um numero inteiro98\n",
            "==============================\n",
            " 1 * 98 = 98\n",
            " 2 * 98 = 196\n",
            " 3 * 98 = 294\n",
            " 4 * 98 = 392\n",
            " 5 * 98 = 490\n",
            " 6 * 98 = 588\n",
            " 7 * 98 = 686\n",
            " 8 * 98 = 784\n",
            " 9 * 98 = 882\n",
            "10 * 98 = 980\n",
            "==============================\n"
          ]
        }
      ]
    },
    {
      "cell_type": "code",
      "metadata": {
        "id": "v0vq9USB_Px4",
        "colab": {
          "base_uri": "https://localhost:8080/"
        },
        "outputId": "1e0f68bc-cb76-4922-adc7-522225ca7966"
      },
      "source": [
        "#DESAFIO 10 - Murilo\n",
        "\n",
        "#Leia um valor e mostre quantos dolares ela pode comprar\n",
        "#Dolar: 3,27\n",
        "brl = float(input('Digite quantidade em reais que voce possui: R$ '))\n",
        "conversao = (brl // 3.27)\n",
        "conversao_int = int(conversao)\n",
        "novo = int(brl)\n",
        "exato = (novo / 3.27)\n",
        "print( '\\n',' #' * 30, '\\n')\n",
        "print('Com R$ {} você pode comprar USD {} \\n \\n obs: cotação do dolar = USD 3,27 \\n \\n calculo: R$ {} / USD 3,27 ='.format(brl, conversao_int,brl), end='')\n",
        "print(' USD %.1f' %(exato), end ='')\n",
        "print(' Sendo assim, aproximado: USD {}'.format(conversao))"
      ],
      "execution_count": null,
      "outputs": [
        {
          "output_type": "stream",
          "name": "stdout",
          "text": [
            "Digite quantidade em reais que voce possui: R$ 123.45\n",
            "\n",
            "  # # # # # # # # # # # # # # # # # # # # # # # # # # # # # # \n",
            "\n",
            "Com R$ 123.45 você pode comprar USD 37 \n",
            " \n",
            " obs: cotação do dolar = USD 3,27 \n",
            " \n",
            " calculo: R$ 123.45 / USD 3,27 = USD 37.6 Sendo assim, aproximado: USD 37.0\n"
          ]
        }
      ]
    },
    {
      "cell_type": "code",
      "metadata": {
        "id": "TMDx-x8I_YjX",
        "colab": {
          "base_uri": "https://localhost:8080/"
        },
        "outputId": "23930f2e-7b2b-414d-f3ad-0679b94630d4"
      },
      "source": [
        "#DESAFIO 11 - Murilo\n",
        "\n",
        "#Leia largura e altura, calcule sua área \n",
        "#quantas latas de tintas gasta para pintar\n",
        "#obs: cada litro pinta 2m² #111.56 #222.3\n",
        "import math\n",
        "largura = float(input('digite a largura em metros: ')) #234.65\n",
        "print('\\n')\n",
        "comprimento = float(input('digite o comprimento em metros: ')) #233.444\n",
        "print('\\n')\n",
        "area = largura * comprimento\n",
        "galoes = area / 2\n",
        "galoes_personalizados = int(math.ceil(galoes)) #utlizando .ceil para arredondar\n",
        "\n",
        "print('\\n')\n",
        "\n",
        "print('largura: {} m²  comprimento {} m² \\n formula {} * {} = area total {} m²'.format(largura, comprimento, largura,comprimento, area))\n",
        "print('formula do calculo: {} / 2 = {} L' .format(area, galoes))\n",
        "print('galoes de tintas necessarios sem formatação {} L'.format(galoes))\n",
        "print('galoes de tintas necessarios {} L'.format(galoes_personalizados))\n",
        "\n",
        "print('galoes de tintas necessarios utilizando outra formatação {:.0f}'.format(galoes))"
      ],
      "execution_count": 12,
      "outputs": [
        {
          "output_type": "stream",
          "name": "stdout",
          "text": [
            "digite a largura em metros: 2.5\n",
            "\n",
            "\n",
            "digite o comprimento em metros: 1.75\n",
            "\n",
            "\n",
            "\n",
            "\n",
            "largura: 2.5 m²  comprimento 1.75 m² \n",
            " formula 2.5 * 1.75 = area total 4.375 m²\n",
            "formula do calculo: 4.375 / 2 = 2.1875 L\n",
            "galoes de tintas necessarios sem formatação 2.1875 L\n",
            "galoes de tintas necessarios 3 L\n",
            "galoes de tintas necessarios utilizando outra formatação 2\n"
          ]
        }
      ]
    },
    {
      "cell_type": "code",
      "metadata": {
        "id": "7Ff3xgn0_mqX",
        "colab": {
          "base_uri": "https://localhost:8080/"
        },
        "outputId": "649ebd69-e5c8-4d4d-92eb-3ca7a3218b13"
      },
      "source": [
        "#DESAFIO 12 - Murilo\n",
        "\n",
        "#Leia o preço de um produto e mostre seu novo preço com 5% de desconto\n",
        "\n",
        "preco_produto = float(input('Digite o preço atual do produto: R$ '))\n",
        "print('Seu produto original custa R$ {}'.format(preco_produto))\n",
        "\n",
        "percentual = float(input('Digite o percentual de desconto % '))\n",
        "\n",
        "novo_valor = (preco_produto * (100-percentual)) / 100 #Exemplo 50% de desconto > (100 - (100-50)) / 100\n",
        "\n",
        "desconto = preco_produto - novo_valor\n",
        "\n",
        "print('O produto que custava R$ {} teve um desconto de {} % e agora custa R$ {:.2f} pois obteve um desconto de R$ {:.2f}'.format(preco_produto,percentual,novo_valor, desconto))\n",
        "print('formula: R$ {} - R$ {:.2f} ({}%) = R$ {:.2f}'.format(preco_produto, desconto , percentual, novo_valor))\n",
        "\n"
      ],
      "execution_count": 28,
      "outputs": [
        {
          "output_type": "stream",
          "name": "stdout",
          "text": [
            "Digite o preço atual do produto: R$ 927.23\n",
            "Seu produto original custa R$ 927.23\n",
            "Digite o percentual de desconto % 5\n",
            "O produto que custava R$ 927.23 teve um desconto de 5.0 % e agora custa R$ 880.87 pois obteve um desconto de R$ 46.36\n",
            "formula: R$ 927.23 - R$ 46.36 (5.0%) = R$ 880.87\n"
          ]
        }
      ]
    },
    {
      "cell_type": "code",
      "metadata": {
        "colab": {
          "base_uri": "https://localhost:8080/"
        },
        "id": "8ckx9A_DYbFG",
        "outputId": "51f096db-b2d8-4350-d81e-b05edba8eca6"
      },
      "source": [
        "#Extra Murilo\n",
        "#Faça um programa que digite o valor do produto atual\n",
        "#O valor do produto futuro e informe quantos % ele aumentou ou diminuiu\n",
        "\n",
        "valor_inicial = float(input('Digite o valor inicial do produto: R$ '))\n",
        "valor_final = float(input('Digite o valor final do produto: R$ '))\n",
        "\n",
        "dif = ((((valor_inicial - valor_final) * 100)/ valor_inicial)) * -1\n",
        "\n",
        "if valor_inicial == valor_final:\n",
        "  dif = dif * -1\n",
        "  print('Se o produto custava R$ {} e agora custa R$ {} temos {} % ou seja não temos desconto'.format(valor_inicial,valor_final,dif))\n",
        "  print('memoria de calculo: R$ {} - R$ {} = R$ {}'.format(valor_inicial,valor_final,(valor_inicial-valor_final)))\n",
        "\n",
        "elif valor_inicial > valor_final:\n",
        "  print('Se o produto custava R$ {} e agora custa R$ {} sofreu um desconto de {:.2f} %'.format(valor_inicial,valor_final,dif))\n",
        "  print('memoria de calculo: R$ {} - R$ {} = R$ {}'.format(valor_inicial,valor_final,(valor_inicial-valor_final)))\n",
        "\n",
        "elif valor_inicial < valor_final:\n",
        " print('Se o produto custava R$ {} e agora custa R$ {} sofreu um aumento de {:.2f} %'.format(valor_inicial,valor_final,dif))\n",
        " print('memoria de calculo: R$ {} - R$ {} = R$ {}'.format(valor_inicial,valor_final,(valor_inicial-valor_final)))\n",
        "\n"
      ],
      "execution_count": 44,
      "outputs": [
        {
          "output_type": "stream",
          "name": "stdout",
          "text": [
            "Digite o valor inicial do produto: R$ 200\n",
            "Digite o valor final do produto: R$ 100\n",
            "Se o produto custava R$ 200.0 e agora custa R$ 100.0 sofreu um desconto de -50.00 %\n",
            "memoria de calculo: R$ 200.0 - R$ 100.0 = R$ 100.0\n"
          ]
        }
      ]
    },
    {
      "cell_type": "code",
      "metadata": {
        "id": "eh-RHVCS_vie",
        "colab": {
          "base_uri": "https://localhost:8080/"
        },
        "outputId": "0ddbb82e-b24f-421a-b677-940133c3717d"
      },
      "source": [
        "#DESAFIO 13\n",
        "\n",
        "#Leia o salario e mostre o novo salario com 15% de aumento\n",
        "\n",
        "salario_inicial = float(input('Digite o salario inicial: R$ '))\n",
        "aumento = float(input('Digite quantos % de alteração: % '))\n",
        "\n",
        "novo_salario = salario_inicial+((salario_inicial * aumento) / 100)\n",
        "\n",
        "print('O salario era R$ {} sofreu uma alteração de {} % agora o novo salario é R$ {:.2f}'.format(salario_inicial,aumento, novo_salario))"
      ],
      "execution_count": 62,
      "outputs": [
        {
          "output_type": "stream",
          "name": "stdout",
          "text": [
            "Digite o salario inicial: R$ 3500\n",
            "Digite quantos % de alteração: % 15\n",
            "O salario era R$ 3500.0 sofreu uma alteração de 15.0 % agora o novo salario é R$ 4025.00\n"
          ]
        }
      ]
    },
    {
      "cell_type": "code",
      "metadata": {
        "colab": {
          "base_uri": "https://localhost:8080/"
        },
        "id": "pwGqOtcYNoe9",
        "outputId": "d4fe69f8-a19f-48f0-c7fc-1beb62069631"
      },
      "source": [
        "# DESAFIO EXTRA - Gerar um programa para sortear 15 numeros entre 25 sem repetição \"LOTOFACIL\"\n",
        "import random\n",
        "lista = [] #Criando lista vazia\n",
        "inicio =1 #inicio\n",
        "final = 26 #final \n",
        "while inicio < final: # 26-1 = 25 numeros\n",
        "  lista.append(inicio) #Adicionando na lista\n",
        "  inicio +=1\n",
        "\n",
        "print('#' * 10, 'LOTO FACIL: ', end=' ')\n",
        "print(lista, '#' * 10) #Lista = [1, 2, 3, 4, 5, 6, 7, 8, 9, 10, 11, 12, 13, 14, 15, 16, 17, 18, 19, 20, 21, 22, 23, 24, 25]\n",
        "print('\\n')\n",
        "# 3 JOGOS\n",
        "start = 1\n",
        "to = 3\n",
        "while start <= to:\n",
        "\n",
        "  sorteio = random.sample(lista, 15) #Sorteando 15 numeros da lista\n",
        "  lista_ordenada = sorted(sorteio) #Ordenando a lista sorteada\n",
        "  formato = str(start)\n",
        "  print('{} ª lista gerada'.format(formato),lista_ordenada)\n",
        "  start +=1"
      ],
      "execution_count": null,
      "outputs": [
        {
          "output_type": "stream",
          "name": "stdout",
          "text": [
            "########## LOTO FACIL:  [1, 2, 3, 4, 5, 6, 7, 8, 9, 10, 11, 12, 13, 14, 15, 16, 17, 18, 19, 20, 21, 22, 23, 24, 25] ##########\n",
            "\n",
            "\n",
            "1 ª lista gerada [2, 4, 5, 6, 8, 10, 11, 12, 13, 14, 15, 17, 18, 20, 21]\n",
            "2 ª lista gerada [1, 3, 4, 5, 6, 7, 10, 11, 12, 14, 16, 18, 19, 21, 25]\n",
            "3 ª lista gerada [1, 2, 3, 4, 5, 6, 8, 10, 12, 13, 14, 19, 20, 21, 25]\n"
          ]
        }
      ]
    }
  ]
}