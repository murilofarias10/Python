{
  "nbformat": 4,
  "nbformat_minor": 0,
  "metadata": {
    "colab": {
      "name": "Curso_Em_Video_Python.ipynb",
      "provenance": [],
      "collapsed_sections": [],
      "authorship_tag": "ABX9TyPzRPKgjMzTnwfiU9BdwZ5p",
      "include_colab_link": true
    },
    "kernelspec": {
      "name": "python3",
      "display_name": "Python 3"
    },
    "language_info": {
      "name": "python"
    }
  },
  "cells": [
    {
      "cell_type": "markdown",
      "metadata": {
        "id": "view-in-github",
        "colab_type": "text"
      },
      "source": [
        "<a href=\"https://colab.research.google.com/github/murilofarias10/AnaliseComPython/blob/main/Curso_Em_Video_Python.ipynb\" target=\"_parent\"><img src=\"https://colab.research.google.com/assets/colab-badge.svg\" alt=\"Open In Colab\"/></a>"
      ]
    },
    {
      "cell_type": "code",
      "metadata": {
        "colab": {
          "base_uri": "https://localhost:8080/"
        },
        "id": "FakRgwqEz4iY",
        "outputId": "c5b768ca-2015-45db-b37d-fbfefadd8e5d"
      },
      "source": [
        "#DESAFIO 003\n",
        "\n",
        "#Crie um Script que leia o nome de uma pessoa\n",
        "#E mostre uma msg de boas vindas\n",
        "\n",
        "nome = input('Digite seu nome:' )\n",
        "print('ola: ', nome.upper(), ' bem vindo')"
      ],
      "execution_count": null,
      "outputs": [
        {
          "output_type": "stream",
          "text": [
            "Digite seu nome:murilo\n",
            "ola:  MURILO  bem vindo\n"
          ],
          "name": "stdout"
        }
      ]
    },
    {
      "cell_type": "code",
      "metadata": {
        "colab": {
          "base_uri": "https://localhost:8080/"
        },
        "id": "eVhpCUyRhXPY",
        "outputId": "68f72e3d-b9d2-4fac-c431-64bf55206bc0"
      },
      "source": [
        "#trabalhando com formatos\n",
        "n1 = int(input('Digite um numero: '))\n",
        "n2 = int(input('Digite outro numero: '))\n",
        "\n",
        "print('A soma de {} + {} é: {}'.format(n1, n2, n1+n2))"
      ],
      "execution_count": 19,
      "outputs": [
        {
          "output_type": "stream",
          "name": "stdout",
          "text": [
            "Digite um numero: 5\n",
            "Digite outro numero: 2\n",
            "A soma de 5 + 2 é: 7\n"
          ]
        }
      ]
    },
    {
      "cell_type": "code",
      "metadata": {
        "colab": {
          "base_uri": "https://localhost:8080/"
        },
        "id": "4txXNqRbuH-T",
        "outputId": "dbc4400c-57f8-4ed7-aade-15b8177ccea8"
      },
      "source": [
        "n1 = 400\n",
        "n2 = 15\n",
        "\n",
        "divisao = n1/n2\n",
        "soma = n1 + n2\n",
        "print('A divisão é: {:.3f}'.format(divisao), end=' ') #.3f trazendo 3 casas decimais\n",
        "print('A soma é: {}'.format(soma)) #utlizando end= no final do print faz não quebrar a linha"
      ],
      "execution_count": 29,
      "outputs": [
        {
          "output_type": "stream",
          "name": "stdout",
          "text": [
            "A divisão é: 26.667 A soma é: 415\n"
          ]
        }
      ]
    },
    {
      "cell_type": "code",
      "metadata": {
        "colab": {
          "base_uri": "https://localhost:8080/"
        },
        "id": "UpNCeGTjiaNI",
        "outputId": "fb15e8fc-7271-4935-861b-c28cf605fb04"
      },
      "source": [
        "#verificando os metodos de tipos\n",
        "n = input('Digite algo: ')\n",
        "\n",
        "#print(n.isnumeric()) #verificando se é numero\n",
        "#print(n.isalpha()) #verificando se é letra\n",
        "#print(n.isalnum()) #verificando se é numero ou letra\n",
        "print(n.isupper()) #verificando se é somente letra UPPER"
      ],
      "execution_count": null,
      "outputs": [
        {
          "output_type": "stream",
          "name": "stdout",
          "text": [
            "Digite algo: aaA\n",
            "False\n"
          ]
        }
      ]
    },
    {
      "cell_type": "code",
      "metadata": {
        "id": "69Ou5T32lS2K",
        "colab": {
          "base_uri": "https://localhost:8080/"
        },
        "outputId": "5bc7bfbd-11ad-4631-d4e4-d708a0b76ee9"
      },
      "source": [
        "#DESAFIO 004\n",
        "\n",
        "#Programa que leia alguma coisa e verifique todos as possibilidades\n",
        "\n",
        "algo = input('Digite algo e verifique as respostas: ')\n",
        "\n",
        "print(type(algo))\n",
        "\n",
        "print('é somente espaço ? {}'.format(algo.isspace()))\n",
        "print('é um numero ? {}'.format(algo.isnumeric()))\n",
        "print('é uma letra ? {}'.format(algo.isalpha()))\n",
        "print('é um numero OU letra ? {}'.format(algo.isalnum()))\n",
        "print('esta em capslock ? {}'.format(algo.isupper()))\n",
        "print('esta em minusculo ? {}'.format(algo.islower()))\n",
        "print('é capitalizada (inicia maiusculo) ? {}'.format(algo.istitle()))\n",
        "\n",
        "#outros isidentifier isprintable isdigit isascii\n"
      ],
      "execution_count": 37,
      "outputs": [
        {
          "output_type": "stream",
          "name": "stdout",
          "text": [
            "Digite algo e verifique as respostas: 2\n",
            "<class 'str'>\n",
            "é somente espaço ? False\n",
            "é um numero ? True\n",
            "é uma letra ? False\n",
            "é um numero OU letra ? True\n",
            "esta em capslock ? False\n",
            "esta em minusculo ? False\n",
            "é capitalizada (inicia maiusculo) ? False\n"
          ]
        }
      ]
    },
    {
      "cell_type": "code",
      "metadata": {
        "id": "cu25esctn0AX"
      },
      "source": [
        "#Operações Aritmeticas \n",
        "\n",
        "# 1 ()\n",
        "# 2 ** pow(4,3) = 4 ** 3\n",
        "# 3  * / // %\n",
        "# 4 + - \n",
        "\n",
        "#Raiz quadrada e inverso\n",
        "#9**9 = 81 #se fizer o resultado elevado a meio traz o valor\n",
        "81**(1/2)\n",
        "\n",
        "#Raiz cubica e inverso\n",
        "#9**3 = 729\n",
        "729**(1/3)"
      ],
      "execution_count": null,
      "outputs": []
    },
    {
      "cell_type": "code",
      "metadata": {
        "colab": {
          "base_uri": "https://localhost:8080/"
        },
        "id": "Zqx2MC_ysbvm",
        "outputId": "f7a54847-42eb-4933-86e5-e4ebcc4728bd"
      },
      "source": [
        "#Alinhamento a direita:\n",
        "nome = 'murilo'\n",
        "print('Prazer em te conhecer: {:>20}'.format(nome))"
      ],
      "execution_count": 14,
      "outputs": [
        {
          "output_type": "stream",
          "name": "stdout",
          "text": [
            "Prazer em te conhecer:               murilo\n"
          ]
        }
      ]
    },
    {
      "cell_type": "code",
      "metadata": {
        "colab": {
          "base_uri": "https://localhost:8080/"
        },
        "id": "iy_WjfYKs6yV",
        "outputId": "7bc65a03-df18-467f-bbcb-68315ce9bfa5"
      },
      "source": [
        "#Centralizado\n",
        "nome = 'murilo'\n",
        "print('Prazer em te conhecer: {:^20}'.format(nome))"
      ],
      "execution_count": 17,
      "outputs": [
        {
          "output_type": "stream",
          "name": "stdout",
          "text": [
            "Prazer em te conhecer:        murilo       \n"
          ]
        }
      ]
    },
    {
      "cell_type": "code",
      "metadata": {
        "colab": {
          "base_uri": "https://localhost:8080/"
        },
        "id": "L8pkIz0htXtF",
        "outputId": "21326b21-a646-435c-bbe3-425e98f079f8"
      },
      "source": [
        "#Inserindo algo\n",
        "nome = 'murilo'\n",
        "print('Prazer em te conhecer: {:=^20}'.format(nome))"
      ],
      "execution_count": 18,
      "outputs": [
        {
          "output_type": "stream",
          "name": "stdout",
          "text": [
            "Prazer em te conhecer: =======murilo=======\n"
          ]
        }
      ]
    },
    {
      "cell_type": "code",
      "metadata": {
        "colab": {
          "base_uri": "https://localhost:8080/"
        },
        "id": "ubZqKMOnvTUJ",
        "outputId": "83f47b11-9e9a-4f1d-83e2-c9a518f7d132"
      },
      "source": [
        "#DESAFIO 005\n",
        "\n",
        "#Faça um programa que leia um numero inteiro e mostre na tela\n",
        "#Anterior, Numero, Proximo\n",
        "\n",
        "numero = (input('Digite um numero qualquer: ')) #digitando o numero\n",
        "validacao = (numero.isnumeric()) #validando se é numero\n",
        "\n",
        "while validacao == False: #se for falso\n",
        "  print('Opção invalida, DIGITE UM NUMERO: ') #tente novamente\n",
        "  numero = (input('Digite um numero qualquer: ')) #tente novamente\n",
        "  validacao = (numero.isnumeric()) #validação novamente\n",
        "\n",
        "if validacao == True: #se for verdadeiro\n",
        " numero_int = int(numero) #transformando em numero inteiro\n",
        " anterior = numero_int -1 #anterior\n",
        " proximo = numero_int +1 #posterior\n",
        "\n",
        "\n",
        "print(' {}  {}  {}'.format(anterior, numero, proximo))"
      ],
      "execution_count": 51,
      "outputs": [
        {
          "output_type": "stream",
          "name": "stdout",
          "text": [
            "Digite um numero qualquer: a\n",
            "Opção invalida, DIGITE UM NUMERO: \n",
            "Digite um numero qualquer: c\n",
            "Opção invalida, DIGITE UM NUMERO: \n",
            "Digite um numero qualquer: 14\n",
            " 13  14  15\n"
          ]
        }
      ]
    },
    {
      "cell_type": "code",
      "metadata": {
        "colab": {
          "base_uri": "https://localhost:8080/"
        },
        "id": "HygqGfBCyNLi",
        "outputId": "17b39ca8-c132-4bb3-e62a-87c75e943da5"
      },
      "source": [
        "#DESAFIO 006\n",
        "\n",
        "#Faça um programa que leia um numero mostre seu dobro, triplo e raiz quadrada\n",
        "\n",
        "numero = (input('Digite um numero qualquer: ')) #digitando o numero\n",
        "validacao = (numero.isnumeric()) #validando se é numero\n",
        "\n",
        "while validacao == False: #se for falso\n",
        "  print('Opção invalida, DIGITE UM NUMERO: ') #tente novamente\n",
        "  numero = (input('Digite um numero qualquer: ')) #tente novamente\n",
        "  validacao = (numero.isnumeric()) #validação novamente\n",
        "\n",
        "if validacao == True: #se for verdadeiro\n",
        " numero_int = int(numero) #transformando em numero inteiro\n",
        " dobro = numero_int * 2 #dobro\n",
        " triplo = numero_int *3 #triplo\n",
        " raiz_quadrada = numero_int ** 2 #raiz quadrada\n",
        "\n",
        "\n",
        "print('numero: {} dobro: {}  triplo: {}  raiz quadrada: {}'.format(numero_int, dobro, triplo, raiz_quadrada))"
      ],
      "execution_count": 54,
      "outputs": [
        {
          "output_type": "stream",
          "name": "stdout",
          "text": [
            "Digite um numero qualquer: a\n",
            "Opção invalida, DIGITE UM NUMERO: \n",
            "Digite um numero qualquer: 50\n",
            "numero: 50 dobro: 100  triplo: 150  raiz quadrada: 2500\n"
          ]
        }
      ]
    },
    {
      "cell_type": "code",
      "metadata": {
        "colab": {
          "base_uri": "https://localhost:8080/"
        },
        "id": "0MEF9CFxzNz4",
        "outputId": "76ef20fa-941e-48ca-cb12-5b66780e3802"
      },
      "source": [
        "#DESAFIO 007\n",
        "\n",
        "#Faça um programa que leia dois numeros e mostre sua media\n",
        "\n",
        "numero_1 = (input('Digite 1º numero: ')) #digitando o numero\n",
        "validacao = (numero_1.isnumeric()) #validando se é numero\n",
        "while validacao == False:\n",
        "  print('Opção invalida, DIGITE novamente o 1º NUMERO: ')\n",
        "  numero_1 = (input('Digite 1º numero: ')) #digitando o numero\n",
        "  validacao = (numero_1.isnumeric()) #validando se é numero\n",
        "\n",
        "numero_2 = (input('Digite 2º numero: ')) #digitando o numero\n",
        "validacao2 = (numero_2.isnumeric()) #validando se é numero\n",
        "\n",
        "while validacao2 == False:\n",
        "  print('Opção invalida, DIGITE novamente o 2º NUMERO: ')\n",
        "  numero_2 = (input('Digite 2º numero: ')) #digitando o numero\n",
        "  validacao2 = (numero_2.isnumeric()) #validando se é numero\n",
        "\n",
        "if validacao == True and validacao2 == True:\n",
        "  transf_1 = int(numero_1)\n",
        "  transf_2 = int(numero_2)\n",
        "\n",
        "  media = (transf_1 + transf_2) / 2\n",
        "\n",
        "print('numero 1: {} numero 2: {}  media: {}'.format(numero_1, numero_2, media))"
      ],
      "execution_count": 79,
      "outputs": [
        {
          "output_type": "stream",
          "name": "stdout",
          "text": [
            "Digite 1º numero: 5\n",
            "Digite 2º numero: 5\n",
            "numero 1: 5 numero 2: 5  media: 5.0\n"
          ]
        }
      ]
    },
    {
      "cell_type": "code",
      "metadata": {
        "colab": {
          "base_uri": "https://localhost:8080/"
        },
        "id": "HhswDOFk5dli",
        "outputId": "18a0eb00-96fa-4ff5-95c9-ce367b05c8a5"
      },
      "source": [
        "#DESAFIO 8\n",
        "\n",
        "#Escreva um programa que leia um valor em metros\n",
        "# e exiba convertido em centimetros\n",
        "\n",
        "numero = (input('Digite um numero qualquer: ')) #digitando o numero\n",
        "validacao = (numero.isnumeric()) #validando se é numero\n",
        "\n",
        "while validacao == False: #se for falso\n",
        "  print('Opção invalida, DIGITE UM NUMERO: ') #tente novamente\n",
        "  numero = (input('Digite um numero qualquer: ')) #tente novamente\n",
        "  validacao = (numero.isnumeric()) #validação novamente\n",
        "\n",
        "if validacao == True: #se for verdadeiro\n",
        " numero_int = int(numero) #transformando em numero inteiro\n",
        "\n",
        " centimetros = numero_int * 100\n",
        "\n",
        "print('\\n')\n",
        "\n",
        "print('Numero informado: {} m'.format(numero_int))\n",
        "print('Convertido para centrimentos: {} cm'.format(centimetros))\n"
      ],
      "execution_count": 85,
      "outputs": [
        {
          "output_type": "stream",
          "name": "stdout",
          "text": [
            "Digite um numero qualquer: xx\n",
            "Opção invalida, DIGITE UM NUMERO: \n",
            "Digite um numero qualquer: a\n",
            "Opção invalida, DIGITE UM NUMERO: \n",
            "Digite um numero qualquer: 5\n",
            "\n",
            "\n",
            "Numero informado: 5 m\n",
            "Convertido para centrimentos: 500 cm\n"
          ]
        }
      ]
    },
    {
      "cell_type": "code",
      "metadata": {
        "colab": {
          "base_uri": "https://localhost:8080/"
        },
        "id": "H3F7Rhkn_Euw",
        "outputId": "2fb3bf37-75b1-4ce4-af90-ed8e735a9fed"
      },
      "source": [
        "#DESAFIO 9 \n",
        "\n",
        "#leia um numero qualquer e escreva sua respectiva tabuada tabuada \n",
        "\n",
        "numero = (input('Digite um numero qualquer: ')) #digitando o numero\n",
        "validacao = (numero.isnumeric()) #validando se é numero\n",
        "\n",
        "while validacao == False: #se for falso\n",
        "  print('Opção invalida, DIGITE UM NUMERO: ') #tente novamente\n",
        "  numero = (input('Digite um numero qualquer: ')) #tente novamente\n",
        "  validacao = (numero.isnumeric()) #validação novamente\n",
        "\n",
        "if validacao == True:\n",
        "  numero_int = int(numero)\n",
        "  inicio = 1\n",
        "  final = 11\n",
        "  while inicio < final:\n",
        "\n",
        "    resposta = inicio * numero_int\n",
        "    print(' {} * {} = {}'.format(numero_int, inicio, resposta))\n",
        "    inicio +=1\n",
        "\n",
        " "
      ],
      "execution_count": 97,
      "outputs": [
        {
          "output_type": "stream",
          "name": "stdout",
          "text": [
            "Digite um numero qualquer: a\n",
            "Opção invalida, DIGITE UM NUMERO: \n",
            "Digite um numero qualquer: 150\n",
            " 150 * 1 = 150\n",
            " 150 * 2 = 300\n",
            " 150 * 3 = 450\n",
            " 150 * 4 = 600\n",
            " 150 * 5 = 750\n",
            " 150 * 6 = 900\n",
            " 150 * 7 = 1050\n",
            " 150 * 8 = 1200\n",
            " 150 * 9 = 1350\n",
            " 150 * 10 = 1500\n"
          ]
        }
      ]
    },
    {
      "cell_type": "code",
      "metadata": {
        "id": "v0vq9USB_Px4"
      },
      "source": [
        "#DESAFIO 10\n",
        "\n",
        "#Leia um valor e mostre quantos dolares ela pode comprar\n",
        "#Dolar: 3,27"
      ],
      "execution_count": null,
      "outputs": []
    },
    {
      "cell_type": "code",
      "metadata": {
        "id": "TMDx-x8I_YjX"
      },
      "source": [
        "#DESAFIO 11\n",
        "\n",
        "#Leia largura e altura, calcule sua área \n",
        "#quantas latas de tintas gasta para pintar\n",
        "#obs: cada litro pinta 2m²"
      ],
      "execution_count": null,
      "outputs": []
    },
    {
      "cell_type": "code",
      "metadata": {
        "id": "7Ff3xgn0_mqX"
      },
      "source": [
        "#DESAFIO 12\n",
        "\n",
        "#Leia o preço de um produto e mostre seu novo preço com 5% de desconto"
      ],
      "execution_count": null,
      "outputs": []
    },
    {
      "cell_type": "code",
      "metadata": {
        "id": "eh-RHVCS_vie"
      },
      "source": [
        "#DESAFIO 13\n",
        "\n",
        "#Leia o salario e mostre o novo salario com 15% de aumento"
      ],
      "execution_count": null,
      "outputs": []
    }
  ]
}