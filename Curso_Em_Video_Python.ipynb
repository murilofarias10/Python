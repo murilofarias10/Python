{
  "nbformat": 4,
  "nbformat_minor": 0,
  "metadata": {
    "colab": {
      "name": "Curso_Em_Video_Python.ipynb",
      "provenance": [],
      "collapsed_sections": [],
      "authorship_tag": "ABX9TyOkkGFUEuG7f4ahJ+9VcZlb",
      "include_colab_link": true
    },
    "kernelspec": {
      "name": "python3",
      "display_name": "Python 3"
    },
    "language_info": {
      "name": "python"
    }
  },
  "cells": [
    {
      "cell_type": "markdown",
      "metadata": {
        "id": "view-in-github",
        "colab_type": "text"
      },
      "source": [
        "<a href=\"https://colab.research.google.com/github/murilofarias10/AnaliseComPython/blob/main/Curso_Em_Video_Python.ipynb\" target=\"_parent\"><img src=\"https://colab.research.google.com/assets/colab-badge.svg\" alt=\"Open In Colab\"/></a>"
      ]
    },
    {
      "cell_type": "code",
      "metadata": {
        "colab": {
          "base_uri": "https://localhost:8080/"
        },
        "id": "FakRgwqEz4iY",
        "outputId": "c5b768ca-2015-45db-b37d-fbfefadd8e5d"
      },
      "source": [
        "#DESAFIO 003\n",
        "\n",
        "#Crie um Script que leia o nome de uma pessoa\n",
        "#E mostre uma msg de boas vindas\n",
        "\n",
        "nome = input('Digite seu nome:' )\n",
        "print('ola: ', nome.upper(), ' bem vindo')"
      ],
      "execution_count": null,
      "outputs": [
        {
          "output_type": "stream",
          "text": [
            "Digite seu nome:murilo\n",
            "ola:  MURILO  bem vindo\n"
          ],
          "name": "stdout"
        }
      ]
    },
    {
      "cell_type": "code",
      "metadata": {
        "colab": {
          "base_uri": "https://localhost:8080/"
        },
        "id": "eVhpCUyRhXPY",
        "outputId": "68f72e3d-b9d2-4fac-c431-64bf55206bc0"
      },
      "source": [
        "#trabalhando com formatos\n",
        "n1 = int(input('Digite um numero: '))\n",
        "n2 = int(input('Digite outro numero: '))\n",
        "\n",
        "print('A soma de {} + {} é: {}'.format(n1, n2, n1+n2))"
      ],
      "execution_count": null,
      "outputs": [
        {
          "output_type": "stream",
          "name": "stdout",
          "text": [
            "Digite um numero: 5\n",
            "Digite outro numero: 2\n",
            "A soma de 5 + 2 é: 7\n"
          ]
        }
      ]
    },
    {
      "cell_type": "code",
      "metadata": {
        "colab": {
          "base_uri": "https://localhost:8080/"
        },
        "id": "4txXNqRbuH-T",
        "outputId": "dbc4400c-57f8-4ed7-aade-15b8177ccea8"
      },
      "source": [
        "n1 = 400\n",
        "n2 = 15\n",
        "\n",
        "divisao = n1/n2\n",
        "soma = n1 + n2\n",
        "print('A divisão é: {:.3f}'.format(divisao), end=' ') #.3f trazendo 3 casas decimais\n",
        "print('A soma é: {}'.format(soma)) #utlizando end= no final do print faz não quebrar a linha"
      ],
      "execution_count": null,
      "outputs": [
        {
          "output_type": "stream",
          "name": "stdout",
          "text": [
            "A divisão é: 26.667 A soma é: 415\n"
          ]
        }
      ]
    },
    {
      "cell_type": "code",
      "metadata": {
        "colab": {
          "base_uri": "https://localhost:8080/"
        },
        "id": "UpNCeGTjiaNI",
        "outputId": "fb15e8fc-7271-4935-861b-c28cf605fb04"
      },
      "source": [
        "#verificando os metodos de tipos\n",
        "n = input('Digite algo: ')\n",
        "\n",
        "#print(n.isnumeric()) #verificando se é numero\n",
        "#print(n.isalpha()) #verificando se é letra\n",
        "#print(n.isalnum()) #verificando se é numero ou letra\n",
        "print(n.isupper()) #verificando se é somente letra UPPER"
      ],
      "execution_count": null,
      "outputs": [
        {
          "output_type": "stream",
          "name": "stdout",
          "text": [
            "Digite algo: aaA\n",
            "False\n"
          ]
        }
      ]
    },
    {
      "cell_type": "code",
      "metadata": {
        "id": "69Ou5T32lS2K",
        "colab": {
          "base_uri": "https://localhost:8080/"
        },
        "outputId": "5bc7bfbd-11ad-4631-d4e4-d708a0b76ee9"
      },
      "source": [
        "#DESAFIO 004\n",
        "\n",
        "#Programa que leia alguma coisa e verifique todos as possibilidades\n",
        "\n",
        "algo = input('Digite algo e verifique as respostas: ')\n",
        "\n",
        "print(type(algo))\n",
        "\n",
        "print('é somente espaço ? {}'.format(algo.isspace()))\n",
        "print('é um numero ? {}'.format(algo.isnumeric()))\n",
        "print('é uma letra ? {}'.format(algo.isalpha()))\n",
        "print('é um numero OU letra ? {}'.format(algo.isalnum()))\n",
        "print('esta em capslock ? {}'.format(algo.isupper()))\n",
        "print('esta em minusculo ? {}'.format(algo.islower()))\n",
        "print('é capitalizada (inicia maiusculo) ? {}'.format(algo.istitle()))\n",
        "\n",
        "#outros isidentifier isprintable isdigit isascii\n"
      ],
      "execution_count": null,
      "outputs": [
        {
          "output_type": "stream",
          "name": "stdout",
          "text": [
            "Digite algo e verifique as respostas: 2\n",
            "<class 'str'>\n",
            "é somente espaço ? False\n",
            "é um numero ? True\n",
            "é uma letra ? False\n",
            "é um numero OU letra ? True\n",
            "esta em capslock ? False\n",
            "esta em minusculo ? False\n",
            "é capitalizada (inicia maiusculo) ? False\n"
          ]
        }
      ]
    },
    {
      "cell_type": "code",
      "metadata": {
        "id": "cu25esctn0AX"
      },
      "source": [
        "#Operações Aritmeticas \n",
        "\n",
        "# 1 ()\n",
        "# 2 ** pow(4,3) = 4 ** 3\n",
        "# 3  * / // %\n",
        "# 4 + - \n",
        "\n",
        "#Raiz quadrada e inverso\n",
        "#9**9 = 81 #se fizer o resultado elevado a meio traz o valor\n",
        "81**(1/2)\n",
        "\n",
        "#Raiz cubica e inverso\n",
        "#9**3 = 729\n",
        "729**(1/3)"
      ],
      "execution_count": null,
      "outputs": []
    },
    {
      "cell_type": "code",
      "metadata": {
        "colab": {
          "base_uri": "https://localhost:8080/"
        },
        "id": "Zqx2MC_ysbvm",
        "outputId": "f7a54847-42eb-4933-86e5-e4ebcc4728bd"
      },
      "source": [
        "#Alinhamento a direita:\n",
        "nome = 'murilo'\n",
        "print('Prazer em te conhecer: {:>20}'.format(nome))"
      ],
      "execution_count": null,
      "outputs": [
        {
          "output_type": "stream",
          "name": "stdout",
          "text": [
            "Prazer em te conhecer:               murilo\n"
          ]
        }
      ]
    },
    {
      "cell_type": "code",
      "metadata": {
        "colab": {
          "base_uri": "https://localhost:8080/"
        },
        "id": "iy_WjfYKs6yV",
        "outputId": "7bc65a03-df18-467f-bbcb-68315ce9bfa5"
      },
      "source": [
        "#Centralizado\n",
        "nome = 'murilo'\n",
        "print('Prazer em te conhecer: {:^20}'.format(nome))"
      ],
      "execution_count": null,
      "outputs": [
        {
          "output_type": "stream",
          "name": "stdout",
          "text": [
            "Prazer em te conhecer:        murilo       \n"
          ]
        }
      ]
    },
    {
      "cell_type": "code",
      "metadata": {
        "colab": {
          "base_uri": "https://localhost:8080/"
        },
        "id": "L8pkIz0htXtF",
        "outputId": "21326b21-a646-435c-bbe3-425e98f079f8"
      },
      "source": [
        "#Inserindo algo\n",
        "nome = 'murilo'\n",
        "print('Prazer em te conhecer: {:=^20}'.format(nome))"
      ],
      "execution_count": null,
      "outputs": [
        {
          "output_type": "stream",
          "name": "stdout",
          "text": [
            "Prazer em te conhecer: =======murilo=======\n"
          ]
        }
      ]
    },
    {
      "cell_type": "code",
      "metadata": {
        "colab": {
          "base_uri": "https://localhost:8080/"
        },
        "id": "ubZqKMOnvTUJ",
        "outputId": "8feaf842-ccca-4328-a959-b766e6e84aba"
      },
      "source": [
        "#DESAFIO 005 - Murilo\n",
        "\n",
        "#Faça um programa que leia um numero inteiro e mostre na tela\n",
        "#Anterior, Numero, Proximo\n",
        "\n",
        "numero = (input('Digite um numero qualquer: ')) #digitando o numero\n",
        "\n",
        "validacao = (numero.isnumeric()) #validando se é numero\n",
        "\n",
        "while validacao == False: #se for falso\n",
        "  print('Opção invalida, DIGITE UM NUMERO: ') #tente novamente\n",
        "  numero = (input('Digite um numero qualquer: ')) #tente novamente\n",
        "  validacao = (numero.isnumeric()) #validação novamente\n",
        "\n",
        "if validacao == True: #se for verdadeiro\n",
        " numero_int = int(numero) #transformando em numero inteiro\n",
        " anterior = numero_int -1 #anterior\n",
        " proximo = numero_int +1 #posterior\n",
        "\n",
        "\n",
        "print(' {}  {}  {}'.format(anterior, numero, proximo))"
      ],
      "execution_count": 111,
      "outputs": [
        {
          "output_type": "stream",
          "name": "stdout",
          "text": [
            "Digite um numero qualquer: 3\n",
            " 2  3  4\n"
          ]
        }
      ]
    },
    {
      "cell_type": "code",
      "metadata": {
        "colab": {
          "base_uri": "https://localhost:8080/"
        },
        "id": "M0_gdCGpk7E4",
        "outputId": "b31e3d3c-8193-486c-f32a-0a57ad2b2fe6"
      },
      "source": [
        "#DESAFIO 005 - Professor\n",
        "numero = int(input('Digite um numero'))\n",
        "\n",
        "print('{} {} {}'.format(numero-1,numero,numero+1))"
      ],
      "execution_count": 114,
      "outputs": [
        {
          "output_type": "stream",
          "name": "stdout",
          "text": [
            "Digite um numero567\n",
            "566 567 568\n"
          ]
        }
      ]
    },
    {
      "cell_type": "code",
      "metadata": {
        "colab": {
          "base_uri": "https://localhost:8080/"
        },
        "id": "HygqGfBCyNLi",
        "outputId": "6864a528-3e34-4eaf-9ecc-251304fb9bc4"
      },
      "source": [
        "#DESAFIO 006 - Murilo\n",
        "\n",
        "#Faça um programa que leia um numero mostre seu dobro, triplo e raiz quadrada\n",
        "import math\n",
        "\n",
        "numero = (input('Digite um numero qualquer: ')) #digitando o numero\n",
        "validacao = (numero.isnumeric()) #validando se é numero\n",
        "\n",
        "while validacao == False: #se for falso\n",
        "  print('Opção invalida, DIGITE UM NUMERO: ') #tente novamente\n",
        "  numero = (input('Digite um numero qualquer: ')) #tente novamente\n",
        "  validacao = (numero.isnumeric()) #validação novamente\n",
        "\n",
        "if validacao == True: #se for verdadeiro\n",
        " numero_int = int(numero) #transformando em numero inteiro\n",
        " dobro = numero_int * 2 #dobro\n",
        " triplo = numero_int *3 #triplo\n",
        " raiz_quadrada = numero_int ** (1/2) #raiz quadrada = metade da potencia\n",
        " outro_raiz = pow(numero_int, (1/2)) #outra maneira de fazer raiz quadrada\n",
        "\n",
        "#raiz_arredondada = int(math.ceil(raiz_quadrada))\n",
        "#raiz_ant = float(raiz_quadrada)\n",
        "#raiz_string = str(raiz_ant)\n",
        "\n",
        "\n",
        "raiz_replace = f'{raiz_quadrada:_.4f}' #Utiliza esse metodo para fazer replace em numero inteiro _.2f\n",
        "\n",
        "raiz_replace = raiz_replace.replace('.',',')\n",
        "\n",
        "print('{:.2f}'.format(outro_raiz))\n",
        "\n",
        "print('numero: {} dobro: {}  triplo: {}  raiz quadrada: {}'.format(numero_int, dobro, triplo, raiz_replace))\n",
        "print('numero: {} dobro: {}  triplo: {}  raiz quadrada: {:.2f}'.format(numero_int, dobro, triplo, raiz_quadrada))"
      ],
      "execution_count": 142,
      "outputs": [
        {
          "output_type": "stream",
          "name": "stdout",
          "text": [
            "Digite um numero qualquer: 8\n",
            "2.83\n",
            "numero: 8 dobro: 16  triplo: 24  raiz quadrada: 2,8284\n",
            "numero: 8 dobro: 16  triplo: 24  raiz quadrada: 2.83\n"
          ]
        }
      ]
    },
    {
      "cell_type": "code",
      "metadata": {
        "colab": {
          "base_uri": "https://localhost:8080/"
        },
        "id": "0MEF9CFxzNz4",
        "outputId": "76ef20fa-941e-48ca-cb12-5b66780e3802"
      },
      "source": [
        "#DESAFIO 007\n",
        "\n",
        "#Faça um programa que leia dois numeros e mostre sua media\n",
        "\n",
        "numero_1 = (input('Digite 1º numero: ')) #digitando o numero\n",
        "validacao = (numero_1.isnumeric()) #validando se é numero\n",
        "while validacao == False:\n",
        "  print('Opção invalida, DIGITE novamente o 1º NUMERO: ')\n",
        "  numero_1 = (input('Digite 1º numero: ')) #digitando o numero\n",
        "  validacao = (numero_1.isnumeric()) #validando se é numero\n",
        "\n",
        "numero_2 = (input('Digite 2º numero: ')) #digitando o numero\n",
        "validacao2 = (numero_2.isnumeric()) #validando se é numero\n",
        "\n",
        "while validacao2 == False:\n",
        "  print('Opção invalida, DIGITE novamente o 2º NUMERO: ')\n",
        "  numero_2 = (input('Digite 2º numero: ')) #digitando o numero\n",
        "  validacao2 = (numero_2.isnumeric()) #validando se é numero\n",
        "\n",
        "if validacao == True and validacao2 == True:\n",
        "  transf_1 = int(numero_1)\n",
        "  transf_2 = int(numero_2)\n",
        "\n",
        "  media = (transf_1 + transf_2) / 2\n",
        "\n",
        "print('numero 1: {} numero 2: {}  media: {}'.format(numero_1, numero_2, media))"
      ],
      "execution_count": null,
      "outputs": [
        {
          "output_type": "stream",
          "name": "stdout",
          "text": [
            "Digite 1º numero: 5\n",
            "Digite 2º numero: 5\n",
            "numero 1: 5 numero 2: 5  media: 5.0\n"
          ]
        }
      ]
    },
    {
      "cell_type": "code",
      "metadata": {
        "colab": {
          "base_uri": "https://localhost:8080/"
        },
        "id": "HhswDOFk5dli",
        "outputId": "18a0eb00-96fa-4ff5-95c9-ce367b05c8a5"
      },
      "source": [
        "#DESAFIO 8\n",
        "\n",
        "#Escreva um programa que leia um valor em metros\n",
        "# e exiba convertido em centimetros\n",
        "\n",
        "numero = (input('Digite um numero qualquer: ')) #digitando o numero\n",
        "validacao = (numero.isnumeric()) #validando se é numero\n",
        "\n",
        "while validacao == False: #se for falso\n",
        "  print('Opção invalida, DIGITE UM NUMERO: ') #tente novamente\n",
        "  numero = (input('Digite um numero qualquer: ')) #tente novamente\n",
        "  validacao = (numero.isnumeric()) #validação novamente\n",
        "\n",
        "if validacao == True: #se for verdadeiro\n",
        " numero_int = int(numero) #transformando em numero inteiro\n",
        "\n",
        " centimetros = numero_int * 100\n",
        "\n",
        "print('\\n')\n",
        "\n",
        "print('Numero informado: {} m'.format(numero_int))\n",
        "print('Convertido para centrimentos: {} cm'.format(centimetros))\n"
      ],
      "execution_count": null,
      "outputs": [
        {
          "output_type": "stream",
          "name": "stdout",
          "text": [
            "Digite um numero qualquer: xx\n",
            "Opção invalida, DIGITE UM NUMERO: \n",
            "Digite um numero qualquer: a\n",
            "Opção invalida, DIGITE UM NUMERO: \n",
            "Digite um numero qualquer: 5\n",
            "\n",
            "\n",
            "Numero informado: 5 m\n",
            "Convertido para centrimentos: 500 cm\n"
          ]
        }
      ]
    },
    {
      "cell_type": "code",
      "metadata": {
        "colab": {
          "base_uri": "https://localhost:8080/"
        },
        "id": "H3F7Rhkn_Euw",
        "outputId": "2fb3bf37-75b1-4ce4-af90-ed8e735a9fed"
      },
      "source": [
        "#DESAFIO 9 \n",
        "\n",
        "#leia um numero qualquer e escreva sua respectiva tabuada tabuada \n",
        "\n",
        "numero = (input('Digite um numero qualquer: ')) #digitando o numero\n",
        "validacao = (numero.isnumeric()) #validando se é numero\n",
        "\n",
        "while validacao == False: #se for falso\n",
        "  print('Opção invalida, DIGITE UM NUMERO: ') #tente novamente\n",
        "  numero = (input('Digite um numero qualquer: ')) #tente novamente\n",
        "  validacao = (numero.isnumeric()) #validação novamente\n",
        "\n",
        "if validacao == True:\n",
        "  numero_int = int(numero)\n",
        "  inicio = 1\n",
        "  final = 11\n",
        "  while inicio < final:\n",
        "\n",
        "    resposta = inicio * numero_int\n",
        "    print(' {} * {} = {}'.format(numero_int, inicio, resposta))\n",
        "    inicio +=1\n",
        "\n",
        " "
      ],
      "execution_count": null,
      "outputs": [
        {
          "output_type": "stream",
          "name": "stdout",
          "text": [
            "Digite um numero qualquer: a\n",
            "Opção invalida, DIGITE UM NUMERO: \n",
            "Digite um numero qualquer: 150\n",
            " 150 * 1 = 150\n",
            " 150 * 2 = 300\n",
            " 150 * 3 = 450\n",
            " 150 * 4 = 600\n",
            " 150 * 5 = 750\n",
            " 150 * 6 = 900\n",
            " 150 * 7 = 1050\n",
            " 150 * 8 = 1200\n",
            " 150 * 9 = 1350\n",
            " 150 * 10 = 1500\n"
          ]
        }
      ]
    },
    {
      "cell_type": "code",
      "metadata": {
        "id": "v0vq9USB_Px4",
        "colab": {
          "base_uri": "https://localhost:8080/"
        },
        "outputId": "6670bdc2-42b2-4303-9a87-2193c925e0fb"
      },
      "source": [
        "#DESAFIO 10\n",
        "\n",
        "#Leia um valor e mostre quantos dolares ela pode comprar\n",
        "#Dolar: 3,27\n",
        "brl = float(input('Digite quantidade em reais que voce possui: R$ '))\n",
        "conversao = (brl // 3.27)\n",
        "novo = int(brl)\n",
        "exato = (novo / 3.27)\n",
        "print( '\\n',' #' * 30, '\\n')\n",
        "print('Com R$ {} você pode comprar USD {} \\n \\n obs: cotação do dolar = USD 3,27 \\n \\n calculo: R$ {} / USD 3,27 ='.format(brl, conversao,brl), end='')\n",
        "print(' USD %.1f' %(exato), end ='')\n",
        "print(' Sendo assim, aproximado: USD {}'.format(conversao))"
      ],
      "execution_count": 97,
      "outputs": [
        {
          "output_type": "stream",
          "name": "stdout",
          "text": [
            "Digite quantidade em reais que voce possui: R$ 3270\n",
            "\n",
            "  # # # # # # # # # # # # # # # # # # # # # # # # # # # # # # \n",
            "\n",
            "Com R$ 3270.0 você pode comprar USD 999.0 \n",
            " \n",
            " obs: cotação do dolar = USD 3,27 \n",
            " \n",
            " calculo: R$ 3270.0 / USD 3,27 = USD 1000.0 Sendo assim, aproximado: USD 999.0\n"
          ]
        }
      ]
    },
    {
      "cell_type": "code",
      "metadata": {
        "id": "TMDx-x8I_YjX",
        "colab": {
          "base_uri": "https://localhost:8080/"
        },
        "outputId": "51b9f72c-e84a-4608-edc6-86a12e7f2e7c"
      },
      "source": [
        "#DESAFIO 11\n",
        "\n",
        "#Leia largura e altura, calcule sua área \n",
        "#quantas latas de tintas gasta para pintar\n",
        "#obs: cada litro pinta 2m² #111.56 #222.3\n",
        "import math\n",
        "largura = float(input('digite a largura em metros: '))\n",
        "print('\\n')\n",
        "comprimento = float(input('digite o comprimento em metros: '))\n",
        "print('\\n')\n",
        "area = largura * comprimento\n",
        "galoes = area / 2\n",
        "galoes_personalizados = int(math.ceil(galoes))\n",
        "print('galoes sem arredondar', galoes)\n",
        "print('\\n')\n",
        "print('largura: {}  comprimento {}  area total {} \\n galoes de tintas necessarios {}'.format(largura, comprimento, area, galoes_personalizados))"
      ],
      "execution_count": 107,
      "outputs": [
        {
          "output_type": "stream",
          "name": "stdout",
          "text": [
            "digite a largura em metros: 234.65\n",
            "\n",
            "\n",
            "digite o comprimento em metros: 233.444\n",
            "\n",
            "\n",
            "galoes sem arredondar 27388.8173\n",
            "largura: 234.65  comprimento 233.444  area total 54777.6346 \n",
            " galoes de tintas necessarios 27389\n"
          ]
        }
      ]
    },
    {
      "cell_type": "code",
      "metadata": {
        "id": "7Ff3xgn0_mqX"
      },
      "source": [
        "#DESAFIO 12\n",
        "\n",
        "#Leia o preço de um produto e mostre seu novo preço com 5% de desconto"
      ],
      "execution_count": null,
      "outputs": []
    },
    {
      "cell_type": "code",
      "metadata": {
        "id": "eh-RHVCS_vie"
      },
      "source": [
        "#DESAFIO 13\n",
        "\n",
        "#Leia o salario e mostre o novo salario com 15% de aumento"
      ],
      "execution_count": null,
      "outputs": []
    },
    {
      "cell_type": "code",
      "metadata": {
        "colab": {
          "base_uri": "https://localhost:8080/"
        },
        "id": "pwGqOtcYNoe9",
        "outputId": "d4fe69f8-a19f-48f0-c7fc-1beb62069631"
      },
      "source": [
        "# DESAFIO EXTRA - Gerar um programa para sortear 15 numeros entre 25 sem repetição \"LOTOFACIL\"\n",
        "import random\n",
        "lista = [] #Criando lista vazia\n",
        "inicio =1 #inicio\n",
        "final = 26 #final \n",
        "while inicio < final: # 26-1 = 25 numeros\n",
        "  lista.append(inicio) #Adicionando na lista\n",
        "  inicio +=1\n",
        "\n",
        "print('#' * 10, 'LOTO FACIL: ', end=' ')\n",
        "print(lista, '#' * 10) #Lista = [1, 2, 3, 4, 5, 6, 7, 8, 9, 10, 11, 12, 13, 14, 15, 16, 17, 18, 19, 20, 21, 22, 23, 24, 25]\n",
        "print('\\n')\n",
        "# 3 JOGOS\n",
        "start = 1\n",
        "to = 3\n",
        "while start <= to:\n",
        "\n",
        "  sorteio = random.sample(lista, 15) #Sorteando 15 numeros da lista\n",
        "  lista_ordenada = sorted(sorteio) #Ordenando a lista sorteada\n",
        "  formato = str(start)\n",
        "  print('{} ª lista gerada'.format(formato),lista_ordenada)\n",
        "  start +=1"
      ],
      "execution_count": 40,
      "outputs": [
        {
          "output_type": "stream",
          "name": "stdout",
          "text": [
            "########## LOTO FACIL:  [1, 2, 3, 4, 5, 6, 7, 8, 9, 10, 11, 12, 13, 14, 15, 16, 17, 18, 19, 20, 21, 22, 23, 24, 25] ##########\n",
            "\n",
            "\n",
            "1 ª lista gerada [2, 4, 5, 6, 8, 10, 11, 12, 13, 14, 15, 17, 18, 20, 21]\n",
            "2 ª lista gerada [1, 3, 4, 5, 6, 7, 10, 11, 12, 14, 16, 18, 19, 21, 25]\n",
            "3 ª lista gerada [1, 2, 3, 4, 5, 6, 8, 10, 12, 13, 14, 19, 20, 21, 25]\n"
          ]
        }
      ]
    }
  ]
}