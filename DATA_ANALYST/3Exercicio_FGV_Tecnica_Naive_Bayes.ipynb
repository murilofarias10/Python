{
  "nbformat": 4,
  "nbformat_minor": 0,
  "metadata": {
    "colab": {
      "name": "3Exercicio_FGV_Tecnica_Naive_Bayes.ipynb",
      "provenance": [],
      "collapsed_sections": [],
      "authorship_tag": "ABX9TyOBte5Qx4cqVgXwDsqW9i/q",
      "include_colab_link": true
    },
    "kernelspec": {
      "name": "python3",
      "display_name": "Python 3"
    },
    "language_info": {
      "name": "python"
    }
  },
  "cells": [
    {
      "cell_type": "markdown",
      "metadata": {
        "id": "view-in-github",
        "colab_type": "text"
      },
      "source": [
        "<a href=\"https://colab.research.google.com/github/murilofarias10/AnaliseComPython/blob/main/3Exercicio_FGV_Tecnica_Naive_Bayes.ipynb\" target=\"_parent\"><img src=\"https://colab.research.google.com/assets/colab-badge.svg\" alt=\"Open In Colab\"/></a>"
      ]
    },
    {
      "cell_type": "markdown",
      "metadata": {
        "id": "wOOicafG1viO"
      },
      "source": [
        "**Utilizando a técnica de Naive Bayes, calcule a probabilidade de o objeto [azul, quadrado, ondulada] pertencer a classe agradável.**"
      ]
    },
    {
      "cell_type": "markdown",
      "metadata": {
        "id": "doVxs_aw11E7"
      },
      "source": [
        "![Capturar.PNG](data:image/png;base64,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)"
      ]
    },
    {
      "cell_type": "code",
      "metadata": {
        "id": "Qkr2OLFnX_lo"
      },
      "source": [
        "# carrega biblioteca\n",
        "import pandas as pd"
      ],
      "execution_count": 1,
      "outputs": []
    },
    {
      "cell_type": "code",
      "metadata": {
        "id": "P7qO-oNVYSTw"
      },
      "source": [
        "# carrega arquivo\n",
        "arquivo = pd.read_excel('tecnica_naive_bayes.xlsx', sheet_name='base_dados')"
      ],
      "execution_count": 11,
      "outputs": []
    },
    {
      "cell_type": "code",
      "metadata": {
        "colab": {
          "base_uri": "https://localhost:8080/",
          "height": 514
        },
        "id": "h-5ipi35YeBQ",
        "outputId": "6426bea6-69dc-4e39-badf-40099879ebdd"
      },
      "source": [
        "# mostrar arquivo completo\n",
        "display(arquivo)"
      ],
      "execution_count": 13,
      "outputs": [
        {
          "output_type": "display_data",
          "data": {
            "text/html": [
              "<div>\n",
              "<style scoped>\n",
              "    .dataframe tbody tr th:only-of-type {\n",
              "        vertical-align: middle;\n",
              "    }\n",
              "\n",
              "    .dataframe tbody tr th {\n",
              "        vertical-align: top;\n",
              "    }\n",
              "\n",
              "    .dataframe thead th {\n",
              "        text-align: right;\n",
              "    }\n",
              "</style>\n",
              "<table border=\"1\" class=\"dataframe\">\n",
              "  <thead>\n",
              "    <tr style=\"text-align: right;\">\n",
              "      <th></th>\n",
              "      <th>item</th>\n",
              "      <th>cor</th>\n",
              "      <th>forma</th>\n",
              "      <th>textura</th>\n",
              "      <th>classificação</th>\n",
              "      <th>CONTADOR</th>\n",
              "    </tr>\n",
              "  </thead>\n",
              "  <tbody>\n",
              "    <tr>\n",
              "      <th>0</th>\n",
              "      <td>15</td>\n",
              "      <td>azul</td>\n",
              "      <td>círculo</td>\n",
              "      <td>áspera</td>\n",
              "      <td>desagradável</td>\n",
              "      <td>1</td>\n",
              "    </tr>\n",
              "    <tr>\n",
              "      <th>1</th>\n",
              "      <td>10</td>\n",
              "      <td>azul</td>\n",
              "      <td>quadrado</td>\n",
              "      <td>áspera</td>\n",
              "      <td>agradável</td>\n",
              "      <td>1</td>\n",
              "    </tr>\n",
              "    <tr>\n",
              "      <th>2</th>\n",
              "      <td>12</td>\n",
              "      <td>azul</td>\n",
              "      <td>quadrado</td>\n",
              "      <td>áspera</td>\n",
              "      <td>agradável</td>\n",
              "      <td>1</td>\n",
              "    </tr>\n",
              "    <tr>\n",
              "      <th>3</th>\n",
              "      <td>14</td>\n",
              "      <td>vermelho</td>\n",
              "      <td>quadrado</td>\n",
              "      <td>áspera</td>\n",
              "      <td>agradável</td>\n",
              "      <td>1</td>\n",
              "    </tr>\n",
              "    <tr>\n",
              "      <th>4</th>\n",
              "      <td>4</td>\n",
              "      <td>azul</td>\n",
              "      <td>triângulo</td>\n",
              "      <td>áspera</td>\n",
              "      <td>agradável</td>\n",
              "      <td>1</td>\n",
              "    </tr>\n",
              "    <tr>\n",
              "      <th>5</th>\n",
              "      <td>3</td>\n",
              "      <td>azul</td>\n",
              "      <td>círculo</td>\n",
              "      <td>macia</td>\n",
              "      <td>agradável</td>\n",
              "      <td>1</td>\n",
              "    </tr>\n",
              "    <tr>\n",
              "      <th>6</th>\n",
              "      <td>6</td>\n",
              "      <td>azul</td>\n",
              "      <td>triângulo</td>\n",
              "      <td>macia</td>\n",
              "      <td>desagradável</td>\n",
              "      <td>1</td>\n",
              "    </tr>\n",
              "    <tr>\n",
              "      <th>7</th>\n",
              "      <td>8</td>\n",
              "      <td>vermelho</td>\n",
              "      <td>triângulo</td>\n",
              "      <td>macia</td>\n",
              "      <td>desagradável</td>\n",
              "      <td>1</td>\n",
              "    </tr>\n",
              "    <tr>\n",
              "      <th>8</th>\n",
              "      <td>5</td>\n",
              "      <td>azul</td>\n",
              "      <td>círculo</td>\n",
              "      <td>ondulada</td>\n",
              "      <td>agradável</td>\n",
              "      <td>1</td>\n",
              "    </tr>\n",
              "    <tr>\n",
              "      <th>9</th>\n",
              "      <td>2</td>\n",
              "      <td>vermelho</td>\n",
              "      <td>círculo</td>\n",
              "      <td>ondulada</td>\n",
              "      <td>desagradável</td>\n",
              "      <td>1</td>\n",
              "    </tr>\n",
              "    <tr>\n",
              "      <th>10</th>\n",
              "      <td>9</td>\n",
              "      <td>vermelho</td>\n",
              "      <td>círculo</td>\n",
              "      <td>ondulada</td>\n",
              "      <td>desagradável</td>\n",
              "      <td>1</td>\n",
              "    </tr>\n",
              "    <tr>\n",
              "      <th>11</th>\n",
              "      <td>1</td>\n",
              "      <td>verde</td>\n",
              "      <td>quadrado</td>\n",
              "      <td>ondulada</td>\n",
              "      <td>desagradável</td>\n",
              "      <td>1</td>\n",
              "    </tr>\n",
              "    <tr>\n",
              "      <th>12</th>\n",
              "      <td>7</td>\n",
              "      <td>verde</td>\n",
              "      <td>quadrado</td>\n",
              "      <td>ondulada</td>\n",
              "      <td>agradável</td>\n",
              "      <td>1</td>\n",
              "    </tr>\n",
              "    <tr>\n",
              "      <th>13</th>\n",
              "      <td>11</td>\n",
              "      <td>verde</td>\n",
              "      <td>quadrado</td>\n",
              "      <td>ondulada</td>\n",
              "      <td>agradável</td>\n",
              "      <td>1</td>\n",
              "    </tr>\n",
              "    <tr>\n",
              "      <th>14</th>\n",
              "      <td>13</td>\n",
              "      <td>vermelho</td>\n",
              "      <td>quadrado</td>\n",
              "      <td>ondulada</td>\n",
              "      <td>agradável</td>\n",
              "      <td>1</td>\n",
              "    </tr>\n",
              "  </tbody>\n",
              "</table>\n",
              "</div>"
            ],
            "text/plain": [
              "    item       cor      forma   textura classificação  CONTADOR\n",
              "0     15      azul    círculo    áspera  desagradável         1\n",
              "1     10      azul   quadrado    áspera     agradável         1\n",
              "2     12      azul   quadrado    áspera     agradável         1\n",
              "3     14  vermelho   quadrado    áspera     agradável         1\n",
              "4      4      azul  triângulo    áspera     agradável         1\n",
              "5      3      azul    círculo     macia     agradável         1\n",
              "6      6      azul  triângulo     macia  desagradável         1\n",
              "7      8  vermelho  triângulo     macia  desagradável         1\n",
              "8      5      azul    círculo  ondulada     agradável         1\n",
              "9      2  vermelho    círculo  ondulada  desagradável         1\n",
              "10     9  vermelho    círculo  ondulada  desagradável         1\n",
              "11     1     verde   quadrado  ondulada  desagradável         1\n",
              "12     7     verde   quadrado  ondulada     agradável         1\n",
              "13    11     verde   quadrado  ondulada     agradável         1\n",
              "14    13  vermelho   quadrado  ondulada     agradável         1"
            ]
          },
          "metadata": {}
        }
      ]
    },
    {
      "cell_type": "code",
      "metadata": {
        "colab": {
          "base_uri": "https://localhost:8080/",
          "height": 0
        },
        "id": "3LLDGQVSZz3-",
        "outputId": "27a93ec2-9405-4899-f0a4-0e47a75967ca"
      },
      "source": [
        "# colunas do arquivo\n",
        "arquivo.columns"
      ],
      "execution_count": 14,
      "outputs": [
        {
          "output_type": "execute_result",
          "data": {
            "text/plain": [
              "Index(['item', 'cor', 'forma', 'textura', 'classificação', 'CONTADOR'], dtype='object')"
            ]
          },
          "metadata": {},
          "execution_count": 14
        }
      ]
    },
    {
      "cell_type": "code",
      "metadata": {
        "colab": {
          "base_uri": "https://localhost:8080/",
          "height": 0
        },
        "id": "KqlatEzjZ8Xl",
        "outputId": "c13e8f84-aa34-4095-e93f-b2a2e70624e4"
      },
      "source": [
        "# tipos das colunas do arquivo\n",
        "arquivo.dtypes"
      ],
      "execution_count": 15,
      "outputs": [
        {
          "output_type": "execute_result",
          "data": {
            "text/plain": [
              "item              int64\n",
              "cor              object\n",
              "forma            object\n",
              "textura          object\n",
              "classificação    object\n",
              "CONTADOR          int64\n",
              "dtype: object"
            ]
          },
          "metadata": {},
          "execution_count": 15
        }
      ]
    },
    {
      "cell_type": "code",
      "metadata": {
        "colab": {
          "base_uri": "https://localhost:8080/",
          "height": 0
        },
        "id": "FPeU4Jd4ajXN",
        "outputId": "20048707-ba43-4b61-dddb-7cb2ae952acb"
      },
      "source": [
        "# Quantos itens total nós temos no arquivo\n",
        "total_itens = arquivo['CONTADOR'].value_counts()\n",
        "total_itens = int(total_itens)\n",
        "print(total_itens)\n",
        "print(total_itens)"
      ],
      "execution_count": 113,
      "outputs": [
        {
          "output_type": "stream",
          "name": "stdout",
          "text": [
            "15\n",
            "15\n"
          ]
        }
      ]
    },
    {
      "cell_type": "code",
      "metadata": {
        "colab": {
          "base_uri": "https://localhost:8080/",
          "height": 0
        },
        "id": "kcAYde2WaKhN",
        "outputId": "d3dc5b62-39bf-4818-eb8a-1b0643c307f5"
      },
      "source": [
        "# Quantos do total é agradavel ?\n",
        "\n",
        "arquivo['classificação'].value_counts()\n",
        "\n",
        "#Ou seja 9 agradavel e 6 desagradavel"
      ],
      "execution_count": 59,
      "outputs": [
        {
          "output_type": "execute_result",
          "data": {
            "text/plain": [
              "agradável       9\n",
              "desagradável    6\n",
              "Name: classificação, dtype: int64"
            ]
          },
          "metadata": {},
          "execution_count": 59
        }
      ]
    },
    {
      "cell_type": "code",
      "metadata": {
        "colab": {
          "base_uri": "https://localhost:8080/",
          "height": 0
        },
        "id": "KAR-pMWThJqL",
        "outputId": "7dfa18ba-34e3-45d5-e826-5d4e6cc94e94"
      },
      "source": [
        "# Quantos do total é agradavel ?\n",
        "\n",
        "total_agradavel = arquivo.loc[arquivo['classificação']=='agradável', 'CONTADOR'].sum()\n",
        "print(total_agradavel)\n"
      ],
      "execution_count": 80,
      "outputs": [
        {
          "output_type": "stream",
          "name": "stdout",
          "text": [
            "9\n"
          ]
        }
      ]
    },
    {
      "cell_type": "code",
      "metadata": {
        "colab": {
          "base_uri": "https://localhost:8080/",
          "height": 0
        },
        "id": "LSdXj4YHlkwn",
        "outputId": "55be9d98-b91a-4e44-c480-049854f28334"
      },
      "source": [
        "# Qual é o percentual de agradavel do total de itens ?\n",
        "\n",
        "percentual_agradavel = (total_agradavel / total_itens)*100\n",
        "percentual_agradavel = float(percentual_agradavel)\n",
        " \n",
        "print(percentual_agradavel)"
      ],
      "execution_count": 126,
      "outputs": [
        {
          "output_type": "stream",
          "name": "stdout",
          "text": [
            "60.0\n"
          ]
        }
      ]
    },
    {
      "cell_type": "code",
      "metadata": {
        "colab": {
          "base_uri": "https://localhost:8080/",
          "height": 0
        },
        "id": "aOwtK5NVmJ_W",
        "outputId": "53f5dd3f-1b15-448a-daf0-5a40ab3cbac1"
      },
      "source": [
        "#Quantos do azul é agradavel:\n",
        "\n",
        "total_azul_agradavel = arquivo.loc[(arquivo['cor']=='azul') & (arquivo['classificação'] == 'agradável'), 'CONTADOR'].sum()\n",
        "print(total_azul_agradavel)"
      ],
      "execution_count": 87,
      "outputs": [
        {
          "output_type": "stream",
          "name": "stdout",
          "text": [
            "5\n"
          ]
        }
      ]
    },
    {
      "cell_type": "code",
      "metadata": {
        "colab": {
          "base_uri": "https://localhost:8080/",
          "height": 0
        },
        "id": "jh4PK2olnwVT",
        "outputId": "23a5f9b4-bdbf-43c4-ee8f-87659e3bee0e"
      },
      "source": [
        "# Qual é o total de azul\n",
        "\n",
        "total_azul = arquivo.loc[arquivo['cor']=='azul', 'CONTADOR'].sum()\n",
        "print(total_azul)"
      ],
      "execution_count": 89,
      "outputs": [
        {
          "output_type": "stream",
          "name": "stdout",
          "text": [
            "7\n"
          ]
        }
      ]
    },
    {
      "cell_type": "code",
      "metadata": {
        "colab": {
          "base_uri": "https://localhost:8080/",
          "height": 0
        },
        "id": "ZhcK8LzuoRuC",
        "outputId": "5bb14078-45d6-4cf6-ba3f-766a3725437b"
      },
      "source": [
        "# Qual é o percentual de agradavel do total de azuis ?\n",
        "percentual_azuis = (total_azul_agradavel / total_azul ) * 100\n",
        "print(percentual_azuis)"
      ],
      "execution_count": 90,
      "outputs": [
        {
          "output_type": "stream",
          "name": "stdout",
          "text": [
            "71.42857142857143\n"
          ]
        }
      ]
    },
    {
      "cell_type": "code",
      "metadata": {
        "colab": {
          "base_uri": "https://localhost:8080/",
          "height": 0
        },
        "id": "ZzAlVuPHojcB",
        "outputId": "9ab25c38-4c1f-4c3b-ac00-75e7ee5ccf1e"
      },
      "source": [
        "# Qual é o total de quadrados:\n",
        "total_quadrados = arquivo.loc[arquivo['forma']=='quadrado', 'CONTADOR'].sum()\n",
        "print(total_quadrados)\n"
      ],
      "execution_count": 91,
      "outputs": [
        {
          "output_type": "stream",
          "name": "stdout",
          "text": [
            "7\n"
          ]
        }
      ]
    },
    {
      "cell_type": "code",
      "metadata": {
        "colab": {
          "base_uri": "https://localhost:8080/",
          "height": 0
        },
        "id": "vrzXrgCdoyqZ",
        "outputId": "311da06f-576d-43af-da2b-234d752b11fc"
      },
      "source": [
        "# Quantos do quadrado é agradavel\n",
        "total_quadrados_agradavel = arquivo.loc[(arquivo['forma']=='quadrado') & (arquivo['classificação'] == 'agradável'), 'CONTADOR'].sum()\n",
        "total_quadrados_agradavel = int(total_quadrados_agradavel)\n",
        "print(total_quadrados_agradavel)"
      ],
      "execution_count": 115,
      "outputs": [
        {
          "output_type": "stream",
          "name": "stdout",
          "text": [
            "6\n"
          ]
        }
      ]
    },
    {
      "cell_type": "code",
      "metadata": {
        "colab": {
          "base_uri": "https://localhost:8080/",
          "height": 0
        },
        "id": "22WEIHCepDmI",
        "outputId": "c01c0a17-45b3-404e-bedc-be76387c41ea"
      },
      "source": [
        "# Qual é o percentual de quadrados que são agradavel\n",
        "percentual_quadrados_agradavel = (total_quadrados_agradavel / total_quadrados) * 100\n",
        "percentual_quadrados_agradavel = float(percentual_quadrados_agradavel)\n",
        "print(percentual_quadrados_agradavel)"
      ],
      "execution_count": 118,
      "outputs": [
        {
          "output_type": "stream",
          "name": "stdout",
          "text": [
            "85.71428571428571\n"
          ]
        }
      ]
    },
    {
      "cell_type": "code",
      "metadata": {
        "colab": {
          "base_uri": "https://localhost:8080/",
          "height": 0
        },
        "id": "rfH2DBFqpTxw",
        "outputId": "54a3c8ae-c256-4f38-8547-ba8b588ae0ce"
      },
      "source": [
        "# Total de ondulada\n",
        "total_ondulada = arquivo.loc[arquivo['textura']=='ondulada', 'CONTADOR'].sum()\n",
        "print(total_ondulada)\n"
      ],
      "execution_count": 94,
      "outputs": [
        {
          "output_type": "stream",
          "name": "stdout",
          "text": [
            "7\n"
          ]
        }
      ]
    },
    {
      "cell_type": "code",
      "metadata": {
        "colab": {
          "base_uri": "https://localhost:8080/",
          "height": 0
        },
        "id": "ygHm1xP5putQ",
        "outputId": "d2c3d0ba-936b-4213-f5f0-7e5df7229c38"
      },
      "source": [
        "# Quantos do ondulada são agradavel\n",
        "total_ondulada_agradavel = arquivo.loc[(arquivo['textura']=='ondulada') & (arquivo['classificação'] == 'agradável'), 'CONTADOR'].sum()\n",
        "print(total_ondulada_agradavel)"
      ],
      "execution_count": 95,
      "outputs": [
        {
          "output_type": "stream",
          "name": "stdout",
          "text": [
            "4\n"
          ]
        }
      ]
    },
    {
      "cell_type": "code",
      "metadata": {
        "colab": {
          "base_uri": "https://localhost:8080/",
          "height": 0
        },
        "id": "V6Hf91kqp7cw",
        "outputId": "2ea2e0db-e90d-440f-9726-43e21ed10b35"
      },
      "source": [
        "# Percentual de agradavel dentro de ondulada\n",
        "percentual_ondulada_agradavel = (total_ondulada_agradavel / total_ondulada) * 100\n",
        "print(percentual_ondulada_agradavel)"
      ],
      "execution_count": 96,
      "outputs": [
        {
          "output_type": "stream",
          "name": "stdout",
          "text": [
            "57.14285714285714\n"
          ]
        }
      ]
    },
    {
      "cell_type": "code",
      "metadata": {
        "colab": {
          "base_uri": "https://localhost:8080/",
          "height": 0
        },
        "id": "PliXFfiUqSF3",
        "outputId": "57eb35cc-3d2f-4eec-a266-42f8b0912daf"
      },
      "source": [
        "\n",
        "a = percentual_ondulada_agradavel / 100 \n",
        "b = percentual_quadrados_agradavel / 100 \n",
        "c = percentual_azuis / 100\n",
        "d = percentual_agradavel / 100\n",
        "\n",
        "tecnica_naive_bayes = (a*b*c*d) *100\n",
        "\n",
        "x = float(tecnica_naive_bayes)\n",
        "print('*'*20 + ' RESULTADO FINAL ' + '*'*20)\n",
        "print('O total de itens no relatório é de: {} itens'.format(total_itens))\n",
        "print('agradavel em cima do total de itens é: {:.2f}% ou seja temos {} itens agradavel'.format(percentual_agradavel, total_agradavel))\n",
        "print('\\n')\n",
        "print('O total de itens azul no relatório é de: {} itens'.format(total_azul))\n",
        "print('agradavel em cima do total de azul é: {:.2f}% ou seja temos {} itens agradavel'.format(percentual_azuis,total_azul_agradavel))\n",
        "print('\\n')\n",
        "print('O total de itens quadrados relatório é de: {} itens'.format(total_quadrados))\n",
        "print('agradavel em cima do total de quadrado é: {:.2f}% ou seja temos {} itens agradavel'.format(percentual_quadrados_agradavel,total_quadrados_agradavel))\n",
        "print('\\n')\n",
        "print('O total de itens ondulado no relatório é de: {} itens'.format(total_ondulada))\n",
        "print('agradavel em cima do total de onduladas é: {:.2f}% ou seja temos {} itens agradavel'.format(percentual_ondulada_agradavel, total_ondulada_agradavel))\n",
        "print('\\n')\n",
        "print('Baseando tecnica de Naive Bayes temos um total: {:.2f}% de probabilidade para AZUL + QUADRADO + ONDULADO serem AGRADAVEL'.format(x))"
      ],
      "execution_count": 140,
      "outputs": [
        {
          "output_type": "stream",
          "name": "stdout",
          "text": [
            "******************** RESULTADO FINAL ********************\n",
            "O total de itens no relatório é de: 15 itens\n",
            "agradavel em cima do total de itens é: 60.00% ou seja temos 9 itens agradavel\n",
            "\n",
            "\n",
            "O total de itens azul no relatório é de: 7 itens\n",
            "agradavel em cima do total de azul é: 71.43% ou seja temos 5 itens agradavel\n",
            "\n",
            "\n",
            "O total de itens quadrados relatório é de: 7 itens\n",
            "agradavel em cima do total de quadrado é: 85.71% ou seja temos 6 itens agradavel\n",
            "\n",
            "\n",
            "O total de itens ondulado no relatório é de: 7 itens\n",
            "agradavel em cima do total de onduladas é: 57.14% ou seja temos 4 itens agradavel\n",
            "\n",
            "\n",
            "Baseando tecnica de Naive Bayes temos um total: 20.99% de probabilidade para AZUL + QUADRADO + ONDULADO serem AGRADAVEL\n"
          ]
        }
      ]
    },
    {
      "cell_type": "code",
      "metadata": {
        "colab": {
          "base_uri": "https://localhost:8080/",
          "height": 264
        },
        "id": "OvECyk9jDFBa",
        "outputId": "86c62424-8329-4271-8149-40f34f3cf91b"
      },
      "source": [
        "import matplotlib.pyplot as plt\n",
        "import numpy as np\n",
        "\n",
        "#percentual_ondulada_agradavel\n",
        "lista_nome = ['Probabilidade Positiva','Geral']\n",
        "resto = 100 - tecnica_naive_bayes\n",
        "lista = [tecnica_naive_bayes,resto]\n",
        "\n",
        "fig1, ax1 = plt.subplots()\n",
        "ax1.pie(lista, labels=lista_nome, autopct='%1.1f%%', shadow=True)\n",
        "\n",
        "ax1.axis('equal')\n",
        "ax1.set_title('PROBABILIDADE: AZUL + QUADRADO + ONDULADO PERTENCER À CLASSE AGRADAVEL')\n",
        "\n",
        "ax1.legend(lista_nome, title='Legenda', loc='best')\n",
        "plt.show()\n",
        "\n"
      ],
      "execution_count": 238,
      "outputs": [
        {
          "output_type": "display_data",
          "data": {
            "image/png": "[encoded data removed]",
            "text/plain": [
              "<Figure size 432x288 with 1 Axes>"
            ]
          },
          "metadata": {}
        }
      ]
    },
    {
      "cell_type": "markdown",
      "metadata": {
        "id": "k5Cjj7a7qLrP"
      },
      "source": [
        "**Outros**"
      ]
    },
    {
      "cell_type": "code",
      "metadata": {
        "colab": {
          "base_uri": "https://localhost:8080/",
          "height": 0
        },
        "id": "4-0FmyMzbWw8",
        "outputId": "68983d26-002c-40c8-e24c-c5938718a919"
      },
      "source": [
        "#Filtrando apenas os agradaveis em cima do total // 9 ITENS\n",
        "agradavel = arquivo.query('classificação==\"agradável\"').value_counts()\n",
        "print(agradavel)\n"
      ],
      "execution_count": 81,
      "outputs": [
        {
          "output_type": "stream",
          "name": "stdout",
          "text": [
            "item  cor       forma      textura   classificação  CONTADOR\n",
            "14    vermelho  quadrado   áspera    agradável      1           1\n",
            "13    vermelho  quadrado   ondulada  agradável      1           1\n",
            "12    azul      quadrado   áspera    agradável      1           1\n",
            "11    verde     quadrado   ondulada  agradável      1           1\n",
            "10    azul      quadrado   áspera    agradável      1           1\n",
            "7     verde     quadrado   ondulada  agradável      1           1\n",
            "5     azul      círculo    ondulada  agradável      1           1\n",
            "4     azul      triângulo  áspera    agradável      1           1\n",
            "3     azul      círculo    macia     agradável      1           1\n",
            "dtype: int64\n"
          ]
        }
      ]
    },
    {
      "cell_type": "code",
      "metadata": {
        "colab": {
          "base_uri": "https://localhost:8080/",
          "height": 0
        },
        "id": "rxJNhV2MeHP9",
        "outputId": "7be6d58a-d15f-40fa-9d64-4d1e27943a1e"
      },
      "source": [
        "#Filtrando do total de azul os agradaveis // 5 ITENS\n",
        "arquivo.loc[(arquivo['cor']=='azul') & (arquivo['classificação'] == 'agradável')].value_counts()\n",
        "       "
      ],
      "execution_count": 141,
      "outputs": [
        {
          "output_type": "execute_result",
          "data": {
            "text/plain": [
              "item  cor   forma      textura   classificação  CONTADOR\n",
              "12    azul  quadrado   áspera    agradável      1           1\n",
              "10    azul  quadrado   áspera    agradável      1           1\n",
              "5     azul  círculo    ondulada  agradável      1           1\n",
              "4     azul  triângulo  áspera    agradável      1           1\n",
              "3     azul  círculo    macia     agradável      1           1\n",
              "dtype: int64"
            ]
          },
          "metadata": {},
          "execution_count": 141
        }
      ]
    },
    {
      "cell_type": "code",
      "metadata": {
        "colab": {
          "base_uri": "https://localhost:8080/",
          "height": 0
        },
        "id": "WtnLRq6L0sIW",
        "outputId": "0bedefe4-407b-43a5-9f78-92e5742bee17"
      },
      "source": [
        "#Filtrando do total de quadrados os agradaveis // 6 ITENS\n",
        "arquivo.loc[(arquivo['forma']=='quadrado') & (arquivo['classificação'] == 'agradável')].value_counts()"
      ],
      "execution_count": 143,
      "outputs": [
        {
          "output_type": "execute_result",
          "data": {
            "text/plain": [
              "item  cor       forma     textura   classificação  CONTADOR\n",
              "14    vermelho  quadrado  áspera    agradável      1           1\n",
              "13    vermelho  quadrado  ondulada  agradável      1           1\n",
              "12    azul      quadrado  áspera    agradável      1           1\n",
              "11    verde     quadrado  ondulada  agradável      1           1\n",
              "10    azul      quadrado  áspera    agradável      1           1\n",
              "7     verde     quadrado  ondulada  agradável      1           1\n",
              "dtype: int64"
            ]
          },
          "metadata": {},
          "execution_count": 143
        }
      ]
    },
    {
      "cell_type": "code",
      "metadata": {
        "colab": {
          "base_uri": "https://localhost:8080/",
          "height": 0
        },
        "id": "di6Cr3sN07-e",
        "outputId": "44a1d547-131e-4bcc-e8b2-0df044710e4c"
      },
      "source": [
        "#Filtrando do total de onduladas os agradaveis // 4 ITENS\n",
        "arquivo.loc[(arquivo['textura']=='ondulada') & (arquivo['classificação'] == 'agradável')].value_counts()"
      ],
      "execution_count": 144,
      "outputs": [
        {
          "output_type": "execute_result",
          "data": {
            "text/plain": [
              "item  cor       forma     textura   classificação  CONTADOR\n",
              "13    vermelho  quadrado  ondulada  agradável      1           1\n",
              "11    verde     quadrado  ondulada  agradável      1           1\n",
              "7     verde     quadrado  ondulada  agradável      1           1\n",
              "5     azul      círculo   ondulada  agradável      1           1\n",
              "dtype: int64"
            ]
          },
          "metadata": {},
          "execution_count": 144
        }
      ]
    },
    {
      "cell_type": "code",
      "metadata": {
        "colab": {
          "base_uri": "https://localhost:8080/",
          "height": 298
        },
        "id": "wDmcXr2T-g_L",
        "outputId": "247e60d8-b62c-405e-f3d9-33e8e85472a3"
      },
      "source": [
        "\n",
        "#Analise Exploratoria\n",
        "#Importando as bibliotecas\n",
        "import pandas as pd\n",
        "import matplotlib.pyplot as plt\n",
        "\n",
        "#Gerando grafico de pizza para o total de produtos vendidos por produto\n",
        "arquivo.groupby([arquivo[\"classificação\"]])[\"CONTADOR\"].sum().sort_values(ascending=True).plot.barh(title=\"qtde\")\n"
      ],
      "execution_count": 173,
      "outputs": [
        {
          "output_type": "execute_result",
          "data": {
            "text/plain": [
              "<matplotlib.axes._subplots.AxesSubplot at 0x7f7ec7de1890>"
            ]
          },
          "metadata": {},
          "execution_count": 173
        },
        {
          "output_type": "display_data",
          "data": {
            "image/png": "[encoded data removed]",
            "text/plain": [
              "<Figure size 432x288 with 1 Axes>"
            ]
          },
          "metadata": {
            "needs_background": "light"
          }
        }
      ]
    }
  ]
}