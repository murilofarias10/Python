{
  "nbformat": 4,
  "nbformat_minor": 0,
  "metadata": {
    "colab": {
      "name": "Exercicio_FGV_AnaliseExploratoria.ipynb",
      "provenance": [],
      "collapsed_sections": [],
      "authorship_tag": "ABX9TyPrFpDIamD8mDD5KMkmBjxP",
      "include_colab_link": true
    },
    "kernelspec": {
      "name": "python3",
      "display_name": "Python 3"
    },
    "language_info": {
      "name": "python"
    }
  },
  "cells": [
    {
      "cell_type": "markdown",
      "metadata": {
        "id": "view-in-github",
        "colab_type": "text"
      },
      "source": [
        "<a href=\"https://colab.research.google.com/github/murilofarias10/AnaliseComPython/blob/main/Exercicio_FGV_AnaliseExploratoria.ipynb\" target=\"_parent\"><img src=\"https://colab.research.google.com/assets/colab-badge.svg\" alt=\"Open In Colab\"/></a>"
      ]
    },
    {
      "cell_type": "code",
      "metadata": {
        "id": "7YfPuA_cXB2d"
      },
      "source": [
        "import pandas as pd\n",
        "arquivo = pd.read_csv('/content/dados_fenotipo.csv')\n",
        "\n",
        "#arquivo.head()\n",
        "print(arquivo)"
      ],
      "execution_count": null,
      "outputs": []
    },
    {
      "cell_type": "code",
      "metadata": {
        "colab": {
          "base_uri": "https://localhost:8080/"
        },
        "id": "rUw6Y9HviqQE",
        "outputId": "99c09dcc-efb0-486e-ff60-4f8a6a4ed002"
      },
      "source": [
        "ronnan = pd.read_csv('/content/Pasta1.csv')\n",
        "\n",
        "analise = ronnan[\"quantidade\"].describe()\n",
        "print(analise)\n",
        "print(ronnan)"
      ],
      "execution_count": null,
      "outputs": [
        {
          "output_type": "stream",
          "name": "stdout",
          "text": [
            "count     6.000000\n",
            "mean      8.666667\n",
            "std       3.502380\n",
            "min       3.000000\n",
            "25%       7.250000\n",
            "50%       9.000000\n",
            "75%      10.750000\n",
            "max      13.000000\n",
            "Name: quantidade, dtype: float64\n",
            "   quantidade\n",
            "0           3\n",
            "1           7\n",
            "2           8\n",
            "3          10\n",
            "4          11\n",
            "5          13\n"
          ]
        }
      ]
    },
    {
      "cell_type": "code",
      "metadata": {
        "colab": {
          "base_uri": "https://localhost:8080/"
        },
        "id": "TKnin5tggqs6",
        "outputId": "15f9cc1c-dc8d-4d48-bc47-bd8f31dd4258"
      },
      "source": [
        "#Analise estatisticas do peso\n",
        "analise_do_peso = arquivo[\"Peso\"].describe()\n",
        "print('Analise do peso: \\n', analise_do_peso)\n",
        "\n",
        "print('\\n')\n",
        "\n",
        "#Analise estatisticas da altura\n",
        "analise_do_peso = arquivo[\"Altura\"].describe()\n",
        "print('Analise da altura: \\n', analise_do_peso)"
      ],
      "execution_count": null,
      "outputs": [
        {
          "output_type": "stream",
          "name": "stdout",
          "text": [
            "Analise do peso: \n",
            " count     50.000000\n",
            "mean      83.736720\n",
            "std       31.900531\n",
            "min        6.546000\n",
            "25%       62.547500\n",
            "50%       81.790000\n",
            "75%      103.567500\n",
            "max      163.910000\n",
            "Name: Peso, dtype: float64\n",
            "\n",
            "\n",
            "Analise da altura: \n",
            " count    50.000000\n",
            "mean      1.653600\n",
            "std       0.271036\n",
            "min       1.010000\n",
            "25%       1.562500\n",
            "50%       1.700000\n",
            "75%       1.797500\n",
            "max       2.180000\n",
            "Name: Altura, dtype: float64\n"
          ]
        }
      ]
    },
    {
      "cell_type": "code",
      "metadata": {
        "colab": {
          "base_uri": "https://localhost:8080/",
          "height": 265
        },
        "id": "7e-4SUVJh6_-",
        "outputId": "1a06af39-2835-4bbe-9b47-7bf37ab2a752"
      },
      "source": [
        "import matplotlib.pyplot as plt\n",
        "plt.boxplot(arquivo[\"Altura\"]);\n",
        "#Analise da altura: \n",
        "#count    50.000000 contagem\n",
        "#mean      1.653600 media\n",
        "#std       0.271036 desvio padrao\n",
        "#min       1.010000 minimo\n",
        "#25%       1.562500 primeiro quartil\n",
        "#50%       1.700000 mediana\n",
        "#75%       1.797500 segundo quartil\n",
        "#max       2.180000 maximo"
      ],
      "execution_count": null,
      "outputs": [
        {
          "output_type": "display_data",
          "data": {
            "image/png": "[encoded data removed]",
            "text/plain": [
              "<Figure size 432x288 with 1 Axes>"
            ]
          },
          "metadata": {
            "needs_background": "light"
          }
        }
      ]
    },
    {
      "cell_type": "code",
      "metadata": {
        "colab": {
          "base_uri": "https://localhost:8080/",
          "height": 265
        },
        "id": "ILWfIdSmkbD4",
        "outputId": "459142ba-0455-4df5-e988-97f1ea6ea3a1"
      },
      "source": [
        "import matplotlib.pyplot as plt\n",
        "plt.boxplot(arquivo[\"Peso\"]);\n",
        "#Analise do peso: \n",
        "#count     50.000000 contagem\n",
        "#mean      83.736720 media\n",
        "#std       31.900531 desvio padrao\n",
        "#min        6.546000 minimo\n",
        "#25%       62.547500 primeiro quartil\n",
        "#50%       81.790000 mediana\n",
        "#75%      103.567500 segundo quartil\n",
        "#max      163.910000 maximo"
      ],
      "execution_count": null,
      "outputs": [
        {
          "output_type": "display_data",
          "data": {
            "image/png": "[encoded data removed]",
            "text/plain": [
              "<Figure size 432x288 with 1 Axes>"
            ]
          },
          "metadata": {
            "needs_background": "light"
          }
        }
      ]
    },
    {
      "cell_type": "code",
      "metadata": {
        "id": "9JjS8M0Uvf71"
      },
      "source": [
        "#Agrupando por cor do olho\n",
        "display(arquivo['Cor Olho'].value_counts())"
      ],
      "execution_count": null,
      "outputs": []
    },
    {
      "cell_type": "code",
      "metadata": {
        "colab": {
          "base_uri": "https://localhost:8080/",
          "height": 85
        },
        "id": "CR697j62vhq7",
        "outputId": "abb689ed-56c6-4793-8dbb-c80a71d0e57c"
      },
      "source": [
        "#Agrupando por cor do cabelo\n",
        "display(arquivo['Cor Cabelo'].value_counts())"
      ],
      "execution_count": null,
      "outputs": [
        {
          "output_type": "display_data",
          "data": {
            "text/plain": [
              "preto       20\n",
              "loiro       18\n",
              "castanho    12\n",
              "Name: Cor Cabelo, dtype: int64"
            ]
          },
          "metadata": {}
        }
      ]
    },
    {
      "cell_type": "code",
      "metadata": {
        "colab": {
          "base_uri": "https://localhost:8080/"
        },
        "id": "rgybb2F_nxqw",
        "outputId": "49afc08f-ec80-4182-988c-bb209aa0a607"
      },
      "source": [
        "#ALTERANDO NOME DAS COLUNAS COR OLHO \n",
        "arquivo_2 = arquivo.rename(columns={'Cor Olho': 'CorOlho'})\n",
        "\n",
        "#ALTERANDO NOME DA COLUNA COR CABELO\n",
        "arquivo_3 = arquivo_2.rename(columns={'Cor Cabelo': 'CorCabelo'})\n",
        "\n",
        "#INSERINDO COLUNA CONTADOR que recebe valor 1\n",
        "arquivo_4 = arquivo_3.assign(Cont=1)\n",
        "\n",
        "#AGRUPANDO POR COR CABELO X COR OLHO E SOMANDO\n",
        "cabelo_x_olho = arquivo_4.groupby(by=['CorCabelo','CorOlho']).sum()\n",
        "\n",
        "#IMPRIMENTO A RESPOSTA TRAZENDO APENAS A SOMA DA COLUNA CONT CRIADA ANTERIORMENTE\n",
        "print(cabelo_x_olho['Cont'])\n",
        "\n",
        "print('\\n')\n",
        "\n",
        "print('Somatorioa Total: ', cabelo_x_olho['Cont'].sum())\n"
      ],
      "execution_count": null,
      "outputs": [
        {
          "output_type": "stream",
          "name": "stdout",
          "text": [
            "CorCabelo  CorOlho \n",
            "castanho   azul        5\n",
            "           castanho    6\n",
            "           verde       1\n",
            "loiro      azul        7\n",
            "           castanho    4\n",
            "           verde       7\n",
            "preto      azul        8\n",
            "           castanho    9\n",
            "           verde       3\n",
            "Name: Cont, dtype: int64\n",
            "\n",
            "\n",
            "Somatorioa Total:  50\n"
          ]
        }
      ]
    },
    {
      "cell_type": "code",
      "metadata": {
        "colab": {
          "base_uri": "https://localhost:8080/",
          "height": 542
        },
        "id": "z90ocXeuyUZB",
        "outputId": "b61e26d0-802e-4b57-a00a-f2578ab2c2fb"
      },
      "source": [
        "import numpy as np\n",
        "import matplotlib.pyplot as plt\n",
        "import plotly.express as px\n",
        "fig  = px.scatter(arquivo_4, x = 'CorOlho', y = 'CorCabelo')\n",
        "fig.show()"
      ],
      "execution_count": null,
      "outputs": [
        {
          "output_type": "display_data",
          "data": {
            "text/html": [
              "<html>\n",
              "<head><meta charset=\"utf-8\" /></head>\n",
              "<body>\n",
              "    <div>\n",
              "            <script src=\"https://cdnjs.cloudflare.com/ajax/libs/mathjax/2.7.5/MathJax.js?config=TeX-AMS-MML_SVG\"></script><script type=\"text/javascript\">if (window.MathJax) {MathJax.Hub.Config({SVG: {font: \"STIX-Web\"}});}</script>\n",
              "                <script type=\"text/javascript\">window.PlotlyConfig = {MathJaxConfig: 'local'};</script>\n",
              "        <script src=\"https://cdn.plot.ly/plotly-latest.min.js\"></script>    \n",
              "            <div id=\"b68546f6-c1d9-402e-a641-8daabe7a9470\" class=\"plotly-graph-div\" style=\"height:525px; width:100%;\"></div>\n",
              "            <script type=\"text/javascript\">\n",
              "                \n",
              "                    window.PLOTLYENV=window.PLOTLYENV || {};\n",
              "                    \n",
              "                if (document.getElementById(\"b68546f6-c1d9-402e-a641-8daabe7a9470\")) {\n",
              "                    Plotly.newPlot(\n",
              "                        'b68546f6-c1d9-402e-a641-8daabe7a9470',\n",
              "                        [{\"hoverlabel\": {\"namelength\": 0}, \"hovertemplate\": \"CorOlho=%{x}<br>CorCabelo=%{y}\", \"legendgroup\": \"\", \"marker\": {\"color\": \"#636efa\", \"symbol\": \"circle\"}, \"mode\": \"markers\", \"name\": \"\", \"showlegend\": false, \"type\": \"scatter\", \"x\": [\"azul\", \"azul\", \"castanho\", \"castanho\", \"azul\", \"castanho\", \"verde\", \"azul\", \"castanho\", \"castanho\", \"castanho\", \"verde\", \"azul\", \"verde\", \"azul\", \"azul\", \"verde\", \"verde\", \"castanho\", \"castanho\", \"verde\", \"azul\", \"azul\", \"azul\", \"castanho\", \"azul\", \"azul\", \"azul\", \"azul\", \"verde\", \"azul\", \"verde\", \"castanho\", \"verde\", \"verde\", \"castanho\", \"castanho\", \"azul\", \"castanho\", \"azul\", \"castanho\", \"castanho\", \"verde\", \"castanho\", \"castanho\", \"azul\", \"castanho\", \"castanho\", \"azul\", \"azul\"], \"xaxis\": \"x\", \"y\": [\"loiro\", \"loiro\", \"preto\", \"preto\", \"preto\", \"castanho\", \"preto\", \"preto\", \"preto\", \"preto\", \"loiro\", \"loiro\", \"castanho\", \"loiro\", \"castanho\", \"preto\", \"preto\", \"loiro\", \"castanho\", \"preto\", \"loiro\", \"preto\", \"preto\", \"loiro\", \"preto\", \"preto\", \"preto\", \"loiro\", \"castanho\", \"loiro\", \"castanho\", \"castanho\", \"castanho\", \"loiro\", \"preto\", \"preto\", \"loiro\", \"loiro\", \"preto\", \"loiro\", \"castanho\", \"castanho\", \"loiro\", \"preto\", \"loiro\", \"loiro\", \"loiro\", \"castanho\", \"preto\", \"castanho\"], \"yaxis\": \"y\"}],\n",
              "                        {\"legend\": {\"tracegroupgap\": 0}, \"margin\": {\"t\": 60}, \"template\": {\"data\": {\"bar\": [{\"error_x\": {\"color\": \"#2a3f5f\"}, \"error_y\": {\"color\": \"#2a3f5f\"}, \"marker\": {\"line\": {\"color\": \"#E5ECF6\", \"width\": 0.5}}, \"type\": \"bar\"}], \"barpolar\": [{\"marker\": {\"line\": {\"color\": \"#E5ECF6\", \"width\": 0.5}}, \"type\": \"barpolar\"}], \"carpet\": [{\"aaxis\": {\"endlinecolor\": \"#2a3f5f\", \"gridcolor\": \"white\", \"linecolor\": \"white\", \"minorgridcolor\": \"white\", \"startlinecolor\": \"#2a3f5f\"}, \"baxis\": {\"endlinecolor\": \"#2a3f5f\", \"gridcolor\": \"white\", \"linecolor\": \"white\", \"minorgridcolor\": \"white\", \"startlinecolor\": \"#2a3f5f\"}, \"type\": \"carpet\"}], \"choropleth\": [{\"colorbar\": {\"outlinewidth\": 0, \"ticks\": \"\"}, \"type\": \"choropleth\"}], \"contour\": [{\"colorbar\": {\"outlinewidth\": 0, \"ticks\": \"\"}, \"colorscale\": [[0.0, \"#0d0887\"], [0.1111111111111111, \"#46039f\"], [0.2222222222222222, \"#7201a8\"], [0.3333333333333333, \"#9c179e\"], [0.4444444444444444, \"#bd3786\"], [0.5555555555555556, \"#d8576b\"], [0.6666666666666666, \"#ed7953\"], [0.7777777777777778, \"#fb9f3a\"], [0.8888888888888888, \"#fdca26\"], [1.0, \"#f0f921\"]], \"type\": \"contour\"}], \"contourcarpet\": [{\"colorbar\": {\"outlinewidth\": 0, \"ticks\": \"\"}, \"type\": \"contourcarpet\"}], \"heatmap\": [{\"colorbar\": {\"outlinewidth\": 0, \"ticks\": \"\"}, \"colorscale\": [[0.0, \"#0d0887\"], [0.1111111111111111, \"#46039f\"], [0.2222222222222222, \"#7201a8\"], [0.3333333333333333, \"#9c179e\"], [0.4444444444444444, \"#bd3786\"], [0.5555555555555556, \"#d8576b\"], [0.6666666666666666, \"#ed7953\"], [0.7777777777777778, \"#fb9f3a\"], [0.8888888888888888, \"#fdca26\"], [1.0, \"#f0f921\"]], \"type\": \"heatmap\"}], \"heatmapgl\": [{\"colorbar\": {\"outlinewidth\": 0, \"ticks\": \"\"}, \"colorscale\": [[0.0, \"#0d0887\"], [0.1111111111111111, \"#46039f\"], [0.2222222222222222, \"#7201a8\"], [0.3333333333333333, \"#9c179e\"], [0.4444444444444444, \"#bd3786\"], [0.5555555555555556, \"#d8576b\"], [0.6666666666666666, \"#ed7953\"], [0.7777777777777778, \"#fb9f3a\"], [0.8888888888888888, \"#fdca26\"], [1.0, \"#f0f921\"]], \"type\": \"heatmapgl\"}], \"histogram\": [{\"marker\": {\"colorbar\": {\"outlinewidth\": 0, \"ticks\": \"\"}}, \"type\": \"histogram\"}], \"histogram2d\": [{\"colorbar\": {\"outlinewidth\": 0, \"ticks\": \"\"}, \"colorscale\": [[0.0, \"#0d0887\"], [0.1111111111111111, \"#46039f\"], [0.2222222222222222, \"#7201a8\"], [0.3333333333333333, \"#9c179e\"], [0.4444444444444444, \"#bd3786\"], [0.5555555555555556, \"#d8576b\"], [0.6666666666666666, \"#ed7953\"], [0.7777777777777778, \"#fb9f3a\"], [0.8888888888888888, \"#fdca26\"], [1.0, \"#f0f921\"]], \"type\": \"histogram2d\"}], \"histogram2dcontour\": [{\"colorbar\": {\"outlinewidth\": 0, \"ticks\": \"\"}, \"colorscale\": [[0.0, \"#0d0887\"], [0.1111111111111111, \"#46039f\"], [0.2222222222222222, \"#7201a8\"], [0.3333333333333333, \"#9c179e\"], [0.4444444444444444, \"#bd3786\"], [0.5555555555555556, \"#d8576b\"], [0.6666666666666666, \"#ed7953\"], [0.7777777777777778, \"#fb9f3a\"], [0.8888888888888888, \"#fdca26\"], [1.0, \"#f0f921\"]], \"type\": \"histogram2dcontour\"}], \"mesh3d\": [{\"colorbar\": {\"outlinewidth\": 0, \"ticks\": \"\"}, \"type\": \"mesh3d\"}], \"parcoords\": [{\"line\": {\"colorbar\": {\"outlinewidth\": 0, \"ticks\": \"\"}}, \"type\": \"parcoords\"}], \"pie\": [{\"automargin\": true, \"type\": \"pie\"}], \"scatter\": [{\"marker\": {\"colorbar\": {\"outlinewidth\": 0, \"ticks\": \"\"}}, \"type\": \"scatter\"}], \"scatter3d\": [{\"line\": {\"colorbar\": {\"outlinewidth\": 0, \"ticks\": \"\"}}, \"marker\": {\"colorbar\": {\"outlinewidth\": 0, \"ticks\": \"\"}}, \"type\": \"scatter3d\"}], \"scattercarpet\": [{\"marker\": {\"colorbar\": {\"outlinewidth\": 0, \"ticks\": \"\"}}, \"type\": \"scattercarpet\"}], \"scattergeo\": [{\"marker\": {\"colorbar\": {\"outlinewidth\": 0, \"ticks\": \"\"}}, \"type\": \"scattergeo\"}], \"scattergl\": [{\"marker\": {\"colorbar\": {\"outlinewidth\": 0, \"ticks\": \"\"}}, \"type\": \"scattergl\"}], \"scattermapbox\": [{\"marker\": {\"colorbar\": {\"outlinewidth\": 0, \"ticks\": \"\"}}, \"type\": \"scattermapbox\"}], \"scatterpolar\": [{\"marker\": {\"colorbar\": {\"outlinewidth\": 0, \"ticks\": \"\"}}, \"type\": \"scatterpolar\"}], \"scatterpolargl\": [{\"marker\": {\"colorbar\": {\"outlinewidth\": 0, \"ticks\": \"\"}}, \"type\": \"scatterpolargl\"}], \"scatterternary\": [{\"marker\": {\"colorbar\": {\"outlinewidth\": 0, \"ticks\": \"\"}}, \"type\": \"scatterternary\"}], \"surface\": [{\"colorbar\": {\"outlinewidth\": 0, \"ticks\": \"\"}, \"colorscale\": [[0.0, \"#0d0887\"], [0.1111111111111111, \"#46039f\"], [0.2222222222222222, \"#7201a8\"], [0.3333333333333333, \"#9c179e\"], [0.4444444444444444, \"#bd3786\"], [0.5555555555555556, \"#d8576b\"], [0.6666666666666666, \"#ed7953\"], [0.7777777777777778, \"#fb9f3a\"], [0.8888888888888888, \"#fdca26\"], [1.0, \"#f0f921\"]], \"type\": \"surface\"}], \"table\": [{\"cells\": {\"fill\": {\"color\": \"#EBF0F8\"}, \"line\": {\"color\": \"white\"}}, \"header\": {\"fill\": {\"color\": \"#C8D4E3\"}, \"line\": {\"color\": \"white\"}}, \"type\": \"table\"}]}, \"layout\": {\"annotationdefaults\": {\"arrowcolor\": \"#2a3f5f\", \"arrowhead\": 0, \"arrowwidth\": 1}, \"coloraxis\": {\"colorbar\": {\"outlinewidth\": 0, \"ticks\": \"\"}}, \"colorscale\": {\"diverging\": [[0, \"#8e0152\"], [0.1, \"#c51b7d\"], [0.2, \"#de77ae\"], [0.3, \"#f1b6da\"], [0.4, \"#fde0ef\"], [0.5, \"#f7f7f7\"], [0.6, \"#e6f5d0\"], [0.7, \"#b8e186\"], [0.8, \"#7fbc41\"], [0.9, \"#4d9221\"], [1, \"#276419\"]], \"sequential\": [[0.0, \"#0d0887\"], [0.1111111111111111, \"#46039f\"], [0.2222222222222222, \"#7201a8\"], [0.3333333333333333, \"#9c179e\"], [0.4444444444444444, \"#bd3786\"], [0.5555555555555556, \"#d8576b\"], [0.6666666666666666, \"#ed7953\"], [0.7777777777777778, \"#fb9f3a\"], [0.8888888888888888, \"#fdca26\"], [1.0, \"#f0f921\"]], \"sequentialminus\": [[0.0, \"#0d0887\"], [0.1111111111111111, \"#46039f\"], [0.2222222222222222, \"#7201a8\"], [0.3333333333333333, \"#9c179e\"], [0.4444444444444444, \"#bd3786\"], [0.5555555555555556, \"#d8576b\"], [0.6666666666666666, \"#ed7953\"], [0.7777777777777778, \"#fb9f3a\"], [0.8888888888888888, \"#fdca26\"], [1.0, \"#f0f921\"]]}, \"colorway\": [\"#636efa\", \"#EF553B\", \"#00cc96\", \"#ab63fa\", \"#FFA15A\", \"#19d3f3\", \"#FF6692\", \"#B6E880\", \"#FF97FF\", \"#FECB52\"], \"font\": {\"color\": \"#2a3f5f\"}, \"geo\": {\"bgcolor\": \"white\", \"lakecolor\": \"white\", \"landcolor\": \"#E5ECF6\", \"showlakes\": true, \"showland\": true, \"subunitcolor\": \"white\"}, \"hoverlabel\": {\"align\": \"left\"}, \"hovermode\": \"closest\", \"mapbox\": {\"style\": \"light\"}, \"paper_bgcolor\": \"white\", \"plot_bgcolor\": \"#E5ECF6\", \"polar\": {\"angularaxis\": {\"gridcolor\": \"white\", \"linecolor\": \"white\", \"ticks\": \"\"}, \"bgcolor\": \"#E5ECF6\", \"radialaxis\": {\"gridcolor\": \"white\", \"linecolor\": \"white\", \"ticks\": \"\"}}, \"scene\": {\"xaxis\": {\"backgroundcolor\": \"#E5ECF6\", \"gridcolor\": \"white\", \"gridwidth\": 2, \"linecolor\": \"white\", \"showbackground\": true, \"ticks\": \"\", \"zerolinecolor\": \"white\"}, \"yaxis\": {\"backgroundcolor\": \"#E5ECF6\", \"gridcolor\": \"white\", \"gridwidth\": 2, \"linecolor\": \"white\", \"showbackground\": true, \"ticks\": \"\", \"zerolinecolor\": \"white\"}, \"zaxis\": {\"backgroundcolor\": \"#E5ECF6\", \"gridcolor\": \"white\", \"gridwidth\": 2, \"linecolor\": \"white\", \"showbackground\": true, \"ticks\": \"\", \"zerolinecolor\": \"white\"}}, \"shapedefaults\": {\"line\": {\"color\": \"#2a3f5f\"}}, \"ternary\": {\"aaxis\": {\"gridcolor\": \"white\", \"linecolor\": \"white\", \"ticks\": \"\"}, \"baxis\": {\"gridcolor\": \"white\", \"linecolor\": \"white\", \"ticks\": \"\"}, \"bgcolor\": \"#E5ECF6\", \"caxis\": {\"gridcolor\": \"white\", \"linecolor\": \"white\", \"ticks\": \"\"}}, \"title\": {\"x\": 0.05}, \"xaxis\": {\"automargin\": true, \"gridcolor\": \"white\", \"linecolor\": \"white\", \"ticks\": \"\", \"title\": {\"standoff\": 15}, \"zerolinecolor\": \"white\", \"zerolinewidth\": 2}, \"yaxis\": {\"automargin\": true, \"gridcolor\": \"white\", \"linecolor\": \"white\", \"ticks\": \"\", \"title\": {\"standoff\": 15}, \"zerolinecolor\": \"white\", \"zerolinewidth\": 2}}}, \"xaxis\": {\"anchor\": \"y\", \"domain\": [0.0, 1.0], \"title\": {\"text\": \"CorOlho\"}}, \"yaxis\": {\"anchor\": \"x\", \"domain\": [0.0, 1.0], \"title\": {\"text\": \"CorCabelo\"}}},\n",
              "                        {\"responsive\": true}\n",
              "                    ).then(function(){\n",
              "                            \n",
              "var gd = document.getElementById('b68546f6-c1d9-402e-a641-8daabe7a9470');\n",
              "var x = new MutationObserver(function (mutations, observer) {{\n",
              "        var display = window.getComputedStyle(gd).display;\n",
              "        if (!display || display === 'none') {{\n",
              "            console.log([gd, 'removed!']);\n",
              "            Plotly.purge(gd);\n",
              "            observer.disconnect();\n",
              "        }}\n",
              "}});\n",
              "\n",
              "// Listen for the removal of the full notebook cells\n",
              "var notebookContainer = gd.closest('#notebook-container');\n",
              "if (notebookContainer) {{\n",
              "    x.observe(notebookContainer, {childList: true});\n",
              "}}\n",
              "\n",
              "// Listen for the clearing of the current output cell\n",
              "var outputEl = gd.closest('.output');\n",
              "if (outputEl) {{\n",
              "    x.observe(outputEl, {childList: true});\n",
              "}}\n",
              "\n",
              "                        })\n",
              "                };\n",
              "                \n",
              "            </script>\n",
              "        </div>\n",
              "</body>\n",
              "</html>"
            ]
          },
          "metadata": {}
        }
      ]
    },
    {
      "cell_type": "code",
      "metadata": {
        "colab": {
          "base_uri": "https://localhost:8080/",
          "height": 868
        },
        "id": "lzlTHydI0YPs",
        "outputId": "0297db78-94c9-4b7a-de87-a73b655e3a1f"
      },
      "source": [
        "import seaborn as sns\n",
        "sns.pairplot(arquivo_4,  height=4)\n",
        "plt.show()"
      ],
      "execution_count": null,
      "outputs": [
        {
          "output_type": "display_data",
          "data": {
            "image/png": "[encoded data removed]",
            "text/plain": [
              "<Figure size 864x864 with 12 Axes>"
            ]
          },
          "metadata": {
            "needs_background": "light"
          }
        }
      ]
    },
    {
      "cell_type": "code",
      "metadata": {
        "colab": {
          "base_uri": "https://localhost:8080/",
          "height": 269
        },
        "id": "xIqbq_AR0quL",
        "outputId": "53d2e9b5-f467-4b47-fc78-2bbb443075f2"
      },
      "source": [
        "sns.heatmap(arquivo_4.corr(), cmap = 'Wistia', annot=True)\n",
        "plt.show()"
      ],
      "execution_count": null,
      "outputs": [
        {
          "output_type": "display_data",
          "data": {
            "image/png": "[encoded data removed]",
            "text/plain": [
              "<Figure size 432x288 with 2 Axes>"
            ]
          },
          "metadata": {
            "needs_background": "light"
          }
        }
      ]
    },
    {
      "cell_type": "code",
      "metadata": {
        "colab": {
          "base_uri": "https://localhost:8080/"
        },
        "id": "e_pYOEg4ytHY",
        "outputId": "31296b88-8484-40a3-d84f-a1eb95267736"
      },
      "source": [
        "print(arquivo_4)"
      ],
      "execution_count": null,
      "outputs": [
        {
          "output_type": "stream",
          "name": "stdout",
          "text": [
            "       Peso  Altura   CorOlho CorCabelo  Cont\n",
            "0     6.546    1.85      azul     loiro     1\n",
            "1    46.830    1.19      azul     loiro     1\n",
            "2   119.660    2.18  castanho     preto     1\n",
            "3    83.540    1.78  castanho     preto     1\n",
            "4   121.390    1.56      azul     preto     1\n",
            "5    48.210    1.61  castanho  castanho     1\n",
            "6    78.760    1.65     verde     preto     1\n",
            "7   104.460    1.83      azul     preto     1\n",
            "8   110.970    1.01  castanho     preto     1\n",
            "9    76.570    1.08  castanho     preto     1\n",
            "10  119.190    1.57  castanho     loiro     1\n",
            "11   62.490    1.05     verde     loiro     1\n",
            "12   62.720    1.44      azul  castanho     1\n",
            "13  100.010    1.79     verde     loiro     1\n",
            "14   96.160    1.98      azul  castanho     1\n",
            "15   88.140    1.13      azul     preto     1\n",
            "16   56.830    1.77     verde     preto     1\n",
            "17  163.910    1.19     verde     loiro     1\n",
            "18   44.490    1.82  castanho  castanho     1\n",
            "19   80.390    1.77  castanho     preto     1\n",
            "20  100.290    1.29     verde     loiro     1\n",
            "21   75.240    2.02      azul     preto     1\n",
            "22   81.330    1.80      azul     preto     1\n",
            "23  143.590    1.79      azul     loiro     1\n",
            "24   85.840    1.75  castanho     preto     1\n",
            "25   60.490    1.96      azul     preto     1\n",
            "26   26.810    1.45      azul     preto     1\n",
            "27   82.250    1.62      azul     loiro     1\n",
            "28   72.920    1.79      azul  castanho     1\n",
            "29  103.920    1.66     verde     loiro     1\n",
            "30   74.720    1.79      azul  castanho     1\n",
            "31  116.550    1.69     verde  castanho     1\n",
            "32   81.160    1.32  castanho  castanho     1\n",
            "33  103.920    1.83     verde     loiro     1\n",
            "34   92.490    2.01     verde     preto     1\n",
            "35   50.040    1.55  castanho     preto     1\n",
            "36   64.890    1.75  castanho     loiro     1\n",
            "37  114.360    1.62      azul     loiro     1\n",
            "38  129.080    1.64  castanho     preto     1\n",
            "39  142.970    1.69      azul     loiro     1\n",
            "40   97.320    1.60  castanho  castanho     1\n",
            "41  102.510    2.00  castanho  castanho     1\n",
            "42   80.960    1.74     verde     loiro     1\n",
            "43   58.750    1.74  castanho     preto     1\n",
            "44   78.450    1.67  castanho     loiro     1\n",
            "45   28.920    1.48      azul     loiro     1\n",
            "46   99.330    1.80  castanho     loiro     1\n",
            "47   40.170    2.10  castanho  castanho     1\n",
            "48   85.010    1.57      azul     preto     1\n",
            "49   41.290    1.71      azul  castanho     1\n"
          ]
        }
      ]
    }
  ]
}