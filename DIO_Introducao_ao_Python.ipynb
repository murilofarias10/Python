{
  "nbformat": 4,
  "nbformat_minor": 0,
  "metadata": {
    "colab": {
      "name": "DIO Introducao ao Python.ipynb",
      "provenance": [],
      "collapsed_sections": [],
      "authorship_tag": "ABX9TyME5OfDEAsU673TRAEwDa6c",
      "include_colab_link": true
    },
    "kernelspec": {
      "name": "python3",
      "display_name": "Python 3"
    },
    "language_info": {
      "name": "python"
    }
  },
  "cells": [
    {
      "cell_type": "markdown",
      "metadata": {
        "id": "view-in-github",
        "colab_type": "text"
      },
      "source": [
        "<a href=\"https://colab.research.google.com/github/murilofarias10/AnaliseComPython/blob/main/DIO_Introducao_ao_Python.ipynb\" target=\"_parent\"><img src=\"https://colab.research.google.com/assets/colab-badge.svg\" alt=\"Open In Colab\"/></a>"
      ]
    },
    {
      "cell_type": "code",
      "metadata": {
        "colab": {
          "base_uri": "https://localhost:8080/"
        },
        "id": "Hngkh63v5Ytx",
        "outputId": "c535f2bc-7879-413b-fbbc-ee98b3a9971a"
      },
      "source": [
        "nome = 'murilo'\n",
        "salario = 1500.00\n",
        "print(nome)\n",
        "print(salario)\n",
        "print('salario é:', salario, nome)"
      ],
      "execution_count": null,
      "outputs": [
        {
          "output_type": "stream",
          "text": [
            "murilo\n",
            "1500.0\n",
            "salario é: 1500.0 murilo\n"
          ],
          "name": "stdout"
        }
      ]
    },
    {
      "cell_type": "markdown",
      "metadata": {
        "id": "9BRVjuUEUKeD"
      },
      "source": [
        "**Aula: IF, ELSE, ELIF**"
      ]
    },
    {
      "cell_type": "code",
      "metadata": {
        "id": "FdS8wjxz4dVI",
        "colab": {
          "base_uri": "https://localhost:8080/"
        },
        "outputId": "8c2e470e-dc8c-41c9-c95c-2b42929f3f29"
      },
      "source": [
        "\n",
        "#Condição IF\n",
        "a = int(input('Primeiro valor: '))\n",
        "b = int(input('Segundo valor: '))\n",
        "c = int(input('Terceiro valor: '))\n",
        "\n",
        "#usando identação\n",
        "if a > b and a > c:\n",
        "    print('o maior numero é {}'.format(a))\n",
        "\n",
        "#else com if elif\n",
        "elif b > a and b > c:\n",
        "  print('o maior número é {}'.format(b)) \n",
        "\n",
        "else:\n",
        "  print('o maior número é {}'.format(c))\n",
        "\n",
        "#usando identação  para encerrar o programa\n",
        "print('final do programa')"
      ],
      "execution_count": null,
      "outputs": [
        {
          "output_type": "stream",
          "text": [
            "Primeiro valor: 5\n",
            "Segundo valor: 8\n",
            "Terceiro valor: 15\n",
            "o maior número é 15\n",
            "final do programa\n"
          ],
          "name": "stdout"
        }
      ]
    },
    {
      "cell_type": "code",
      "metadata": {
        "id": "4_0WQCgk6WsB",
        "colab": {
          "base_uri": "https://localhost:8080/"
        },
        "outputId": "1b5d5bc3-8364-47ce-e1bb-e10ae8d32863"
      },
      "source": [
        "#verificando se o numero é par\n",
        "#Ao utilizar % estamos indicando que queremos o RESTO da divisão\n",
        "a = int(input('Entre com um valor: '))\n",
        "resto = a % 2\n",
        "\n",
        "if resto == 0:\n",
        "  print('numero é par')\n",
        "\n",
        "else:\n",
        "  print ('numero é impar')"
      ],
      "execution_count": null,
      "outputs": [
        {
          "output_type": "stream",
          "text": [
            "Entre com um valor: 12\n",
            "numero é par\n"
          ],
          "name": "stdout"
        }
      ]
    },
    {
      "cell_type": "code",
      "metadata": {
        "id": "betVC6MI9e6y",
        "colab": {
          "base_uri": "https://localhost:8080/"
        },
        "outputId": "1e7d6a0c-12a9-474c-f1ed-f6cdf3856edc"
      },
      "source": [
        "#verificar se existe um numero par entre dois numero digitados\n",
        "\n",
        "a = int(input('Entre com primeiro valor'))\n",
        "b = int(input('Entre com primeiro valor'))\n",
        "\n",
        "resto_a = a % 2\n",
        "resto_b = b % 2\n",
        "\n",
        "#outra maneira: if resto_a == 0 or not resto_b > 0:\n",
        "if resto_a ==0 or resto_b ==0:\n",
        "  print('sim um numero é par')\n",
        "\n",
        "else:\n",
        "    print('nao tem numero par'\n",
        "    )"
      ],
      "execution_count": null,
      "outputs": [
        {
          "output_type": "stream",
          "text": [
            "Entre com primeiro valor10\n",
            "Entre com primeiro valor10\n",
            "sim um numero é par\n"
          ],
          "name": "stdout"
        }
      ]
    },
    {
      "cell_type": "code",
      "metadata": {
        "id": "cdD6_Ipl-Rzg",
        "colab": {
          "base_uri": "https://localhost:8080/"
        },
        "outputId": "7a1fcdaf-4eed-4a71-f1a2-bf04495b1c2c"
      },
      "source": [
        "#solicitar as notas bimestrais e tirar media\n",
        "#tambem validar as notas\n",
        "\n",
        "a = int(input('Primeiro Bimestre: '))\n",
        "while a > 10:\n",
        "    a = int(input('Voce digitou errado, digite novamente primeiro bimestre'))\n",
        "b = int(input('Segundo Bimestre: '))\n",
        "while b > 10:\n",
        "    b = int(input('Voce digitou errado, digite novamente Segundo bimestre'))\n",
        "c = int(input('Terceiro Bimestre: '))\n",
        "while c > 10:\n",
        "    c = int(input('Voce digitou errado, digite novamente Terceiro bimestre'))\n",
        "d = int(input('Quarto Bimestre: '))\n",
        "while d > 10:\n",
        "    d = int(input('Voce digitou errado, digite novamente Quarto bimestre'))\n",
        "\n",
        "media = (a + b + c + d)/4\n",
        "\n",
        "if a <= 10 and b <= 10 and c <= 10 and d <= 10:\n",
        "  print('media: {}'.format(media))\n",
        "  1\n",
        "else:\n",
        "    print('informado nota errada')"
      ],
      "execution_count": null,
      "outputs": [
        {
          "output_type": "stream",
          "text": [
            "Primeiro Bimestre: 10\n",
            "Segundo Bimestre: 4\n",
            "Terceiro Bimestre: 5\n",
            "Quarto Bimestre: 5\n",
            "media: 6.0\n"
          ],
          "name": "stdout"
        }
      ]
    },
    {
      "cell_type": "markdown",
      "metadata": {
        "id": "403_jS2AU4Z5"
      },
      "source": [
        "**Aula: Laços de repetição: For, While, Range**"
      ]
    },
    {
      "cell_type": "code",
      "metadata": {
        "id": "-YBnxQobU_Uo"
      },
      "source": [
        "#Imprimir os 100 primeiros numero a partir do 0\n",
        "#range (inicio, até qual valor)\n",
        "for x in range(10, 100):\n",
        "  print(x)"
      ],
      "execution_count": null,
      "outputs": []
    },
    {
      "cell_type": "code",
      "metadata": {
        "id": "A29lOBKlVgKo"
      },
      "source": [
        "#Solicitar para usuario digitar numero\n",
        "#Verificar se é PRIMO (divisivel por 1 e por ele mesmo)\n",
        "a = int(input('Entre com um numero: '))\n",
        "\n",
        "div = 0\n",
        "\n",
        "for x in range(1, a+1):\n",
        "  resto = a % x\n",
        "  print(x, resto)\n",
        "  if resto ==0:\n",
        "    div = div +1 #outra maneira: div += 1 incremento do div\n",
        "\n",
        "if div ==2:\n",
        "  print('Numero {} é primo'.format(a))\n",
        "\n",
        "else:\n",
        "  print('Numero {} não é primo'.format(a))\n",
        "\n",
        "\n"
      ],
      "execution_count": null,
      "outputs": []
    },
    {
      "cell_type": "code",
      "metadata": {
        "id": "Ik2i-jTZepNp"
      },
      "source": [
        "#Solicitar para usuario digitar numero\n",
        "#Verificar se é PRIMO (divisivel por 1 e por ele mesmo)\n",
        "#Verificar quais são os primos entre os valores que o usuario digitar\n",
        "a = int(input('Entre com um valor'))\n",
        "for num in range(1, a):\n",
        "  div = 0\n",
        "  for x in range(1, num+1):\n",
        "    resto = num % x\n",
        "    if resto == 0:\n",
        "      div = div +1 #outra maneira: div += 1 incremento do div\n",
        "  if div ==2:\n",
        "    print(num)\n"
      ],
      "execution_count": null,
      "outputs": []
    },
    {
      "cell_type": "code",
      "metadata": {
        "id": "lou3pJF3hd3D",
        "colab": {
          "base_uri": "https://localhost:8080/"
        },
        "outputId": "824fff5b-7867-43b0-b613-d38a8358905e"
      },
      "source": [
        "#utilizando while\n",
        "nota = int(input('Entre com a nota: '))\n",
        "while nota > 10:\n",
        "  nota = int(input('Nota errada, preencha novamente'))\n",
        " \n"
      ],
      "execution_count": null,
      "outputs": [
        {
          "output_type": "stream",
          "text": [
            "Entre com a nota: 50\n",
            "Nota errada, preencha novamente10\n"
          ],
          "name": "stdout"
        }
      ]
    },
    {
      "cell_type": "markdown",
      "metadata": {
        "id": "Gvxu-Ak1FoVz"
      },
      "source": [
        "**Aula: Listas e Tuplas**"
      ]
    },
    {
      "cell_type": "code",
      "metadata": {
        "id": "F4-TPY2OFtyr",
        "colab": {
          "base_uri": "https://localhost:8080/"
        },
        "outputId": "f88448b1-afa2-40a1-e9d7-0f32eb9ee972"
      },
      "source": [
        "#Criar uma lista usa []\n",
        "lista = [1, 3 ,5 ,7]\n",
        "lista_animal = ['cachorro', 'gato', 'elefante']\n",
        "#print(lista)\n",
        "#print(type(lista))\n",
        "print(lista_animal[0])\n",
        "\n",
        "for x in lista_animal:\n",
        "  print(x)"
      ],
      "execution_count": null,
      "outputs": [
        {
          "output_type": "stream",
          "text": [
            "cachorro\n",
            "cachorro\n",
            "gato\n",
            "elefante\n"
          ],
          "name": "stdout"
        }
      ]
    },
    {
      "cell_type": "code",
      "metadata": {
        "id": "yqmvqRceLPXr",
        "colab": {
          "base_uri": "https://localhost:8080/"
        },
        "outputId": "68238c88-cd04-40d7-8d7f-92b3934aadc7"
      },
      "source": [
        "soma = 0\n",
        "for element in lista:\n",
        "  print(element)\n",
        "  soma += element\n",
        "\n",
        "\n",
        "print(soma)\n"
      ],
      "execution_count": null,
      "outputs": [
        {
          "output_type": "stream",
          "text": [
            "1\n",
            "3\n",
            "5\n",
            "7\n",
            "16\n"
          ],
          "name": "stdout"
        }
      ]
    },
    {
      "cell_type": "code",
      "metadata": {
        "id": "J8qzsjZVRMk_",
        "colab": {
          "base_uri": "https://localhost:8080/"
        },
        "outputId": "3e7997a6-bd51-4140-c0c8-5ce33f9aa8a4"
      },
      "source": [
        "#para somar elementos\n",
        "#print(sum(lista))\n",
        "\n",
        "#trazer o menor valor\n",
        "#min menor valor\n",
        "print (max(lista))\n",
        "\n",
        "#validando se ja existe um elemento na lista e inserir\n",
        "\n",
        "a = input('Digite o animal: ')\n",
        "if a in lista_animal:\n",
        "  print('existe na lista: ' + a)\n",
        "\n",
        "else:\n",
        "  print('nao existe: ' + a)\n",
        "  #incluindo novos registro na lista\n",
        "  print('incluindo elemento: ' + a)\n",
        "  lista_animal.append(a)\n",
        "  print(lista_animal)\n",
        "  print('incluindo com sucesso')\n",
        "\n"
      ],
      "execution_count": null,
      "outputs": [
        {
          "output_type": "stream",
          "text": [
            "7\n",
            "Digite o animal: 10\n",
            "nao existe: 10\n",
            "incluindo elemento: 10\n",
            "['cachorro', 'gato', 'elefante', '10']\n",
            "incluindo com sucesso\n"
          ],
          "name": "stdout"
        }
      ]
    },
    {
      "cell_type": "code",
      "metadata": {
        "colab": {
          "base_uri": "https://localhost:8080/"
        },
        "id": "fzUemgWfae-2",
        "outputId": "346a4dec-b928-431f-89d1-e4fae52da3db"
      },
      "source": [
        "#retirando sempre o ultimo da lista\n",
        "lista_animal.pop()\n",
        "print(lista_animal)"
      ],
      "execution_count": null,
      "outputs": [
        {
          "output_type": "stream",
          "text": [
            "['cachorro', 'gato', 'elefante']\n"
          ],
          "name": "stdout"
        }
      ]
    },
    {
      "cell_type": "code",
      "metadata": {
        "id": "blFMxzBra77N",
        "colab": {
          "base_uri": "https://localhost:8080/"
        },
        "outputId": "4ea87135-657b-4649-b5f0-9bc4d408983e"
      },
      "source": [
        "#remover atraves do nome\n",
        "lista_animal.remove('gato')\n",
        "print(lista_animal)\n"
      ],
      "execution_count": null,
      "outputs": [
        {
          "output_type": "stream",
          "text": [
            "['cachorro', 'elefante']\n"
          ],
          "name": "stdout"
        }
      ]
    },
    {
      "cell_type": "code",
      "metadata": {
        "colab": {
          "base_uri": "https://localhost:8080/"
        },
        "id": "obY1M_vBb3L0",
        "outputId": "5bc6d269-d1c3-4757-ab59-aeb928afd570"
      },
      "source": [
        "#ordernando uma lista\n",
        "lista_animal.sort()\n",
        "print(lista_animal)"
      ],
      "execution_count": null,
      "outputs": [
        {
          "output_type": "stream",
          "text": [
            "['cachorro', 'elefante']\n"
          ],
          "name": "stdout"
        }
      ]
    },
    {
      "cell_type": "code",
      "metadata": {
        "colab": {
          "base_uri": "https://localhost:8080/"
        },
        "id": "fZq-QSOqhrZe",
        "outputId": "5ffdd1ee-42a2-4691-b7d2-604dc85d0684"
      },
      "source": [
        "#Reverte para forma reversa\n",
        "lista_animal.reverse()\n",
        "print(lista_animal)"
      ],
      "execution_count": null,
      "outputs": [
        {
          "output_type": "stream",
          "text": [
            "['cachorro', 'elefante']\n"
          ],
          "name": "stdout"
        }
      ]
    },
    {
      "cell_type": "code",
      "metadata": {
        "id": "7qBk6V7eW71M",
        "colab": {
          "base_uri": "https://localhost:8080/"
        },
        "outputId": "331282dc-a186-4675-c583-9c11d59c71b6"
      },
      "source": [
        "#Triplicando uma lista\n",
        "nova_lista = lista_animal * 3\n",
        "print(nova_lista)"
      ],
      "execution_count": null,
      "outputs": [
        {
          "output_type": "stream",
          "text": [
            "['cachorro', 'elefante', 'cachorro', 'elefante', 'cachorro', 'elefante']\n"
          ],
          "name": "stdout"
        }
      ]
    },
    {
      "cell_type": "code",
      "metadata": {
        "id": "hTdgMhEKmUhb"
      },
      "source": [
        "#alterando item da lista\n",
        "#lista_animal[2] = 'elefante'\n",
        "#print(lista_animal)"
      ],
      "execution_count": null,
      "outputs": []
    },
    {
      "cell_type": "code",
      "metadata": {
        "id": "skmFa1otmkUi",
        "colab": {
          "base_uri": "https://localhost:8080/"
        },
        "outputId": "7c105679-3a68-4888-d127-999a685bdf51"
      },
      "source": [
        "#Criando uma Tuppla usa ()\n",
        "tupla = (1,10,12,14)\n",
        "print(tupla[1])"
      ],
      "execution_count": null,
      "outputs": [
        {
          "output_type": "stream",
          "text": [
            "10\n"
          ],
          "name": "stdout"
        }
      ]
    },
    {
      "cell_type": "code",
      "metadata": {
        "id": "XAJENOW9ynYy",
        "colab": {
          "base_uri": "https://localhost:8080/"
        },
        "outputId": "ef1cbcff-32b3-4ebf-a9e6-f4fa03afb6b1"
      },
      "source": [
        "#para saber quantos registros existem na tuppla ou lista\n",
        "print(len(tupla))\n",
        "print(tupla)"
      ],
      "execution_count": null,
      "outputs": [
        {
          "output_type": "stream",
          "text": [
            "4\n",
            "(1, 10, 12, 14)\n"
          ],
          "name": "stdout"
        }
      ]
    },
    {
      "cell_type": "code",
      "metadata": {
        "id": "LygGSlgsyvxw",
        "colab": {
          "base_uri": "https://localhost:8080/"
        },
        "outputId": "b9223ae7-4df4-4970-bc00-973e3260bfc7"
      },
      "source": [
        "#converter lista em tupla\n",
        "tupla_animal = tuple(lista_animal)\n",
        "print(type(tupla_animal))\n",
        "print(tupla_animal)"
      ],
      "execution_count": null,
      "outputs": [
        {
          "output_type": "stream",
          "text": [
            "<class 'tuple'>\n",
            "('cachorro', 'elefante')\n"
          ],
          "name": "stdout"
        }
      ]
    },
    {
      "cell_type": "code",
      "metadata": {
        "colab": {
          "base_uri": "https://localhost:8080/"
        },
        "id": "1I-qdLOty8Pi",
        "outputId": "a0061aa6-7151-4623-adf3-22b5bf1f269c"
      },
      "source": [
        "#converter tupla em lista\n",
        "lista_animal = list(tupla_animal)\n",
        "print(type(lista_animal))\n",
        "print(lista_animal)"
      ],
      "execution_count": null,
      "outputs": [
        {
          "output_type": "stream",
          "text": [
            "<class 'list'>\n",
            "['cachorro', 'elefante']\n"
          ],
          "name": "stdout"
        }
      ]
    },
    {
      "cell_type": "markdown",
      "metadata": {
        "id": "zV0UvKsVbUJc"
      },
      "source": [
        "**Existe:**\n",
        "  \n",
        "  **Lista [] tipo list**\n",
        "\n",
        "  **Tuppla () tipo tupple - não deixa alterar**\n",
        "\n",
        "  **Conjunto {} tipo set - não existe duplicados**\n"
      ]
    },
    {
      "cell_type": "markdown",
      "metadata": {
        "id": "lqN51imraTQO"
      },
      "source": [
        "**Conjuntos**"
      ]
    },
    {
      "cell_type": "code",
      "metadata": {
        "colab": {
          "base_uri": "https://localhost:8080/"
        },
        "id": "EGc1_T5BaYHd",
        "outputId": "c020b9b4-b8f6-4b02-f6ee-a32e85f8f7a1"
      },
      "source": [
        "#Criando um conjunto usa {}\n",
        "#tipo de conjunto é o SET\n",
        "conjunto = {1,2,3,4}\n",
        "\n",
        "print(type(conjunto))"
      ],
      "execution_count": null,
      "outputs": [
        {
          "output_type": "stream",
          "text": [
            "<class 'set'>\n"
          ],
          "name": "stdout"
        }
      ]
    },
    {
      "cell_type": "code",
      "metadata": {
        "colab": {
          "base_uri": "https://localhost:8080/"
        },
        "id": "wBm77vrIbhdz",
        "outputId": "8ace9d3f-231a-4212-9fe5-ae683d001c40"
      },
      "source": [
        "#Adicionando elemento a um conjunto\n",
        "conjunto.add(int(input('Escreva numero para adicionar ao conjunto: ')))\n",
        "print((conjunto))"
      ],
      "execution_count": null,
      "outputs": [
        {
          "output_type": "stream",
          "text": [
            "Escreva numero para adicionar ao conjunto: 40\n",
            "{1, 2, 3, 4, 40}\n"
          ],
          "name": "stdout"
        }
      ]
    },
    {
      "cell_type": "code",
      "metadata": {
        "colab": {
          "base_uri": "https://localhost:8080/"
        },
        "id": "1sjK9WRHcILU",
        "outputId": "38e928f7-52cd-485e-ecd4-7deef96d2354"
      },
      "source": [
        "#remover elemento\n",
        "conjunto.discard(8) #remove exatamente o numero que digitou, não a posição\n",
        "print(conjunto)"
      ],
      "execution_count": null,
      "outputs": [
        {
          "output_type": "stream",
          "text": [
            "{1, 2, 3, 4, 40}\n"
          ],
          "name": "stdout"
        }
      ]
    },
    {
      "cell_type": "code",
      "metadata": {
        "colab": {
          "base_uri": "https://localhost:8080/"
        },
        "id": "bE8x3v_YcWDx",
        "outputId": "45597880-9ebf-46d2-ae5e-49613a4e3d66"
      },
      "source": [
        "#testando remover\n",
        "conjunto.discard(int(input('Digite numero para remover: ')))"
      ],
      "execution_count": null,
      "outputs": [
        {
          "output_type": "stream",
          "text": [
            "Digite numero para remover: 40\n"
          ],
          "name": "stdout"
        }
      ]
    },
    {
      "cell_type": "code",
      "metadata": {
        "colab": {
          "base_uri": "https://localhost:8080/"
        },
        "id": "D3JNnkwKdlqR",
        "outputId": "8100393c-5adc-496b-827b-d910f983f3d3"
      },
      "source": [
        "#Criando outro conjunto para unir os conjuntos\n",
        "#conjunto {3, 4, 2, 5, 8}\n",
        "#conjunto2 {1, 2, 3, 4, 5}\n",
        "#resultado {1, 2, 3, 4, 5, 8}\n",
        "conjunto2 = {1,2,3,4,5}\n",
        "conjunto_uniao = conjunto.union(conjunto2)\n",
        "print(conjunto_uniao)"
      ],
      "execution_count": null,
      "outputs": [
        {
          "output_type": "stream",
          "text": [
            "{1, 2, 3, 4, 5}\n"
          ],
          "name": "stdout"
        }
      ]
    },
    {
      "cell_type": "code",
      "metadata": {
        "colab": {
          "base_uri": "https://localhost:8080/"
        },
        "id": "bUbFF_Q3cgWK",
        "outputId": "9f1c7c96-1d1f-484f-a58a-53aa243df312"
      },
      "source": [
        "#Intersecção mostrar o que existe em comum em dois conjuntos usa intersection\n",
        "conjunto_interseccao = conjunto.intersection(conjunto2)\n",
        "print(conjunto_interseccao)\n",
        "\n",
        "conjunto3 = {5,9}\n",
        "conjunto_interseccao = conjunto3.intersection(conjunto2)\n",
        "print(conjunto_interseccao)"
      ],
      "execution_count": null,
      "outputs": [
        {
          "output_type": "stream",
          "text": [
            "{1, 2, 3, 4}\n",
            "{5}\n"
          ],
          "name": "stdout"
        }
      ]
    },
    {
      "cell_type": "code",
      "metadata": {
        "colab": {
          "base_uri": "https://localhost:8080/"
        },
        "id": "aB3-kN93h3HK",
        "outputId": "8b4cdf56-90bb-42d5-85ab-86b421648c5e"
      },
      "source": [
        "#verificando a diferença entre os conjuntos\n",
        "print(conjunto_interseccao)\n",
        "print(conjunto2)\n",
        "\n",
        "conjunto_diferenca = conjunto2.difference(conjunto_interseccao)\n",
        "\n",
        "print('diferença: {}'.format(conjunto_diferenca))\n",
        "print(conjunto_diferenca)"
      ],
      "execution_count": null,
      "outputs": [
        {
          "output_type": "stream",
          "text": [
            "{5}\n",
            "{1, 2, 3, 4, 5}\n",
            "diferença: {1, 2, 3, 4}\n",
            "{1, 2, 3, 4}\n"
          ],
          "name": "stdout"
        }
      ]
    },
    {
      "cell_type": "code",
      "metadata": {
        "colab": {
          "base_uri": "https://localhost:8080/"
        },
        "id": "Tgethx3yqQ_9",
        "outputId": "90006a46-3954-413e-e801-20c432e04d26"
      },
      "source": [
        "#Diferença simetrica, tudo que não tem nos dois\n",
        "#tem no A e não tem no B\n",
        "#tem no B e não tem no A\n",
        "print(conjunto)\n",
        "print(conjunto2)\n",
        "conjunto_dif_simetrica = conjunto.symmetric_difference(conjunto2)\n",
        "print(conjunto_dif_simetrica)\n"
      ],
      "execution_count": null,
      "outputs": [
        {
          "output_type": "stream",
          "text": [
            "{1, 2, 3, 4}\n",
            "{1, 2, 3, 4, 5}\n",
            "{5}\n"
          ],
          "name": "stdout"
        }
      ]
    },
    {
      "cell_type": "code",
      "metadata": {
        "colab": {
          "base_uri": "https://localhost:8080/"
        },
        "id": "_rQhjeGkvkIs",
        "outputId": "0734d4cf-b171-41cf-d43a-2a15438c5e8b"
      },
      "source": [
        "#Pertinencia\n",
        "#se um conjunto é um sub conjunto do outro conjunto\n",
        "# A está dentro de B ? True \n",
        "\n",
        "conjunto_a = {1,2,3}\n",
        "conjunto_b = {1,2,3,4,5}\n",
        "\n",
        "conjunto_subset = conjunto_a.issubset(conjunto_b)\n",
        "conjunto_subset2 = conjunto_b.issubset(conjunto_a)\n",
        "print(conjunto_subset)\n",
        "print(conjunto_subset2)"
      ],
      "execution_count": null,
      "outputs": [
        {
          "output_type": "stream",
          "text": [
            "True\n",
            "False\n"
          ],
          "name": "stdout"
        }
      ]
    },
    {
      "cell_type": "code",
      "metadata": {
        "colab": {
          "base_uri": "https://localhost:8080/"
        },
        "id": "fBPWGJcswVHT",
        "outputId": "0214c150-50a5-4604-9723-40b303b14b47"
      },
      "source": [
        "#se um conjunto é um super conjunto de outro conjunto\n",
        "# B é um superconjunto de A ? True\n",
        "conjunto_superset = conjunto_b.issuperset(conjunto_a)\n",
        "print('conjunto B: {}'.format(conjunto_b))\n",
        "print('conjunto A: {}'.format(conjunto_a))\n",
        "print('resposta: {}'.format(conjunto_superset))\n",
        "\n",
        "conjunto_superset2 = conjunto_a.issuperset(conjunto_b)\n",
        "print('resposta2: {}'.format(conjunto_superset2))"
      ],
      "execution_count": null,
      "outputs": [
        {
          "output_type": "stream",
          "text": [
            "conjunto B: {1, 2, 3, 4, 5}\n",
            "conjunto A: {1, 2, 3}\n",
            "resposta: True\n",
            "resposta2: False\n"
          ],
          "name": "stdout"
        }
      ]
    },
    {
      "cell_type": "code",
      "metadata": {
        "colab": {
          "base_uri": "https://localhost:8080/"
        },
        "id": "ihQclVzmx7Po",
        "outputId": "8aa4f995-a917-4bf2-f884-0a8f07a186bf"
      },
      "source": [
        "#Converter uma lista para conjunto\n",
        "#preciso remover a duplicidade de cachorro\n",
        "#ja que conjunto não tem duplicidade\n",
        "#converter lista para conjunto\n",
        "lista = ['cachorro', 'cachorro', 'gato', 'elefante']\n",
        "conjunto_animais = set(lista)\n",
        "print('lista {}'.format(lista))\n",
        "print('tipo da lista {}'.format(type(lista)))\n",
        "print('conjunto {}'.format(conjunto_animais))\n",
        "print('tipo conjunto {}'.format(type(conjunto_animais)))\n",
        "\n",
        "#converter conjunto para lista\n",
        "lista_animais = list(conjunto_animais)\n",
        "print('lista animais {}'.format(lista_animais))\n",
        "print('tipo da lista animais {}'.format(type(lista_animais)))\n",
        "print('tupla {}'.format(tupla))\n",
        "print('tipo da tupla {}'.format(type(tupla)))"
      ],
      "execution_count": null,
      "outputs": [
        {
          "output_type": "stream",
          "text": [
            "lista ['cachorro', 'cachorro', 'gato', 'elefante']\n",
            "tipo da lista <class 'list'>\n",
            "conjunto {'cachorro', 'elefante', 'gato'}\n",
            "tipo conjunto <class 'set'>\n",
            "lista animais ['cachorro', 'elefante', 'gato']\n",
            "tipo da lista animais <class 'list'>\n",
            "tupla (1, 10, 12, 14)\n",
            "tipo da tupla <class 'tuple'>\n"
          ],
          "name": "stdout"
        }
      ]
    },
    {
      "cell_type": "markdown",
      "metadata": {
        "id": "-7n4UhbA-KqE"
      },
      "source": [
        "\n",
        "  **Lista [] tipo list**\n",
        "\n",
        "  **Tuppla () tipo tupple - não deixa alterar**\n",
        "\n",
        "  **Conjunto {} tipo set - não existe duplicados**"
      ]
    },
    {
      "cell_type": "markdown",
      "metadata": {
        "id": "Q035QR2R7MU5"
      },
      "source": [
        "**Classes e Funções**\n",
        "\n",
        "função = tudo que retorna valor\n",
        "\n",
        "metodo (definição) def = não retorna | precisa declarar parametros\n"
      ]
    },
    {
      "cell_type": "code",
      "metadata": {
        "id": "d6DFUbLu7PTG",
        "colab": {
          "base_uri": "https://localhost:8080/"
        },
        "outputId": "ee11127e-9784-47f8-ad1b-ad70218c54dc"
      },
      "source": [
        "#criando metodos utiliza def e passar os parametros\n",
        "def vaisomar (a, b):\n",
        "  return a + b\n",
        "\n",
        "def subtrair (a,b):\n",
        "  return a-b\n",
        "\n",
        "print(vaisomar(7,2))\n",
        "print(subtrair(8,4))"
      ],
      "execution_count": null,
      "outputs": [
        {
          "output_type": "stream",
          "text": [
            "9\n",
            "4\n"
          ],
          "name": "stdout"
        }
      ]
    },
    {
      "cell_type": "code",
      "metadata": {
        "id": "E8yYKEy6990i",
        "colab": {
          "base_uri": "https://localhost:8080/"
        },
        "outputId": "c63f5600-c036-471a-dae1-34061a2ab2eb"
      },
      "source": [
        "#Criando classes\n",
        "#Calculadora 1\n",
        "class Calculadora:\n",
        "  def __init__(self, num1, num2):\n",
        "    self.valor_a = num1\n",
        "    self.valor_b = num2\n",
        "\n",
        "  def soma(self):\n",
        "    return self.valor_a + self.valor_b\n",
        "\n",
        "  def subtrair(self):\n",
        "    return self.valor_a - self.valor_b\n",
        "\n",
        "calculadora = Calculadora(10, 2)\n",
        "print('numero A: {}'.format(calculadora.valor_a))\n",
        "print('numero B: {}'.format(calculadora.valor_b))\n",
        "print('soma de A + B: {}'.format(calculadora.soma()))\n",
        "print('subtração de A - B: {}'.format(calculadora.subtrair()))"
      ],
      "execution_count": null,
      "outputs": [
        {
          "output_type": "stream",
          "text": [
            "numero A: 10\n",
            "numero B: 2\n",
            "soma de A + B: 12\n",
            "subtração de A - B: 8\n"
          ],
          "name": "stdout"
        }
      ]
    },
    {
      "cell_type": "code",
      "metadata": {
        "colab": {
          "base_uri": "https://localhost:8080/",
          "height": 129
        },
        "id": "vCNd2YrNXGBb",
        "outputId": "485ca1fe-6924-45a6-9f13-fea0eee8a0e6"
      },
      "source": [
        "class Veiculo:\n",
        "  def __init__(self, cor, rodas, marca, tanque):\n",
        "    self.cor = cor\n",
        "    self.rodas = rodas\n",
        "    self.marca = marca\n",
        "    self.tanque = tanque\n",
        "\n",
        "veiculo = Veiculo()\n",
        "\n",
        "caminhao_rosa = veiculo('rosa', 6, 'ford', 10)\n",
        "print(caminhao_rosa)\n",
        "\n",
        "#**************\n",
        "#class Veiculo:\n",
        " # def __init__(self,cor,rodas,marca,tanque):\n",
        "\n",
        "#caminhao_rosa = Veiculo('rosa',6,'ford',10) \n",
        "\n",
        "#print(caminhao_rosa)\n",
        "#print(\"Cor: \", caminhao_rosa.cor)\n",
        "#print(\"Marca: \"caminhao_rosa.marca)\n",
        "#print(\"Tanque: \"caminhao_rosa.marca)\n",
        "\n",
        "#carro_azul = veiculo('azul, 4, 'bmw', 30)\n",
        "\n",
        "#print(carro_azul)\n",
        "#print(\"Cor: \", carro_azul.cor)\n",
        "#print(\"Marca: \"carro_azul.marca)\n",
        "#print(\"Tanque: \"carro_azul.marca)\n"
      ],
      "execution_count": null,
      "outputs": [
        {
          "output_type": "error",
          "ename": "SyntaxError",
          "evalue": "ignored",
          "traceback": [
            "\u001b[0;36m  File \u001b[0;32m\"<ipython-input-15-cdc00f860d02>\"\u001b[0;36m, line \u001b[0;32m3\u001b[0m\n\u001b[0;31m    self.cor = cor\u001b[0m\n\u001b[0m            ^\u001b[0m\n\u001b[0;31mSyntaxError\u001b[0m\u001b[0;31m:\u001b[0m invalid character in identifier\n"
          ]
        }
      ]
    },
    {
      "cell_type": "code",
      "metadata": {
        "id": "CEEl9gKLJtmK"
      },
      "source": [
        "#Criando classes\n",
        "#Calculadora 2\n",
        "class Calculadora:\n",
        "  #def __init__(self):\n",
        "   #pass #apenas para não ficar vazio\n",
        "\n",
        "  def soma(self, valor_a, valor_b):\n",
        "    return valor_a + valor_b\n",
        "\n",
        "  def subtrair(self, valor_a, valor_b):\n",
        "    return valor_a - valor_b\n",
        "\n",
        "calculadora = Calculadora()\n",
        "print('soma de A + B: {}'.format(calculadora.soma(10, 2)))\n",
        "print('subtração de A - B: {}'.format(calculadora.subtrair(5, 3)))"
      ],
      "execution_count": null,
      "outputs": []
    },
    {
      "cell_type": "code",
      "metadata": {
        "id": "yzTss1QjmPWf"
      },
      "source": [
        "nome = str(input('Digite seu nome'))\n",
        "peso = int(input('Digite seu peso'))\n",
        "altura = float(input('Digite sua altura'))\n",
        "idade = int(input('Digite ano nascimento'))\n",
        "\n",
        "validacao_idade = 2021 - idade\n",
        "\n",
        "if validacao_idade > 18 and peso >= 60 and altura >=1.70:\n",
        "  print(nome + \"ESTA APTO\")\n",
        "\n",
        "else:\n",
        "  print(nome + \"NAO APTO\")"
      ],
      "execution_count": null,
      "outputs": []
    },
    {
      "cell_type": "markdown",
      "metadata": {
        "id": "KKs8U4tMJiiX"
      },
      "source": [
        "**Criando uma Televisao usando classe e metodo**\n",
        "\n",
        "Conceitos de orientação a objetos"
      ]
    },
    {
      "cell_type": "code",
      "metadata": {
        "id": "I_lXGnJ93rbO",
        "colab": {
          "base_uri": "https://localhost:8080/"
        },
        "outputId": "68da9b71-1480-4c4c-cc1b-c3801456ca3e"
      },
      "source": [
        "class Televisao:\n",
        "  def __init__(self):\n",
        "    self.ligada = False\n",
        "    self.canal = 5\n",
        "\n",
        "  def power(self):\n",
        "    if self.ligada == True:\n",
        "      self.ligada = False\n",
        "    else:\n",
        "      self.ligada = True\n",
        "\n",
        "  def aumenta_canal(self):\n",
        "      if self.ligada == True:\n",
        "        self.canal += 1\n",
        "\n",
        "  def diminui_canal(self):\n",
        "      if self.ligada == True:\n",
        "        self.canal -= 1\n",
        "\n",
        "print(__name__)\n",
        "if __name__ == '__main__':\n",
        "  televisao = Televisao() #classe Televisao\n",
        "  print('Televisão está ligada: {}'.format(televisao.ligada)) #False\n",
        "  televisao.power()\n",
        "  print('Televisão está ligada: {}'.format(televisao.ligada)) #True\n",
        "  televisao.power()\n",
        "  print('Televisão está ligada: {}'.format(televisao.ligada)) #False\n",
        "\n",
        "  #incluindo canal padrão que é 5\n",
        "  print('Canal é: {}'.format(televisao.canal))\n",
        "\n",
        "  #primeiramente ligando TV\n",
        "  televisao.power() #True\n",
        "  print('Televisão está ligada: {}'.format(televisao.ligada)) #False\n",
        "  #Apertando para mudar canal +\n",
        "  televisao.aumenta_canal()\n",
        "  televisao.aumenta_canal()\n",
        "  televisao.aumenta_canal()\n",
        "  televisao.aumenta_canal()\n",
        "\n",
        "  #Apertando para mudar canal -\n",
        "  televisao.diminui_canal()\n",
        "  televisao.diminui_canal()\n",
        "\n",
        "  print('Canal é: {}'.format(televisao.canal))\n"
      ],
      "execution_count": null,
      "outputs": [
        {
          "output_type": "stream",
          "text": [
            "__main__\n",
            "Televisão está ligada: False\n",
            "Televisão está ligada: True\n",
            "Televisão está ligada: False\n",
            "Canal é: 5\n",
            "Televisão está ligada: True\n",
            "Canal é: 7\n"
          ],
          "name": "stdout"
        }
      ]
    },
    {
      "cell_type": "markdown",
      "metadata": {
        "id": "6CFw0FMEYJ8Q"
      },
      "source": [
        "**Modulos**\n",
        "\n",
        "cada arquivo .py é um modulo\n",
        "\n",
        "importando o modulo é possivel acessar qualquer classe inteira ou metodo que tenha neste modulo.\n",
        "\n",
        "\n",
        "\n"
      ]
    },
    {
      "cell_type": "code",
      "metadata": {
        "id": "yTe6yTS_YIxi"
      },
      "source": [
        "#duas opções de import classe de outro modulo\n",
        "\n",
        "#import aula7_televisao\n",
        "#from aula7_televisao import Televisao\n",
        "#televisao = Televisao()"
      ],
      "execution_count": null,
      "outputs": []
    },
    {
      "cell_type": "code",
      "metadata": {
        "colab": {
          "base_uri": "https://localhost:8080/"
        },
        "id": "7hEXQMCY5A4t",
        "outputId": "91d4db80-95ca-459b-8dde-f37b9814160a"
      },
      "source": [
        "#Contador de palavras\n",
        "def contador_letras (lista_palavras):\n",
        "  contador = []\n",
        "\n",
        "  for x in lista_palavras:\n",
        "    quantidade = len(x)\n",
        "    contador.append(quantidade)\n",
        "  return(contador)\n",
        "\n",
        "if __name__ == '__main__':\n",
        "  lista = ['cachorro', 'gato']\n",
        "  print(contador_letras(lista))\n",
        "\n",
        "#lista2 = ['Murilo', 'Thamie', 'Bruna']\n",
        "#total_letras = contador_letras(lista2)\n",
        "#print('total de letras da lista é {}'.format(total_letras))\n"
      ],
      "execution_count": null,
      "outputs": [
        {
          "output_type": "stream",
          "text": [
            "[8, 4]\n"
          ],
          "name": "stdout"
        }
      ]
    },
    {
      "cell_type": "markdown",
      "metadata": {
        "id": "Ss1IsxRf_39N"
      },
      "source": [
        "**Lambda** Funcao anonima"
      ]
    },
    {
      "cell_type": "code",
      "metadata": {
        "colab": {
          "base_uri": "https://localhost:8080/"
        },
        "id": "jUwmWW_P_6hM",
        "outputId": "cf6ca0be-af84-4f54-ba7a-d0f5c90a829c"
      },
      "source": [
        "#Criando contador de letras com função lambda\n",
        "contador_letras = lambda lista: [len(x) for x in lista]\n",
        "lista_animais = ['cachorro', 'gato', 'elefante']\n",
        "contador_letras(lista_animais)\n"
      ],
      "execution_count": null,
      "outputs": [
        {
          "output_type": "execute_result",
          "data": {
            "text/plain": [
              "[8, 4, 8]"
            ]
          },
          "metadata": {
            "tags": []
          },
          "execution_count": 49
        }
      ]
    },
    {
      "cell_type": "code",
      "metadata": {
        "id": "TcKfC5kfBFhr"
      },
      "source": [
        "frase = 'oi mundo'\n",
        "print(frase[4])"
      ],
      "execution_count": null,
      "outputs": []
    },
    {
      "cell_type": "code",
      "metadata": {
        "colab": {
          "base_uri": "https://localhost:8080/"
        },
        "id": "1l7NWK6kBl2T",
        "outputId": "c54af5e1-ee20-4886-b486-03045e5a61de"
      },
      "source": [
        "lista_nome = ['murilo', 'ronnan', 'teste'] \n",
        "lista_nome[0] = 'Roberta'\n",
        "print(lista_nome)\n"
      ],
      "execution_count": null,
      "outputs": [
        {
          "output_type": "stream",
          "text": [
            "['Roberta', 'ronnan', 'teste']\n"
          ],
          "name": "stdout"
        }
      ]
    },
    {
      "cell_type": "code",
      "metadata": {
        "id": "9i-GCJrXDo06"
      },
      "source": [
        "#Criando calculadora com o lambda"
      ],
      "execution_count": null,
      "outputs": []
    },
    {
      "cell_type": "code",
      "metadata": {
        "colab": {
          "base_uri": "https://localhost:8080/"
        },
        "id": "aK3YNBtCDxWK",
        "outputId": "7c4a147d-7678-42b1-88ba-41a65628111e"
      },
      "source": [
        "soma = lambda a,b: a + b \n",
        "subtracao = lambda a,b: a-b\n",
        "print(soma(5,10))\n",
        "print(subtracao(10,5))"
      ],
      "execution_count": null,
      "outputs": [
        {
          "output_type": "stream",
          "text": [
            "15\n",
            "5\n"
          ],
          "name": "stdout"
        }
      ]
    },
    {
      "cell_type": "code",
      "metadata": {
        "colab": {
          "base_uri": "https://localhost:8080/"
        },
        "id": "srxMTlbLEfJD",
        "outputId": "d14eb089-65b4-40dc-9e9d-b4486bf23d17"
      },
      "source": [
        "#Criando calculadora com o lambda com função anonima\n",
        "calculadora = {\n",
        "    'soma': lambda a, b: a + b,\n",
        "    'subtracao': lambda a,b: a-b,\n",
        "    'divisao': lambda a,b: a/b,\n",
        "    'multiplicacao': lambda a,b: a*b\n",
        "    }\n",
        "print(type(calculadora))\n",
        "soma = calculadora['soma']\n",
        "subtracao = calculadora['subtracao']\n",
        "divisao = calculadora['divisao']\n",
        "multiplicacao = calculadora['multiplicacao']\n",
        "print('A soma é: {}'.format(soma(10,5)))\n",
        "print('A subtração é {}'.format(subtracao(10,5)))\n",
        "print('A divisaão é: {}'.format(divisao(10,2)))\n",
        "print('A multiplicação é: {}'.format(multiplicacao(5,10)))"
      ],
      "execution_count": null,
      "outputs": [
        {
          "output_type": "stream",
          "text": [
            "<class 'dict'>\n",
            "A soma é: 15\n",
            "A subtração é 5\n",
            "A divisaão é: 5.0\n",
            "A multiplicação é: 50\n"
          ],
          "name": "stdout"
        }
      ]
    },
    {
      "cell_type": "code",
      "metadata": {
        "id": "ZRjDIKcRJiRN"
      },
      "source": [
        "nomes = ['murilo', 'guilherme','erica']\n",
        "\n",
        "for x in nomes:\n",
        "\n",
        "  print(x)"
      ],
      "execution_count": null,
      "outputs": []
    },
    {
      "cell_type": "code",
      "metadata": {
        "id": "YVqNa7k-KoBk",
        "colab": {
          "base_uri": "https://localhost:8080/"
        },
        "outputId": "fa68cf05-bcc7-4e2e-8cdc-b6f57ac77675"
      },
      "source": [
        "nome = 1, 2, 3, 4\n",
        "for x in nome:\n",
        "  print(x)"
      ],
      "execution_count": null,
      "outputs": [
        {
          "output_type": "stream",
          "text": [
            "1\n",
            "2\n",
            "3\n",
            "4\n"
          ],
          "name": "stdout"
        }
      ]
    },
    {
      "cell_type": "markdown",
      "metadata": {
        "id": "IN7-dsIiWpXk"
      },
      "source": [
        "**Ler, Escrever e Manipular Arquivos**\n"
      ]
    },
    {
      "cell_type": "code",
      "metadata": {
        "id": "yD6PZb5yWsUU"
      },
      "source": [
        "#criando um arquivo\n",
        "arquivo = open('teste.txt', 'w') #w para escrever\n",
        "arquivo.write('Minha primeira escrita')\n",
        "arquivo.close()\n",
        "\n"
      ],
      "execution_count": null,
      "outputs": []
    },
    {
      "cell_type": "code",
      "metadata": {
        "id": "D50ZYCZkQ6lE"
      },
      "source": [
        "#para atualizar um o arquivo, voce precisa abrir o arquivo com 'a'\n",
        "arquivo = open('teste.txt', 'a')\n",
        "arquivo.write('\\ntestando escrita')\n",
        "arquivo.close()"
      ],
      "execution_count": null,
      "outputs": []
    },
    {
      "cell_type": "code",
      "metadata": {
        "id": "g8dHRFXuYfhl",
        "colab": {
          "base_uri": "https://localhost:8080/"
        },
        "outputId": "b1e07a4a-cde0-42f8-c047-b841f1540a11"
      },
      "source": [
        "#Criando uma função para que de acordo com valores inseridos em um txt\n",
        "#seja calculado a media e inserido em outro arquivo txt\n",
        "\n",
        "#definindo\n",
        "import shutil #para copiar e mover\n",
        "\n",
        "#função write\n",
        "def escrever_arquivo(texto):\n",
        "  arquivo = open('teste.txt', 'w') #write\n",
        "  arquivo.write(texto)\n",
        "  arquivo.closed\n",
        "  \n",
        "#função atualizar\n",
        "def atualizar_arquivo(nome_arquivo, texto):\n",
        "  arquivo = open(nome_arquivo, 'a') #atualizar\n",
        "  arquivo.write(texto)\n",
        "  arquivo.closed\n",
        "\n",
        "#função ler\n",
        "def ler_arquivo(nome_arquivo):\n",
        "  arquivo = open(nome_arquivo, 'r')#read\n",
        "  texto = arquivo.read()\n",
        "  print(texto)\n",
        "\n",
        "#função media notas\n",
        "def media_notas(nome_arquivo):\n",
        "  arquivo = open(nome_arquivo, 'r')\n",
        "  aluno_nota = arquivo.read()\n",
        "  aluno_nota = aluno_nota.split('\\n') #split para gerar lista separado por quebra linha\n",
        "  print('1 Arquivo original: ', aluno_nota)\n",
        "  lista_media = []\n",
        "  for x in aluno_nota:\n",
        "    lista_notas = x.split(',') #split para gerar lista separado por ,\n",
        "    print('2 Lista separado: ', lista_notas) #lista completo\n",
        "    aluno = lista_notas[0]\n",
        "    print('3 So aluno: ', aluno) #so aluno\n",
        "    lista_notas.pop(0) #pop 0 para remover primeiro item da lista\n",
        "    print('4 todas as notas', lista_notas) #so notas\n",
        "    \n",
        "    media = lambda notas: sum([int(i) for i in notas])/4\n",
        "    print('5 somente media', media(lista_notas))\n",
        "    lista_media.append({aluno:media(lista_notas)})\n",
        "    media_print = media(lista_notas)\n",
        "\n",
        "    arquivo = open('resultado.txt', 'a') #write\n",
        "    arquivo.write(str(aluno)+' : '+str(media_print)+'\\n')\n",
        "    arquivo.closed\n",
        "\n",
        "    valor = str(media(lista_notas))\n",
        "   \n",
        "    resultado = str(lista_media)\n",
        "    \n",
        "    #arquivo = open('resultado.txt', 'a') #write\n",
        "    #arquivo.write(resultado)\n",
        "    #arquivo.closed\n",
        "\n",
        "    #print('Resultado: ' + resultado)\n",
        "\n",
        "  return lista_media\n",
        "\n",
        "  #X arquivo = open('teste.txt', 'w') #write\n",
        "  #X arquivo.write(resultado)\n",
        "  #X arquivo.closed\n",
        "\n",
        "#função copiar\n",
        "def copia_arquivo(nome_arquivo):\n",
        "  shutil.copy(nome_arquivo, '/content/notas2.txt')\n",
        "\n",
        "#função para mover\n",
        "def move_arquivo(nome_arquivo):\n",
        "  shutil.move(nome_arquivo, '/content/sample_data')\n",
        "\n",
        "if __name__ == '__main__':\n",
        "  #copia_arquivo('notas.txt')\n",
        "  #move_arquivo('notas.txt')\n",
        "  media_notas('teste.txt')\n",
        "  #escrever_arquivo(resultado)\n",
        "  #aluno ='rafael,2,1,10,10\\n'\n",
        "  #atualizar_arquivo('teste.txt', aluno)\n",
        "  #ler_arquivo('teste.txt')\n",
        "  #lista_media = media_notas('notas.txt')\n",
        "  #print(lista_media)\n",
        "\n"
      ],
      "execution_count": 56,
      "outputs": [
        {
          "output_type": "stream",
          "text": [
            "1 Arquivo original:  ['murilo,22,20,12,13', 'farias,12,12,34,23']\n",
            "2 Lista separado:  ['murilo', '22', '20', '12', '13']\n",
            "3 So aluno:  murilo\n",
            "4 todas as notas ['22', '20', '12', '13']\n",
            "5 somente media 16.75\n",
            "2 Lista separado:  ['farias', '12', '12', '34', '23']\n",
            "3 So aluno:  farias\n",
            "4 todas as notas ['12', '12', '34', '23']\n",
            "5 somente media 20.25\n"
          ],
          "name": "stdout"
        }
      ]
    }
  ]
}