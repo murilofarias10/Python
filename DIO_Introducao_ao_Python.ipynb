{
  "nbformat": 4,
  "nbformat_minor": 0,
  "metadata": {
    "colab": {
      "name": "DIO_Introducao_ao_Python.ipynb",
      "provenance": [],
      "collapsed_sections": [],
      "authorship_tag": "ABX9TyM5K7yK210F40g6LJX5OBnV",
      "include_colab_link": true
    },
    "kernelspec": {
      "name": "python3",
      "display_name": "Python 3"
    },
    "language_info": {
      "name": "python"
    }
  },
  "cells": [
    {
      "cell_type": "markdown",
      "metadata": {
        "id": "view-in-github",
        "colab_type": "text"
      },
      "source": [
        "<a href=\"https://colab.research.google.com/github/murilofarias10/AnaliseComPython/blob/main/DIO_Introducao_ao_Python.ipynb\" target=\"_parent\"><img src=\"https://colab.research.google.com/assets/colab-badge.svg\" alt=\"Open In Colab\"/></a>"
      ]
    },
    {
      "cell_type": "code",
      "metadata": {
        "colab": {
          "base_uri": "https://localhost:8080/"
        },
        "id": "Hngkh63v5Ytx",
        "outputId": "01373df1-71c4-44d7-d8da-1a1c28b91382"
      },
      "source": [
        "nome = 'murilo'\n",
        "salario = 1500.00\n",
        "print(nome)\n",
        "print(salario)\n",
        "print('salario é:', salario, nome)"
      ],
      "execution_count": null,
      "outputs": [
        {
          "output_type": "stream",
          "text": [
            "murilo\n",
            "1500.0\n",
            "salario é: 1500.0 murilo\n"
          ],
          "name": "stdout"
        }
      ]
    },
    {
      "cell_type": "markdown",
      "metadata": {
        "id": "9BRVjuUEUKeD"
      },
      "source": [
        "**Aula: IF, ELSE, ELIF**"
      ]
    },
    {
      "cell_type": "code",
      "metadata": {
        "id": "FdS8wjxz4dVI"
      },
      "source": [
        "\n",
        "#Condição IF\n",
        "a = int(input('Primeiro valor: '))\n",
        "b = int(input('Segundo valor: '))\n",
        "c = int(input('Terceiro valor: '))\n",
        "\n",
        "#usando identação\n",
        "if a > b and a > c:\n",
        "    print('o maior numero é {}'.format(a))\n",
        "\n",
        "#else com if elif\n",
        "elif b > a and b > c:\n",
        "  print('o maior número é {}'.format(b)) \n",
        "\n",
        "else:\n",
        "  print('o maior número é {}'.format(c))\n",
        "\n",
        "#usando identação  para encerrar o programa\n",
        "print('final do programa')"
      ],
      "execution_count": null,
      "outputs": []
    },
    {
      "cell_type": "code",
      "metadata": {
        "id": "4_0WQCgk6WsB"
      },
      "source": [
        "#verificando se o numero é par\n",
        "#Ao utilizar % estamos indicando que queremos o RESTO da divisão\n",
        "a = int(input('Entre com um valor: '))\n",
        "resto = a % 2\n",
        "\n",
        "if resto == 0:\n",
        "  print('numero é par')\n",
        "\n",
        "else:\n",
        "  print ('numero é impar')"
      ],
      "execution_count": null,
      "outputs": []
    },
    {
      "cell_type": "code",
      "metadata": {
        "id": "betVC6MI9e6y"
      },
      "source": [
        "#verificar se existe um numero par entre dois numero digitados\n",
        "\n",
        "a = int(input('Entre com primeiro valor'))\n",
        "b = int(input('Entre com primeiro valor'))\n",
        "\n",
        "resto_a = a % 2\n",
        "resto_b = b % 2\n",
        "\n",
        "#outra maneira: if resto_a == 0 or not resto_b > 0:\n",
        "if resto_a ==0 or resto_b ==0:\n",
        "  print('sim um numero é par')\n",
        "\n",
        "else:\n",
        "    print('nao tem numero par'\n",
        "    )"
      ],
      "execution_count": null,
      "outputs": []
    },
    {
      "cell_type": "code",
      "metadata": {
        "id": "cdD6_Ipl-Rzg"
      },
      "source": [
        "#solicitar as notas bimestrais e tirar media\n",
        "#tambem validar as notas\n",
        "\n",
        "a = int(input('Primeiro Bimestre: '))\n",
        "while a > 10:\n",
        "    a = int(input('Voce digitou errado, digite novamente primeiro bimestre'))\n",
        "b = int(input('Segundo Bimestre: '))\n",
        "while b > 10:\n",
        "    b = int(input('Voce digitou errado, digite novamente Segundo bimestre'))\n",
        "c = int(input('Terceiro Bimestre: '))\n",
        "while c > 10:\n",
        "    c = int(input('Voce digitou errado, digite novamente Terceiro bimestre'))\n",
        "d = int(input('Quarto Bimestre: '))\n",
        "while d > 10:\n",
        "    d = int(input('Voce digitou errado, digite novamente Quarto bimestre'))\n",
        "\n",
        "media = (a + b + c + d)/4\n",
        "\n",
        "if a <= 10 and b <= 10 and c <= 10 and d <= 10:\n",
        "  print('media: {}'.format(media))\n",
        "  1\n",
        "else:\n",
        "    print('informado nota errada')"
      ],
      "execution_count": null,
      "outputs": []
    },
    {
      "cell_type": "markdown",
      "metadata": {
        "id": "403_jS2AU4Z5"
      },
      "source": [
        "**Aula: Laços de repetição: For, While, Range**"
      ]
    },
    {
      "cell_type": "code",
      "metadata": {
        "id": "-YBnxQobU_Uo"
      },
      "source": [
        "#Imprimir os 100 primeiros numero a partir do 0\n",
        "#range (inicio, até qual valor)\n",
        "for x in range(10, 100):\n",
        "  print(x)"
      ],
      "execution_count": null,
      "outputs": []
    },
    {
      "cell_type": "code",
      "metadata": {
        "id": "A29lOBKlVgKo"
      },
      "source": [
        "#Solicitar para usuario digitar numero\n",
        "#Verificar se é PRIMO (divisivel por 1 e por ele mesmo)\n",
        "a = int(input('Entre com um numero: '))\n",
        "\n",
        "div = 0\n",
        "\n",
        "for x in range(1, a+1):\n",
        "  resto = a % x\n",
        "  print(x, resto)\n",
        "  if resto ==0:\n",
        "    div = div +1 #outra maneira: div += 1 incremento do div\n",
        "\n",
        "if div ==2:\n",
        "  print('Numero {} é primo'.format(a))\n",
        "\n",
        "else:\n",
        "  print('Numero {} não é primo'.format(a))\n",
        "\n",
        "\n"
      ],
      "execution_count": null,
      "outputs": []
    },
    {
      "cell_type": "code",
      "metadata": {
        "id": "Ik2i-jTZepNp"
      },
      "source": [
        "#Solicitar para usuario digitar numero\n",
        "#Verificar se é PRIMO (divisivel por 1 e por ele mesmo)\n",
        "#Verificar quais são os primos entre os valores que o usuario digitar\n",
        "a = int(input('Entre com um valor'))\n",
        "for num in range(1, a):\n",
        "  div = 0\n",
        "  for x in range(1, num+1):\n",
        "    resto = num % x\n",
        "    if resto == 0:\n",
        "      div = div +1 #outra maneira: div += 1 incremento do div\n",
        "  if div ==2:\n",
        "    print(num)\n"
      ],
      "execution_count": null,
      "outputs": []
    },
    {
      "cell_type": "code",
      "metadata": {
        "id": "lou3pJF3hd3D"
      },
      "source": [
        "#utilizando while\n",
        "nota = int(input('Entre com a nota: '))\n",
        "while nota > 10:\n",
        "  nota = int(input('Nota errada, preencha novamente'))\n",
        " \n"
      ],
      "execution_count": null,
      "outputs": []
    },
    {
      "cell_type": "markdown",
      "metadata": {
        "id": "Gvxu-Ak1FoVz"
      },
      "source": [
        "**Aula: Listas e Tuplas**"
      ]
    },
    {
      "cell_type": "code",
      "metadata": {
        "id": "F4-TPY2OFtyr"
      },
      "source": [
        "#Criar uma lista usa []\n",
        "lista = [1, 3 ,5 ,7]\n",
        "lista_animal = ['cachorro', 'gato', 'elefante']\n",
        "#print(lista)\n",
        "#print(type(lista))\n",
        "print(lista_animal[0])\n",
        "\n",
        "for x in lista_animal:\n",
        "  print(x)"
      ],
      "execution_count": null,
      "outputs": []
    },
    {
      "cell_type": "code",
      "metadata": {
        "id": "yqmvqRceLPXr"
      },
      "source": [
        "soma = 0\n",
        "for element in lista:\n",
        "  print(element)\n",
        "  soma += element\n",
        "\n",
        "\n",
        "print(soma)\n"
      ],
      "execution_count": null,
      "outputs": []
    },
    {
      "cell_type": "code",
      "metadata": {
        "id": "J8qzsjZVRMk_"
      },
      "source": [
        "#para somar elementos\n",
        "#print(sum(lista))\n",
        "\n",
        "#trazer o menor valor\n",
        "#min menor valor\n",
        "print (max(lista))\n",
        "\n",
        "#validando se ja existe um elemento na lista e inserir\n",
        "\n",
        "a = input('Digite o animal: ')\n",
        "if a in lista_animal:\n",
        "  print('existe na lista: ' + a)\n",
        "\n",
        "else:\n",
        "  print('nao existe: ' + a)\n",
        "  #incluindo novos registro na lista\n",
        "  print('incluindo elemento: ' + a)\n",
        "  lista_animal.append(a)\n",
        "  print(lista_animal)\n",
        "  print('incluindo com sucesso')\n",
        "\n"
      ],
      "execution_count": null,
      "outputs": []
    },
    {
      "cell_type": "code",
      "metadata": {
        "id": "fzUemgWfae-2"
      },
      "source": [
        "#retirando sempre o ultimo da lista\n",
        "lista_animal.pop()\n",
        "print(lista_animal)"
      ],
      "execution_count": null,
      "outputs": []
    },
    {
      "cell_type": "code",
      "metadata": {
        "id": "blFMxzBra77N"
      },
      "source": [
        "#remover atraves do nome\n",
        "lista_animal.remove('gato')\n",
        "print(lista_animal)\n"
      ],
      "execution_count": null,
      "outputs": []
    },
    {
      "cell_type": "code",
      "metadata": {
        "id": "obY1M_vBb3L0"
      },
      "source": [
        "#ordernando uma lista\n",
        "lista_animal.sort()\n",
        "print(lista_animal)"
      ],
      "execution_count": null,
      "outputs": []
    },
    {
      "cell_type": "code",
      "metadata": {
        "id": "fZq-QSOqhrZe"
      },
      "source": [
        "#Reverte para forma reversa\n",
        "lista_animal.reverse()\n",
        "print(lista_animal)"
      ],
      "execution_count": null,
      "outputs": []
    },
    {
      "cell_type": "code",
      "metadata": {
        "id": "7qBk6V7eW71M"
      },
      "source": [
        "#Triplicando uma lista\n",
        "nova_lista = lista_animal * 3\n",
        "print(nova_lista)"
      ],
      "execution_count": null,
      "outputs": []
    },
    {
      "cell_type": "code",
      "metadata": {
        "id": "hTdgMhEKmUhb"
      },
      "source": [
        "#alterando item da lista\n",
        "#lista_animal[2] = 'elefante'\n",
        "#print(lista_animal)"
      ],
      "execution_count": null,
      "outputs": []
    },
    {
      "cell_type": "code",
      "metadata": {
        "id": "skmFa1otmkUi"
      },
      "source": [
        "#Criando uma Tuppla usa ()\n",
        "tupla = (1,10,12,14)\n",
        "print(tupla[1])"
      ],
      "execution_count": null,
      "outputs": []
    },
    {
      "cell_type": "code",
      "metadata": {
        "id": "XAJENOW9ynYy"
      },
      "source": [
        "#para saber quantos registros existem na tuppla ou lista\n",
        "print(len(tupla))\n",
        "print(tupla)"
      ],
      "execution_count": null,
      "outputs": []
    },
    {
      "cell_type": "code",
      "metadata": {
        "id": "LygGSlgsyvxw"
      },
      "source": [
        "#converter lista em tupla\n",
        "tupla_animal = tuple(lista_animal)\n",
        "print(type(tupla_animal))\n",
        "print(tupla_animal)"
      ],
      "execution_count": null,
      "outputs": []
    },
    {
      "cell_type": "code",
      "metadata": {
        "id": "1I-qdLOty8Pi"
      },
      "source": [
        "#converter tupla em lista\n",
        "lista_animal = list(tupla_animal)\n",
        "print(type(lista_animal))\n",
        "print(lista_animal)"
      ],
      "execution_count": null,
      "outputs": []
    },
    {
      "cell_type": "markdown",
      "metadata": {
        "id": "zV0UvKsVbUJc"
      },
      "source": [
        "**Existe:**\n",
        "  \n",
        "  **Lista [] tipo list**\n",
        "\n",
        "  **Tuppla () tipo tupple - não deixa alterar**\n",
        "\n",
        "  **Conjunto {} tipo set - não existe duplicados**\n"
      ]
    },
    {
      "cell_type": "markdown",
      "metadata": {
        "id": "lqN51imraTQO"
      },
      "source": [
        "**Conjuntos**"
      ]
    },
    {
      "cell_type": "code",
      "metadata": {
        "id": "EGc1_T5BaYHd"
      },
      "source": [
        "#Criando um conjunto usa {}\n",
        "#tipo de conjunto é o SET\n",
        "conjunto = {1,2,3,4}\n",
        "\n",
        "print(type(conjunto))"
      ],
      "execution_count": null,
      "outputs": []
    },
    {
      "cell_type": "code",
      "metadata": {
        "id": "wBm77vrIbhdz"
      },
      "source": [
        "#Adicionando elemento a um conjunto\n",
        "conjunto.add(int(input('Escreva numero para adicionar ao conjunto: ')))\n",
        "print((conjunto))"
      ],
      "execution_count": null,
      "outputs": []
    },
    {
      "cell_type": "code",
      "metadata": {
        "id": "1sjK9WRHcILU"
      },
      "source": [
        "#remover elemento\n",
        "conjunto.discard(8) #remove exatamente o numero que digitou, não a posição\n",
        "print(conjunto)"
      ],
      "execution_count": null,
      "outputs": []
    },
    {
      "cell_type": "code",
      "metadata": {
        "id": "bE8x3v_YcWDx"
      },
      "source": [
        "#testando remover\n",
        "conjunto.discard(int(input('Digite numero para remover: ')))"
      ],
      "execution_count": null,
      "outputs": []
    },
    {
      "cell_type": "code",
      "metadata": {
        "id": "D3JNnkwKdlqR"
      },
      "source": [
        "#Criando outro conjunto para unir os conjuntos\n",
        "#conjunto {3, 4, 2, 5, 8}\n",
        "#conjunto2 {1, 2, 3, 4, 5}\n",
        "#resultado {1, 2, 3, 4, 5, 8}\n",
        "conjunto2 = {1,2,3,4,5}\n",
        "conjunto_uniao = conjunto.union(conjunto2)\n",
        "print(conjunto_uniao)"
      ],
      "execution_count": null,
      "outputs": []
    },
    {
      "cell_type": "code",
      "metadata": {
        "id": "bUbFF_Q3cgWK"
      },
      "source": [
        "#Intersecção mostrar o que existe em comum em dois conjuntos usa intersection\n",
        "conjunto_interseccao = conjunto.intersection(conjunto2)\n",
        "print(conjunto_interseccao)\n",
        "\n",
        "conjunto3 = {5,9}\n",
        "conjunto_interseccao = conjunto3.intersection(conjunto2)\n",
        "print(conjunto_interseccao)"
      ],
      "execution_count": null,
      "outputs": []
    },
    {
      "cell_type": "code",
      "metadata": {
        "id": "aB3-kN93h3HK"
      },
      "source": [
        "#verificando a diferença entre os conjuntos\n",
        "print(conjunto_interseccao)\n",
        "print(conjunto2)\n",
        "\n",
        "conjunto_diferenca = conjunto2.difference(conjunto_interseccao)\n",
        "\n",
        "print('diferença: {}'.format(conjunto_diferenca))\n",
        "print(conjunto_diferenca)"
      ],
      "execution_count": null,
      "outputs": []
    },
    {
      "cell_type": "code",
      "metadata": {
        "id": "Tgethx3yqQ_9"
      },
      "source": [
        "#Diferença simetrica, tudo que não tem nos dois\n",
        "#tem no A e não tem no B\n",
        "#tem no B e não tem no A\n",
        "print(conjunto)\n",
        "print(conjunto2)\n",
        "conjunto_dif_simetrica = conjunto.symmetric_difference(conjunto2)\n",
        "print(conjunto_dif_simetrica)\n"
      ],
      "execution_count": null,
      "outputs": []
    },
    {
      "cell_type": "code",
      "metadata": {
        "id": "_rQhjeGkvkIs"
      },
      "source": [
        "#Pertinencia\n",
        "#se um conjunto é um sub conjunto do outro conjunto\n",
        "# A está dentro de B ? True \n",
        "\n",
        "conjunto_a = {1,2,3}\n",
        "conjunto_b = {1,2,3,4,5}\n",
        "\n",
        "conjunto_subset = conjunto_a.issubset(conjunto_b)\n",
        "conjunto_subset2 = conjunto_b.issubset(conjunto_a)\n",
        "print(conjunto_subset)\n",
        "print(conjunto_subset2)"
      ],
      "execution_count": null,
      "outputs": []
    },
    {
      "cell_type": "code",
      "metadata": {
        "id": "fBPWGJcswVHT"
      },
      "source": [
        "#se um conjunto é um super conjunto de outro conjunto\n",
        "# B é um superconjunto de A ? True\n",
        "conjunto_superset = conjunto_b.issuperset(conjunto_a)\n",
        "print('conjunto B: {}'.format(conjunto_b))\n",
        "print('conjunto A: {}'.format(conjunto_a))\n",
        "print('resposta: {}'.format(conjunto_superset))\n",
        "\n",
        "conjunto_superset2 = conjunto_a.issuperset(conjunto_b)\n",
        "print('resposta2: {}'.format(conjunto_superset2))"
      ],
      "execution_count": null,
      "outputs": []
    },
    {
      "cell_type": "code",
      "metadata": {
        "id": "ihQclVzmx7Po"
      },
      "source": [
        "#Converter uma lista para conjunto\n",
        "#preciso remover a duplicidade de cachorro\n",
        "#ja que conjunto não tem duplicidade\n",
        "#converter lista para conjunto\n",
        "lista = ['cachorro', 'cachorro', 'gato', 'elefante']\n",
        "conjunto_animais = set(lista)\n",
        "print('lista {}'.format(lista))\n",
        "print('tipo da lista {}'.format(type(lista)))\n",
        "print('conjunto {}'.format(conjunto_animais))\n",
        "print('tipo conjunto {}'.format(type(conjunto_animais)))\n",
        "\n",
        "#converter conjunto para lista\n",
        "lista_animais = list(conjunto_animais)\n",
        "print('lista animais {}'.format(lista_animais))\n",
        "print('tipo da lista animais {}'.format(type(lista_animais)))\n",
        "print('tupla {}'.format(tupla))\n",
        "print('tipo da tupla {}'.format(type(tupla)))"
      ],
      "execution_count": null,
      "outputs": []
    },
    {
      "cell_type": "markdown",
      "metadata": {
        "id": "-7n4UhbA-KqE"
      },
      "source": [
        "\n",
        "  **Lista [] tipo list**\n",
        "\n",
        "  **Tuppla () tipo tupple - não deixa alterar**\n",
        "\n",
        "  **Conjunto {} tipo set - não existe duplicados**"
      ]
    },
    {
      "cell_type": "markdown",
      "metadata": {
        "id": "Q035QR2R7MU5"
      },
      "source": [
        "**Classes e Funções**\n",
        "\n",
        "função = tudo que retorna valor\n",
        "\n",
        "metodo (definição) def = não retorna | precisa declarar parametros\n"
      ]
    },
    {
      "cell_type": "code",
      "metadata": {
        "id": "d6DFUbLu7PTG"
      },
      "source": [
        "#criando metodos utiliza def e passar os parametros\n",
        "def vaisomar (a, b):\n",
        "  return a + b\n",
        "\n",
        "def subtrair (a,b):\n",
        "  return a-b\n",
        "\n",
        "print(vaisomar(7,2))\n",
        "print(subtrair(8,4))"
      ],
      "execution_count": null,
      "outputs": []
    },
    {
      "cell_type": "code",
      "metadata": {
        "id": "gjzu2ViPyk8G"
      },
      "source": [
        "def findnumer (arr,k):\n",
        "  arr."
      ],
      "execution_count": null,
      "outputs": []
    },
    {
      "cell_type": "code",
      "metadata": {
        "id": "E8yYKEy6990i"
      },
      "source": [
        "#Criando classes\n",
        "#Calculadora 1\n",
        "class Calculadora:\n",
        "  def __init__(self, num1, num2):\n",
        "    self.valor_a = num1\n",
        "    self.valor_b = num2\n",
        "\n",
        "  def soma(self):\n",
        "    return self.valor_a + self.valor_b\n",
        "\n",
        "  def subtrair(self):\n",
        "    return self.valor_a - self.valor_b\n",
        "\n",
        "calculadora = Calculadora(10, 2)\n",
        "print('numero A: {}'.format(calculadora.valor_a))\n",
        "print('numero B: {}'.format(calculadora.valor_b))\n",
        "print('soma de A + B: {}'.format(calculadora.soma()))\n",
        "print('subtração de A - B: {}'.format(calculadora.subtrair()))"
      ],
      "execution_count": null,
      "outputs": []
    },
    {
      "cell_type": "code",
      "metadata": {
        "id": "vCNd2YrNXGBb"
      },
      "source": [
        "class Veiculo:\n",
        "  def __init__(self, cor, rodas, marca, tanque):\n",
        "    self.cor = cor\n",
        "    self.rodas = rodas\n",
        "    self.marca = marca\n",
        "    self.tanque = tanque\n",
        "\n",
        "veiculo = Veiculo()\n",
        "\n",
        "caminhao_rosa = veiculo('rosa', 6, 'ford', 10)\n",
        "print(caminhao_rosa)\n",
        "\n",
        "#**************\n",
        "#class Veiculo:\n",
        " # def __init__(self,cor,rodas,marca,tanque):\n",
        "\n",
        "#caminhao_rosa = Veiculo('rosa',6,'ford',10) \n",
        "\n",
        "#print(caminhao_rosa)\n",
        "#print(\"Cor: \", caminhao_rosa.cor)\n",
        "#print(\"Marca: \"caminhao_rosa.marca)\n",
        "#print(\"Tanque: \"caminhao_rosa.marca)\n",
        "\n",
        "#carro_azul = veiculo('azul, 4, 'bmw', 30)\n",
        "\n",
        "#print(carro_azul)\n",
        "#print(\"Cor: \", carro_azul.cor)\n",
        "#print(\"Marca: \"carro_azul.marca)\n",
        "#print(\"Tanque: \"carro_azul.marca)\n"
      ],
      "execution_count": null,
      "outputs": []
    },
    {
      "cell_type": "code",
      "metadata": {
        "id": "CEEl9gKLJtmK"
      },
      "source": [
        "#Criando classes\n",
        "#Calculadora 2\n",
        "class Calculadora:\n",
        "  #def __init__(self):\n",
        "   #pass #apenas para não ficar vazio\n",
        "\n",
        "  def soma(self, valor_a, valor_b):\n",
        "    return valor_a + valor_b\n",
        "\n",
        "  def subtrair(self, valor_a, valor_b):\n",
        "    return valor_a - valor_b\n",
        "\n",
        "calculadora = Calculadora()\n",
        "print('soma de A + B: {}'.format(calculadora.soma(10, 2)))\n",
        "print('subtração de A - B: {}'.format(calculadora.subtrair(5, 3)))"
      ],
      "execution_count": null,
      "outputs": []
    },
    {
      "cell_type": "code",
      "metadata": {
        "id": "yzTss1QjmPWf"
      },
      "source": [
        "nome = str(input('Digite seu nome'))\n",
        "peso = int(input('Digite seu peso'))\n",
        "altura = float(input('Digite sua altura'))\n",
        "idade = int(input('Digite ano nascimento'))\n",
        "\n",
        "validacao_idade = 2021 - idade\n",
        "\n",
        "if validacao_idade > 18 and peso >= 60 and altura >=1.70:\n",
        "  print(nome + \"ESTA APTO\")\n",
        "\n",
        "else:\n",
        "  print(nome + \"NAO APTO\")"
      ],
      "execution_count": null,
      "outputs": []
    },
    {
      "cell_type": "markdown",
      "metadata": {
        "id": "KKs8U4tMJiiX"
      },
      "source": [
        "**Criando uma Televisao usando classe e metodo**\n",
        "\n",
        "Conceitos de orientação a objetos"
      ]
    },
    {
      "cell_type": "code",
      "metadata": {
        "id": "I_lXGnJ93rbO"
      },
      "source": [
        "class Televisao:\n",
        "  def __init__(self):\n",
        "    self.ligada = False\n",
        "    self.canal = 5\n",
        "\n",
        "  def power(self):\n",
        "    if self.ligada == True:\n",
        "      self.ligada = False\n",
        "    else:\n",
        "      self.ligada = True\n",
        "\n",
        "  def aumenta_canal(self):\n",
        "      if self.ligada == True:\n",
        "        self.canal += 1\n",
        "\n",
        "  def diminui_canal(self):\n",
        "      if self.ligada == True:\n",
        "        self.canal -= 1\n",
        "\n",
        "print(__name__)\n",
        "if __name__ == '__main__':\n",
        "  televisao = Televisao() #classe Televisao\n",
        "  print('Televisão está ligada: {}'.format(televisao.ligada)) #False\n",
        "  televisao.power()\n",
        "  print('Televisão está ligada: {}'.format(televisao.ligada)) #True\n",
        "  televisao.power()\n",
        "  print('Televisão está ligada: {}'.format(televisao.ligada)) #False\n",
        "\n",
        "  #incluindo canal padrão que é 5\n",
        "  print('Canal é: {}'.format(televisao.canal))\n",
        "\n",
        "  #primeiramente ligando TV\n",
        "  televisao.power() #True\n",
        "  print('Televisão está ligada: {}'.format(televisao.ligada)) #False\n",
        "  #Apertando para mudar canal +\n",
        "  televisao.aumenta_canal()\n",
        "  televisao.aumenta_canal()\n",
        "  televisao.aumenta_canal()\n",
        "  televisao.aumenta_canal()\n",
        "\n",
        "  #Apertando para mudar canal -\n",
        "  televisao.diminui_canal()\n",
        "  televisao.diminui_canal()\n",
        "\n",
        "  print('Canal é: {}'.format(televisao.canal))\n"
      ],
      "execution_count": null,
      "outputs": []
    },
    {
      "cell_type": "markdown",
      "metadata": {
        "id": "6CFw0FMEYJ8Q"
      },
      "source": [
        "**Modulos**\n",
        "\n",
        "cada arquivo .py é um modulo\n",
        "\n",
        "importando o modulo é possivel acessar qualquer classe inteira ou metodo que tenha neste modulo.\n",
        "\n",
        "\n",
        "\n"
      ]
    },
    {
      "cell_type": "code",
      "metadata": {
        "id": "yTe6yTS_YIxi"
      },
      "source": [
        "#duas opções de import classe de outro modulo\n",
        "\n",
        "#import aula7_televisao\n",
        "#from aula7_televisao import Televisao\n",
        "#televisao = Televisao()"
      ],
      "execution_count": null,
      "outputs": []
    },
    {
      "cell_type": "code",
      "metadata": {
        "id": "7hEXQMCY5A4t"
      },
      "source": [
        "#Contador de palavras\n",
        "def contador_letras (lista_palavras):\n",
        "  contador = []\n",
        "\n",
        "  for x in lista_palavras:\n",
        "    quantidade = len(x)\n",
        "    contador.append(quantidade)\n",
        "  return(contador)\n",
        "\n",
        "if __name__ == '__main__':\n",
        "  lista = ['cachorro', 'gato']\n",
        "  print(contador_letras(lista))\n",
        "\n",
        "#lista2 = ['Murilo', 'Thamie', 'Bruna']\n",
        "#total_letras = contador_letras(lista2)\n",
        "#print('total de letras da lista é {}'.format(total_letras))\n"
      ],
      "execution_count": null,
      "outputs": []
    },
    {
      "cell_type": "markdown",
      "metadata": {
        "id": "Ss1IsxRf_39N"
      },
      "source": [
        "**Lambda** Funcao anonima"
      ]
    },
    {
      "cell_type": "code",
      "metadata": {
        "id": "jUwmWW_P_6hM"
      },
      "source": [
        "#Criando contador de letras com função lambda\n",
        "contador_letras = lambda lista: [len(x) for x in lista]\n",
        "lista_animais = ['cachorro', 'gato', 'elefante']\n",
        "contador_letras(lista_animais)\n"
      ],
      "execution_count": null,
      "outputs": []
    },
    {
      "cell_type": "code",
      "metadata": {
        "id": "TcKfC5kfBFhr"
      },
      "source": [
        "frase = 'oi mundo'\n",
        "print(frase[4])"
      ],
      "execution_count": null,
      "outputs": []
    },
    {
      "cell_type": "code",
      "metadata": {
        "id": "1l7NWK6kBl2T"
      },
      "source": [
        "lista_nome = ['murilo', 'ronnan', 'teste'] \n",
        "lista_nome[0] = 'Roberta'\n",
        "print(lista_nome)\n"
      ],
      "execution_count": null,
      "outputs": []
    },
    {
      "cell_type": "code",
      "metadata": {
        "id": "9i-GCJrXDo06"
      },
      "source": [
        "#Criando calculadora com o lambda"
      ],
      "execution_count": null,
      "outputs": []
    },
    {
      "cell_type": "code",
      "metadata": {
        "id": "aK3YNBtCDxWK"
      },
      "source": [
        "soma = lambda a,b: a + b \n",
        "subtracao = lambda a,b: a-b\n",
        "print(soma(5,10))\n",
        "print(subtracao(10,5))"
      ],
      "execution_count": null,
      "outputs": []
    },
    {
      "cell_type": "code",
      "metadata": {
        "id": "srxMTlbLEfJD"
      },
      "source": [
        "#Criando calculadora com o lambda com função anonima\n",
        "calculadora = {\n",
        "    'soma': lambda a, b: a + b,\n",
        "    'subtracao': lambda a,b: a-b,\n",
        "    'divisao': lambda a,b: a/b,\n",
        "    'multiplicacao': lambda a,b: a*b\n",
        "    }\n",
        "print(type(calculadora))\n",
        "soma = calculadora['soma']\n",
        "subtracao = calculadora['subtracao']\n",
        "divisao = calculadora['divisao']\n",
        "multiplicacao = calculadora['multiplicacao']\n",
        "print('A soma é: {}'.format(soma(10,5)))\n",
        "print('A subtração é {}'.format(subtracao(10,5)))\n",
        "print('A divisaão é: {}'.format(divisao(10,2)))\n",
        "print('A multiplicação é: {}'.format(multiplicacao(5,10)))"
      ],
      "execution_count": null,
      "outputs": []
    },
    {
      "cell_type": "code",
      "metadata": {
        "id": "ZRjDIKcRJiRN"
      },
      "source": [
        "nomes = ['murilo', 'guilherme','erica']\n",
        "\n",
        "for x in nomes:\n",
        "\n",
        "  print(x)"
      ],
      "execution_count": null,
      "outputs": []
    },
    {
      "cell_type": "code",
      "metadata": {
        "id": "YVqNa7k-KoBk"
      },
      "source": [
        "nome = 1, 2, 3, 4\n",
        "for x in nome:\n",
        "  print(x)"
      ],
      "execution_count": null,
      "outputs": []
    },
    {
      "cell_type": "markdown",
      "metadata": {
        "id": "IN7-dsIiWpXk"
      },
      "source": [
        "**Ler, Escrever e Manipular Arquivos**\n"
      ]
    },
    {
      "cell_type": "code",
      "metadata": {
        "id": "yD6PZb5yWsUU"
      },
      "source": [
        "#criando um arquivo\n",
        "arquivo = open('teste.txt', 'w') #w para escrever\n",
        "arquivo.write('Minha primeira escrita')\n",
        "arquivo.close()\n",
        "\n"
      ],
      "execution_count": null,
      "outputs": []
    },
    {
      "cell_type": "code",
      "metadata": {
        "id": "D50ZYCZkQ6lE"
      },
      "source": [
        "#para atualizar um o arquivo, voce precisa abrir o arquivo com 'a'\n",
        "arquivo = open('teste.txt', 'a')\n",
        "arquivo.write('\\ntestando escrita')\n",
        "arquivo.close()"
      ],
      "execution_count": null,
      "outputs": []
    },
    {
      "cell_type": "code",
      "metadata": {
        "id": "g8dHRFXuYfhl"
      },
      "source": [
        "#Criando uma função para que de acordo com valores inseridos em um txt\n",
        "#seja calculado a media e inserido em outro arquivo txt\n",
        "\n",
        "#definindo\n",
        "import shutil #para copiar e mover\n",
        "\n",
        "#função write\n",
        "def escrever_arquivo(texto):\n",
        "  arquivo = open('teste.txt', 'w') #write\n",
        "  arquivo.write(texto)\n",
        "  arquivo.closed\n",
        "  \n",
        "#função atualizar\n",
        "def atualizar_arquivo(nome_arquivo, texto):\n",
        "  arquivo = open(nome_arquivo, 'a') #atualizar\n",
        "  arquivo.write(texto)\n",
        "  arquivo.closed\n",
        "\n",
        "#função ler\n",
        "def ler_arquivo(nome_arquivo):\n",
        "  arquivo = open(nome_arquivo, 'r')#read\n",
        "  texto = arquivo.read()\n",
        "  print(texto)\n",
        "\n",
        "#função media notas\n",
        "def media_notas(nome_arquivo):\n",
        "  arquivo = open(nome_arquivo, 'r')\n",
        "  aluno_nota = arquivo.read()\n",
        "  aluno_nota = aluno_nota.split('\\n') #split para gerar lista separado por quebra linha\n",
        "  print('1 Arquivo original: ', aluno_nota)\n",
        "  lista_media = []\n",
        "  for x in aluno_nota:\n",
        "    lista_notas = x.split(',') #split para gerar lista separado por ,\n",
        "    print('2 Lista separado: ', lista_notas) #lista completo\n",
        "    aluno = lista_notas[0]\n",
        "    print('3 So aluno: ', aluno) #so aluno\n",
        "    lista_notas.pop(0) #pop 0 para remover primeiro item da lista\n",
        "    print('4 todas as notas', lista_notas) #so notas\n",
        "    \n",
        "    media = lambda notas: sum([int(i) for i in notas])/4\n",
        "    print('5 somente media', media(lista_notas))\n",
        "    lista_media.append({aluno:media(lista_notas)})\n",
        "    media_print = media(lista_notas)\n",
        "\n",
        "    arquivo = open('resultado.txt', 'a') #write\n",
        "    arquivo.write(str(aluno)+' : '+str(media_print)+'\\n')\n",
        "    arquivo.closed\n",
        "\n",
        "    valor = str(media(lista_notas))\n",
        "   \n",
        "    resultado = str(lista_media)\n",
        "    \n",
        "    #arquivo = open('resultado.txt', 'a') #write\n",
        "    #arquivo.write(resultado)\n",
        "    #arquivo.closed\n",
        "\n",
        "    #print('Resultado: ' + resultado)\n",
        "\n",
        "  return lista_media\n",
        "\n",
        "  #X arquivo = open('teste.txt', 'w') #write\n",
        "  #X arquivo.write(resultado)\n",
        "  #X arquivo.closed\n",
        "\n",
        "#função copiar\n",
        "def copia_arquivo(nome_arquivo):\n",
        "  shutil.copy(nome_arquivo, '/content/notas2.txt')\n",
        "\n",
        "#função para mover\n",
        "def move_arquivo(nome_arquivo):\n",
        "  shutil.move(nome_arquivo, '/content/sample_data')\n",
        "\n",
        "if __name__ == '__main__':\n",
        "  #copia_arquivo('notas.txt')\n",
        "  #move_arquivo('notas.txt')\n",
        "  media_notas('teste.txt')\n",
        "  #escrever_arquivo(resultado)\n",
        "  #aluno ='rafael,2,1,10,10\\n'\n",
        "  #atualizar_arquivo('teste.txt', aluno)\n",
        "  #ler_arquivo('teste.txt')\n",
        "  #lista_media = media_notas('notas.txt')\n",
        "  #print(lista_media)\n",
        "\n"
      ],
      "execution_count": null,
      "outputs": []
    },
    {
      "cell_type": "code",
      "metadata": {
        "colab": {
          "base_uri": "https://localhost:8080/"
        },
        "id": "OdVcoKKdUN3J",
        "outputId": "239fc083-38e3-41e8-8ad6-4565418214a5"
      },
      "source": [
        "#TRABALHANDO COM A FUNÇÃO DATE | TIME | DATETIME\n",
        "#https://docs.python.org/3/library/datetime.html\n",
        "\n",
        "from datetime import date\n",
        "from datetime import time\n",
        "from datetime import datetime\n",
        "from datetime import timedelta\n",
        "\n",
        "\n",
        "def trabalhando_com_date():\n",
        "  data_atual = date.today()\n",
        "  data_atual_brasil = data_atual.strftime('%d-%m-%Y') #utilizando Y maiusculo tras toda a data em maiusculo\n",
        "  #print('Ano-mes-dia:', data_atual) #ano-mes-dia\n",
        "  #print('dia-mes-ano: ', data_atual_brasil) #dia-mes-ano\n",
        "  #print('formatado: ', data_atual.strftime('%A %B %Y') )\n",
        "  print(type(data_atual)) #datetime.date\n",
        "  print(type(data_atual_brasil)) #str\n",
        "\n",
        "def trabalhando_com_time():\n",
        "  horario = time(hour=15, minute=18, second=30)\n",
        "  print(type(horario))\n",
        "\n",
        "  horario_str = horario.strftime('%H : %M : %S')\n",
        "  print(type(horario_str))\n",
        "\n",
        "def trabalhando_com_datetime():\n",
        "  data_atual = datetime.now()\n",
        "\n",
        "  print(data_atual)\n",
        "  print(type(data_atual))\n",
        "\n",
        "  print('\\n')\n",
        "\n",
        "  data_convertida = data_atual.strftime('%d-%m-%Y  /  %H-%M-%S')\n",
        "  print(data_convertida)\n",
        "  print(type(data_convertida))\n",
        "\n",
        "  print('\\n')\n",
        "\n",
        "  data_diferente = data_atual.strftime('%c')\n",
        "  print(data_diferente)\n",
        "  print(type(data_diferente))\n",
        "\n",
        "  print('\\n')\n",
        "\n",
        "  dia = data_atual.day\n",
        "  print(dia)\n",
        "  print(type(dia))\n",
        "\n",
        "  print('\\n')\n",
        "\n",
        "  ano = data_atual.year\n",
        "  print(ano)\n",
        "  print(type(ano))\n",
        "\n",
        "  print('\\n')\n",
        "\n",
        "  hora = data_atual.hour\n",
        "  print(hora)\n",
        "  print(type(hora))\n",
        "\n",
        "  print('\\n')\n",
        "  \n",
        "  minuto = data_atual.minute\n",
        "  print(minuto)\n",
        "  print(type(minuto))\n",
        "\n",
        "  print('\\n')\n",
        "\n",
        "  dia_semana = data_atual.weekday()\n",
        "  print('dia da semana: ', dia_semana)\n",
        "  print(type(dia_semana))\n",
        "\n",
        "  print('\\n')\n",
        "\n",
        "  mes = data_atual.month\n",
        "  print('mes: ', mes)\n",
        "  print(type(mes))\n",
        "\n",
        "  print('\\n')\n",
        "\n",
        "  tupla = ('Segunda', 'terça', 'quarta', 'quinta', 'sexta', 'sabado', 'domingo')\n",
        "  print(tupla[data_atual.weekday()])\n",
        "  print(type(tupla))\n",
        "\n",
        "  print('\\n')\n",
        "                        #ano mes dia hora min s\n",
        "  data_criada = datetime(2018, 6, 20, 15, 30, 20)\n",
        "  print(data_criada)\n",
        "  print(type(data_criada))\n",
        "\n",
        "  print('\\n')\n",
        "\n",
        "  data_criada_diferente = data_criada.strftime('%c')\n",
        "  print(data_criada_diferente)\n",
        "  print(type(data_criada_diferente))\n",
        "\n",
        "  print('\\n')\n",
        "\n",
        "  data_string = '10-01-2020'\n",
        "  data_convertida = datetime.strptime(data_string, '%d-%m-%Y')\n",
        "  print(data_convertida)\n",
        "  print(type(data_string))\n",
        "  print(type(data_convertida))\n",
        "\n",
        "  print('\\n')\n",
        "\n",
        "  print(data_convertida)\n",
        "  nova_data = data_convertida + timedelta(days=365, hours=2, minutes=15)\n",
        "  print(nova_data)\n",
        "\n",
        " # horario_str = horario.strftime('%H : %M : %S')\n",
        "  #print(horario_str)\n",
        "    \n",
        "if __name__ == '__main__':\n",
        "  #trabalhando_com_date()\n",
        "  #trabalhando_com_time()\n",
        "  trabalhando_com_datetime()\n",
        "\n",
        "\n"
      ],
      "execution_count": null,
      "outputs": [
        {
          "output_type": "stream",
          "text": [
            "2021-08-25 20:19:56.579694\n",
            "<class 'datetime.datetime'>\n",
            "\n",
            "\n",
            "25-08-2021  /  20-19-56\n",
            "<class 'str'>\n",
            "\n",
            "\n",
            "Wed Aug 25 20:19:56 2021\n",
            "<class 'str'>\n",
            "\n",
            "\n",
            "25\n",
            "<class 'int'>\n",
            "\n",
            "\n",
            "2021\n",
            "<class 'int'>\n",
            "\n",
            "\n",
            "20\n",
            "<class 'int'>\n",
            "\n",
            "\n",
            "19\n",
            "<class 'int'>\n",
            "\n",
            "\n",
            "dia da semana:  2\n",
            "<class 'int'>\n",
            "\n",
            "\n",
            "mes:  8\n",
            "<class 'int'>\n",
            "\n",
            "\n",
            "quarta\n",
            "<class 'tuple'>\n",
            "\n",
            "\n",
            "2018-06-20 15:30:20\n",
            "<class 'datetime.datetime'>\n",
            "\n",
            "\n",
            "Wed Jun 20 15:30:20 2018\n",
            "<class 'str'>\n",
            "\n",
            "\n",
            "2020-01-10 00:00:00\n",
            "<class 'str'>\n",
            "<class 'datetime.datetime'>\n",
            "\n",
            "\n",
            "2020-01-10 00:00:00\n",
            "2021-01-09 02:15:00\n"
          ],
          "name": "stdout"
        }
      ]
    },
    {
      "cell_type": "code",
      "metadata": {
        "colab": {
          "base_uri": "https://localhost:8080/"
        },
        "id": "IewJhQyVfpvc",
        "outputId": "742271b2-9c68-49bd-c2d5-9c72f0cda551"
      },
      "source": [
        "import random\n",
        "def gerar_numero(n):\n",
        "\n",
        "  inicio = 0\n",
        "  final = random.randrange(1,10)\n",
        "  lista = []\n",
        "  print(final)\n",
        "  while inicio < final:\n",
        "      n = random.randrange(10,100,10) #de 10 a 100 sendo 10 em 10\n",
        "  \n",
        "      lista.append(n)\n",
        "      inicio = inicio +1\n",
        "\n",
        "  print(lista)\n",
        "\n",
        "if __name__ == '__main__':\n",
        "  gerar_numero(2)\n"
      ],
      "execution_count": 1,
      "outputs": [
        {
          "output_type": "stream",
          "name": "stdout",
          "text": [
            "2\n",
            "[70, 40]\n"
          ]
        }
      ]
    },
    {
      "cell_type": "markdown",
      "metadata": {
        "id": "5MdMe4LnNYdr"
      },
      "source": [
        "**Utilizar tratamento de exceções para erros**"
      ]
    },
    {
      "cell_type": "code",
      "metadata": {
        "colab": {
          "base_uri": "https://localhost:8080/"
        },
        "id": "XK3lQbcRNGXv",
        "outputId": "aecfdd94-6608-4144-eb31-71e698e2555d"
      },
      "source": [
        "#Utilizar tratamento de exceções\n",
        "\n",
        "try:\n",
        "  divisao = 10 /0 \n",
        "  print(divisao)\n",
        "\n",
        "except BaseException as geral :  \n",
        "  print('Erro desconhecido. Erro: {} '.format(geral))\n",
        "    \n",
        "except ZeroDivisionError:\n",
        "  print('Erro: ZeroDivisionError - Não é possivel realizar uma divisao por zero')\n",
        "\n",
        "\n",
        "\n"
      ],
      "execution_count": 48,
      "outputs": [
        {
          "output_type": "stream",
          "name": "stdout",
          "text": [
            "Erro desconhecido. Erro: division by zero \n"
          ]
        }
      ]
    },
    {
      "cell_type": "code",
      "metadata": {
        "colab": {
          "base_uri": "https://localhost:8080/"
        },
        "id": "yYNjYsrjWecF",
        "outputId": "428ace23-7a37-4da8-e2ca-463a8b673cc7"
      },
      "source": [
        "lista = [1,3]\n",
        "\n",
        "try:\n",
        "  numero = lista[5]\n",
        "  print(numero)\n",
        "\n",
        "except BaseException as geral :  \n",
        "  print('Erro desconhecido. Erro: {} '.format(geral))\n",
        "\n",
        "except IndexError:\n",
        "  print('Erro: IndexError - posição nao existe na lista')\n",
        "\n"
      ],
      "execution_count": 61,
      "outputs": [
        {
          "output_type": "stream",
          "name": "stdout",
          "text": [
            "Erro desconhecido. Erro: list index out of range \n"
          ]
        }
      ]
    },
    {
      "cell_type": "code",
      "metadata": {
        "colab": {
          "base_uri": "https://localhost:8080/"
        },
        "id": "jfNgdxQhYss9",
        "outputId": "20c922c8-1efa-4b91-f7bb-ca43624ce97a"
      },
      "source": [
        "#tratando apelido\n",
        "#aprendendo encadeamento\n",
        "\n",
        "try:\n",
        "  arquivo = open('teste.txt', 'r')\n",
        "  text = arquivo.read()\n",
        "  divisao = 10/0\n",
        "  print('fechando o arquivo')\n",
        "  arquivo.close()\n",
        " \n",
        "except Exception as geral :  #se erro mostrar\n",
        "  print('Erro desconhecido. Erro: {} '.format(geral))\n",
        "\n",
        "else: #se nao der erro executa isso:\n",
        "  print('executa isto após a verificação do erro')\n",
        "\n",
        "finally: #independente se der erro ou nao ele executa mesmo com algum erro\n",
        "  print('sempre executa')"
      ],
      "execution_count": 64,
      "outputs": [
        {
          "output_type": "stream",
          "name": "stdout",
          "text": [
            "Erro desconhecido. Erro: division by zero \n",
            "sempre executa\n"
          ]
        }
      ]
    },
    {
      "cell_type": "code",
      "metadata": {
        "id": "JjGwg94s1yUt"
      },
      "source": [
        "#transformar toda nota maior que 10\n",
        "#se digitar algo diferente de numero excessao\n",
        "#criando uma classe herdando de erro, primeiro tem que ter uma classe error exception mesmo que nao contenha nada pass\n",
        "\n",
        "class Error(Exception):\n",
        "  pass\n",
        "\n",
        "class InputError(Error):\n",
        "  def __init__(self, message):\n",
        "    self.message = message\n",
        "\n",
        "\n",
        "while True:\n",
        "\n",
        "  try:\n",
        "    x = int(input('entre com uma nota de 0 a 10: '))\n",
        "    print(x)\n",
        "\n",
        "    if x > 10:\n",
        "      raise InputError('nota não pode ser maior do que 10') #raise serve para forçar uma excessão\n",
        "    elif x < 0:\n",
        "      raise InputError('nota não pode ser menor do que 0') #raise serve para forçar uma excessão\n",
        "    break #força saida do looping\n",
        "\n",
        "  except Exception as geral: #se der erro\n",
        "      print('Erro desconhecido. Erro: {} '.format(geral))\n",
        "\n"
      ],
      "execution_count": null,
      "outputs": []
    }
  ]
}