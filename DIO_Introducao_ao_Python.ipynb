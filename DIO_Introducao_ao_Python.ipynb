{
  "nbformat": 4,
  "nbformat_minor": 0,
  "metadata": {
    "colab": {
      "name": "DIO_Introducao_ao_Python.ipynb",
      "provenance": [],
      "collapsed_sections": [],
      "authorship_tag": "ABX9TyM4jIt+1MMTwJnMYnvp8pdq",
      "include_colab_link": true
    },
    "kernelspec": {
      "name": "python3",
      "display_name": "Python 3"
    },
    "language_info": {
      "name": "python"
    }
  },
  "cells": [
    {
      "cell_type": "markdown",
      "metadata": {
        "id": "view-in-github",
        "colab_type": "text"
      },
      "source": [
        "<a href=\"https://colab.research.google.com/github/murilofarias10/AnaliseComPython/blob/main/DIO_Introducao_ao_Python.ipynb\" target=\"_parent\"><img src=\"https://colab.research.google.com/assets/colab-badge.svg\" alt=\"Open In Colab\"/></a>"
      ]
    },
    {
      "cell_type": "code",
      "metadata": {
        "colab": {
          "base_uri": "https://localhost:8080/"
        },
        "id": "Hngkh63v5Ytx",
        "outputId": "01373df1-71c4-44d7-d8da-1a1c28b91382"
      },
      "source": [
        "nome = 'murilo'\n",
        "salario = 1500.00\n",
        "print(nome)\n",
        "print(salario)\n",
        "print('salario é:', salario, nome)"
      ],
      "execution_count": null,
      "outputs": [
        {
          "output_type": "stream",
          "text": [
            "murilo\n",
            "1500.0\n",
            "salario é: 1500.0 murilo\n"
          ],
          "name": "stdout"
        }
      ]
    },
    {
      "cell_type": "markdown",
      "metadata": {
        "id": "9BRVjuUEUKeD"
      },
      "source": [
        "**Aula: IF, ELSE, ELIF**"
      ]
    },
    {
      "cell_type": "code",
      "metadata": {
        "id": "FdS8wjxz4dVI"
      },
      "source": [
        "\n",
        "#Condição IF\n",
        "a = int(input('Primeiro valor: '))\n",
        "b = int(input('Segundo valor: '))\n",
        "c = int(input('Terceiro valor: '))\n",
        "\n",
        "#usando identação\n",
        "if a > b and a > c:\n",
        "    print('o maior numero é {}'.format(a))\n",
        "\n",
        "#else com if elif\n",
        "elif b > a and b > c:\n",
        "  print('o maior número é {}'.format(b)) \n",
        "\n",
        "else:\n",
        "  print('o maior número é {}'.format(c))\n",
        "\n",
        "#usando identação  para encerrar o programa\n",
        "print('final do programa')"
      ],
      "execution_count": null,
      "outputs": []
    },
    {
      "cell_type": "code",
      "metadata": {
        "id": "4_0WQCgk6WsB"
      },
      "source": [
        "#verificando se o numero é par\n",
        "#Ao utilizar % estamos indicando que queremos o RESTO da divisão\n",
        "a = int(input('Entre com um valor: '))\n",
        "resto = a % 2\n",
        "\n",
        "if resto == 0:\n",
        "  print('numero é par')\n",
        "\n",
        "else:\n",
        "  print ('numero é impar')"
      ],
      "execution_count": null,
      "outputs": []
    },
    {
      "cell_type": "code",
      "metadata": {
        "id": "betVC6MI9e6y"
      },
      "source": [
        "#verificar se existe um numero par entre dois numero digitados\n",
        "\n",
        "a = int(input('Entre com primeiro valor'))\n",
        "b = int(input('Entre com primeiro valor'))\n",
        "\n",
        "resto_a = a % 2\n",
        "resto_b = b % 2\n",
        "\n",
        "#outra maneira: if resto_a == 0 or not resto_b > 0:\n",
        "if resto_a ==0 or resto_b ==0:\n",
        "  print('sim um numero é par')\n",
        "\n",
        "else:\n",
        "    print('nao tem numero par'\n",
        "    )"
      ],
      "execution_count": null,
      "outputs": []
    },
    {
      "cell_type": "code",
      "metadata": {
        "id": "cdD6_Ipl-Rzg"
      },
      "source": [
        "#solicitar as notas bimestrais e tirar media\n",
        "#tambem validar as notas\n",
        "\n",
        "a = int(input('Primeiro Bimestre: '))\n",
        "while a > 10:\n",
        "    a = int(input('Voce digitou errado, digite novamente primeiro bimestre'))\n",
        "b = int(input('Segundo Bimestre: '))\n",
        "while b > 10:\n",
        "    b = int(input('Voce digitou errado, digite novamente Segundo bimestre'))\n",
        "c = int(input('Terceiro Bimestre: '))\n",
        "while c > 10:\n",
        "    c = int(input('Voce digitou errado, digite novamente Terceiro bimestre'))\n",
        "d = int(input('Quarto Bimestre: '))\n",
        "while d > 10:\n",
        "    d = int(input('Voce digitou errado, digite novamente Quarto bimestre'))\n",
        "\n",
        "media = (a + b + c + d)/4\n",
        "\n",
        "if a <= 10 and b <= 10 and c <= 10 and d <= 10:\n",
        "  print('media: {}'.format(media))\n",
        "  1\n",
        "else:\n",
        "    print('informado nota errada')"
      ],
      "execution_count": null,
      "outputs": []
    },
    {
      "cell_type": "markdown",
      "metadata": {
        "id": "403_jS2AU4Z5"
      },
      "source": [
        "**Aula: Laços de repetição: For, While, Range**"
      ]
    },
    {
      "cell_type": "code",
      "metadata": {
        "id": "-YBnxQobU_Uo"
      },
      "source": [
        "#Imprimir os 100 primeiros numero a partir do 0\n",
        "#range (inicio, até qual valor)\n",
        "for x in range(10, 100):\n",
        "  print(x)"
      ],
      "execution_count": null,
      "outputs": []
    },
    {
      "cell_type": "code",
      "metadata": {
        "id": "A29lOBKlVgKo"
      },
      "source": [
        "#Solicitar para usuario digitar numero\n",
        "#Verificar se é PRIMO (divisivel por 1 e por ele mesmo)\n",
        "a = int(input('Entre com um numero: '))\n",
        "\n",
        "div = 0\n",
        "\n",
        "for x in range(1, a+1):\n",
        "  resto = a % x\n",
        "  print(x, resto)\n",
        "  if resto ==0:\n",
        "    div = div +1 #outra maneira: div += 1 incremento do div\n",
        "\n",
        "if div ==2:\n",
        "  print('Numero {} é primo'.format(a))\n",
        "\n",
        "else:\n",
        "  print('Numero {} não é primo'.format(a))\n",
        "\n",
        "\n"
      ],
      "execution_count": null,
      "outputs": []
    },
    {
      "cell_type": "code",
      "metadata": {
        "id": "Ik2i-jTZepNp"
      },
      "source": [
        "#Solicitar para usuario digitar numero\n",
        "#Verificar se é PRIMO (divisivel por 1 e por ele mesmo)\n",
        "#Verificar quais são os primos entre os valores que o usuario digitar\n",
        "a = int(input('Entre com um valor'))\n",
        "for num in range(1, a):\n",
        "  div = 0\n",
        "  for x in range(1, num+1):\n",
        "    resto = num % x\n",
        "    if resto == 0:\n",
        "      div = div +1 #outra maneira: div += 1 incremento do div\n",
        "  if div ==2:\n",
        "    print(num)\n"
      ],
      "execution_count": null,
      "outputs": []
    },
    {
      "cell_type": "code",
      "metadata": {
        "id": "lou3pJF3hd3D"
      },
      "source": [
        "#utilizando while\n",
        "nota = int(input('Entre com a nota: '))\n",
        "while nota > 10:\n",
        "  nota = int(input('Nota errada, preencha novamente'))\n",
        " \n"
      ],
      "execution_count": null,
      "outputs": []
    },
    {
      "cell_type": "markdown",
      "metadata": {
        "id": "Gvxu-Ak1FoVz"
      },
      "source": [
        "**Aula: Listas e Tuplas**"
      ]
    },
    {
      "cell_type": "code",
      "metadata": {
        "id": "F4-TPY2OFtyr"
      },
      "source": [
        "#Criar uma lista usa []\n",
        "lista = [1, 3 ,5 ,7]\n",
        "lista_animal = ['cachorro', 'gato', 'elefante']\n",
        "#print(lista)\n",
        "#print(type(lista))\n",
        "print(lista_animal[0])\n",
        "\n",
        "for x in lista_animal:\n",
        "  print(x)"
      ],
      "execution_count": null,
      "outputs": []
    },
    {
      "cell_type": "code",
      "metadata": {
        "id": "yqmvqRceLPXr"
      },
      "source": [
        "soma = 0\n",
        "for element in lista:\n",
        "  print(element)\n",
        "  soma += element\n",
        "\n",
        "\n",
        "print(soma)\n"
      ],
      "execution_count": null,
      "outputs": []
    },
    {
      "cell_type": "code",
      "metadata": {
        "id": "J8qzsjZVRMk_"
      },
      "source": [
        "#para somar elementos\n",
        "#print(sum(lista))\n",
        "\n",
        "#trazer o menor valor\n",
        "#min menor valor\n",
        "print (max(lista))\n",
        "\n",
        "#validando se ja existe um elemento na lista e inserir\n",
        "\n",
        "a = input('Digite o animal: ')\n",
        "if a in lista_animal:\n",
        "  print('existe na lista: ' + a)\n",
        "\n",
        "else:\n",
        "  print('nao existe: ' + a)\n",
        "  #incluindo novos registro na lista\n",
        "  print('incluindo elemento: ' + a)\n",
        "  lista_animal.append(a)\n",
        "  print(lista_animal)\n",
        "  print('incluindo com sucesso')\n",
        "\n"
      ],
      "execution_count": null,
      "outputs": []
    },
    {
      "cell_type": "code",
      "metadata": {
        "id": "fzUemgWfae-2"
      },
      "source": [
        "#retirando sempre o ultimo da lista\n",
        "lista_animal.pop()\n",
        "print(lista_animal)"
      ],
      "execution_count": null,
      "outputs": []
    },
    {
      "cell_type": "code",
      "metadata": {
        "id": "blFMxzBra77N"
      },
      "source": [
        "#remover atraves do nome\n",
        "lista_animal.remove('gato')\n",
        "print(lista_animal)\n"
      ],
      "execution_count": null,
      "outputs": []
    },
    {
      "cell_type": "code",
      "metadata": {
        "id": "obY1M_vBb3L0"
      },
      "source": [
        "#ordernando uma lista\n",
        "lista_animal.sort()\n",
        "print(lista_animal)"
      ],
      "execution_count": null,
      "outputs": []
    },
    {
      "cell_type": "code",
      "metadata": {
        "id": "fZq-QSOqhrZe"
      },
      "source": [
        "#Reverte para forma reversa\n",
        "lista_animal.reverse()\n",
        "print(lista_animal)"
      ],
      "execution_count": null,
      "outputs": []
    },
    {
      "cell_type": "code",
      "metadata": {
        "id": "7qBk6V7eW71M"
      },
      "source": [
        "#Triplicando uma lista\n",
        "nova_lista = lista_animal * 3\n",
        "print(nova_lista)"
      ],
      "execution_count": null,
      "outputs": []
    },
    {
      "cell_type": "code",
      "metadata": {
        "id": "hTdgMhEKmUhb"
      },
      "source": [
        "#alterando item da lista\n",
        "#lista_animal[2] = 'elefante'\n",
        "#print(lista_animal)"
      ],
      "execution_count": null,
      "outputs": []
    },
    {
      "cell_type": "code",
      "metadata": {
        "id": "skmFa1otmkUi"
      },
      "source": [
        "#Criando uma Tuppla usa ()\n",
        "tupla = (1,10,12,14)\n",
        "print(tupla[1])"
      ],
      "execution_count": null,
      "outputs": []
    },
    {
      "cell_type": "code",
      "metadata": {
        "id": "XAJENOW9ynYy"
      },
      "source": [
        "#para saber quantos registros existem na tuppla ou lista\n",
        "print(len(tupla))\n",
        "print(tupla)"
      ],
      "execution_count": null,
      "outputs": []
    },
    {
      "cell_type": "code",
      "metadata": {
        "id": "LygGSlgsyvxw"
      },
      "source": [
        "#converter lista em tupla\n",
        "tupla_animal = tuple(lista_animal)\n",
        "print(type(tupla_animal))\n",
        "print(tupla_animal)"
      ],
      "execution_count": null,
      "outputs": []
    },
    {
      "cell_type": "code",
      "metadata": {
        "id": "1I-qdLOty8Pi"
      },
      "source": [
        "#converter tupla em lista\n",
        "lista_animal = list(tupla_animal)\n",
        "print(type(lista_animal))\n",
        "print(lista_animal)"
      ],
      "execution_count": null,
      "outputs": []
    },
    {
      "cell_type": "markdown",
      "metadata": {
        "id": "zV0UvKsVbUJc"
      },
      "source": [
        "**Existe:**\n",
        "  \n",
        "  **Lista [] tipo list**\n",
        "\n",
        "  **Tuppla () tipo tupple - não deixa alterar**\n",
        "\n",
        "  **Conjunto {} tipo set - não existe duplicados**\n"
      ]
    },
    {
      "cell_type": "markdown",
      "metadata": {
        "id": "lqN51imraTQO"
      },
      "source": [
        "**Conjuntos**"
      ]
    },
    {
      "cell_type": "code",
      "metadata": {
        "id": "EGc1_T5BaYHd"
      },
      "source": [
        "#Criando um conjunto usa {}\n",
        "#tipo de conjunto é o SET\n",
        "conjunto = {1,2,3,4}\n",
        "\n",
        "print(type(conjunto))"
      ],
      "execution_count": null,
      "outputs": []
    },
    {
      "cell_type": "code",
      "metadata": {
        "id": "wBm77vrIbhdz"
      },
      "source": [
        "#Adicionando elemento a um conjunto\n",
        "conjunto.add(int(input('Escreva numero para adicionar ao conjunto: ')))\n",
        "print((conjunto))"
      ],
      "execution_count": null,
      "outputs": []
    },
    {
      "cell_type": "code",
      "metadata": {
        "id": "1sjK9WRHcILU"
      },
      "source": [
        "#remover elemento\n",
        "conjunto.discard(8) #remove exatamente o numero que digitou, não a posição\n",
        "print(conjunto)"
      ],
      "execution_count": null,
      "outputs": []
    },
    {
      "cell_type": "code",
      "metadata": {
        "id": "bE8x3v_YcWDx"
      },
      "source": [
        "#testando remover\n",
        "conjunto.discard(int(input('Digite numero para remover: ')))"
      ],
      "execution_count": null,
      "outputs": []
    },
    {
      "cell_type": "code",
      "metadata": {
        "id": "D3JNnkwKdlqR"
      },
      "source": [
        "#Criando outro conjunto para unir os conjuntos\n",
        "#conjunto {3, 4, 2, 5, 8}\n",
        "#conjunto2 {1, 2, 3, 4, 5}\n",
        "#resultado {1, 2, 3, 4, 5, 8}\n",
        "conjunto2 = {1,2,3,4,5}\n",
        "conjunto_uniao = conjunto.union(conjunto2)\n",
        "print(conjunto_uniao)"
      ],
      "execution_count": null,
      "outputs": []
    },
    {
      "cell_type": "code",
      "metadata": {
        "id": "bUbFF_Q3cgWK"
      },
      "source": [
        "#Intersecção mostrar o que existe em comum em dois conjuntos usa intersection\n",
        "conjunto_interseccao = conjunto.intersection(conjunto2)\n",
        "print(conjunto_interseccao)\n",
        "\n",
        "conjunto3 = {5,9}\n",
        "conjunto_interseccao = conjunto3.intersection(conjunto2)\n",
        "print(conjunto_interseccao)"
      ],
      "execution_count": null,
      "outputs": []
    },
    {
      "cell_type": "code",
      "metadata": {
        "id": "aB3-kN93h3HK"
      },
      "source": [
        "#verificando a diferença entre os conjuntos\n",
        "print(conjunto_interseccao)\n",
        "print(conjunto2)\n",
        "\n",
        "conjunto_diferenca = conjunto2.difference(conjunto_interseccao)\n",
        "\n",
        "print('diferença: {}'.format(conjunto_diferenca))\n",
        "print(conjunto_diferenca)"
      ],
      "execution_count": null,
      "outputs": []
    },
    {
      "cell_type": "code",
      "metadata": {
        "id": "Tgethx3yqQ_9"
      },
      "source": [
        "#Diferença simetrica, tudo que não tem nos dois\n",
        "#tem no A e não tem no B\n",
        "#tem no B e não tem no A\n",
        "print(conjunto)\n",
        "print(conjunto2)\n",
        "conjunto_dif_simetrica = conjunto.symmetric_difference(conjunto2)\n",
        "print(conjunto_dif_simetrica)\n"
      ],
      "execution_count": null,
      "outputs": []
    },
    {
      "cell_type": "code",
      "metadata": {
        "id": "_rQhjeGkvkIs"
      },
      "source": [
        "#Pertinencia\n",
        "#se um conjunto é um sub conjunto do outro conjunto\n",
        "# A está dentro de B ? True \n",
        "\n",
        "conjunto_a = {1,2,3}\n",
        "conjunto_b = {1,2,3,4,5}\n",
        "\n",
        "conjunto_subset = conjunto_a.issubset(conjunto_b)\n",
        "conjunto_subset2 = conjunto_b.issubset(conjunto_a)\n",
        "print(conjunto_subset)\n",
        "print(conjunto_subset2)"
      ],
      "execution_count": null,
      "outputs": []
    },
    {
      "cell_type": "code",
      "metadata": {
        "id": "fBPWGJcswVHT"
      },
      "source": [
        "#se um conjunto é um super conjunto de outro conjunto\n",
        "# B é um superconjunto de A ? True\n",
        "conjunto_superset = conjunto_b.issuperset(conjunto_a)\n",
        "print('conjunto B: {}'.format(conjunto_b))\n",
        "print('conjunto A: {}'.format(conjunto_a))\n",
        "print('resposta: {}'.format(conjunto_superset))\n",
        "\n",
        "conjunto_superset2 = conjunto_a.issuperset(conjunto_b)\n",
        "print('resposta2: {}'.format(conjunto_superset2))"
      ],
      "execution_count": null,
      "outputs": []
    },
    {
      "cell_type": "code",
      "metadata": {
        "id": "ihQclVzmx7Po"
      },
      "source": [
        "#Converter uma lista para conjunto\n",
        "#preciso remover a duplicidade de cachorro\n",
        "#ja que conjunto não tem duplicidade\n",
        "#converter lista para conjunto\n",
        "lista = ['cachorro', 'cachorro', 'gato', 'elefante']\n",
        "conjunto_animais = set(lista)\n",
        "print('lista {}'.format(lista))\n",
        "print('tipo da lista {}'.format(type(lista)))\n",
        "print('conjunto {}'.format(conjunto_animais))\n",
        "print('tipo conjunto {}'.format(type(conjunto_animais)))\n",
        "\n",
        "#converter conjunto para lista\n",
        "lista_animais = list(conjunto_animais)\n",
        "print('lista animais {}'.format(lista_animais))\n",
        "print('tipo da lista animais {}'.format(type(lista_animais)))\n",
        "print('tupla {}'.format(tupla))\n",
        "print('tipo da tupla {}'.format(type(tupla)))"
      ],
      "execution_count": null,
      "outputs": []
    },
    {
      "cell_type": "markdown",
      "metadata": {
        "id": "-7n4UhbA-KqE"
      },
      "source": [
        "\n",
        "  **Lista [] tipo list**\n",
        "\n",
        "  **Tuppla () tipo tupple - não deixa alterar**\n",
        "\n",
        "  **Conjunto {} tipo set - não existe duplicados**"
      ]
    },
    {
      "cell_type": "markdown",
      "metadata": {
        "id": "Q035QR2R7MU5"
      },
      "source": [
        "**Classes e Funções**\n",
        "\n",
        "função = tudo que retorna valor\n",
        "\n",
        "metodo (definição) def = não retorna | precisa declarar parametros\n"
      ]
    },
    {
      "cell_type": "code",
      "metadata": {
        "id": "d6DFUbLu7PTG",
        "colab": {
          "base_uri": "https://localhost:8080/"
        },
        "outputId": "4f6c38e5-6a51-4c50-e4f3-bd93f7068d3c"
      },
      "source": [
        "#criando metodos utiliza def e passar os parametros\n",
        "def vaisomar (a, b):\n",
        "  return a + b\n",
        "\n",
        "def subtrair (a,b):\n",
        "  return a-b\n",
        "\n",
        "print(vaisomar(7,2))\n",
        "print(subtrair(8,4))"
      ],
      "execution_count": null,
      "outputs": [
        {
          "output_type": "stream",
          "name": "stdout",
          "text": [
            "9\n",
            "4\n"
          ]
        }
      ]
    },
    {
      "cell_type": "code",
      "metadata": {
        "id": "E8yYKEy6990i",
        "colab": {
          "base_uri": "https://localhost:8080/"
        },
        "outputId": "d8b38bdf-899f-487b-f5e1-dcf23415f56c"
      },
      "source": [
        "#Criando classes\n",
        "#Calculadora 1\n",
        "class Calculadora:\n",
        "  def __init__(self, num1, num2):\n",
        "    self.valor_a = num1\n",
        "    self.valor_b = num2\n",
        "\n",
        "  def soma(self):\n",
        "    return self.valor_a + self.valor_b\n",
        "\n",
        "  def subtrair(self):\n",
        "    return self.valor_a - self.valor_b\n",
        "\n",
        "calculadora = Calculadora(10, 2)\n",
        "\n",
        "print('numero A: {}'.format(calculadora.valor_a))\n",
        "print('numero B: {}'.format(calculadora.valor_b))\n",
        "print('soma de A + B: {}'.format(calculadora.soma()))\n",
        "print('subtração de A - B: {}'.format(calculadora.subtrair()))"
      ],
      "execution_count": null,
      "outputs": [
        {
          "output_type": "stream",
          "name": "stdout",
          "text": [
            "numero A: 10\n",
            "numero B: 2\n",
            "soma de A + B: 12\n",
            "subtração de A - B: 8\n"
          ]
        }
      ]
    },
    {
      "cell_type": "code",
      "metadata": {
        "id": "vCNd2YrNXGBb"
      },
      "source": [
        "#class Veiculo:\n",
        " # def __init__(self, cor, rodas, marca, tanque):\n",
        "  #  self.cor = cor\n",
        "   # self.rodas = rodas\n",
        "    #self.marca = marca\n",
        "    #self.tanque = tanque\n",
        "\n",
        "#Veiculo = veiculo()\n",
        "\n",
        "#caminhao_rosa = veiculo('rosa', 6, 'ford', 10)\n",
        "#print(caminhao_rosa)\n",
        "\n",
        "#**************\n",
        "class Veiculo:\n",
        " def __init__(self,cor,rodas,marca,tanque):\n",
        "\n",
        "caminhao_rosa = Veiculo('rosa',6,'ford',10) \n",
        "\n",
        "print(caminhao_rosa)\n",
        "#print(\"Cor: \", caminhao_rosa.cor)\n",
        "#print(\"Marca: \"caminhao_rosa.marca)\n",
        "#print(\"Tanque: \"caminhao_rosa.marca)\n",
        "\n",
        "#carro_azul = veiculo('azul, 4, 'bmw', 30)\n",
        "\n",
        "#print(carro_azul)\n",
        "#print(\"Cor: \", carro_azul.cor)\n",
        "#print(\"Marca: \"carro_azul.marca)\n",
        "#print(\"Tanque: \"carro_azul.marca)\n"
      ],
      "execution_count": null,
      "outputs": []
    },
    {
      "cell_type": "code",
      "metadata": {
        "colab": {
          "base_uri": "https://localhost:8080/"
        },
        "id": "k4NfFmLzsBBi",
        "outputId": "8842777c-5539-4e22-fb36-c4d12db63a41"
      },
      "source": [
        "class Veiculo:\n",
        "  def __init__(self,cor,rodas,marca,tanque):\n",
        "    self.nome1 = cor\n",
        "    self.nome2 = rodas\n",
        "    self.nome3 = marca\n",
        "    self.nome4 = tanque\n",
        "\n",
        "caminhao_amarelo = Veiculo('amarelo',6,'ninja','10 L')\n",
        "\n",
        "print('{}'.format(caminhao_amarelo.nome1))\n",
        "print('{}'.format(caminhao_amarelo.nome2))\n",
        "print('{}'.format(caminhao_amarelo.nome3))\n",
        "print('{}'.format(caminhao_amarelo.nome4))\n"
      ],
      "execution_count": null,
      "outputs": [
        {
          "output_type": "stream",
          "name": "stdout",
          "text": [
            "amarelo\n",
            "6\n",
            "ninja\n",
            "10 L\n"
          ]
        }
      ]
    },
    {
      "cell_type": "code",
      "metadata": {
        "id": "CEEl9gKLJtmK"
      },
      "source": [
        "#Criando classes\n",
        "#Calculadora 2\n",
        "class Calculadora:\n",
        "  #def __init__(self):\n",
        "   #pass #apenas para não ficar vazio\n",
        "\n",
        "  def soma(self, valor_a, valor_b):\n",
        "    return valor_a + valor_b\n",
        "\n",
        "  def subtrair(self, valor_a, valor_b):\n",
        "    return valor_a - valor_b\n",
        "\n",
        "calculadora = Calculadora()\n",
        "print('soma de A + B: {}'.format(calculadora.soma(10, 2)))\n",
        "print('subtração de A - B: {}'.format(calculadora.subtrair(5, 3)))"
      ],
      "execution_count": null,
      "outputs": []
    },
    {
      "cell_type": "code",
      "metadata": {
        "id": "yzTss1QjmPWf"
      },
      "source": [
        "nome = str(input('Digite seu nome'))\n",
        "peso = int(input('Digite seu peso'))\n",
        "altura = float(input('Digite sua altura'))\n",
        "idade = int(input('Digite ano nascimento'))\n",
        "\n",
        "validacao_idade = 2021 - idade\n",
        "\n",
        "if validacao_idade > 18 and peso >= 60 and altura >=1.70:\n",
        "  print(nome + \"ESTA APTO\")\n",
        "\n",
        "else:\n",
        "  print(nome + \"NAO APTO\")"
      ],
      "execution_count": null,
      "outputs": []
    },
    {
      "cell_type": "markdown",
      "metadata": {
        "id": "KKs8U4tMJiiX"
      },
      "source": [
        "**Criando uma Televisao usando classe e metodo**\n",
        "\n",
        "Conceitos de orientação a objetos"
      ]
    },
    {
      "cell_type": "code",
      "metadata": {
        "id": "I_lXGnJ93rbO"
      },
      "source": [
        "class Televisao:\n",
        "  def __init__(self):\n",
        "    self.ligada = False\n",
        "    self.canal = 5\n",
        "\n",
        "  def power(self):\n",
        "    if self.ligada == True:\n",
        "      self.ligada = False\n",
        "    else:\n",
        "      self.ligada = True\n",
        "\n",
        "  def aumenta_canal(self):\n",
        "      if self.ligada == True:\n",
        "        self.canal += 1\n",
        "\n",
        "  def diminui_canal(self):\n",
        "      if self.ligada == True:\n",
        "        self.canal -= 1\n",
        "\n",
        "print(__name__)\n",
        "if __name__ == '__main__':\n",
        "  televisao = Televisao() #classe Televisao\n",
        "  print('Televisão está ligada: {}'.format(televisao.ligada)) #False\n",
        "  televisao.power()\n",
        "  print('Televisão está ligada: {}'.format(televisao.ligada)) #True\n",
        "  televisao.power()\n",
        "  print('Televisão está ligada: {}'.format(televisao.ligada)) #False\n",
        "\n",
        "  #incluindo canal padrão que é 5\n",
        "  print('Canal é: {}'.format(televisao.canal))\n",
        "\n",
        "  #primeiramente ligando TV\n",
        "  televisao.power() #True\n",
        "  print('Televisão está ligada: {}'.format(televisao.ligada)) #False\n",
        "  #Apertando para mudar canal +\n",
        "  televisao.aumenta_canal()\n",
        "  televisao.aumenta_canal()\n",
        "  televisao.aumenta_canal()\n",
        "  televisao.aumenta_canal()\n",
        "\n",
        "  #Apertando para mudar canal -\n",
        "  televisao.diminui_canal()\n",
        "  televisao.diminui_canal()\n",
        "\n",
        "  print('Canal é: {}'.format(televisao.canal))\n"
      ],
      "execution_count": null,
      "outputs": []
    },
    {
      "cell_type": "markdown",
      "metadata": {
        "id": "6CFw0FMEYJ8Q"
      },
      "source": [
        "**Modulos**\n",
        "\n",
        "cada arquivo .py é um modulo\n",
        "\n",
        "importando o modulo é possivel acessar qualquer classe inteira ou metodo que tenha neste modulo.\n",
        "\n",
        "\n",
        "\n"
      ]
    },
    {
      "cell_type": "code",
      "metadata": {
        "id": "yTe6yTS_YIxi"
      },
      "source": [
        "#duas opções de import classe de outro modulo\n",
        "\n",
        "#import aula7_televisao\n",
        "#from aula7_televisao import Televisao\n",
        "#televisao = Televisao()"
      ],
      "execution_count": null,
      "outputs": []
    },
    {
      "cell_type": "code",
      "metadata": {
        "id": "7hEXQMCY5A4t"
      },
      "source": [
        "#Contador de palavras\n",
        "def contador_letras (lista_palavras):\n",
        "  contador = []\n",
        "\n",
        "  for x in lista_palavras:\n",
        "    quantidade = len(x)\n",
        "    contador.append(quantidade)\n",
        "  return(contador)\n",
        "\n",
        "if __name__ == '__main__':\n",
        "  lista = ['cachorro', 'gato']\n",
        "  print(contador_letras(lista))\n",
        "\n",
        "#lista2 = ['Murilo', 'Thamie', 'Bruna']\n",
        "#total_letras = contador_letras(lista2)\n",
        "#print('total de letras da lista é {}'.format(total_letras))\n"
      ],
      "execution_count": null,
      "outputs": []
    },
    {
      "cell_type": "markdown",
      "metadata": {
        "id": "Ss1IsxRf_39N"
      },
      "source": [
        "**Lambda** Funcao anonima"
      ]
    },
    {
      "cell_type": "code",
      "metadata": {
        "id": "jUwmWW_P_6hM"
      },
      "source": [
        "#Criando contador de letras com função lambda\n",
        "contador_letras = lambda lista: [len(x) for x in lista]\n",
        "lista_animais = ['cachorro', 'gato', 'elefante']\n",
        "contador_letras(lista_animais)\n"
      ],
      "execution_count": null,
      "outputs": []
    },
    {
      "cell_type": "code",
      "metadata": {
        "id": "TcKfC5kfBFhr"
      },
      "source": [
        "frase = 'oi mundo'\n",
        "print(frase[4])"
      ],
      "execution_count": null,
      "outputs": []
    },
    {
      "cell_type": "code",
      "metadata": {
        "id": "1l7NWK6kBl2T"
      },
      "source": [
        "lista_nome = ['murilo', 'ronnan', 'teste'] \n",
        "lista_nome[0] = 'Roberta'\n",
        "print(lista_nome)\n"
      ],
      "execution_count": null,
      "outputs": []
    },
    {
      "cell_type": "code",
      "metadata": {
        "id": "9i-GCJrXDo06"
      },
      "source": [
        "#Criando calculadora com o lambda"
      ],
      "execution_count": null,
      "outputs": []
    },
    {
      "cell_type": "code",
      "metadata": {
        "id": "aK3YNBtCDxWK"
      },
      "source": [
        "soma = lambda a,b: a + b \n",
        "subtracao = lambda a,b: a-b\n",
        "print(soma(5,10))\n",
        "print(subtracao(10,5))"
      ],
      "execution_count": null,
      "outputs": []
    },
    {
      "cell_type": "code",
      "metadata": {
        "id": "srxMTlbLEfJD"
      },
      "source": [
        "#Criando calculadora com o lambda com função anonima\n",
        "calculadora = {\n",
        "    'soma': lambda a, b: a + b,\n",
        "    'subtracao': lambda a,b: a-b,\n",
        "    'divisao': lambda a,b: a/b,\n",
        "    'multiplicacao': lambda a,b: a*b\n",
        "    }\n",
        "print(type(calculadora))\n",
        "soma = calculadora['soma']\n",
        "subtracao = calculadora['subtracao']\n",
        "divisao = calculadora['divisao']\n",
        "multiplicacao = calculadora['multiplicacao']\n",
        "print('A soma é: {}'.format(soma(10,5)))\n",
        "print('A subtração é {}'.format(subtracao(10,5)))\n",
        "print('A divisaão é: {}'.format(divisao(10,2)))\n",
        "print('A multiplicação é: {}'.format(multiplicacao(5,10)))"
      ],
      "execution_count": null,
      "outputs": []
    },
    {
      "cell_type": "code",
      "metadata": {
        "id": "ZRjDIKcRJiRN"
      },
      "source": [
        "nomes = ['murilo', 'guilherme','erica']\n",
        "\n",
        "for x in nomes:\n",
        "\n",
        "  print(x)"
      ],
      "execution_count": null,
      "outputs": []
    },
    {
      "cell_type": "code",
      "metadata": {
        "id": "YVqNa7k-KoBk"
      },
      "source": [
        "nome = 1, 2, 3, 4\n",
        "for x in nome:\n",
        "  print(x)"
      ],
      "execution_count": null,
      "outputs": []
    },
    {
      "cell_type": "markdown",
      "metadata": {
        "id": "IN7-dsIiWpXk"
      },
      "source": [
        "**Ler, Escrever e Manipular Arquivos**\n"
      ]
    },
    {
      "cell_type": "code",
      "metadata": {
        "id": "yD6PZb5yWsUU"
      },
      "source": [
        "#criando um arquivo\n",
        "arquivo = open('teste.txt', 'w') #w para escrever\n",
        "arquivo.write('Minha primeira escrita')\n",
        "arquivo.close()\n",
        "\n"
      ],
      "execution_count": null,
      "outputs": []
    },
    {
      "cell_type": "code",
      "metadata": {
        "id": "D50ZYCZkQ6lE"
      },
      "source": [
        "#para atualizar um o arquivo, voce precisa abrir o arquivo com 'a'\n",
        "arquivo = open('teste.txt', 'a')\n",
        "arquivo.write('\\ntestando escrita')\n",
        "arquivo.close()"
      ],
      "execution_count": null,
      "outputs": []
    },
    {
      "cell_type": "code",
      "metadata": {
        "id": "g8dHRFXuYfhl"
      },
      "source": [
        "#Criando uma função para que de acordo com valores inseridos em um txt\n",
        "#seja calculado a media e inserido em outro arquivo txt\n",
        "\n",
        "#definindo\n",
        "import shutil #para copiar e mover\n",
        "\n",
        "#função write\n",
        "def escrever_arquivo(texto):\n",
        "  arquivo = open('teste.txt', 'w') #write\n",
        "  arquivo.write(texto)\n",
        "  arquivo.closed\n",
        "  \n",
        "#função atualizar\n",
        "def atualizar_arquivo(nome_arquivo, texto):\n",
        "  arquivo = open(nome_arquivo, 'a') #atualizar\n",
        "  arquivo.write(texto)\n",
        "  arquivo.closed\n",
        "\n",
        "#função ler\n",
        "def ler_arquivo(nome_arquivo):\n",
        "  arquivo = open(nome_arquivo, 'r')#read\n",
        "  texto = arquivo.read()\n",
        "  print(texto)\n",
        "\n",
        "#função media notas\n",
        "def media_notas(nome_arquivo):\n",
        "  arquivo = open(nome_arquivo, 'r')\n",
        "  aluno_nota = arquivo.read()\n",
        "  aluno_nota = aluno_nota.split('\\n') #split para gerar lista separado por quebra linha\n",
        "  print('1 Arquivo original: ', aluno_nota)\n",
        "  lista_media = []\n",
        "  for x in aluno_nota:\n",
        "    lista_notas = x.split(',') #split para gerar lista separado por ,\n",
        "    print('2 Lista separado: ', lista_notas) #lista completo\n",
        "    aluno = lista_notas[0]\n",
        "    print('3 So aluno: ', aluno) #so aluno\n",
        "    lista_notas.pop(0) #pop 0 para remover primeiro item da lista\n",
        "    print('4 todas as notas', lista_notas) #so notas\n",
        "    \n",
        "    media = lambda notas: sum([int(i) for i in notas])/4\n",
        "    print('5 somente media', media(lista_notas))\n",
        "    lista_media.append({aluno:media(lista_notas)})\n",
        "    media_print = media(lista_notas)\n",
        "\n",
        "    arquivo = open('resultado.txt', 'a') #write\n",
        "    arquivo.write(str(aluno)+' : '+str(media_print)+'\\n')\n",
        "    arquivo.closed\n",
        "\n",
        "    valor = str(media(lista_notas))\n",
        "   \n",
        "    resultado = str(lista_media)\n",
        "    \n",
        "    #arquivo = open('resultado.txt', 'a') #write\n",
        "    #arquivo.write(resultado)\n",
        "    #arquivo.closed\n",
        "\n",
        "    #print('Resultado: ' + resultado)\n",
        "\n",
        "  return lista_media\n",
        "\n",
        "  #X arquivo = open('teste.txt', 'w') #write\n",
        "  #X arquivo.write(resultado)\n",
        "  #X arquivo.closed\n",
        "\n",
        "#função copiar\n",
        "def copia_arquivo(nome_arquivo):\n",
        "  shutil.copy(nome_arquivo, '/content/notas2.txt')\n",
        "\n",
        "#função para mover\n",
        "def move_arquivo(nome_arquivo):\n",
        "  shutil.move(nome_arquivo, '/content/sample_data')\n",
        "\n",
        "if __name__ == '__main__':\n",
        "  #copia_arquivo('notas.txt')\n",
        "  #move_arquivo('notas.txt')\n",
        "  media_notas('teste.txt')\n",
        "  #escrever_arquivo(resultado)\n",
        "  #aluno ='rafael,2,1,10,10\\n'\n",
        "  #atualizar_arquivo('teste.txt', aluno)\n",
        "  #ler_arquivo('teste.txt')\n",
        "  #lista_media = media_notas('notas.txt')\n",
        "  #print(lista_media)\n",
        "\n"
      ],
      "execution_count": null,
      "outputs": []
    },
    {
      "cell_type": "code",
      "metadata": {
        "colab": {
          "base_uri": "https://localhost:8080/"
        },
        "id": "OdVcoKKdUN3J",
        "outputId": "239fc083-38e3-41e8-8ad6-4565418214a5"
      },
      "source": [
        "#TRABALHANDO COM A FUNÇÃO DATE | TIME | DATETIME\n",
        "#https://docs.python.org/3/library/datetime.html\n",
        "\n",
        "from datetime import date\n",
        "from datetime import time\n",
        "from datetime import datetime\n",
        "from datetime import timedelta\n",
        "\n",
        "\n",
        "def trabalhando_com_date():\n",
        "  data_atual = date.today()\n",
        "  data_atual_brasil = data_atual.strftime('%d-%m-%Y') #utilizando Y maiusculo tras toda a data em maiusculo\n",
        "  #print('Ano-mes-dia:', data_atual) #ano-mes-dia\n",
        "  #print('dia-mes-ano: ', data_atual_brasil) #dia-mes-ano\n",
        "  #print('formatado: ', data_atual.strftime('%A %B %Y') )\n",
        "  print(type(data_atual)) #datetime.date\n",
        "  print(type(data_atual_brasil)) #str\n",
        "\n",
        "def trabalhando_com_time():\n",
        "  horario = time(hour=15, minute=18, second=30)\n",
        "  print(type(horario))\n",
        "\n",
        "  horario_str = horario.strftime('%H : %M : %S')\n",
        "  print(type(horario_str))\n",
        "\n",
        "def trabalhando_com_datetime():\n",
        "  data_atual = datetime.now()\n",
        "\n",
        "  print(data_atual)\n",
        "  print(type(data_atual))\n",
        "\n",
        "  print('\\n')\n",
        "\n",
        "  data_convertida = data_atual.strftime('%d-%m-%Y  /  %H-%M-%S')\n",
        "  print(data_convertida)\n",
        "  print(type(data_convertida))\n",
        "\n",
        "  print('\\n')\n",
        "\n",
        "  data_diferente = data_atual.strftime('%c')\n",
        "  print(data_diferente)\n",
        "  print(type(data_diferente))\n",
        "\n",
        "  print('\\n')\n",
        "\n",
        "  dia = data_atual.day\n",
        "  print(dia)\n",
        "  print(type(dia))\n",
        "\n",
        "  print('\\n')\n",
        "\n",
        "  ano = data_atual.year\n",
        "  print(ano)\n",
        "  print(type(ano))\n",
        "\n",
        "  print('\\n')\n",
        "\n",
        "  hora = data_atual.hour\n",
        "  print(hora)\n",
        "  print(type(hora))\n",
        "\n",
        "  print('\\n')\n",
        "  \n",
        "  minuto = data_atual.minute\n",
        "  print(minuto)\n",
        "  print(type(minuto))\n",
        "\n",
        "  print('\\n')\n",
        "\n",
        "  dia_semana = data_atual.weekday()\n",
        "  print('dia da semana: ', dia_semana)\n",
        "  print(type(dia_semana))\n",
        "\n",
        "  print('\\n')\n",
        "\n",
        "  mes = data_atual.month\n",
        "  print('mes: ', mes)\n",
        "  print(type(mes))\n",
        "\n",
        "  print('\\n')\n",
        "\n",
        "  tupla = ('Segunda', 'terça', 'quarta', 'quinta', 'sexta', 'sabado', 'domingo')\n",
        "  print(tupla[data_atual.weekday()])\n",
        "  print(type(tupla))\n",
        "\n",
        "  print('\\n')\n",
        "                        #ano mes dia hora min s\n",
        "  data_criada = datetime(2018, 6, 20, 15, 30, 20)\n",
        "  print(data_criada)\n",
        "  print(type(data_criada))\n",
        "\n",
        "  print('\\n')\n",
        "\n",
        "  data_criada_diferente = data_criada.strftime('%c')\n",
        "  print(data_criada_diferente)\n",
        "  print(type(data_criada_diferente))\n",
        "\n",
        "  print('\\n')\n",
        "\n",
        "  data_string = '10-01-2020'\n",
        "  data_convertida = datetime.strptime(data_string, '%d-%m-%Y')\n",
        "  print(data_convertida)\n",
        "  print(type(data_string))\n",
        "  print(type(data_convertida))\n",
        "\n",
        "  print('\\n')\n",
        "\n",
        "  print(data_convertida)\n",
        "  nova_data = data_convertida + timedelta(days=365, hours=2, minutes=15)\n",
        "  print(nova_data)\n",
        "\n",
        " # horario_str = horario.strftime('%H : %M : %S')\n",
        "  #print(horario_str)\n",
        "    \n",
        "if __name__ == '__main__':\n",
        "  #trabalhando_com_date()\n",
        "  #trabalhando_com_time()\n",
        "  trabalhando_com_datetime()\n",
        "\n",
        "\n"
      ],
      "execution_count": null,
      "outputs": [
        {
          "output_type": "stream",
          "text": [
            "2021-08-25 20:19:56.579694\n",
            "<class 'datetime.datetime'>\n",
            "\n",
            "\n",
            "25-08-2021  /  20-19-56\n",
            "<class 'str'>\n",
            "\n",
            "\n",
            "Wed Aug 25 20:19:56 2021\n",
            "<class 'str'>\n",
            "\n",
            "\n",
            "25\n",
            "<class 'int'>\n",
            "\n",
            "\n",
            "2021\n",
            "<class 'int'>\n",
            "\n",
            "\n",
            "20\n",
            "<class 'int'>\n",
            "\n",
            "\n",
            "19\n",
            "<class 'int'>\n",
            "\n",
            "\n",
            "dia da semana:  2\n",
            "<class 'int'>\n",
            "\n",
            "\n",
            "mes:  8\n",
            "<class 'int'>\n",
            "\n",
            "\n",
            "quarta\n",
            "<class 'tuple'>\n",
            "\n",
            "\n",
            "2018-06-20 15:30:20\n",
            "<class 'datetime.datetime'>\n",
            "\n",
            "\n",
            "Wed Jun 20 15:30:20 2018\n",
            "<class 'str'>\n",
            "\n",
            "\n",
            "2020-01-10 00:00:00\n",
            "<class 'str'>\n",
            "<class 'datetime.datetime'>\n",
            "\n",
            "\n",
            "2020-01-10 00:00:00\n",
            "2021-01-09 02:15:00\n"
          ],
          "name": "stdout"
        }
      ]
    },
    {
      "cell_type": "code",
      "metadata": {
        "colab": {
          "base_uri": "https://localhost:8080/"
        },
        "id": "IewJhQyVfpvc",
        "outputId": "742271b2-9c68-49bd-c2d5-9c72f0cda551"
      },
      "source": [
        "import random\n",
        "def gerar_numero(n):\n",
        "\n",
        "  inicio = 0\n",
        "  final = random.randrange(1,10)\n",
        "  lista = []\n",
        "  print(final)\n",
        "  while inicio < final:\n",
        "      n = random.randrange(10,100,10) #de 10 a 100 sendo 10 em 10\n",
        "  \n",
        "      lista.append(n)\n",
        "      inicio = inicio +1\n",
        "\n",
        "  print(lista)\n",
        "\n",
        "if __name__ == '__main__':\n",
        "  gerar_numero(2)\n"
      ],
      "execution_count": null,
      "outputs": [
        {
          "output_type": "stream",
          "name": "stdout",
          "text": [
            "2\n",
            "[70, 40]\n"
          ]
        }
      ]
    },
    {
      "cell_type": "markdown",
      "metadata": {
        "id": "5MdMe4LnNYdr"
      },
      "source": [
        "**Utilizar tratamento de exceções para erros**"
      ]
    },
    {
      "cell_type": "code",
      "metadata": {
        "colab": {
          "base_uri": "https://localhost:8080/"
        },
        "id": "XK3lQbcRNGXv",
        "outputId": "aecfdd94-6608-4144-eb31-71e698e2555d"
      },
      "source": [
        "#Utilizar tratamento de exceções\n",
        "\n",
        "try:\n",
        "  divisao = 10 /0 \n",
        "  print(divisao)\n",
        "\n",
        "except BaseException as geral :  \n",
        "  print('Erro desconhecido. Erro: {} '.format(geral))\n",
        "    \n",
        "except ZeroDivisionError:\n",
        "  print('Erro: ZeroDivisionError - Não é possivel realizar uma divisao por zero')\n",
        "\n",
        "\n",
        "\n"
      ],
      "execution_count": null,
      "outputs": [
        {
          "output_type": "stream",
          "name": "stdout",
          "text": [
            "Erro desconhecido. Erro: division by zero \n"
          ]
        }
      ]
    },
    {
      "cell_type": "code",
      "metadata": {
        "colab": {
          "base_uri": "https://localhost:8080/"
        },
        "id": "yYNjYsrjWecF",
        "outputId": "428ace23-7a37-4da8-e2ca-463a8b673cc7"
      },
      "source": [
        "lista = [1,3]\n",
        "\n",
        "try:\n",
        "  numero = lista[5]\n",
        "  print(numero)\n",
        "\n",
        "except BaseException as geral :  \n",
        "  print('Erro desconhecido. Erro: {} '.format(geral))\n",
        "\n",
        "except IndexError:\n",
        "  print('Erro: IndexError - posição nao existe na lista')\n",
        "\n"
      ],
      "execution_count": null,
      "outputs": [
        {
          "output_type": "stream",
          "name": "stdout",
          "text": [
            "Erro desconhecido. Erro: list index out of range \n"
          ]
        }
      ]
    },
    {
      "cell_type": "code",
      "metadata": {
        "colab": {
          "base_uri": "https://localhost:8080/"
        },
        "id": "jfNgdxQhYss9",
        "outputId": "20c922c8-1efa-4b91-f7bb-ca43624ce97a"
      },
      "source": [
        "#tratando apelido\n",
        "#aprendendo encadeamento\n",
        "\n",
        "try:\n",
        "  arquivo = open('teste.txt', 'r')\n",
        "  text = arquivo.read()\n",
        "  divisao = 10/0\n",
        "  print('fechando o arquivo')\n",
        "  arquivo.close()\n",
        " \n",
        "except Exception as geral :  #se erro mostrar\n",
        "  print('Erro desconhecido. Erro: {} '.format(geral))\n",
        "\n",
        "else: #se nao der erro executa isso:\n",
        "  print('executa isto após a verificação do erro')\n",
        "\n",
        "finally: #independente se der erro ou nao ele executa mesmo com algum erro\n",
        "  print('sempre executa')"
      ],
      "execution_count": null,
      "outputs": [
        {
          "output_type": "stream",
          "name": "stdout",
          "text": [
            "Erro desconhecido. Erro: division by zero \n",
            "sempre executa\n"
          ]
        }
      ]
    },
    {
      "cell_type": "code",
      "metadata": {
        "id": "JjGwg94s1yUt"
      },
      "source": [
        "#transformar toda nota maior que 10\n",
        "#se digitar algo diferente de numero excessao\n",
        "#criando uma classe herdando de erro, primeiro tem que ter uma classe error exception mesmo que nao contenha nada pass\n",
        "\n",
        "class Error(Exception):\n",
        "  pass\n",
        "\n",
        "class InputError(Error):\n",
        "  def __init__(self, message):\n",
        "    self.message = message\n",
        "\n",
        "\n",
        "while True:\n",
        "\n",
        "  try:\n",
        "    x = int(input('entre com uma nota de 0 a 10: '))\n",
        "    print(x)\n",
        "\n",
        "    if x > 10:\n",
        "      raise InputError('nota não pode ser maior do que 10') #raise serve para forçar uma excessão\n",
        "    elif x < 0:\n",
        "      raise InputError('nota não pode ser menor do que 0') #raise serve para forçar uma excessão\n",
        "    break #força saida do looping\n",
        "\n",
        "  except Exception as geral: #se der erro\n",
        "      print('Erro desconhecido. Erro: {} '.format(geral))\n",
        "\n"
      ],
      "execution_count": null,
      "outputs": []
    },
    {
      "cell_type": "markdown",
      "metadata": {
        "id": "SudpYtOP9t3q"
      },
      "source": [
        "**Pacotes e Requisições Http**"
      ]
    },
    {
      "cell_type": "code",
      "metadata": {
        "colab": {
          "base_uri": "https://localhost:8080/"
        },
        "id": "QfluS0k29wlw",
        "outputId": "432ac298-0479-4972-ac03-a528a94f92e5"
      },
      "source": [
        "pip --version #verificando qual a versão"
      ],
      "execution_count": null,
      "outputs": [
        {
          "output_type": "stream",
          "name": "stdout",
          "text": [
            "pip 21.1.3 from /usr/local/lib/python3.7/dist-packages/pip (python 3.7)\n"
          ]
        }
      ]
    },
    {
      "cell_type": "code",
      "metadata": {
        "id": "Dr-sWeEc-UQH"
      },
      "source": [
        "pip --help #lista de ajudas"
      ],
      "execution_count": null,
      "outputs": []
    },
    {
      "cell_type": "code",
      "metadata": {
        "id": "Ci7lorGx-z6o"
      },
      "source": [
        ""
      ],
      "execution_count": null,
      "outputs": []
    },
    {
      "cell_type": "code",
      "metadata": {
        "id": "ejJLMLIl_qBt"
      },
      "source": [
        "pip install requests #instalando biblioteca para requests "
      ],
      "execution_count": null,
      "outputs": []
    },
    {
      "cell_type": "code",
      "metadata": {
        "id": "BrqmdOam_5KF"
      },
      "source": [
        "pip freeze #verifica quais estão instalados\n",
        "\n",
        "pip --list #exibir pacotes"
      ],
      "execution_count": null,
      "outputs": []
    },
    {
      "cell_type": "code",
      "metadata": {
        "id": "6T1G41l-CXFZ"
      },
      "source": [
        "import requests #https://docs.python-requests.org/en/master/\n",
        "\n",
        "#utilizando API CEP> https://viacep.com.br/ws/01001000/json/\n",
        "\n",
        "def retorna_dado_cep(cep):\n",
        "  response = requests.get('https://viacep.com.br/ws/{}/json/'.format(cep))\n",
        "  #if response.status_code == 200:\n",
        "   # print('ok')\n",
        "  #else: \n",
        "   # print('not found')\n",
        "\n",
        "  print('retornando as informações da pagina: ', response.text) #retorna toda a informação da pagina\n",
        "  print('verificando o tipo da variavel .text: ', type(response.text)) #verificando que é uma string\n",
        "  print('verificando o tipo da variavel .json: ',type(response.json)) #verificando que é um metodo\n",
        "  print('\\n')\n",
        "\n",
        "  dados_cep = response.json()\n",
        "  print('Apenas logradouro: ', dados_cep['logradouro'])\n",
        "\n",
        "#utilizando API POKEMON> https://pokeapi.co/api/v2/pokemon/pikachu\n",
        "\n",
        "def retorna_dado_pokemon(pokemon):\n",
        "  \n",
        "  response = requests.get('https://pokeapi.co/api/v2/pokemon/{}'.format(pokemon))\n",
        "  dados_pokemon = response.json()\n",
        "  \n",
        "  print('Nome: ', dados_pokemon['name'])\n",
        "  print('Nome: ', dados_pokemon['sprites']['front_shiny'])\n",
        "\n",
        "  # {\"abilities\": [{'ability': \n",
        "  #   {'name': 'static', 'url': 'https://pokeapi.co/api/v2/ability/9/'}, 'is_hidden': False, 'slot': 1}, \n",
        "  #     {'ability': {'name': 'lightning-rod', 'url': 'https://pokeapi.co/api/v2/ability/31/'}, 'is_hidden': True, 'slot': 3}]\n",
        "\n",
        "\n",
        "#Utilizando API SITE COMUM> https://digitalinnovation.one/\n",
        "\n",
        "def retorna_site(url):\n",
        "  responde = requests.get(url)\n",
        "  #return responde.text\n",
        "  html = responde.text #.text retorna o HTML do site\n",
        "  print(html)\n",
        "\n",
        "if __name__ == '__main__':\n",
        "\n",
        "#Site Comum trazendo HTML\n",
        "  retorna_site('https://digitalinnovation.one/')\n",
        "  \n",
        "#CEP  \n",
        " # numero = input('Digite o cep: ')\n",
        " # retorna_dado_cep(numero)\n",
        "\n",
        "#POKEMOM\n",
        " # nome_do_pokemon = input('Digite o nome do pokemon desejado: ') #pikachu #charmeleon #bulbasaur #ivysaur\n",
        " # retorna_dado_pokemon(nome_do_pokemon)\n",
        "\n",
        "\n"
      ],
      "execution_count": null,
      "outputs": []
    },
    {
      "cell_type": "code",
      "metadata": {
        "colab": {
          "base_uri": "https://localhost:8080/"
        },
        "id": "Uue2RnV5aZj6",
        "outputId": "312ae44a-5378-4507-ec51-fa6148c65ee4"
      },
      "source": [
        "print('oi')"
      ],
      "execution_count": null,
      "outputs": [
        {
          "output_type": "stream",
          "name": "stdout",
          "text": [
            "oi\n"
          ]
        }
      ]
    },
    {
      "cell_type": "code",
      "metadata": {
        "colab": {
          "base_uri": "https://localhost:8080/"
        },
        "id": "ZZ37Cq0-wUT6",
        "outputId": "6af24fe4-4947-4678-ff58-80a513acc3d7"
      },
      "source": [
        "dct = {}\n",
        "\n",
        "dct['1'] = (1, 2)\n",
        "dct['2'] = (2, 1)\n",
        "\n",
        "for x in dct.keys():\n",
        "  print(dct[x][1], end=\"\")\n"
      ],
      "execution_count": null,
      "outputs": [
        {
          "output_type": "stream",
          "name": "stdout",
          "text": [
            "21"
          ]
        }
      ]
    },
    {
      "cell_type": "code",
      "metadata": {
        "colab": {
          "base_uri": "https://localhost:8080/"
        },
        "id": "zaX9H6Craq5c",
        "outputId": "5dbe298b-3ce4-434e-ea69-a36b21938bfe"
      },
      "source": [
        "i = 0\n",
        "while i < 1 +2:\n",
        "  i += 1\n",
        "  print('*')\n",
        "\n",
        "else:\n",
        "  print('*')"
      ],
      "execution_count": null,
      "outputs": [
        {
          "output_type": "stream",
          "name": "stdout",
          "text": [
            "*\n",
            "*\n",
            "*\n",
            "*\n"
          ]
        }
      ]
    },
    {
      "cell_type": "code",
      "metadata": {
        "colab": {
          "base_uri": "https://localhost:8080/"
        },
        "id": "GVkqtocbbBFh",
        "outputId": "191aec16-3081-4abc-bdaa-15e7917e5dd8"
      },
      "source": [
        "dct = {'one': 'two', 'three': 'one', 'two': 'three'}\n",
        "v = dct['three']\n",
        "print(v)\n",
        "print(len(dct))\n",
        "for k in range(len(dct)):\n",
        "  v = dct[v]\n",
        "print(v)"
      ],
      "execution_count": null,
      "outputs": [
        {
          "output_type": "stream",
          "name": "stdout",
          "text": [
            "one\n",
            "3\n",
            "one\n"
          ]
        }
      ]
    },
    {
      "cell_type": "code",
      "metadata": {
        "id": "LTqS4vx1kzcg"
      },
      "source": [
        "def fun(n):\n",
        "    for i in range(n):\n",
        "        return i\n",
        "\n",
        "\n",
        "  "
      ],
      "execution_count": null,
      "outputs": []
    },
    {
      "cell_type": "code",
      "metadata": {
        "colab": {
          "base_uri": "https://localhost:8080/"
        },
        "id": "XwbZPWafbx3A",
        "outputId": "2983f737-a215-4bf6-dc7e-0f4e33b55a3c"
      },
      "source": [
        "def fun(x):\n",
        "  if x % 2 ==0:\n",
        "    return 1\n",
        "  \n",
        "  else:\n",
        "    return 2\n",
        "\n",
        "print(fun(fun(2)))"
      ],
      "execution_count": null,
      "outputs": [
        {
          "output_type": "stream",
          "name": "stdout",
          "text": [
            "2\n"
          ]
        }
      ]
    },
    {
      "cell_type": "code",
      "metadata": {
        "colab": {
          "base_uri": "https://localhost:8080/"
        },
        "id": "QsfvE1ejcIF7",
        "outputId": "346fbee7-44f4-4533-a356-17ec44a0a708"
      },
      "source": [
        "print('a', 'b', 'c', sep='sep')"
      ],
      "execution_count": null,
      "outputs": [
        {
          "output_type": "stream",
          "name": "stdout",
          "text": [
            "asepbsepc\n"
          ]
        }
      ]
    },
    {
      "cell_type": "code",
      "metadata": {
        "colab": {
          "base_uri": "https://localhost:8080/"
        },
        "id": "6mnvzpz-cPrl",
        "outputId": "c816835f-208b-4f4d-feba-eef36165d1e8"
      },
      "source": [
        "1//2"
      ],
      "execution_count": null,
      "outputs": [
        {
          "output_type": "execute_result",
          "data": {
            "text/plain": [
              "0"
            ]
          },
          "metadata": {},
          "execution_count": 79
        }
      ]
    },
    {
      "cell_type": "code",
      "metadata": {
        "colab": {
          "base_uri": "https://localhost:8080/"
        },
        "id": "vm5JwWjjcTG6",
        "outputId": "73d79dc2-52d7-4317-ca07-771e33437f48"
      },
      "source": [
        "def fun(inp=2, out=3):\n",
        "  return inp * out \n",
        "\n",
        "print(fun(out=2))"
      ],
      "execution_count": null,
      "outputs": [
        {
          "output_type": "stream",
          "name": "stdout",
          "text": [
            "4\n"
          ]
        }
      ]
    },
    {
      "cell_type": "code",
      "metadata": {
        "colab": {
          "base_uri": "https://localhost:8080/"
        },
        "id": "dpqj1_m-cmtW",
        "outputId": "42fefc4d-e661-4630-a133-fef6286ecc4f"
      },
      "source": [
        "x = 3\n",
        "y= 2\n",
        "\n",
        "x = x % y\n",
        "x =x % y\n",
        "y = y% x\n",
        "\n",
        "print(y)"
      ],
      "execution_count": null,
      "outputs": [
        {
          "output_type": "stream",
          "name": "stdout",
          "text": [
            "0\n"
          ]
        }
      ]
    },
    {
      "cell_type": "code",
      "metadata": {
        "colab": {
          "base_uri": "https://localhost:8080/",
          "height": 316
        },
        "id": "xEjbyqrpc0Kw",
        "outputId": "45c9c24b-b3bb-48c1-c12a-3737afef6a55"
      },
      "source": [
        "def funcao(a):\n",
        "  return None\n",
        "\n",
        "def funcao2(a):\n",
        "  return funcao(a) * funcao(a)\n",
        "\n",
        "print(funcao2(2))"
      ],
      "execution_count": null,
      "outputs": [
        {
          "output_type": "error",
          "ename": "TypeError",
          "evalue": "ignored",
          "traceback": [
            "\u001b[0;31m---------------------------------------------------------------------------\u001b[0m",
            "\u001b[0;31mTypeError\u001b[0m                                 Traceback (most recent call last)",
            "\u001b[0;32m<ipython-input-82-5a3bce8cd19c>\u001b[0m in \u001b[0;36m<module>\u001b[0;34m()\u001b[0m\n\u001b[1;32m      5\u001b[0m   \u001b[0;32mreturn\u001b[0m \u001b[0mfuncao\u001b[0m\u001b[0;34m(\u001b[0m\u001b[0ma\u001b[0m\u001b[0;34m)\u001b[0m \u001b[0;34m*\u001b[0m \u001b[0mfuncao\u001b[0m\u001b[0;34m(\u001b[0m\u001b[0ma\u001b[0m\u001b[0;34m)\u001b[0m\u001b[0;34m\u001b[0m\u001b[0;34m\u001b[0m\u001b[0m\n\u001b[1;32m      6\u001b[0m \u001b[0;34m\u001b[0m\u001b[0m\n\u001b[0;32m----> 7\u001b[0;31m \u001b[0mprint\u001b[0m\u001b[0;34m(\u001b[0m\u001b[0mfuncao2\u001b[0m\u001b[0;34m(\u001b[0m\u001b[0;36m2\u001b[0m\u001b[0;34m)\u001b[0m\u001b[0;34m)\u001b[0m\u001b[0;34m\u001b[0m\u001b[0;34m\u001b[0m\u001b[0m\n\u001b[0m",
            "\u001b[0;32m<ipython-input-82-5a3bce8cd19c>\u001b[0m in \u001b[0;36mfuncao2\u001b[0;34m(a)\u001b[0m\n\u001b[1;32m      3\u001b[0m \u001b[0;34m\u001b[0m\u001b[0m\n\u001b[1;32m      4\u001b[0m \u001b[0;32mdef\u001b[0m \u001b[0mfuncao2\u001b[0m\u001b[0;34m(\u001b[0m\u001b[0ma\u001b[0m\u001b[0;34m)\u001b[0m\u001b[0;34m:\u001b[0m\u001b[0;34m\u001b[0m\u001b[0;34m\u001b[0m\u001b[0m\n\u001b[0;32m----> 5\u001b[0;31m   \u001b[0;32mreturn\u001b[0m \u001b[0mfuncao\u001b[0m\u001b[0;34m(\u001b[0m\u001b[0ma\u001b[0m\u001b[0;34m)\u001b[0m \u001b[0;34m*\u001b[0m \u001b[0mfuncao\u001b[0m\u001b[0;34m(\u001b[0m\u001b[0ma\u001b[0m\u001b[0;34m)\u001b[0m\u001b[0;34m\u001b[0m\u001b[0;34m\u001b[0m\u001b[0m\n\u001b[0m\u001b[1;32m      6\u001b[0m \u001b[0;34m\u001b[0m\u001b[0m\n\u001b[1;32m      7\u001b[0m \u001b[0mprint\u001b[0m\u001b[0;34m(\u001b[0m\u001b[0mfuncao2\u001b[0m\u001b[0;34m(\u001b[0m\u001b[0;36m2\u001b[0m\u001b[0;34m)\u001b[0m\u001b[0;34m)\u001b[0m\u001b[0;34m\u001b[0m\u001b[0;34m\u001b[0m\u001b[0m\n",
            "\u001b[0;31mTypeError\u001b[0m: unsupported operand type(s) for *: 'NoneType' and 'NoneType'"
          ]
        }
      ]
    },
    {
      "cell_type": "code",
      "metadata": {
        "colab": {
          "base_uri": "https://localhost:8080/"
        },
        "id": "oXDDKT_MdCQ-",
        "outputId": "32561495-3d59-4c62-e837-5e591d4a1235"
      },
      "source": [
        "lista = [x * x for x in range(5)]\n",
        "\n",
        "def fun(lst):\n",
        "  del lst[lst[2]]\n",
        "  return lst\n",
        "\n",
        "print(fun(lista))"
      ],
      "execution_count": null,
      "outputs": [
        {
          "output_type": "stream",
          "name": "stdout",
          "text": [
            "[0, 1, 4, 9]\n"
          ]
        }
      ]
    },
    {
      "cell_type": "code",
      "metadata": {
        "colab": {
          "base_uri": "https://localhost:8080/"
        },
        "id": "7BTjhxcndMWP",
        "outputId": "74042ae7-9996-445f-9fbe-afceed2e8af6"
      },
      "source": [
        "a = 1\n",
        "b = 0\n",
        "a = a ^ b\n",
        "b = a ^b\n",
        "a = a^b\n",
        "\n",
        "print(a,b)"
      ],
      "execution_count": null,
      "outputs": [
        {
          "output_type": "stream",
          "name": "stdout",
          "text": [
            "0 1\n"
          ]
        }
      ]
    },
    {
      "cell_type": "code",
      "metadata": {
        "colab": {
          "base_uri": "https://localhost:8080/",
          "height": 129
        },
        "id": "2ZXOJ2jBdVDw",
        "outputId": "5ffad3b7-ad7e-4cfc-ff50-140501f1e6fb"
      },
      "source": [
        "def func(a,b):\n",
        "  return b **a\n",
        "\n",
        "print(func(b=2, 2))"
      ],
      "execution_count": null,
      "outputs": [
        {
          "output_type": "error",
          "ename": "SyntaxError",
          "evalue": "ignored",
          "traceback": [
            "\u001b[0;36m  File \u001b[0;32m\"<ipython-input-86-bee819ef2af0>\"\u001b[0;36m, line \u001b[0;32m4\u001b[0m\n\u001b[0;31m    print(func(b=2, 2))\u001b[0m\n\u001b[0m                   ^\u001b[0m\n\u001b[0;31mSyntaxError\u001b[0m\u001b[0;31m:\u001b[0m positional argument follows keyword argument\n"
          ]
        }
      ]
    },
    {
      "cell_type": "code",
      "metadata": {
        "colab": {
          "base_uri": "https://localhost:8080/"
        },
        "id": "5kjlkTihdgXY",
        "outputId": "7dda3507-63fd-4ed7-80f7-34a031a034e6"
      },
      "source": [
        "nums = [1,2,3]\n",
        "vals = nums\n",
        "del vals[:]\n",
        "\n",
        "print(nums)\n",
        "print(vals)"
      ],
      "execution_count": null,
      "outputs": [
        {
          "output_type": "stream",
          "name": "stdout",
          "text": [
            "[]\n",
            "[]\n"
          ]
        }
      ]
    },
    {
      "cell_type": "code",
      "metadata": {
        "colab": {
          "base_uri": "https://localhost:8080/"
        },
        "id": "50_ekpVodtfo",
        "outputId": "aab421aa-0d86-4267-eb62-232625cf7d63"
      },
      "source": [
        "x = 1\n",
        "y = 2\n",
        "x,y,z = x,x,y\n",
        "z,y,z = x,y,z\n",
        "\n",
        "print(x,y,z)"
      ],
      "execution_count": null,
      "outputs": [
        {
          "output_type": "stream",
          "name": "stdout",
          "text": [
            "1 1 2\n"
          ]
        }
      ]
    },
    {
      "cell_type": "code",
      "metadata": {
        "colab": {
          "base_uri": "https://localhost:8080/",
          "height": 197
        },
        "id": "Bb8pbuI5d3ZM",
        "outputId": "df143c31-0991-4342-e2fe-080f4c59a021"
      },
      "source": [
        "dd = {'1': '0', '0': '1'}\n",
        "for x in dd.vals():\n",
        "  print(x, end='')"
      ],
      "execution_count": null,
      "outputs": [
        {
          "output_type": "error",
          "ename": "AttributeError",
          "evalue": "ignored",
          "traceback": [
            "\u001b[0;31m---------------------------------------------------------------------------\u001b[0m",
            "\u001b[0;31mAttributeError\u001b[0m                            Traceback (most recent call last)",
            "\u001b[0;32m<ipython-input-91-fd0a9c2ae464>\u001b[0m in \u001b[0;36m<module>\u001b[0;34m()\u001b[0m\n\u001b[1;32m      1\u001b[0m \u001b[0mdd\u001b[0m \u001b[0;34m=\u001b[0m \u001b[0;34m{\u001b[0m\u001b[0;34m'1'\u001b[0m\u001b[0;34m:\u001b[0m \u001b[0;34m'0'\u001b[0m\u001b[0;34m,\u001b[0m \u001b[0;34m'0'\u001b[0m\u001b[0;34m:\u001b[0m \u001b[0;34m'1'\u001b[0m\u001b[0;34m}\u001b[0m\u001b[0;34m\u001b[0m\u001b[0;34m\u001b[0m\u001b[0m\n\u001b[0;32m----> 2\u001b[0;31m \u001b[0;32mfor\u001b[0m \u001b[0mx\u001b[0m \u001b[0;32min\u001b[0m \u001b[0mdd\u001b[0m\u001b[0;34m.\u001b[0m\u001b[0mvals\u001b[0m\u001b[0;34m(\u001b[0m\u001b[0;34m)\u001b[0m\u001b[0;34m:\u001b[0m\u001b[0;34m\u001b[0m\u001b[0;34m\u001b[0m\u001b[0m\n\u001b[0m\u001b[1;32m      3\u001b[0m   \u001b[0mprint\u001b[0m\u001b[0;34m(\u001b[0m\u001b[0mx\u001b[0m\u001b[0;34m,\u001b[0m \u001b[0mend\u001b[0m\u001b[0;34m=\u001b[0m\u001b[0;34m''\u001b[0m\u001b[0;34m)\u001b[0m\u001b[0;34m\u001b[0m\u001b[0;34m\u001b[0m\u001b[0m\n",
            "\u001b[0;31mAttributeError\u001b[0m: 'dict' object has no attribute 'vals'"
          ]
        }
      ]
    },
    {
      "cell_type": "code",
      "metadata": {
        "colab": {
          "base_uri": "https://localhost:8080/"
        },
        "id": "jUuI0SPveGqk",
        "outputId": "c9e8163c-6ecb-41e2-ba05-fbbbae0d13ed"
      },
      "source": [
        "lista = [i for i in range(-1,-2)]\n",
        "print(lista)\n",
        "\n",
        "print(len(lista))"
      ],
      "execution_count": null,
      "outputs": [
        {
          "output_type": "stream",
          "name": "stdout",
          "text": [
            "[]\n",
            "0\n"
          ]
        }
      ]
    },
    {
      "cell_type": "code",
      "metadata": {
        "colab": {
          "base_uri": "https://localhost:8080/"
        },
        "id": "-5L6lfJHeZkL",
        "outputId": "c5ded556-6e36-40d4-9829-766e935e699d"
      },
      "source": [
        "def fun(a,b,c=0):\n",
        "  \n",
        "  print(a,b,c)\n",
        "\n",
        "fun(0,1,2)"
      ],
      "execution_count": null,
      "outputs": [
        {
          "output_type": "stream",
          "name": "stdout",
          "text": [
            "0 1 2\n"
          ]
        }
      ]
    },
    {
      "cell_type": "code",
      "metadata": {
        "colab": {
          "base_uri": "https://localhost:8080/"
        },
        "id": "PArH4lGQet-J",
        "outputId": "033a9f99-61d1-4671-8e76-92bf1f009dda"
      },
      "source": [
        "lista = [1,2]\n",
        "\n",
        "for v in range(2):\n",
        "  lista.insert(-1, lista[v])\n",
        "\n",
        "print(lista)"
      ],
      "execution_count": null,
      "outputs": [
        {
          "output_type": "stream",
          "name": "stdout",
          "text": [
            "[1, 1, 1, 2]\n"
          ]
        }
      ]
    },
    {
      "cell_type": "code",
      "metadata": {
        "colab": {
          "base_uri": "https://localhost:8080/"
        },
        "id": "iRH9H-Sne9G4",
        "outputId": "bff0a87e-edd5-4667-f036-d9dd32b1abc8"
      },
      "source": [
        "x = 2\n",
        "y = 4\n",
        "print(y ** (1/x))"
      ],
      "execution_count": null,
      "outputs": [
        {
          "output_type": "stream",
          "name": "stdout",
          "text": [
            "2.0\n"
          ]
        }
      ]
    },
    {
      "cell_type": "code",
      "metadata": {
        "colab": {
          "base_uri": "https://localhost:8080/"
        },
        "id": "-RxSJ-gHfGBJ",
        "outputId": "98257767-b9fa-412c-bd2c-890ec62f7820"
      },
      "source": [
        "tup = (1,2,4,8)\n",
        "tup = tup[-2:-1]\n",
        "print(tup)\n",
        "tup = tup[-1]\n",
        "print(tup)"
      ],
      "execution_count": null,
      "outputs": [
        {
          "output_type": "stream",
          "name": "stdout",
          "text": [
            "(4,)\n",
            "4\n"
          ]
        }
      ]
    },
    {
      "cell_type": "code",
      "metadata": {
        "colab": {
          "base_uri": "https://localhost:8080/"
        },
        "id": "AzmHQ_Jlfc3z",
        "outputId": "dfecfdff-5319-408c-9386-7aa73af0aacb"
      },
      "source": [
        "def fun(x,y):\n",
        "  if x == y:\n",
        "    return x\n",
        "  else:\n",
        "    return fun(x,y-1)\n",
        "\n",
        "print(fun(0,3))"
      ],
      "execution_count": null,
      "outputs": [
        {
          "output_type": "stream",
          "name": "stdout",
          "text": [
            "0\n"
          ]
        }
      ]
    },
    {
      "cell_type": "code",
      "metadata": {
        "id": "J6Z_Imj6fyO5"
      },
      "source": [
        "lista = [[x for x in range(3)] for y in range(3)]\n",
        "print(lista)\n",
        "for r in range(3):\n",
        "  print(r)\n",
        "  for c in range(3):\n",
        "    print(c)\n",
        "    if lista[r][c] % 2 !=0:\n",
        "      print('*')"
      ],
      "execution_count": null,
      "outputs": []
    },
    {
      "cell_type": "code",
      "metadata": {
        "colab": {
          "base_uri": "https://localhost:8080/"
        },
        "id": "pwRiAyKGgIjz",
        "outputId": "da53477e-feef-4a87-d205-2d63406ef256"
      },
      "source": [
        "1//5+1/5"
      ],
      "execution_count": null,
      "outputs": [
        {
          "output_type": "execute_result",
          "data": {
            "text/plain": [
              "0.2"
            ]
          },
          "metadata": {},
          "execution_count": 109
        }
      ]
    },
    {
      "cell_type": "code",
      "metadata": {
        "colab": {
          "base_uri": "https://localhost:8080/"
        },
        "id": "FXwpX7wog-M_",
        "outputId": "f84ca11b-4ced-41f4-bff3-dd69700d4a78"
      },
      "source": [
        "dic = {}\n",
        "\n",
        "dic['1'] = (1,2)\n",
        "dic['2'] = (2,1)\n",
        "\n",
        "for x in dic.keys():\n",
        "  print(x)\n",
        "\n",
        "print(dic['1'])\n",
        "print(dic['1'][1])\n",
        "\n",
        "print(dic['2'])\n",
        "print(dic['2'][1])"
      ],
      "execution_count": null,
      "outputs": [
        {
          "output_type": "stream",
          "name": "stdout",
          "text": [
            "1\n",
            "2\n",
            "(1, 2)\n",
            "2\n",
            "(2, 1)\n",
            "1\n"
          ]
        }
      ]
    },
    {
      "cell_type": "code",
      "metadata": {
        "colab": {
          "base_uri": "https://localhost:8080/"
        },
        "id": "Qk8nwaRQ2Toj",
        "outputId": "bc62344c-0e5f-4b1c-ba7f-397fcdd38e4d"
      },
      "source": [
        "print(chr(ord('z')-2))"
      ],
      "execution_count": null,
      "outputs": [
        {
          "output_type": "stream",
          "name": "stdout",
          "text": [
            "x\n"
          ]
        }
      ]
    },
    {
      "cell_type": "code",
      "metadata": {
        "colab": {
          "base_uri": "https://localhost:8080/"
        },
        "id": "o937B3oc3v66",
        "outputId": "2f323cf0-9a48-43e8-ed78-04766da4903b"
      },
      "source": [
        "x = '\\''\n",
        "print(len(x))"
      ],
      "execution_count": null,
      "outputs": [
        {
          "output_type": "stream",
          "name": "stdout",
          "text": [
            "1\n"
          ]
        }
      ]
    },
    {
      "cell_type": "code",
      "metadata": {
        "colab": {
          "base_uri": "https://localhost:8080/"
        },
        "id": "6SY9jm9k32OM",
        "outputId": "1375a0c1-f3e9-4a31-ae59-37f66279b9d3"
      },
      "source": [
        "print('Mike' > \"Mikey\")"
      ],
      "execution_count": null,
      "outputs": [
        {
          "output_type": "stream",
          "name": "stdout",
          "text": [
            "False\n"
          ]
        }
      ]
    },
    {
      "cell_type": "code",
      "metadata": {
        "colab": {
          "base_uri": "https://localhost:8080/"
        },
        "id": "AEoBIQaW37D8",
        "outputId": "19eb83b3-3b16-4847-a0c7-611559ac0ac6"
      },
      "source": [
        "print(ord('c') - ord('a'))"
      ],
      "execution_count": null,
      "outputs": [
        {
          "output_type": "stream",
          "name": "stdout",
          "text": [
            "2\n"
          ]
        }
      ]
    },
    {
      "cell_type": "code",
      "metadata": {
        "colab": {
          "base_uri": "https://localhost:8080/"
        },
        "id": "4bAK_wti4E16",
        "outputId": "d9564fdc-f734-48b2-f4d9-7150dc281a54"
      },
      "source": [
        "print(3*'abc' + 'xyz')"
      ],
      "execution_count": null,
      "outputs": [
        {
          "output_type": "stream",
          "name": "stdout",
          "text": [
            "abcabcabcxyz\n"
          ]
        }
      ]
    },
    {
      "cell_type": "code",
      "metadata": {
        "colab": {
          "base_uri": "https://localhost:8080/"
        },
        "id": "rROahuJj4xtX",
        "outputId": "06abc5f9-8dea-4caf-a0ee-3b7f2c40f6e0"
      },
      "source": [
        "a = 'mike'\n",
        "b = 'Mike'\n",
        "a > b"
      ],
      "execution_count": null,
      "outputs": [
        {
          "output_type": "execute_result",
          "data": {
            "text/plain": [
              "True"
            ]
          },
          "metadata": {},
          "execution_count": 21
        }
      ]
    },
    {
      "cell_type": "code",
      "metadata": {
        "colab": {
          "base_uri": "https://localhost:8080/"
        },
        "id": "Xf5BRJTB8ckp",
        "outputId": "cfd9d7ee-8470-41a2-bd50-75c53b05a3f8"
      },
      "source": [
        "'mike' > 'Mikey'"
      ],
      "execution_count": null,
      "outputs": [
        {
          "output_type": "execute_result",
          "data": {
            "text/plain": [
              "True"
            ]
          },
          "metadata": {},
          "execution_count": 3
        }
      ]
    },
    {
      "cell_type": "code",
      "metadata": {
        "colab": {
          "base_uri": "https://localhost:8080/"
        },
        "id": "taowPvDPwpgP",
        "outputId": "f295e36d-dd0d-4528-ca72-e80992f999aa"
      },
      "source": [
        "'Mike' > 'Mikey'"
      ],
      "execution_count": null,
      "outputs": [
        {
          "output_type": "execute_result",
          "data": {
            "text/plain": [
              "False"
            ]
          },
          "metadata": {},
          "execution_count": 1
        }
      ]
    },
    {
      "cell_type": "code",
      "metadata": {
        "colab": {
          "base_uri": "https://localhost:8080/"
        },
        "id": "a4oP2gaWPZmw",
        "outputId": "ca7f9728-3d88-468d-91da-65ccb43443b4"
      },
      "source": [
        "palavra_secreta = 'xx'\n",
        "\n",
        "palavra = str(input('Qual é a palavra? '))\n",
        "\n",
        "while palavra != palavra_secreta:\n",
        "  print('voce errou')\n",
        "  palavra = str(input('Qual é a palavra? '))\n",
        "\n",
        "  if palavra == palavra_secreta:\n",
        "    break\n",
        "\n",
        "\n",
        "print('você ganhou')"
      ],
      "execution_count": null,
      "outputs": [
        {
          "output_type": "stream",
          "name": "stdout",
          "text": [
            "Qual é a palavra? a\n",
            "voce errou\n",
            "Qual é a palavra? x\n",
            "voce errou\n",
            "Qual é a palavra? h\n",
            "voce errou\n",
            "Qual é a palavra? xx\n",
            "você ganhou\n"
          ]
        }
      ]
    },
    {
      "cell_type": "code",
      "metadata": {
        "id": "SSZHxxElUvSv"
      },
      "source": [
        "#lista [1,3,6,10,15,21,28]\n",
        "\n",
        "final = int(input('Digite um numero'))\n",
        "\n",
        "lista = [1]\n",
        "incrementador = 2\n",
        "\n",
        "inicio = 1\n",
        "\n",
        "soma = sum(lista)\n",
        "valor_max = max(lista)\n",
        "\n",
        "\n",
        "while final > len(lista):\n",
        "\n",
        "  lista.append(valor_max+incrementador)\n",
        "  valor_max = max(lista)\n",
        "  soma = sum(lista)\n",
        "  incrementador +=1\n",
        "\n",
        "  if sum(lista) > final:\n",
        "    break\n",
        "\n",
        "print(lista)\n",
        "print(len(lista)-1)\n"
      ],
      "execution_count": null,
      "outputs": []
    },
    {
      "cell_type": "code",
      "metadata": {
        "colab": {
          "base_uri": "https://localhost:8080/"
        },
        "id": "671qX_Vr4FiA",
        "outputId": "72b915e2-8296-4ff6-89b2-d0e11430c28b"
      },
      "source": [
        "#Programa de bloco x piramide, insira a quantidade de blocos para descobrir quantos niveis sera realizado\n",
        "\n",
        "entrada = int(input('Digite um numero: '))\n",
        "\n",
        "#lista [1,3,6,10,15,21,28]\n",
        "\n",
        "incrementador = 1\n",
        "validacao = entrada\n",
        "contagem = 0\n",
        "\n",
        "while validacao >=0:\n",
        "  validacao = validacao - incrementador\n",
        "  if validacao < 0:\n",
        "    break\n",
        "  else:\n",
        "    contagem +=1\n",
        "    incrementador +=1\n",
        "\n",
        "print(contagem)\n",
        "\n",
        "\n",
        "  "
      ],
      "execution_count": null,
      "outputs": [
        {
          "output_type": "stream",
          "name": "stdout",
          "text": [
            "Digite um numero: 2\n",
            "1\n"
          ]
        }
      ]
    },
    {
      "cell_type": "code",
      "metadata": {
        "colab": {
          "base_uri": "https://localhost:8080/"
        },
        "id": "0pEm-Jy9TNo4",
        "outputId": "c3eb887c-f47a-4aba-cfdc-6bf1e434897d"
      },
      "source": [
        "\n",
        "def fun(n):\n",
        "  for i in range(n):\n",
        "    yield i\n",
        "\n",
        "\n",
        "\n",
        "for v in fun(5):\n",
        "  print(v)"
      ],
      "execution_count": 13,
      "outputs": [
        {
          "output_type": "stream",
          "name": "stdout",
          "text": [
            "0\n",
            "1\n",
            "2\n",
            "3\n",
            "4\n"
          ]
        }
      ]
    },
    {
      "cell_type": "code",
      "metadata": {
        "colab": {
          "base_uri": "https://localhost:8080/"
        },
        "id": "mbiDJFLuUZVV",
        "outputId": "4600f187-1a9b-4d4f-f4cb-a810061b2cff"
      },
      "source": [
        "def power_of_2(n):\n",
        "  power = 1\n",
        "  for i in range(n):\n",
        "    yield power\n",
        "    power *=2 # power = power *2\n",
        "    \n",
        "\n",
        "for v in power_of_2(8):\n",
        "  print(v)"
      ],
      "execution_count": 14,
      "outputs": [
        {
          "output_type": "stream",
          "name": "stdout",
          "text": [
            "1\n",
            "2\n",
            "4\n",
            "8\n",
            "16\n",
            "32\n",
            "64\n",
            "128\n"
          ]
        }
      ]
    },
    {
      "cell_type": "code",
      "metadata": {
        "colab": {
          "base_uri": "https://localhost:8080/"
        },
        "id": "KywusLc6V_jY",
        "outputId": "be9bfda6-89dd-4913-c25c-570af00db4c7"
      },
      "source": [
        "def power_of_2(n):\n",
        "  power = 1\n",
        "  for i in range(n):\n",
        "    yield power\n",
        "    power *= 2\n",
        "\n",
        "t = [x for x in power_of_2(5)]\n",
        "print(t)"
      ],
      "execution_count": 19,
      "outputs": [
        {
          "output_type": "stream",
          "name": "stdout",
          "text": [
            "[1, 2, 4, 8, 16]\n"
          ]
        }
      ]
    },
    {
      "cell_type": "code",
      "metadata": {
        "colab": {
          "base_uri": "https://localhost:8080/"
        },
        "id": "WNfEsLiFWpFD",
        "outputId": "bbb0fed8-4f15-49df-a166-374f7c24c8fa"
      },
      "source": [
        "def power_of_2(n):\n",
        "  power = 1\n",
        "  for i in range(n):\n",
        "    yield power\n",
        "    power *=2\n",
        "\n",
        "t = list(power_of_2(3))\n",
        "\n",
        "print(t)"
      ],
      "execution_count": 20,
      "outputs": [
        {
          "output_type": "stream",
          "name": "stdout",
          "text": [
            "[1, 2, 4]\n"
          ]
        }
      ]
    },
    {
      "cell_type": "code",
      "metadata": {
        "colab": {
          "base_uri": "https://localhost:8080/"
        },
        "id": "Tsv0wG77W5hw",
        "outputId": "d63a1b59-cf57-44ea-fc8d-909ba97d664c"
      },
      "source": [
        "def power_of_2(n):\n",
        "  power = 1\n",
        "  for i in range(n):\n",
        "    yield power\n",
        "    power *=2\n",
        "\n",
        "for i in range(20):\n",
        "  if i in power_of_2(4):\n",
        "    print(i)"
      ],
      "execution_count": 21,
      "outputs": [
        {
          "output_type": "stream",
          "name": "stdout",
          "text": [
            "1\n",
            "2\n",
            "4\n",
            "8\n"
          ]
        }
      ]
    },
    {
      "cell_type": "code",
      "metadata": {
        "colab": {
          "base_uri": "https://localhost:8080/"
        },
        "id": "xT14XGS8XVAS",
        "outputId": "a22e10a0-cd4b-426d-bdd8-1dd8fbd6b725"
      },
      "source": [
        "def fibonacci(n):\n",
        "  p = pp = 1\n",
        "  for i in range(n):\n",
        "    if i in [0,1]:\n",
        "      yield 1\n",
        "    else:\n",
        "      n = p + pp\n",
        "      print('p {}'.format(p))\n",
        "      print(pp)\n",
        "      pp, p = p, n\n",
        "      yield n\n",
        "\n",
        "fibs = list(fibonacci(4))\n",
        "print(fibs)"
      ],
      "execution_count": 26,
      "outputs": [
        {
          "output_type": "stream",
          "name": "stdout",
          "text": [
            "p 1\n",
            "1\n",
            "p 2\n",
            "1\n",
            "[1, 1, 2, 3]\n"
          ]
        }
      ]
    },
    {
      "cell_type": "code",
      "metadata": {
        "colab": {
          "base_uri": "https://localhost:8080/"
        },
        "id": "Ko0uHTUWaP2J",
        "outputId": "2bad8f87-3338-4f2c-8fac-5efeb497e420"
      },
      "source": [
        "lista_1 = []\n",
        "\n",
        "for ex in range(6):\n",
        "  lista_1.append(10 ** ex)\n",
        "\n",
        "lista_2 = [10 ** ex for ex in range(6)]\n",
        "\n",
        "print(lista_1)\n",
        "print(lista_2)"
      ],
      "execution_count": 29,
      "outputs": [
        {
          "output_type": "stream",
          "name": "stdout",
          "text": [
            "[1, 10, 100, 1000, 10000, 100000]\n",
            "[1, 10, 100, 1000, 10000, 100000]\n"
          ]
        }
      ]
    },
    {
      "cell_type": "code",
      "metadata": {
        "colab": {
          "base_uri": "https://localhost:8080/"
        },
        "id": "j7XsDZz7a-lD",
        "outputId": "521c180f-9730-4b48-d117-d6eb3455e16b"
      },
      "source": [
        "10 ** 0"
      ],
      "execution_count": 33,
      "outputs": [
        {
          "output_type": "execute_result",
          "data": {
            "text/plain": [
              "1"
            ]
          },
          "metadata": {},
          "execution_count": 33
        }
      ]
    },
    {
      "cell_type": "code",
      "metadata": {
        "colab": {
          "base_uri": "https://localhost:8080/"
        },
        "id": "Yn7e2EXXbsx_",
        "outputId": "b98b4690-9040-4454-f3ea-0f6dbb49287e"
      },
      "source": [
        "0 / 2"
      ],
      "execution_count": 34,
      "outputs": [
        {
          "output_type": "execute_result",
          "data": {
            "text/plain": [
              "0.0"
            ]
          },
          "metadata": {},
          "execution_count": 34
        }
      ]
    },
    {
      "cell_type": "code",
      "metadata": {
        "colab": {
          "base_uri": "https://localhost:8080/"
        },
        "id": "iPy48lCxbUwm",
        "outputId": "1e4de726-6c7c-4323-ff2a-8f7df27bcfb0"
      },
      "source": [
        "lista = []\n",
        "for x in range(10):\n",
        "  lista.append(1 if x % 2 ==0 else 0)\n",
        "\n",
        "print(lista)"
      ],
      "execution_count": 35,
      "outputs": [
        {
          "output_type": "stream",
          "name": "stdout",
          "text": [
            "[1, 0, 1, 0, 1, 0, 1, 0, 1, 0]\n"
          ]
        }
      ]
    },
    {
      "cell_type": "code",
      "metadata": {
        "colab": {
          "base_uri": "https://localhost:8080/"
        },
        "id": "-p6tAZAjcKAs",
        "outputId": "8baf8e11-78dc-4bff-f241-71679acf58d3"
      },
      "source": [
        "lista = [1 if x % 2 == 0 else 0 for x in range(10)]\n",
        "\n",
        "gerador = (1 if x % 2 ==0 else 0 for x in range(10))\n",
        "\n",
        "for v in lista:\n",
        "  print(v, end='')\n",
        "\n",
        "print()\n",
        "\n",
        "for v in gerador:\n",
        "  print(v, end='')\n"
      ],
      "execution_count": 42,
      "outputs": [
        {
          "output_type": "stream",
          "name": "stdout",
          "text": [
            "1010101010\n",
            "1010101010"
          ]
        }
      ]
    },
    {
      "cell_type": "code",
      "metadata": {
        "colab": {
          "base_uri": "https://localhost:8080/"
        },
        "id": "J1KNH-TMdEnm",
        "outputId": "48a73073-e500-444c-a73c-8a3e91b015c3"
      },
      "source": [
        "1%2"
      ],
      "execution_count": 37,
      "outputs": [
        {
          "output_type": "execute_result",
          "data": {
            "text/plain": [
              "1"
            ]
          },
          "metadata": {},
          "execution_count": 37
        }
      ]
    },
    {
      "cell_type": "code",
      "metadata": {
        "colab": {
          "base_uri": "https://localhost:8080/"
        },
        "id": "Ttt7O5PGefhH",
        "outputId": "19224a0e-6a89-433e-d506-d452a0695214"
      },
      "source": [
        "two = lambda: 2\n",
        "sqr = lambda x: x * x\n",
        "pwr = lambda x, y: x ** y\n",
        "\n",
        "for a in range(-2,3):\n",
        "  print(sqr(a), end='')\n",
        "  print(pwr(a, two()))\n",
        "  \n",
        "  \n"
      ],
      "execution_count": 45,
      "outputs": [
        {
          "output_type": "stream",
          "name": "stdout",
          "text": [
            "44\n",
            "11\n",
            "00\n",
            "11\n",
            "44\n"
          ]
        }
      ]
    },
    {
      "cell_type": "code",
      "metadata": {
        "colab": {
          "base_uri": "https://localhost:8080/"
        },
        "id": "3eT-A117gwJy",
        "outputId": "ed59160d-7317-45bf-d85a-b219d120bc91"
      },
      "source": [
        "def print_funciton(args, fun):\n",
        "  for x in args:\n",
        "    print('f(', x,')=', fun(x))\n",
        "\n",
        "def poly(x):\n",
        "  return 2 * x**2 -4 * x +2\n",
        "\n",
        "print_funciton([x for x in range(-2,3)], poly)"
      ],
      "execution_count": 54,
      "outputs": [
        {
          "output_type": "stream",
          "name": "stdout",
          "text": [
            "f( -2 )= 18\n",
            "f( -1 )= 8\n",
            "f( 0 )= 2\n",
            "f( 1 )= 0\n",
            "f( 2 )= 2\n"
          ]
        }
      ]
    },
    {
      "cell_type": "code",
      "metadata": {
        "colab": {
          "base_uri": "https://localhost:8080/"
        },
        "id": "Cv8b3lltjXV_",
        "outputId": "e1e51b5b-5fb6-4867-acc7-c8b260914f7c"
      },
      "source": [
        "lista = [-2,-1,0,1,2]\n",
        "\n",
        "for x in lista:\n",
        "  print(((2 * (x ** 2)) - (4 * x) ) + 2)\n",
        " "
      ],
      "execution_count": 66,
      "outputs": [
        {
          "output_type": "stream",
          "name": "stdout",
          "text": [
            "18\n",
            "8\n",
            "2\n",
            "0\n",
            "2\n"
          ]
        }
      ]
    },
    {
      "cell_type": "code",
      "metadata": {
        "colab": {
          "base_uri": "https://localhost:8080/"
        },
        "id": "W2T7JFqKlfin",
        "outputId": "dc2f283e-826e-45fa-e891-9e473e3a71e3"
      },
      "source": [
        "x = -2\n",
        "\n",
        "((2 * (x**2)) - (4*x) + 2)"
      ],
      "execution_count": 75,
      "outputs": [
        {
          "output_type": "execute_result",
          "data": {
            "text/plain": [
              "18"
            ]
          },
          "metadata": {},
          "execution_count": 75
        }
      ]
    },
    {
      "cell_type": "code",
      "metadata": {
        "colab": {
          "base_uri": "https://localhost:8080/"
        },
        "id": "NHd6doGpmYQ6",
        "outputId": "1764d548-592d-441b-f8af-1a109bdbce2d"
      },
      "source": [
        "(4*-2) + 2"
      ],
      "execution_count": 80,
      "outputs": [
        {
          "output_type": "execute_result",
          "data": {
            "text/plain": [
              "-6"
            ]
          },
          "metadata": {},
          "execution_count": 80
        }
      ]
    },
    {
      "cell_type": "code",
      "metadata": {
        "colab": {
          "base_uri": "https://localhost:8080/"
        },
        "id": "w-aQN-kjmFIS",
        "outputId": "7b659e58-fcbd-4f5e-cf9c-2f7302ece8be"
      },
      "source": [
        "((2 * (-2**2)))"
      ],
      "execution_count": 78,
      "outputs": [
        {
          "output_type": "execute_result",
          "data": {
            "text/plain": [
              "-8"
            ]
          },
          "metadata": {},
          "execution_count": 78
        }
      ]
    },
    {
      "cell_type": "code",
      "metadata": {
        "colab": {
          "base_uri": "https://localhost:8080/"
        },
        "id": "u4uGxpZdmoyP",
        "outputId": "71e64822-b515-4336-e865-590972415cbd"
      },
      "source": [
        "def print_function(args, fun):\n",
        "    for x in args:\n",
        "        print('f(', x,')=', fun(x), sep='')\n",
        "\n",
        "print_function([x for x in range(-2, 3)], lambda x: 2 * x**2 - 4 * x + 2)\n",
        "\n"
      ],
      "execution_count": 81,
      "outputs": [
        {
          "output_type": "stream",
          "name": "stdout",
          "text": [
            "f(-2)=18\n",
            "f(-1)=8\n",
            "f(0)=2\n",
            "f(1)=0\n",
            "f(2)=2\n"
          ]
        }
      ]
    },
    {
      "cell_type": "code",
      "metadata": {
        "colab": {
          "base_uri": "https://localhost:8080/"
        },
        "id": "LVlMKMMrnQpo",
        "outputId": "57ab21d8-69f6-460c-e6e3-52104c14532e"
      },
      "source": [
        "lista_1 = [x for x in range(5)]\n",
        "print(lista_1)\n",
        "lista_2 = list(map(lambda x: 2 ** x, lista_1))\n",
        "print(lista_2)"
      ],
      "execution_count": 88,
      "outputs": [
        {
          "output_type": "stream",
          "name": "stdout",
          "text": [
            "[0, 1, 2, 3, 4]\n",
            "[1, 2, 4, 8, 16]\n"
          ]
        }
      ]
    },
    {
      "cell_type": "code",
      "metadata": {
        "colab": {
          "base_uri": "https://localhost:8080/"
        },
        "id": "gUK1hU2WozFJ",
        "outputId": "865bbb1a-e1b5-4b53-b94c-42dba3f7c045"
      },
      "source": [
        "from random import seed, randint\n",
        "seed()\n",
        "data = [randint(-10,10) for x in range(5)]\n",
        "\n",
        "filtro = list(filter(lambda x: x>0 and x%2 ==0, data))\n",
        "\n",
        "print(data)\n",
        "\n",
        "print(filtro)"
      ],
      "execution_count": 101,
      "outputs": [
        {
          "output_type": "stream",
          "name": "stdout",
          "text": [
            "[-9, -9, 2, 4, 8]\n",
            "[2, 4, 8]\n"
          ]
        }
      ]
    },
    {
      "cell_type": "code",
      "metadata": {
        "colab": {
          "base_uri": "https://localhost:8080/"
        },
        "id": "Y_PVbdxSrRH7",
        "outputId": "7d610819-e25f-43b0-afe3-b02be9aec6c7"
      },
      "source": [
        "def outer(par):\n",
        "  loc = par\n",
        "\n",
        "  def inner():\n",
        "    return loc\n",
        "  return inner\n",
        "\n",
        "var = 1\n",
        "fun = outer(var)\n",
        "\n",
        "print(fun())"
      ],
      "execution_count": 102,
      "outputs": [
        {
          "output_type": "stream",
          "name": "stdout",
          "text": [
            "1\n"
          ]
        }
      ]
    },
    {
      "cell_type": "code",
      "metadata": {
        "colab": {
          "base_uri": "https://localhost:8080/"
        },
        "id": "GV0B5Fj8rq3J",
        "outputId": "6c37e747-9eb4-4ece-eb5f-ccd297110db9"
      },
      "source": [
        "def make_closure(par):\n",
        "  loc = par\n",
        "\n",
        "  def power(p):\n",
        "    return p ** loc\n",
        "  return power\n",
        "\n",
        "fsqr = make_closure(2)\n",
        "fcub = make_closure(3)\n",
        "\n",
        "for i in range(5):\n",
        "  print(i, fsqr(i), fcub(i))\n",
        "\n"
      ],
      "execution_count": 104,
      "outputs": [
        {
          "output_type": "stream",
          "name": "stdout",
          "text": [
            "0 0 0\n",
            "1 1 1\n",
            "2 4 8\n",
            "3 9 27\n",
            "4 16 64\n"
          ]
        }
      ]
    },
    {
      "cell_type": "code",
      "metadata": {
        "colab": {
          "base_uri": "https://localhost:8080/"
        },
        "id": "axV6--84txjX",
        "outputId": "3d7dbed8-c14c-4a37-9ab5-a6566e98b1eb"
      },
      "source": [
        "class Vowels:\n",
        "  def __init__(self):\n",
        "    self.vow = 'aeiouy'\n",
        "    self.pos = 0\n",
        "\n",
        "  def __iter__(self):\n",
        "    return self\n",
        "  \n",
        "  def __next__(self):\n",
        "    if self.pos == len(self.vow):\n",
        "      raise StopIteration\n",
        "    self.pos += 1\n",
        "    return self.vow[self.pos -1]\n",
        "\n",
        "vowels = Vowels()\n",
        "\n",
        "for v in vowels:\n",
        "  print(v, end=' ')\n"
      ],
      "execution_count": 105,
      "outputs": [
        {
          "output_type": "stream",
          "name": "stdout",
          "text": [
            "a e i o u y "
          ]
        }
      ]
    },
    {
      "cell_type": "code",
      "metadata": {
        "colab": {
          "base_uri": "https://localhost:8080/"
        },
        "id": "R4vjzWv6u6zg",
        "outputId": "90907eab-528d-4422-b52a-6ae57c308c76"
      },
      "source": [
        ""
      ],
      "execution_count": 106,
      "outputs": [
        {
          "output_type": "stream",
          "name": "stdout",
          "text": [
            "[1, 3, 3, 5]\n"
          ]
        }
      ]
    },
    {
      "cell_type": "code",
      "metadata": {
        "colab": {
          "base_uri": "https://localhost:8080/"
        },
        "id": "pyfjelHu0P5O",
        "outputId": "a87f881b-8fe1-4d76-87d8-60db0717b6ce"
      },
      "source": [
        "lista = [1,2,3,4]\n",
        "for item in lista:\n",
        "  print(bin(item).replace('0b', ''))\n",
        "\n",
        "print('\\n outro \\n')\n",
        "any_list = [1,2,3,4]\n",
        "even_list = list(map(lambda x: x | 1, any_list))\n",
        "print(even_list)\n"
      ],
      "execution_count": 118,
      "outputs": [
        {
          "output_type": "stream",
          "name": "stdout",
          "text": [
            "1\n",
            "10\n",
            "11\n",
            "100\n",
            "\n",
            " outro \n",
            "\n",
            "[1, 3, 3, 5]\n"
          ]
        }
      ]
    },
    {
      "cell_type": "code",
      "metadata": {
        "colab": {
          "base_uri": "https://localhost:8080/"
        },
        "id": "rlihqKW_3hzy",
        "outputId": "ed83309e-adc1-4b76-d66d-9acf0c25a613"
      },
      "source": [
        "print(bin(1).replace('0b', ''))\n",
        "print(bin(5).replace('0b', ''))"
      ],
      "execution_count": 131,
      "outputs": [
        {
          "output_type": "stream",
          "name": "stdout",
          "text": [
            "1\n",
            "101\n"
          ]
        }
      ]
    },
    {
      "cell_type": "code",
      "metadata": {
        "colab": {
          "base_uri": "https://localhost:8080/"
        },
        "id": "7HRXoULt1SwZ",
        "outputId": "577492be-7153-478e-dff4-cd776e82afd9"
      },
      "source": [
        "print(bin(14).replace('0b', ''))\n",
        "print(bin(9).replace('0b', ''))\n",
        "\n",
        "14 | 9 \n",
        "\n",
        "print(bin(15).replace('0b', ''))"
      ],
      "execution_count": 126,
      "outputs": [
        {
          "output_type": "stream",
          "name": "stdout",
          "text": [
            "1110\n",
            "1001\n",
            "1111\n"
          ]
        }
      ]
    },
    {
      "cell_type": "code",
      "metadata": {
        "colab": {
          "base_uri": "https://localhost:8080/"
        },
        "id": "2k4zYsYDyeP6",
        "outputId": "36145d32-cd63-4894-d62f-6d0600f284af"
      },
      "source": [
        "def replace_spaces(replacement='*'):\n",
        "  def new_replacement(text):\n",
        "    return text.replace(' ',replacement)\n",
        "  return new_replacement\n",
        "\n",
        "stars = replace_spaces()\n",
        "\n",
        "print(stars('And Now for something completely different'))"
      ],
      "execution_count": 107,
      "outputs": [
        {
          "output_type": "stream",
          "name": "stdout",
          "text": [
            "And*Now*for*something*completely*different\n"
          ]
        }
      ]
    },
    {
      "cell_type": "code",
      "metadata": {
        "id": "oKfRJybb_HEk"
      },
      "source": [
        "'''\n",
        "import errno\n",
        "\n",
        "try:\n",
        "    s = open(\"c:/users/user/Desktop/file.txt\", \"rt\")\n",
        "    # Actual processing goes here.\n",
        "    s.close()\n",
        "\n",
        "except Exception as exc:\n",
        "  \n",
        "    if exc.errno == errno.ENOENT:\n",
        "        print(\"The file doesn't exist.\")\n",
        "    elif exc.errno == errno.EMFILE:\n",
        "        print(\"You've opened too many files.\")\n",
        "    else:\n",
        "        print(\"The error number is:\", exc.errno)\n",
        "\n",
        "'''"
      ],
      "execution_count": null,
      "outputs": []
    }
  ]
}