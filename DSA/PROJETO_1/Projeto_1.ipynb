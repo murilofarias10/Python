{
 "cells": [
  {
   "cell_type": "code",
   "execution_count": null,
   "id": "d4844b31-7924-4e98-a287-d0461a762622",
   "metadata": {
    "scrolled": true
   },
   "outputs": [],
   "source": [
    "# Instala o pacote iPython-sql #para usar linguagem SQL\n",
    "!pip install ipython-sql"
   ]
  },
  {
   "cell_type": "code",
   "execution_count": 2,
   "id": "d1f743e1-acde-4204-b59a-602835a72674",
   "metadata": {},
   "outputs": [
    {
     "name": "stdout",
     "output_type": "stream",
     "text": [
      "3.45.1\n"
     ]
    }
   ],
   "source": [
    "import sqlite3\n",
    "print(sqlite3.sqlite_version)"
   ]
  },
  {
   "cell_type": "code",
   "execution_count": 3,
   "id": "2722b65c-3ae5-44db-8c7a-e9a541e2c3e2",
   "metadata": {},
   "outputs": [],
   "source": [
    "# Imports\n",
    "import os #acessar o sistema operacional\n",
    "import pandas as pd\n",
    "import sqlite3 #banco de dados"
   ]
  },
  {
   "cell_type": "code",
   "execution_count": 4,
   "id": "72990959-9baf-48d6-b83f-7ab131438cfb",
   "metadata": {},
   "outputs": [],
   "source": [
    "# Define o caminho para o arquivo do banco de dados\n",
    "arquivo_path = 'novo_banco.db'"
   ]
  },
  {
   "cell_type": "code",
   "execution_count": 5,
   "id": "8920efef-d5c3-4864-aca9-70c98b8ed2ce",
   "metadata": {},
   "outputs": [
    {
     "name": "stdout",
     "output_type": "stream",
     "text": [
      "Arquivo novo_banco.db não encontrado.\n"
     ]
    }
   ],
   "source": [
    "# Verifica se o arquivo existe e deleta se existir para criar um novo arquivo depois\n",
    "if os.path.exists(arquivo_path):\n",
    "    try:\n",
    "        os.remove(arquivo_path)\n",
    "        print(f\"Arquivo {arquivo_path} deletado com sucesso!\")\n",
    "    except Exception as e:\n",
    "        print(f\"Erro ao deletar o arquivo {arquivo_path}. Detalhes: {e}\")\n",
    "else:\n",
    "    print(f\"Arquivo {arquivo_path} não encontrado.\")"
   ]
  },
  {
   "cell_type": "code",
   "execution_count": 6,
   "id": "659900e7-5045-450f-8662-92c0ef37f56a",
   "metadata": {},
   "outputs": [],
   "source": [
    "# Criamos e conectamos a conexão a um banco de dados SQLite\n",
    "cnn = sqlite3.connect('novo_banco.db')"
   ]
  },
  {
   "cell_type": "code",
   "execution_count": 12,
   "id": "b8663890-8f17-4d91-8e7a-fd586dd7e350",
   "metadata": {},
   "outputs": [
    {
     "name": "stdout",
     "output_type": "stream",
     "text": [
      "The sql extension is already loaded. To reload it, use:\n",
      "  %reload_ext sql\n"
     ]
    }
   ],
   "source": [
    "# Carregamos a extensão SQL\n",
    "%load_ext sql"
   ]
  },
  {
   "cell_type": "code",
   "execution_count": 13,
   "id": "f0a32304-0d7b-4517-a1bb-fc32889cde09",
   "metadata": {},
   "outputs": [],
   "source": [
    "%reload_ext sql"
   ]
  },
  {
   "cell_type": "code",
   "execution_count": 18,
   "id": "90fb57d1-26ac-4039-bf9f-7d98380098e8",
   "metadata": {},
   "outputs": [
    {
     "data": {
      "text/html": [
       "<span style=\"None\">Connecting to &#x27;sqlite:///novo_banco.db&#x27;</span>"
      ],
      "text/plain": [
       "Connecting to 'sqlite:///novo_banco.db'"
      ]
     },
     "metadata": {},
     "output_type": "display_data"
    }
   ],
   "source": [
    "# Definimos o banco de dados\n",
    "%sql sqlite:///novo_banco.db"
   ]
  },
  {
   "cell_type": "code",
   "execution_count": 8,
   "id": "b4e68c82-4a2e-41c0-9fa3-2f8ab878bfe7",
   "metadata": {},
   "outputs": [],
   "source": [
    "# Carrega o dataset\n",
    "df = pd.read_csv('dataset.csv')"
   ]
  },
  {
   "cell_type": "code",
   "execution_count": 9,
   "id": "133f1903-7f95-4bd8-82c2-3c99aedc28a8",
   "metadata": {},
   "outputs": [
    {
     "data": {
      "text/plain": [
       "(768, 9)"
      ]
     },
     "execution_count": 9,
     "metadata": {},
     "output_type": "execute_result"
    }
   ],
   "source": [
    "df.shape #linhas e colunas"
   ]
  },
  {
   "cell_type": "code",
   "execution_count": 10,
   "id": "5c6c20b4-e789-457e-b1ff-775d315e1cc8",
   "metadata": {},
   "outputs": [
    {
     "data": {
      "text/plain": [
       "768"
      ]
     },
     "execution_count": 10,
     "metadata": {},
     "output_type": "execute_result"
    }
   ],
   "source": [
    "# Copia o dataframe para dentro do banco de dados como uma tabela\n",
    "df.to_sql('diabetes', cnn)"
   ]
  },
  {
   "cell_type": "code",
   "execution_count": 16,
   "id": "b17f1824-6263-4ca5-836e-20366538791c",
   "metadata": {},
   "outputs": [
    {
     "data": {
      "text/html": [
       "<div>\n",
       "<style scoped>\n",
       "    .dataframe tbody tr th:only-of-type {\n",
       "        vertical-align: middle;\n",
       "    }\n",
       "\n",
       "    .dataframe tbody tr th {\n",
       "        vertical-align: top;\n",
       "    }\n",
       "\n",
       "    .dataframe thead th {\n",
       "        text-align: right;\n",
       "    }\n",
       "</style>\n",
       "<table border=\"1\" class=\"dataframe\">\n",
       "  <thead>\n",
       "    <tr style=\"text-align: right;\">\n",
       "      <th></th>\n",
       "      <th>Pregnancies</th>\n",
       "      <th>Glucose</th>\n",
       "      <th>BloodPressure</th>\n",
       "      <th>SkinThickness</th>\n",
       "      <th>Insulin</th>\n",
       "      <th>BMI</th>\n",
       "      <th>DiabetesPedigreeFunction</th>\n",
       "      <th>Age</th>\n",
       "      <th>Outcome</th>\n",
       "    </tr>\n",
       "  </thead>\n",
       "  <tbody>\n",
       "    <tr>\n",
       "      <th>0</th>\n",
       "      <td>1</td>\n",
       "      <td>103</td>\n",
       "      <td>30</td>\n",
       "      <td>38</td>\n",
       "      <td>83</td>\n",
       "      <td>43.3</td>\n",
       "      <td>0.183</td>\n",
       "      <td>33</td>\n",
       "      <td>0</td>\n",
       "    </tr>\n",
       "    <tr>\n",
       "      <th>1</th>\n",
       "      <td>1</td>\n",
       "      <td>115</td>\n",
       "      <td>70</td>\n",
       "      <td>30</td>\n",
       "      <td>96</td>\n",
       "      <td>34.6</td>\n",
       "      <td>0.529</td>\n",
       "      <td>32</td>\n",
       "      <td>1</td>\n",
       "    </tr>\n",
       "    <tr>\n",
       "      <th>2</th>\n",
       "      <td>3</td>\n",
       "      <td>126</td>\n",
       "      <td>88</td>\n",
       "      <td>41</td>\n",
       "      <td>235</td>\n",
       "      <td>39.3</td>\n",
       "      <td>0.704</td>\n",
       "      <td>27</td>\n",
       "      <td>0</td>\n",
       "    </tr>\n",
       "    <tr>\n",
       "      <th>3</th>\n",
       "      <td>8</td>\n",
       "      <td>99</td>\n",
       "      <td>84</td>\n",
       "      <td>0</td>\n",
       "      <td>0</td>\n",
       "      <td>35.4</td>\n",
       "      <td>0.388</td>\n",
       "      <td>50</td>\n",
       "      <td>0</td>\n",
       "    </tr>\n",
       "    <tr>\n",
       "      <th>4</th>\n",
       "      <td>7</td>\n",
       "      <td>196</td>\n",
       "      <td>90</td>\n",
       "      <td>0</td>\n",
       "      <td>0</td>\n",
       "      <td>39.8</td>\n",
       "      <td>0.451</td>\n",
       "      <td>41</td>\n",
       "      <td>1</td>\n",
       "    </tr>\n",
       "  </tbody>\n",
       "</table>\n",
       "</div>"
      ],
      "text/plain": [
       "   Pregnancies  Glucose  BloodPressure  SkinThickness  Insulin   BMI  \\\n",
       "0            1      103             30             38       83  43.3   \n",
       "1            1      115             70             30       96  34.6   \n",
       "2            3      126             88             41      235  39.3   \n",
       "3            8       99             84              0        0  35.4   \n",
       "4            7      196             90              0        0  39.8   \n",
       "\n",
       "   DiabetesPedigreeFunction  Age  Outcome  \n",
       "0                     0.183   33        0  \n",
       "1                     0.529   32        1  \n",
       "2                     0.704   27        0  \n",
       "3                     0.388   50        0  \n",
       "4                     0.451   41        1  "
      ]
     },
     "execution_count": 16,
     "metadata": {},
     "output_type": "execute_result"
    }
   ],
   "source": [
    "df.head()"
   ]
  },
  {
   "cell_type": "code",
   "execution_count": 19,
   "id": "d60e240d-9313-4ba9-a826-09b4d1314e78",
   "metadata": {},
   "outputs": [
    {
     "data": {
      "text/html": [
       "<span style=\"None\">Running query in &#x27;sqlite:///novo_banco.db&#x27;</span>"
      ],
      "text/plain": [
       "Running query in 'sqlite:///novo_banco.db'"
      ]
     },
     "metadata": {},
     "output_type": "display_data"
    },
    {
     "data": {
      "text/html": [
       "<table>\n",
       "    <thead>\n",
       "        <tr>\n",
       "            <th>index</th>\n",
       "            <th>Pregnancies</th>\n",
       "            <th>Glucose</th>\n",
       "            <th>BloodPressure</th>\n",
       "            <th>SkinThickness</th>\n",
       "            <th>Insulin</th>\n",
       "            <th>BMI</th>\n",
       "            <th>DiabetesPedigreeFunction</th>\n",
       "            <th>Age</th>\n",
       "            <th>Outcome</th>\n",
       "        </tr>\n",
       "    </thead>\n",
       "    <tbody>\n",
       "        <tr>\n",
       "            <td>0</td>\n",
       "            <td>1</td>\n",
       "            <td>103</td>\n",
       "            <td>30</td>\n",
       "            <td>38</td>\n",
       "            <td>83</td>\n",
       "            <td>43.3</td>\n",
       "            <td>0.183</td>\n",
       "            <td>33</td>\n",
       "            <td>0</td>\n",
       "        </tr>\n",
       "        <tr>\n",
       "            <td>1</td>\n",
       "            <td>1</td>\n",
       "            <td>115</td>\n",
       "            <td>70</td>\n",
       "            <td>30</td>\n",
       "            <td>96</td>\n",
       "            <td>34.6</td>\n",
       "            <td>0.529</td>\n",
       "            <td>32</td>\n",
       "            <td>1</td>\n",
       "        </tr>\n",
       "        <tr>\n",
       "            <td>2</td>\n",
       "            <td>3</td>\n",
       "            <td>126</td>\n",
       "            <td>88</td>\n",
       "            <td>41</td>\n",
       "            <td>235</td>\n",
       "            <td>39.3</td>\n",
       "            <td>0.704</td>\n",
       "            <td>27</td>\n",
       "            <td>0</td>\n",
       "        </tr>\n",
       "        <tr>\n",
       "            <td>3</td>\n",
       "            <td>8</td>\n",
       "            <td>99</td>\n",
       "            <td>84</td>\n",
       "            <td>0</td>\n",
       "            <td>0</td>\n",
       "            <td>35.4</td>\n",
       "            <td>0.388</td>\n",
       "            <td>50</td>\n",
       "            <td>0</td>\n",
       "        </tr>\n",
       "        <tr>\n",
       "            <td>4</td>\n",
       "            <td>7</td>\n",
       "            <td>196</td>\n",
       "            <td>90</td>\n",
       "            <td>0</td>\n",
       "            <td>0</td>\n",
       "            <td>39.8</td>\n",
       "            <td>0.451</td>\n",
       "            <td>41</td>\n",
       "            <td>1</td>\n",
       "        </tr>\n",
       "        <tr>\n",
       "            <td>5</td>\n",
       "            <td>6</td>\n",
       "            <td>148</td>\n",
       "            <td>72</td>\n",
       "            <td>35</td>\n",
       "            <td>0</td>\n",
       "            <td>33.6</td>\n",
       "            <td>0.627</td>\n",
       "            <td>50</td>\n",
       "            <td>1</td>\n",
       "        </tr>\n",
       "        <tr>\n",
       "            <td>6</td>\n",
       "            <td>1</td>\n",
       "            <td>85</td>\n",
       "            <td>66</td>\n",
       "            <td>29</td>\n",
       "            <td>0</td>\n",
       "            <td>26.6</td>\n",
       "            <td>0.351</td>\n",
       "            <td>31</td>\n",
       "            <td>0</td>\n",
       "        </tr>\n",
       "        <tr>\n",
       "            <td>7</td>\n",
       "            <td>8</td>\n",
       "            <td>183</td>\n",
       "            <td>64</td>\n",
       "            <td>0</td>\n",
       "            <td>0</td>\n",
       "            <td>23.3</td>\n",
       "            <td>0.672</td>\n",
       "            <td>32</td>\n",
       "            <td>1</td>\n",
       "        </tr>\n",
       "        <tr>\n",
       "            <td>8</td>\n",
       "            <td>1</td>\n",
       "            <td>89</td>\n",
       "            <td>66</td>\n",
       "            <td>23</td>\n",
       "            <td>94</td>\n",
       "            <td>28.1</td>\n",
       "            <td>0.167</td>\n",
       "            <td>21</td>\n",
       "            <td>0</td>\n",
       "        </tr>\n",
       "        <tr>\n",
       "            <td>9</td>\n",
       "            <td>0</td>\n",
       "            <td>137</td>\n",
       "            <td>40</td>\n",
       "            <td>35</td>\n",
       "            <td>168</td>\n",
       "            <td>43.1</td>\n",
       "            <td>2.288</td>\n",
       "            <td>33</td>\n",
       "            <td>1</td>\n",
       "        </tr>\n",
       "    </tbody>\n",
       "</table>\n",
       "<span style=\"font-style:italic;text-align:center;\">Truncated to <a href=\"https://jupysql.ploomber.io/en/latest/api/configuration.html#displaylimit\">displaylimit</a> of 10.</span>"
      ],
      "text/plain": [
       "+-------+-------------+---------+---------------+---------------+---------+------+--------------------------+-----+---------+\n",
       "| index | Pregnancies | Glucose | BloodPressure | SkinThickness | Insulin | BMI  | DiabetesPedigreeFunction | Age | Outcome |\n",
       "+-------+-------------+---------+---------------+---------------+---------+------+--------------------------+-----+---------+\n",
       "|   0   |      1      |   103   |       30      |       38      |    83   | 43.3 |          0.183           |  33 |    0    |\n",
       "|   1   |      1      |   115   |       70      |       30      |    96   | 34.6 |          0.529           |  32 |    1    |\n",
       "|   2   |      3      |   126   |       88      |       41      |   235   | 39.3 |          0.704           |  27 |    0    |\n",
       "|   3   |      8      |    99   |       84      |       0       |    0    | 35.4 |          0.388           |  50 |    0    |\n",
       "|   4   |      7      |   196   |       90      |       0       |    0    | 39.8 |          0.451           |  41 |    1    |\n",
       "|   5   |      6      |   148   |       72      |       35      |    0    | 33.6 |          0.627           |  50 |    1    |\n",
       "|   6   |      1      |    85   |       66      |       29      |    0    | 26.6 |          0.351           |  31 |    0    |\n",
       "|   7   |      8      |   183   |       64      |       0       |    0    | 23.3 |          0.672           |  32 |    1    |\n",
       "|   8   |      1      |    89   |       66      |       23      |    94   | 28.1 |          0.167           |  21 |    0    |\n",
       "|   9   |      0      |   137   |       40      |       35      |   168   | 43.1 |          2.288           |  33 |    1    |\n",
       "+-------+-------------+---------+---------------+---------------+---------+------+--------------------------+-----+---------+\n",
       "Truncated to displaylimit of 10."
      ]
     },
     "execution_count": 19,
     "metadata": {},
     "output_type": "execute_result"
    }
   ],
   "source": [
    "%%sql\n",
    "SELECT * FROM diabetes"
   ]
  },
  {
   "cell_type": "code",
   "execution_count": 20,
   "id": "08e2c3dd-44de-43e4-8595-0451251ee49a",
   "metadata": {},
   "outputs": [
    {
     "data": {
      "text/html": [
       "<span style=\"None\">Running query in &#x27;sqlite:///novo_banco.db&#x27;</span>"
      ],
      "text/plain": [
       "Running query in 'sqlite:///novo_banco.db'"
      ]
     },
     "metadata": {},
     "output_type": "display_data"
    },
    {
     "data": {
      "text/html": [
       "<table>\n",
       "    <thead>\n",
       "        <tr>\n",
       "            <th>Pregnancies</th>\n",
       "            <th>Glucose</th>\n",
       "            <th>BloodPressure</th>\n",
       "            <th>SkinThickness</th>\n",
       "            <th>Insulin</th>\n",
       "            <th>BMI</th>\n",
       "            <th>DiabetesPedigreeFunction</th>\n",
       "            <th>Age</th>\n",
       "            <th>Status</th>\n",
       "        </tr>\n",
       "    </thead>\n",
       "    <tbody>\n",
       "        <tr>\n",
       "            <td>2</td>\n",
       "            <td>197</td>\n",
       "            <td>70</td>\n",
       "            <td>45</td>\n",
       "            <td>543</td>\n",
       "            <td>30.5</td>\n",
       "            <td>0.158</td>\n",
       "            <td>53</td>\n",
       "            <td>Obeso</td>\n",
       "        </tr>\n",
       "        <tr>\n",
       "            <td>8</td>\n",
       "            <td>125</td>\n",
       "            <td>96</td>\n",
       "            <td>0</td>\n",
       "            <td>0</td>\n",
       "            <td>0.0</td>\n",
       "            <td>0.232</td>\n",
       "            <td>54</td>\n",
       "            <td>Normal</td>\n",
       "        </tr>\n",
       "        <tr>\n",
       "            <td>10</td>\n",
       "            <td>139</td>\n",
       "            <td>80</td>\n",
       "            <td>0</td>\n",
       "            <td>0</td>\n",
       "            <td>27.1</td>\n",
       "            <td>1.441</td>\n",
       "            <td>57</td>\n",
       "            <td>Normal</td>\n",
       "        </tr>\n",
       "        <tr>\n",
       "            <td>1</td>\n",
       "            <td>189</td>\n",
       "            <td>60</td>\n",
       "            <td>23</td>\n",
       "            <td>846</td>\n",
       "            <td>30.1</td>\n",
       "            <td>0.398</td>\n",
       "            <td>59</td>\n",
       "            <td>Obeso</td>\n",
       "        </tr>\n",
       "        <tr>\n",
       "            <td>5</td>\n",
       "            <td>166</td>\n",
       "            <td>72</td>\n",
       "            <td>19</td>\n",
       "            <td>175</td>\n",
       "            <td>25.8</td>\n",
       "            <td>0.587</td>\n",
       "            <td>51</td>\n",
       "            <td>Normal</td>\n",
       "        </tr>\n",
       "        <tr>\n",
       "            <td>11</td>\n",
       "            <td>143</td>\n",
       "            <td>94</td>\n",
       "            <td>33</td>\n",
       "            <td>146</td>\n",
       "            <td>36.6</td>\n",
       "            <td>0.254</td>\n",
       "            <td>51</td>\n",
       "            <td>Obeso</td>\n",
       "        </tr>\n",
       "        <tr>\n",
       "            <td>13</td>\n",
       "            <td>145</td>\n",
       "            <td>82</td>\n",
       "            <td>19</td>\n",
       "            <td>110</td>\n",
       "            <td>22.2</td>\n",
       "            <td>0.245</td>\n",
       "            <td>57</td>\n",
       "            <td>Normal</td>\n",
       "        </tr>\n",
       "        <tr>\n",
       "            <td>5</td>\n",
       "            <td>109</td>\n",
       "            <td>75</td>\n",
       "            <td>26</td>\n",
       "            <td>0</td>\n",
       "            <td>36.0</td>\n",
       "            <td>0.546</td>\n",
       "            <td>60</td>\n",
       "            <td>Obeso</td>\n",
       "        </tr>\n",
       "        <tr>\n",
       "            <td>4</td>\n",
       "            <td>111</td>\n",
       "            <td>72</td>\n",
       "            <td>47</td>\n",
       "            <td>207</td>\n",
       "            <td>37.1</td>\n",
       "            <td>1.39</td>\n",
       "            <td>56</td>\n",
       "            <td>Obeso</td>\n",
       "        </tr>\n",
       "        <tr>\n",
       "            <td>9</td>\n",
       "            <td>171</td>\n",
       "            <td>110</td>\n",
       "            <td>24</td>\n",
       "            <td>240</td>\n",
       "            <td>45.4</td>\n",
       "            <td>0.721</td>\n",
       "            <td>54</td>\n",
       "            <td>Obeso</td>\n",
       "        </tr>\n",
       "    </tbody>\n",
       "</table>\n",
       "<span style=\"font-style:italic;text-align:center;\">Truncated to <a href=\"https://jupysql.ploomber.io/en/latest/api/configuration.html#displaylimit\">displaylimit</a> of 10.</span>"
      ],
      "text/plain": [
       "+-------------+---------+---------------+---------------+---------+------+--------------------------+-----+--------+\n",
       "| Pregnancies | Glucose | BloodPressure | SkinThickness | Insulin | BMI  | DiabetesPedigreeFunction | Age | Status |\n",
       "+-------------+---------+---------------+---------------+---------+------+--------------------------+-----+--------+\n",
       "|      2      |   197   |       70      |       45      |   543   | 30.5 |          0.158           |  53 | Obeso  |\n",
       "|      8      |   125   |       96      |       0       |    0    | 0.0  |          0.232           |  54 | Normal |\n",
       "|      10     |   139   |       80      |       0       |    0    | 27.1 |          1.441           |  57 | Normal |\n",
       "|      1      |   189   |       60      |       23      |   846   | 30.1 |          0.398           |  59 | Obeso  |\n",
       "|      5      |   166   |       72      |       19      |   175   | 25.8 |          0.587           |  51 | Normal |\n",
       "|      11     |   143   |       94      |       33      |   146   | 36.6 |          0.254           |  51 | Obeso  |\n",
       "|      13     |   145   |       82      |       19      |   110   | 22.2 |          0.245           |  57 | Normal |\n",
       "|      5      |   109   |       75      |       26      |    0    | 36.0 |          0.546           |  60 | Obeso  |\n",
       "|      4      |   111   |       72      |       47      |   207   | 37.1 |           1.39           |  56 | Obeso  |\n",
       "|      9      |   171   |      110      |       24      |   240   | 45.4 |          0.721           |  54 | Obeso  |\n",
       "+-------------+---------+---------------+---------------+---------+------+--------------------------+-----+--------+\n",
       "Truncated to displaylimit of 10."
      ]
     },
     "execution_count": 20,
     "metadata": {},
     "output_type": "execute_result"
    }
   ],
   "source": [
    "%%sql\n",
    "SELECT Pregnancies, Glucose, BloodPressure, SkinThickness, Insulin, BMI, DiabetesPedigreeFunction, Age,\n",
    "    CASE\n",
    "        WHEN Age > 50 AND BMI <30 THEN 'Normal' \n",
    "        WHEN Age > 50 AND BMI >=30 THEN 'Obeso'\n",
    "        ELSE '-'\n",
    "    END as 'Status'\n",
    "FROM diabetes\n",
    "WHERE Status IS NOT '-'"
   ]
  },
  {
   "cell_type": "code",
   "execution_count": 21,
   "id": "8c74f037-31cc-4ac5-a17e-76ad4b082171",
   "metadata": {},
   "outputs": [
    {
     "data": {
      "text/html": [
       "<span style=\"None\">Running query in &#x27;sqlite:///novo_banco.db&#x27;</span>"
      ],
      "text/plain": [
       "Running query in 'sqlite:///novo_banco.db'"
      ]
     },
     "metadata": {},
     "output_type": "display_data"
    },
    {
     "data": {
      "text/html": [
       "<table>\n",
       "    <thead>\n",
       "        <tr>\n",
       "            <th>COUNT(*)</th>\n",
       "        </tr>\n",
       "    </thead>\n",
       "    <tbody>\n",
       "        <tr>\n",
       "            <td>81</td>\n",
       "        </tr>\n",
       "    </tbody>\n",
       "</table>"
      ],
      "text/plain": [
       "+----------+\n",
       "| COUNT(*) |\n",
       "+----------+\n",
       "|    81    |\n",
       "+----------+"
      ]
     },
     "execution_count": 21,
     "metadata": {},
     "output_type": "execute_result"
    }
   ],
   "source": [
    "%%sql\n",
    "SELECT COUNT(*) FROM(\n",
    "SELECT Pregnancies, Glucose, BloodPressure, SkinThickness, Insulin, BMI, DiabetesPedigreeFunction, Age,\n",
    "    CASE\n",
    "        WHEN Age > 50 AND BMI <30 THEN 'Normal' \n",
    "        WHEN Age > 50 AND BMI >=30 THEN 'Obeso'\n",
    "        ELSE '-'\n",
    "    END as 'Status'\n",
    "FROM diabetes\n",
    "WHERE Status IS NOT '-'\n",
    ") AS SUBQUERY"
   ]
  },
  {
   "cell_type": "code",
   "execution_count": 22,
   "id": "99319788-8bcb-4014-890c-b04d835b9725",
   "metadata": {},
   "outputs": [
    {
     "data": {
      "text/html": [
       "<span style=\"None\">Running query in &#x27;sqlite:///novo_banco.db&#x27;</span>"
      ],
      "text/plain": [
       "Running query in 'sqlite:///novo_banco.db'"
      ]
     },
     "metadata": {},
     "output_type": "display_data"
    },
    {
     "data": {
      "text/html": [
       "<table>\n",
       "    <thead>\n",
       "        <tr>\n",
       "        </tr>\n",
       "    </thead>\n",
       "    <tbody>\n",
       "    </tbody>\n",
       "</table>"
      ],
      "text/plain": [
       "++\n",
       "||\n",
       "++\n",
       "++"
      ]
     },
     "execution_count": 22,
     "metadata": {},
     "output_type": "execute_result"
    }
   ],
   "source": [
    "%%sql\n",
    "CREATE TABLE results (Pregnancies INT,\n",
    "                        Glucose INT,\n",
    "                        BloodPressure INT,\n",
    "                        SkinThickness INT,\n",
    "                        Insulin INT,\n",
    "                        BMI DECIMAL(8, 2),\n",
    "                        DiabetesPedigreeFunction DECIMAL(8, 2),\n",
    "                        Age INT,\n",
    "                        Status INT);"
   ]
  },
  {
   "cell_type": "code",
   "execution_count": 23,
   "id": "798ce7b0-4629-48ca-8887-826dca3fa0bd",
   "metadata": {},
   "outputs": [
    {
     "data": {
      "text/html": [
       "<span style=\"None\">Running query in &#x27;sqlite:///novo_banco.db&#x27;</span>"
      ],
      "text/plain": [
       "Running query in 'sqlite:///novo_banco.db'"
      ]
     },
     "metadata": {},
     "output_type": "display_data"
    },
    {
     "data": {
      "text/html": [
       "<table>\n",
       "    <thead>\n",
       "        <tr>\n",
       "            <th>Pregnancies</th>\n",
       "            <th>Glucose</th>\n",
       "            <th>BloodPressure</th>\n",
       "            <th>SkinThickness</th>\n",
       "            <th>Insulin</th>\n",
       "            <th>BMI</th>\n",
       "            <th>DiabetesPedigreeFunction</th>\n",
       "            <th>Age</th>\n",
       "            <th>Status</th>\n",
       "        </tr>\n",
       "    </thead>\n",
       "    <tbody>\n",
       "    </tbody>\n",
       "</table>"
      ],
      "text/plain": [
       "+-------------+---------+---------------+---------------+---------+-----+--------------------------+-----+--------+\n",
       "| Pregnancies | Glucose | BloodPressure | SkinThickness | Insulin | BMI | DiabetesPedigreeFunction | Age | Status |\n",
       "+-------------+---------+---------------+---------------+---------+-----+--------------------------+-----+--------+\n",
       "+-------------+---------+---------------+---------------+---------+-----+--------------------------+-----+--------+"
      ]
     },
     "execution_count": 23,
     "metadata": {},
     "output_type": "execute_result"
    }
   ],
   "source": [
    "%%sql\n",
    "SELECT * FROM results"
   ]
  },
  {
   "cell_type": "code",
   "execution_count": 24,
   "id": "cd6a3148-f5b7-45cf-b5e3-05dc27519efa",
   "metadata": {},
   "outputs": [
    {
     "data": {
      "text/html": [
       "<span style=\"None\">Running query in &#x27;sqlite:///novo_banco.db&#x27;</span>"
      ],
      "text/plain": [
       "Running query in 'sqlite:///novo_banco.db'"
      ]
     },
     "metadata": {},
     "output_type": "display_data"
    },
    {
     "data": {
      "text/html": [
       "<span style=\"color: green\">81 rows affected.</span>"
      ],
      "text/plain": [
       "81 rows affected."
      ]
     },
     "metadata": {},
     "output_type": "display_data"
    },
    {
     "data": {
      "text/html": [
       "<table>\n",
       "    <thead>\n",
       "        <tr>\n",
       "        </tr>\n",
       "    </thead>\n",
       "    <tbody>\n",
       "    </tbody>\n",
       "</table>"
      ],
      "text/plain": [
       "++\n",
       "||\n",
       "++\n",
       "++"
      ]
     },
     "execution_count": 24,
     "metadata": {},
     "output_type": "execute_result"
    }
   ],
   "source": [
    "%%sql\n",
    "\n",
    "INSERT INTO results(Pregnancies, \n",
    "                      Glucose, \n",
    "                      BloodPressure, \n",
    "                      SkinThickness, \n",
    "                      Insulin, \n",
    "                      BMI, \n",
    "                      DiabetesPedigreeFunction, \n",
    "                      Age, \n",
    "                      Status) \n",
    "SELECT Pregnancies, Glucose, BloodPressure, SkinThickness, Insulin, BMI, DiabetesPedigreeFunction, Age,\n",
    "    CASE\n",
    "        WHEN Age > 50 AND BMI <30 THEN 'Normal' \n",
    "        WHEN Age > 50 AND BMI >=30 THEN 'Obeso'\n",
    "        ELSE '-'\n",
    "    END as 'Status'\n",
    "FROM diabetes\n",
    "WHERE Status IS NOT '-'"
   ]
  },
  {
   "cell_type": "code",
   "execution_count": 33,
   "id": "4ade15f9-b89b-4790-944b-379e4c6cd3f5",
   "metadata": {},
   "outputs": [
    {
     "data": {
      "text/html": [
       "<span style=\"None\">Running query in &#x27;sqlite:///novo_banco.db&#x27;</span>"
      ],
      "text/plain": [
       "Running query in 'sqlite:///novo_banco.db'"
      ]
     },
     "metadata": {},
     "output_type": "display_data"
    },
    {
     "data": {
      "text/html": [
       "<table>\n",
       "    <thead>\n",
       "        <tr>\n",
       "            <th>Pregnancies</th>\n",
       "            <th>Glucose</th>\n",
       "            <th>BloodPressure</th>\n",
       "            <th>SkinThickness</th>\n",
       "            <th>Insulin</th>\n",
       "            <th>BMI</th>\n",
       "            <th>DiabetesPedigreeFunction</th>\n",
       "            <th>Age</th>\n",
       "            <th>Status</th>\n",
       "        </tr>\n",
       "    </thead>\n",
       "    <tbody>\n",
       "        <tr>\n",
       "            <td>2</td>\n",
       "            <td>197</td>\n",
       "            <td>70</td>\n",
       "            <td>45</td>\n",
       "            <td>543</td>\n",
       "            <td>30.5</td>\n",
       "            <td>0.158</td>\n",
       "            <td>53</td>\n",
       "            <td>Obeso</td>\n",
       "        </tr>\n",
       "        <tr>\n",
       "            <td>8</td>\n",
       "            <td>125</td>\n",
       "            <td>96</td>\n",
       "            <td>0</td>\n",
       "            <td>0</td>\n",
       "            <td>0</td>\n",
       "            <td>0.232</td>\n",
       "            <td>54</td>\n",
       "            <td>Normal</td>\n",
       "        </tr>\n",
       "        <tr>\n",
       "            <td>10</td>\n",
       "            <td>139</td>\n",
       "            <td>80</td>\n",
       "            <td>0</td>\n",
       "            <td>0</td>\n",
       "            <td>27.1</td>\n",
       "            <td>1.441</td>\n",
       "            <td>57</td>\n",
       "            <td>Normal</td>\n",
       "        </tr>\n",
       "        <tr>\n",
       "            <td>1</td>\n",
       "            <td>189</td>\n",
       "            <td>60</td>\n",
       "            <td>23</td>\n",
       "            <td>846</td>\n",
       "            <td>30.1</td>\n",
       "            <td>0.398</td>\n",
       "            <td>59</td>\n",
       "            <td>Obeso</td>\n",
       "        </tr>\n",
       "        <tr>\n",
       "            <td>5</td>\n",
       "            <td>166</td>\n",
       "            <td>72</td>\n",
       "            <td>19</td>\n",
       "            <td>175</td>\n",
       "            <td>25.8</td>\n",
       "            <td>0.587</td>\n",
       "            <td>51</td>\n",
       "            <td>Normal</td>\n",
       "        </tr>\n",
       "        <tr>\n",
       "            <td>11</td>\n",
       "            <td>143</td>\n",
       "            <td>94</td>\n",
       "            <td>33</td>\n",
       "            <td>146</td>\n",
       "            <td>36.6</td>\n",
       "            <td>0.254</td>\n",
       "            <td>51</td>\n",
       "            <td>Obeso</td>\n",
       "        </tr>\n",
       "        <tr>\n",
       "            <td>13</td>\n",
       "            <td>145</td>\n",
       "            <td>82</td>\n",
       "            <td>19</td>\n",
       "            <td>110</td>\n",
       "            <td>22.2</td>\n",
       "            <td>0.245</td>\n",
       "            <td>57</td>\n",
       "            <td>Normal</td>\n",
       "        </tr>\n",
       "        <tr>\n",
       "            <td>5</td>\n",
       "            <td>109</td>\n",
       "            <td>75</td>\n",
       "            <td>26</td>\n",
       "            <td>0</td>\n",
       "            <td>36</td>\n",
       "            <td>0.546</td>\n",
       "            <td>60</td>\n",
       "            <td>Obeso</td>\n",
       "        </tr>\n",
       "        <tr>\n",
       "            <td>4</td>\n",
       "            <td>111</td>\n",
       "            <td>72</td>\n",
       "            <td>47</td>\n",
       "            <td>207</td>\n",
       "            <td>37.1</td>\n",
       "            <td>1.39</td>\n",
       "            <td>56</td>\n",
       "            <td>Obeso</td>\n",
       "        </tr>\n",
       "        <tr>\n",
       "            <td>9</td>\n",
       "            <td>171</td>\n",
       "            <td>110</td>\n",
       "            <td>24</td>\n",
       "            <td>240</td>\n",
       "            <td>45.4</td>\n",
       "            <td>0.721</td>\n",
       "            <td>54</td>\n",
       "            <td>Obeso</td>\n",
       "        </tr>\n",
       "    </tbody>\n",
       "</table>\n",
       "<span style=\"font-style:italic;text-align:center;\">Truncated to <a href=\"https://jupysql.ploomber.io/en/latest/api/configuration.html#displaylimit\">displaylimit</a> of 10.</span>"
      ],
      "text/plain": [
       "+-------------+---------+---------------+---------------+---------+------+--------------------------+-----+--------+\n",
       "| Pregnancies | Glucose | BloodPressure | SkinThickness | Insulin | BMI  | DiabetesPedigreeFunction | Age | Status |\n",
       "+-------------+---------+---------------+---------------+---------+------+--------------------------+-----+--------+\n",
       "|      2      |   197   |       70      |       45      |   543   | 30.5 |          0.158           |  53 | Obeso  |\n",
       "|      8      |   125   |       96      |       0       |    0    |  0   |          0.232           |  54 | Normal |\n",
       "|      10     |   139   |       80      |       0       |    0    | 27.1 |          1.441           |  57 | Normal |\n",
       "|      1      |   189   |       60      |       23      |   846   | 30.1 |          0.398           |  59 | Obeso  |\n",
       "|      5      |   166   |       72      |       19      |   175   | 25.8 |          0.587           |  51 | Normal |\n",
       "|      11     |   143   |       94      |       33      |   146   | 36.6 |          0.254           |  51 | Obeso  |\n",
       "|      13     |   145   |       82      |       19      |   110   | 22.2 |          0.245           |  57 | Normal |\n",
       "|      5      |   109   |       75      |       26      |    0    |  36  |          0.546           |  60 | Obeso  |\n",
       "|      4      |   111   |       72      |       47      |   207   | 37.1 |           1.39           |  56 | Obeso  |\n",
       "|      9      |   171   |      110      |       24      |   240   | 45.4 |          0.721           |  54 | Obeso  |\n",
       "+-------------+---------+---------------+---------------+---------+------+--------------------------+-----+--------+\n",
       "Truncated to displaylimit of 10."
      ]
     },
     "execution_count": 33,
     "metadata": {},
     "output_type": "execute_result"
    }
   ],
   "source": [
    "%%sql\n",
    "SELECT * FROM results"
   ]
  },
  {
   "cell_type": "code",
   "execution_count": 34,
   "id": "58b11915-89d0-458c-aede-1170adcb4667",
   "metadata": {},
   "outputs": [],
   "source": [
    "m_results = cnn.execute(\"SELECT * FROM results\")"
   ]
  },
  {
   "cell_type": "code",
   "execution_count": 35,
   "id": "8c7b32d9-9254-44ac-aed4-8378494b1425",
   "metadata": {},
   "outputs": [],
   "source": [
    "coluns = [coluna[0] for coluna in m_results.description]"
   ]
  },
  {
   "cell_type": "code",
   "execution_count": 36,
   "id": "dd8bf297-08f0-4179-abb4-c62f6fa63c2e",
   "metadata": {},
   "outputs": [],
   "source": [
    "m_final = pd.DataFrame.from_records(data = m_results.fetchall(), columns = coluns)"
   ]
  },
  {
   "cell_type": "code",
   "execution_count": 37,
   "id": "235dadb8-df19-47f2-8af2-9068ea503f86",
   "metadata": {},
   "outputs": [
    {
     "data": {
      "text/plain": [
       "(81, 9)"
      ]
     },
     "execution_count": 37,
     "metadata": {},
     "output_type": "execute_result"
    }
   ],
   "source": [
    "m_final.shape"
   ]
  },
  {
   "cell_type": "code",
   "execution_count": 38,
   "id": "6976bb32-3eb1-4f48-b4ad-c57f63fb2fe4",
   "metadata": {},
   "outputs": [
    {
     "data": {
      "text/html": [
       "<div>\n",
       "<style scoped>\n",
       "    .dataframe tbody tr th:only-of-type {\n",
       "        vertical-align: middle;\n",
       "    }\n",
       "\n",
       "    .dataframe tbody tr th {\n",
       "        vertical-align: top;\n",
       "    }\n",
       "\n",
       "    .dataframe thead th {\n",
       "        text-align: right;\n",
       "    }\n",
       "</style>\n",
       "<table border=\"1\" class=\"dataframe\">\n",
       "  <thead>\n",
       "    <tr style=\"text-align: right;\">\n",
       "      <th></th>\n",
       "      <th>Pregnancies</th>\n",
       "      <th>Glucose</th>\n",
       "      <th>BloodPressure</th>\n",
       "      <th>SkinThickness</th>\n",
       "      <th>Insulin</th>\n",
       "      <th>BMI</th>\n",
       "      <th>DiabetesPedigreeFunction</th>\n",
       "      <th>Age</th>\n",
       "      <th>Status</th>\n",
       "    </tr>\n",
       "  </thead>\n",
       "  <tbody>\n",
       "    <tr>\n",
       "      <th>0</th>\n",
       "      <td>2</td>\n",
       "      <td>197</td>\n",
       "      <td>70</td>\n",
       "      <td>45</td>\n",
       "      <td>543</td>\n",
       "      <td>30.5</td>\n",
       "      <td>0.158</td>\n",
       "      <td>53</td>\n",
       "      <td>Obeso</td>\n",
       "    </tr>\n",
       "    <tr>\n",
       "      <th>1</th>\n",
       "      <td>8</td>\n",
       "      <td>125</td>\n",
       "      <td>96</td>\n",
       "      <td>0</td>\n",
       "      <td>0</td>\n",
       "      <td>0.0</td>\n",
       "      <td>0.232</td>\n",
       "      <td>54</td>\n",
       "      <td>Normal</td>\n",
       "    </tr>\n",
       "    <tr>\n",
       "      <th>2</th>\n",
       "      <td>10</td>\n",
       "      <td>139</td>\n",
       "      <td>80</td>\n",
       "      <td>0</td>\n",
       "      <td>0</td>\n",
       "      <td>27.1</td>\n",
       "      <td>1.441</td>\n",
       "      <td>57</td>\n",
       "      <td>Normal</td>\n",
       "    </tr>\n",
       "    <tr>\n",
       "      <th>3</th>\n",
       "      <td>1</td>\n",
       "      <td>189</td>\n",
       "      <td>60</td>\n",
       "      <td>23</td>\n",
       "      <td>846</td>\n",
       "      <td>30.1</td>\n",
       "      <td>0.398</td>\n",
       "      <td>59</td>\n",
       "      <td>Obeso</td>\n",
       "    </tr>\n",
       "    <tr>\n",
       "      <th>4</th>\n",
       "      <td>5</td>\n",
       "      <td>166</td>\n",
       "      <td>72</td>\n",
       "      <td>19</td>\n",
       "      <td>175</td>\n",
       "      <td>25.8</td>\n",
       "      <td>0.587</td>\n",
       "      <td>51</td>\n",
       "      <td>Normal</td>\n",
       "    </tr>\n",
       "  </tbody>\n",
       "</table>\n",
       "</div>"
      ],
      "text/plain": [
       "   Pregnancies  Glucose  BloodPressure  SkinThickness  Insulin   BMI  \\\n",
       "0            2      197             70             45      543  30.5   \n",
       "1            8      125             96              0        0   0.0   \n",
       "2           10      139             80              0        0  27.1   \n",
       "3            1      189             60             23      846  30.1   \n",
       "4            5      166             72             19      175  25.8   \n",
       "\n",
       "   DiabetesPedigreeFunction  Age  Status  \n",
       "0                     0.158   53   Obeso  \n",
       "1                     0.232   54  Normal  \n",
       "2                     1.441   57  Normal  \n",
       "3                     0.398   59   Obeso  \n",
       "4                     0.587   51  Normal  "
      ]
     },
     "execution_count": 38,
     "metadata": {},
     "output_type": "execute_result"
    }
   ],
   "source": [
    "m_final.head()"
   ]
  },
  {
   "cell_type": "code",
   "execution_count": 39,
   "id": "4daf592c-5a7a-4eb6-8104-6ac37d70c515",
   "metadata": {},
   "outputs": [],
   "source": [
    "# Salva em CSV\n",
    "m_final.to_csv('FINAL.csv', index = False)"
   ]
  },
  {
   "cell_type": "code",
   "execution_count": 40,
   "id": "589af26f-a479-463c-aa8d-b22731c8f36a",
   "metadata": {},
   "outputs": [
    {
     "data": {
      "text/html": [
       "<span style=\"None\">Running query in &#x27;sqlite:///novo_banco.db&#x27;</span>"
      ],
      "text/plain": [
       "Running query in 'sqlite:///novo_banco.db'"
      ]
     },
     "metadata": {},
     "output_type": "display_data"
    },
    {
     "data": {
      "text/html": [
       "<table>\n",
       "    <thead>\n",
       "        <tr>\n",
       "            <th>name</th>\n",
       "        </tr>\n",
       "    </thead>\n",
       "    <tbody>\n",
       "        <tr>\n",
       "            <td>diabetes</td>\n",
       "        </tr>\n",
       "        <tr>\n",
       "            <td>results</td>\n",
       "        </tr>\n",
       "    </tbody>\n",
       "</table>"
      ],
      "text/plain": [
       "+----------+\n",
       "|   name   |\n",
       "+----------+\n",
       "| diabetes |\n",
       "| results  |\n",
       "+----------+"
      ]
     },
     "execution_count": 40,
     "metadata": {},
     "output_type": "execute_result"
    }
   ],
   "source": [
    "#too see each table inside my \n",
    "%%sql\n",
    "SELECT name FROM sqlite_master WHERE type='table';\n"
   ]
  },
  {
   "cell_type": "code",
   "execution_count": null,
   "id": "3525981e-4359-4414-a047-ea8f7f6bb4e5",
   "metadata": {},
   "outputs": [],
   "source": []
  }
 ],
 "metadata": {
  "kernelspec": {
   "display_name": "Python 3 (ipykernel)",
   "language": "python",
   "name": "python3"
  },
  "language_info": {
   "codemirror_mode": {
    "name": "ipython",
    "version": 3
   },
   "file_extension": ".py",
   "mimetype": "text/x-python",
   "name": "python",
   "nbconvert_exporter": "python",
   "pygments_lexer": "ipython3",
   "version": "3.11.9"
  }
 },
 "nbformat": 4,
 "nbformat_minor": 5
}
