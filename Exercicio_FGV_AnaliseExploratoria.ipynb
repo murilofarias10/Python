{
  "nbformat": 4,
  "nbformat_minor": 0,
  "metadata": {
    "colab": {
      "name": "Exercicio_FGV_AnaliseExploratoria.ipynb",
      "provenance": [],
      "authorship_tag": "ABX9TyPbZ4wemXS2zE1zL6zLBSrV",
      "include_colab_link": true
    },
    "kernelspec": {
      "name": "python3",
      "display_name": "Python 3"
    },
    "language_info": {
      "name": "python"
    }
  },
  "cells": [
    {
      "cell_type": "markdown",
      "metadata": {
        "id": "view-in-github",
        "colab_type": "text"
      },
      "source": [
        "<a href=\"https://colab.research.google.com/github/murilofarias10/AnaliseComPython/blob/main/Exercicio_FGV_AnaliseExploratoria.ipynb\" target=\"_parent\"><img src=\"https://colab.research.google.com/assets/colab-badge.svg\" alt=\"Open In Colab\"/></a>"
      ]
    },
    {
      "cell_type": "code",
      "metadata": {
        "id": "7YfPuA_cXB2d"
      },
      "source": [
        "import pandas as pd\n",
        "arquivo = pd.read_csv('/content/dados_fenotipo.csv')\n",
        "\n",
        "#arquivo.head()\n",
        "print(arquivo)"
      ],
      "execution_count": null,
      "outputs": []
    },
    {
      "cell_type": "code",
      "metadata": {
        "colab": {
          "base_uri": "https://localhost:8080/"
        },
        "id": "rUw6Y9HviqQE",
        "outputId": "99c09dcc-efb0-486e-ff60-4f8a6a4ed002"
      },
      "source": [
        "ronnan = pd.read_csv('/content/Pasta1.csv')\n",
        "\n",
        "analise = ronnan[\"quantidade\"].describe()\n",
        "print(analise)\n",
        "print(ronnan)"
      ],
      "execution_count": 23,
      "outputs": [
        {
          "output_type": "stream",
          "name": "stdout",
          "text": [
            "count     6.000000\n",
            "mean      8.666667\n",
            "std       3.502380\n",
            "min       3.000000\n",
            "25%       7.250000\n",
            "50%       9.000000\n",
            "75%      10.750000\n",
            "max      13.000000\n",
            "Name: quantidade, dtype: float64\n",
            "   quantidade\n",
            "0           3\n",
            "1           7\n",
            "2           8\n",
            "3          10\n",
            "4          11\n",
            "5          13\n"
          ]
        }
      ]
    },
    {
      "cell_type": "code",
      "metadata": {
        "colab": {
          "base_uri": "https://localhost:8080/"
        },
        "id": "TKnin5tggqs6",
        "outputId": "15f9cc1c-dc8d-4d48-bc47-bd8f31dd4258"
      },
      "source": [
        "#Analise estatisticas do peso\n",
        "analise_do_peso = arquivo[\"Peso\"].describe()\n",
        "print('Analise do peso: \\n', analise_do_peso)\n",
        "\n",
        "print('\\n')\n",
        "\n",
        "#Analise estatisticas da altura\n",
        "analise_do_peso = arquivo[\"Altura\"].describe()\n",
        "print('Analise da altura: \\n', analise_do_peso)"
      ],
      "execution_count": 17,
      "outputs": [
        {
          "output_type": "stream",
          "name": "stdout",
          "text": [
            "Analise do peso: \n",
            " count     50.000000\n",
            "mean      83.736720\n",
            "std       31.900531\n",
            "min        6.546000\n",
            "25%       62.547500\n",
            "50%       81.790000\n",
            "75%      103.567500\n",
            "max      163.910000\n",
            "Name: Peso, dtype: float64\n",
            "\n",
            "\n",
            "Analise da altura: \n",
            " count    50.000000\n",
            "mean      1.653600\n",
            "std       0.271036\n",
            "min       1.010000\n",
            "25%       1.562500\n",
            "50%       1.700000\n",
            "75%       1.797500\n",
            "max       2.180000\n",
            "Name: Altura, dtype: float64\n"
          ]
        }
      ]
    },
    {
      "cell_type": "code",
      "metadata": {
        "colab": {
          "base_uri": "https://localhost:8080/",
          "height": 265
        },
        "id": "7e-4SUVJh6_-",
        "outputId": "1a06af39-2835-4bbe-9b47-7bf37ab2a752"
      },
      "source": [
        "import matplotlib.pyplot as plt\n",
        "plt.boxplot(arquivo[\"Altura\"]);\n",
        "#Analise da altura: \n",
        "#count    50.000000 contagem\n",
        "#mean      1.653600 media\n",
        "#std       0.271036 desvio padrao\n",
        "#min       1.010000 minimo\n",
        "#25%       1.562500 primeiro quartil\n",
        "#50%       1.700000 mediana\n",
        "#75%       1.797500 segundo quartil\n",
        "#max       2.180000 maximo"
      ],
      "execution_count": 25,
      "outputs": [
        {
          "output_type": "display_data",
          "data": {
            "image/png": "[encoded data removed]",
            "text/plain": [
              "<Figure size 432x288 with 1 Axes>"
            ]
          },
          "metadata": {
            "needs_background": "light"
          }
        }
      ]
    },
    {
      "cell_type": "code",
      "metadata": {
        "colab": {
          "base_uri": "https://localhost:8080/",
          "height": 265
        },
        "id": "ILWfIdSmkbD4",
        "outputId": "459142ba-0455-4df5-e988-97f1ea6ea3a1"
      },
      "source": [
        "import matplotlib.pyplot as plt\n",
        "plt.boxplot(arquivo[\"Peso\"]);\n",
        "#Analise do peso: \n",
        "#count     50.000000 contagem\n",
        "#mean      83.736720 media\n",
        "#std       31.900531 desvio padrao\n",
        "#min        6.546000 minimo\n",
        "#25%       62.547500 primeiro quartil\n",
        "#50%       81.790000 mediana\n",
        "#75%      103.567500 segundo quartil\n",
        "#max      163.910000 maximo"
      ],
      "execution_count": 26,
      "outputs": [
        {
          "output_type": "display_data",
          "data": {
            "image/png": "[encoded data removed]",
            "text/plain": [
              "<Figure size 432x288 with 1 Axes>"
            ]
          },
          "metadata": {
            "needs_background": "light"
          }
        }
      ]
    }
  ]
}