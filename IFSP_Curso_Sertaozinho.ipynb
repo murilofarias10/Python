{
  "nbformat": 4,
  "nbformat_minor": 0,
  "metadata": {
    "colab": {
      "name": "IFSP - Curso Sertaozinho.ipynb",
      "provenance": [],
      "collapsed_sections": [],
      "authorship_tag": "ABX9TyP3GKmaGp3vCEXq9x6vDGkF",
      "include_colab_link": true
    },
    "kernelspec": {
      "name": "python3",
      "display_name": "Python 3"
    },
    "language_info": {
      "name": "python"
    }
  },
  "cells": [
    {
      "cell_type": "markdown",
      "metadata": {
        "id": "view-in-github",
        "colab_type": "text"
      },
      "source": [
        "<a href=\"https://colab.research.google.com/github/murilofarias10/AnaliseComPython/blob/main/IFSP_Curso_Sertaozinho.ipynb\" target=\"_parent\"><img src=\"https://colab.research.google.com/assets/colab-badge.svg\" alt=\"Open In Colab\"/></a>"
      ]
    },
    {
      "cell_type": "code",
      "metadata": {
        "id": "0BkyMr3-FhY_"
      },
      "source": [
        "#teste_iniciando"
      ],
      "execution_count": null,
      "outputs": []
    },
    {
      "cell_type": "markdown",
      "metadata": {
        "id": "BkZ0yrVKbVLu"
      },
      "source": [
        "**Strings**"
      ]
    },
    {
      "cell_type": "code",
      "metadata": {
        "id": "YXKNf39DbjRM"
      },
      "source": [
        "nome = 'aaabbccdd'\n",
        "\n",
        "#nº inicial : ir até : pular\n",
        "print(nome[2:4:2])\n",
        "print(nome[2::4])\n",
        "\n",
        "frase = 'Aprendendo Python'\n",
        "#contando qtde caracteres\n",
        "print(len(frase))\n",
        "#ou\n",
        "contador = len(frase)\n",
        "print(contador)\n",
        "\n",
        "#Utilizando Replace para substituir algo\n",
        "frase = frase.replace('Python', 'Linguagem Python')\n",
        "print(frase)\n",
        "\n",
        "#contando quantos e tem na frase\n",
        "print(frase.count('e'))\n",
        "\n",
        "#localizando onde esta algo\n",
        "print(frase.find('python'))\n",
        "\n",
        "#slit para fazer a divisao\n",
        "print(frase.split())\n",
        "\n",
        "#tudo em maiusculo\n",
        "print(frase.upper())\n",
        "\n",
        "#tudo em minusculo\n",
        "print(frase.lower())\n",
        "\n",
        "#capitalizar, primeira em maiusculo\n",
        "print(frase.capitalize())\n",
        "\n",
        "#primeira letra de cada frase em maiusculo\n",
        "print(frase.title())\n",
        "\n",
        "#o que é maiusculo passa minusculo e vice versa\n",
        "print(frase.swapcase())"
      ],
      "execution_count": null,
      "outputs": []
    },
    {
      "cell_type": "code",
      "metadata": {
        "colab": {
          "base_uri": "https://localhost:8080/"
        },
        "id": "BfngtbEiDOhG",
        "outputId": "8f685754-be96-4c93-b96b-b4718e5badd8"
      },
      "source": [
        "frase = '     Aprendendo Python '\n",
        "print(frase)\n",
        "#contando caracteres\n",
        "print(len(frase))\n",
        "\n",
        "#removando espaços antes e apos a frase\n",
        "frase = frase.strip()\n",
        "print(len(frase))\n",
        "\n",
        "#removendo espaços a direita\n",
        "frase = '     Aprendendo Python    '\n",
        "print(frase.rstrip())\n",
        "print(len(frase))\n",
        "frase = '     Aprendendo Python    '\n",
        "print(frase.lstrip())\n",
        "print(len(frase))"
      ],
      "execution_count": null,
      "outputs": [
        {
          "output_type": "stream",
          "text": [
            "     Aprendendo Python \n",
            "23\n",
            "17\n",
            "     Aprendendo Python\n",
            "26\n",
            "Aprendendo Python    \n",
            "26\n"
          ],
          "name": "stdout"
        }
      ]
    },
    {
      "cell_type": "code",
      "metadata": {
        "colab": {
          "base_uri": "https://localhost:8080/"
        },
        "id": "AxRxg_ebtG23",
        "outputId": "2a6d00aa-22d5-4625-8049-c76a21f720cc"
      },
      "source": [
        "frase = '     Aprendendo Python '\n",
        "print(frase)\n",
        "#contando caracteres\n",
        "print(len(frase))\n",
        "\n",
        "#removando espaços antes e apos a frase\n",
        "frase = frase.strip()\n",
        "print(len(frase))\n",
        "\n",
        "#contatenação\n",
        "nome = 'Maria'\n",
        "sobrenome = 'Silva'\n",
        "nomeCompleto = nome +' ' + sobrenome\n",
        "print(nomeCompleto)\n",
        "\n",
        "#Escapando Caracteres \" ou ' \n",
        "string_frase = '''Ola, testando uma string\n",
        "vou utilizar ' ou\" para o armazenamento'''\n",
        "print(string_frase)\n",
        "cantora = \"A cantona Sinner O' cooner\"\n",
        "print(cantora)\n",
        "curso = 'Tenha bastante atenção ao estudar \"Python\"'\n",
        "print(curso)\n",
        "teste = \"Tenha bastante atenção ao estudar \\\"Python\\\"\" #\\\" Texto\\\"\n",
        "print(teste)\n",
        "barra = \"Escapando com \"\"\\ \"\n",
        "print(barra)"
      ],
      "execution_count": null,
      "outputs": [
        {
          "output_type": "stream",
          "text": [
            "     Aprendendo Python \n",
            "23\n",
            "17\n",
            "Maria Silva\n",
            "Ola, testando uma string\n",
            "vou utilizar ' ou\" para o armazenamento\n",
            "A cantona Sinner O' cooner\n",
            "Tenha bastante atenção ao estudar \"Python\"\n",
            "Tenha bastante atenção ao estudar \"Python\"\n",
            "Escapando com \\ \n"
          ],
          "name": "stdout"
        }
      ]
    },
    {
      "cell_type": "code",
      "metadata": {
        "colab": {
          "base_uri": "https://localhost:8080/"
        },
        "id": "ye9kPLmyvV_k",
        "outputId": "571b5d47-13ca-4424-90b5-e1ffcba78fd3"
      },
      "source": [
        "# %s string | %d inteiro | %f decimal\n",
        "nome = 'Fernando'\n",
        "idade = 27\n",
        "print('O nome informado é: %s' %nome)\n",
        "print ('Com idade de %d anos' %idade)\n",
        "print('o nome informado é: ' + nome + ' e ele possui é: ' + str(idade) + ' anos')\n",
        "print('o nome informado é: ' + nome + ' e ele possui ' + 'idade é: {}'.format(idade) + 'anos')\n",
        "print('o nome informado é: ' + nome + 'e ele possui idade é: ' + format(idade) + 'anos')"
      ],
      "execution_count": null,
      "outputs": [
        {
          "output_type": "stream",
          "text": [
            "O nome informado é: Fernando\n",
            "Com idade de 27 anos\n",
            "o nome informado é: Fernando e ele possui é: 27 anos\n",
            "o nome informado é: Fernando e ele possui idade é: 27anos\n",
            "o nome informado é: Fernandoe ele possui idade é: 27anos\n"
          ],
          "name": "stdout"
        }
      ]
    },
    {
      "cell_type": "code",
      "metadata": {
        "id": "Pern--ocwdRr"
      },
      "source": [
        "raio = 30.46257\n",
        "print('Formatando decimais: %f' %raio)\n",
        "print('Formatando decimais: %.2f' %raio)\n",
        "print('Formatando decimais: %.3f' %raio)"
      ],
      "execution_count": null,
      "outputs": []
    },
    {
      "cell_type": "code",
      "metadata": {
        "colab": {
          "base_uri": "https://localhost:8080/"
        },
        "id": "7nF6V6Iyxxj6",
        "outputId": "e2f61407-364f-4e13-c1fb-4ee8a740d3cc"
      },
      "source": [
        "#utilizando o r na frente\n",
        "teste = r\"utilizamos \\n \"\n",
        "teste2 = r'utlizamos \"\\n\"'\n",
        "print(teste)\n",
        "print(teste2)"
      ],
      "execution_count": null,
      "outputs": [
        {
          "output_type": "stream",
          "text": [
            "utilizamos \\n \n",
            "utlizamos \"\\n\"\n"
          ],
          "name": "stdout"
        }
      ]
    },
    {
      "cell_type": "code",
      "metadata": {
        "colab": {
          "base_uri": "https://localhost:8080/"
        },
        "id": "ax5rOW119Sop",
        "outputId": "74406872-1efe-46c0-be8b-afd9dce20d01"
      },
      "source": [
        "#centralizando e colocando caracteres\n",
        "documento = 'ola meu nome é murilo'\n",
        "print(documento.center(50, \"*\"))\n",
        "#preenchendo somente a direita e a esquerda\n",
        "print(documento.ljust(50, \"*\"))\n",
        "print(documento.rjust(50, \"*\"))"
      ],
      "execution_count": null,
      "outputs": [
        {
          "output_type": "stream",
          "text": [
            "**************ola meu nome é murilo***************\n",
            "ola meu nome é murilo*****************************\n",
            "*****************************ola meu nome é murilo\n"
          ],
          "name": "stdout"
        }
      ]
    },
    {
      "cell_type": "code",
      "metadata": {
        "colab": {
          "base_uri": "https://localhost:8080/"
        },
        "id": "GwsXoQ7tAvxX",
        "outputId": "6c7cd553-85ad-4ac6-dc95-9004fccf92ef"
      },
      "source": [
        "#isalnum (ambos), isalpha (somente letra) e isnumeric (somente numero)\n",
        "\n",
        "validacao = 'murilo'\n",
        "valida = '12345'\n",
        "dois = 'Murilo123'\n",
        "\n",
        "print(validacao.isalnum()) #true\n",
        "print(validacao.isalpha()) #true\n",
        "print(validacao.isnumeric()) #false\n",
        "\n",
        "print(valida.isalnum()) #true\n",
        "print(valida.isalpha()) #false\n",
        "print(valida.isnumeric()) # true\n",
        "\n",
        "print(dois.isalnum()) #true\n",
        "print(dois.isalpha()) #false\n",
        "print(dois.isnumeric()) # false"
      ],
      "execution_count": null,
      "outputs": [
        {
          "output_type": "stream",
          "text": [
            "True\n",
            "True\n",
            "False\n",
            "True\n",
            "False\n",
            "True\n",
            "True\n",
            "False\n",
            "False\n"
          ],
          "name": "stdout"
        }
      ]
    },
    {
      "cell_type": "code",
      "metadata": {
        "id": "3m5nPjKtIUp0"
      },
      "source": [
        "#imprimindo lista com ordem ao contraria\n",
        "mista = ['Murilo', 'Thamie', 'Briane', 15, 18, 'Caio']\n",
        "print(mista)\n",
        "print(mista[-3])\n",
        "\n",
        "#alterar valor\n",
        "\n",
        "mista[3] = 5\n",
        "print(mista)\n",
        "\n",
        "#append para adicionar um item ao final\n",
        "mista.append('Teste')\n",
        "print(mista)\n",
        "\n",
        "#insert insere em alguma posição\n",
        "mista.insert(1, \"Roberto\")\n",
        "print(mista)\n",
        "\n"
      ],
      "execution_count": null,
      "outputs": []
    },
    {
      "cell_type": "code",
      "metadata": {
        "colab": {
          "base_uri": "https://localhost:8080/"
        },
        "id": "_fqMYlZrLNsA",
        "outputId": "425b8144-553e-4ea8-d5ea-391a7779cfdf"
      },
      "source": [
        "#Função extend unifica as listas\n",
        "mista = ['Murilo', 'Thamie', 'Briane', 15, 18, 'Caio']\n",
        "marte = [1,2,3,4,5]\n",
        "\n",
        "print(mista)\n",
        "print(marte)\n",
        "\n",
        "marte.extend(mista)\n",
        "print(marte)"
      ],
      "execution_count": null,
      "outputs": [
        {
          "output_type": "stream",
          "text": [
            "['Murilo', 'Thamie', 'Briane', 15, 18, 'Caio']\n",
            "[1, 2, 3, 4, 5]\n",
            "[1, 2, 3, 4, 5, 'Murilo', 'Thamie', 'Briane', 15, 18, 'Caio']\n"
          ],
          "name": "stdout"
        }
      ]
    },
    {
      "cell_type": "code",
      "metadata": {
        "colab": {
          "base_uri": "https://localhost:8080/"
        },
        "id": "ET_5M9tfNxoN",
        "outputId": "622fbf25-4342-469f-c8b0-a825ea7600b6"
      },
      "source": [
        "#removendo item de uma lista\n",
        "#remove para remover um item especifico\n",
        "print(marte)\n",
        "marte.remove('Briane')\n",
        "print(marte)\n",
        "\n"
      ],
      "execution_count": null,
      "outputs": [
        {
          "output_type": "stream",
          "text": [
            "[1, 2, 3, 4, 5, 'Murilo', 'Thamie', 'Briane', 15, 18, 'Caio']\n",
            "[1, 2, 3, 4, 5, 'Murilo', 'Thamie', 15, 18, 'Caio']\n"
          ],
          "name": "stdout"
        }
      ]
    },
    {
      "cell_type": "code",
      "metadata": {
        "colab": {
          "base_uri": "https://localhost:8080/"
        },
        "id": "S8pnqTKOPlcM",
        "outputId": "4af8d43a-cafc-4701-dcfb-90c2eee32fb5"
      },
      "source": [
        "#função POP para remover de um item especifico\n",
        "nova_lista = ['Ronnan', 'Maico', 'Murilo', 'Tiago']\n",
        "print(nova_lista)\n",
        "\n",
        "nova_removido = nova_lista.pop(0)\n",
        "print(nova_removido)  \n",
        "print(nova_removido)"
      ],
      "execution_count": null,
      "outputs": [
        {
          "output_type": "stream",
          "text": [
            "['Ronnan', 'Maico', 'Murilo', 'Tiago']\n",
            "Ronnan\n",
            "Ronnan\n"
          ],
          "name": "stdout"
        }
      ]
    },
    {
      "cell_type": "code",
      "metadata": {
        "colab": {
          "base_uri": "https://localhost:8080/"
        },
        "id": "xh18nb0cS-GU",
        "outputId": "ecad47e3-f082-40be-8d4d-75aac17bb521"
      },
      "source": [
        "valor = 'murilo'\n",
        "aluno = 'murilo'\n",
        "frase = 'Aprendendo Python com o IFSP'\n",
        "\n",
        "print(frase[11:17])\n",
        "\n",
        "print(valor.upper())\n",
        "print(len(aluno))"
      ],
      "execution_count": null,
      "outputs": [
        {
          "output_type": "stream",
          "text": [
            "Python\n",
            "MURILO\n",
            "6\n"
          ],
          "name": "stdout"
        }
      ]
    },
    {
      "cell_type": "code",
      "metadata": {
        "colab": {
          "base_uri": "https://localhost:8080/"
        },
        "id": "DYciOGjAT8jN",
        "outputId": "520f0901-a60c-4a14-99d2-8df78a419917"
      },
      "source": [
        "#forma errada para backup\n",
        "alunos = ['jose', 'joao', 'luiz']\n",
        "alunos_backup = alunos\n",
        "print(alunos_backup)\n",
        "alunos.clear()\n",
        "print('apos o clear {}'.format(alunos_backup))\n",
        "\n",
        "#forma correta | utilizando o copy\n",
        "alunos = ['jose', 'joao', 'luiz']\n",
        "alunos_backup = alunos.copy()\n",
        "print(alunos_backup)\n",
        "alunos.clear()\n",
        "print(alunos_backup)"
      ],
      "execution_count": null,
      "outputs": [
        {
          "output_type": "stream",
          "text": [
            "['jose', 'joao', 'luiz']\n",
            "apos o clear []\n",
            "['jose', 'joao', 'luiz']\n",
            "['jose', 'joao', 'luiz']\n"
          ],
          "name": "stdout"
        }
      ]
    },
    {
      "cell_type": "code",
      "metadata": {
        "id": "WopECcREiOse"
      },
      "source": [
        "#Faça um programa que pergunta a idade\n",
        "#o peso e a altura e decide se esta APTO a ser do Exercito\n",
        "#Para entrar no exercito é preciso ter mais de 18 pesar mais ou igual 60 Kg e medir mais ou igual 1.7\n",
        "idade = int(input('Qual sua idade ?'))\n",
        "peso = float(input('Qual seu peso ?'))\n",
        "altura = float(input('Qual sua altura'))\n",
        "\n",
        "if idade > 18 and peso >= 60 and altura >=1.7:\n",
        "  print('APTO ao exercito')\n",
        "\n",
        "else:\n",
        "  print('NAO APTO')"
      ],
      "execution_count": null,
      "outputs": []
    },
    {
      "cell_type": "code",
      "metadata": {
        "id": "Ezi9zZODWazy"
      },
      "source": [
        "#Faça um programa que leia a quantidade de pessoas que serão convidados para uma festa\n",
        "#Após isso o programa ira pergunta o nome de todos as pessoas e colocar \n",
        "#numa lista de convidados e imprimir todos os nomes da lista\n",
        "pessoas = int(input('Quantidade de pessoas para a festa ?'))\n",
        "contador = pessoas\n",
        "inicial = 0\n",
        "lista_convidados = []\n",
        "\n",
        "while inicial < contador:\n",
        "  convidado = str(input('Digite nome da pessoa:'))\n",
        "  lista_convidados.append(convidado)\n",
        "  inicial = inicial + 1\n",
        "#print('sua lista de convidados é:{}'.format(lista_convidados))\n",
        "\n",
        "for x in lista_convidados:\n",
        "  n= lista_convidados.index(x)+1\n",
        "  print(str(n) + ' Convidado nome:'+ x)\n",
        "  \n",
        "  "
      ],
      "execution_count": null,
      "outputs": []
    },
    {
      "cell_type": "code",
      "metadata": {
        "id": "Acf7_3qSqVA5"
      },
      "source": [
        "#verifique se o nome do usuario começa com M\n",
        "nome = str(input('Digite seu nome'))\n",
        "\n",
        "if nome[0].upper() == 'M':\n",
        "  print('OK')\n",
        "  print('1ª letra digitado: ' + nome[0].upper())\n",
        "else:\n",
        "  print('NOK')\n",
        "\n"
      ],
      "execution_count": null,
      "outputs": []
    },
    {
      "cell_type": "code",
      "metadata": {
        "id": "-4VtORzCnwB1"
      },
      "source": [
        "#Escreva função que recebe objeto de coleção e retorna o valor do maior numero dentro da\n",
        "#coleção e retorna o menor numero\n",
        "print(\"Inicio\")\n",
        "\n",
        "lista = []\n",
        "inicio = 1\n",
        "fim = 4\n",
        "while inicio < fim:\n",
        "  valores = int(input('Digite ' + str(inicio)  + ' numero: \\n'))\n",
        "  print('\\n')\n",
        "  lista.append(valores)\n",
        "  inicio = inicio + 1\n",
        "print('\\n')\n",
        "print('Menor valor digitado é: {}\\n'.format(min(lista)))\n",
        "print('Maior valor digitado é: {}\\n'.format(max(lista)))\n",
        "\n",
        "\n",
        "\n",
        "\n"
      ],
      "execution_count": null,
      "outputs": []
    },
    {
      "cell_type": "code",
      "metadata": {
        "id": "QJyTlik1Cy0L"
      },
      "source": [
        "nome = input('Digite seu nome: ')\n",
        "idade = input('Digite sua idade: ')\n",
        "print('seu nome é ' + nome+ ' sua idade é ' + idade)\n",
        "print('quantidade ' + str(len(nome)) + ' caracteres ')\n",
        "print('Duas primeiras letras é: ' + nome[0:2])"
      ],
      "execution_count": null,
      "outputs": []
    },
    {
      "cell_type": "code",
      "metadata": {
        "id": "-Nz1gF3qEFKE"
      },
      "source": [
        "#Solicite ao usuario informe seu nome\n",
        "#verifique se existe a palavra jose em qualquer parte do nome\n",
        "\n",
        "nome = str(input('Digite seu nome completo'))\n",
        "verificacao = 'JOSE'\n",
        "nome_ver = nome.upper()\n",
        "\n",
        "if nome_ver.find(verificacao, 0) > -1:\n",
        "  print('Seu nome contem: ' + str(verificacao))\n",
        "else:\n",
        "  print('Seu nome não contem: ' + str(verificacao))\n"
      ],
      "execution_count": null,
      "outputs": []
    },
    {
      "cell_type": "code",
      "metadata": {
        "id": "6Q7sYqu4xNvi"
      },
      "source": [
        "#Solicite ao usuario uma frase\n",
        "#motrar frase em minusculo\n",
        "#mostrar frase em maiusculo\n",
        "#contar quantidade de caracteres sem os espaços\n",
        "#contar quantidade de caracteres com os espaços\n",
        "\n",
        "frase = str(input('Digite uma frase'))\n",
        "frase_maiusculo = frase.upper()\n",
        "frase_minusculo = frase.lower()\n",
        "print('\\n')\n",
        "print('frase_minusculo é:' + frase_minusculo)\n",
        "print('\\n')\n",
        "print('frase_maiusculo é:' + frase_maiusculo)\n",
        "\n",
        "frase_sem_espaco = frase.replace(' ', '')\n",
        "\n",
        "com_espaco = (len(frase))\n",
        "conta_caracteres = (len(frase_sem_espaco))\n",
        "print('\\n')\n",
        "print('Total de letras da frase sem espaço: ' + str(conta_caracteres))\n",
        "print('\\n')\n",
        "print('Total de letras da frase com espaço: ' + str(com_espaco))"
      ],
      "execution_count": null,
      "outputs": []
    },
    {
      "cell_type": "code",
      "metadata": {
        "id": "Zr7-QVLc32Iq"
      },
      "source": [
        "#PROFESSOR\n",
        "#Solicite ao usuario uma frase\n",
        "#motrar frase em minusculo\n",
        "#mostrar frase em maiusculo\n",
        "#contar quantidade de caracteres sem os espaços\n",
        "#contar quantidade de caracteres com os espaços\n",
        "\n",
        "\n",
        "frase = input('Uma frase')\n",
        "\n",
        "print('frase maisculo: ' + frase.upper())\n",
        "print('frase minusculo: ' + frase.lower())\n",
        "print('qtde total caracteres: ' + str(len(frase)))\n",
        "print('qtde caracteres sem espaço: ' +str(len(frase) - frase.count(' ')))\n",
        "print('qtde espaço: ' + str(frase.count(' ')))\n"
      ],
      "execution_count": null,
      "outputs": []
    },
    {
      "cell_type": "code",
      "metadata": {
        "id": "YsE4vmKhoRlC"
      },
      "source": [
        "# expressão regular https://regex101.com/"
      ],
      "execution_count": null,
      "outputs": []
    },
    {
      "cell_type": "code",
      "metadata": {
        "colab": {
          "base_uri": "https://localhost:8080/"
        },
        "id": "gQgapgWeBRJe",
        "outputId": "e80d3348-43ab-4c36-ea20-19da2a9dbb8a"
      },
      "source": [
        "#utilização do comando SPLIT\n",
        "#transforma em uma string em uma lista de acordo com os caracteres passados\n",
        "\n",
        "nome = input(\"Digite aqui o seu nome completo: \")\n",
        "teste= nome.split(\"i\")\n",
        "print(teste)\n",
        "print(\"Primeiro nome: \" + teste[0])\n",
        "print(\"Segundo nome: \" + teste[1])"
      ],
      "execution_count": null,
      "outputs": [
        {
          "output_type": "stream",
          "text": [
            "Digite aqui o seu nome completo: murilo farias\n",
            "['mur', 'lo far', 'as']\n",
            "Primeiro nome: mur\n",
            "Segundo nome: lo far\n"
          ],
          "name": "stdout"
        }
      ]
    },
    {
      "cell_type": "code",
      "metadata": {
        "id": "DT4-7lBxOmE7"
      },
      "source": [
        "#Utilizando um API para buscar informações em um site\n",
        "#Importando bibliotecas\n",
        "import requests\n",
        "import json\n",
        "import time\n",
        "import datetime\n",
        "\n",
        "#identificando o site\n",
        "url='https://economia.awesomeapi.com.br/last/USD-BRL,EUR-BRL,BTC-BRL'\n",
        "\n",
        "while True:\n",
        "  time.sleep(3)\n",
        "  requisicao = requests.get(url)\n",
        "\n",
        "  cotacao = json.loads(requisicao.text)\n",
        "\n",
        "  print('Moeda: ' + cotacao['USDBRL']['bid'])\n"
      ],
      "execution_count": null,
      "outputs": []
    },
    {
      "cell_type": "code",
      "metadata": {
        "id": "9b7oPagyVO4e"
      },
      "source": [
        "#Utilizando um API para buscar informações em um site\n",
        "#consulta clima tempo #digitando nome da cidade\n",
        "import requests\n",
        "import json\n",
        "import time\n",
        "\n",
        "cidade = str(input('Digite nome da cidade: '))\n",
        "print('\\n')\n",
        "while True:\n",
        "  requisicao = requests.get('https://api.hgbrasil.com/weather?array_limit=2&fields=only_results,temp,'+ str(cidade) +',forecast,max,min,date&key=18420e13')\n",
        "\n",
        "  busca = json.loads(requisicao.text)  \n",
        "  \n",
        "  informacoes = str((busca['forecast']))\n",
        "  \n",
        "  novo = informacoes.split(\",\")\n",
        "\n",
        "  data = novo[0]\n",
        "\n",
        "  \n",
        "  valor_max = novo[1]\n",
        "  valor_min = novo[2]\n",
        "  \n",
        "  data_novo = data.replace(\"[{'date':\", \"\")\n",
        "\n",
        "  novo_valor_max = valor_max.replace(\"'max':\", \"\")\n",
        "  novo_valor_min = valor_min.replace(\"'min':\", \"\")\n",
        "\n",
        "  novo_valor_min_b = novo_valor_min.replace(\"}\", \"\")\n",
        "  data_novo_b = data_novo.replace(\"'\", \"\")\n",
        "\n",
        "  print('Cidade Pesquisada: ' + cidade)\n",
        "  print('Temperatura Atual: ' + str(busca[\"temp\"])) \n",
        "  print('Data de hoje: ' + data_novo_b)\n",
        "  print('Temperatura maxima: ' + novo_valor_max)\n",
        "  print('Temperatura minima: ' + novo_valor_min_b)\n",
        "\n",
        "  time.sleep(10)"
      ],
      "execution_count": null,
      "outputs": []
    },
    {
      "cell_type": "code",
      "metadata": {
        "id": "OLBcDQZe9Jsd"
      },
      "source": [
        "#Informe um valor qualquer e verifique se é maior do que 100\n",
        "\n",
        "valor = int(input('Digite um valor qualquer: '))\n",
        "\n",
        "if valor > 100:\n",
        "  print('valor:', valor, ' é maior do que 100')\n",
        "\n",
        "else:\n",
        "  print('valor:', valor, ' não é maior do que 100')"
      ],
      "execution_count": null,
      "outputs": []
    },
    {
      "cell_type": "code",
      "metadata": {
        "id": "HmyDgnUbAzJ1"
      },
      "source": [
        "#pessoa deve ser maior ou igual a 18 e for do sexo masculino deve ter reservista\n",
        "\n",
        "sexo = input('Digite sexo M ou F: ')\n",
        "\n",
        "if sexo.upper() == 'F':\n",
        "  print('Sexo feminino não possui reservista')\n",
        "\n",
        "elif sexo.upper() =='M':\n",
        "  idade = int(input('Digite sua idade'))\n",
        "  \n",
        "  if idade>=18:\n",
        "    print('Voce ja tem reservista')\n",
        "\n",
        "  else:\n",
        "    print('Voce ainda não tem reservista')\n",
        "\n",
        "  \n",
        "\n",
        "\n",
        "  "
      ],
      "execution_count": null,
      "outputs": []
    },
    {
      "cell_type": "code",
      "metadata": {
        "colab": {
          "base_uri": "https://localhost:8080/"
        },
        "id": "C2pWiME2GUNt",
        "outputId": "5f95a779-5088-4a66-d35a-6005b869be97"
      },
      "source": [
        "#verificar tipo sanguineo , caso seja A ou O é um possivel doador\n",
        "tipo_sanguineo = str(input('Digite seu tipo sanguineo: '))\n",
        "\n",
        "if tipo_sanguineo.upper() == 'A' or tipo_sanguineo.upper() =='O':\n",
        "  print('Você é um possivel doador')\n",
        "else:\n",
        "  print('Você não é um possível dodor')\n",
        "\n",
        "print('tipo sanguineo informado foi: ', tipo_sanguineo.upper())"
      ],
      "execution_count": null,
      "outputs": [
        {
          "output_type": "stream",
          "text": [
            "Digite seu tipo sanguineo: a\n",
            "Você é um possivel doador\n",
            "tipo sanguineo informado foi:  A\n"
          ],
          "name": "stdout"
        }
      ]
    },
    {
      "cell_type": "code",
      "metadata": {
        "id": "edVlQQw1Jv7l"
      },
      "source": [
        "#Solicitar 3 notas\n",
        "#Calcular media \n",
        "#Se media for abaixo de 6 reprovado\n",
        "#Se media for igual ou superior a 6 aprovado\n",
        "\n",
        "quantidade = 3\n",
        "inicio = 0\n",
        " \n",
        "lista = []\n",
        "while inicio < quantidade:\n",
        "  aparecer_no_texto = inicio +1\n",
        "  nota = int(input('Digite sua '+ str(aparecer_no_texto) + 'ª nota: '))\n",
        "\n",
        "  if nota<0 or nota>10:\n",
        "    print('nota digitada incorretamente')\n",
        "\n",
        "  else:\n",
        "    lista.append(nota)\n",
        "    inicio = inicio + 1\n",
        "\n",
        "nome_aluno = str(input('Digite nome do aluno: '))\n",
        "media = (lista[0] + lista[1] + lista[2]) / 3\n",
        "\n",
        "if media >= 6:\n",
        "  print(nome_aluno.upper(), 'Você foi APROVADO, sua média é:', media)\n",
        "\n",
        "else:\n",
        "  print(nome_aluno.upper(), 'voce foi REPROVADO, sua média é:', media, '\\n obs:media necessaria para passar é maior ou igual a 6')\n",
        "\n"
      ],
      "execution_count": null,
      "outputs": []
    },
    {
      "cell_type": "code",
      "metadata": {
        "id": "kyzfyfaTRj3h"
      },
      "source": [
        "#solicite o peso de duas pessoas \n",
        "#verifique qual pessoa é mais pesada\n",
        "\n",
        "print('iniciando verificação')\n",
        "pessoa_1 = int(input('Digite o peso da primeira pessoa: '))\n",
        "pessoa_2 = int(input('Digite o peso da segunda pessoa: '))\n",
        "\n",
        "print('\\n')\n",
        "if pessoa_1 > pessoa_2:\n",
        "  print('primeira pessoa é mais pesada do que a segunda pessoa \\n peso primeira pessoa: ', pessoa_1, '\\n peso da segunda pessoa: ', pessoa_2)\n",
        "\n",
        "elif pessoa_2 > pessoa_1:\n",
        "  print('segunda pessoa é mais pesada do que a primeira \\n peso segunnda pessoa: ', pessoa_2, '\\n peso da primeira pessoa: ', pessoa_1)\n",
        "\n",
        "else:\n",
        "  print('As duas pessoas tem o mesmo peso')\n",
        "\n",
        "print('\\n')\n",
        "print('fim da verificação')"
      ],
      "execution_count": null,
      "outputs": []
    },
    {
      "cell_type": "code",
      "metadata": {
        "id": "rAMeVEv2eHVv"
      },
      "source": [
        "#solicitar 2 valores\n",
        "#fazer a potencia e verificar se é par ou impar\n",
        "\n",
        "valor_1 = int(input('Digite o primeiro valor'))\n",
        "valor_2 = int(input('Digite o segundo valor'))\n",
        "\n",
        "#** significa elevado\n",
        "total = valor_1 ** valor_2\n",
        "\n",
        "#quando o resto da divisão é = 0 então o numero é par\n",
        "#quando o resto da divisão é = 1 então o numero é impart\n",
        "resto = total % 2\n",
        "\n",
        "if resto == 0:\n",
        "  print('valor par', total)\n",
        "\n",
        "else:\n",
        "  print('valor impar', total)"
      ],
      "execution_count": null,
      "outputs": []
    },
    {
      "cell_type": "code",
      "metadata": {
        "id": "xmmHjqZACFYP"
      },
      "source": [
        "#leitura de pesos\n",
        "#Ler 3 nome e seus respectivos pesos\n",
        "#Mostrar do mais pesado para o mais leve\n",
        "\n",
        "print('Inicio da aplicação')\n",
        "nome_1 = str(input('Digite seu nome: '))\n",
        "peso_1 = int(input('Digite seu peso: '))\n",
        "\n",
        "nome_2 = str(input('Digite seu nome: '))\n",
        "peso_2 = int(input('Digite seu peso: '))\n",
        "\n",
        "nome_3 = str(input('Digite seu nome: '))\n",
        "peso_3 = int(input('Digite seu peso: '))\n",
        "\n",
        "if peso_1 > peso_2 and peso_1 > peso_3:\n",
        "  print('O nome do mais pesado é: ',nome_1,'(',peso_1,')')\n",
        "  if peso_2 > peso_3:\n",
        "    print('O nome do segundo mais pesado é: ', nome_2, '(',peso_2,')', '\\ne o terceiro mais pesado é: ', nome_3, '(',peso_3,')')\n",
        "  else:\n",
        "    print('O nome do segundo mais pesado é: ', nome_3,'(',peso_3,')','\\ne o terceiro mais pesado é: ', nome_2,'(',peso_2,')')\n",
        "\n",
        "elif peso_2>peso_1 and peso_2>peso_3:\n",
        "  print('o nome do mais pesado é: ',nome_2,'(',peso_2,')')\n",
        "  if peso_1>peso_3:\n",
        "    print('o nome do segundo mais pesado é: ', nome_1, '(',peso_1,')','\\ne o terceiro mais pesado é: ',nome_3,'(',peso_3,')')\n",
        "  else:\n",
        "    print('o nome do segundo mais pesado é: ', nome_3, '(',peso_3,')','\\ne o terceiro mais pesado é: ',nome_1,'(',peso_1,')')\n",
        "\n",
        "else:\n",
        "  #peso_3>peso_1 and peso_3 > peso_2:\n",
        "  print('o nome do mais pesado é: ',nome_3,'(',peso_3,')')\n",
        "  if peso_1>peso_2:\n",
        "    print('o nome do segundo mais pesado é: ', nome_1, '(',peso_1,')','\\ne o terceiro mais pesado é: ',nome_2,'(',peso_2,')')\n",
        "  else:\n",
        "    print('o nome do segundo mais pesado é: ', nome_2, '(',peso_2,')','\\ne o terceiro mais pesado é: ',nome_1,'(',peso_1,')')\n",
        "\n",
        "print('Fim do processamento')"
      ],
      "execution_count": null,
      "outputs": []
    },
    {
      "cell_type": "code",
      "metadata": {
        "id": "-htw4-hrR-03"
      },
      "source": [
        "#LOOPS FOR COM LISTA\n",
        "aluno ={'Nome': 'Maria', 'idade':20, 'nota': 9.2}\n",
        "for chave in aluno: #chaves: Nome, Idade, Nota\n",
        "  print(chave)\n",
        "\n",
        "print('\\n')\n",
        "\n",
        "aluno ={'Nome': 'Maria', 'idade':20, 'nota': 9.2}\n",
        "for chave in aluno.keys(): #keys: Nome, Idade, nota\n",
        "  print(chave)\n",
        "\n",
        "print('\\n')\n",
        "\n",
        "aluno ={'Nome': 'Maria', 'idade':20, 'nota': 9.2}\n",
        "for chave in aluno.values(): #values: Maria, 20, 9.2\n",
        "  print(chave)\n",
        "\n",
        "#Completo\n",
        "\n",
        "print('\\n')\n",
        "aluno ={'Nome': 'Maria', 'idade':20, 'nota': 9.2}\n",
        "for chave, valor in aluno.items():\n",
        "  print(chave,'-',(valor))\n",
        "\n"
      ],
      "execution_count": null,
      "outputs": []
    },
    {
      "cell_type": "code",
      "metadata": {
        "id": "W3lFE_eRTMEW"
      },
      "source": [
        "#Utilização do RANGE\n",
        "for i in range(5): #começa no zero e termina excluindo o valor informado\n",
        "  print(i)\n",
        "\n",
        "print('\\n')\n",
        "\n",
        "for i in range(1,11): #começa no primeiro e termina excluindo o  valor informado\n",
        "  print(i)"
      ],
      "execution_count": null,
      "outputs": []
    },
    {
      "cell_type": "code",
      "metadata": {
        "id": "mQA5kPHmTRqU"
      },
      "source": [
        "#utlização do BREAK e CONTINUE\n",
        "print('Exemplo do BREAk')\n",
        "for i in range(1,11):\n",
        "  if i % 5 ==0:\n",
        "    break\n",
        "  print(i)\n",
        "\n",
        "print('\\n')\n",
        "\n",
        "for i in range(1,11):\n",
        "  if i % 5 ==0:\n",
        "    continue\n",
        "  print(i)"
      ],
      "execution_count": null,
      "outputs": []
    },
    {
      "cell_type": "code",
      "metadata": {
        "id": "ygZdDV2VWA-g"
      },
      "source": [
        "#LOOPS WHILE TRUE\n",
        "while True:\n",
        "  letra_digitada = input('Digite seu nome para sair:')\n",
        " \n",
        "  if letra_digitada.upper() == 'MURILO':\n",
        "    break \n",
        "  else:\n",
        "    print('Tente novamente')\n",
        "  \n",
        "print('voce saiu')\n",
        "  \n"
      ],
      "execution_count": null,
      "outputs": []
    },
    {
      "cell_type": "code",
      "metadata": {
        "colab": {
          "base_uri": "https://localhost:8080/"
        },
        "id": "Rv4cCP0OTa7X",
        "outputId": "9c60119b-c461-472f-d340-159ea76ae43f"
      },
      "source": [
        "#TRUQUES DE LISTAS\n",
        "#PRIMEIRO  [0, 0]\n",
        "teste = [0 for i in range(2)]\n",
        "print('Prmeiro: ', teste)\n",
        "\n",
        "#SEGUNDO  [[0, 0, 0, 0], [0, 0, 0, 0], [0, 0, 0, 0], [0, 0, 0, 0]]\n",
        "matriz = [ [0 for i in range(4)] for j in range(4)]\n",
        "print('Segundo: ',matriz)\n",
        "\n",
        "#TERCEIRO [[1, 2, 3, 4], [5, 6, 7, 8], [9, 10, 11, 12], [13, 14, 15, 16]]\n",
        "inicio=1\n",
        "\n",
        "for linha in range(4):\n",
        "    for coluna in range(4):\n",
        "        matriz[linha][coluna] = inicio\n",
        "        #inicio += 1\n",
        "        inicio = inicio +1\n",
        "print('Terceiro:', matriz)\n",
        "\n",
        "#QUARTO \n",
        "         1         2         3         4\n",
        "         5         6         7         8\n",
        "         9        10        11        12\n",
        "        13        14        15        16\n",
        "print('Quarto: ')\n",
        "for linha in range(4):\n",
        "  for coluna in range(4):\n",
        "    print(\"%10d\" % matriz[linha][coluna], end='')     \n",
        "  print()\n",
        "    \n",
        "print('Quinto')\n",
        "for linha in range(2):\n",
        "  for coluna in range(2):\n",
        "    valor = matriz[linha][coluna] \n",
        "    print(valor)"
      ],
      "execution_count": null,
      "outputs": [
        {
          "output_type": "stream",
          "text": [
            "Prmeiro:  [0, 0]\n",
            "Segundo:  [[0, 0, 0, 0], [0, 0, 0, 0], [0, 0, 0, 0], [0, 0, 0, 0]]\n",
            "Terceiro: [[1, 2, 3, 4], [5, 6, 7, 8], [9, 10, 11, 12], [13, 14, 15, 16]]\n",
            "Quarto: \n",
            "         1         2         3         4\n",
            "         5         6         7         8\n",
            "         9        10        11        12\n",
            "        13        14        15        16\n",
            "Quinto\n",
            "1\n",
            "2\n",
            "5\n",
            "6\n"
          ],
          "name": "stdout"
        }
      ]
    },
    {
      "cell_type": "code",
      "metadata": {
        "colab": {
          "base_uri": "https://localhost:8080/"
        },
        "id": "05eoCknEMG8_",
        "outputId": "1a03efa9-572b-4e24-f5b3-932ad143f5a9"
      },
      "source": [
        "valor = range(2)\n",
        "print(valor)"
      ],
      "execution_count": null,
      "outputs": [
        {
          "output_type": "stream",
          "text": [
            "range(0, 5)\n"
          ],
          "name": "stdout"
        }
      ]
    },
    {
      "cell_type": "code",
      "metadata": {
        "colab": {
          "base_uri": "https://localhost:8080/"
        },
        "id": "eBJGInC0EvPj",
        "outputId": "4c3cbad1-313d-4883-80a2-525c87151f61"
      },
      "source": [
        "#Condição de repetição\n",
        "#Faça uma aplicação que receba um numero e mostre os proximos 3 numeros\n",
        "\n",
        "inicial = int(input('Digite um numero: '))\n",
        "final = inicial + 3\n",
        "print('Numero informado: ', inicial)\n",
        "\n",
        "while inicial < final:\n",
        "  inicial+=1\n",
        "  print('Proximo é: ', inicial)\n",
        "  \n",
        "\n"
      ],
      "execution_count": 13,
      "outputs": [
        {
          "metadata": {
            "tags": null
          },
          "name": "stdout",
          "output_type": "stream",
          "text": [
            "Numero informado:  10\n",
            "Proximo é:  11\n",
            "Proximo é:  12\n",
            "Proximo é:  13\n"
          ]
        }
      ]
    },
    {
      "cell_type": "code",
      "metadata": {
        "id": "WeQKCJE1Ot8x"
      },
      "source": [
        "#Faça uma aplicação que receba o nome e o sexo de uma pessoa.\n",
        "#Sendo no sexo o valor M para masculino e F para feminino\n",
        "#Ao final apresente o nome e o  sexo da pessoa\n",
        "\n",
        "nome = input('Digite o nome da pessoa: ')\n",
        "sexo = str(input('Digite o sexo M/F: '))\n",
        "\n",
        "while sexo.upper() != 'F' and  sexo.upper() != 'M':\n",
        "  print('sexo digitado incorretamente')\n",
        "  print('digite novamente o sexo M/F')\n",
        "  sexo = str(input('Digite o sexo M/F: '))\n",
        "  \n",
        "if sexo.upper() =='M':\n",
        "    print('o sexo da pessoa: ', nome, 'é: MASCULINO')\n",
        "  \n",
        "elif sexo.upper() =='F':\n",
        "    print('o sexo da pessoa: ', nome, 'é: FEMININO')\n",
        "\n",
        "\n",
        "\n",
        "\n",
        "\n",
        "\n",
        "    \n"
      ],
      "execution_count": null,
      "outputs": []
    },
    {
      "cell_type": "code",
      "metadata": {
        "colab": {
          "base_uri": "https://localhost:8080/"
        },
        "id": "tIkAvbFJeM6P",
        "outputId": "1085b31f-210b-42f0-cf78-d687d82144c4"
      },
      "source": [
        "#faça uma aplicação que tenha uma estrutura de repetição que fique solicitando uma \n",
        "#palavra ao usuario \n",
        "#até que o usuario informe que o programa deve encerrar\n",
        "#Apos a finalização da aplicação apresente ao usuario o numero de palavras que ele inseriu no sistema\n",
        "\n",
        "finalizar = str(input('Digite seu nome para finalizar: '))\n",
        "tentativa = 1\n",
        "\n",
        "while finalizar.upper() != 'MURILO':\n",
        "  print('quantidade total de tentativas até o momento: ', tentativa)\n",
        "  finalizar = str(input('Digite seu nome para finalizar'))\n",
        "  tentativa +=1\n",
        "\n",
        "tentativa = tentativa -1\n",
        "print('Voce saiu', finalizar, ' com quantidade de tentativas', tentativa)"
      ],
      "execution_count": 45,
      "outputs": [
        {
          "output_type": "stream",
          "text": [
            "Digite seu nome para finalizar: m\n",
            "quantidade total de tentativas até o momento:  1\n",
            "Digite seu nome para finalizarfa\n",
            "quantidade total de tentativas até o momento:  2\n",
            "Digite seu nome para finalizarmurilo\n",
            "Voce saiu murilo  com quantidade de tentativas 2\n"
          ],
          "name": "stdout"
        }
      ]
    },
    {
      "cell_type": "code",
      "metadata": {
        "id": "kCeS4aMYhV0z"
      },
      "source": [
        "#contador de palavras até que o usuario informe que deseja encerrar\n",
        "\n",
        "palavras_total = 0\n",
        "\n",
        "print('Iniciando o programa')\n",
        "alternativa = str(input('Deseja informar uma palavra ? S/N:'))\n",
        "\n",
        "while alternativa.upper() != 'S' and alternativa.upper() != 'N':\n",
        "  print('alternativa incorreta, digite novamente')\n",
        "  alternativa = str(input('Deseja informar uma palavra ? S/N:'))\n",
        "\n",
        "while alternativa.upper() == 'S':\n",
        "  palavra = input('Informe uma palavra: ')\n",
        "  palavras_total +=1\n",
        "  alternativa = str(input('Deseja informar outra palavra ? S/N:'))\n",
        "\n",
        "  while alternativa.upper() != 'S' and alternativa.upper() != 'N':\n",
        "    print('alternativa incorreta, digite novamente')\n",
        "    alternativa = str(input('Deseja informar uma palavra ? S/N:'))\n",
        "\n",
        "  \n",
        "\n",
        "print('\\n')\n",
        "print('Finalizando o sistema, \\n Você informou um total de : ', palavras_total, ' palavras')\n",
        "\n",
        "\n",
        "\n",
        "\n"
      ],
      "execution_count": null,
      "outputs": []
    },
    {
      "cell_type": "code",
      "metadata": {
        "colab": {
          "base_uri": "https://localhost:8080/"
        },
        "id": "FMMpoDZ_yseB",
        "outputId": "74b7e340-93e7-466b-9888-cfd9f4bfb012"
      },
      "source": [
        "#escreva um programa que solicita 10 numeros ao usuario\n",
        "#atraves de um laço while e ao final mostre\n",
        "#qual destes numeros é o maior\n",
        "#qual deste numeros é o menor\n",
        "#qual é a media dos numeros\n",
        "\n",
        "inicio = 1\n",
        "final = 10\n",
        "lista = []\n",
        "print('\\n iniciando sistema - Digite 10 valores: \\n')\n",
        "\n",
        "while inicio <= final:\n",
        "  numero = input(('digite '+ str(inicio)+ 'º valor: '))\n",
        "  inicio = inicio +1\n",
        "  lista.append(numero)\n",
        "\n",
        "valor1 = int(lista[0])\n",
        "valor2 = int(lista[1])\n",
        "valor3 = int(lista[2])\n",
        "valor4 = int(lista[3])\n",
        "valor5 = int(lista[4])\n",
        "valor6 = int(lista[5])\n",
        "valor7 = int(lista[6])\n",
        "valor8 = int(lista[7])\n",
        "valor9 = int(lista[8])\n",
        "valor10 = int(lista[9])\n",
        "\n",
        "print('\\n')\n",
        "\n",
        "maior = max(lista, key=int)\n",
        "menor = min(lista)\n",
        "media = str((valor1 + valor2 + valor3 + valor4 + valor5 + valor6+ valor7+valor8+valor9+valor10) / 10)\n",
        "\n",
        "print('O maior valor digitado é: ',maior, 'posicao: ' , lista.index(maior))\n",
        "\n",
        "print('O menor valor digitado é: ', menor, 'posicao: ', lista.index(menor))\n",
        "\n",
        "print('A media é:',media)\n",
        "\n",
        "print('Lista completa: ',lista)\n"
      ],
      "execution_count": 117,
      "outputs": [
        {
          "output_type": "stream",
          "text": [
            "\n",
            " iniciando sistema - Digite 10 valores: \n",
            "\n",
            "digite 1º valor: 6\n",
            "digite 2º valor: 4\n",
            "digite 3º valor: 55\n",
            "digite 4º valor: 2\n",
            "digite 5º valor: 1\n",
            "digite 6º valor: 80\n",
            "digite 7º valor: 3\n",
            "digite 8º valor: 4\n",
            "digite 9º valor: 5\n",
            "digite 10º valor: 500\n",
            "\n",
            "\n",
            "O maior valor digitado é:  500 posicao:  9\n",
            "O menor valor digitado é:  1 posicao:  4\n",
            "A media é: 66.0\n",
            "Lista completa:  ['6', '4', '55', '2', '1', '80', '3', '4', '5', '500']\n"
          ],
          "name": "stdout"
        }
      ]
    },
    {
      "cell_type": "code",
      "metadata": {
        "colab": {
          "base_uri": "https://localhost:8080/"
        },
        "id": "D9CFzbmE1g4O",
        "outputId": "f6741ed5-120e-4806-d1ba-b6da1f04fe86"
      },
      "source": [
        "#Solicite ao usuario para digitar 10 numeros\n",
        "#Verifique qual maior numero\n",
        "#Verifique qual o menor numero\n",
        "#faça a media dos numeros\n",
        "\n",
        "quantidade = 1\n",
        "somatorio = 0\n",
        "\n",
        "while quantidade <= 10:\n",
        "  numero = int(input('Informe ' + str(quantidade) + 'º numero : '))\n",
        "\n",
        "  if quantidade ==1:\n",
        "    maior = numero\n",
        "    menor = numero\n",
        "  elif (numero>maior):\n",
        "    maior= numero\n",
        "  elif (numero<menor):\n",
        "    menor = numero\n",
        "\n",
        "  somatorio = somatorio + numero\n",
        "  quantidade = quantidade + 1\n",
        "\n",
        "else:\n",
        "  media = somatorio / 10\n",
        "\n",
        "print('O maior valor é: ', maior)\n",
        "print('O menor valor é: ',  menor)\n",
        "print('Media é: ', media)\n"
      ],
      "execution_count": 118,
      "outputs": [
        {
          "output_type": "stream",
          "text": [
            "Informe 1º numero : 1\n",
            "Informe 2º numero : 2\n",
            "Informe 3º numero : 3\n",
            "Informe 4º numero : 4\n",
            "Informe 5º numero : 5\n",
            "Informe 6º numero : 6\n",
            "Informe 7º numero : 7\n",
            "Informe 8º numero : 8\n",
            "Informe 9º numero : 9\n",
            "Informe 10º numero : 10\n",
            "O maior valor é:  10\n",
            "O menor valor é:  1\n",
            "Media é:  5.5\n"
          ],
          "name": "stdout"
        }
      ]
    },
    {
      "cell_type": "code",
      "metadata": {
        "colab": {
          "base_uri": "https://localhost:8080/"
        },
        "id": "Trx0Ki6MSYEE",
        "outputId": "77890a97-5da8-47bd-8bab-b5f4c2d6a1e8"
      },
      "source": [
        "#utilizando o conceito de FOR faça uma aplicação que mostre os numeros \n",
        "#pares na sequencia numerica de 1 a 20\n",
        "list = [1,2,3,4,5,6,7,8,9,10,11,12,13,14,15,16,17,18,19,20]\n",
        "for i in list:\n",
        "  valor = i % 2\n",
        "  if valor == 0:\n",
        "    print('Numero par:>', str(i))\n",
        "\n",
        " "
      ],
      "execution_count": 120,
      "outputs": [
        {
          "output_type": "stream",
          "text": [
            "Numero par:> 2\n",
            "Numero par:> 4\n",
            "Numero par:> 6\n",
            "Numero par:> 8\n",
            "Numero par:> 10\n",
            "Numero par:> 12\n",
            "Numero par:> 14\n",
            "Numero par:> 16\n",
            "Numero par:> 18\n",
            "Numero par:> 20\n"
          ],
          "name": "stdout"
        }
      ]
    },
    {
      "cell_type": "code",
      "metadata": {
        "colab": {
          "base_uri": "https://localhost:8080/"
        },
        "id": "dRKfvsQ_U0oC",
        "outputId": "a700aa4c-57e0-4c60-cb0a-7e5ca83551fd"
      },
      "source": [
        "#Inicio de aplicação\n",
        "for i in range(1,21):\n",
        "  if i % 2 ==0:\n",
        "    print(i)\n",
        "print('fim da aplicação')"
      ],
      "execution_count": 130,
      "outputs": [
        {
          "output_type": "stream",
          "text": [
            "2\n",
            "4\n",
            "6\n",
            "8\n",
            "10\n",
            "12\n",
            "14\n",
            "16\n",
            "18\n",
            "20\n",
            "fim da aplicação\n"
          ],
          "name": "stdout"
        }
      ]
    },
    {
      "cell_type": "code",
      "metadata": {
        "colab": {
          "base_uri": "https://localhost:8080/"
        },
        "id": "x8bc0jUATU5E",
        "outputId": "75db9d8e-dbfd-439a-f4c5-c432c3e1cc30"
      },
      "source": [
        "#utilizando o conceito de FOR faça uma aplicação que mostre os numeros \n",
        "#pares na sequencia numerica de 1 a 20\n",
        "list = []\n",
        "inicio = 1\n",
        "fim = 11\n",
        "while inicio < fim:\n",
        "  entrada = int(input('Digite o ' + str(inicio) + 'º valor: '))\n",
        "  list.append(entrada)\n",
        "  inicio +=1\n",
        "print('lista feita>', list)\n",
        "for i in list:\n",
        "  valor = i % 2\n",
        "  if valor == 0:\n",
        "    print('Numero par:>', str(i))"
      ],
      "execution_count": 125,
      "outputs": [
        {
          "output_type": "stream",
          "text": [
            "Digite o 1º valor: 10\n",
            "Digite o 2º valor: 5\n",
            "Digite o 3º valor: 6\n",
            "Digite o 4º valor: 8\n",
            "Digite o 5º valor: 9\n",
            "Digite o 6º valor: 11\n",
            "Digite o 7º valor: 45\n",
            "Digite o 8º valor: 5\n",
            "Digite o 9º valor: 9\n",
            "Digite o 10º valor: 100\n",
            "lista feita> [10, 5, 6, 8, 9, 11, 45, 5, 9, 100]\n",
            "Numero par:> 10\n",
            "Numero par:> 6\n",
            "Numero par:> 8\n",
            "Numero par:> 100\n"
          ],
          "name": "stdout"
        }
      ]
    },
    {
      "cell_type": "code",
      "metadata": {
        "id": "k813pNPvV0_h"
      },
      "source": [
        "#Utilizando o conceito de FOR faça uma aplicação que mostre a sequencia numerica \n",
        "#iniciando em 3 até 100 com invervalo de 5\n",
        "\n",
        "for i in range(3,100,5): #de 3 ate 100 de 5 em 5\n",
        "  print(i)"
      ],
      "execution_count": null,
      "outputs": []
    },
    {
      "cell_type": "code",
      "metadata": {
        "colab": {
          "base_uri": "https://localhost:8080/"
        },
        "id": "5kV3emN8XGjW",
        "outputId": "7145eeea-9919-4d8c-c5ca-bf6a56414d2e"
      },
      "source": [
        "#utlizando o conceito de FOR faça uma aplicação que mostre os nomes de uma lista\n",
        "lista = ['murilo', 'ronnan', 'maico', 'rodrigo', 'fernando', 'tiago']\n",
        "\n",
        "for i in lista:\n",
        "  print('Elemento: ', i, ' \\n Posição: ', lista.index(i))"
      ],
      "execution_count": 173,
      "outputs": [
        {
          "output_type": "stream",
          "text": [
            "Elemento:  murilo  \n",
            " Posição:  0\n",
            "Elemento:  ronnan  \n",
            " Posição:  1\n",
            "Elemento:  maico  \n",
            " Posição:  2\n",
            "Elemento:  rodrigo  \n",
            " Posição:  3\n",
            "Elemento:  fernando  \n",
            " Posição:  4\n",
            "Elemento:  tiago  \n",
            " Posição:  5\n"
          ],
          "name": "stdout"
        }
      ]
    },
    {
      "cell_type": "code",
      "metadata": {
        "colab": {
          "base_uri": "https://localhost:8080/"
        },
        "id": "Ezcfb6qDXest",
        "outputId": "a0ccac71-f574-4daf-85fa-8c97168021de"
      },
      "source": [
        "#Pergunte ao usuario se deseja digitar o nome\n",
        "#Se não deseja, finalize exibindo a lista e os itens\n",
        "#Se sim, incluir o nome na lista\n",
        "lista = []\n",
        "\n",
        "resposta = input('Deseja digitar um nome para lista: S/N')\n",
        "\n",
        "while resposta.upper() =='S':\n",
        "  entrada = input('Digite um nome para lista: ')\n",
        "  lista.append(entrada)\n",
        "  resposta = input('Deseja digitar outro um nome para lista: S/N')\n",
        "\n",
        "while resposta.upper() != 'S' and resposta.upper() != 'N':\n",
        "  print('Alternativa incorreta, S/N')\n",
        "  resposta = input('Deseja digitar um outro nome para lista: S/N')\n",
        "  while resposta.upper() =='S':\n",
        "    entrada = input('Digite um nome para lista: ')\n",
        "    lista.append(entrada)\n",
        "    resposta = input('Deseja digitar um outro nome para lista: S/N')    \n",
        "\n",
        "if resposta.upper() =='N':\n",
        "  print('Programa Finalizado')\n",
        "\n",
        "print(lista)\n",
        "for i in lista:\n",
        "  print(i)\n"
      ],
      "execution_count": 170,
      "outputs": [
        {
          "output_type": "stream",
          "text": [
            "Deseja digitar um nome para lista: S/Nx\n",
            "Alternativa incorreta, S/N\n",
            "Deseja digitar um outro nome para lista: S/Nx\n",
            "Alternativa incorreta, S/N\n",
            "Deseja digitar um outro nome para lista: S/Nbreno\n",
            "Alternativa incorreta, S/N\n",
            "Deseja digitar um outro nome para lista: S/Ns\n",
            "Digite um nome para lista: breno\n",
            "Deseja digitar um outro nome para lista: S/Nn\n",
            "Programa Finalizado\n",
            "['breno']\n",
            "breno\n"
          ],
          "name": "stdout"
        }
      ]
    },
    {
      "cell_type": "code",
      "metadata": {
        "colab": {
          "base_uri": "https://localhost:8080/"
        },
        "id": "999J6_zkfIhA",
        "outputId": "9aa7d2c6-acba-4bb8-9044-7671ae8731e0"
      },
      "source": [
        "#Escreva um programa que pergunte ao usuario quantos alunos ele tem em sua sala.\n",
        "#Em seguida, atraves de um laço FOR, peça ao usuario para que entre com as notas de \n",
        "#todos os alunos da sala, um por vez.\n",
        "#Por fim, o programa deve mostrar a media aritmetica da turma:\n",
        "\n",
        "quantidade = int(input('Digite quantidade total de alunos: '))\n",
        "inicio = 0\n",
        "elemento = inicio +1\n",
        "lista = []\n",
        "somatorio = 0\n",
        "\n",
        "while inicio < quantidade:\n",
        "  nota = input('digite a nota do ' + str(elemento) + 'º aluno: ')\n",
        "  lista.append(nota)\n",
        "  somatorio = somatorio + int(nota)\n",
        "  elemento +=1\n",
        "  inicio +=1\n",
        "\n",
        "print('Soma total das notas: ', somatorio)\n",
        "\n",
        "media = somatorio / quantidade\n",
        "\n",
        "print('Media total das notas: ', media)\n"
      ],
      "execution_count": 192,
      "outputs": [
        {
          "output_type": "stream",
          "text": [
            "Digite quantidade total de alunos: 3\n",
            "digite a nota do 1º aluno: 10\n",
            "digite a nota do 2º aluno: 10\n",
            "digite a nota do 3º aluno: 10\n",
            "Soma total das notas:  30\n",
            "Media total das notas:  10.0\n"
          ],
          "name": "stdout"
        }
      ]
    },
    {
      "cell_type": "code",
      "metadata": {
        "colab": {
          "base_uri": "https://localhost:8080/"
        },
        "id": "oKHmWYfrlPbq",
        "outputId": "638fd342-5303-46c5-964a-78ac43cdf1dd"
      },
      "source": [
        "#Escreva um programa que pergunte ao usuario quantos alunos ele tem em sua sala.\n",
        "#Em seguida, atraves de um laço FOR, peça ao usuario para que entre com as notas de \n",
        "#todos os alunos da sala, um por vez.\n",
        "#Por fim, o programa deve mostrar a media aritmetica da turma:\n",
        "\n",
        "quantidade = int(input('Digite quantidade total de alunos: '))\n",
        "somatorio = 0\n",
        "media = 0\n",
        "\n",
        "for aluno in range(quantidade):\n",
        "  melhoria = aluno +1\n",
        "  nota = (int(input('Insira a nota do'+ str(melhoria)+ ' º aluno: ')))\n",
        "  somatorio = somatorio + nota\n",
        "\n",
        "else: \n",
        "  media = somatorio / quantidade\n",
        "\n",
        "print('Media: ', media)\n"
      ],
      "execution_count": 209,
      "outputs": [
        {
          "output_type": "stream",
          "text": [
            "Digite quantidade total de alunos: 3\n",
            "Insira a nota do1 º aluno: 10\n",
            "Insira a nota do2 º aluno: 15\n",
            "Insira a nota do3 º aluno: 5\n",
            "Media:  10.0\n"
          ],
          "name": "stdout"
        }
      ]
    },
    {
      "cell_type": "code",
      "metadata": {
        "colab": {
          "base_uri": "https://localhost:8080/"
        },
        "id": "EIzB3DFdmjKV",
        "outputId": "9d75c1b2-778c-4c22-8f41-a793cc3ae643"
      },
      "source": [
        "for i in range(3):\n",
        "  print(i)"
      ],
      "execution_count": 205,
      "outputs": [
        {
          "output_type": "stream",
          "text": [
            "0\n",
            "1\n",
            "2\n"
          ],
          "name": "stdout"
        }
      ]
    }
  ]
}