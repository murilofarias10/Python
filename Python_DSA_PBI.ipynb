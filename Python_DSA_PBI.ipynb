{
  "nbformat": 4,
  "nbformat_minor": 0,
  "metadata": {
    "colab": {
      "name": "Python-DSA-PBI.ipynb",
      "provenance": [],
      "collapsed_sections": [],
      "mount_file_id": "1PdmLWFaZmlUqapNaTrzy0UtzcHuYcFvT",
      "authorship_tag": "ABX9TyMQG3iOXxsVscJp9wy/Lqnw",
      "include_colab_link": true
    },
    "kernelspec": {
      "name": "python3",
      "display_name": "Python 3"
    },
    "language_info": {
      "name": "python"
    }
  },
  "cells": [
    {
      "cell_type": "markdown",
      "metadata": {
        "id": "view-in-github",
        "colab_type": "text"
      },
      "source": [
        "<a href=\"https://colab.research.google.com/github/murilofarias10/AnaliseComPython/blob/main/Python_DSA_PBI.ipynb\" target=\"_parent\"><img src=\"https://colab.research.google.com/assets/colab-badge.svg\" alt=\"Open In Colab\"/></a>"
      ]
    },
    {
      "cell_type": "code",
      "execution_count": null,
      "metadata": {
        "id": "y_a7KxaMtxGC"
      },
      "outputs": [],
      "source": [
        "# matplotlib.org graficos menos refinados que ggplot2 (R)\n",
        "\n",
        "# seaborn bom para graficos estatisticos\n",
        "\n",
        "# pandas excel para python grande volume de dados e tabelas \n",
        "\n",
        "# numPy bibliotecas para matematicas  \n",
        "'''\n",
        "#Carregar o dataset\n",
        "import pandas as pd\n",
        "dataset = pd.read_csv('/content/drive/MyDrive/Colab Notebooks/Usuarios.csv')\n",
        "\n",
        "#display(dataset)\n",
        "\n",
        "#Cria o Grafico\n",
        "import matplotlib.pyplot as plt\n",
        "import seaborn as sns\n",
        "sns.violinplot(x='salario', data = dataset)\n",
        "plt.show()\n",
        "'''"
      ]
    },
    {
      "cell_type": "code",
      "source": [
        "#INICIANDO PROJETO DE ANALISE EXPLORATORIA\n",
        "#IMPORTANDO BIBLIOTECAS\n",
        "import numpy as np\n",
        "import pandas as pd\n",
        "import matplotlib\n",
        "import matplotlib.pyplot as plt\n",
        "import seaborn as sns\n",
        "import warnings\n"
      ],
      "metadata": {
        "id": "Fwat448MUOq5"
      },
      "execution_count": null,
      "outputs": []
    },
    {
      "cell_type": "code",
      "source": [
        "#CARREGANDO OS DADOS\n",
        "dadosRH = pd.read_csv('/content/drive/MyDrive/Colab Notebooks/dadosRH.csv') \n",
        "\n",
        "#VISUALIZANDO OS DADOS\n",
        "dadosRH.head()"
      ],
      "metadata": {
        "id": "z29Brw8SUeTI"
      },
      "execution_count": null,
      "outputs": []
    },
    {
      "cell_type": "code",
      "source": [
        "#forma, linhas y colunas\n",
        "dadosRH.shape "
      ],
      "metadata": {
        "colab": {
          "base_uri": "https://localhost:8080/"
        },
        "id": "UOB4ZCqZUqdP",
        "outputId": "cc0e7540-b162-4a1d-8b9e-f9522f5f39b3"
      },
      "execution_count": 5,
      "outputs": [
        {
          "output_type": "execute_result",
          "data": {
            "text/plain": [
              "(54808, 11)"
            ]
          },
          "metadata": {},
          "execution_count": 5
        }
      ]
    },
    {
      "cell_type": "code",
      "source": [
        "#verificando se tem registros nulos\n",
        "dadosRH.isnull().sum() "
      ],
      "metadata": {
        "colab": {
          "base_uri": "https://localhost:8080/"
        },
        "id": "AmNgPx01YL-Z",
        "outputId": "ab4f4014-2f62-4179-ecd3-f52aed4120bc"
      },
      "execution_count": 6,
      "outputs": [
        {
          "output_type": "execute_result",
          "data": {
            "text/plain": [
              "id_funcionario            0\n",
              "departmento               0\n",
              "regiao                    0\n",
              "educacao               2409\n",
              "genero                    0\n",
              "canal_recrutamento        0\n",
              "numero_treinamentos       0\n",
              "idade                     0\n",
              "aval_ano_anterior      4124\n",
              "tempo_servico             0\n",
              "promovido                 0\n",
              "dtype: int64"
            ]
          },
          "metadata": {},
          "execution_count": 6
        }
      ]
    },
    {
      "cell_type": "code",
      "source": [
        "#contando agrupando pela coluna educação\n",
        "dadosRH.groupby(['educacao']).count() "
      ],
      "metadata": {
        "colab": {
          "base_uri": "https://localhost:8080/",
          "height": 174
        },
        "id": "KZrli-z1Y1g1",
        "outputId": "a2432f80-f265-4e62-d997-ed90f15f468c"
      },
      "execution_count": 7,
      "outputs": [
        {
          "output_type": "execute_result",
          "data": {
            "text/plain": [
              "                       id_funcionario  departmento  regiao  genero  \\\n",
              "educacao                                                             \n",
              "Ensino Medio                      805          805     805     805   \n",
              "Mestrado ou Doutorado           14925        14925   14925   14925   \n",
              "Superior                        36669        36669   36669   36669   \n",
              "\n",
              "                       canal_recrutamento  numero_treinamentos  idade  \\\n",
              "educacao                                                                \n",
              "Ensino Medio                          805                  805    805   \n",
              "Mestrado ou Doutorado               14925                14925  14925   \n",
              "Superior                            36669                36669  36669   \n",
              "\n",
              "                       aval_ano_anterior  tempo_servico  promovido  \n",
              "educacao                                                            \n",
              "Ensino Medio                         458            805        805  \n",
              "Mestrado ou Doutorado              14798          14925      14925  \n",
              "Superior                           33404          36669      36669  "
            ],
            "text/html": [
              "\n",
              "  <div id=\"df-97c6ef46-bbba-40a5-b40f-b9bc1df851a5\">\n",
              "    <div class=\"colab-df-container\">\n",
              "      <div>\n",
              "<style scoped>\n",
              "    .dataframe tbody tr th:only-of-type {\n",
              "        vertical-align: middle;\n",
              "    }\n",
              "\n",
              "    .dataframe tbody tr th {\n",
              "        vertical-align: top;\n",
              "    }\n",
              "\n",
              "    .dataframe thead th {\n",
              "        text-align: right;\n",
              "    }\n",
              "</style>\n",
              "<table border=\"1\" class=\"dataframe\">\n",
              "  <thead>\n",
              "    <tr style=\"text-align: right;\">\n",
              "      <th></th>\n",
              "      <th>id_funcionario</th>\n",
              "      <th>departmento</th>\n",
              "      <th>regiao</th>\n",
              "      <th>genero</th>\n",
              "      <th>canal_recrutamento</th>\n",
              "      <th>numero_treinamentos</th>\n",
              "      <th>idade</th>\n",
              "      <th>aval_ano_anterior</th>\n",
              "      <th>tempo_servico</th>\n",
              "      <th>promovido</th>\n",
              "    </tr>\n",
              "    <tr>\n",
              "      <th>educacao</th>\n",
              "      <th></th>\n",
              "      <th></th>\n",
              "      <th></th>\n",
              "      <th></th>\n",
              "      <th></th>\n",
              "      <th></th>\n",
              "      <th></th>\n",
              "      <th></th>\n",
              "      <th></th>\n",
              "      <th></th>\n",
              "    </tr>\n",
              "  </thead>\n",
              "  <tbody>\n",
              "    <tr>\n",
              "      <th>Ensino Medio</th>\n",
              "      <td>805</td>\n",
              "      <td>805</td>\n",
              "      <td>805</td>\n",
              "      <td>805</td>\n",
              "      <td>805</td>\n",
              "      <td>805</td>\n",
              "      <td>805</td>\n",
              "      <td>458</td>\n",
              "      <td>805</td>\n",
              "      <td>805</td>\n",
              "    </tr>\n",
              "    <tr>\n",
              "      <th>Mestrado ou Doutorado</th>\n",
              "      <td>14925</td>\n",
              "      <td>14925</td>\n",
              "      <td>14925</td>\n",
              "      <td>14925</td>\n",
              "      <td>14925</td>\n",
              "      <td>14925</td>\n",
              "      <td>14925</td>\n",
              "      <td>14798</td>\n",
              "      <td>14925</td>\n",
              "      <td>14925</td>\n",
              "    </tr>\n",
              "    <tr>\n",
              "      <th>Superior</th>\n",
              "      <td>36669</td>\n",
              "      <td>36669</td>\n",
              "      <td>36669</td>\n",
              "      <td>36669</td>\n",
              "      <td>36669</td>\n",
              "      <td>36669</td>\n",
              "      <td>36669</td>\n",
              "      <td>33404</td>\n",
              "      <td>36669</td>\n",
              "      <td>36669</td>\n",
              "    </tr>\n",
              "  </tbody>\n",
              "</table>\n",
              "</div>\n",
              "      <button class=\"colab-df-convert\" onclick=\"convertToInteractive('df-97c6ef46-bbba-40a5-b40f-b9bc1df851a5')\"\n",
              "              title=\"Convert this dataframe to an interactive table.\"\n",
              "              style=\"display:none;\">\n",
              "        \n",
              "  <svg xmlns=\"http://www.w3.org/2000/svg\" height=\"24px\"viewBox=\"0 0 24 24\"\n",
              "       width=\"24px\">\n",
              "    <path d=\"M0 0h24v24H0V0z\" fill=\"none\"/>\n",
              "    <path d=\"M18.56 5.44l.94 2.06.94-2.06 2.06-.94-2.06-.94-.94-2.06-.94 2.06-2.06.94zm-11 1L8.5 8.5l.94-2.06 2.06-.94-2.06-.94L8.5 2.5l-.94 2.06-2.06.94zm10 10l.94 2.06.94-2.06 2.06-.94-2.06-.94-.94-2.06-.94 2.06-2.06.94z\"/><path d=\"M17.41 7.96l-1.37-1.37c-.4-.4-.92-.59-1.43-.59-.52 0-1.04.2-1.43.59L10.3 9.45l-7.72 7.72c-.78.78-.78 2.05 0 2.83L4 21.41c.39.39.9.59 1.41.59.51 0 1.02-.2 1.41-.59l7.78-7.78 2.81-2.81c.8-.78.8-2.07 0-2.86zM5.41 20L4 18.59l7.72-7.72 1.47 1.35L5.41 20z\"/>\n",
              "  </svg>\n",
              "      </button>\n",
              "      \n",
              "  <style>\n",
              "    .colab-df-container {\n",
              "      display:flex;\n",
              "      flex-wrap:wrap;\n",
              "      gap: 12px;\n",
              "    }\n",
              "\n",
              "    .colab-df-convert {\n",
              "      background-color: #E8F0FE;\n",
              "      border: none;\n",
              "      border-radius: 50%;\n",
              "      cursor: pointer;\n",
              "      display: none;\n",
              "      fill: #1967D2;\n",
              "      height: 32px;\n",
              "      padding: 0 0 0 0;\n",
              "      width: 32px;\n",
              "    }\n",
              "\n",
              "    .colab-df-convert:hover {\n",
              "      background-color: #E2EBFA;\n",
              "      box-shadow: 0px 1px 2px rgba(60, 64, 67, 0.3), 0px 1px 3px 1px rgba(60, 64, 67, 0.15);\n",
              "      fill: #174EA6;\n",
              "    }\n",
              "\n",
              "    [theme=dark] .colab-df-convert {\n",
              "      background-color: #3B4455;\n",
              "      fill: #D2E3FC;\n",
              "    }\n",
              "\n",
              "    [theme=dark] .colab-df-convert:hover {\n",
              "      background-color: #434B5C;\n",
              "      box-shadow: 0px 1px 3px 1px rgba(0, 0, 0, 0.15);\n",
              "      filter: drop-shadow(0px 1px 2px rgba(0, 0, 0, 0.3));\n",
              "      fill: #FFFFFF;\n",
              "    }\n",
              "  </style>\n",
              "\n",
              "      <script>\n",
              "        const buttonEl =\n",
              "          document.querySelector('#df-97c6ef46-bbba-40a5-b40f-b9bc1df851a5 button.colab-df-convert');\n",
              "        buttonEl.style.display =\n",
              "          google.colab.kernel.accessAllowed ? 'block' : 'none';\n",
              "\n",
              "        async function convertToInteractive(key) {\n",
              "          const element = document.querySelector('#df-97c6ef46-bbba-40a5-b40f-b9bc1df851a5');\n",
              "          const dataTable =\n",
              "            await google.colab.kernel.invokeFunction('convertToInteractive',\n",
              "                                                     [key], {});\n",
              "          if (!dataTable) return;\n",
              "\n",
              "          const docLinkHtml = 'Like what you see? Visit the ' +\n",
              "            '<a target=\"_blank\" href=https://colab.research.google.com/notebooks/data_table.ipynb>data table notebook</a>'\n",
              "            + ' to learn more about interactive tables.';\n",
              "          element.innerHTML = '';\n",
              "          dataTable['output_type'] = 'display_data';\n",
              "          await google.colab.output.renderOutput(dataTable, element);\n",
              "          const docLink = document.createElement('div');\n",
              "          docLink.innerHTML = docLinkHtml;\n",
              "          element.appendChild(docLink);\n",
              "        }\n",
              "      </script>\n",
              "    </div>\n",
              "  </div>\n",
              "  "
            ]
          },
          "metadata": {},
          "execution_count": 7
        }
      ]
    },
    {
      "cell_type": "code",
      "source": [
        "#criando grafico coluna\n",
        "sns.countplot(dadosRH['educacao']) "
      ],
      "metadata": {
        "colab": {
          "base_uri": "https://localhost:8080/",
          "height": 354
        },
        "id": "AoHvUwCaY5jl",
        "outputId": "10630730-ed14-44aa-924d-8ba8c74802d2"
      },
      "execution_count": 8,
      "outputs": [
        {
          "output_type": "stream",
          "name": "stderr",
          "text": [
            "/usr/local/lib/python3.7/dist-packages/seaborn/_decorators.py:43: FutureWarning: Pass the following variable as a keyword arg: x. From version 0.12, the only valid positional argument will be `data`, and passing other arguments without an explicit keyword will result in an error or misinterpretation.\n",
            "  FutureWarning\n"
          ]
        },
        {
          "output_type": "execute_result",
          "data": {
            "text/plain": [
              "<matplotlib.axes._subplots.AxesSubplot at 0x7f3c919e2ed0>"
            ]
          },
          "metadata": {},
          "execution_count": 8
        },
        {
          "output_type": "display_data",
          "data": {
            "text/plain": [
              "<Figure size 432x288 with 1 Axes>"
            ],
            "image/png": "[encoded data removed]"
          },
          "metadata": {
            "needs_background": "light"
          }
        }
      ]
    },
    {
      "cell_type": "code",
      "source": [
        "#criando grafico contando avaliacao\n",
        "sns.countplot(dadosRH['aval_ano_anterior'])"
      ],
      "metadata": {
        "colab": {
          "base_uri": "https://localhost:8080/",
          "height": 355
        },
        "id": "lV3rUZeictMM",
        "outputId": "c5bdd02b-ae3b-4d05-b05b-d3dc0f7222f8"
      },
      "execution_count": 9,
      "outputs": [
        {
          "output_type": "stream",
          "name": "stderr",
          "text": [
            "/usr/local/lib/python3.7/dist-packages/seaborn/_decorators.py:43: FutureWarning: Pass the following variable as a keyword arg: x. From version 0.12, the only valid positional argument will be `data`, and passing other arguments without an explicit keyword will result in an error or misinterpretation.\n",
            "  FutureWarning\n"
          ]
        },
        {
          "output_type": "execute_result",
          "data": {
            "text/plain": [
              "<matplotlib.axes._subplots.AxesSubplot at 0x7f3c9191b490>"
            ]
          },
          "metadata": {},
          "execution_count": 9
        },
        {
          "output_type": "display_data",
          "data": {
            "text/plain": [
              "<Figure size 432x288 with 1 Axes>"
            ],
            "image/png": "[encoded data removed]"
          },
          "metadata": {
            "needs_background": "light"
          }
        }
      ]
    },
    {
      "cell_type": "code",
      "source": [
        "#preenchendo valor vazio com maior valor da MODA\n",
        "\n",
        "dadosRH['educacao'].fillna(dadosRH['educacao'].mode()[0], inplace = True) "
      ],
      "metadata": {
        "id": "hqHYVB3-c6Ue"
      },
      "execution_count": 10,
      "outputs": []
    },
    {
      "cell_type": "code",
      "source": [
        "#preenchendo valor vazio com valor da MEDIANA\n",
        "dadosRH['aval_ano_anterior'].fillna(dadosRH['aval_ano_anterior'].median(), inplace = True) "
      ],
      "metadata": {
        "id": "0yXe5wdPdHUM"
      },
      "execution_count": 11,
      "outputs": []
    },
    {
      "cell_type": "code",
      "source": [
        "#verificando dados vazios\n",
        "dadosRH.isnull().sum()"
      ],
      "metadata": {
        "colab": {
          "base_uri": "https://localhost:8080/"
        },
        "id": "Bw94RS_AdLEk",
        "outputId": "7e772788-6d31-4bb7-a6ed-ac2c227ee68f"
      },
      "execution_count": 12,
      "outputs": [
        {
          "output_type": "execute_result",
          "data": {
            "text/plain": [
              "id_funcionario         0\n",
              "departmento            0\n",
              "regiao                 0\n",
              "educacao               0\n",
              "genero                 0\n",
              "canal_recrutamento     0\n",
              "numero_treinamentos    0\n",
              "idade                  0\n",
              "aval_ano_anterior      0\n",
              "tempo_servico          0\n",
              "promovido              0\n",
              "dtype: int64"
            ]
          },
          "metadata": {},
          "execution_count": 12
        }
      ]
    },
    {
      "cell_type": "code",
      "source": [
        "sns.countplot(dadosRH['promovido'])"
      ],
      "metadata": {
        "colab": {
          "base_uri": "https://localhost:8080/",
          "height": 354
        },
        "id": "eA1_Y2xhdq3D",
        "outputId": "f4d455c2-f56f-48b2-88ce-199bbe7a7778"
      },
      "execution_count": 13,
      "outputs": [
        {
          "output_type": "stream",
          "name": "stderr",
          "text": [
            "/usr/local/lib/python3.7/dist-packages/seaborn/_decorators.py:43: FutureWarning: Pass the following variable as a keyword arg: x. From version 0.12, the only valid positional argument will be `data`, and passing other arguments without an explicit keyword will result in an error or misinterpretation.\n",
            "  FutureWarning\n"
          ]
        },
        {
          "output_type": "execute_result",
          "data": {
            "text/plain": [
              "<matplotlib.axes._subplots.AxesSubplot at 0x7f3c9193c7d0>"
            ]
          },
          "metadata": {},
          "execution_count": 13
        },
        {
          "output_type": "display_data",
          "data": {
            "text/plain": [
              "<Figure size 432x288 with 1 Axes>"
            ],
            "image/png": "[encoded data removed]"
          },
          "metadata": {
            "needs_background": "light"
          }
        }
      ]
    },
    {
      "cell_type": "code",
      "source": [
        "#Separando a classe majoritaria da minoritaria\n",
        "\n",
        "df_classe_majoritaria = dadosRH[dadosRH.promovido==0]\n",
        "df_classe_minoritaria = dadosRH[dadosRH.promovido==1]"
      ],
      "metadata": {
        "id": "crSgiyokdwAj"
      },
      "execution_count": 14,
      "outputs": []
    },
    {
      "cell_type": "code",
      "source": [
        "df_classe_majoritaria.shape"
      ],
      "metadata": {
        "colab": {
          "base_uri": "https://localhost:8080/"
        },
        "id": "tDB5_3gkd0aM",
        "outputId": "6caec0e1-e4de-4c9c-da77-0d35af201903"
      },
      "execution_count": 15,
      "outputs": [
        {
          "output_type": "execute_result",
          "data": {
            "text/plain": [
              "(50140, 11)"
            ]
          },
          "metadata": {},
          "execution_count": 15
        }
      ]
    },
    {
      "cell_type": "code",
      "source": [
        "df_classe_minoritaria.shape"
      ],
      "metadata": {
        "colab": {
          "base_uri": "https://localhost:8080/"
        },
        "id": "thlJ_gJvd2Yz",
        "outputId": "2ea1f258-8893-466d-e9bb-7a16c5bc380f"
      },
      "execution_count": 16,
      "outputs": [
        {
          "output_type": "execute_result",
          "data": {
            "text/plain": [
              "(4668, 11)"
            ]
          },
          "metadata": {},
          "execution_count": 16
        }
      ]
    },
    {
      "cell_type": "code",
      "source": [
        "#Tecnica de UPSAMPLE (aumentar quantidade classe minoritaria)\n",
        "# Upsample da classe minoritária\n",
        "#majoritaria 50140\n",
        "#minoritaria 4668\n",
        "#total: 54808\n",
        "\n",
        "#sklearn para processamento de dados\n",
        "from sklearn.utils import resample\n",
        "df_classe_minoritaria_upsampled = resample(df_classe_minoritaria, \n",
        "                                           replace = True,     \n",
        "                                           n_samples = 50140,   \n",
        "                                           random_state = 150) "
      ],
      "metadata": {
        "id": "HVPXg5CXd4yM"
      },
      "execution_count": 17,
      "outputs": []
    },
    {
      "cell_type": "code",
      "source": [
        "#concatenar as duas classes\n",
        "dadosRH_balanceados = pd.concat([df_classe_majoritaria, df_classe_minoritaria_upsampled]) "
      ],
      "metadata": {
        "id": "N8xoQafhd7K7"
      },
      "execution_count": 18,
      "outputs": []
    },
    {
      "cell_type": "code",
      "source": [
        "#agora temos\n",
        "#majoritaria 50140\n",
        "#minoritaria 50140\n",
        "\n",
        "dadosRH_balanceados.promovido.value_counts()"
      ],
      "metadata": {
        "colab": {
          "base_uri": "https://localhost:8080/"
        },
        "id": "k-z50_A6d-p7",
        "outputId": "9aa40009-c96c-486a-a8f6-e14f615be799"
      },
      "execution_count": 19,
      "outputs": [
        {
          "output_type": "execute_result",
          "data": {
            "text/plain": [
              "0    50140\n",
              "1    50140\n",
              "Name: promovido, dtype: int64"
            ]
          },
          "metadata": {},
          "execution_count": 19
        }
      ]
    },
    {
      "cell_type": "code",
      "source": [
        "dadosRH_balanceados.info()"
      ],
      "metadata": {
        "colab": {
          "base_uri": "https://localhost:8080/"
        },
        "id": "dTSkx1pXeCrE",
        "outputId": "ad9bc309-2913-49cb-a69e-928ddc4cb57e"
      },
      "execution_count": 20,
      "outputs": [
        {
          "output_type": "stream",
          "name": "stdout",
          "text": [
            "<class 'pandas.core.frame.DataFrame'>\n",
            "Int64Index: 100280 entries, 0 to 5869\n",
            "Data columns (total 11 columns):\n",
            " #   Column               Non-Null Count   Dtype  \n",
            "---  ------               --------------   -----  \n",
            " 0   id_funcionario       100280 non-null  int64  \n",
            " 1   departmento          100280 non-null  object \n",
            " 2   regiao               100280 non-null  object \n",
            " 3   educacao             100280 non-null  object \n",
            " 4   genero               100280 non-null  object \n",
            " 5   canal_recrutamento   100280 non-null  object \n",
            " 6   numero_treinamentos  100280 non-null  int64  \n",
            " 7   idade                100280 non-null  int64  \n",
            " 8   aval_ano_anterior    100280 non-null  float64\n",
            " 9   tempo_servico        100280 non-null  int64  \n",
            " 10  promovido            100280 non-null  int64  \n",
            "dtypes: float64(1), int64(5), object(5)\n",
            "memory usage: 9.2+ MB\n"
          ]
        }
      ]
    },
    {
      "cell_type": "code",
      "source": [
        "sns.countplot(dadosRH_balanceados['promovido'])"
      ],
      "metadata": {
        "colab": {
          "base_uri": "https://localhost:8080/",
          "height": 354
        },
        "id": "nN3RQuFDeEqE",
        "outputId": "952e9c0a-22fd-4e9a-cb3c-4051ce0175d4"
      },
      "execution_count": 21,
      "outputs": [
        {
          "output_type": "stream",
          "name": "stderr",
          "text": [
            "/usr/local/lib/python3.7/dist-packages/seaborn/_decorators.py:43: FutureWarning: Pass the following variable as a keyword arg: x. From version 0.12, the only valid positional argument will be `data`, and passing other arguments without an explicit keyword will result in an error or misinterpretation.\n",
            "  FutureWarning\n"
          ]
        },
        {
          "output_type": "execute_result",
          "data": {
            "text/plain": [
              "<matplotlib.axes._subplots.AxesSubplot at 0x7f3c90dc2590>"
            ]
          },
          "metadata": {},
          "execution_count": 21
        },
        {
          "output_type": "display_data",
          "data": {
            "text/plain": [
              "<Figure size 432x288 with 1 Axes>"
            ],
            "image/png": "[encoded data removed]"
          },
          "metadata": {
            "needs_background": "light"
          }
        }
      ]
    },
    {
      "cell_type": "code",
      "source": [
        "#salvando o novo arquivo no drive\n",
        "dadosRH_balanceados.to_csv('dadosRH_modificado2.csv', encoding = 'utf-8', index = False) "
      ],
      "metadata": {
        "id": "KLgzFD2qeIJz"
      },
      "execution_count": 23,
      "outputs": []
    },
    {
      "cell_type": "code",
      "source": [
        "#abrindo o novo arquivo para analise\n",
        "dataset = pd.read_csv('dadosRH_modificado2.csv')\n",
        "dataset.head()"
      ],
      "metadata": {
        "colab": {
          "base_uri": "https://localhost:8080/",
          "height": 206
        },
        "id": "XaZlKs_ViLTp",
        "outputId": "174d4bba-127d-4a62-dc99-96dfcbfd52bd"
      },
      "execution_count": 24,
      "outputs": [
        {
          "output_type": "execute_result",
          "data": {
            "text/plain": [
              "   id_funcionario departmento    regiao               educacao genero  \\\n",
              "0           65438   Marketing   Sudeste  Mestrado ou Doutorado      F   \n",
              "1           65141   Logistica  Nordeste               Superior      M   \n",
              "2            7513   Marketing   Sudeste               Superior      M   \n",
              "3            2542   Marketing     Norte               Superior      M   \n",
              "4           48945  Tecnologia  Nordeste               Superior      M   \n",
              "\n",
              "  canal_recrutamento  numero_treinamentos  idade  aval_ano_anterior  \\\n",
              "0        Outsourcing                    1     35                5.0   \n",
              "1              Outro                    1     30                5.0   \n",
              "2        Outsourcing                    1     34                3.0   \n",
              "3              Outro                    2     39                1.0   \n",
              "4              Outro                    1     45                3.0   \n",
              "\n",
              "   tempo_servico  promovido  \n",
              "0              8          0  \n",
              "1              4          0  \n",
              "2              7          0  \n",
              "3             10          0  \n",
              "4              2          0  "
            ],
            "text/html": [
              "\n",
              "  <div id=\"df-c6bcb292-4836-44cd-b5b1-667c97a2f380\">\n",
              "    <div class=\"colab-df-container\">\n",
              "      <div>\n",
              "<style scoped>\n",
              "    .dataframe tbody tr th:only-of-type {\n",
              "        vertical-align: middle;\n",
              "    }\n",
              "\n",
              "    .dataframe tbody tr th {\n",
              "        vertical-align: top;\n",
              "    }\n",
              "\n",
              "    .dataframe thead th {\n",
              "        text-align: right;\n",
              "    }\n",
              "</style>\n",
              "<table border=\"1\" class=\"dataframe\">\n",
              "  <thead>\n",
              "    <tr style=\"text-align: right;\">\n",
              "      <th></th>\n",
              "      <th>id_funcionario</th>\n",
              "      <th>departmento</th>\n",
              "      <th>regiao</th>\n",
              "      <th>educacao</th>\n",
              "      <th>genero</th>\n",
              "      <th>canal_recrutamento</th>\n",
              "      <th>numero_treinamentos</th>\n",
              "      <th>idade</th>\n",
              "      <th>aval_ano_anterior</th>\n",
              "      <th>tempo_servico</th>\n",
              "      <th>promovido</th>\n",
              "    </tr>\n",
              "  </thead>\n",
              "  <tbody>\n",
              "    <tr>\n",
              "      <th>0</th>\n",
              "      <td>65438</td>\n",
              "      <td>Marketing</td>\n",
              "      <td>Sudeste</td>\n",
              "      <td>Mestrado ou Doutorado</td>\n",
              "      <td>F</td>\n",
              "      <td>Outsourcing</td>\n",
              "      <td>1</td>\n",
              "      <td>35</td>\n",
              "      <td>5.0</td>\n",
              "      <td>8</td>\n",
              "      <td>0</td>\n",
              "    </tr>\n",
              "    <tr>\n",
              "      <th>1</th>\n",
              "      <td>65141</td>\n",
              "      <td>Logistica</td>\n",
              "      <td>Nordeste</td>\n",
              "      <td>Superior</td>\n",
              "      <td>M</td>\n",
              "      <td>Outro</td>\n",
              "      <td>1</td>\n",
              "      <td>30</td>\n",
              "      <td>5.0</td>\n",
              "      <td>4</td>\n",
              "      <td>0</td>\n",
              "    </tr>\n",
              "    <tr>\n",
              "      <th>2</th>\n",
              "      <td>7513</td>\n",
              "      <td>Marketing</td>\n",
              "      <td>Sudeste</td>\n",
              "      <td>Superior</td>\n",
              "      <td>M</td>\n",
              "      <td>Outsourcing</td>\n",
              "      <td>1</td>\n",
              "      <td>34</td>\n",
              "      <td>3.0</td>\n",
              "      <td>7</td>\n",
              "      <td>0</td>\n",
              "    </tr>\n",
              "    <tr>\n",
              "      <th>3</th>\n",
              "      <td>2542</td>\n",
              "      <td>Marketing</td>\n",
              "      <td>Norte</td>\n",
              "      <td>Superior</td>\n",
              "      <td>M</td>\n",
              "      <td>Outro</td>\n",
              "      <td>2</td>\n",
              "      <td>39</td>\n",
              "      <td>1.0</td>\n",
              "      <td>10</td>\n",
              "      <td>0</td>\n",
              "    </tr>\n",
              "    <tr>\n",
              "      <th>4</th>\n",
              "      <td>48945</td>\n",
              "      <td>Tecnologia</td>\n",
              "      <td>Nordeste</td>\n",
              "      <td>Superior</td>\n",
              "      <td>M</td>\n",
              "      <td>Outro</td>\n",
              "      <td>1</td>\n",
              "      <td>45</td>\n",
              "      <td>3.0</td>\n",
              "      <td>2</td>\n",
              "      <td>0</td>\n",
              "    </tr>\n",
              "  </tbody>\n",
              "</table>\n",
              "</div>\n",
              "      <button class=\"colab-df-convert\" onclick=\"convertToInteractive('df-c6bcb292-4836-44cd-b5b1-667c97a2f380')\"\n",
              "              title=\"Convert this dataframe to an interactive table.\"\n",
              "              style=\"display:none;\">\n",
              "        \n",
              "  <svg xmlns=\"http://www.w3.org/2000/svg\" height=\"24px\"viewBox=\"0 0 24 24\"\n",
              "       width=\"24px\">\n",
              "    <path d=\"M0 0h24v24H0V0z\" fill=\"none\"/>\n",
              "    <path d=\"M18.56 5.44l.94 2.06.94-2.06 2.06-.94-2.06-.94-.94-2.06-.94 2.06-2.06.94zm-11 1L8.5 8.5l.94-2.06 2.06-.94-2.06-.94L8.5 2.5l-.94 2.06-2.06.94zm10 10l.94 2.06.94-2.06 2.06-.94-2.06-.94-.94-2.06-.94 2.06-2.06.94z\"/><path d=\"M17.41 7.96l-1.37-1.37c-.4-.4-.92-.59-1.43-.59-.52 0-1.04.2-1.43.59L10.3 9.45l-7.72 7.72c-.78.78-.78 2.05 0 2.83L4 21.41c.39.39.9.59 1.41.59.51 0 1.02-.2 1.41-.59l7.78-7.78 2.81-2.81c.8-.78.8-2.07 0-2.86zM5.41 20L4 18.59l7.72-7.72 1.47 1.35L5.41 20z\"/>\n",
              "  </svg>\n",
              "      </button>\n",
              "      \n",
              "  <style>\n",
              "    .colab-df-container {\n",
              "      display:flex;\n",
              "      flex-wrap:wrap;\n",
              "      gap: 12px;\n",
              "    }\n",
              "\n",
              "    .colab-df-convert {\n",
              "      background-color: #E8F0FE;\n",
              "      border: none;\n",
              "      border-radius: 50%;\n",
              "      cursor: pointer;\n",
              "      display: none;\n",
              "      fill: #1967D2;\n",
              "      height: 32px;\n",
              "      padding: 0 0 0 0;\n",
              "      width: 32px;\n",
              "    }\n",
              "\n",
              "    .colab-df-convert:hover {\n",
              "      background-color: #E2EBFA;\n",
              "      box-shadow: 0px 1px 2px rgba(60, 64, 67, 0.3), 0px 1px 3px 1px rgba(60, 64, 67, 0.15);\n",
              "      fill: #174EA6;\n",
              "    }\n",
              "\n",
              "    [theme=dark] .colab-df-convert {\n",
              "      background-color: #3B4455;\n",
              "      fill: #D2E3FC;\n",
              "    }\n",
              "\n",
              "    [theme=dark] .colab-df-convert:hover {\n",
              "      background-color: #434B5C;\n",
              "      box-shadow: 0px 1px 3px 1px rgba(0, 0, 0, 0.15);\n",
              "      filter: drop-shadow(0px 1px 2px rgba(0, 0, 0, 0.3));\n",
              "      fill: #FFFFFF;\n",
              "    }\n",
              "  </style>\n",
              "\n",
              "      <script>\n",
              "        const buttonEl =\n",
              "          document.querySelector('#df-c6bcb292-4836-44cd-b5b1-667c97a2f380 button.colab-df-convert');\n",
              "        buttonEl.style.display =\n",
              "          google.colab.kernel.accessAllowed ? 'block' : 'none';\n",
              "\n",
              "        async function convertToInteractive(key) {\n",
              "          const element = document.querySelector('#df-c6bcb292-4836-44cd-b5b1-667c97a2f380');\n",
              "          const dataTable =\n",
              "            await google.colab.kernel.invokeFunction('convertToInteractive',\n",
              "                                                     [key], {});\n",
              "          if (!dataTable) return;\n",
              "\n",
              "          const docLinkHtml = 'Like what you see? Visit the ' +\n",
              "            '<a target=\"_blank\" href=https://colab.research.google.com/notebooks/data_table.ipynb>data table notebook</a>'\n",
              "            + ' to learn more about interactive tables.';\n",
              "          element.innerHTML = '';\n",
              "          dataTable['output_type'] = 'display_data';\n",
              "          await google.colab.output.renderOutput(dataTable, element);\n",
              "          const docLink = document.createElement('div');\n",
              "          docLink.innerHTML = docLinkHtml;\n",
              "          element.appendChild(docLink);\n",
              "        }\n",
              "      </script>\n",
              "    </div>\n",
              "  </div>\n",
              "  "
            ]
          },
          "metadata": {},
          "execution_count": 24
        }
      ]
    },
    {
      "cell_type": "code",
      "source": [
        "dataset.shape"
      ],
      "metadata": {
        "colab": {
          "base_uri": "https://localhost:8080/"
        },
        "id": "V1qaQWWNiRKv",
        "outputId": "bc45244f-a526-48b3-a0b7-cf215a552608"
      },
      "execution_count": 25,
      "outputs": [
        {
          "output_type": "execute_result",
          "data": {
            "text/plain": [
              "(100280, 11)"
            ]
          },
          "metadata": {},
          "execution_count": 25
        }
      ]
    },
    {
      "cell_type": "code",
      "source": [
        "#ANALISE DE DADOS COM A NOVA BASE DE DADOS\n",
        "\n",
        "#Pergunta 1 - Qual a Correlação Entre os Atributos dos Funcionários?\n",
        "#Pergunta 2 - Qual o Tempo de Serviço da Maioria dos Funcionários?\n",
        "#Pergunta 3 - Qual Avaliação do Ano Anterior Foi Mais Comum?\n",
        "#Pergunta 4 - Qual a Distribuição das Idades dos Funcionários?\n",
        "#Pergunta 5 - Qual o Número de Treinamentos Mais Frequente?\n",
        "#Pergunta 6 - Qual a Proporção dos Funcionários Por Canal de Recrutamento?\n",
        "#Pergunta 7 - Qual a Relação Entre a Promoção e a Avaliação do Ano Anterior?\n"
      ],
      "metadata": {
        "id": "19iiJM3CHirX"
      },
      "execution_count": null,
      "outputs": []
    },
    {
      "cell_type": "code",
      "source": [
        "#Pergunta 1 - Qual a Correlação Entre os Atributos dos Funcionários?\n",
        "import matplotlib.pyplot as plt\n",
        "import seaborn as sns\n",
        "corr = dataset.corr()\n",
        "sns.heatmap(corr, cmap = \"YlOrRd\", linewidths = 0.1)\n",
        "plt.show()\n",
        "\n",
        "#matriz de correlação para numericos\n",
        "#matriz de associação para textos"
      ],
      "metadata": {
        "colab": {
          "base_uri": "https://localhost:8080/",
          "height": 368
        },
        "id": "mJ_AukvIrFDP",
        "outputId": "82f5f96c-bb74-49cc-ea0a-47506d4f7e4b"
      },
      "execution_count": 26,
      "outputs": [
        {
          "output_type": "display_data",
          "data": {
            "text/plain": [
              "<Figure size 432x288 with 2 Axes>"
            ],
            "image/png": "[encoded data removed]"
          },
          "metadata": {
            "needs_background": "light"
          }
        }
      ]
    },
    {
      "cell_type": "code",
      "source": [
        "#Pergunta 2 - Qual o Tempo de Serviço da Maioria dos Funcionários?\n",
        "\n",
        "import matplotlib.pyplot as plt\n",
        "import seaborn as sns\n",
        "sns.distplot(dataset['tempo_servico'], color = 'green')\n",
        "plt.title('Distribuição do Tempo de Serviço dos Funcionários', fontsize = 15)\n",
        "plt.xlabel('Tempo de Serviço em Anos', fontsize = 15)\n",
        "plt.ylabel('Total')\n",
        "plt.show()"
      ],
      "metadata": {
        "colab": {
          "base_uri": "https://localhost:8080/",
          "height": 360
        },
        "id": "hCgH-jMRrMVX",
        "outputId": "185b0e14-413e-4d38-b13c-568635cbd7bf"
      },
      "execution_count": 27,
      "outputs": [
        {
          "output_type": "stream",
          "name": "stderr",
          "text": [
            "/usr/local/lib/python3.7/dist-packages/seaborn/distributions.py:2619: FutureWarning: `distplot` is a deprecated function and will be removed in a future version. Please adapt your code to use either `displot` (a figure-level function with similar flexibility) or `histplot` (an axes-level function for histograms).\n",
            "  warnings.warn(msg, FutureWarning)\n"
          ]
        },
        {
          "output_type": "display_data",
          "data": {
            "text/plain": [
              "<Figure size 432x288 with 1 Axes>"
            ],
            "image/png": "[encoded data removed]"
          },
          "metadata": {
            "needs_background": "light"
          }
        }
      ]
    },
    {
      "cell_type": "code",
      "source": [
        "#Pergunta 3 - Qual Avaliação do Ano Anterior Foi Mais Comum?\n",
        "import matplotlib.pyplot as plt\n",
        "import seaborn as sns                      #sort_value ordenar\n",
        "dataset['aval_ano_anterior'].value_counts().sort_values().plot.bar(color = 'blue', figsize = (10, 5))\n",
        "plt.title('Distribuição da Avaliação do Ano Anterior dos Funcionários', fontsize = 15)\n",
        "plt.xlabel('Avaliações', fontsize = 15)\n",
        "plt.ylabel('Total')\n",
        "plt.show()"
      ],
      "metadata": {
        "colab": {
          "base_uri": "https://localhost:8080/",
          "height": 364
        },
        "id": "FzYmo5PlrNzY",
        "outputId": "dec5d273-3c25-4889-a56f-cb45f1522017"
      },
      "execution_count": 28,
      "outputs": [
        {
          "output_type": "display_data",
          "data": {
            "text/plain": [
              "<Figure size 720x360 with 1 Axes>"
            ],
            "image/png": "[encoded data removed]"
          },
          "metadata": {
            "needs_background": "light"
          }
        }
      ]
    },
    {
      "cell_type": "code",
      "source": [
        "#Pergunta 4 - Qual a Distribuição das Idades dos Funcionários?\n",
        "import matplotlib.pyplot as plt\n",
        "import seaborn as sns\n",
        "sns.distplot(dataset['idade'], color = 'magenta')\n",
        "plt.title('Distribuição da Idade dos Funcionários', fontsize = 15)\n",
        "plt.xlabel('Idade', fontsize = 15)\n",
        "plt.ylabel('Total')\n",
        "plt.show()"
      ],
      "metadata": {
        "colab": {
          "base_uri": "https://localhost:8080/",
          "height": 360
        },
        "id": "AiwSftURrPHw",
        "outputId": "e9b9b6e5-59fe-445e-efb9-851cc42eeb65"
      },
      "execution_count": 29,
      "outputs": [
        {
          "output_type": "stream",
          "name": "stderr",
          "text": [
            "/usr/local/lib/python3.7/dist-packages/seaborn/distributions.py:2619: FutureWarning: `distplot` is a deprecated function and will be removed in a future version. Please adapt your code to use either `displot` (a figure-level function with similar flexibility) or `histplot` (an axes-level function for histograms).\n",
            "  warnings.warn(msg, FutureWarning)\n"
          ]
        },
        {
          "output_type": "display_data",
          "data": {
            "text/plain": [
              "<Figure size 432x288 with 1 Axes>"
            ],
            "image/png": "[encoded data removed]"
          },
          "metadata": {
            "needs_background": "light"
          }
        }
      ]
    },
    {
      "cell_type": "code",
      "source": [
        "#Pergunta 5 - Qual o Número de Treinamentos Mais Frequente?\n",
        "import matplotlib.pyplot as plt\n",
        "import seaborn as sns\n",
        "sns.violinplot(dataset['numero_treinamentos'], color = 'red')\n",
        "plt.title('Número de Treinamentos Feitos Pelos Funcionários', fontsize = 15)\n",
        "plt.xlabel('Número de Treinamentos', fontsize = 15)\n",
        "plt.ylabel('Frequência')\n",
        "plt.show()"
      ],
      "metadata": {
        "colab": {
          "base_uri": "https://localhost:8080/",
          "height": 358
        },
        "id": "qdU2W-s0rQYY",
        "outputId": "e89541b8-293d-4a74-b492-3709e8464625"
      },
      "execution_count": 30,
      "outputs": [
        {
          "output_type": "stream",
          "name": "stderr",
          "text": [
            "/usr/local/lib/python3.7/dist-packages/seaborn/_decorators.py:43: FutureWarning: Pass the following variable as a keyword arg: x. From version 0.12, the only valid positional argument will be `data`, and passing other arguments without an explicit keyword will result in an error or misinterpretation.\n",
            "  FutureWarning\n"
          ]
        },
        {
          "output_type": "display_data",
          "data": {
            "text/plain": [
              "<Figure size 432x288 with 1 Axes>"
            ],
            "image/png": "[encoded data removed]"
          },
          "metadata": {
            "needs_background": "light"
          }
        }
      ]
    },
    {
      "cell_type": "code",
      "source": [
        "#Pergunta 6 - Qual a Proporção dos Funcionários Por Canal de Recrutamento?\n",
        "dataset['canal_recrutamento'].value_counts() #contrando valores coluna canal_recutramento"
      ],
      "metadata": {
        "colab": {
          "base_uri": "https://localhost:8080/"
        },
        "id": "HUNMGPY4rSyA",
        "outputId": "c50f0b41-0fb2-488a-abd1-ea409bbf1378"
      },
      "execution_count": 31,
      "outputs": [
        {
          "output_type": "execute_result",
          "data": {
            "text/plain": [
              "Outro          55375\n",
              "Outsourcing    42358\n",
              "Indicado        2547\n",
              "Name: canal_recrutamento, dtype: int64"
            ]
          },
          "metadata": {},
          "execution_count": 31
        }
      ]
    },
    {
      "cell_type": "code",
      "source": [
        "import matplotlib.pyplot as plt\n",
        "import seaborn as sns\n",
        "dataset['canal_recrutamento'].value_counts()\n",
        "fatias = [55375, 42358, 2547]\n",
        "labels = \"Outro\", \"Outsourcing\", \"Indicação\"\n",
        "colors = ['purple', 'lime', 'yellow']\n",
        "explode = [0, 0, 0]\n",
        "plt.pie(fatias, labels = labels, colors = colors, explode = explode, shadow = True, autopct = \"%.2f%%\")\n",
        "plt.title('Percentual de Funcionários Por Canal de Recrutamento', fontsize = 15)\n",
        "plt.axis('off')\n",
        "plt.legend()\n",
        "plt.show()"
      ],
      "metadata": {
        "colab": {
          "base_uri": "https://localhost:8080/",
          "height": 265
        },
        "id": "DTyANWeNyEFz",
        "outputId": "7885bea4-b5e0-4901-ecc2-3ad763eb086c"
      },
      "execution_count": 32,
      "outputs": [
        {
          "output_type": "display_data",
          "data": {
            "text/plain": [
              "<Figure size 432x288 with 1 Axes>"
            ],
            "image/png": "[encoded data removed]"
          },
          "metadata": {}
        }
      ]
    },
    {
      "cell_type": "code",
      "source": [
        "#Pergunta 7 - Qual a Relação Entre a Promoção e a Avaliação do Ano Anterior?\n",
        "import matplotlib.pyplot as plt\n",
        "import seaborn as sns\n",
        "        #crosstab tabela cruzada\n",
        "    \n",
        "data = pd.crosstab(dataset['aval_ano_anterior'], dataset['promovido'])\n",
        "\n",
        "    #div para dividir\n",
        "data.div(data.sum(1).astype(float), axis = 0).plot(kind = 'bar', #tipo barra\n",
        "                                                   stacked = True, \n",
        "                                                   figsize = (16, 9), \n",
        "                                                   color = ['blue', 'magenta'])\n",
        "plt.title('Relação Entre Avaliação do Ano Anterior e a Promoção', fontsize = 15)\n",
        "plt.xlabel('Avaliação do Ano Anterior', fontsize = 15)\n",
        "plt.legend()\n",
        "plt.show()"
      ],
      "metadata": {
        "colab": {
          "base_uri": "https://localhost:8080/",
          "height": 580
        },
        "id": "ZaUZa5jYrUBg",
        "outputId": "52d6efab-854e-49e0-c1e8-55f176004346"
      },
      "execution_count": 33,
      "outputs": [
        {
          "output_type": "display_data",
          "data": {
            "text/plain": [
              "<Figure size 1152x648 with 1 Axes>"
            ],
            "image/png": "[encoded data removed]"
          },
          "metadata": {
            "needs_background": "light"
          }
        }
      ]
    }
  ]
}