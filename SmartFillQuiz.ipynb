{
  "nbformat": 4,
  "nbformat_minor": 0,
  "metadata": {
    "colab": {
      "provenance": [],
      "authorship_tag": "ABX9TyNfQDFzwmYZ9JZpJLtDCp00",
      "include_colab_link": true
    },
    "kernelspec": {
      "name": "python3",
      "display_name": "Python 3"
    },
    "language_info": {
      "name": "python"
    }
  },
  "cells": [
    {
      "cell_type": "markdown",
      "metadata": {
        "id": "view-in-github",
        "colab_type": "text"
      },
      "source": [
        "<a href=\"https://colab.research.google.com/github/murilofarias10/Python/blob/main/SmartFillQuiz.ipynb\" target=\"_parent\"><img src=\"https://colab.research.google.com/assets/colab-badge.svg\" alt=\"Open In Colab\"/></a>"
      ]
    },
    {
      "cell_type": "markdown",
      "source": [
        "**Fill in the Blank Quiz Generator - Murilo Farias**\n",
        "\n",
        "\n",
        "The application allows users to upload plain text (.txt) files and generates quiz questions from the content, This tool is designed to combine technology with education.\n",
        "By dynamically generating questions based on text analysis, it not only promotes language learning but also serves as an innovative resource for teachers, students, or anyone looking to enhance their vocabulary and comprehension skills.\n"
      ],
      "metadata": {
        "id": "_fm36xlHFxMT"
      }
    },
    {
      "cell_type": "markdown",
      "source": [
        "**Importing Libraries:**\n",
        "\n",
        "Gradio (gr): A Python library to build user-friendly web interfaces for machine learning or Python scripts. Here, it’s used to create an interactive quiz generator.\n",
        "\n",
        "NLTK (nltk): The Natural Language Toolkit is a suite of libraries for text processing, like tokenization, stopword removal, and part-of-speech tagging.\n",
        "Random (random): To add randomness, such as selecting a random sentence or shuffling answer options.\n",
        "\n",
        "OS (os): To manage file paths and directories for saving or accessing files."
      ],
      "metadata": {
        "id": "GHtI_3RMGI7Z"
      }
    },
    {
      "cell_type": "markdown",
      "source": [
        "**What’s happening here?**\n",
        "\n",
        "**1.   NLTK Resources:**\n",
        "*   required data files (punkt, averaged_perceptron_tagger, and stopwords) are\n",
        "downloaded into a specific directory.\n",
        "*   punkt: Used for tokenizing sentences into words.\n",
        "*   averaged_perceptron_tagger: Tags words with parts of speech (e.g., noun, verb).\n",
        "*   stopwords: Filters out common words.\n",
        "\n",
        "\n",
        "**2.   Validating the TXT File:**\n",
        "*   validate the uploaded file to ensure it’s a .txt file and isn’t empty.\n",
        "\n",
        "**3.   Generating Quiz Questions:**\n",
        "*   Sentence Selection: Sentences are filtered based on length\n",
        "*   Word Extraction: Words from the sentence are filtered\n",
        "*   Blank Creation: A random word is replaced with a blank to form the quiz question.\n",
        "*   Option Generation: The correct word and two random re selected as answer choices.\n",
        "*   Shuffling: All answer choices are shuffled to randomize their order\n",
        "\n",
        "**4. Process File and Generate Output**\n",
        "*   The selected sentence is formatted into a \"fill-in-the-blank\" question with multiple-choice options.\n",
        "*   The correct answer is embedded in a collapsible HTML tag for users to reveal after attempting the question.\n",
        "\n",
        "**5. Creating the Gradio Interface**\n",
        "* File Upload: Allows users to upload their text files\n",
        "* Buttons: \"New Question\" generates a question, while \"Other File\" clears the interface for a new file.\n",
        "* Custom CSS: Improves the appearance of the interface with styling for text, buttons, and question boxes.\n",
        "* Output Section: Displays the generated question along with the options\n",
        "\n",
        "**6. Launching the Application**\n",
        "* The demo.launch command starts the Gradio app, hosting it locally or on the web. Users can interact with the app in their browser.\n",
        "\n",
        "\n",
        "\n",
        "\n",
        "\n"
      ],
      "metadata": {
        "id": "LJWKTtEnGaX3"
      }
    },
    {
      "cell_type": "code",
      "execution_count": null,
      "metadata": {
        "id": "eALQWh78YgwU"
      },
      "outputs": [],
      "source": [
        "pip install gradio PyPDF2 python-pptx"
      ]
    },
    {
      "cell_type": "code",
      "source": [
        "pip install gradio nltk"
      ],
      "metadata": {
        "id": "fCEn02R8r-sD"
      },
      "execution_count": null,
      "outputs": []
    },
    {
      "cell_type": "code",
      "source": [
        "import gradio as gr\n",
        "import nltk\n",
        "from nltk.tokenize import word_tokenize #>>>> word_tokenize: Tokenizes text into words.\n",
        "from nltk.corpus import stopwords #>>>> stopwords: Removes common words that don’t add value to the quiz.\n",
        "from nltk.tag import pos_tag #>>> pos_tag: (Optional) Could be used to identify nouns, verbs, etc., for smarter word selection.\n",
        "import random\n",
        "import os\n",
        "#>>>>>>>>>>>>>>>>>>>>>>>>>>>>>>>>>>>>>>>>>>>>>>>>>>>>>>>>>>>>>>>>>>>>>>>>>>>>>>>>>>>>>>>>>>>>>>>>>>>>>>>>>>>>>>>>>>>>>>>>>>>>>\n",
        "# --- 1 NLTK data ---\n",
        "# Create a directory for NLTK data if it doesn't exist and download necessary resources\n",
        "nltk_data_dir = os.path.expanduser('~/nltk_data')\n",
        "if not os.path.exists(nltk_data_dir): #>>>>>>>>>>>>>>>>>>>>>>>>>>>>>>>>>>>>>>>>>>>>>>>>>> path.exists: Checks if a path exists\n",
        "    os.makedirs(nltk_data_dir) #>>>>>>>>>>>>>>>>>>>>>>>>>>>>>>>>>>>>>>>>>>>> makedirs: Creates directories if they don’t exist.\n",
        "    for resource in ['punkt', 'averaged_perceptron_tagger', 'stopwords']:\n",
        "        nltk.download(resource, quiet=True)\n",
        "\n",
        "\n",
        "#>>>>>>>>>>>>>>>>>>>>>>>>>>>>>>>>>>>>>>>>>>>>>>>>>>>>>>>>>>>>>>>>>>>>>>>>>>>>>>>>>>>>>>>>>>>>>>>>>>>>>>>>>>>>>>>>>>>>>>>>>>>>>\n",
        "# --- 2 Validate TXT File ---\n",
        "def read_txt_file(file):\n",
        "    \"\"\"\n",
        "    Reads the uploaded TXT file and ensures it's valid.\n",
        "    Returns the content or an error message.\n",
        "    \"\"\"\n",
        "    try:\n",
        "        if not file or not file.name.lower().endswith('.txt'):\n",
        "            return \"Error: Please upload a valid TXT file.\"\n",
        "        with open(file.name, 'r', encoding='utf-8') as f:\n",
        "            content = f.read().strip()\n",
        "        return content if content else \"Error: Empty file.\"\n",
        "    except Exception as e:\n",
        "        return f\"Error reading file: {str(e)}\"\n",
        "\n",
        "#>>>>>>>>>>>>>>>>>>>>>>>>>>>>>>>>>>>>>>>>>>>>>>>>>>>>>>>>>>>>>>>>>>>>>>>>>>>>>>>>>>>>>>>>>>>>>>>>>>>>>>>>>>>>>>>>>>>>>>>>>>>>>\n",
        "# --- 3 Generate Create Quiz Questions ---\n",
        "def create_quiz_questions(content):\n",
        "    \"\"\"\n",
        "    Processes the content and generates a single 'fill-in-the-blank' question.\n",
        "    Includes multiple-choice options and identifies the correct answer.\n",
        "    \"\"\"\n",
        "    if not content or isinstance(content, str) and content.startswith(\"Error\"):\n",
        "        return \"Could not generate question. Please check your file.\"\n",
        "\n",
        "    # Filter sentences suitable for creating questions\n",
        "    sentences = [s.strip() for s in content.split('\\n') if len(s.strip()) > 20 and ':' not in s]\n",
        "\n",
        "    if not sentences:\n",
        "        return \"Not enough content to generate a question.\"\n",
        "\n",
        "    # Gather words for creating blank and distractor options\n",
        "    all_words = set(word.lower() for sentence in sentences for word in sentence.split()\n",
        "                    if len(word) > 3 and not word.isupper())\n",
        "\n",
        "    # Randomly select a sentence >>>>>>>>>>>>>>>>>>>>>>>>>>>>>>>>>>>>>>>>>> choice: Selects a random item (e.g., a sentence).\n",
        "    sentence = random.choice(sentences)\n",
        "\n",
        "    # Filter words suitable for blanks\n",
        "    words = [word for word in sentence.split()\n",
        "             if len(word) > 3 and not word.isupper()\n",
        "             and word.lower() not in ['they', 'their', 'them', 'like', 'with', 'from']]\n",
        "\n",
        "    if not words:\n",
        "        return \"Could not generate a valid question from the content.\"\n",
        "\n",
        "    # Create a blank in the sentence\n",
        "    chosen_word = random.choice(words)\n",
        "    blank_sentence = sentence.replace(chosen_word, \"_____\", 1)\n",
        "\n",
        "    # Select similar words for distractor options\n",
        "    similar_words = [w for w in all_words\n",
        "                     if len(w) >= len(chosen_word) - 2 and len(w) <= len(chosen_word) + 2 and w != chosen_word.lower()]\n",
        "\n",
        "    if len(similar_words) < 2:\n",
        "        return \"Could not generate enough options.\"\n",
        "\n",
        "    # Shuffle options (correct word + distractors) >>>>>>>>>>>>>>>>>>>>>>>>ample: Picks random items (e.g., distractor words).\n",
        "    wrong_options = random.sample(similar_words, 2)\n",
        "    options = [chosen_word] + wrong_options\n",
        "    random.shuffle(options) #>>>>>>>>>>>>>>>>>>>>>>>>>>>>>>>>>>>>>>>>>>>>>>>> shuffle: Randomizes the order of answer options.\n",
        "\n",
        "    return {\n",
        "        \"question\": blank_sentence,\n",
        "        \"options\": [f\"Option {chr(97 + i)}: {opt}\" for i, opt in enumerate(options)],\n",
        "        \"answer\": chosen_word,\n",
        "        \"correct_option\": f\"Option {chr(97 + options.index(chosen_word))}\"\n",
        "    }\n",
        "\n",
        "\n",
        "#>>>>>>>>>>>>>>>>>>>>>>>>>>>>>>>>>>>>>>>>>>>>>>>>>>>>>>>>>>>>>>>>>>>>>>>>>>>>>>>>>>>>>>>>>>>>>>>>>>>>>>>>>>>>>>>>>>>>>>>>>>>>>\n",
        "# --- 4 Process File and Generate Output ---\n",
        "def process_file(file):\n",
        "    \"\"\"\n",
        "    Reads the file, generates a question, and formats the output.\n",
        "    \"\"\"\n",
        "    content = read_txt_file(file)\n",
        "    if isinstance(content, str) and content.startswith(\"Error\"):\n",
        "        return content\n",
        "\n",
        "    question = create_quiz_questions(content)\n",
        "    if isinstance(question, str):\n",
        "        return question\n",
        "\n",
        "    # Format output for display in the interface\n",
        "    output = f\"### Fill in the blank:\\n{question['question']}\\n\\n\"\n",
        "    output += \"\\n\".join(question['options']) + \"\\n\"\n",
        "    output += f\"\\n<details><summary>👉 Show Answer</summary>\\n\\n\"\n",
        "    output += f\"**{question['answer']} ({question['correct_option']})**\\n\"\n",
        "    output += \"</details>\\n\"\n",
        "\n",
        "    return output\n",
        "\n",
        "#>>>>>>>>>>>>>>>>>>>>>>>>>>>>>>>>>>>>>>>>>>>>>>>>>>>>>>>>>>>>>>>>>>>>>>>>>>>>>>>>>>>>>>>>>>>>>>>>>>>>>>>>>>>>>>>>>>>>>>>>>>>>>\n",
        "# --- 5 Creating the Gradio Interface ---\n",
        "def create_interface():\n",
        "    \"\"\"\n",
        "    Builds the Gradio interface with custom styling for the quiz. >>>>>>>>>>>> Blocks: Creates a flexible layout for the app\n",
        "    \"\"\"\n",
        "    with gr.Blocks(css=\"\"\"\n",
        "        /* Custom CSS for quiz styling */\n",
        "        .question-box {\n",
        "            font-size: 14px !important;\n",
        "            line-height: 1.2 !important;\n",
        "            white-space: pre-wrap !important;\n",
        "            padding: 10px !important;\n",
        "            background-color: #2e7d32 !important;\n",
        "            border-radius: 5px !important;\n",
        "            color: white !important;\n",
        "        }\n",
        "        details {\n",
        "            padding: 3px;\n",
        "            background-color: #2e7d32;\n",
        "            border-radius: 3px;\n",
        "            margin: 5px 0;\n",
        "            border: 1px solid #1b5e20;\n",
        "        }\n",
        "        summary {\n",
        "            cursor: pointer;\n",
        "            color: white;\n",
        "            font-weight: bold;\n",
        "            padding: 3px;\n",
        "            background-color: #2e7d32;\n",
        "            border-radius: 2px;\n",
        "        }\n",
        "        summary:hover { background-color: #1b5e20; }\n",
        "        details[open] { padding-bottom: 4px; }\n",
        "        details > *:not(summary) {\n",
        "            color: white !important;\n",
        "            background-color: #1b5e20;\n",
        "            padding: 4px;\n",
        "            border-radius: 2px;\n",
        "            margin-top: 3px;\n",
        "        }\n",
        "        .main-title {\n",
        "            font-size: 20px !important;\n",
        "            font-weight: bold !important;\n",
        "            color: #2e7d32 !important;\n",
        "            margin: 0 !important;\n",
        "            padding: 5px 0 !important;\n",
        "        }\n",
        "    \"\"\") as demo:\n",
        "        gr.Markdown(\"# 📚 Fill in the Blank Quiz\", elem_classes=[\"main-title\"])\n",
        "\n",
        "        # Input file section and action buttons >>>>>>>>>>>>>>>>>>>>>>>>>>>>>>>>>>>>>>> File: Allows users to upload .txt files.\n",
        "        with gr.Row():\n",
        "            file_input = gr.File(label=\"Upload TXT file\", file_types=[\".txt\"], scale=2)\n",
        "            with gr.Column(scale=1):\n",
        "                with gr.Row(elem_classes=[\"button-row\"]):\n",
        "                    submit_btn = gr.Button(\"New Question\", variant=\"primary\", size=\"sm\")\n",
        "                    clear_btn = gr.Button(\"Other File\", size=\"sm\")\n",
        "\n",
        "        # Output display section >>>>>>>>>>>>>>>>>>>>>>>>>>>>>> Markdown: Displays formatted text (questions, options, answers).\n",
        "        output = gr.Markdown(elem_classes=[\"question-box\"])\n",
        "\n",
        "        # Link buttons to functions >>>>>>>>>>>>>>>>>>>>>>>>>>>>>>>>> Button: Handles user actions (e.g., generating questions).\n",
        "        submit_btn.click(fn=process_file, inputs=[file_input], outputs=[output])\n",
        "        clear_btn.click(fn=lambda: (None, None), inputs=[], outputs=[file_input, output])\n",
        "\n",
        "    return demo\n",
        "\n",
        "#>>>>>>>>>>>>>>>>>>>>>>>>>>>>>>>>>>>>>>>>>>>>>>>>>>>>>>>>>>>>>>>>>>>>>>>>>>>>>>>>>>>>>>>>>>>>>>>>>>>>>>>>>>>>>>>>>>>>>>>>>>>>>\n",
        "\n",
        "# --- 6 Launching the Application ---\n",
        "if __name__ == \"__main__\":\n",
        "    # Launch the Gradio app >>>>>>>>>>>>>>>>>>>>>>>>>>>>>>>>>>>>>>>>>>>>>>>>>>>>>>>>>>>>>>>>>>>>>>>>>> launch(): Starts the app\n",
        "    demo = create_interface()\n",
        "    demo.launch()\n"
      ],
      "metadata": {
        "colab": {
          "base_uri": "https://localhost:8080/",
          "height": 646
        },
        "id": "KroFnlVrE3Z1",
        "outputId": "04ed8771-88c9-4a79-a4d9-2c86245f4b2c"
      },
      "execution_count": 9,
      "outputs": [
        {
          "output_type": "stream",
          "name": "stdout",
          "text": [
            "Running Gradio in a Colab notebook requires sharing enabled. Automatically setting `share=True` (you can turn this off by setting `share=False` in `launch()` explicitly).\n",
            "\n",
            "Colab notebook detected. To show errors in colab notebook, set debug=True in launch()\n",
            "* Running on public URL: https://84a671eceda113b039.gradio.live\n",
            "\n",
            "This share link expires in 72 hours. For free permanent hosting and GPU upgrades, run `gradio deploy` from the terminal in the working directory to deploy to Hugging Face Spaces (https://huggingface.co/spaces)\n"
          ]
        },
        {
          "output_type": "display_data",
          "data": {
            "text/plain": [
              "<IPython.core.display.HTML object>"
            ],
            "text/html": [
              "<div><iframe src=\"https://84a671eceda113b039.gradio.live\" width=\"100%\" height=\"500\" allow=\"autoplay; camera; microphone; clipboard-read; clipboard-write;\" frameborder=\"0\" allowfullscreen></iframe></div>"
            ]
          },
          "metadata": {}
        }
      ]
    }
  ]
}