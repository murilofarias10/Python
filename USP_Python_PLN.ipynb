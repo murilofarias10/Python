{
  "nbformat": 4,
  "nbformat_minor": 0,
  "metadata": {
    "colab": {
      "name": "USP_Python_PLN",
      "provenance": [],
      "collapsed_sections": [],
      "mount_file_id": "1YfIdr-wGvLSlLi63nUxBAupV9vtwCcCq",
      "authorship_tag": "ABX9TyOpZyB83YLJY9CjGwFfJ6jb",
      "include_colab_link": true
    },
    "kernelspec": {
      "name": "python3",
      "display_name": "Python 3"
    },
    "language_info": {
      "name": "python"
    }
  },
  "cells": [
    {
      "cell_type": "markdown",
      "metadata": {
        "id": "view-in-github",
        "colab_type": "text"
      },
      "source": [
        "<a href=\"https://colab.research.google.com/github/murilofarias10/AnaliseComPython/blob/main/USP_Python_PLN.ipynb\" target=\"_parent\"><img src=\"https://colab.research.google.com/assets/colab-badge.svg\" alt=\"Open In Colab\"/></a>"
      ]
    },
    {
      "cell_type": "markdown",
      "metadata": {
        "id": "kIjdHtpChZpE"
      },
      "source": [
        "**1ª Lista de exercicio:**\n",
        "\n",
        "\n",
        "\n",
        "```\n",
        "# Isto está formatado como código\n",
        "\n",
        "1 - Crie três variáveis e atribua os valores a seguir: a=1, b=5.9 e c=‘teste’. A partir disso, retorne o tipo de cada uma das variáveis\n",
        "\n",
        "2 - Troque o valor da variável a por ‘1’ e verifique se o tipo da variável mudou\n",
        "\n",
        "3 - Faça a soma da variável b com a variável c. Interprete a saída, tanto em caso de execução correta quanto em caso de execução com erro.\n",
        "\n",
        "4 - Crie uma lista com números de 0 a 9 (em qualquer ordem). Com ela, faça:\n",
        "a. Adicione o número 6\n",
        "b. Insira o número 7 na 3ª posição da lista\n",
        "c. Remova o elemento 3 da lista\n",
        "d. Adicione o número 4\n",
        "e. Verifique o número de ocorrências do número 4 na lista\n",
        "\n",
        "5  - Ainda com a lista criada na questão anterior, faça:\n",
        "a. Retorne os primeiros 3 elementos da lista\n",
        "b. Retorne os elementos que estão da 3ª posição até a 7ª posição da lista\n",
        "c. Retorne os elementos da lista de 3 em 3 elementos\n",
        "d. Retorne os 3 últimos elementos da lista\n",
        "e. Retorne todos os elementos menos os 4 últimos da lista\n",
        "\n",
        "6 - Com a lista das questões anteriores, retorne o 6º elemento da lista\n",
        "\n",
        "7 - Altere o valor do 7º elemento da lista para o valor 12.\n",
        "\n",
        "8 - Inverta a ordem dos elementos na lista.\n",
        "\n",
        "9 - Ordene a lista\n",
        "\n",
        "10 - Crie uma tupla com números de 0 a 9 (em qualquer ordem) e tente:\n",
        "a. Alterar o valor do 3º elemento da tupla para o valor 10\n",
        "b. Verificar o índice (posição) do valor 5 na tupla\n",
        "\n",
        "11 - Crie um dicionário com 5 entradas e suas respectivas chaves e valores. Faça:\n",
        "a. Imprima todas as chaves do dicionário\n",
        "b. Imprima todos os valores do dicionário\n",
        "c. Imprima todos os itens do dicionário\n",
        "d. Imprima o 2º item do dicionário\n",
        "e. Imprima o dicionário completo\n",
        "f. Percorra o dicionário, imprimindo para cada entrada o modelo “(chave) tem como valor (valor)”\n",
        "\n",
        "12 - Crie um arquivo e:\n",
        "a. Escreva nele os números de 1 a 10\n",
        "b. Depois de escrito, imprima na tela todos os números do arquivo\n",
        "c. Escreva no arquivo os números de 11 a 20, substituindo os números que estavam antes no arquivo\n",
        "d. Escreva no arquivo os números de 21 a 30, adicionando os números no final do arquivo (sem apagar o que já estavam lá)\n",
        "e. Imprima na tela todos os números do arquivo novamente (de 11 a 30)\n",
        "f. Imprima na tela todos os números do arquivo novamente, mas agora linha por linha\n",
        "```\n",
        "\n"
      ]
    },
    {
      "cell_type": "code",
      "metadata": {
        "id": "ReFSXEo1-o_y"
      },
      "source": [
        "#Processamento de Linguagem Natural (PLN)\n",
        "#A área de Processamento de Linguagem Natural (PLN), ramo de pesquisa da Inteligência Artificial, \n",
        "#tem sido muito demandada pelo mercado de trabalho e pela academia, sendo responsável pelo desenvolvimento de recursos, \n",
        "#ferramentas e aplicações de tradução automática, revisão ortográfica e gramatical, análise de sentimentos e reconhecimento e \n",
        "#síntese de fala, entre diversas outras tecnologias de amplo uso pela sociedade. Assim como em muitas frentes de trabalho, \n",
        "#a linguagem de programação Python é muito utilizada em PLN, contando com funcionalidades que facilitam o processamento de textos e \n",
        "#com alguns pacotes especializados que dinamizam o processo de desenvolvimento de aplicações.\n",
        "#pacotes NLTK e spaCy"
      ],
      "execution_count": null,
      "outputs": []
    },
    {
      "cell_type": "code",
      "metadata": {
        "id": "gUn9sZUY1r-v"
      },
      "source": [
        "#1º atualizando a versão do spacy \n",
        "!pip install --upgrade spacy"
      ],
      "execution_count": null,
      "outputs": []
    },
    {
      "cell_type": "code",
      "metadata": {
        "id": "pk1baOprzc7O"
      },
      "source": [
        "#2º importar biblioteca\n",
        "import spacy "
      ],
      "execution_count": null,
      "outputs": []
    },
    {
      "cell_type": "code",
      "metadata": {
        "colab": {
          "base_uri": "https://localhost:8080/"
        },
        "id": "uLMNIGOb_toA",
        "outputId": "06fea729-8968-4c4d-d41e-d621b4bf5905"
      },
      "source": [
        "#baixando o pacote pt_core_news_lg\n",
        "!python -m spacy download pt_core_news_lg"
      ],
      "execution_count": null,
      "outputs": [
        {
          "output_type": "stream",
          "name": "stdout",
          "text": [
            "Collecting pt-core-news-lg==3.1.0\n",
            "  Downloading https://github.com/explosion/spacy-models/releases/download/pt_core_news_lg-3.1.0/pt_core_news_lg-3.1.0-py3-none-any.whl (576.7 MB)\n",
            "\u001b[K     |████████████████████████████████| 576.7 MB 9.8 kB/s \n",
            "\u001b[?25hRequirement already satisfied: spacy<3.2.0,>=3.1.0 in /usr/local/lib/python3.7/dist-packages (from pt-core-news-lg==3.1.0) (3.1.2)\n",
            "Requirement already satisfied: pathy>=0.3.5 in /usr/local/lib/python3.7/dist-packages (from spacy<3.2.0,>=3.1.0->pt-core-news-lg==3.1.0) (0.6.0)\n",
            "Requirement already satisfied: catalogue<2.1.0,>=2.0.4 in /usr/local/lib/python3.7/dist-packages (from spacy<3.2.0,>=3.1.0->pt-core-news-lg==3.1.0) (2.0.6)\n",
            "Requirement already satisfied: numpy>=1.15.0 in /usr/local/lib/python3.7/dist-packages (from spacy<3.2.0,>=3.1.0->pt-core-news-lg==3.1.0) (1.19.5)\n",
            "Requirement already satisfied: blis<0.8.0,>=0.4.0 in /usr/local/lib/python3.7/dist-packages (from spacy<3.2.0,>=3.1.0->pt-core-news-lg==3.1.0) (0.4.1)\n",
            "Requirement already satisfied: typer<0.4.0,>=0.3.0 in /usr/local/lib/python3.7/dist-packages (from spacy<3.2.0,>=3.1.0->pt-core-news-lg==3.1.0) (0.3.2)\n",
            "Requirement already satisfied: pydantic!=1.8,!=1.8.1,<1.9.0,>=1.7.4 in /usr/local/lib/python3.7/dist-packages (from spacy<3.2.0,>=3.1.0->pt-core-news-lg==3.1.0) (1.8.2)\n",
            "Requirement already satisfied: preshed<3.1.0,>=3.0.2 in /usr/local/lib/python3.7/dist-packages (from spacy<3.2.0,>=3.1.0->pt-core-news-lg==3.1.0) (3.0.5)\n",
            "Requirement already satisfied: spacy-legacy<3.1.0,>=3.0.7 in /usr/local/lib/python3.7/dist-packages (from spacy<3.2.0,>=3.1.0->pt-core-news-lg==3.1.0) (3.0.8)\n",
            "Requirement already satisfied: requests<3.0.0,>=2.13.0 in /usr/local/lib/python3.7/dist-packages (from spacy<3.2.0,>=3.1.0->pt-core-news-lg==3.1.0) (2.23.0)\n",
            "Requirement already satisfied: jinja2 in /usr/local/lib/python3.7/dist-packages (from spacy<3.2.0,>=3.1.0->pt-core-news-lg==3.1.0) (2.11.3)\n",
            "Requirement already satisfied: srsly<3.0.0,>=2.4.1 in /usr/local/lib/python3.7/dist-packages (from spacy<3.2.0,>=3.1.0->pt-core-news-lg==3.1.0) (2.4.1)\n",
            "Requirement already satisfied: setuptools in /usr/local/lib/python3.7/dist-packages (from spacy<3.2.0,>=3.1.0->pt-core-news-lg==3.1.0) (57.4.0)\n",
            "Requirement already satisfied: packaging>=20.0 in /usr/local/lib/python3.7/dist-packages (from spacy<3.2.0,>=3.1.0->pt-core-news-lg==3.1.0) (21.0)\n",
            "Requirement already satisfied: murmurhash<1.1.0,>=0.28.0 in /usr/local/lib/python3.7/dist-packages (from spacy<3.2.0,>=3.1.0->pt-core-news-lg==3.1.0) (1.0.5)\n",
            "Requirement already satisfied: typing-extensions<4.0.0.0,>=3.7.4 in /usr/local/lib/python3.7/dist-packages (from spacy<3.2.0,>=3.1.0->pt-core-news-lg==3.1.0) (3.7.4.3)\n",
            "Requirement already satisfied: tqdm<5.0.0,>=4.38.0 in /usr/local/lib/python3.7/dist-packages (from spacy<3.2.0,>=3.1.0->pt-core-news-lg==3.1.0) (4.62.0)\n",
            "Requirement already satisfied: thinc<8.1.0,>=8.0.8 in /usr/local/lib/python3.7/dist-packages (from spacy<3.2.0,>=3.1.0->pt-core-news-lg==3.1.0) (8.0.10)\n",
            "Requirement already satisfied: cymem<2.1.0,>=2.0.2 in /usr/local/lib/python3.7/dist-packages (from spacy<3.2.0,>=3.1.0->pt-core-news-lg==3.1.0) (2.0.5)\n",
            "Requirement already satisfied: wasabi<1.1.0,>=0.8.1 in /usr/local/lib/python3.7/dist-packages (from spacy<3.2.0,>=3.1.0->pt-core-news-lg==3.1.0) (0.8.2)\n",
            "Requirement already satisfied: zipp>=0.5 in /usr/local/lib/python3.7/dist-packages (from catalogue<2.1.0,>=2.0.4->spacy<3.2.0,>=3.1.0->pt-core-news-lg==3.1.0) (3.5.0)\n",
            "Requirement already satisfied: pyparsing>=2.0.2 in /usr/local/lib/python3.7/dist-packages (from packaging>=20.0->spacy<3.2.0,>=3.1.0->pt-core-news-lg==3.1.0) (2.4.7)\n",
            "Requirement already satisfied: smart-open<6.0.0,>=5.0.0 in /usr/local/lib/python3.7/dist-packages (from pathy>=0.3.5->spacy<3.2.0,>=3.1.0->pt-core-news-lg==3.1.0) (5.1.0)\n",
            "Requirement already satisfied: idna<3,>=2.5 in /usr/local/lib/python3.7/dist-packages (from requests<3.0.0,>=2.13.0->spacy<3.2.0,>=3.1.0->pt-core-news-lg==3.1.0) (2.10)\n",
            "Requirement already satisfied: certifi>=2017.4.17 in /usr/local/lib/python3.7/dist-packages (from requests<3.0.0,>=2.13.0->spacy<3.2.0,>=3.1.0->pt-core-news-lg==3.1.0) (2021.5.30)\n",
            "Requirement already satisfied: urllib3!=1.25.0,!=1.25.1,<1.26,>=1.21.1 in /usr/local/lib/python3.7/dist-packages (from requests<3.0.0,>=2.13.0->spacy<3.2.0,>=3.1.0->pt-core-news-lg==3.1.0) (1.24.3)\n",
            "Requirement already satisfied: chardet<4,>=3.0.2 in /usr/local/lib/python3.7/dist-packages (from requests<3.0.0,>=2.13.0->spacy<3.2.0,>=3.1.0->pt-core-news-lg==3.1.0) (3.0.4)\n",
            "Requirement already satisfied: click<7.2.0,>=7.1.1 in /usr/local/lib/python3.7/dist-packages (from typer<0.4.0,>=0.3.0->spacy<3.2.0,>=3.1.0->pt-core-news-lg==3.1.0) (7.1.2)\n",
            "Requirement already satisfied: MarkupSafe>=0.23 in /usr/local/lib/python3.7/dist-packages (from jinja2->spacy<3.2.0,>=3.1.0->pt-core-news-lg==3.1.0) (2.0.1)\n",
            "Installing collected packages: pt-core-news-lg\n",
            "Successfully installed pt-core-news-lg-3.1.0\n",
            "\u001b[38;5;2m✔ Download and installation successful\u001b[0m\n",
            "You can now load the package via spacy.load('pt_core_news_lg')\n"
          ]
        }
      ]
    },
    {
      "cell_type": "code",
      "metadata": {
        "colab": {
          "base_uri": "https://localhost:8080/"
        },
        "id": "nh5vXncjFtud",
        "outputId": "10b2fc75-7650-40fe-f843-8cf38c38b8c9"
      },
      "source": [
        "#EXTRAAAAAAAA AULA\n",
        "!python -m spacy download pt_core_news_sm"
      ],
      "execution_count": null,
      "outputs": [
        {
          "output_type": "stream",
          "name": "stdout",
          "text": [
            "Collecting pt-core-news-sm==3.1.0\n",
            "  Downloading https://github.com/explosion/spacy-models/releases/download/pt_core_news_sm-3.1.0/pt_core_news_sm-3.1.0-py3-none-any.whl (21.9 MB)\n",
            "\u001b[K     |████████████████████████████████| 21.9 MB 1.4 MB/s \n",
            "\u001b[?25hRequirement already satisfied: spacy<3.2.0,>=3.1.0 in /usr/local/lib/python3.7/dist-packages (from pt-core-news-sm==3.1.0) (3.1.2)\n",
            "Requirement already satisfied: typing-extensions<4.0.0.0,>=3.7.4 in /usr/local/lib/python3.7/dist-packages (from spacy<3.2.0,>=3.1.0->pt-core-news-sm==3.1.0) (3.7.4.3)\n",
            "Requirement already satisfied: spacy-legacy<3.1.0,>=3.0.7 in /usr/local/lib/python3.7/dist-packages (from spacy<3.2.0,>=3.1.0->pt-core-news-sm==3.1.0) (3.0.8)\n",
            "Requirement already satisfied: numpy>=1.15.0 in /usr/local/lib/python3.7/dist-packages (from spacy<3.2.0,>=3.1.0->pt-core-news-sm==3.1.0) (1.19.5)\n",
            "Requirement already satisfied: pathy>=0.3.5 in /usr/local/lib/python3.7/dist-packages (from spacy<3.2.0,>=3.1.0->pt-core-news-sm==3.1.0) (0.6.0)\n",
            "Requirement already satisfied: srsly<3.0.0,>=2.4.1 in /usr/local/lib/python3.7/dist-packages (from spacy<3.2.0,>=3.1.0->pt-core-news-sm==3.1.0) (2.4.1)\n",
            "Requirement already satisfied: blis<0.8.0,>=0.4.0 in /usr/local/lib/python3.7/dist-packages (from spacy<3.2.0,>=3.1.0->pt-core-news-sm==3.1.0) (0.4.1)\n",
            "Requirement already satisfied: pydantic!=1.8,!=1.8.1,<1.9.0,>=1.7.4 in /usr/local/lib/python3.7/dist-packages (from spacy<3.2.0,>=3.1.0->pt-core-news-sm==3.1.0) (1.8.2)\n",
            "Requirement already satisfied: packaging>=20.0 in /usr/local/lib/python3.7/dist-packages (from spacy<3.2.0,>=3.1.0->pt-core-news-sm==3.1.0) (21.0)\n",
            "Requirement already satisfied: jinja2 in /usr/local/lib/python3.7/dist-packages (from spacy<3.2.0,>=3.1.0->pt-core-news-sm==3.1.0) (2.11.3)\n",
            "Requirement already satisfied: catalogue<2.1.0,>=2.0.4 in /usr/local/lib/python3.7/dist-packages (from spacy<3.2.0,>=3.1.0->pt-core-news-sm==3.1.0) (2.0.6)\n",
            "Requirement already satisfied: setuptools in /usr/local/lib/python3.7/dist-packages (from spacy<3.2.0,>=3.1.0->pt-core-news-sm==3.1.0) (57.4.0)\n",
            "Requirement already satisfied: wasabi<1.1.0,>=0.8.1 in /usr/local/lib/python3.7/dist-packages (from spacy<3.2.0,>=3.1.0->pt-core-news-sm==3.1.0) (0.8.2)\n",
            "Requirement already satisfied: typer<0.4.0,>=0.3.0 in /usr/local/lib/python3.7/dist-packages (from spacy<3.2.0,>=3.1.0->pt-core-news-sm==3.1.0) (0.3.2)\n",
            "Requirement already satisfied: preshed<3.1.0,>=3.0.2 in /usr/local/lib/python3.7/dist-packages (from spacy<3.2.0,>=3.1.0->pt-core-news-sm==3.1.0) (3.0.5)\n",
            "Requirement already satisfied: requests<3.0.0,>=2.13.0 in /usr/local/lib/python3.7/dist-packages (from spacy<3.2.0,>=3.1.0->pt-core-news-sm==3.1.0) (2.23.0)\n",
            "Requirement already satisfied: murmurhash<1.1.0,>=0.28.0 in /usr/local/lib/python3.7/dist-packages (from spacy<3.2.0,>=3.1.0->pt-core-news-sm==3.1.0) (1.0.5)\n",
            "Requirement already satisfied: tqdm<5.0.0,>=4.38.0 in /usr/local/lib/python3.7/dist-packages (from spacy<3.2.0,>=3.1.0->pt-core-news-sm==3.1.0) (4.62.0)\n",
            "Requirement already satisfied: cymem<2.1.0,>=2.0.2 in /usr/local/lib/python3.7/dist-packages (from spacy<3.2.0,>=3.1.0->pt-core-news-sm==3.1.0) (2.0.5)\n",
            "Requirement already satisfied: thinc<8.1.0,>=8.0.8 in /usr/local/lib/python3.7/dist-packages (from spacy<3.2.0,>=3.1.0->pt-core-news-sm==3.1.0) (8.0.10)\n",
            "Requirement already satisfied: zipp>=0.5 in /usr/local/lib/python3.7/dist-packages (from catalogue<2.1.0,>=2.0.4->spacy<3.2.0,>=3.1.0->pt-core-news-sm==3.1.0) (3.5.0)\n",
            "Requirement already satisfied: pyparsing>=2.0.2 in /usr/local/lib/python3.7/dist-packages (from packaging>=20.0->spacy<3.2.0,>=3.1.0->pt-core-news-sm==3.1.0) (2.4.7)\n",
            "Requirement already satisfied: smart-open<6.0.0,>=5.0.0 in /usr/local/lib/python3.7/dist-packages (from pathy>=0.3.5->spacy<3.2.0,>=3.1.0->pt-core-news-sm==3.1.0) (5.1.0)\n",
            "Requirement already satisfied: certifi>=2017.4.17 in /usr/local/lib/python3.7/dist-packages (from requests<3.0.0,>=2.13.0->spacy<3.2.0,>=3.1.0->pt-core-news-sm==3.1.0) (2021.5.30)\n",
            "Requirement already satisfied: idna<3,>=2.5 in /usr/local/lib/python3.7/dist-packages (from requests<3.0.0,>=2.13.0->spacy<3.2.0,>=3.1.0->pt-core-news-sm==3.1.0) (2.10)\n",
            "Requirement already satisfied: urllib3!=1.25.0,!=1.25.1,<1.26,>=1.21.1 in /usr/local/lib/python3.7/dist-packages (from requests<3.0.0,>=2.13.0->spacy<3.2.0,>=3.1.0->pt-core-news-sm==3.1.0) (1.24.3)\n",
            "Requirement already satisfied: chardet<4,>=3.0.2 in /usr/local/lib/python3.7/dist-packages (from requests<3.0.0,>=2.13.0->spacy<3.2.0,>=3.1.0->pt-core-news-sm==3.1.0) (3.0.4)\n",
            "Requirement already satisfied: click<7.2.0,>=7.1.1 in /usr/local/lib/python3.7/dist-packages (from typer<0.4.0,>=0.3.0->spacy<3.2.0,>=3.1.0->pt-core-news-sm==3.1.0) (7.1.2)\n",
            "Requirement already satisfied: MarkupSafe>=0.23 in /usr/local/lib/python3.7/dist-packages (from jinja2->spacy<3.2.0,>=3.1.0->pt-core-news-sm==3.1.0) (2.0.1)\n",
            "Installing collected packages: pt-core-news-sm\n",
            "  Attempting uninstall: pt-core-news-sm\n",
            "    Found existing installation: pt-core-news-sm 2.2.5\n",
            "    Uninstalling pt-core-news-sm-2.2.5:\n",
            "      Successfully uninstalled pt-core-news-sm-2.2.5\n",
            "Successfully installed pt-core-news-sm-3.1.0\n",
            "\u001b[38;5;2m✔ Download and installation successful\u001b[0m\n",
            "You can now load the package via spacy.load('pt_core_news_sm')\n"
          ]
        }
      ]
    },
    {
      "cell_type": "code",
      "metadata": {
        "id": "SKDyXcOuEhsW"
      },
      "source": [
        "# \n",
        "from spacy.lang.pt.examples import sentences "
      ],
      "execution_count": null,
      "outputs": []
    },
    {
      "cell_type": "code",
      "metadata": {
        "id": "WKnYRIQLLdlh"
      },
      "source": [
        "#https://universaldependencies.org/u/pos/all.html#al-u-pos/AUX\n",
        "\n",
        "#https://spacy.io/models/pt\n",
        "\n",
        "  #ADJ ADJETIVO = Adjetivos são palavras que normalmente modificam substantivos e especificam suas propriedades ou atributos\n",
        "    #exemplo: grande, velho, verde, primeiro, segundo\n",
        "\n",
        "  #ADV ADVERBIO = Advérbios são palavras que normalmente modificam os verbos  tempo, lugar, direção ou maneira\n",
        "    #exemplo: muito, extamente, amanhã, nunca\n",
        "\n",
        "  #ADP ADPOSIÇÃO = Adposição é um termo abrangente para preposições e pós-posições.\n",
        "    #exemplo: no, para, decorrer\n",
        "\n",
        "  #AUX AUXILIAR = Um auxiliar é uma palavra funcional que acompanha o verbo lexical de uma frase verbal \n",
        "    #exemplo: deve, é \n",
        "\n",
        "  #CCONJ: conjunção coordenativa = Uma conjunção coordenadora é uma palavra que liga palavras ou constituintes maiores sem subordinar sintaticamente um ao outro \n",
        "    #exemplo: e, ou, mas\n",
        "\n",
        "  #DET: DETERMINANTE = Determinantes são palavras que modificam substantivos ou sintagmas nominais e expressam a referência do sintagma nominal no contexto.\n",
        "    #exemplo: este, qual , há\n",
        "\n",
        "  #INTJ INTERJEIÇÃO = Uma interjeição é uma palavra usada na maioria das vezes como uma exclamação ou parte de uma exclamação.\n",
        "    #exemplo: bravo, olá\n",
        "\n",
        "  #NUM NUMERAL = expressa um número e uma relação com o número\n",
        "    #exemplo: 0,1,2,1000, I, IV, MMXIV\n",
        "\n",
        "  #NOUN SUBSTANTIVO = classe gramatical que normalmente denota uma pessoa, lugar, coisa, animal ou ideia.\n",
        "    #exemplo: garota, gato, beleza\n",
        "    \n",
        "  #PART PARTICULA = Partículas são palavras funcionais que devem ser associadas a outra palavra ou frase para transmitir significado\n",
        "    #exemplo: 's , não, \n",
        "\n",
        "  #PUNCT PONTUAÇÃO = Os sinais de pontuação são caracteres não alfabéticos e grupos de caracteres usados\n",
        "    #exemplo: . , ()\n",
        "\n",
        "  #PROPN PRONOME = substantivo próprio é um substantivo (ou palavra de conteúdo nominal) \n",
        "    #exemplo: eu, voce, ela, todos, tudo, ninguem, nada\n",
        "\n",
        "  #SCONJ CONJUNÇÂO SUBORDINADA =  é uma conjunção que liga construções tornando uma delas um constituinte da outra\n",
        "    #exemplo: que, e se, enquanto\n",
        "\n",
        "  #SYM SIMBOLO = Um símbolo é uma entidade semelhante a uma palavra que difere das palavras comuns pela forma\n",
        "    #exemplo: $, %, +, -\n",
        "\n",
        "  #VERB VERBO = Um verbo é um membro da classe sintática de palavras que normalmente sinalizam eventos e ações\n",
        "    #exemplo: correr, comeu, correndo\n",
        "\n",
        "  #X OUTROS = A tag Xé usada para palavras que, por algum motivo, não podem ser atribuídas a uma categoria de classe gramatical real\n",
        "    #exemplo: xfgh , lkksas\n",
        "  "
      ],
      "execution_count": null,
      "outputs": []
    },
    {
      "cell_type": "code",
      "metadata": {
        "id": "VbJku4FZEp5m"
      },
      "source": [
        "import spacy"
      ],
      "execution_count": null,
      "outputs": []
    },
    {
      "cell_type": "code",
      "metadata": {
        "id": "XY3Shp_9GFfC"
      },
      "source": [
        "nlp = spacy.load(\"pt_core_news_sm\")"
      ],
      "execution_count": null,
      "outputs": []
    },
    {
      "cell_type": "code",
      "metadata": {
        "id": "cy6b6jHhGIb0"
      },
      "source": [
        "documento = nlp(\"O xfgh comeu + enquanto voce, não garota 10 bravo há mas deve decorrer exatamente primeiro\")"
      ],
      "execution_count": null,
      "outputs": []
    },
    {
      "cell_type": "code",
      "metadata": {
        "colab": {
          "base_uri": "https://localhost:8080/"
        },
        "id": "5ojhV3QUGTuS",
        "outputId": "e536dec7-c5d4-4e37-dcd2-a7a9a8a473f0"
      },
      "source": [
        "for palavra in documento:\n",
        "  print(palavra.text, palavra.pos_)\n",
        "\n",
        "  \n",
        "  \n",
        "\n",
        "\n"
      ],
      "execution_count": null,
      "outputs": [
        {
          "output_type": "stream",
          "name": "stdout",
          "text": [
            "O DET\n",
            "xfgh NOUN\n",
            "comeu VERB\n",
            "+ NOUN\n",
            "enquanto ADP\n",
            "voce NOUN\n",
            ", PUNCT\n",
            "não ADV\n",
            "garota VERB\n",
            "10 NUM\n",
            "bravo VERB\n",
            "há VERB\n",
            "mas CCONJ\n",
            "deve VERB\n",
            "decorrer VERB\n",
            "exatamente ADV\n",
            "primeiro ADV\n"
          ]
        }
      ]
    },
    {
      "cell_type": "code",
      "metadata": {
        "id": "5J8d1kJvMAGx"
      },
      "source": [
        "# O DET - DETERMINANTE = Determinantes são palavras que modificam substantivos ou sintagmas \n",
        "# xfgh NOUN - uma pessoa, lugar, coisa, animal ou ideia.\n",
        "# comeu VERB\n",
        "# + NOUN - uma pessoa, lugar, coisa, animal ou ideia.\n",
        "# enquanto ADP\n",
        "# voce NOUN\n",
        "# , PUNCT PONTUAÇÃO\n",
        "# não ADV\n",
        "# garota VERB\n",
        "# 10 NUM\n",
        "# bravo VERB\n",
        "# há VERB\n",
        "# mas CCONJ\n",
        "# deve VERB\n",
        "# decorrer VERB\n",
        "# exatamente ADV Advérbios são palavras que normalmente modificam os verbos\n",
        "# primeiro ADV"
      ],
      "execution_count": null,
      "outputs": []
    },
    {
      "cell_type": "code",
      "metadata": {
        "id": "Mt77x0BAaUYK"
      },
      "source": [
        "!pip install --upgrade spacy"
      ],
      "execution_count": null,
      "outputs": []
    },
    {
      "cell_type": "code",
      "metadata": {
        "id": "NLToms2kaDiX"
      },
      "source": [
        "!python -m spacy download pt_core_news_sm"
      ],
      "execution_count": null,
      "outputs": []
    },
    {
      "cell_type": "code",
      "metadata": {
        "colab": {
          "base_uri": "https://localhost:8080/"
        },
        "id": "uvTUiQ34ZgzL",
        "outputId": "4b78d7f9-42b8-4429-e1a9-d56c6a62f405"
      },
      "source": [
        "\n",
        "import spacy\n",
        "from spacy.lang.pt.examples import sentences \n",
        "nlp = spacy.load(\"pt_core_news_sm\") #pt_core_news_lg\n",
        "texto = nlp(\"O Murilo está testando sua primeira análise de PLN para um texto\")\n",
        "for palavra in texto:\n",
        "  print(palavra.text, palavra.pos_)"
      ],
      "execution_count": null,
      "outputs": [
        {
          "output_type": "stream",
          "name": "stdout",
          "text": [
            "O DET\n",
            "Murilo PROPN\n",
            "está AUX\n",
            "testando VERB\n",
            "sua DET\n",
            "primeira ADJ\n",
            "análise NOUN\n",
            "de ADP\n",
            "PLN PROPN\n",
            "para ADP\n",
            "um DET\n",
            "texto NOUN\n"
          ]
        }
      ]
    },
    {
      "cell_type": "code",
      "metadata": {
        "colab": {
          "base_uri": "https://localhost:8080/"
        },
        "id": "cMRYHZ1B8qP6",
        "outputId": "57421418-9957-44bf-c1e4-b621cd0b60da"
      },
      "source": [
        "lista = [1,2,3,4,5]\n",
        "print(lista)"
      ],
      "execution_count": null,
      "outputs": [
        {
          "output_type": "stream",
          "name": "stdout",
          "text": [
            "[1, 2, 3, 4, 5]\n"
          ]
        }
      ]
    },
    {
      "cell_type": "code",
      "metadata": {
        "colab": {
          "base_uri": "https://localhost:8080/"
        },
        "id": "sq_PiDUI8uIx",
        "outputId": "0260ee68-a105-4b84-c72c-1c6ee463d2e0"
      },
      "source": [
        "lista.insert(0,6) #inserir na posição 0 o numero 6\n",
        "print(lista)"
      ],
      "execution_count": null,
      "outputs": [
        {
          "output_type": "stream",
          "name": "stdout",
          "text": [
            "[6, 1, 2, 3, 4, 5]\n"
          ]
        }
      ]
    },
    {
      "cell_type": "code",
      "metadata": {
        "colab": {
          "base_uri": "https://localhost:8080/"
        },
        "id": "hYqqQhr2-sBA",
        "outputId": "8d42dd52-22f3-44c5-a724-71b33c60ebd9"
      },
      "source": [
        "lista.append(-1) #insere um novo elemento na lista\n",
        "print(lista)"
      ],
      "execution_count": null,
      "outputs": [
        {
          "output_type": "stream",
          "name": "stdout",
          "text": [
            "[-1, 1, 2, 3, 4, 5, 6, -1, -1]\n"
          ]
        }
      ]
    },
    {
      "cell_type": "code",
      "metadata": {
        "colab": {
          "base_uri": "https://localhost:8080/"
        },
        "id": "RP-Vx_oj-19Z",
        "outputId": "b867a15f-cb56-41ef-9af7-a200b5a532f9"
      },
      "source": [
        "lista.reverse() #Invertendo uma lista\n",
        "print(lista)"
      ],
      "execution_count": null,
      "outputs": [
        {
          "output_type": "stream",
          "name": "stdout",
          "text": [
            "[-1, 5, 4, 3, 2, 1, 6]\n"
          ]
        }
      ]
    },
    {
      "cell_type": "code",
      "metadata": {
        "colab": {
          "base_uri": "https://localhost:8080/"
        },
        "id": "_Fb33Oc2AKH-",
        "outputId": "a9117837-7934-4566-eda5-7c81e4f2d784"
      },
      "source": [
        "lista.sort() #orderna uma lista\n",
        "print(lista)"
      ],
      "execution_count": null,
      "outputs": [
        {
          "output_type": "stream",
          "name": "stdout",
          "text": [
            "[-1, -1, -1, 1, 2, 3, 4, 5, 6]\n"
          ]
        }
      ]
    },
    {
      "cell_type": "code",
      "metadata": {
        "colab": {
          "base_uri": "https://localhost:8080/"
        },
        "id": "DrSwN8ODCsFo",
        "outputId": "c6c60014-ab93-4dff-884c-5128874a4bb5"
      },
      "source": [
        "lista_nova = set(lista) #passando a lista para tipo set onde não existe duplicados\n",
        "print(lista_nova) #lista nova sem duplicados\n",
        "print(lista) #lista com duplicados\n"
      ],
      "execution_count": null,
      "outputs": [
        {
          "output_type": "stream",
          "name": "stdout",
          "text": [
            "{1, 2, 3, 4, 5, 6, -1}\n",
            "[-1, -1, -1, 1, 2, 3, 4, 5, 6]\n"
          ]
        }
      ]
    },
    {
      "cell_type": "code",
      "metadata": {
        "colab": {
          "base_uri": "https://localhost:8080/"
        },
        "id": "Rqq4yDc_AvkX",
        "outputId": "e95888bd-66c7-408a-e456-74e147e9c83f"
      },
      "source": [
        "for i in lista_nova:\n",
        "  print(' {} aparece {} vezes na lista'.format(i, (lista.count(i)))) #contando elementos da lista_nova que aparecem na lista\n",
        "  "
      ],
      "execution_count": null,
      "outputs": [
        {
          "output_type": "stream",
          "name": "stdout",
          "text": [
            " 1 aparece 1 vezes na lista\n",
            " 2 aparece 1 vezes na lista\n",
            " 3 aparece 1 vezes na lista\n",
            " 4 aparece 1 vezes na lista\n",
            " 5 aparece 1 vezes na lista\n",
            " 6 aparece 1 vezes na lista\n",
            " -1 aparece 3 vezes na lista\n"
          ]
        }
      ]
    },
    {
      "cell_type": "code",
      "metadata": {
        "colab": {
          "base_uri": "https://localhost:8080/"
        },
        "id": "Qclq4A5cErCm",
        "outputId": "1800705e-a3d5-4635-decd-a7bc750d81fd"
      },
      "source": [
        "print(lista)\n",
        "lista.append(2)\n",
        "print(lista)\n",
        "\n",
        "lista.index(2) #index mostra a posição do primeiro elemento no caso nº 2"
      ],
      "execution_count": null,
      "outputs": [
        {
          "output_type": "stream",
          "name": "stdout",
          "text": [
            "[-1, -1, -1, 1, 2, 3, 4, 5, 6, 2]\n",
            "[-1, -1, -1, 1, 2, 3, 4, 5, 6, 2, 2]\n"
          ]
        },
        {
          "output_type": "execute_result",
          "data": {
            "text/plain": [
              "4"
            ]
          },
          "metadata": {},
          "execution_count": 51
        }
      ]
    },
    {
      "cell_type": "code",
      "metadata": {
        "colab": {
          "base_uri": "https://localhost:8080/"
        },
        "id": "Wq7qIJlUKjCK",
        "outputId": "10c25687-037f-4ede-af82-508e58d3d98b"
      },
      "source": [
        "lista2 = list(range(10))\n",
        "print(lista2) #lista completa\n",
        "print(lista2[1:6]) #lista 1 até o elemento 6\n",
        "print(lista2[1::2]) #lista do elemento 1 até o final pulando 2em2\n",
        "print(lista2[1:10:2]) #lista elemento 1 até o final pulando 2em2"
      ],
      "execution_count": null,
      "outputs": [
        {
          "output_type": "stream",
          "name": "stdout",
          "text": [
            "[0, 1, 2, 3, 4, 5, 6, 7, 8, 9]\n",
            "[1, 2, 3, 4, 5]\n",
            "[1, 3, 5, 7, 9]\n",
            "[1, 3, 5, 7, 9]\n"
          ]
        }
      ]
    },
    {
      "cell_type": "code",
      "metadata": {
        "colab": {
          "base_uri": "https://localhost:8080/"
        },
        "id": "jsfT9CesVyUk",
        "outputId": "8f5d98f8-2a84-4efe-bbf4-045d95aad46d"
      },
      "source": [
        "lista3 = ['A','C','B','J']\n",
        "print(lista3)\n",
        "\n",
        "lista3.sort()\n",
        "print(lista3)"
      ],
      "execution_count": null,
      "outputs": [
        {
          "output_type": "stream",
          "name": "stdout",
          "text": [
            "['A', 'C', 'B', 'J']\n",
            "['A', 'B', 'C', 'J']\n"
          ]
        }
      ]
    },
    {
      "cell_type": "code",
      "metadata": {
        "colab": {
          "base_uri": "https://localhost:8080/"
        },
        "id": "uvG0dx2hZVKC",
        "outputId": "cffc3487-1dc7-4971-b337-062053e259a2"
      },
      "source": [
        "testando_lista = ['A','B','C']\n",
        "print(testando_lista)\n",
        "testando_lista.reverse()\n",
        "print(testando_lista)\n",
        "testando_lista.reverse()\n",
        "print(testando_lista)\n",
        "valor = testando_lista[::-1] #serve também para reverter a ordem\n",
        "print(valor)"
      ],
      "execution_count": null,
      "outputs": [
        {
          "output_type": "stream",
          "name": "stdout",
          "text": [
            "['A', 'B', 'C']\n",
            "['C', 'B', 'A']\n",
            "['A', 'B', 'C']\n",
            "['C', 'B', 'A']\n"
          ]
        }
      ]
    },
    {
      "cell_type": "markdown",
      "metadata": {
        "id": "PZyLxx8HDoA3"
      },
      "source": [
        "\n",
        "\n",
        "1.   lista []\n",
        "2.   Tupla ()\n",
        "3.   Dicionarios utilizam {}\n",
        "\n",
        "\n",
        "\n"
      ]
    },
    {
      "cell_type": "code",
      "metadata": {
        "id": "ivsD2H5TDf3p"
      },
      "source": [
        "#Aprendendo utilizar dicionarios\n",
        "dic = {}\n",
        "dic['murilo'] = 9\n",
        "dic['ronnan'] = 8\n",
        "dic['tiago'] = 7\n",
        "\n",
        "#{'murilo': 9, 'ronnan': 8, 'tiago': 7}"
      ],
      "execution_count": null,
      "outputs": []
    },
    {
      "cell_type": "code",
      "metadata": {
        "colab": {
          "base_uri": "https://localhost:8080/"
        },
        "id": "_kUdm3mzD9t4",
        "outputId": "c9a2e48b-7795-4797-ef1f-72fbfc3f0519"
      },
      "source": [
        "print(dic['murilo'])\n",
        "print(dic['tiago'])\n"
      ],
      "execution_count": null,
      "outputs": [
        {
          "output_type": "stream",
          "name": "stdout",
          "text": [
            "9\n",
            "7\n"
          ]
        }
      ]
    },
    {
      "cell_type": "code",
      "metadata": {
        "colab": {
          "base_uri": "https://localhost:8080/"
        },
        "id": "EF4eDSInFB78",
        "outputId": "21ef92ff-ff8c-4e7e-f17c-35a9d810793c"
      },
      "source": [
        "print(dic.keys()) #para saber as chaves dos dicionarios utiliza o KEYS"
      ],
      "execution_count": null,
      "outputs": [
        {
          "output_type": "stream",
          "name": "stdout",
          "text": [
            "dict_keys(['murilo', 'ronnan', 'tiago'])\n"
          ]
        }
      ]
    },
    {
      "cell_type": "code",
      "metadata": {
        "colab": {
          "base_uri": "https://localhost:8080/"
        },
        "id": "FwIGxdrLFKN9",
        "outputId": "d18772ee-f7ca-462d-b844-4e629306912b"
      },
      "source": [
        "print(dic.values()) # para saber os valores dos dicionarios utiliza o VALUES\n"
      ],
      "execution_count": null,
      "outputs": [
        {
          "output_type": "stream",
          "name": "stdout",
          "text": [
            "dict_values([9, 8, 7])\n"
          ]
        }
      ]
    },
    {
      "cell_type": "code",
      "metadata": {
        "colab": {
          "base_uri": "https://localhost:8080/"
        },
        "id": "HU4-ysM-FUjr",
        "outputId": "779c2eba-6d6b-4a0d-aa15-945df48d9e9f"
      },
      "source": [
        "c"
      ],
      "execution_count": null,
      "outputs": [
        {
          "output_type": "stream",
          "name": "stdout",
          "text": [
            "<class 'dict_keys'>\n",
            "<class 'dict_values'>\n"
          ]
        }
      ]
    },
    {
      "cell_type": "code",
      "metadata": {
        "colab": {
          "base_uri": "https://localhost:8080/",
          "height": 35
        },
        "id": "Ltg7eUD1FiFs",
        "outputId": "1be44cd5-ec6c-4193-90ce-3903a7312798"
      },
      "source": [
        "list(dic.keys())[0] #transformando um dicionario em uma lista utiliza LIST"
      ],
      "execution_count": null,
      "outputs": [
        {
          "output_type": "execute_result",
          "data": {
            "application/vnd.google.colaboratory.intrinsic+json": {
              "type": "string"
            },
            "text/plain": [
              "'murilo'"
            ]
          },
          "metadata": {},
          "execution_count": 21
        }
      ]
    },
    {
      "cell_type": "code",
      "metadata": {
        "colab": {
          "base_uri": "https://localhost:8080/"
        },
        "id": "35vxRYxnGBgc",
        "outputId": "8ac2cce6-ee98-4b9e-897c-776a58db3fc9"
      },
      "source": [
        " #cria uma lista de uma tuppla utiliza ITEMS\n",
        "print(list(dic.items()))\n",
        "print(list(dic.items())[0])"
      ],
      "execution_count": null,
      "outputs": [
        {
          "output_type": "stream",
          "name": "stdout",
          "text": [
            "[('murilo', 9), ('ronnan', 8), ('tiago', 7)]\n",
            "('murilo', 9)\n"
          ]
        }
      ]
    },
    {
      "cell_type": "code",
      "metadata": {
        "colab": {
          "base_uri": "https://localhost:8080/"
        },
        "id": "WXgruHaXGWvK",
        "outputId": "b175f037-d15d-4597-a523-f8e3a3416b41"
      },
      "source": [
        "for chave, valor in dic.items():\n",
        "  print(chave, 'nota: ',valor)"
      ],
      "execution_count": null,
      "outputs": [
        {
          "output_type": "stream",
          "name": "stdout",
          "text": [
            "murilo nota:  9\n",
            "ronnan nota:  8\n",
            "tiago nota:  7\n"
          ]
        }
      ]
    },
    {
      "cell_type": "code",
      "metadata": {
        "colab": {
          "base_uri": "https://localhost:8080/"
        },
        "id": "iTnjSn9vIIVA",
        "outputId": "ff760e32-9e5d-4797-9383-8c09805cac60"
      },
      "source": [
        "dic['murilo'] = [10,7,2]\n",
        "print(dic)\n",
        "#{'murilo': [10, 7, 2], 'ronnan': 8, 'tiago': 7}\n",
        "#Dicionario é possivel ver somente keys and values\n",
        "#para ver separados é necessario criar uma lista do dicionario"
      ],
      "execution_count": null,
      "outputs": [
        {
          "output_type": "stream",
          "name": "stdout",
          "text": [
            "{'murilo': [10, 7, 2], 'ronnan': 8, 'tiago': 7}\n"
          ]
        }
      ]
    },
    {
      "cell_type": "code",
      "metadata": {
        "colab": {
          "base_uri": "https://localhost:8080/"
        },
        "id": "hkrSnVvCIWtX",
        "outputId": "b291703e-8801-45b7-d082-3228a9d5dbb6"
      },
      "source": [
        "lista_dic = (list(dic.items())) #transformando em lista para ver completo\n",
        "print(lista_dic)\n",
        "# ('murilo', [10, 7, 2])"
      ],
      "execution_count": null,
      "outputs": [
        {
          "output_type": "stream",
          "name": "stdout",
          "text": [
            "[('murilo', [10, 7, 2]), ('ronnan', 8), ('tiago', 7)]\n"
          ]
        }
      ]
    },
    {
      "cell_type": "code",
      "metadata": {
        "colab": {
          "base_uri": "https://localhost:8080/"
        },
        "id": "T93lu5cOJVmt",
        "outputId": "5fee142d-3c3f-4d3d-e7fa-191314327315"
      },
      "source": [
        "print(lista_dic[0]) # ('murilo', [10, 7, 2])\n",
        "print(lista_dic[0][0]) # murilo\n",
        "print(lista_dic[0][1]) # [10,7,2]\n",
        "print(lista_dic[0][1][0]) # 10\n",
        "print(lista_dic[0][1][1]) #7\n",
        "print(lista_dic[0][1][2]) #2"
      ],
      "execution_count": null,
      "outputs": [
        {
          "output_type": "stream",
          "name": "stdout",
          "text": [
            "('murilo', [10, 7, 2])\n",
            "murilo\n",
            "[10, 7, 2]\n",
            "10\n",
            "7\n",
            "2\n"
          ]
        }
      ]
    },
    {
      "cell_type": "code",
      "metadata": {
        "colab": {
          "base_uri": "https://localhost:8080/"
        },
        "id": "ooSR0CiqI1Ys",
        "outputId": "2f383c2c-b601-46aa-a2e6-7c047fbb02fa"
      },
      "source": [
        "inicio = 0\n",
        "final = 2\n",
        "while inicio <= final:\n",
        "  print('aluno: {} {}ª nota: {}'.format((a[0]),inicio+1,(a[1][inicio])))\n",
        "  inicio +=1\n"
      ],
      "execution_count": null,
      "outputs": [
        {
          "output_type": "stream",
          "name": "stdout",
          "text": [
            "aluno: murilo 1ª nota: 10\n",
            "aluno: murilo 2ª nota: 7\n",
            "aluno: murilo 3ª nota: 2\n"
          ]
        }
      ]
    },
    {
      "cell_type": "markdown",
      "metadata": {
        "id": "sKwIm_60RTLQ"
      },
      "source": [
        "Tratando com arquivos"
      ]
    },
    {
      "cell_type": "code",
      "metadata": {
        "colab": {
          "base_uri": "https://localhost:8080/"
        },
        "id": "wHunK5YeRSyB",
        "outputId": "cc176bc4-51a5-46a0-ea81-19b9cc16096c"
      },
      "source": [
        "arquivo_entrada = open('/content/base_dados.txt','r')\n",
        "arquivo_lido = arquivo_entrada.read() #Para ler um arquivo metodo .read\n",
        "print(arquivo_lido)\n",
        "arquivo_entrada.close()"
      ],
      "execution_count": null,
      "outputs": [
        {
          "output_type": "stream",
          "name": "stdout",
          "text": [
            "Colt McCoy QB, CLE  135 222 1576    6   9   60.8%   74.5\n",
            "Josh Freeman QB, TB 291 474 3451    25  6   61.4%   95.9\n",
            "Michael Vick QB, PHI    233 372 3018    21  6   62.6%   100.2\n",
            "Matt Schaub QB, HOU 365 574 4370    24  12  63.6%   92.0\n",
            "Philip Rivers QB, SD    357 541 4710    30  13  66.0%   101.8\n",
            "Matt Hasselbeck QB, SEA 266 444 3001    12  17  59.9%   73.2\n",
            "Jimmy Clausen QB, CAR   157 299 1558    3   9   52.5%   58.4\n",
            "Joe Flacco QB, BAL  306 489 3622    25  10  62.6%   93.6\n",
            "Kyle Orton QB, DEN  293 498 3653    20  9   58.8%   87.5\n",
            "Jason Campbell QB, OAK  194 329 2387    13  8   59.0%   84.5\n",
            "Peyton Manning QB, IND  450 679 4700    33  17  66.3%   91.9\n",
            "Drew Brees QB, NO   448 658 4620    33  22  68.1%   90.9\n",
            "Matt Ryan QB, ATL   357 571 3705    28  9   62.5%   91.0\n",
            "Matt Cassel QB, KC  262 450 3116    27  7   58.2%   93.0\n",
            "Mark Sanchez QB, NYJ    278 507 3291    17  13  54.8%   75.3\n",
            "Brett Favre QB, MIN 217 358 2509    11  19  60.6%   69.9\n",
            "David Garrard QB, JAC   236 366 2734    23  15  64.5%   90.8\n",
            "Eli Manning QB, NYG 339 539 4002    31  25  62.9%   85.3\n",
            "Carson Palmer QB, CIN   362 586 3970    26  20  61.8%   82.4\n",
            "Alex Smith QB, SF   204 342 2370    14  10  59.6%   82.1\n",
            "Chad Henne QB, MIA  301 490 3301    15  19  61.4%   75.4\n",
            "Tony Romo QB, DAL   148 213 1605    11  7   69.5%   94.9\n",
            "Jay Cutler QB, CHI  261 432 3274    23  16  60.4%   86.3\n",
            "Jon Kitna QB, DAL   209 318 2365    16  12  65.7%   88.9\n",
            "Tom Brady QB, NE    324 492 3900    36  4   65.9%   111.0\n",
            "Ben Roethlisberger QB, PIT  240 389 3200    17  5   61.7%   97.0\n",
            "Kerry Collins QB, TEN   160 278 1823    14  8   57.6%   82.2\n",
            "Derek Anderson QB, ARI  169 327 2065    7   10  51.7%   65.9\n",
            "Ryan Fitzpatrick QB, BUF    255 441 3000    23  15  57.8%   81.8\n",
            "Donovan McNabb QB, WAS  275 472 3377    14  15  58.3%   77.1\n",
            "Kevin Kolb QB, PHI  115 189 1197    7   7   60.8%   76.1\n",
            "Aaron Rodgers QB, GB    312 475 3922    28  11  65.7%   101.2\n",
            "Sam Bradford QB, STL    354 590 3512    18  15  60.0%   76.5\n",
            "Shaun Hill QB, DET  257 416 2686    16  12  61.8%   81.3\n"
          ]
        }
      ]
    },
    {
      "cell_type": "code",
      "metadata": {
        "colab": {
          "base_uri": "https://localhost:8080/"
        },
        "id": "SoiSYuV5_ppv",
        "outputId": "8eccf9ae-6217-4c44-efc5-0f22a25df558"
      },
      "source": [
        "#Criando um novo arquivo e escrevendo\n",
        "arquivo_escrita = open('/content/result.txt', 'w')\n",
        "arquivo_escrita.write('Curso PLN aula 03') #para escrever metodo .write\n",
        "arquivo_escrita.close() #fechando o arquivo\n",
        "\n",
        "#Abrindo arquivo para leitura\n",
        "arquivo_escrita = open('/content/result.txt', 'r')\n",
        "print(arquivo_escrita.read())\n",
        "\n",
        "#utilizando o append em um arquivo\n",
        "arquivo_escrita = open('/content/result.txt', 'a') #a de atualizar\n",
        "arquivo_escrita.write(' \\n estudando arquivos - Murilo Farias') #para escrever metodo .write\n",
        "arquivo_escrita.close() #fechando o arquivo\n",
        "\n",
        "#Abrindo arquivo para leitura\n",
        "arquivo_escrita = open('/content/result.txt', 'r')\n",
        "print(arquivo_escrita.read())\n",
        "\n",
        "#Para trabalhar com numero dentro de arquivos precisa ser convertido para\n",
        "#texto\n",
        "arquivo_escrita = open('/content/result.txt', 'a') #a de atualizar\n",
        "numero = 10\n",
        "arquivo_escrita.write(' \\n nota: {}'.format(numero)) #para escrever metodo .write\n",
        "arquivo_escrita.close() #fechando o arquivo\n",
        "arquivo_escrita = open('/content/result.txt', 'r')\n",
        "print(arquivo_escrita.read())\n",
        "arquivo_escrita.close() #fechando o arquivo\n",
        "\n",
        "#outra maneira\n",
        "arquivo_escrita = open('/content/result.txt', 'a') #a de atualizar\n",
        "numero2 = 8\n",
        "arquivo_escrita.write('\\n segunda nota:'+ (str(numero2))) #para escrever metodo .write\n",
        "arquivo_escrita.close() #fechando o arquivo\n",
        "\n",
        "#Abrindo arquivo para leitura\n",
        "arquivo_escrita = open('/content/result.txt', 'r')\n",
        "print(arquivo_escrita.read())\n",
        "\n"
      ],
      "execution_count": null,
      "outputs": [
        {
          "output_type": "stream",
          "name": "stdout",
          "text": [
            "Curso PLN aula 03\n",
            "Curso PLN aula 03 \n",
            " estudando arquivos - Murilo Farias\n",
            "Curso PLN aula 03 \n",
            " estudando arquivos - Murilo Farias \n",
            " nota: 10\n",
            "Curso PLN aula 03 \n",
            " estudando arquivos - Murilo Farias \n",
            " nota: 10\n",
            " segunda nota:8\n"
          ]
        }
      ]
    },
    {
      "cell_type": "markdown",
      "metadata": {
        "id": "f8xWZEqlJD6c"
      },
      "source": [
        "1. Crie três variáveis e atribua os valores a seguir: a=1, b=5.9 e c=‘teste’. A\n",
        "partir disso, retorne o tipo de cada uma das variáveis"
      ]
    },
    {
      "cell_type": "code",
      "metadata": {
        "colab": {
          "base_uri": "https://localhost:8080/"
        },
        "id": "s3il7wR1JBrj",
        "outputId": "bbfed460-74a9-4c4a-8de9-eb7cbed3c390"
      },
      "source": [
        "a = 1\n",
        "b = 5.9\n",
        "c = 'teste'\n",
        "print('o tipo de A: ' + str(type(a)))\n",
        "print('o tipo de B: ' + str(type(b)))\n",
        "print('o tipo de C: ' + str(type(c)))"
      ],
      "execution_count": null,
      "outputs": [
        {
          "output_type": "stream",
          "name": "stdout",
          "text": [
            "o tipo de A: <class 'int'>\n",
            "o tipo de B: <class 'float'>\n",
            "o tipo de C: <class 'str'>\n"
          ]
        }
      ]
    },
    {
      "cell_type": "markdown",
      "metadata": {
        "id": "uidsyQLBJwdw"
      },
      "source": [
        "2. Troque o valor da variável a por ‘1’ e verifique se o tipo da variável mudou"
      ]
    },
    {
      "cell_type": "code",
      "metadata": {
        "colab": {
          "base_uri": "https://localhost:8080/"
        },
        "id": "41mdNxSwJu4N",
        "outputId": "af81b4af-014d-421f-cdb5-f95b3b187bb6"
      },
      "source": [
        "anterior = 1\n",
        "novo = '1'\n",
        "\n",
        "print(' antes era: {} \\n agora é: {}'.format(type(anterior), type(novo)))"
      ],
      "execution_count": null,
      "outputs": [
        {
          "output_type": "stream",
          "name": "stdout",
          "text": [
            " antes era: <class 'int'> \n",
            " agora é: <class 'str'>\n"
          ]
        }
      ]
    },
    {
      "cell_type": "markdown",
      "metadata": {
        "id": "wjo-gVeQKNME"
      },
      "source": [
        "3. Faça a soma da variável b com a variável c. Interprete a saída, tanto em caso\n",
        "de execução correta quanto em caso de execução com erro.\n"
      ]
    },
    {
      "cell_type": "code",
      "metadata": {
        "colab": {
          "base_uri": "https://localhost:8080/"
        },
        "id": "Ip3yugtJKM8s",
        "outputId": "14fc4c46-9851-4c10-a554-859ca5ff2d31"
      },
      "source": [
        "print(b) #5.9\n",
        "print(c) #teste\n",
        "\n",
        "soma = 'Saída: ' + str(b) + ' ' + (c)\n",
        "print(soma)\n",
        "#ou\n",
        "print('Saída: {} {}'.format(b,c))"
      ],
      "execution_count": null,
      "outputs": [
        {
          "output_type": "stream",
          "name": "stdout",
          "text": [
            "5.9\n",
            "teste\n",
            "Saída: 5.9 teste\n",
            "Saída: 5.9 teste\n"
          ]
        }
      ]
    },
    {
      "cell_type": "markdown",
      "metadata": {
        "id": "gAuSaI2JLGDC"
      },
      "source": [
        "4. \n",
        "Crie uma lista com números de 0 a 9 (em qualquer ordem). Com ela, faça:\n",
        "\n",
        "a. Adicione o número 6\n",
        "\n",
        "b. Insira o número 7 na 3ª posição da lista\n",
        "\n",
        "c. Remova o elemento 3 da lista\n",
        "\n",
        "d. Adicione o número 4\n",
        "\n",
        "e. Verifique o número de ocorrências do número 4 na lista"
      ]
    },
    {
      "cell_type": "code",
      "metadata": {
        "colab": {
          "base_uri": "https://localhost:8080/"
        },
        "id": "BzOZNrz0LHm5",
        "outputId": "cd091a9d-9bbd-432c-a2bb-5ade7bff9a68"
      },
      "source": [
        "lista = [0,9,2,3,6,5,7,8,1,4]\n",
        "\n",
        "#a. Adicione o número 6\n",
        "lista.append(6)\n",
        "print(lista)\n"
      ],
      "execution_count": null,
      "outputs": [
        {
          "output_type": "stream",
          "name": "stdout",
          "text": [
            "[0, 9, 2, 3, 6, 5, 7, 8, 1, 4, 6]\n"
          ]
        }
      ]
    },
    {
      "cell_type": "code",
      "metadata": {
        "colab": {
          "base_uri": "https://localhost:8080/"
        },
        "id": "zzXAPovxLoID",
        "outputId": "d7b50546-a41f-4206-e9de-f136ba1a9f03"
      },
      "source": [
        "#b. Insira o número 7 na 3ª posição da lista\n",
        "# lista = [0,9,2,3,6,5,7,8,1,4]\n",
        "lista[3] = 7\n",
        "print(lista)\n"
      ],
      "execution_count": null,
      "outputs": [
        {
          "output_type": "stream",
          "name": "stdout",
          "text": [
            "[0, 9, 2, 7, 6, 5, 7, 8, 1, 4, 6]\n"
          ]
        }
      ]
    },
    {
      "cell_type": "code",
      "metadata": {
        "colab": {
          "base_uri": "https://localhost:8080/"
        },
        "id": "jhE1f01UMAgR",
        "outputId": "35a7e706-6cd5-48b7-f066-10c3ec17078b"
      },
      "source": [
        "#c. Remova o elemento 3º da lista\n",
        "# [0, 9, 2, 7, 6, 5, 7, 8, 1, 4, 6]\n",
        "# [0, 9, 2, 6, 5, 7, 8, 1, 4, 6]\n",
        "del(lista[3]) #deletando o 3º elemento\n",
        "print(lista)"
      ],
      "execution_count": null,
      "outputs": [
        {
          "output_type": "stream",
          "name": "stdout",
          "text": [
            "[0, 9, 2, 6, 5, 7, 8, 1, 4, 6]\n"
          ]
        }
      ]
    },
    {
      "cell_type": "code",
      "metadata": {
        "colab": {
          "base_uri": "https://localhost:8080/"
        },
        "id": "NSsLpXhMP3NH",
        "outputId": "372e9de8-059a-4bcc-d133-da84fc4b8b80"
      },
      "source": [
        "#d. Adicione o número 4\n",
        "# [0, 9, 2, 6, 5, 7, 8, 1, 4, 6]\n",
        "# [0, 9, 2, 6, 5, 7, 8, 1, 4, 6, 4]\n",
        "lista.append(4)\n",
        "print(lista)\n"
      ],
      "execution_count": null,
      "outputs": [
        {
          "output_type": "stream",
          "name": "stdout",
          "text": [
            "[0, 9, 2, 6, 5, 7, 8, 1, 4, 6, 4]\n"
          ]
        }
      ]
    },
    {
      "cell_type": "code",
      "metadata": {
        "colab": {
          "base_uri": "https://localhost:8080/"
        },
        "id": "Idc4YiRMQGz9",
        "outputId": "e64fc49e-9e51-483a-ce04-411802c233c2"
      },
      "source": [
        "#e. Verifique o número de ocorrências do número 4 na lista\n",
        "#[0, 9, 2, 6, 5, 7, 8, 1, 4, 6, 4]\n",
        "resultado = 0\n",
        "for i in lista:\n",
        "  if i == 6:\n",
        "    resultado +=1\n",
        "\n",
        "print('total de elementos nº 4 é: {}'.format(resultado))\n",
        "print(sorted(lista))"
      ],
      "execution_count": null,
      "outputs": [
        {
          "output_type": "stream",
          "name": "stdout",
          "text": [
            "total de elementos nº 4 é: 2\n",
            "[0, 1, 2, 4, 4, 5, 6, 6, 7, 8, 9]\n"
          ]
        }
      ]
    },
    {
      "cell_type": "markdown",
      "metadata": {
        "id": "FqPgDgoYWl8r"
      },
      "source": [
        "Ainda com a lista criada na questão anterior, faça:\n",
        "\n",
        "a. Retorne os primeiros 3 elementos da lista\n",
        "\n",
        "b. Retorne os elementos que estão da 3ª posição até a 7ª posição da lista\n",
        "\n",
        "c. Retorne os elementos da lista de 3 em 3 elementos\n",
        "\n",
        "d. Retorne os 3 últimos elementos da lista\n",
        "\n",
        "e. Retorne todos os elementos menos os 4 últimos da lista\n"
      ]
    },
    {
      "cell_type": "code",
      "metadata": {
        "colab": {
          "base_uri": "https://localhost:8080/"
        },
        "id": "H1FWoellWo7C",
        "outputId": "8b8e81dd-7152-4d3d-a346-0e1a59a3bf1b"
      },
      "source": [
        "#a. Retorne os primeiros 3 elementos da lista\n",
        "print(lista) # [0, 1, 2, 4, 4, 5, 6, 6, 7, 8, 9]\n",
        "print(lista[0:3])"
      ],
      "execution_count": null,
      "outputs": [
        {
          "output_type": "stream",
          "name": "stdout",
          "text": [
            "[0, 1, 2, 4, 4, 5, 6, 6, 7, 8, 9]\n",
            "[0, 1, 2]\n"
          ]
        }
      ]
    },
    {
      "cell_type": "code",
      "metadata": {
        "colab": {
          "base_uri": "https://localhost:8080/"
        },
        "id": "1rQGurHJkWFv",
        "outputId": "2dc26d27-aa01-43ee-ec26-778fc48cf465"
      },
      "source": [
        "#b. Retorne os elementos que estão da 3ª posição até a 7ª posição da lista\n",
        "print(lista[3:8])"
      ],
      "execution_count": null,
      "outputs": [
        {
          "output_type": "stream",
          "name": "stdout",
          "text": [
            "[4, 4, 5, 6, 6]\n"
          ]
        }
      ]
    },
    {
      "cell_type": "code",
      "metadata": {
        "colab": {
          "base_uri": "https://localhost:8080/"
        },
        "id": "EFG-YfrHkivV",
        "outputId": "c7f2a148-fe5c-4ad3-edd2-e35a0016401d"
      },
      "source": [
        "#c. Retorne os elementos da lista de 3 em 3 elementos\n",
        "c\n",
        "print(lista[::3])\n"
      ],
      "execution_count": null,
      "outputs": [
        {
          "output_type": "stream",
          "name": "stdout",
          "text": [
            "[0, 4, 6, 8]\n"
          ]
        }
      ]
    },
    {
      "cell_type": "code",
      "metadata": {
        "colab": {
          "base_uri": "https://localhost:8080/"
        },
        "id": "OzA86DWVky5F",
        "outputId": "65564266-0419-4853-f057-8bf4839d2a7a"
      },
      "source": [
        "#d. Retorne os 3 últimos elementos da lista\n",
        "#11\n",
        "total = len(lista) # 11\n",
        "print('{} {} {}'.format((lista[total-1]),(lista[total-2]),(lista[total-3])))\n"
      ],
      "execution_count": null,
      "outputs": [
        {
          "output_type": "stream",
          "name": "stdout",
          "text": [
            "9 8 7\n"
          ]
        }
      ]
    },
    {
      "cell_type": "code",
      "metadata": {
        "colab": {
          "base_uri": "https://localhost:8080/"
        },
        "id": "Bmcmk7eMnMTI",
        "outputId": "10050abf-354e-48ff-8366-9b40fae7170c"
      },
      "source": [
        "#e. Retorne todos os elementos menos os 4 últimos da lista\n",
        "print(lista[0:7])"
      ],
      "execution_count": null,
      "outputs": [
        {
          "output_type": "stream",
          "name": "stdout",
          "text": [
            "[0, 1, 2, 4, 4, 5, 6]\n"
          ]
        }
      ]
    },
    {
      "cell_type": "markdown",
      "metadata": {
        "id": "Sd6sT8zmnnAo"
      },
      "source": [
        "6. Com a lista das questões anteriores, retorne o 6º elemento da lista"
      ]
    },
    {
      "cell_type": "code",
      "metadata": {
        "colab": {
          "base_uri": "https://localhost:8080/"
        },
        "id": "GRQOdaCBnoOe",
        "outputId": "2728f7b0-0b34-406c-b0db-43bcdca37736"
      },
      "source": [
        "# [0, 1, 2, 4, 4, 5, 6, 6, 7, 8, 9]\n",
        "print(lista[5])"
      ],
      "execution_count": null,
      "outputs": [
        {
          "output_type": "stream",
          "name": "stdout",
          "text": [
            "5\n"
          ]
        }
      ]
    },
    {
      "cell_type": "markdown",
      "metadata": {
        "id": "VNmNjBWwoJa_"
      },
      "source": [
        "7. Altere o valor do 7º elemento da lista para o valor 12.\n"
      ]
    },
    {
      "cell_type": "code",
      "metadata": {
        "colab": {
          "base_uri": "https://localhost:8080/"
        },
        "id": "dcKRTJR-oKNH",
        "outputId": "66422508-b507-4ca5-d67a-d277c0d3be1c"
      },
      "source": [
        "# [0, 1, 2, 4, 4, 5, 6, 6, 7, 8, 9]\n",
        "\n",
        "lista[6] = 12\n",
        "print(lista)\n",
        "\n",
        "# [0, 1, 2, 4, 4, 5, 12, 6, 7, 8, 9]\n"
      ],
      "execution_count": null,
      "outputs": [
        {
          "output_type": "stream",
          "name": "stdout",
          "text": [
            "[0, 1, 2, 4, 4, 5, 12, 6, 7, 8, 9]\n"
          ]
        }
      ]
    },
    {
      "cell_type": "markdown",
      "metadata": {
        "id": "v0ODiLAcpHQ8"
      },
      "source": [
        "8. Inverta a ordem dos elementos na lista.\n"
      ]
    },
    {
      "cell_type": "code",
      "metadata": {
        "colab": {
          "base_uri": "https://localhost:8080/"
        },
        "id": "3Tezky8Opz7U",
        "outputId": "13509cce-3689-4092-d354-1efd41b115e6"
      },
      "source": [
        "print('Original: ' + str(lista))\n",
        "\n",
        "reversao_1 = lista[::-1]\n",
        "print('Primeira inversão:' + str(reversao_1))\n",
        "\n",
        "reversao_1.reverse()\n",
        "print('Segunda inversão: {}'.format(reversao_1))"
      ],
      "execution_count": null,
      "outputs": [
        {
          "output_type": "stream",
          "name": "stdout",
          "text": [
            "Original: [0, 1, 2, 4, 4, 5, 12, 6, 7, 8, 9]\n",
            "Primeira inversão:[9, 8, 7, 6, 12, 5, 4, 4, 2, 1, 0]\n",
            "Segunda inversão: [0, 1, 2, 4, 4, 5, 12, 6, 7, 8, 9]\n"
          ]
        }
      ]
    },
    {
      "cell_type": "markdown",
      "metadata": {
        "id": "6T-6zh-_rbYu"
      },
      "source": [
        "9. Ordene a lista"
      ]
    },
    {
      "cell_type": "code",
      "metadata": {
        "colab": {
          "base_uri": "https://localhost:8080/"
        },
        "id": "mWFbDU5vrcJS",
        "outputId": "70cdc83f-dfa7-4fa8-84b6-27c042135abc"
      },
      "source": [
        "print(lista)\n",
        "\n",
        "lista_ordenada = lista\n",
        "lista_ordenada.sort()\n",
        "print(lista_ordenada)"
      ],
      "execution_count": null,
      "outputs": [
        {
          "output_type": "stream",
          "name": "stdout",
          "text": [
            "[0, 9, 2, 3, 6, 5, 7, 8, 1, 4, 6]\n",
            "[0, 1, 2, 3, 4, 5, 6, 6, 7, 8, 9]\n"
          ]
        }
      ]
    },
    {
      "cell_type": "markdown",
      "metadata": {
        "id": "lrDtt7QKtGHF"
      },
      "source": [
        "10. Crie uma tupla com números de 0 a 9 (em qualquer ordem) e tente:\n",
        "\n",
        "a. Alterar o valor do 3º elemento da tupla para o valor 10\n",
        "\n",
        "b. Verificar o índice (posição) do valor 5 na tupla"
      ]
    },
    {
      "cell_type": "code",
      "metadata": {
        "colab": {
          "base_uri": "https://localhost:8080/"
        },
        "id": "RSU9Eq7ftK_m",
        "outputId": "e1ba9f03-22cd-4c36-d976-2dba0af7d93f"
      },
      "source": [
        "#a. Alterar o valor do 3º elemento da tupla para o valor 10\n",
        "\n",
        "tupla = (1,2,4,8,9,0,3,5,6,7) #Criando uma tupla\n",
        "print('Tupla original: ',tupla)\n",
        "\n",
        "tupla_lista = list(tupla) #convertendo tupla em lista\n",
        "print('Convertendo em lista: ',tupla_lista)\n",
        "\n",
        "tupla_lista[3] = 10 #alterando elemento da lista\n",
        "print('Alterando elemento: ',tupla_lista)\n",
        "\n",
        "tupla = tuple(tupla_lista) #voltando para tupla\n",
        "print('Voltando para tupla: ',tupla)"
      ],
      "execution_count": null,
      "outputs": [
        {
          "output_type": "stream",
          "name": "stdout",
          "text": [
            "Tupla original:  (1, 2, 4, 8, 9, 0, 3, 5, 6, 7)\n",
            "Convertendo em lista:  [1, 2, 4, 8, 9, 0, 3, 5, 6, 7]\n",
            "Alterando elemento:  [1, 2, 4, 10, 9, 0, 3, 5, 6, 7]\n",
            "Voltando para tupla:  (1, 2, 4, 10, 9, 0, 3, 5, 6, 7)\n"
          ]
        }
      ]
    },
    {
      "cell_type": "code",
      "metadata": {
        "colab": {
          "base_uri": "https://localhost:8080/"
        },
        "id": "0ARoMuA52kyS",
        "outputId": "573ed153-7130-4e79-bc6f-20da9108d8a6"
      },
      "source": [
        "#b. Verificar o índice (posição) do valor 5 na tupla\n",
        "\n",
        "print('                ',tupla)\n",
        "print('Tupla original: ',tupla)\n",
        "print('Valor 5 está na posição: ',tupla.index(5))\n",
        "print('\\n')\n",
        "\n",
        "#posição de cada elemento\n",
        "print(tupla)\n",
        "total = len(tupla)\n",
        "inicio = 0\n",
        "while inicio < total:\n",
        "  for i in tupla:\n",
        "    print('Posição: {} elemento: {}'.format(inicio,i))\n",
        "    inicio +=1"
      ],
      "execution_count": null,
      "outputs": [
        {
          "output_type": "stream",
          "name": "stdout",
          "text": [
            "                 (1, 2, 4, 10, 9, 0, 3, 5, 6, 7)\n",
            "Tupla original:  (1, 2, 4, 10, 9, 0, 3, 5, 6, 7)\n",
            "Valor 5 está na posição:  7\n",
            "\n",
            "\n",
            "(1, 2, 4, 10, 9, 0, 3, 5, 6, 7)\n",
            "Posição: 0 elemento: 1\n",
            "Posição: 1 elemento: 2\n",
            "Posição: 2 elemento: 4\n",
            "Posição: 3 elemento: 10\n",
            "Posição: 4 elemento: 9\n",
            "Posição: 5 elemento: 0\n",
            "Posição: 6 elemento: 3\n",
            "Posição: 7 elemento: 5\n",
            "Posição: 8 elemento: 6\n",
            "Posição: 9 elemento: 7\n"
          ]
        }
      ]
    },
    {
      "cell_type": "markdown",
      "metadata": {
        "id": "T9wVodWf4YC9"
      },
      "source": [
        "11. Crie um dicionário com 5 entradas e suas respectivas chaves e valores. Faça:\n",
        "\n",
        "a. Imprima todas as chaves do dicionário\n",
        "\n",
        "b. Imprima todos os valores do dicionário\n",
        "\n",
        "c. Imprima todos os itens do dicionário\n",
        "\n",
        "d. Imprima o 2º item do dicionário\n",
        "\n",
        "e. Imprima o dicionário completo\n",
        "\n",
        "f. Percorra o dicionário, imprimindo para cada entrada o modelo “(chave)\n",
        "tem como valor (valor)”"
      ]
    },
    {
      "cell_type": "code",
      "metadata": {
        "colab": {
          "base_uri": "https://localhost:8080/"
        },
        "id": "kfYjCttV4cGS",
        "outputId": "2e69fb61-9bab-455b-cdbf-3072cf093c3f"
      },
      "source": [
        "#a. Imprima todas as chaves do dicionário\n",
        "#b. Imprima todos os valores do dicionário\n",
        "\n",
        "dicionario = {}\n",
        "\n",
        "dicionario['Aluno_1'] = 'Murilo'\n",
        "dicionario['Nota_1'] = 10\n",
        "\n",
        "dicionario['Aluno_2'] = 'Pedro'\n",
        "dicionario['Nota_2'] = 4\n",
        "\n",
        "dicionario['Aluno_3'] = 'Rafaela'\n",
        "dicionario['Nota_3'] = 8\n",
        "\n",
        "dicionario['Aluno_4'] = 'Maico'\n",
        "dicionario['Nota_4'] = 2\n",
        "\n",
        "dicionario['Aluno_5'] = 'Bruno'\n",
        "dicionario['Nota_5'] = 7\n",
        "\n",
        "print('Dicionario criado: ',dicionario)\n",
        "print('Valores: ',dicionario.values()) # para saber os valores dos dicionarios utiliza o VALUES\n",
        "print('Chaves: ',dicionario.keys()) #para saber as chaves dos dicionarios utiliza o KEYS\n"
      ],
      "execution_count": null,
      "outputs": [
        {
          "output_type": "stream",
          "name": "stdout",
          "text": [
            "Dicionario criado:  {'Aluno_1': 'Murilo', 'Nota_1': 10, 'Aluno_2': 'Pedro', 'Nota_2': 4, 'Aluno_3': 'Rafaela', 'Nota_3': 8, 'Aluno_4': 'Maico', 'Nota_4': 2, 'Aluno_5': 'Bruno', 'Nota_5': 7}\n",
            "Valores:  dict_values(['Murilo', 10, 'Pedro', 4, 'Rafaela', 8, 'Maico', 2, 'Bruno', 7])\n",
            "Chaves:  dict_keys(['Aluno_1', 'Nota_1', 'Aluno_2', 'Nota_2', 'Aluno_3', 'Nota_3', 'Aluno_4', 'Nota_4', 'Aluno_5', 'Nota_5'])\n"
          ]
        }
      ]
    },
    {
      "cell_type": "code",
      "metadata": {
        "colab": {
          "base_uri": "https://localhost:8080/"
        },
        "id": "NUsnPThWGZSe",
        "outputId": "bc64f43a-01eb-4bef-c6c7-9b2690804068"
      },
      "source": [
        "#c. Imprima todos os itens do dicionário\n",
        "for chave, valor in dicionario.items():\n",
        "  print('chave: {} | valor: {}'.format(chave,valor))\n",
        "\n",
        "print('\\n')\n",
        "print(dicionario.items())"
      ],
      "execution_count": null,
      "outputs": [
        {
          "output_type": "stream",
          "name": "stdout",
          "text": [
            "chave: Aluno_1 | valor: Murilo\n",
            "chave: Nota_1 | valor: 10\n",
            "chave: Aluno_2 | valor: Pedro\n",
            "chave: Nota_2 | valor: 4\n",
            "chave: Aluno_3 | valor: Rafaela\n",
            "chave: Nota_3 | valor: 8\n",
            "chave: Aluno_4 | valor: Maico\n",
            "chave: Nota_4 | valor: 2\n",
            "chave: Aluno_5 | valor: Bruno\n",
            "chave: Nota_5 | valor: 7\n",
            "\n",
            "\n",
            "dict_items([('Aluno_1', 'Murilo'), ('Nota_1', 10), ('Aluno_2', 'Pedro'), ('Nota_2', 4), ('Aluno_3', 'Rafaela'), ('Nota_3', 8), ('Aluno_4', 'Maico'), ('Nota_4', 2), ('Aluno_5', 'Bruno'), ('Nota_5', 7)])\n"
          ]
        }
      ]
    },
    {
      "cell_type": "code",
      "metadata": {
        "colab": {
          "base_uri": "https://localhost:8080/"
        },
        "id": "mCcl3HhPG-Xm",
        "outputId": "9e5b13fe-14dd-49aa-a2a3-da4dcb4752f6"
      },
      "source": [
        "#d. Imprima o 2º item do dicionário\n",
        "#Dicionario é possivel ver somente keys and values\n",
        "#para ver separados é necessario criar uma lista do dicionario\n",
        "\n",
        "lista_x = list(dicionario.items()) #.items para separar por itens o dicionario\n",
        "\n",
        "print(lista_x)\n",
        "for itens in lista_x:\n",
        "  print('Resultado: ', itens)\n",
        "print('\\n')\n",
        "\n",
        "inicio = 0\n",
        "final = 9\n",
        "while inicio < final:\n",
        "  print('Itens: ' + str(lista_x[inicio][0] + ' Valores: ' + str(lista_x[inicio][1]) + '\\n'))\n",
        "  inicio +=1\n",
        "\n"
      ],
      "execution_count": null,
      "outputs": [
        {
          "output_type": "stream",
          "name": "stdout",
          "text": [
            "[('Aluno_1', 'Murilo'), ('Nota_1', 10), ('Aluno_2', 'Pedro'), ('Nota_2', 4), ('Aluno_3', 'Rafaela'), ('Nota_3', 8), ('Aluno_4', 'Maico'), ('Nota_4', 2), ('Aluno_5', 'Bruno'), ('Nota_5', 7)]\n",
            "Resultado:  ('Aluno_1', 'Murilo')\n",
            "Resultado:  ('Nota_1', 10)\n",
            "Resultado:  ('Aluno_2', 'Pedro')\n",
            "Resultado:  ('Nota_2', 4)\n",
            "Resultado:  ('Aluno_3', 'Rafaela')\n",
            "Resultado:  ('Nota_3', 8)\n",
            "Resultado:  ('Aluno_4', 'Maico')\n",
            "Resultado:  ('Nota_4', 2)\n",
            "Resultado:  ('Aluno_5', 'Bruno')\n",
            "Resultado:  ('Nota_5', 7)\n",
            "\n",
            "\n",
            "Itens: Aluno_1 Valores: Murilo\n",
            "\n",
            "Itens: Nota_1 Valores: 10\n",
            "\n",
            "Itens: Aluno_2 Valores: Pedro\n",
            "\n",
            "Itens: Nota_2 Valores: 4\n",
            "\n",
            "Itens: Aluno_3 Valores: Rafaela\n",
            "\n",
            "Itens: Nota_3 Valores: 8\n",
            "\n",
            "Itens: Aluno_4 Valores: Maico\n",
            "\n",
            "Itens: Nota_4 Valores: 2\n",
            "\n",
            "Itens: Aluno_5 Valores: Bruno\n",
            "\n"
          ]
        }
      ]
    },
    {
      "cell_type": "markdown",
      "metadata": {
        "id": "JjIt_xMOOC0c"
      },
      "source": [
        "12. Crie um arquivo e: \n",
        "\n",
        "a. Escreva nele os números de 1 a 10 \n",
        "\n",
        "b. Depois de escrito, imprima na tela todos os números do arquivo \n",
        "\n",
        "c. Escreva no arquivo os números de 11 a 20, substituindo os números que \n",
        "estavam antes no arquivo \n",
        "\n",
        "d. Escreva no arquivo os números de 21 a 30, adicionando os números no \n",
        "final do arquivo (sem apagar o que já estavam lá) \n",
        "\n",
        "e. Imprima na tela todos os números do arquivo novamente (de 11 a 30) \n",
        "\n",
        "f. Imprima na tela todos os números do arquivo novamente, mas agora \n",
        "linha por linha "
      ]
    },
    {
      "cell_type": "code",
      "metadata": {
        "colab": {
          "base_uri": "https://localhost:8080/",
          "height": 35
        },
        "id": "yKcz1ftOOH9T",
        "outputId": "9109a89d-cf75-48b1-df87-aaf36ff8e4a3"
      },
      "source": [
        "#a. Escreva nele os números de 1 a 10 \n",
        "import random\n",
        "lista = []\n",
        "sem_duplicado = []\n",
        "\n",
        "while len(sem_duplicado) < 11:\n",
        "  lista.append(random.randint(0,19))\n",
        "  sem_duplicado = list(set(lista))\n",
        "\n",
        "\n",
        "arquivo = open('/content/exercicio_12.txt', 'w')\n",
        "arquivo.write(str(sem_duplicado))\n",
        "arquivo.close()\n",
        "\n",
        "#b. Depois de escrito, imprima na tela todos os números do arquivo OPÇÃO MURILO\n",
        "arquivo = open('/content/exercicio_12.txt', 'r')\n",
        "arquivo.read()\n",
        "\n"
      ],
      "execution_count": null,
      "outputs": [
        {
          "output_type": "execute_result",
          "data": {
            "application/vnd.google.colaboratory.intrinsic+json": {
              "type": "string"
            },
            "text/plain": [
              "'[2, 4, 7, 11, 12, 14, 15, 16, 17, 18, 19]'"
            ]
          },
          "metadata": {},
          "execution_count": 276
        }
      ]
    },
    {
      "cell_type": "code",
      "metadata": {
        "colab": {
          "base_uri": "https://localhost:8080/"
        },
        "id": "pYCA0k1-Tqu_",
        "outputId": "062cc598-85af-4251-d4e9-ca71067ae5f0"
      },
      "source": [
        "\n",
        "# Depois de escrito, imprima na tela todos os números do arquivo OPÇÃO PROFESSOR\n",
        "with open('/content/exercicio_12.txt', 'r') as file: # deste modo não precisa usar o close \n",
        "    data = file.readlines()\n",
        "    for valor in data:\n",
        "      print(valor)\n"
      ],
      "execution_count": null,
      "outputs": [
        {
          "output_type": "stream",
          "name": "stdout",
          "text": [
            "[2, 4, 7, 11, 12, 14, 15, 16, 17, 18, 19]\n"
          ]
        }
      ]
    },
    {
      "cell_type": "code",
      "metadata": {
        "colab": {
          "base_uri": "https://localhost:8080/"
        },
        "id": "RQh0kp4CT1pn",
        "outputId": "681c67a7-1a60-4061-d894-91550768fdd7"
      },
      "source": [
        "#c. Escreva no arquivo os números de 11 a 20, substituindo os números que \n",
        "#estavam antes no arquivo \n",
        "\n",
        "novo_arquivo = open('/content/novo_arquivo.txt', 'w')\n",
        "lista = []\n",
        "for i in range(20):\n",
        "  lista.append(i)\n",
        "\n",
        "novo_arquivo.write(str(lista))\n",
        "novo_arquivo.close()\n",
        "\n",
        "novo_arquivo = open('/content/novo_arquivo.txt', 'r')\n",
        "novo_arquivo.read()\n",
        "\n",
        "with open('/content/novo_arquivo.txt', 'r') as file: # deste modo não precisa usar o close \n",
        "    data = file.readlines()\n",
        "    for valor in data:\n",
        "      print(valor)\n"
      ],
      "execution_count": null,
      "outputs": [
        {
          "output_type": "stream",
          "name": "stdout",
          "text": [
            "[0, 1, 2, 3, 4, 5, 6, 7, 8, 9, 10, 11, 12, 13, 14, 15, 16, 17, 18, 19]\n"
          ]
        }
      ]
    },
    {
      "cell_type": "code",
      "metadata": {
        "id": "-jMJldxDU_at"
      },
      "source": [
        "#d. Escreva no arquivo os números de 21 a 30, adicionando os números no \n",
        "#final do arquivo (sem apagar o que já estavam lá) "
      ],
      "execution_count": null,
      "outputs": []
    },
    {
      "cell_type": "code",
      "metadata": {
        "colab": {
          "base_uri": "https://localhost:8080/",
          "height": 52
        },
        "id": "ew1uzDOUVHwR",
        "outputId": "a14fa196-8a26-4cf0-a5a8-288c56a0c61b"
      },
      "source": [
        "novo_arquivo = open('/content/novo_arquivo.txt', 'a')\n",
        "for i in range(49,55):\n",
        "  novo_arquivo.write( '\\n {}'.format(str(i)))\n",
        "\n",
        "novo_arquivo.close()\n",
        "\n",
        "novo_arquivo = open('/content/novo_arquivo.txt', 'r')\n",
        "novo_arquivo.read()\n"
      ],
      "execution_count": null,
      "outputs": [
        {
          "output_type": "execute_result",
          "data": {
            "application/vnd.google.colaboratory.intrinsic+json": {
              "type": "string"
            },
            "text/plain": [
              "'[0, 1, 2, 3, 4, 5, 6, 7, 8, 9, 10, 11, 12, 13, 14, 15, 16, 17, 18, 19](21, 22, 23, 24, 25, 26, 27, 28, 29, 30)(21, 22, 23, 24, 25, 26, 27, 28, 29, 30)\\n 54\\n 49\\n 50\\n 51\\n 52\\n 53\\n 54'"
            ]
          },
          "metadata": {},
          "execution_count": 287
        }
      ]
    },
    {
      "cell_type": "code",
      "metadata": {
        "colab": {
          "base_uri": "https://localhost:8080/"
        },
        "id": "tMWHmulXWQkJ",
        "outputId": "2b9c5b06-58a9-41aa-adf5-d362a85bda4e"
      },
      "source": [
        "novo_arquivo = open('/content/novo_arquivo.txt', 'w')\n",
        "for i in range(49,55):\n",
        "  novo_arquivo.write( '\\n {}'.format(str(i)))\n",
        "\n",
        "novo_arquivo.close()\n",
        "\n",
        "\n",
        "with open('/content/novo_arquivo.txt', 'r') as file: # deste modo não precisa usar o close \n",
        "    data = file.readlines()\n",
        "    for valor in data:\n",
        "      print(valor)"
      ],
      "execution_count": null,
      "outputs": [
        {
          "output_type": "stream",
          "name": "stdout",
          "text": [
            "\n",
            "\n",
            " 49\n",
            "\n",
            " 50\n",
            "\n",
            " 51\n",
            "\n",
            " 52\n",
            "\n",
            " 53\n",
            "\n",
            " 54\n"
          ]
        }
      ]
    },
    {
      "cell_type": "code",
      "metadata": {
        "id": "8u3dA4ral5Sx"
      },
      "source": [
        "arquivo_entrada = open(\"/content/corpus.txt\",\"r\", encoding='unicode_escape') #encoding='unicode_escape' para arquivo com caracteres especiais\n",
        "corpus = arquivo_entrada.read()\n",
        "print(corpus)\n",
        "total_palavras = len(corpus.split())\n",
        "print('O total de PALAVRAS é: {}'.format(total_palavras))\n",
        "\n",
        "corpus = corpus.replace(' ', '')\n",
        "\n",
        "total_caracteres = len(corpus)\n",
        "print('O total de CARACTERES é: {}'.format(total_caracteres))\n",
        "arquivo_entrada.close()"
      ],
      "execution_count": null,
      "outputs": []
    },
    {
      "cell_type": "code",
      "metadata": {
        "colab": {
          "base_uri": "https://localhost:8080/"
        },
        "id": "NDDs9F07y-2W",
        "outputId": "df199516-da8f-48e6-d115-597f6437ab43"
      },
      "source": [
        "nome = 'murilo farias'\n",
        "\n",
        "nome = nome.replace (' ', '')\n",
        "\n",
        "print(nome)\n",
        "\n",
        "len(nome)"
      ],
      "execution_count": 78,
      "outputs": [
        {
          "output_type": "stream",
          "name": "stdout",
          "text": [
            "murilofarias\n"
          ]
        },
        {
          "output_type": "execute_result",
          "data": {
            "text/plain": [
              "12"
            ]
          },
          "metadata": {},
          "execution_count": 78
        }
      ]
    },
    {
      "cell_type": "code",
      "metadata": {
        "colab": {
          "base_uri": "https://localhost:8080/",
          "height": 35
        },
        "id": "sFM4HHDpot0I",
        "outputId": "0e450417-a9a8-4f04-e7bf-c873dfb1aa56"
      },
      "source": [
        "''' testando \n",
        " as \n",
        " aspas triplas'''\n",
        "\n",
        "# Resultado> testando\\nas \\naspas triplas"
      ],
      "execution_count": 39,
      "outputs": [
        {
          "output_type": "execute_result",
          "data": {
            "application/vnd.google.colaboratory.intrinsic+json": {
              "type": "string"
            },
            "text/plain": [
              "' testando \\n as \\n aspas triplas'"
            ]
          },
          "metadata": {},
          "execution_count": 39
        }
      ]
    },
    {
      "cell_type": "code",
      "metadata": {
        "colab": {
          "base_uri": "https://localhost:8080/"
        },
        "id": "KjyDKExht_AB",
        "outputId": "7f0d0677-8e21-46d6-f3d7-a18ab4eac938"
      },
      "source": [
        "string = 'jogador de futebol' # criando uma string: jogador de futebol\n",
        "\n",
        "string = string.replace('de','bom de') # alterando a string: jogador bom de futebol\n",
        "\n",
        "#imprimindo todas as palavras\n",
        "\n",
        "todas_palavras = string.split() #separando pos espaço\n",
        "print(todas_palavras)\n",
        "print(todas_palavras[0:2])\n",
        "\n",
        "#imprimindo numa lista todas as letras\n",
        "sem_espacos = string.replace(' ', '') # removendo espaços\n",
        "\n",
        "print(sem_espacos) # jogadorbomdefutebol\n",
        "\n",
        "lista = []\n",
        "for i in sem_espacos:\n",
        "  i.split(i)\n",
        "  lista.append(i)\n",
        "\n",
        "print(lista)\n"
      ],
      "execution_count": 58,
      "outputs": [
        {
          "output_type": "stream",
          "name": "stdout",
          "text": [
            "['jogador', 'bom', 'de', 'futebol']\n",
            "['jogador', 'bom']\n",
            "jogadorbomdefutebol\n",
            "['j', 'o', 'g', 'a', 'd', 'o', 'r', 'b', 'o', 'm', 'd', 'e', 'f', 'u', 't', 'e', 'b', 'o', 'l']\n"
          ]
        }
      ]
    },
    {
      "cell_type": "code",
      "metadata": {
        "colab": {
          "base_uri": "https://localhost:8080/"
        },
        "id": "9JF5CQO6xJE6",
        "outputId": "3b66d5ad-3735-4460-f355-050deafe7590"
      },
      "source": [
        "string = 'jogador de futebol americano famoso dos EUA' # criando uma string: jogador de futebol\n",
        "\n",
        "#Contar quantas palavras existem - OPÇÃO 1\n",
        "\n",
        "separado = (string.split()) #criando uma lista com a string\n",
        "\n",
        "valor = 0\n",
        "for i in separado:\n",
        "  valor = valor+1\n",
        "\n",
        "print('Contagem por meio do FOR total é: {}'.format(valor))\n",
        "\n",
        "#Contar quantas palavras existem - OPÇÃO 2\n",
        "\n",
        "string = 'jogador de futebol americano famoso dos EUA' # criando uma string: jogador de futebol\n",
        "\n",
        "print(string.split())\n",
        "print('Contagem por meio do LEN é: {}'.format(len(string.split())))"
      ],
      "execution_count": 86,
      "outputs": [
        {
          "output_type": "stream",
          "name": "stdout",
          "text": [
            "Contagem por meio do FOR total é: 7\n",
            "['jogador', 'de', 'futebol', 'americano', 'famoso', 'dos', 'EUA']\n",
            "Contagem por meio do LEN é: 7\n"
          ]
        }
      ]
    },
    {
      "cell_type": "code",
      "metadata": {
        "colab": {
          "base_uri": "https://localhost:8080/"
        },
        "id": "Ieu9Or2L1LNQ",
        "outputId": "3404b08c-d0e8-458b-be2e-b1ce832b75e2"
      },
      "source": [
        "# Para juntar tudo em uma frase utiliza o join\n",
        "print(separado) # ['jogador', 'de', 'futebol', 'americano', 'famoso', 'dos', 'EUA']\n",
        "\n",
        "# Para juntar tudo em uma frase utiliza o join\n",
        "\n",
        "#parametro de juntar\n",
        "junto = '/'.join(separado) #juntar pelos espaços\n",
        "\n",
        "print(junto)"
      ],
      "execution_count": 91,
      "outputs": [
        {
          "output_type": "stream",
          "name": "stdout",
          "text": [
            "['jogador', 'de', 'futebol', 'americano', 'famoso', 'dos', 'EUA']\n",
            "jogador/de/futebol/americano/famoso/dos/EUA\n"
          ]
        }
      ]
    },
    {
      "cell_type": "code",
      "metadata": {
        "colab": {
          "base_uri": "https://localhost:8080/"
        },
        "id": "xpbFScKIeMc9",
        "outputId": "fb9e9b4c-82ab-452e-def6-2219f396418a"
      },
      "source": [
        "print('incluindo algo com aspas: Murilo \\'') #utiliza-se \\'\n",
        "print('incluindo algo com barra: Murilo \\\\') #utiliza-se \\\\\n",
        "print('tabulação \\t Murilo') #utiliza-se \\t para tabulçação"
      ],
      "execution_count": 99,
      "outputs": [
        {
          "output_type": "stream",
          "name": "stdout",
          "text": [
            "incluindo algo com aspas: Murilo '\n",
            "incluindo algo com barra: Murilo \\\n",
            "tabulação \t Murilo\n"
          ]
        }
      ]
    },
    {
      "cell_type": "code",
      "metadata": {
        "colab": {
          "base_uri": "https://localhost:8080/"
        },
        "id": "qGO7VyW5idyq",
        "outputId": "d1685dfb-0dee-4368-ed1e-fcf23e0f50d1"
      },
      "source": [
        "#http://www.nltk.org/index.html\n",
        "#importanto NLTK - Natual Language Tookit\n",
        "import nltk\n",
        "\n",
        "#Download para baixar as coleções\n",
        "nltk.download() #selecionado d)Download > all\n"
      ],
      "execution_count": 105,
      "outputs": [
        {
          "name": "stdout",
          "output_type": "stream",
          "text": [
            "NLTK Downloader\n",
            "---------------------------------------------------------------------------\n",
            "    d) Download   l) List    u) Update   c) Config   h) Help   q) Quit\n",
            "---------------------------------------------------------------------------\n",
            "Downloader> d\n",
            "\n",
            "Download which package (l=list; x=cancel)?\n",
            "  Identifier> all\n",
            "    Downloading collection 'all'\n",
            "       | \n",
            "       | Downloading package abc to /root/nltk_data...\n",
            "       |   Unzipping corpora/abc.zip.\n",
            "       | Downloading package alpino to /root/nltk_data...\n",
            "       |   Unzipping corpora/alpino.zip.\n",
            "       | Downloading package biocreative_ppi to /root/nltk_data...\n",
            "       |   Unzipping corpora/biocreative_ppi.zip.\n",
            "       | Downloading package brown to /root/nltk_data...\n",
            "       |   Unzipping corpora/brown.zip.\n",
            "       | Downloading package brown_tei to /root/nltk_data...\n",
            "       |   Unzipping corpora/brown_tei.zip.\n",
            "       | Downloading package cess_cat to /root/nltk_data...\n",
            "       |   Unzipping corpora/cess_cat.zip.\n",
            "       | Downloading package cess_esp to /root/nltk_data...\n",
            "       |   Unzipping corpora/cess_esp.zip.\n",
            "       | Downloading package chat80 to /root/nltk_data...\n",
            "       |   Unzipping corpora/chat80.zip.\n",
            "       | Downloading package city_database to /root/nltk_data...\n",
            "       |   Unzipping corpora/city_database.zip.\n",
            "       | Downloading package cmudict to /root/nltk_data...\n",
            "       |   Unzipping corpora/cmudict.zip.\n",
            "       | Downloading package comparative_sentences to\n",
            "       |     /root/nltk_data...\n",
            "       |   Unzipping corpora/comparative_sentences.zip.\n",
            "       | Downloading package comtrans to /root/nltk_data...\n",
            "       | Downloading package conll2000 to /root/nltk_data...\n",
            "       |   Unzipping corpora/conll2000.zip.\n",
            "       | Downloading package conll2002 to /root/nltk_data...\n",
            "       |   Unzipping corpora/conll2002.zip.\n",
            "       | Downloading package conll2007 to /root/nltk_data...\n",
            "       | Downloading package crubadan to /root/nltk_data...\n",
            "       |   Unzipping corpora/crubadan.zip.\n",
            "       | Downloading package dependency_treebank to /root/nltk_data...\n",
            "       |   Unzipping corpora/dependency_treebank.zip.\n",
            "       | Downloading package dolch to /root/nltk_data...\n",
            "       |   Unzipping corpora/dolch.zip.\n",
            "       | Downloading package europarl_raw to /root/nltk_data...\n",
            "       |   Unzipping corpora/europarl_raw.zip.\n",
            "       | Downloading package floresta to /root/nltk_data...\n",
            "       |   Unzipping corpora/floresta.zip.\n",
            "       | Downloading package framenet_v15 to /root/nltk_data...\n",
            "       |   Unzipping corpora/framenet_v15.zip.\n",
            "       | Downloading package framenet_v17 to /root/nltk_data...\n",
            "       |   Unzipping corpora/framenet_v17.zip.\n",
            "       | Downloading package gazetteers to /root/nltk_data...\n",
            "       |   Unzipping corpora/gazetteers.zip.\n",
            "       | Downloading package genesis to /root/nltk_data...\n",
            "       |   Unzipping corpora/genesis.zip.\n",
            "       | Downloading package gutenberg to /root/nltk_data...\n",
            "       |   Unzipping corpora/gutenberg.zip.\n",
            "       | Downloading package ieer to /root/nltk_data...\n",
            "       |   Unzipping corpora/ieer.zip.\n",
            "       | Downloading package inaugural to /root/nltk_data...\n",
            "       |   Unzipping corpora/inaugural.zip.\n",
            "       | Downloading package indian to /root/nltk_data...\n",
            "       |   Unzipping corpora/indian.zip.\n",
            "       | Downloading package jeita to /root/nltk_data...\n",
            "       | Downloading package kimmo to /root/nltk_data...\n",
            "       |   Unzipping corpora/kimmo.zip.\n",
            "       | Downloading package knbc to /root/nltk_data...\n",
            "       | Downloading package lin_thesaurus to /root/nltk_data...\n",
            "       |   Unzipping corpora/lin_thesaurus.zip.\n",
            "       | Downloading package mac_morpho to /root/nltk_data...\n",
            "       |   Unzipping corpora/mac_morpho.zip.\n",
            "       | Downloading package machado to /root/nltk_data...\n",
            "       | Downloading package masc_tagged to /root/nltk_data...\n",
            "       | Downloading package moses_sample to /root/nltk_data...\n",
            "       |   Unzipping models/moses_sample.zip.\n",
            "       | Downloading package movie_reviews to /root/nltk_data...\n",
            "       |   Unzipping corpora/movie_reviews.zip.\n",
            "       | Downloading package names to /root/nltk_data...\n",
            "       |   Unzipping corpora/names.zip.\n",
            "       | Downloading package nombank.1.0 to /root/nltk_data...\n",
            "       | Downloading package nps_chat to /root/nltk_data...\n",
            "       |   Unzipping corpora/nps_chat.zip.\n",
            "       | Downloading package omw to /root/nltk_data...\n",
            "       |   Unzipping corpora/omw.zip.\n",
            "       | Downloading package opinion_lexicon to /root/nltk_data...\n",
            "       |   Unzipping corpora/opinion_lexicon.zip.\n",
            "       | Downloading package paradigms to /root/nltk_data...\n",
            "       |   Unzipping corpora/paradigms.zip.\n",
            "       | Downloading package pil to /root/nltk_data...\n",
            "       |   Unzipping corpora/pil.zip.\n",
            "       | Downloading package pl196x to /root/nltk_data...\n",
            "       |   Unzipping corpora/pl196x.zip.\n",
            "       | Downloading package ppattach to /root/nltk_data...\n",
            "       |   Unzipping corpora/ppattach.zip.\n",
            "       | Downloading package problem_reports to /root/nltk_data...\n",
            "       |   Unzipping corpora/problem_reports.zip.\n",
            "       | Downloading package propbank to /root/nltk_data...\n",
            "       | Downloading package ptb to /root/nltk_data...\n",
            "       |   Unzipping corpora/ptb.zip.\n",
            "       | Downloading package product_reviews_1 to /root/nltk_data...\n",
            "       |   Unzipping corpora/product_reviews_1.zip.\n",
            "       | Downloading package product_reviews_2 to /root/nltk_data...\n",
            "       |   Unzipping corpora/product_reviews_2.zip.\n",
            "       | Downloading package pros_cons to /root/nltk_data...\n",
            "       |   Unzipping corpora/pros_cons.zip.\n",
            "       | Downloading package qc to /root/nltk_data...\n",
            "       |   Unzipping corpora/qc.zip.\n",
            "       | Downloading package reuters to /root/nltk_data...\n",
            "       | Downloading package rte to /root/nltk_data...\n",
            "       |   Unzipping corpora/rte.zip.\n",
            "       | Downloading package semcor to /root/nltk_data...\n",
            "       | Downloading package senseval to /root/nltk_data...\n",
            "       |   Unzipping corpora/senseval.zip.\n",
            "       | Downloading package sentiwordnet to /root/nltk_data...\n",
            "       |   Unzipping corpora/sentiwordnet.zip.\n",
            "       | Downloading package sentence_polarity to /root/nltk_data...\n",
            "       |   Unzipping corpora/sentence_polarity.zip.\n",
            "       | Downloading package shakespeare to /root/nltk_data...\n",
            "       |   Unzipping corpora/shakespeare.zip.\n",
            "       | Downloading package sinica_treebank to /root/nltk_data...\n",
            "       |   Unzipping corpora/sinica_treebank.zip.\n",
            "       | Downloading package smultron to /root/nltk_data...\n",
            "       |   Unzipping corpora/smultron.zip.\n",
            "       | Downloading package state_union to /root/nltk_data...\n",
            "       |   Unzipping corpora/state_union.zip.\n",
            "       | Downloading package stopwords to /root/nltk_data...\n",
            "       |   Unzipping corpora/stopwords.zip.\n",
            "       | Downloading package subjectivity to /root/nltk_data...\n",
            "       |   Unzipping corpora/subjectivity.zip.\n",
            "       | Downloading package swadesh to /root/nltk_data...\n",
            "       |   Unzipping corpora/swadesh.zip.\n",
            "       | Downloading package switchboard to /root/nltk_data...\n",
            "       |   Unzipping corpora/switchboard.zip.\n",
            "       | Downloading package timit to /root/nltk_data...\n",
            "       |   Unzipping corpora/timit.zip.\n",
            "       | Downloading package toolbox to /root/nltk_data...\n",
            "       |   Unzipping corpora/toolbox.zip.\n",
            "       | Downloading package treebank to /root/nltk_data...\n",
            "       |   Unzipping corpora/treebank.zip.\n",
            "       | Downloading package twitter_samples to /root/nltk_data...\n",
            "       |   Unzipping corpora/twitter_samples.zip.\n",
            "       | Downloading package udhr to /root/nltk_data...\n",
            "       |   Unzipping corpora/udhr.zip.\n",
            "       | Downloading package udhr2 to /root/nltk_data...\n",
            "       |   Unzipping corpora/udhr2.zip.\n",
            "       | Downloading package unicode_samples to /root/nltk_data...\n",
            "       |   Unzipping corpora/unicode_samples.zip.\n",
            "       | Downloading package universal_treebanks_v20 to\n",
            "       |     /root/nltk_data...\n",
            "       | Downloading package verbnet to /root/nltk_data...\n",
            "       |   Unzipping corpora/verbnet.zip.\n",
            "       | Downloading package verbnet3 to /root/nltk_data...\n",
            "       |   Unzipping corpora/verbnet3.zip.\n",
            "       | Downloading package webtext to /root/nltk_data...\n",
            "       |   Unzipping corpora/webtext.zip.\n",
            "       | Downloading package wordnet to /root/nltk_data...\n",
            "       |   Unzipping corpora/wordnet.zip.\n",
            "       | Downloading package wordnet_ic to /root/nltk_data...\n",
            "       |   Unzipping corpora/wordnet_ic.zip.\n",
            "       | Downloading package words to /root/nltk_data...\n",
            "       |   Unzipping corpora/words.zip.\n",
            "       | Downloading package ycoe to /root/nltk_data...\n",
            "       |   Unzipping corpora/ycoe.zip.\n",
            "       | Downloading package rslp to /root/nltk_data...\n",
            "       |   Unzipping stemmers/rslp.zip.\n",
            "       | Downloading package maxent_treebank_pos_tagger to\n",
            "       |     /root/nltk_data...\n",
            "       |   Unzipping taggers/maxent_treebank_pos_tagger.zip.\n",
            "       | Downloading package universal_tagset to /root/nltk_data...\n",
            "       |   Unzipping taggers/universal_tagset.zip.\n",
            "       | Downloading package maxent_ne_chunker to /root/nltk_data...\n",
            "       |   Unzipping chunkers/maxent_ne_chunker.zip.\n",
            "       | Downloading package punkt to /root/nltk_data...\n",
            "       |   Unzipping tokenizers/punkt.zip.\n",
            "       | Downloading package book_grammars to /root/nltk_data...\n",
            "       |   Unzipping grammars/book_grammars.zip.\n",
            "       | Downloading package sample_grammars to /root/nltk_data...\n",
            "       |   Unzipping grammars/sample_grammars.zip.\n",
            "       | Downloading package spanish_grammars to /root/nltk_data...\n",
            "       |   Unzipping grammars/spanish_grammars.zip.\n",
            "       | Downloading package basque_grammars to /root/nltk_data...\n",
            "       |   Unzipping grammars/basque_grammars.zip.\n",
            "       | Downloading package large_grammars to /root/nltk_data...\n",
            "       |   Unzipping grammars/large_grammars.zip.\n",
            "       | Downloading package tagsets to /root/nltk_data...\n",
            "       |   Unzipping help/tagsets.zip.\n",
            "       | Downloading package snowball_data to /root/nltk_data...\n",
            "       | Downloading package bllip_wsj_no_aux to /root/nltk_data...\n",
            "       |   Unzipping models/bllip_wsj_no_aux.zip.\n",
            "       | Downloading package word2vec_sample to /root/nltk_data...\n",
            "       |   Unzipping models/word2vec_sample.zip.\n",
            "       | Downloading package panlex_swadesh to /root/nltk_data...\n",
            "       | Downloading package mte_teip5 to /root/nltk_data...\n",
            "       |   Unzipping corpora/mte_teip5.zip.\n",
            "       | Downloading package averaged_perceptron_tagger to\n",
            "       |     /root/nltk_data...\n",
            "       |   Unzipping taggers/averaged_perceptron_tagger.zip.\n",
            "       | Downloading package averaged_perceptron_tagger_ru to\n",
            "       |     /root/nltk_data...\n",
            "       |   Unzipping taggers/averaged_perceptron_tagger_ru.zip.\n",
            "       | Downloading package perluniprops to /root/nltk_data...\n",
            "       |   Unzipping misc/perluniprops.zip.\n",
            "       | Downloading package nonbreaking_prefixes to\n",
            "       |     /root/nltk_data...\n",
            "       |   Unzipping corpora/nonbreaking_prefixes.zip.\n",
            "       | Downloading package vader_lexicon to /root/nltk_data...\n",
            "       | Downloading package porter_test to /root/nltk_data...\n",
            "       |   Unzipping stemmers/porter_test.zip.\n",
            "       | Downloading package wmt15_eval to /root/nltk_data...\n",
            "       |   Unzipping models/wmt15_eval.zip.\n",
            "       | Downloading package mwa_ppdb to /root/nltk_data...\n",
            "       |   Unzipping misc/mwa_ppdb.zip.\n",
            "       | \n",
            "     Done downloading collection all\n",
            "\n",
            "---------------------------------------------------------------------------\n",
            "    d) Download   l) List    u) Update   c) Config   h) Help   q) Quit\n",
            "---------------------------------------------------------------------------\n",
            "Downloader> q\n"
          ]
        },
        {
          "output_type": "execute_result",
          "data": {
            "text/plain": [
              "True"
            ]
          },
          "metadata": {},
          "execution_count": 105
        }
      ]
    },
    {
      "cell_type": "code",
      "metadata": {
        "colab": {
          "base_uri": "https://localhost:8080/"
        },
        "id": "p-o66ojTkZ2Z",
        "outputId": "e2c5216f-b8af-462b-ac2a-7f7ec03e6cc2"
      },
      "source": [
        "#CORPUS:\n",
        "#Mac-Morpho - http://nilc.icmc.usp.br/macmorpho/\n",
        "\n",
        "#comando dir mostra todas as funções do corpous mac_morpho\n",
        "dir(nltk.corpus.mac_morpho)\n"
      ],
      "execution_count": 106,
      "outputs": [
        {
          "output_type": "execute_result",
          "data": {
            "text/plain": [
              "['__class__',\n",
              " '__delattr__',\n",
              " '__dict__',\n",
              " '__dir__',\n",
              " '__doc__',\n",
              " '__eq__',\n",
              " '__format__',\n",
              " '__ge__',\n",
              " '__getattribute__',\n",
              " '__gt__',\n",
              " '__hash__',\n",
              " '__init__',\n",
              " '__init_subclass__',\n",
              " '__le__',\n",
              " '__lt__',\n",
              " '__module__',\n",
              " '__ne__',\n",
              " '__new__',\n",
              " '__reduce__',\n",
              " '__reduce_ex__',\n",
              " '__repr__',\n",
              " '__setattr__',\n",
              " '__sizeof__',\n",
              " '__str__',\n",
              " '__subclasshook__',\n",
              " '__unicode__',\n",
              " '__weakref__',\n",
              " '_encoding',\n",
              " '_fileids',\n",
              " '_get_root',\n",
              " '_para_block_reader',\n",
              " '_read_block',\n",
              " '_root',\n",
              " '_sent_tokenizer',\n",
              " '_sep',\n",
              " '_tagset',\n",
              " '_unload',\n",
              " '_word_tokenizer',\n",
              " 'abspath',\n",
              " 'abspaths',\n",
              " 'citation',\n",
              " 'encoding',\n",
              " 'ensure_loaded',\n",
              " 'fileids',\n",
              " 'license',\n",
              " 'open',\n",
              " 'paras',\n",
              " 'raw',\n",
              " 'readme',\n",
              " 'root',\n",
              " 'sents',\n",
              " 'tagged_paras',\n",
              " 'tagged_sents',\n",
              " 'tagged_words',\n",
              " 'unicode_repr',\n",
              " 'words']"
            ]
          },
          "metadata": {},
          "execution_count": 106
        }
      ]
    },
    {
      "cell_type": "code",
      "metadata": {
        "colab": {
          "base_uri": "https://localhost:8080/"
        },
        "id": "r3AAmvrYltAE",
        "outputId": "e975f560-73b6-44c9-8383-e0eda7b3a1f5"
      },
      "source": [
        "#acessando a função words do corpus mac morpho do nltk\n",
        "#mostrando algumas palavras:\n",
        "nltk.corpus.mac_morpho.words()"
      ],
      "execution_count": 111,
      "outputs": [
        {
          "output_type": "execute_result",
          "data": {
            "text/plain": [
              "['Jersei', 'atinge', 'média', 'de', 'Cr$', '1,4', ...]"
            ]
          },
          "metadata": {},
          "execution_count": 111
        }
      ]
    },
    {
      "cell_type": "code",
      "metadata": {
        "colab": {
          "base_uri": "https://localhost:8080/"
        },
        "id": "fQJ7bfG2lCvS",
        "outputId": "c10d8206-838b-404f-de37-41771648efe4"
      },
      "source": [
        "#contando quantidade total de palavras\n",
        "total_palavras_mac_morpho = len(nltk.corpus.mac_morpho.words())\n",
        "print('Quantidade total de palavras dentro do mac_morpho.words: {}'.format(total_palavras_mac_morpho))"
      ],
      "execution_count": 112,
      "outputs": [
        {
          "output_type": "stream",
          "name": "stdout",
          "text": [
            "Quantidade total de palavras dentro do mac_morpho.words: 1170095\n"
          ]
        }
      ]
    },
    {
      "cell_type": "code",
      "metadata": {
        "colab": {
          "base_uri": "https://localhost:8080/"
        },
        "id": "Gs0Bk2mclV-t",
        "outputId": "b6d0e6d0-5ce0-41a1-efff-85e351520d51"
      },
      "source": [
        "#acessando a função sentenças do corpus mac morpho do nltk\n",
        "#mostrando algumas sentenças:\n",
        "nltk.corpus.mac_morpho.sents() #é como se fosse uma lista"
      ],
      "execution_count": 116,
      "outputs": [
        {
          "output_type": "execute_result",
          "data": {
            "text/plain": [
              "[['Jersei', 'atinge', 'média', 'de', 'Cr$', '1,4', 'milhão', 'em', 'a', 'venda', 'de', 'a', 'Pinhal', 'em', 'São', 'Paulo'], ['Programe', 'sua', 'viagem', 'a', 'a', 'Exposição', 'Nacional', 'do', 'Zebu', ',', 'que', 'começa', 'dia', '25'], ...]"
            ]
          },
          "metadata": {},
          "execution_count": 116
        }
      ]
    },
    {
      "cell_type": "code",
      "metadata": {
        "colab": {
          "base_uri": "https://localhost:8080/"
        },
        "id": "745bIzGimMLB",
        "outputId": "78f95c06-40a4-40a8-c8c8-c5e4a09ff443"
      },
      "source": [
        "nltk.corpus.mac_morpho.sents()[1] #acessando apenas o primeiro"
      ],
      "execution_count": 118,
      "outputs": [
        {
          "output_type": "execute_result",
          "data": {
            "text/plain": [
              "['Programe',\n",
              " 'sua',\n",
              " 'viagem',\n",
              " 'a',\n",
              " 'a',\n",
              " 'Exposição',\n",
              " 'Nacional',\n",
              " 'do',\n",
              " 'Zebu',\n",
              " ',',\n",
              " 'que',\n",
              " 'começa',\n",
              " 'dia',\n",
              " '25']"
            ]
          },
          "metadata": {},
          "execution_count": 118
        }
      ]
    },
    {
      "cell_type": "code",
      "metadata": {
        "colab": {
          "base_uri": "https://localhost:8080/"
        },
        "id": "ldgHGPPNpgFl",
        "outputId": "07ef1fff-1ab9-4515-8641-1d68e1e4264f"
      },
      "source": [
        "#trazendo as etiquetas tagged_words\n",
        "nltk.corpus.mac_morpho.tagged_words() "
      ],
      "execution_count": 123,
      "outputs": [
        {
          "output_type": "execute_result",
          "data": {
            "text/plain": [
              "[('Jersei', 'N'), ('atinge', 'V'), ('média', 'N'), ...]"
            ]
          },
          "metadata": {},
          "execution_count": 123
        }
      ]
    },
    {
      "cell_type": "code",
      "metadata": {
        "colab": {
          "base_uri": "https://localhost:8080/"
        },
        "id": "VUNfQJsIwc5X",
        "outputId": "a461b215-6d99-4e44-830a-db101fb583ae"
      },
      "source": [
        "#TOKENIZAR SEMELHANTE AO SPLIT word_tokenize\n",
        "texto = 'O jogador que esta de camisa verde e 10, marcou o gol da vitoria'\n",
        "nltk.word_tokenize(texto)"
      ],
      "execution_count": 129,
      "outputs": [
        {
          "output_type": "execute_result",
          "data": {
            "text/plain": [
              "['O',\n",
              " 'jogador',\n",
              " 'que',\n",
              " 'esta',\n",
              " 'de',\n",
              " 'camisa',\n",
              " 'verde',\n",
              " 'e',\n",
              " '10',\n",
              " ',',\n",
              " 'marcou',\n",
              " 'o',\n",
              " 'gol',\n",
              " 'da',\n",
              " 'vitoria']"
            ]
          },
          "metadata": {},
          "execution_count": 129
        }
      ]
    },
    {
      "cell_type": "code",
      "metadata": {
        "id": "Dkf5v_UW2CId"
      },
      "source": [
        "#EXPRESSÕES REGULARES\n",
        "# https://www.w3schools.com/python/python_regex.asp"
      ],
      "execution_count": null,
      "outputs": []
    },
    {
      "cell_type": "code",
      "metadata": {
        "colab": {
          "base_uri": "https://localhost:8080/"
        },
        "id": "yfGfhe-s2EBF",
        "outputId": "43f49c7c-007b-4404-9e49-e9c8517d0a6f"
      },
      "source": [
        "from nltk.tokenize import RegexpTokenizer\n",
        "texto = 'O jogador, que esta de camisa verde e 10, marcou o gol da vitoria'\n",
        "print(texto)"
      ],
      "execution_count": 140,
      "outputs": [
        {
          "output_type": "stream",
          "name": "stdout",
          "text": [
            "O jogador, que esta de camisa verde e 10, marcou o gol da vitoria\n"
          ]
        }
      ]
    },
    {
      "cell_type": "code",
      "metadata": {
        "colab": {
          "base_uri": "https://localhost:8080/"
        },
        "id": "OnbM_5DZ3DpL",
        "outputId": "2ba90128-e582-419f-dffa-20c1dd52cedc"
      },
      "source": [
        "#Removendo pontações , e . como por \\w+\n",
        "tokenizer = RegexpTokenizer(r'\\w+') # \\w Retorna todas as palavras exceto caracteres\n",
        "substitui_caracteres = tokenizer.tokenize(texto) \n",
        "print(substitui_caracteres)"
      ],
      "execution_count": 155,
      "outputs": [
        {
          "output_type": "stream",
          "name": "stdout",
          "text": [
            "['O', 'jogador', 'que', 'esta', 'de', 'camisa', 'verde', 'e', '10', 'marcou', 'o', 'gol', 'da', 'vitoria']\n"
          ]
        }
      ]
    },
    {
      "cell_type": "code",
      "metadata": {
        "colab": {
          "base_uri": "https://localhost:8080/"
        },
        "id": "KBJoxzzA4iEM",
        "outputId": "e166d283-5d50-4d18-9577-c9d6933013c3"
      },
      "source": [
        "#Removendo numeros e pontuações\n",
        "tokenizer = RegexpTokenizer(r'[a-zA-Z]\\w+')\n",
        "substitui_numero_letra = tokenizer.tokenize(texto)\n",
        "print(substitui_numero_letra)\n"
      ],
      "execution_count": 149,
      "outputs": [
        {
          "output_type": "stream",
          "name": "stdout",
          "text": [
            "['jogador', 'que', 'esta', 'de', 'camisa', 'verde', 'marcou', 'gol', 'da', 'vitoria']\n"
          ]
        }
      ]
    },
    {
      "cell_type": "code",
      "metadata": {
        "colab": {
          "base_uri": "https://localhost:8080/"
        },
        "id": "wlaokY0PD3vu",
        "outputId": "9ab0e35c-ea1a-4926-978b-f08c0dd92144"
      },
      "source": [
        "#Removendo pontuação e numeros\n",
        "texto = 'Murilo que está estudando Python vai receber a nota 10, porque o Murilo está realmente estudando bastante bastante e bem'\n",
        "tokenizer = RegexpTokenizer(r'[a-zA-Z]\\w+')\n",
        "substitui_numero_letra = tokenizer.tokenize(texto.upper()) #transforma em lista\n",
        "\n",
        "#transformando em um texto\n",
        "novo_texto = ','.join(substitui_numero_letra)\n",
        "novo_texto = novo_texto.replace(',', ' ')\n",
        "print(novo_texto)\n",
        "\n",
        "#Frequencia de palavras nltk.FreqDist\n",
        "lista_texto = nltk.word_tokenize(novo_texto) #criando lista\n",
        "\n",
        "frequencia_palavras = nltk.FreqDist(lista_texto).most_common()\n",
        "print(frequencia_palavras)\n",
        "\n",
        "inicio = 0\n",
        "\n",
        "#print(frequencia_palavras[14][1])\n",
        "for i in frequencia_palavras:\n",
        "  print('Palavra: \"{}\" | Qtde: {} vezes'.format(frequencia_palavras[inicio][0],frequencia_palavras[inicio][1]))\n",
        "  inicio +=1\n"
      ],
      "execution_count": 201,
      "outputs": [
        {
          "output_type": "stream",
          "name": "stdout",
          "text": [
            "['MURILO', 'QUE', 'ESTÁ', 'ESTUDANDO', 'PYTHON', 'VAI', 'RECEBER', 'NOTA', 'PORQUE', 'MURILO', 'ESTÁ', 'REALMENTE', 'ESTUDANDO', 'BASTANTE', 'BASTANTE', 'BEM']\n",
            "MURILO QUE ESTÁ ESTUDANDO PYTHON VAI RECEBER NOTA PORQUE MURILO ESTÁ REALMENTE ESTUDANDO BASTANTE BASTANTE BEM\n",
            "[('MURILO', 2), ('ESTÁ', 2), ('ESTUDANDO', 2), ('BASTANTE', 2), ('QUE', 1), ('PYTHON', 1), ('VAI', 1), ('RECEBER', 1), ('NOTA', 1), ('PORQUE', 1), ('REALMENTE', 1), ('BEM', 1)]\n",
            "Palavra: \"MURILO\" | Qtde: 2 vezes\n",
            "Palavra: \"ESTÁ\" | Qtde: 2 vezes\n",
            "Palavra: \"ESTUDANDO\" | Qtde: 2 vezes\n",
            "Palavra: \"BASTANTE\" | Qtde: 2 vezes\n",
            "Palavra: \"QUE\" | Qtde: 1 vezes\n",
            "Palavra: \"PYTHON\" | Qtde: 1 vezes\n",
            "Palavra: \"VAI\" | Qtde: 1 vezes\n",
            "Palavra: \"RECEBER\" | Qtde: 1 vezes\n",
            "Palavra: \"NOTA\" | Qtde: 1 vezes\n",
            "Palavra: \"PORQUE\" | Qtde: 1 vezes\n",
            "Palavra: \"REALMENTE\" | Qtde: 1 vezes\n",
            "Palavra: \"BEM\" | Qtde: 1 vezes\n"
          ]
        }
      ]
    },
    {
      "cell_type": "code",
      "metadata": {
        "colab": {
          "base_uri": "https://localhost:8080/"
        },
        "id": "E-wGygToP98A",
        "outputId": "91769d4a-47eb-4d19-dfaa-f829fe805084"
      },
      "source": [
        "#Frequencia de palavras nltk.FreqDist\n",
        "print(lista_texto)\n",
        "frequencia_palavras = nltk.FreqDist(lista_texto).most_common(3) #especificando TOP 3\n",
        "print(frequencia_palavras)"
      ],
      "execution_count": 204,
      "outputs": [
        {
          "output_type": "stream",
          "name": "stdout",
          "text": [
            "['MURILO', 'QUE', 'ESTÁ', 'ESTUDANDO', 'PYTHON', 'VAI', 'RECEBER', 'NOTA', 'PORQUE', 'MURILO', 'ESTÁ', 'REALMENTE', 'ESTUDANDO', 'BASTANTE', 'BASTANTE', 'BEM']\n",
            "[('MURILO', 2), ('ESTÁ', 2), ('ESTUDANDO', 2)]\n"
          ]
        }
      ]
    }
  ]
}