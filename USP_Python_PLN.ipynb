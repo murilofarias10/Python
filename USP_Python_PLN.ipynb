{
  "nbformat": 4,
  "nbformat_minor": 0,
  "metadata": {
    "colab": {
      "name": "USP_Python_PLN",
      "provenance": [],
      "collapsed_sections": [],
      "mount_file_id": "1YfIdr-wGvLSlLi63nUxBAupV9vtwCcCq",
      "authorship_tag": "ABX9TyPZjDMBP12uZhNK9xjFux9b",
      "include_colab_link": true
    },
    "kernelspec": {
      "name": "python3",
      "display_name": "Python 3"
    },
    "language_info": {
      "name": "python"
    }
  },
  "cells": [
    {
      "cell_type": "markdown",
      "metadata": {
        "id": "view-in-github",
        "colab_type": "text"
      },
      "source": [
        "<a href=\"https://colab.research.google.com/github/murilofarias10/AnaliseComPython/blob/main/USP_Python_PLN.ipynb\" target=\"_parent\"><img src=\"https://colab.research.google.com/assets/colab-badge.svg\" alt=\"Open In Colab\"/></a>"
      ]
    },
    {
      "cell_type": "code",
      "metadata": {
        "id": "ReFSXEo1-o_y"
      },
      "source": [
        "#Processamento de Linguagem Natural (PLN)\n",
        "#A área de Processamento de Linguagem Natural (PLN), ramo de pesquisa da Inteligência Artificial, \n",
        "#tem sido muito demandada pelo mercado de trabalho e pela academia, sendo responsável pelo desenvolvimento de recursos, \n",
        "#ferramentas e aplicações de tradução automática, revisão ortográfica e gramatical, análise de sentimentos e reconhecimento e \n",
        "#síntese de fala, entre diversas outras tecnologias de amplo uso pela sociedade. Assim como em muitas frentes de trabalho, \n",
        "#a linguagem de programação Python é muito utilizada em PLN, contando com funcionalidades que facilitam o processamento de textos e \n",
        "#com alguns pacotes especializados que dinamizam o processo de desenvolvimento de aplicações.\n",
        "#pacotes NLTK e spaCy"
      ],
      "execution_count": null,
      "outputs": []
    },
    {
      "cell_type": "code",
      "metadata": {
        "id": "gUn9sZUY1r-v"
      },
      "source": [
        "#1º atualizando a versão do spacy \n",
        "!pip install --upgrade spacy"
      ],
      "execution_count": null,
      "outputs": []
    },
    {
      "cell_type": "code",
      "metadata": {
        "id": "pk1baOprzc7O"
      },
      "source": [
        "#2º importar biblioteca\n",
        "import spacy "
      ],
      "execution_count": null,
      "outputs": []
    },
    {
      "cell_type": "code",
      "metadata": {
        "colab": {
          "base_uri": "https://localhost:8080/"
        },
        "id": "uLMNIGOb_toA",
        "outputId": "06fea729-8968-4c4d-d41e-d621b4bf5905"
      },
      "source": [
        "#baixando o pacote pt_core_news_lg\n",
        "!python -m spacy download pt_core_news_lg"
      ],
      "execution_count": null,
      "outputs": [
        {
          "output_type": "stream",
          "name": "stdout",
          "text": [
            "Collecting pt-core-news-lg==3.1.0\n",
            "  Downloading https://github.com/explosion/spacy-models/releases/download/pt_core_news_lg-3.1.0/pt_core_news_lg-3.1.0-py3-none-any.whl (576.7 MB)\n",
            "\u001b[K     |████████████████████████████████| 576.7 MB 9.8 kB/s \n",
            "\u001b[?25hRequirement already satisfied: spacy<3.2.0,>=3.1.0 in /usr/local/lib/python3.7/dist-packages (from pt-core-news-lg==3.1.0) (3.1.2)\n",
            "Requirement already satisfied: pathy>=0.3.5 in /usr/local/lib/python3.7/dist-packages (from spacy<3.2.0,>=3.1.0->pt-core-news-lg==3.1.0) (0.6.0)\n",
            "Requirement already satisfied: catalogue<2.1.0,>=2.0.4 in /usr/local/lib/python3.7/dist-packages (from spacy<3.2.0,>=3.1.0->pt-core-news-lg==3.1.0) (2.0.6)\n",
            "Requirement already satisfied: numpy>=1.15.0 in /usr/local/lib/python3.7/dist-packages (from spacy<3.2.0,>=3.1.0->pt-core-news-lg==3.1.0) (1.19.5)\n",
            "Requirement already satisfied: blis<0.8.0,>=0.4.0 in /usr/local/lib/python3.7/dist-packages (from spacy<3.2.0,>=3.1.0->pt-core-news-lg==3.1.0) (0.4.1)\n",
            "Requirement already satisfied: typer<0.4.0,>=0.3.0 in /usr/local/lib/python3.7/dist-packages (from spacy<3.2.0,>=3.1.0->pt-core-news-lg==3.1.0) (0.3.2)\n",
            "Requirement already satisfied: pydantic!=1.8,!=1.8.1,<1.9.0,>=1.7.4 in /usr/local/lib/python3.7/dist-packages (from spacy<3.2.0,>=3.1.0->pt-core-news-lg==3.1.0) (1.8.2)\n",
            "Requirement already satisfied: preshed<3.1.0,>=3.0.2 in /usr/local/lib/python3.7/dist-packages (from spacy<3.2.0,>=3.1.0->pt-core-news-lg==3.1.0) (3.0.5)\n",
            "Requirement already satisfied: spacy-legacy<3.1.0,>=3.0.7 in /usr/local/lib/python3.7/dist-packages (from spacy<3.2.0,>=3.1.0->pt-core-news-lg==3.1.0) (3.0.8)\n",
            "Requirement already satisfied: requests<3.0.0,>=2.13.0 in /usr/local/lib/python3.7/dist-packages (from spacy<3.2.0,>=3.1.0->pt-core-news-lg==3.1.0) (2.23.0)\n",
            "Requirement already satisfied: jinja2 in /usr/local/lib/python3.7/dist-packages (from spacy<3.2.0,>=3.1.0->pt-core-news-lg==3.1.0) (2.11.3)\n",
            "Requirement already satisfied: srsly<3.0.0,>=2.4.1 in /usr/local/lib/python3.7/dist-packages (from spacy<3.2.0,>=3.1.0->pt-core-news-lg==3.1.0) (2.4.1)\n",
            "Requirement already satisfied: setuptools in /usr/local/lib/python3.7/dist-packages (from spacy<3.2.0,>=3.1.0->pt-core-news-lg==3.1.0) (57.4.0)\n",
            "Requirement already satisfied: packaging>=20.0 in /usr/local/lib/python3.7/dist-packages (from spacy<3.2.0,>=3.1.0->pt-core-news-lg==3.1.0) (21.0)\n",
            "Requirement already satisfied: murmurhash<1.1.0,>=0.28.0 in /usr/local/lib/python3.7/dist-packages (from spacy<3.2.0,>=3.1.0->pt-core-news-lg==3.1.0) (1.0.5)\n",
            "Requirement already satisfied: typing-extensions<4.0.0.0,>=3.7.4 in /usr/local/lib/python3.7/dist-packages (from spacy<3.2.0,>=3.1.0->pt-core-news-lg==3.1.0) (3.7.4.3)\n",
            "Requirement already satisfied: tqdm<5.0.0,>=4.38.0 in /usr/local/lib/python3.7/dist-packages (from spacy<3.2.0,>=3.1.0->pt-core-news-lg==3.1.0) (4.62.0)\n",
            "Requirement already satisfied: thinc<8.1.0,>=8.0.8 in /usr/local/lib/python3.7/dist-packages (from spacy<3.2.0,>=3.1.0->pt-core-news-lg==3.1.0) (8.0.10)\n",
            "Requirement already satisfied: cymem<2.1.0,>=2.0.2 in /usr/local/lib/python3.7/dist-packages (from spacy<3.2.0,>=3.1.0->pt-core-news-lg==3.1.0) (2.0.5)\n",
            "Requirement already satisfied: wasabi<1.1.0,>=0.8.1 in /usr/local/lib/python3.7/dist-packages (from spacy<3.2.0,>=3.1.0->pt-core-news-lg==3.1.0) (0.8.2)\n",
            "Requirement already satisfied: zipp>=0.5 in /usr/local/lib/python3.7/dist-packages (from catalogue<2.1.0,>=2.0.4->spacy<3.2.0,>=3.1.0->pt-core-news-lg==3.1.0) (3.5.0)\n",
            "Requirement already satisfied: pyparsing>=2.0.2 in /usr/local/lib/python3.7/dist-packages (from packaging>=20.0->spacy<3.2.0,>=3.1.0->pt-core-news-lg==3.1.0) (2.4.7)\n",
            "Requirement already satisfied: smart-open<6.0.0,>=5.0.0 in /usr/local/lib/python3.7/dist-packages (from pathy>=0.3.5->spacy<3.2.0,>=3.1.0->pt-core-news-lg==3.1.0) (5.1.0)\n",
            "Requirement already satisfied: idna<3,>=2.5 in /usr/local/lib/python3.7/dist-packages (from requests<3.0.0,>=2.13.0->spacy<3.2.0,>=3.1.0->pt-core-news-lg==3.1.0) (2.10)\n",
            "Requirement already satisfied: certifi>=2017.4.17 in /usr/local/lib/python3.7/dist-packages (from requests<3.0.0,>=2.13.0->spacy<3.2.0,>=3.1.0->pt-core-news-lg==3.1.0) (2021.5.30)\n",
            "Requirement already satisfied: urllib3!=1.25.0,!=1.25.1,<1.26,>=1.21.1 in /usr/local/lib/python3.7/dist-packages (from requests<3.0.0,>=2.13.0->spacy<3.2.0,>=3.1.0->pt-core-news-lg==3.1.0) (1.24.3)\n",
            "Requirement already satisfied: chardet<4,>=3.0.2 in /usr/local/lib/python3.7/dist-packages (from requests<3.0.0,>=2.13.0->spacy<3.2.0,>=3.1.0->pt-core-news-lg==3.1.0) (3.0.4)\n",
            "Requirement already satisfied: click<7.2.0,>=7.1.1 in /usr/local/lib/python3.7/dist-packages (from typer<0.4.0,>=0.3.0->spacy<3.2.0,>=3.1.0->pt-core-news-lg==3.1.0) (7.1.2)\n",
            "Requirement already satisfied: MarkupSafe>=0.23 in /usr/local/lib/python3.7/dist-packages (from jinja2->spacy<3.2.0,>=3.1.0->pt-core-news-lg==3.1.0) (2.0.1)\n",
            "Installing collected packages: pt-core-news-lg\n",
            "Successfully installed pt-core-news-lg-3.1.0\n",
            "\u001b[38;5;2m✔ Download and installation successful\u001b[0m\n",
            "You can now load the package via spacy.load('pt_core_news_lg')\n"
          ]
        }
      ]
    },
    {
      "cell_type": "code",
      "metadata": {
        "colab": {
          "base_uri": "https://localhost:8080/"
        },
        "id": "nh5vXncjFtud",
        "outputId": "10b2fc75-7650-40fe-f843-8cf38c38b8c9"
      },
      "source": [
        "#EXTRAAAAAAAA AULA\n",
        "!python -m spacy download pt_core_news_sm"
      ],
      "execution_count": null,
      "outputs": [
        {
          "output_type": "stream",
          "name": "stdout",
          "text": [
            "Collecting pt-core-news-sm==3.1.0\n",
            "  Downloading https://github.com/explosion/spacy-models/releases/download/pt_core_news_sm-3.1.0/pt_core_news_sm-3.1.0-py3-none-any.whl (21.9 MB)\n",
            "\u001b[K     |████████████████████████████████| 21.9 MB 1.4 MB/s \n",
            "\u001b[?25hRequirement already satisfied: spacy<3.2.0,>=3.1.0 in /usr/local/lib/python3.7/dist-packages (from pt-core-news-sm==3.1.0) (3.1.2)\n",
            "Requirement already satisfied: typing-extensions<4.0.0.0,>=3.7.4 in /usr/local/lib/python3.7/dist-packages (from spacy<3.2.0,>=3.1.0->pt-core-news-sm==3.1.0) (3.7.4.3)\n",
            "Requirement already satisfied: spacy-legacy<3.1.0,>=3.0.7 in /usr/local/lib/python3.7/dist-packages (from spacy<3.2.0,>=3.1.0->pt-core-news-sm==3.1.0) (3.0.8)\n",
            "Requirement already satisfied: numpy>=1.15.0 in /usr/local/lib/python3.7/dist-packages (from spacy<3.2.0,>=3.1.0->pt-core-news-sm==3.1.0) (1.19.5)\n",
            "Requirement already satisfied: pathy>=0.3.5 in /usr/local/lib/python3.7/dist-packages (from spacy<3.2.0,>=3.1.0->pt-core-news-sm==3.1.0) (0.6.0)\n",
            "Requirement already satisfied: srsly<3.0.0,>=2.4.1 in /usr/local/lib/python3.7/dist-packages (from spacy<3.2.0,>=3.1.0->pt-core-news-sm==3.1.0) (2.4.1)\n",
            "Requirement already satisfied: blis<0.8.0,>=0.4.0 in /usr/local/lib/python3.7/dist-packages (from spacy<3.2.0,>=3.1.0->pt-core-news-sm==3.1.0) (0.4.1)\n",
            "Requirement already satisfied: pydantic!=1.8,!=1.8.1,<1.9.0,>=1.7.4 in /usr/local/lib/python3.7/dist-packages (from spacy<3.2.0,>=3.1.0->pt-core-news-sm==3.1.0) (1.8.2)\n",
            "Requirement already satisfied: packaging>=20.0 in /usr/local/lib/python3.7/dist-packages (from spacy<3.2.0,>=3.1.0->pt-core-news-sm==3.1.0) (21.0)\n",
            "Requirement already satisfied: jinja2 in /usr/local/lib/python3.7/dist-packages (from spacy<3.2.0,>=3.1.0->pt-core-news-sm==3.1.0) (2.11.3)\n",
            "Requirement already satisfied: catalogue<2.1.0,>=2.0.4 in /usr/local/lib/python3.7/dist-packages (from spacy<3.2.0,>=3.1.0->pt-core-news-sm==3.1.0) (2.0.6)\n",
            "Requirement already satisfied: setuptools in /usr/local/lib/python3.7/dist-packages (from spacy<3.2.0,>=3.1.0->pt-core-news-sm==3.1.0) (57.4.0)\n",
            "Requirement already satisfied: wasabi<1.1.0,>=0.8.1 in /usr/local/lib/python3.7/dist-packages (from spacy<3.2.0,>=3.1.0->pt-core-news-sm==3.1.0) (0.8.2)\n",
            "Requirement already satisfied: typer<0.4.0,>=0.3.0 in /usr/local/lib/python3.7/dist-packages (from spacy<3.2.0,>=3.1.0->pt-core-news-sm==3.1.0) (0.3.2)\n",
            "Requirement already satisfied: preshed<3.1.0,>=3.0.2 in /usr/local/lib/python3.7/dist-packages (from spacy<3.2.0,>=3.1.0->pt-core-news-sm==3.1.0) (3.0.5)\n",
            "Requirement already satisfied: requests<3.0.0,>=2.13.0 in /usr/local/lib/python3.7/dist-packages (from spacy<3.2.0,>=3.1.0->pt-core-news-sm==3.1.0) (2.23.0)\n",
            "Requirement already satisfied: murmurhash<1.1.0,>=0.28.0 in /usr/local/lib/python3.7/dist-packages (from spacy<3.2.0,>=3.1.0->pt-core-news-sm==3.1.0) (1.0.5)\n",
            "Requirement already satisfied: tqdm<5.0.0,>=4.38.0 in /usr/local/lib/python3.7/dist-packages (from spacy<3.2.0,>=3.1.0->pt-core-news-sm==3.1.0) (4.62.0)\n",
            "Requirement already satisfied: cymem<2.1.0,>=2.0.2 in /usr/local/lib/python3.7/dist-packages (from spacy<3.2.0,>=3.1.0->pt-core-news-sm==3.1.0) (2.0.5)\n",
            "Requirement already satisfied: thinc<8.1.0,>=8.0.8 in /usr/local/lib/python3.7/dist-packages (from spacy<3.2.0,>=3.1.0->pt-core-news-sm==3.1.0) (8.0.10)\n",
            "Requirement already satisfied: zipp>=0.5 in /usr/local/lib/python3.7/dist-packages (from catalogue<2.1.0,>=2.0.4->spacy<3.2.0,>=3.1.0->pt-core-news-sm==3.1.0) (3.5.0)\n",
            "Requirement already satisfied: pyparsing>=2.0.2 in /usr/local/lib/python3.7/dist-packages (from packaging>=20.0->spacy<3.2.0,>=3.1.0->pt-core-news-sm==3.1.0) (2.4.7)\n",
            "Requirement already satisfied: smart-open<6.0.0,>=5.0.0 in /usr/local/lib/python3.7/dist-packages (from pathy>=0.3.5->spacy<3.2.0,>=3.1.0->pt-core-news-sm==3.1.0) (5.1.0)\n",
            "Requirement already satisfied: certifi>=2017.4.17 in /usr/local/lib/python3.7/dist-packages (from requests<3.0.0,>=2.13.0->spacy<3.2.0,>=3.1.0->pt-core-news-sm==3.1.0) (2021.5.30)\n",
            "Requirement already satisfied: idna<3,>=2.5 in /usr/local/lib/python3.7/dist-packages (from requests<3.0.0,>=2.13.0->spacy<3.2.0,>=3.1.0->pt-core-news-sm==3.1.0) (2.10)\n",
            "Requirement already satisfied: urllib3!=1.25.0,!=1.25.1,<1.26,>=1.21.1 in /usr/local/lib/python3.7/dist-packages (from requests<3.0.0,>=2.13.0->spacy<3.2.0,>=3.1.0->pt-core-news-sm==3.1.0) (1.24.3)\n",
            "Requirement already satisfied: chardet<4,>=3.0.2 in /usr/local/lib/python3.7/dist-packages (from requests<3.0.0,>=2.13.0->spacy<3.2.0,>=3.1.0->pt-core-news-sm==3.1.0) (3.0.4)\n",
            "Requirement already satisfied: click<7.2.0,>=7.1.1 in /usr/local/lib/python3.7/dist-packages (from typer<0.4.0,>=0.3.0->spacy<3.2.0,>=3.1.0->pt-core-news-sm==3.1.0) (7.1.2)\n",
            "Requirement already satisfied: MarkupSafe>=0.23 in /usr/local/lib/python3.7/dist-packages (from jinja2->spacy<3.2.0,>=3.1.0->pt-core-news-sm==3.1.0) (2.0.1)\n",
            "Installing collected packages: pt-core-news-sm\n",
            "  Attempting uninstall: pt-core-news-sm\n",
            "    Found existing installation: pt-core-news-sm 2.2.5\n",
            "    Uninstalling pt-core-news-sm-2.2.5:\n",
            "      Successfully uninstalled pt-core-news-sm-2.2.5\n",
            "Successfully installed pt-core-news-sm-3.1.0\n",
            "\u001b[38;5;2m✔ Download and installation successful\u001b[0m\n",
            "You can now load the package via spacy.load('pt_core_news_sm')\n"
          ]
        }
      ]
    },
    {
      "cell_type": "code",
      "metadata": {
        "id": "SKDyXcOuEhsW"
      },
      "source": [
        "# \n",
        "from spacy.lang.pt.examples import sentences "
      ],
      "execution_count": null,
      "outputs": []
    },
    {
      "cell_type": "code",
      "metadata": {
        "id": "WKnYRIQLLdlh"
      },
      "source": [
        "#https://universaldependencies.org/u/pos/all.html#al-u-pos/AUX\n",
        "\n",
        "#https://spacy.io/models/pt\n",
        "\n",
        "  #ADJ ADJETIVO = Adjetivos são palavras que normalmente modificam substantivos e especificam suas propriedades ou atributos\n",
        "    #exemplo: grande, velho, verde, primeiro, segundo\n",
        "\n",
        "  #ADV ADVERBIO = Advérbios são palavras que normalmente modificam os verbos  tempo, lugar, direção ou maneira\n",
        "    #exemplo: muito, extamente, amanhã, nunca\n",
        "\n",
        "  #ADP ADPOSIÇÃO = Adposição é um termo abrangente para preposições e pós-posições.\n",
        "    #exemplo: no, para, decorrer\n",
        "\n",
        "  #AUX AUXILIAR = Um auxiliar é uma palavra funcional que acompanha o verbo lexical de uma frase verbal \n",
        "    #exemplo: deve, é \n",
        "\n",
        "  #CCONJ: conjunção coordenativa = Uma conjunção coordenadora é uma palavra que liga palavras ou constituintes maiores sem subordinar sintaticamente um ao outro \n",
        "    #exemplo: e, ou, mas\n",
        "\n",
        "  #DET: DETERMINANTE = Determinantes são palavras que modificam substantivos ou sintagmas nominais e expressam a referência do sintagma nominal no contexto.\n",
        "    #exemplo: este, qual , há\n",
        "\n",
        "  #INTJ INTERJEIÇÃO = Uma interjeição é uma palavra usada na maioria das vezes como uma exclamação ou parte de uma exclamação.\n",
        "    #exemplo: bravo, olá\n",
        "\n",
        "  #NUM NUMERAL = expressa um número e uma relação com o número\n",
        "    #exemplo: 0,1,2,1000, I, IV, MMXIV\n",
        "\n",
        "  #NOUN SUBSTANTIVO = classe gramatical que normalmente denota uma pessoa, lugar, coisa, animal ou ideia.\n",
        "    #exemplo: garota, gato, beleza\n",
        "    \n",
        "  #PART PARTICULA = Partículas são palavras funcionais que devem ser associadas a outra palavra ou frase para transmitir significado\n",
        "    #exemplo: 's , não, \n",
        "\n",
        "  #PUNCT PONTUAÇÃO = Os sinais de pontuação são caracteres não alfabéticos e grupos de caracteres usados\n",
        "    #exemplo: . , ()\n",
        "\n",
        "  #PROPN PRONOME = substantivo próprio é um substantivo (ou palavra de conteúdo nominal) \n",
        "    #exemplo: eu, voce, ela, todos, tudo, ninguem, nada\n",
        "\n",
        "  #SCONJ CONJUNÇÂO SUBORDINADA =  é uma conjunção que liga construções tornando uma delas um constituinte da outra\n",
        "    #exemplo: que, e se, enquanto\n",
        "\n",
        "  #SYM SIMBOLO = Um símbolo é uma entidade semelhante a uma palavra que difere das palavras comuns pela forma\n",
        "    #exemplo: $, %, +, -\n",
        "\n",
        "  #VERB VERBO = Um verbo é um membro da classe sintática de palavras que normalmente sinalizam eventos e ações\n",
        "    #exemplo: correr, comeu, correndo\n",
        "\n",
        "  #X OUTROS = A tag Xé usada para palavras que, por algum motivo, não podem ser atribuídas a uma categoria de classe gramatical real\n",
        "    #exemplo: xfgh , lkksas\n",
        "  "
      ],
      "execution_count": null,
      "outputs": []
    },
    {
      "cell_type": "code",
      "metadata": {
        "id": "VbJku4FZEp5m"
      },
      "source": [
        "import spacy"
      ],
      "execution_count": null,
      "outputs": []
    },
    {
      "cell_type": "code",
      "metadata": {
        "id": "XY3Shp_9GFfC"
      },
      "source": [
        "nlp = spacy.load(\"pt_core_news_sm\")"
      ],
      "execution_count": null,
      "outputs": []
    },
    {
      "cell_type": "code",
      "metadata": {
        "id": "cy6b6jHhGIb0"
      },
      "source": [
        "documento = nlp(\"O xfgh comeu + enquanto voce, não garota 10 bravo há mas deve decorrer exatamente primeiro\")"
      ],
      "execution_count": null,
      "outputs": []
    },
    {
      "cell_type": "code",
      "metadata": {
        "colab": {
          "base_uri": "https://localhost:8080/"
        },
        "id": "5ojhV3QUGTuS",
        "outputId": "e536dec7-c5d4-4e37-dcd2-a7a9a8a473f0"
      },
      "source": [
        "for palavra in documento:\n",
        "  print(palavra.text, palavra.pos_)\n",
        "\n",
        "  \n",
        "  \n",
        "\n",
        "\n"
      ],
      "execution_count": null,
      "outputs": [
        {
          "output_type": "stream",
          "name": "stdout",
          "text": [
            "O DET\n",
            "xfgh NOUN\n",
            "comeu VERB\n",
            "+ NOUN\n",
            "enquanto ADP\n",
            "voce NOUN\n",
            ", PUNCT\n",
            "não ADV\n",
            "garota VERB\n",
            "10 NUM\n",
            "bravo VERB\n",
            "há VERB\n",
            "mas CCONJ\n",
            "deve VERB\n",
            "decorrer VERB\n",
            "exatamente ADV\n",
            "primeiro ADV\n"
          ]
        }
      ]
    },
    {
      "cell_type": "code",
      "metadata": {
        "id": "5J8d1kJvMAGx"
      },
      "source": [
        "# O DET - DETERMINANTE = Determinantes são palavras que modificam substantivos ou sintagmas \n",
        "# xfgh NOUN - uma pessoa, lugar, coisa, animal ou ideia.\n",
        "# comeu VERB\n",
        "# + NOUN - uma pessoa, lugar, coisa, animal ou ideia.\n",
        "# enquanto ADP\n",
        "# voce NOUN\n",
        "# , PUNCT PONTUAÇÃO\n",
        "# não ADV\n",
        "# garota VERB\n",
        "# 10 NUM\n",
        "# bravo VERB\n",
        "# há VERB\n",
        "# mas CCONJ\n",
        "# deve VERB\n",
        "# decorrer VERB\n",
        "# exatamente ADV Advérbios são palavras que normalmente modificam os verbos\n",
        "# primeiro ADV"
      ],
      "execution_count": null,
      "outputs": []
    },
    {
      "cell_type": "code",
      "metadata": {
        "id": "Mt77x0BAaUYK"
      },
      "source": [
        "!pip install --upgrade spacy"
      ],
      "execution_count": null,
      "outputs": []
    },
    {
      "cell_type": "code",
      "metadata": {
        "id": "NLToms2kaDiX"
      },
      "source": [
        "!python -m spacy download pt_core_news_sm"
      ],
      "execution_count": null,
      "outputs": []
    },
    {
      "cell_type": "code",
      "metadata": {
        "colab": {
          "base_uri": "https://localhost:8080/"
        },
        "id": "uvTUiQ34ZgzL",
        "outputId": "4b78d7f9-42b8-4429-e1a9-d56c6a62f405"
      },
      "source": [
        "\n",
        "import spacy\n",
        "from spacy.lang.pt.examples import sentences \n",
        "nlp = spacy.load(\"pt_core_news_sm\") #pt_core_news_lg\n",
        "texto = nlp(\"O Murilo está testando sua primeira análise de PLN para um texto\")\n",
        "for palavra in texto:\n",
        "  print(palavra.text, palavra.pos_)"
      ],
      "execution_count": null,
      "outputs": [
        {
          "output_type": "stream",
          "name": "stdout",
          "text": [
            "O DET\n",
            "Murilo PROPN\n",
            "está AUX\n",
            "testando VERB\n",
            "sua DET\n",
            "primeira ADJ\n",
            "análise NOUN\n",
            "de ADP\n",
            "PLN PROPN\n",
            "para ADP\n",
            "um DET\n",
            "texto NOUN\n"
          ]
        }
      ]
    },
    {
      "cell_type": "code",
      "metadata": {
        "colab": {
          "base_uri": "https://localhost:8080/"
        },
        "id": "cMRYHZ1B8qP6",
        "outputId": "57421418-9957-44bf-c1e4-b621cd0b60da"
      },
      "source": [
        "lista = [1,2,3,4,5]\n",
        "print(lista)"
      ],
      "execution_count": null,
      "outputs": [
        {
          "output_type": "stream",
          "name": "stdout",
          "text": [
            "[1, 2, 3, 4, 5]\n"
          ]
        }
      ]
    },
    {
      "cell_type": "code",
      "metadata": {
        "colab": {
          "base_uri": "https://localhost:8080/"
        },
        "id": "sq_PiDUI8uIx",
        "outputId": "0260ee68-a105-4b84-c72c-1c6ee463d2e0"
      },
      "source": [
        "lista.insert(0,6) #inserir na posição 0 o numero 6\n",
        "print(lista)"
      ],
      "execution_count": null,
      "outputs": [
        {
          "output_type": "stream",
          "name": "stdout",
          "text": [
            "[6, 1, 2, 3, 4, 5]\n"
          ]
        }
      ]
    },
    {
      "cell_type": "code",
      "metadata": {
        "colab": {
          "base_uri": "https://localhost:8080/"
        },
        "id": "hYqqQhr2-sBA",
        "outputId": "8d42dd52-22f3-44c5-a724-71b33c60ebd9"
      },
      "source": [
        "lista.append(-1) #insere um novo elemento na lista\n",
        "print(lista)"
      ],
      "execution_count": null,
      "outputs": [
        {
          "output_type": "stream",
          "name": "stdout",
          "text": [
            "[-1, 1, 2, 3, 4, 5, 6, -1, -1]\n"
          ]
        }
      ]
    },
    {
      "cell_type": "code",
      "metadata": {
        "colab": {
          "base_uri": "https://localhost:8080/"
        },
        "id": "RP-Vx_oj-19Z",
        "outputId": "b867a15f-cb56-41ef-9af7-a200b5a532f9"
      },
      "source": [
        "lista.reverse() #Invertendo uma lista\n",
        "print(lista)"
      ],
      "execution_count": null,
      "outputs": [
        {
          "output_type": "stream",
          "name": "stdout",
          "text": [
            "[-1, 5, 4, 3, 2, 1, 6]\n"
          ]
        }
      ]
    },
    {
      "cell_type": "code",
      "metadata": {
        "colab": {
          "base_uri": "https://localhost:8080/"
        },
        "id": "_Fb33Oc2AKH-",
        "outputId": "a9117837-7934-4566-eda5-7c81e4f2d784"
      },
      "source": [
        "lista.sort() #orderna uma lista\n",
        "print(lista)"
      ],
      "execution_count": null,
      "outputs": [
        {
          "output_type": "stream",
          "name": "stdout",
          "text": [
            "[-1, -1, -1, 1, 2, 3, 4, 5, 6]\n"
          ]
        }
      ]
    },
    {
      "cell_type": "code",
      "metadata": {
        "colab": {
          "base_uri": "https://localhost:8080/"
        },
        "id": "DrSwN8ODCsFo",
        "outputId": "c6c60014-ab93-4dff-884c-5128874a4bb5"
      },
      "source": [
        "lista_nova = set(lista) #passando a lista para tipo set onde não existe duplicados\n",
        "print(lista_nova) #lista nova sem duplicados\n",
        "print(lista) #lista com duplicados\n"
      ],
      "execution_count": null,
      "outputs": [
        {
          "output_type": "stream",
          "name": "stdout",
          "text": [
            "{1, 2, 3, 4, 5, 6, -1}\n",
            "[-1, -1, -1, 1, 2, 3, 4, 5, 6]\n"
          ]
        }
      ]
    },
    {
      "cell_type": "code",
      "metadata": {
        "colab": {
          "base_uri": "https://localhost:8080/"
        },
        "id": "Rqq4yDc_AvkX",
        "outputId": "e95888bd-66c7-408a-e456-74e147e9c83f"
      },
      "source": [
        "for i in lista_nova:\n",
        "  print(' {} aparece {} vezes na lista'.format(i, (lista.count(i)))) #contando elementos da lista_nova que aparecem na lista\n",
        "  "
      ],
      "execution_count": null,
      "outputs": [
        {
          "output_type": "stream",
          "name": "stdout",
          "text": [
            " 1 aparece 1 vezes na lista\n",
            " 2 aparece 1 vezes na lista\n",
            " 3 aparece 1 vezes na lista\n",
            " 4 aparece 1 vezes na lista\n",
            " 5 aparece 1 vezes na lista\n",
            " 6 aparece 1 vezes na lista\n",
            " -1 aparece 3 vezes na lista\n"
          ]
        }
      ]
    },
    {
      "cell_type": "code",
      "metadata": {
        "colab": {
          "base_uri": "https://localhost:8080/"
        },
        "id": "Qclq4A5cErCm",
        "outputId": "1800705e-a3d5-4635-decd-a7bc750d81fd"
      },
      "source": [
        "print(lista)\n",
        "lista.append(2)\n",
        "print(lista)\n",
        "\n",
        "lista.index(2) #index mostra a posição do primeiro elemento no caso nº 2"
      ],
      "execution_count": null,
      "outputs": [
        {
          "output_type": "stream",
          "name": "stdout",
          "text": [
            "[-1, -1, -1, 1, 2, 3, 4, 5, 6, 2]\n",
            "[-1, -1, -1, 1, 2, 3, 4, 5, 6, 2, 2]\n"
          ]
        },
        {
          "output_type": "execute_result",
          "data": {
            "text/plain": [
              "4"
            ]
          },
          "metadata": {},
          "execution_count": 51
        }
      ]
    },
    {
      "cell_type": "code",
      "metadata": {
        "colab": {
          "base_uri": "https://localhost:8080/"
        },
        "id": "Wq7qIJlUKjCK",
        "outputId": "10c25687-037f-4ede-af82-508e58d3d98b"
      },
      "source": [
        "lista2 = list(range(10))\n",
        "print(lista2) #lista completa\n",
        "print(lista2[1:6]) #lista 1 até o elemento 6\n",
        "print(lista2[1::2]) #lista do elemento 1 até o final pulando 2em2\n",
        "print(lista2[1:10:2]) #lista elemento 1 até o final pulando 2em2"
      ],
      "execution_count": null,
      "outputs": [
        {
          "output_type": "stream",
          "name": "stdout",
          "text": [
            "[0, 1, 2, 3, 4, 5, 6, 7, 8, 9]\n",
            "[1, 2, 3, 4, 5]\n",
            "[1, 3, 5, 7, 9]\n",
            "[1, 3, 5, 7, 9]\n"
          ]
        }
      ]
    },
    {
      "cell_type": "code",
      "metadata": {
        "colab": {
          "base_uri": "https://localhost:8080/"
        },
        "id": "jsfT9CesVyUk",
        "outputId": "8f5d98f8-2a84-4efe-bbf4-045d95aad46d"
      },
      "source": [
        "lista3 = ['A','C','B','J']\n",
        "print(lista3)\n",
        "\n",
        "lista3.sort()\n",
        "print(lista3)"
      ],
      "execution_count": null,
      "outputs": [
        {
          "output_type": "stream",
          "name": "stdout",
          "text": [
            "['A', 'C', 'B', 'J']\n",
            "['A', 'B', 'C', 'J']\n"
          ]
        }
      ]
    },
    {
      "cell_type": "code",
      "metadata": {
        "colab": {
          "base_uri": "https://localhost:8080/"
        },
        "id": "uvG0dx2hZVKC",
        "outputId": "cffc3487-1dc7-4971-b337-062053e259a2"
      },
      "source": [
        "testando_lista = ['A','B','C']\n",
        "print(testando_lista)\n",
        "testando_lista.reverse()\n",
        "print(testando_lista)\n",
        "testando_lista.reverse()\n",
        "print(testando_lista)\n",
        "valor = testando_lista[::-1] #serve também para reverter a ordem\n",
        "print(valor)"
      ],
      "execution_count": null,
      "outputs": [
        {
          "output_type": "stream",
          "name": "stdout",
          "text": [
            "['A', 'B', 'C']\n",
            "['C', 'B', 'A']\n",
            "['A', 'B', 'C']\n",
            "['C', 'B', 'A']\n"
          ]
        }
      ]
    },
    {
      "cell_type": "markdown",
      "metadata": {
        "id": "PZyLxx8HDoA3"
      },
      "source": [
        "\n",
        "\n",
        "1.   lista []\n",
        "2.   Tupla ()\n",
        "3.   Dicionarios utilizam {}\n",
        "\n",
        "\n",
        "\n"
      ]
    },
    {
      "cell_type": "code",
      "metadata": {
        "id": "ivsD2H5TDf3p"
      },
      "source": [
        "#Aprendendo utilizar dicionarios\n",
        "dic = {}\n",
        "dic['murilo'] = 9\n",
        "dic['ronnan'] = 8\n",
        "dic['tiago'] = 7\n",
        "\n",
        "#{'murilo': 9, 'ronnan': 8, 'tiago': 7}"
      ],
      "execution_count": null,
      "outputs": []
    },
    {
      "cell_type": "code",
      "metadata": {
        "colab": {
          "base_uri": "https://localhost:8080/"
        },
        "id": "_kUdm3mzD9t4",
        "outputId": "c9a2e48b-7795-4797-ef1f-72fbfc3f0519"
      },
      "source": [
        "print(dic['murilo'])\n",
        "print(dic['tiago'])\n"
      ],
      "execution_count": null,
      "outputs": [
        {
          "output_type": "stream",
          "name": "stdout",
          "text": [
            "9\n",
            "7\n"
          ]
        }
      ]
    },
    {
      "cell_type": "code",
      "metadata": {
        "colab": {
          "base_uri": "https://localhost:8080/"
        },
        "id": "EF4eDSInFB78",
        "outputId": "21ef92ff-ff8c-4e7e-f17c-35a9d810793c"
      },
      "source": [
        "print(dic.keys()) #para saber as chaves dos dicionarios utiliza o KEYS"
      ],
      "execution_count": null,
      "outputs": [
        {
          "output_type": "stream",
          "name": "stdout",
          "text": [
            "dict_keys(['murilo', 'ronnan', 'tiago'])\n"
          ]
        }
      ]
    },
    {
      "cell_type": "code",
      "metadata": {
        "colab": {
          "base_uri": "https://localhost:8080/"
        },
        "id": "FwIGxdrLFKN9",
        "outputId": "d18772ee-f7ca-462d-b844-4e629306912b"
      },
      "source": [
        "print(dic.values()) # para saber os valores dos dicionarios utiliza o VALUES\n"
      ],
      "execution_count": null,
      "outputs": [
        {
          "output_type": "stream",
          "name": "stdout",
          "text": [
            "dict_values([9, 8, 7])\n"
          ]
        }
      ]
    },
    {
      "cell_type": "code",
      "metadata": {
        "colab": {
          "base_uri": "https://localhost:8080/"
        },
        "id": "HU4-ysM-FUjr",
        "outputId": "779c2eba-6d6b-4a0d-aa15-945df48d9e9f"
      },
      "source": [
        "c"
      ],
      "execution_count": null,
      "outputs": [
        {
          "output_type": "stream",
          "name": "stdout",
          "text": [
            "<class 'dict_keys'>\n",
            "<class 'dict_values'>\n"
          ]
        }
      ]
    },
    {
      "cell_type": "code",
      "metadata": {
        "colab": {
          "base_uri": "https://localhost:8080/",
          "height": 35
        },
        "id": "Ltg7eUD1FiFs",
        "outputId": "1be44cd5-ec6c-4193-90ce-3903a7312798"
      },
      "source": [
        "list(dic.keys())[0] #transformando um dicionario em uma lista utiliza LIST"
      ],
      "execution_count": null,
      "outputs": [
        {
          "output_type": "execute_result",
          "data": {
            "application/vnd.google.colaboratory.intrinsic+json": {
              "type": "string"
            },
            "text/plain": [
              "'murilo'"
            ]
          },
          "metadata": {},
          "execution_count": 21
        }
      ]
    },
    {
      "cell_type": "code",
      "metadata": {
        "colab": {
          "base_uri": "https://localhost:8080/"
        },
        "id": "35vxRYxnGBgc",
        "outputId": "8ac2cce6-ee98-4b9e-897c-776a58db3fc9"
      },
      "source": [
        " #cria uma lista de uma tuppla utiliza ITEMS\n",
        "print(list(dic.items()))\n",
        "print(list(dic.items())[0])"
      ],
      "execution_count": null,
      "outputs": [
        {
          "output_type": "stream",
          "name": "stdout",
          "text": [
            "[('murilo', 9), ('ronnan', 8), ('tiago', 7)]\n",
            "('murilo', 9)\n"
          ]
        }
      ]
    },
    {
      "cell_type": "code",
      "metadata": {
        "colab": {
          "base_uri": "https://localhost:8080/"
        },
        "id": "WXgruHaXGWvK",
        "outputId": "b175f037-d15d-4597-a523-f8e3a3416b41"
      },
      "source": [
        "for chave, valor in dic.items():\n",
        "  print(chave, 'nota: ',valor)"
      ],
      "execution_count": null,
      "outputs": [
        {
          "output_type": "stream",
          "name": "stdout",
          "text": [
            "murilo nota:  9\n",
            "ronnan nota:  8\n",
            "tiago nota:  7\n"
          ]
        }
      ]
    },
    {
      "cell_type": "code",
      "metadata": {
        "colab": {
          "base_uri": "https://localhost:8080/"
        },
        "id": "iTnjSn9vIIVA",
        "outputId": "ff760e32-9e5d-4797-9383-8c09805cac60"
      },
      "source": [
        "dic['murilo'] = [10,7,2]\n",
        "print(dic)\n",
        "#{'murilo': [10, 7, 2], 'ronnan': 8, 'tiago': 7}\n",
        "#Dicionario é possivel ver somente keys and values\n",
        "#para ver separados é necessario criar uma lista do dicionario"
      ],
      "execution_count": null,
      "outputs": [
        {
          "output_type": "stream",
          "name": "stdout",
          "text": [
            "{'murilo': [10, 7, 2], 'ronnan': 8, 'tiago': 7}\n"
          ]
        }
      ]
    },
    {
      "cell_type": "code",
      "metadata": {
        "colab": {
          "base_uri": "https://localhost:8080/"
        },
        "id": "hkrSnVvCIWtX",
        "outputId": "b291703e-8801-45b7-d082-3228a9d5dbb6"
      },
      "source": [
        "lista_dic = (list(dic.items())) #transformando em lista para ver completo\n",
        "print(lista_dic)\n",
        "# ('murilo', [10, 7, 2])"
      ],
      "execution_count": null,
      "outputs": [
        {
          "output_type": "stream",
          "name": "stdout",
          "text": [
            "[('murilo', [10, 7, 2]), ('ronnan', 8), ('tiago', 7)]\n"
          ]
        }
      ]
    },
    {
      "cell_type": "code",
      "metadata": {
        "colab": {
          "base_uri": "https://localhost:8080/"
        },
        "id": "T93lu5cOJVmt",
        "outputId": "5fee142d-3c3f-4d3d-e7fa-191314327315"
      },
      "source": [
        "print(lista_dic[0]) # ('murilo', [10, 7, 2])\n",
        "print(lista_dic[0][0]) # murilo\n",
        "print(lista_dic[0][1]) # [10,7,2]\n",
        "print(lista_dic[0][1][0]) # 10\n",
        "print(lista_dic[0][1][1]) #7\n",
        "print(lista_dic[0][1][2]) #2"
      ],
      "execution_count": null,
      "outputs": [
        {
          "output_type": "stream",
          "name": "stdout",
          "text": [
            "('murilo', [10, 7, 2])\n",
            "murilo\n",
            "[10, 7, 2]\n",
            "10\n",
            "7\n",
            "2\n"
          ]
        }
      ]
    },
    {
      "cell_type": "code",
      "metadata": {
        "colab": {
          "base_uri": "https://localhost:8080/"
        },
        "id": "ooSR0CiqI1Ys",
        "outputId": "2f383c2c-b601-46aa-a2e6-7c047fbb02fa"
      },
      "source": [
        "inicio = 0\n",
        "final = 2\n",
        "while inicio <= final:\n",
        "  print('aluno: {} {}ª nota: {}'.format((a[0]),inicio+1,(a[1][inicio])))\n",
        "  inicio +=1\n"
      ],
      "execution_count": null,
      "outputs": [
        {
          "output_type": "stream",
          "name": "stdout",
          "text": [
            "aluno: murilo 1ª nota: 10\n",
            "aluno: murilo 2ª nota: 7\n",
            "aluno: murilo 3ª nota: 2\n"
          ]
        }
      ]
    },
    {
      "cell_type": "markdown",
      "metadata": {
        "id": "sKwIm_60RTLQ"
      },
      "source": [
        "Tratando com arquivos"
      ]
    },
    {
      "cell_type": "code",
      "metadata": {
        "colab": {
          "base_uri": "https://localhost:8080/"
        },
        "id": "wHunK5YeRSyB",
        "outputId": "cc176bc4-51a5-46a0-ea81-19b9cc16096c"
      },
      "source": [
        "arquivo_entrada = open('/content/base_dados.txt','r')\n",
        "arquivo_lido = arquivo_entrada.read() #Para ler um arquivo metodo .read\n",
        "print(arquivo_lido)\n",
        "arquivo_entrada.close()"
      ],
      "execution_count": null,
      "outputs": [
        {
          "output_type": "stream",
          "name": "stdout",
          "text": [
            "Colt McCoy QB, CLE  135 222 1576    6   9   60.8%   74.5\n",
            "Josh Freeman QB, TB 291 474 3451    25  6   61.4%   95.9\n",
            "Michael Vick QB, PHI    233 372 3018    21  6   62.6%   100.2\n",
            "Matt Schaub QB, HOU 365 574 4370    24  12  63.6%   92.0\n",
            "Philip Rivers QB, SD    357 541 4710    30  13  66.0%   101.8\n",
            "Matt Hasselbeck QB, SEA 266 444 3001    12  17  59.9%   73.2\n",
            "Jimmy Clausen QB, CAR   157 299 1558    3   9   52.5%   58.4\n",
            "Joe Flacco QB, BAL  306 489 3622    25  10  62.6%   93.6\n",
            "Kyle Orton QB, DEN  293 498 3653    20  9   58.8%   87.5\n",
            "Jason Campbell QB, OAK  194 329 2387    13  8   59.0%   84.5\n",
            "Peyton Manning QB, IND  450 679 4700    33  17  66.3%   91.9\n",
            "Drew Brees QB, NO   448 658 4620    33  22  68.1%   90.9\n",
            "Matt Ryan QB, ATL   357 571 3705    28  9   62.5%   91.0\n",
            "Matt Cassel QB, KC  262 450 3116    27  7   58.2%   93.0\n",
            "Mark Sanchez QB, NYJ    278 507 3291    17  13  54.8%   75.3\n",
            "Brett Favre QB, MIN 217 358 2509    11  19  60.6%   69.9\n",
            "David Garrard QB, JAC   236 366 2734    23  15  64.5%   90.8\n",
            "Eli Manning QB, NYG 339 539 4002    31  25  62.9%   85.3\n",
            "Carson Palmer QB, CIN   362 586 3970    26  20  61.8%   82.4\n",
            "Alex Smith QB, SF   204 342 2370    14  10  59.6%   82.1\n",
            "Chad Henne QB, MIA  301 490 3301    15  19  61.4%   75.4\n",
            "Tony Romo QB, DAL   148 213 1605    11  7   69.5%   94.9\n",
            "Jay Cutler QB, CHI  261 432 3274    23  16  60.4%   86.3\n",
            "Jon Kitna QB, DAL   209 318 2365    16  12  65.7%   88.9\n",
            "Tom Brady QB, NE    324 492 3900    36  4   65.9%   111.0\n",
            "Ben Roethlisberger QB, PIT  240 389 3200    17  5   61.7%   97.0\n",
            "Kerry Collins QB, TEN   160 278 1823    14  8   57.6%   82.2\n",
            "Derek Anderson QB, ARI  169 327 2065    7   10  51.7%   65.9\n",
            "Ryan Fitzpatrick QB, BUF    255 441 3000    23  15  57.8%   81.8\n",
            "Donovan McNabb QB, WAS  275 472 3377    14  15  58.3%   77.1\n",
            "Kevin Kolb QB, PHI  115 189 1197    7   7   60.8%   76.1\n",
            "Aaron Rodgers QB, GB    312 475 3922    28  11  65.7%   101.2\n",
            "Sam Bradford QB, STL    354 590 3512    18  15  60.0%   76.5\n",
            "Shaun Hill QB, DET  257 416 2686    16  12  61.8%   81.3\n"
          ]
        }
      ]
    },
    {
      "cell_type": "code",
      "metadata": {
        "colab": {
          "base_uri": "https://localhost:8080/"
        },
        "id": "SoiSYuV5_ppv",
        "outputId": "8eccf9ae-6217-4c44-efc5-0f22a25df558"
      },
      "source": [
        "#Criando um novo arquivo e escrevendo\n",
        "arquivo_escrita = open('/content/result.txt', 'w')\n",
        "arquivo_escrita.write('Curso PLN aula 03') #para escrever metodo .write\n",
        "arquivo_escrita.close() #fechando o arquivo\n",
        "\n",
        "#Abrindo arquivo para leitura\n",
        "arquivo_escrita = open('/content/result.txt', 'r')\n",
        "print(arquivo_escrita.read())\n",
        "\n",
        "#utilizando o append em um arquivo\n",
        "arquivo_escrita = open('/content/result.txt', 'a') #a de atualizar\n",
        "arquivo_escrita.write(' \\n estudando arquivos - Murilo Farias') #para escrever metodo .write\n",
        "arquivo_escrita.close() #fechando o arquivo\n",
        "\n",
        "#Abrindo arquivo para leitura\n",
        "arquivo_escrita = open('/content/result.txt', 'r')\n",
        "print(arquivo_escrita.read())\n",
        "\n",
        "#Para trabalhar com numero dentro de arquivos precisa ser convertido para\n",
        "#texto\n",
        "arquivo_escrita = open('/content/result.txt', 'a') #a de atualizar\n",
        "numero = 10\n",
        "arquivo_escrita.write(' \\n nota: {}'.format(numero)) #para escrever metodo .write\n",
        "arquivo_escrita.close() #fechando o arquivo\n",
        "arquivo_escrita = open('/content/result.txt', 'r')\n",
        "print(arquivo_escrita.read())\n",
        "arquivo_escrita.close() #fechando o arquivo\n",
        "\n",
        "#outra maneira\n",
        "arquivo_escrita = open('/content/result.txt', 'a') #a de atualizar\n",
        "numero2 = 8\n",
        "arquivo_escrita.write('\\n segunda nota:'+ (str(numero2))) #para escrever metodo .write\n",
        "arquivo_escrita.close() #fechando o arquivo\n",
        "\n",
        "#Abrindo arquivo para leitura\n",
        "arquivo_escrita = open('/content/result.txt', 'r')\n",
        "print(arquivo_escrita.read())\n",
        "\n"
      ],
      "execution_count": null,
      "outputs": [
        {
          "output_type": "stream",
          "name": "stdout",
          "text": [
            "Curso PLN aula 03\n",
            "Curso PLN aula 03 \n",
            " estudando arquivos - Murilo Farias\n",
            "Curso PLN aula 03 \n",
            " estudando arquivos - Murilo Farias \n",
            " nota: 10\n",
            "Curso PLN aula 03 \n",
            " estudando arquivos - Murilo Farias \n",
            " nota: 10\n",
            " segunda nota:8\n"
          ]
        }
      ]
    },
    {
      "cell_type": "markdown",
      "metadata": {
        "id": "f8xWZEqlJD6c"
      },
      "source": [
        "1. Crie três variáveis e atribua os valores a seguir: a=1, b=5.9 e c=‘teste’. A\n",
        "partir disso, retorne o tipo de cada uma das variáveis"
      ]
    },
    {
      "cell_type": "code",
      "metadata": {
        "colab": {
          "base_uri": "https://localhost:8080/"
        },
        "id": "s3il7wR1JBrj",
        "outputId": "bbfed460-74a9-4c4a-8de9-eb7cbed3c390"
      },
      "source": [
        "a = 1\n",
        "b = 5.9\n",
        "c = 'teste'\n",
        "print('o tipo de A: ' + str(type(a)))\n",
        "print('o tipo de B: ' + str(type(b)))\n",
        "print('o tipo de C: ' + str(type(c)))"
      ],
      "execution_count": null,
      "outputs": [
        {
          "output_type": "stream",
          "name": "stdout",
          "text": [
            "o tipo de A: <class 'int'>\n",
            "o tipo de B: <class 'float'>\n",
            "o tipo de C: <class 'str'>\n"
          ]
        }
      ]
    },
    {
      "cell_type": "markdown",
      "metadata": {
        "id": "uidsyQLBJwdw"
      },
      "source": [
        "2. Troque o valor da variável a por ‘1’ e verifique se o tipo da variável mudou"
      ]
    },
    {
      "cell_type": "code",
      "metadata": {
        "colab": {
          "base_uri": "https://localhost:8080/"
        },
        "id": "41mdNxSwJu4N",
        "outputId": "af81b4af-014d-421f-cdb5-f95b3b187bb6"
      },
      "source": [
        "anterior = 1\n",
        "novo = '1'\n",
        "\n",
        "print(' antes era: {} \\n agora é: {}'.format(type(anterior), type(novo)))"
      ],
      "execution_count": null,
      "outputs": [
        {
          "output_type": "stream",
          "name": "stdout",
          "text": [
            " antes era: <class 'int'> \n",
            " agora é: <class 'str'>\n"
          ]
        }
      ]
    },
    {
      "cell_type": "markdown",
      "metadata": {
        "id": "wjo-gVeQKNME"
      },
      "source": [
        "3. Faça a soma da variável b com a variável c. Interprete a saída, tanto em caso\n",
        "de execução correta quanto em caso de execução com erro.\n"
      ]
    },
    {
      "cell_type": "code",
      "metadata": {
        "colab": {
          "base_uri": "https://localhost:8080/"
        },
        "id": "Ip3yugtJKM8s",
        "outputId": "14fc4c46-9851-4c10-a554-859ca5ff2d31"
      },
      "source": [
        "print(b) #5.9\n",
        "print(c) #teste\n",
        "\n",
        "soma = 'Saída: ' + str(b) + ' ' + (c)\n",
        "print(soma)\n",
        "#ou\n",
        "print('Saída: {} {}'.format(b,c))"
      ],
      "execution_count": null,
      "outputs": [
        {
          "output_type": "stream",
          "name": "stdout",
          "text": [
            "5.9\n",
            "teste\n",
            "Saída: 5.9 teste\n",
            "Saída: 5.9 teste\n"
          ]
        }
      ]
    },
    {
      "cell_type": "markdown",
      "metadata": {
        "id": "gAuSaI2JLGDC"
      },
      "source": [
        "4. \n",
        "Crie uma lista com números de 0 a 9 (em qualquer ordem). Com ela, faça:\n",
        "\n",
        "a. Adicione o número 6\n",
        "\n",
        "b. Insira o número 7 na 3ª posição da lista\n",
        "\n",
        "c. Remova o elemento 3 da lista\n",
        "\n",
        "d. Adicione o número 4\n",
        "\n",
        "e. Verifique o número de ocorrências do número 4 na lista"
      ]
    },
    {
      "cell_type": "code",
      "metadata": {
        "colab": {
          "base_uri": "https://localhost:8080/"
        },
        "id": "BzOZNrz0LHm5",
        "outputId": "cd091a9d-9bbd-432c-a2bb-5ade7bff9a68"
      },
      "source": [
        "lista = [0,9,2,3,6,5,7,8,1,4]\n",
        "\n",
        "#a. Adicione o número 6\n",
        "lista.append(6)\n",
        "print(lista)\n"
      ],
      "execution_count": 126,
      "outputs": [
        {
          "output_type": "stream",
          "name": "stdout",
          "text": [
            "[0, 9, 2, 3, 6, 5, 7, 8, 1, 4, 6]\n"
          ]
        }
      ]
    },
    {
      "cell_type": "code",
      "metadata": {
        "colab": {
          "base_uri": "https://localhost:8080/"
        },
        "id": "zzXAPovxLoID",
        "outputId": "d7b50546-a41f-4206-e9de-f136ba1a9f03"
      },
      "source": [
        "#b. Insira o número 7 na 3ª posição da lista\n",
        "# lista = [0,9,2,3,6,5,7,8,1,4]\n",
        "lista[3] = 7\n",
        "print(lista)\n"
      ],
      "execution_count": null,
      "outputs": [
        {
          "output_type": "stream",
          "name": "stdout",
          "text": [
            "[0, 9, 2, 7, 6, 5, 7, 8, 1, 4, 6]\n"
          ]
        }
      ]
    },
    {
      "cell_type": "code",
      "metadata": {
        "colab": {
          "base_uri": "https://localhost:8080/"
        },
        "id": "jhE1f01UMAgR",
        "outputId": "35a7e706-6cd5-48b7-f066-10c3ec17078b"
      },
      "source": [
        "#c. Remova o elemento 3º da lista\n",
        "# [0, 9, 2, 7, 6, 5, 7, 8, 1, 4, 6]\n",
        "# [0, 9, 2, 6, 5, 7, 8, 1, 4, 6]\n",
        "del(lista[3]) #deletando o 3º elemento\n",
        "print(lista)"
      ],
      "execution_count": null,
      "outputs": [
        {
          "output_type": "stream",
          "name": "stdout",
          "text": [
            "[0, 9, 2, 6, 5, 7, 8, 1, 4, 6]\n"
          ]
        }
      ]
    },
    {
      "cell_type": "code",
      "metadata": {
        "colab": {
          "base_uri": "https://localhost:8080/"
        },
        "id": "NSsLpXhMP3NH",
        "outputId": "372e9de8-059a-4bcc-d133-da84fc4b8b80"
      },
      "source": [
        "#d. Adicione o número 4\n",
        "# [0, 9, 2, 6, 5, 7, 8, 1, 4, 6]\n",
        "# [0, 9, 2, 6, 5, 7, 8, 1, 4, 6, 4]\n",
        "lista.append(4)\n",
        "print(lista)\n"
      ],
      "execution_count": null,
      "outputs": [
        {
          "output_type": "stream",
          "name": "stdout",
          "text": [
            "[0, 9, 2, 6, 5, 7, 8, 1, 4, 6, 4]\n"
          ]
        }
      ]
    },
    {
      "cell_type": "code",
      "metadata": {
        "colab": {
          "base_uri": "https://localhost:8080/"
        },
        "id": "Idc4YiRMQGz9",
        "outputId": "e64fc49e-9e51-483a-ce04-411802c233c2"
      },
      "source": [
        "#e. Verifique o número de ocorrências do número 4 na lista\n",
        "#[0, 9, 2, 6, 5, 7, 8, 1, 4, 6, 4]\n",
        "resultado = 0\n",
        "for i in lista:\n",
        "  if i == 6:\n",
        "    resultado +=1\n",
        "\n",
        "print('total de elementos nº 4 é: {}'.format(resultado))\n",
        "print(sorted(lista))"
      ],
      "execution_count": null,
      "outputs": [
        {
          "output_type": "stream",
          "name": "stdout",
          "text": [
            "total de elementos nº 4 é: 2\n",
            "[0, 1, 2, 4, 4, 5, 6, 6, 7, 8, 9]\n"
          ]
        }
      ]
    },
    {
      "cell_type": "markdown",
      "metadata": {
        "id": "FqPgDgoYWl8r"
      },
      "source": [
        "Ainda com a lista criada na questão anterior, faça:\n",
        "\n",
        "a. Retorne os primeiros 3 elementos da lista\n",
        "\n",
        "b. Retorne os elementos que estão da 3ª posição até a 7ª posição da lista\n",
        "\n",
        "c. Retorne os elementos da lista de 3 em 3 elementos\n",
        "\n",
        "d. Retorne os 3 últimos elementos da lista\n",
        "\n",
        "e. Retorne todos os elementos menos os 4 últimos da lista\n"
      ]
    },
    {
      "cell_type": "code",
      "metadata": {
        "colab": {
          "base_uri": "https://localhost:8080/"
        },
        "id": "H1FWoellWo7C",
        "outputId": "8b8e81dd-7152-4d3d-a346-0e1a59a3bf1b"
      },
      "source": [
        "#a. Retorne os primeiros 3 elementos da lista\n",
        "print(lista) # [0, 1, 2, 4, 4, 5, 6, 6, 7, 8, 9]\n",
        "print(lista[0:3])"
      ],
      "execution_count": 76,
      "outputs": [
        {
          "output_type": "stream",
          "name": "stdout",
          "text": [
            "[0, 1, 2, 4, 4, 5, 6, 6, 7, 8, 9]\n",
            "[0, 1, 2]\n"
          ]
        }
      ]
    },
    {
      "cell_type": "code",
      "metadata": {
        "colab": {
          "base_uri": "https://localhost:8080/"
        },
        "id": "1rQGurHJkWFv",
        "outputId": "2dc26d27-aa01-43ee-ec26-778fc48cf465"
      },
      "source": [
        "#b. Retorne os elementos que estão da 3ª posição até a 7ª posição da lista\n",
        "print(lista[3:8])"
      ],
      "execution_count": 78,
      "outputs": [
        {
          "output_type": "stream",
          "name": "stdout",
          "text": [
            "[4, 4, 5, 6, 6]\n"
          ]
        }
      ]
    },
    {
      "cell_type": "code",
      "metadata": {
        "colab": {
          "base_uri": "https://localhost:8080/"
        },
        "id": "EFG-YfrHkivV",
        "outputId": "c7f2a148-fe5c-4ad3-edd2-e35a0016401d"
      },
      "source": [
        "#c. Retorne os elementos da lista de 3 em 3 elementos\n",
        "c\n",
        "print(lista[::3])\n"
      ],
      "execution_count": 79,
      "outputs": [
        {
          "output_type": "stream",
          "name": "stdout",
          "text": [
            "[0, 4, 6, 8]\n"
          ]
        }
      ]
    },
    {
      "cell_type": "code",
      "metadata": {
        "colab": {
          "base_uri": "https://localhost:8080/"
        },
        "id": "OzA86DWVky5F",
        "outputId": "65564266-0419-4853-f057-8bf4839d2a7a"
      },
      "source": [
        "#d. Retorne os 3 últimos elementos da lista\n",
        "#11\n",
        "total = len(lista) # 11\n",
        "print('{} {} {}'.format((lista[total-1]),(lista[total-2]),(lista[total-3])))\n"
      ],
      "execution_count": 100,
      "outputs": [
        {
          "output_type": "stream",
          "name": "stdout",
          "text": [
            "9 8 7\n"
          ]
        }
      ]
    },
    {
      "cell_type": "code",
      "metadata": {
        "colab": {
          "base_uri": "https://localhost:8080/"
        },
        "id": "Bmcmk7eMnMTI",
        "outputId": "10050abf-354e-48ff-8366-9b40fae7170c"
      },
      "source": [
        "#e. Retorne todos os elementos menos os 4 últimos da lista\n",
        "print(lista[0:7])"
      ],
      "execution_count": 102,
      "outputs": [
        {
          "output_type": "stream",
          "name": "stdout",
          "text": [
            "[0, 1, 2, 4, 4, 5, 6]\n"
          ]
        }
      ]
    },
    {
      "cell_type": "markdown",
      "metadata": {
        "id": "Sd6sT8zmnnAo"
      },
      "source": [
        "6. Com a lista das questões anteriores, retorne o 6º elemento da lista"
      ]
    },
    {
      "cell_type": "code",
      "metadata": {
        "colab": {
          "base_uri": "https://localhost:8080/"
        },
        "id": "GRQOdaCBnoOe",
        "outputId": "2728f7b0-0b34-406c-b0db-43bcdca37736"
      },
      "source": [
        "# [0, 1, 2, 4, 4, 5, 6, 6, 7, 8, 9]\n",
        "print(lista[5])"
      ],
      "execution_count": 103,
      "outputs": [
        {
          "output_type": "stream",
          "name": "stdout",
          "text": [
            "5\n"
          ]
        }
      ]
    },
    {
      "cell_type": "markdown",
      "metadata": {
        "id": "VNmNjBWwoJa_"
      },
      "source": [
        "7. Altere o valor do 7º elemento da lista para o valor 12.\n"
      ]
    },
    {
      "cell_type": "code",
      "metadata": {
        "colab": {
          "base_uri": "https://localhost:8080/"
        },
        "id": "dcKRTJR-oKNH",
        "outputId": "66422508-b507-4ca5-d67a-d277c0d3be1c"
      },
      "source": [
        "# [0, 1, 2, 4, 4, 5, 6, 6, 7, 8, 9]\n",
        "\n",
        "lista[6] = 12\n",
        "print(lista)\n",
        "\n",
        "# [0, 1, 2, 4, 4, 5, 12, 6, 7, 8, 9]\n"
      ],
      "execution_count": 104,
      "outputs": [
        {
          "output_type": "stream",
          "name": "stdout",
          "text": [
            "[0, 1, 2, 4, 4, 5, 12, 6, 7, 8, 9]\n"
          ]
        }
      ]
    },
    {
      "cell_type": "markdown",
      "metadata": {
        "id": "v0ODiLAcpHQ8"
      },
      "source": [
        "8. Inverta a ordem dos elementos na lista.\n"
      ]
    },
    {
      "cell_type": "code",
      "metadata": {
        "colab": {
          "base_uri": "https://localhost:8080/"
        },
        "id": "3Tezky8Opz7U",
        "outputId": "13509cce-3689-4092-d354-1efd41b115e6"
      },
      "source": [
        "print('Original: ' + str(lista))\n",
        "\n",
        "reversao_1 = lista[::-1]\n",
        "print('Primeira inversão:' + str(reversao_1))\n",
        "\n",
        "reversao_1.reverse()\n",
        "print('Segunda inversão: {}'.format(reversao_1))"
      ],
      "execution_count": 118,
      "outputs": [
        {
          "output_type": "stream",
          "name": "stdout",
          "text": [
            "Original: [0, 1, 2, 4, 4, 5, 12, 6, 7, 8, 9]\n",
            "Primeira inversão:[9, 8, 7, 6, 12, 5, 4, 4, 2, 1, 0]\n",
            "Segunda inversão: [0, 1, 2, 4, 4, 5, 12, 6, 7, 8, 9]\n"
          ]
        }
      ]
    },
    {
      "cell_type": "markdown",
      "metadata": {
        "id": "6T-6zh-_rbYu"
      },
      "source": [
        "9. Ordene a lista"
      ]
    },
    {
      "cell_type": "code",
      "metadata": {
        "colab": {
          "base_uri": "https://localhost:8080/"
        },
        "id": "mWFbDU5vrcJS",
        "outputId": "70cdc83f-dfa7-4fa8-84b6-27c042135abc"
      },
      "source": [
        "print(lista)\n",
        "\n",
        "lista_ordenada = lista\n",
        "lista_ordenada.sort()\n",
        "print(lista_ordenada)"
      ],
      "execution_count": 129,
      "outputs": [
        {
          "output_type": "stream",
          "name": "stdout",
          "text": [
            "[0, 9, 2, 3, 6, 5, 7, 8, 1, 4, 6]\n",
            "[0, 1, 2, 3, 4, 5, 6, 6, 7, 8, 9]\n"
          ]
        }
      ]
    },
    {
      "cell_type": "markdown",
      "metadata": {
        "id": "lrDtt7QKtGHF"
      },
      "source": [
        "10. Crie uma tupla com números de 0 a 9 (em qualquer ordem) e tente:\n",
        "\n",
        "a. Alterar o valor do 3º elemento da tupla para o valor 10\n",
        "\n",
        "b. Verificar o índice (posição) do valor 5 na tupla"
      ]
    },
    {
      "cell_type": "code",
      "metadata": {
        "colab": {
          "base_uri": "https://localhost:8080/"
        },
        "id": "RSU9Eq7ftK_m",
        "outputId": "e1ba9f03-22cd-4c36-d976-2dba0af7d93f"
      },
      "source": [
        "#a. Alterar o valor do 3º elemento da tupla para o valor 10\n",
        "\n",
        "tupla = (1,2,4,8,9,0,3,5,6,7) #Criando uma tupla\n",
        "print('Tupla original: ',tupla)\n",
        "\n",
        "tupla_lista = list(tupla) #convertendo tupla em lista\n",
        "print('Convertendo em lista: ',tupla_lista)\n",
        "\n",
        "tupla_lista[3] = 10 #alterando elemento da lista\n",
        "print('Alterando elemento: ',tupla_lista)\n",
        "\n",
        "tupla = tuple(tupla_lista) #voltando para tupla\n",
        "print('Voltando para tupla: ',tupla)"
      ],
      "execution_count": 143,
      "outputs": [
        {
          "output_type": "stream",
          "name": "stdout",
          "text": [
            "Tupla original:  (1, 2, 4, 8, 9, 0, 3, 5, 6, 7)\n",
            "Convertendo em lista:  [1, 2, 4, 8, 9, 0, 3, 5, 6, 7]\n",
            "Alterando elemento:  [1, 2, 4, 10, 9, 0, 3, 5, 6, 7]\n",
            "Voltando para tupla:  (1, 2, 4, 10, 9, 0, 3, 5, 6, 7)\n"
          ]
        }
      ]
    },
    {
      "cell_type": "code",
      "metadata": {
        "colab": {
          "base_uri": "https://localhost:8080/"
        },
        "id": "0ARoMuA52kyS",
        "outputId": "573ed153-7130-4e79-bc6f-20da9108d8a6"
      },
      "source": [
        "#b. Verificar o índice (posição) do valor 5 na tupla\n",
        "\n",
        "print('                ',tupla)\n",
        "print('Tupla original: ',tupla)\n",
        "print('Valor 5 está na posição: ',tupla.index(5))\n",
        "print('\\n')\n",
        "\n",
        "#posição de cada elemento\n",
        "print(tupla)\n",
        "total = len(tupla)\n",
        "inicio = 0\n",
        "while inicio < total:\n",
        "  for i in tupla:\n",
        "    print('Posição: {} elemento: {}'.format(inicio,i))\n",
        "    inicio +=1"
      ],
      "execution_count": 161,
      "outputs": [
        {
          "output_type": "stream",
          "name": "stdout",
          "text": [
            "                 (1, 2, 4, 10, 9, 0, 3, 5, 6, 7)\n",
            "Tupla original:  (1, 2, 4, 10, 9, 0, 3, 5, 6, 7)\n",
            "Valor 5 está na posição:  7\n",
            "\n",
            "\n",
            "(1, 2, 4, 10, 9, 0, 3, 5, 6, 7)\n",
            "Posição: 0 elemento: 1\n",
            "Posição: 1 elemento: 2\n",
            "Posição: 2 elemento: 4\n",
            "Posição: 3 elemento: 10\n",
            "Posição: 4 elemento: 9\n",
            "Posição: 5 elemento: 0\n",
            "Posição: 6 elemento: 3\n",
            "Posição: 7 elemento: 5\n",
            "Posição: 8 elemento: 6\n",
            "Posição: 9 elemento: 7\n"
          ]
        }
      ]
    },
    {
      "cell_type": "markdown",
      "metadata": {
        "id": "T9wVodWf4YC9"
      },
      "source": [
        "11. Crie um dicionário com 5 entradas e suas respectivas chaves e valores. Faça:\n",
        "\n",
        "a. Imprima todas as chaves do dicionário\n",
        "\n",
        "b. Imprima todos os valores do dicionário\n",
        "\n",
        "c. Imprima todos os itens do dicionário\n",
        "\n",
        "d. Imprima o 2º item do dicionário\n",
        "\n",
        "e. Imprima o dicionário completo\n",
        "\n",
        "f. Percorra o dicionário, imprimindo para cada entrada o modelo “(chave)\n",
        "tem como valor (valor)”"
      ]
    },
    {
      "cell_type": "code",
      "metadata": {
        "colab": {
          "base_uri": "https://localhost:8080/"
        },
        "id": "kfYjCttV4cGS",
        "outputId": "2e69fb61-9bab-455b-cdbf-3072cf093c3f"
      },
      "source": [
        "#a. Imprima todas as chaves do dicionário\n",
        "#b. Imprima todos os valores do dicionário\n",
        "\n",
        "dicionario = {}\n",
        "\n",
        "dicionario['Aluno_1'] = 'Murilo'\n",
        "dicionario['Nota_1'] = 10\n",
        "\n",
        "dicionario['Aluno_2'] = 'Pedro'\n",
        "dicionario['Nota_2'] = 4\n",
        "\n",
        "dicionario['Aluno_3'] = 'Rafaela'\n",
        "dicionario['Nota_3'] = 8\n",
        "\n",
        "dicionario['Aluno_4'] = 'Maico'\n",
        "dicionario['Nota_4'] = 2\n",
        "\n",
        "dicionario['Aluno_5'] = 'Bruno'\n",
        "dicionario['Nota_5'] = 7\n",
        "\n",
        "print('Dicionario criado: ',dicionario)\n",
        "print('Valores: ',dicionario.values()) # para saber os valores dos dicionarios utiliza o VALUES\n",
        "print('Chaves: ',dicionario.keys()) #para saber as chaves dos dicionarios utiliza o KEYS\n"
      ],
      "execution_count": 199,
      "outputs": [
        {
          "output_type": "stream",
          "name": "stdout",
          "text": [
            "Dicionario criado:  {'Aluno_1': 'Murilo', 'Nota_1': 10, 'Aluno_2': 'Pedro', 'Nota_2': 4, 'Aluno_3': 'Rafaela', 'Nota_3': 8, 'Aluno_4': 'Maico', 'Nota_4': 2, 'Aluno_5': 'Bruno', 'Nota_5': 7}\n",
            "Valores:  dict_values(['Murilo', 10, 'Pedro', 4, 'Rafaela', 8, 'Maico', 2, 'Bruno', 7])\n",
            "Chaves:  dict_keys(['Aluno_1', 'Nota_1', 'Aluno_2', 'Nota_2', 'Aluno_3', 'Nota_3', 'Aluno_4', 'Nota_4', 'Aluno_5', 'Nota_5'])\n"
          ]
        }
      ]
    },
    {
      "cell_type": "code",
      "metadata": {
        "colab": {
          "base_uri": "https://localhost:8080/"
        },
        "id": "NUsnPThWGZSe",
        "outputId": "bc64f43a-01eb-4bef-c6c7-9b2690804068"
      },
      "source": [
        "#c. Imprima todos os itens do dicionário\n",
        "for chave, valor in dicionario.items():\n",
        "  print('chave: {} | valor: {}'.format(chave,valor))\n",
        "\n",
        "print('\\n')\n",
        "print(dicionario.items())"
      ],
      "execution_count": 209,
      "outputs": [
        {
          "output_type": "stream",
          "name": "stdout",
          "text": [
            "chave: Aluno_1 | valor: Murilo\n",
            "chave: Nota_1 | valor: 10\n",
            "chave: Aluno_2 | valor: Pedro\n",
            "chave: Nota_2 | valor: 4\n",
            "chave: Aluno_3 | valor: Rafaela\n",
            "chave: Nota_3 | valor: 8\n",
            "chave: Aluno_4 | valor: Maico\n",
            "chave: Nota_4 | valor: 2\n",
            "chave: Aluno_5 | valor: Bruno\n",
            "chave: Nota_5 | valor: 7\n",
            "\n",
            "\n",
            "dict_items([('Aluno_1', 'Murilo'), ('Nota_1', 10), ('Aluno_2', 'Pedro'), ('Nota_2', 4), ('Aluno_3', 'Rafaela'), ('Nota_3', 8), ('Aluno_4', 'Maico'), ('Nota_4', 2), ('Aluno_5', 'Bruno'), ('Nota_5', 7)])\n"
          ]
        }
      ]
    },
    {
      "cell_type": "code",
      "metadata": {
        "colab": {
          "base_uri": "https://localhost:8080/"
        },
        "id": "mCcl3HhPG-Xm",
        "outputId": "9e5b13fe-14dd-49aa-a2a3-da4dcb4752f6"
      },
      "source": [
        "#d. Imprima o 2º item do dicionário\n",
        "#Dicionario é possivel ver somente keys and values\n",
        "#para ver separados é necessario criar uma lista do dicionario\n",
        "\n",
        "lista_x = list(dicionario.items()) #.items para separar por itens o dicionario\n",
        "\n",
        "print(lista_x)\n",
        "for itens in lista_x:\n",
        "  print('Resultado: ', itens)\n",
        "print('\\n')\n",
        "\n",
        "inicio = 0\n",
        "final = 9\n",
        "while inicio < final:\n",
        "  print('Itens: ' + str(lista_x[inicio][0] + ' Valores: ' + str(lista_x[inicio][1]) + '\\n'))\n",
        "  inicio +=1\n",
        "\n"
      ],
      "execution_count": 251,
      "outputs": [
        {
          "output_type": "stream",
          "name": "stdout",
          "text": [
            "[('Aluno_1', 'Murilo'), ('Nota_1', 10), ('Aluno_2', 'Pedro'), ('Nota_2', 4), ('Aluno_3', 'Rafaela'), ('Nota_3', 8), ('Aluno_4', 'Maico'), ('Nota_4', 2), ('Aluno_5', 'Bruno'), ('Nota_5', 7)]\n",
            "Resultado:  ('Aluno_1', 'Murilo')\n",
            "Resultado:  ('Nota_1', 10)\n",
            "Resultado:  ('Aluno_2', 'Pedro')\n",
            "Resultado:  ('Nota_2', 4)\n",
            "Resultado:  ('Aluno_3', 'Rafaela')\n",
            "Resultado:  ('Nota_3', 8)\n",
            "Resultado:  ('Aluno_4', 'Maico')\n",
            "Resultado:  ('Nota_4', 2)\n",
            "Resultado:  ('Aluno_5', 'Bruno')\n",
            "Resultado:  ('Nota_5', 7)\n",
            "\n",
            "\n",
            "Itens: Aluno_1 Valores: Murilo\n",
            "\n",
            "Itens: Nota_1 Valores: 10\n",
            "\n",
            "Itens: Aluno_2 Valores: Pedro\n",
            "\n",
            "Itens: Nota_2 Valores: 4\n",
            "\n",
            "Itens: Aluno_3 Valores: Rafaela\n",
            "\n",
            "Itens: Nota_3 Valores: 8\n",
            "\n",
            "Itens: Aluno_4 Valores: Maico\n",
            "\n",
            "Itens: Nota_4 Valores: 2\n",
            "\n",
            "Itens: Aluno_5 Valores: Bruno\n",
            "\n"
          ]
        }
      ]
    }
  ]
}