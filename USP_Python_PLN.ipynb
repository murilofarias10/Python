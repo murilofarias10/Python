{
  "nbformat": 4,
  "nbformat_minor": 0,
  "metadata": {
    "colab": {
      "name": "USP_Python_PLN",
      "provenance": [],
      "collapsed_sections": [],
      "mount_file_id": "1YfIdr-wGvLSlLi63nUxBAupV9vtwCcCq",
      "authorship_tag": "ABX9TyM2aeuJ4I8jqypSthYg533v",
      "include_colab_link": true
    },
    "kernelspec": {
      "name": "python3",
      "display_name": "Python 3"
    },
    "language_info": {
      "name": "python"
    }
  },
  "cells": [
    {
      "cell_type": "markdown",
      "metadata": {
        "id": "view-in-github",
        "colab_type": "text"
      },
      "source": [
        "<a href=\"https://colab.research.google.com/github/murilofarias10/AnaliseComPython/blob/main/USP_Python_PLN.ipynb\" target=\"_parent\"><img src=\"https://colab.research.google.com/assets/colab-badge.svg\" alt=\"Open In Colab\"/></a>"
      ]
    },
    {
      "cell_type": "code",
      "metadata": {
        "id": "ReFSXEo1-o_y"
      },
      "source": [
        "#Processamento de Linguagem Natural (PLN)\n",
        "#A área de Processamento de Linguagem Natural (PLN), ramo de pesquisa da Inteligência Artificial, \n",
        "#tem sido muito demandada pelo mercado de trabalho e pela academia, sendo responsável pelo desenvolvimento de recursos, \n",
        "#ferramentas e aplicações de tradução automática, revisão ortográfica e gramatical, análise de sentimentos e reconhecimento e \n",
        "#síntese de fala, entre diversas outras tecnologias de amplo uso pela sociedade. Assim como em muitas frentes de trabalho, \n",
        "#a linguagem de programação Python é muito utilizada em PLN, contando com funcionalidades que facilitam o processamento de textos e \n",
        "#com alguns pacotes especializados que dinamizam o processo de desenvolvimento de aplicações.\n",
        "#pacotes NLTK e spaCy"
      ],
      "execution_count": null,
      "outputs": []
    },
    {
      "cell_type": "code",
      "metadata": {
        "colab": {
          "base_uri": "https://localhost:8080/",
          "height": 1000
        },
        "id": "gUn9sZUY1r-v",
        "outputId": "6d8709e7-1b2f-4c6a-b90d-767f818aab40"
      },
      "source": [
        "#1º atualizando a versão do spacy \n",
        "!pip install --upgrade spacy"
      ],
      "execution_count": 7,
      "outputs": [
        {
          "output_type": "stream",
          "name": "stdout",
          "text": [
            "Requirement already satisfied: spacy in /usr/local/lib/python3.7/dist-packages (2.2.4)\n",
            "Collecting spacy\n",
            "  Downloading spacy-3.1.2-cp37-cp37m-manylinux_2_17_x86_64.manylinux2014_x86_64.whl (5.8 MB)\n",
            "\u001b[K     |████████████████████████████████| 5.8 MB 7.4 MB/s \n",
            "\u001b[?25hCollecting catalogue<2.1.0,>=2.0.4\n",
            "  Downloading catalogue-2.0.6-py3-none-any.whl (17 kB)\n",
            "Collecting spacy-legacy<3.1.0,>=3.0.7\n",
            "  Downloading spacy_legacy-3.0.8-py2.py3-none-any.whl (14 kB)\n",
            "Requirement already satisfied: jinja2 in /usr/local/lib/python3.7/dist-packages (from spacy) (2.11.3)\n",
            "Requirement already satisfied: requests<3.0.0,>=2.13.0 in /usr/local/lib/python3.7/dist-packages (from spacy) (2.23.0)\n",
            "Requirement already satisfied: cymem<2.1.0,>=2.0.2 in /usr/local/lib/python3.7/dist-packages (from spacy) (2.0.5)\n",
            "Requirement already satisfied: blis<0.8.0,>=0.4.0 in /usr/local/lib/python3.7/dist-packages (from spacy) (0.4.1)\n",
            "Requirement already satisfied: wasabi<1.1.0,>=0.8.1 in /usr/local/lib/python3.7/dist-packages (from spacy) (0.8.2)\n",
            "Requirement already satisfied: packaging>=20.0 in /usr/local/lib/python3.7/dist-packages (from spacy) (21.0)\n",
            "Requirement already satisfied: setuptools in /usr/local/lib/python3.7/dist-packages (from spacy) (57.4.0)\n",
            "Requirement already satisfied: typing-extensions<4.0.0.0,>=3.7.4 in /usr/local/lib/python3.7/dist-packages (from spacy) (3.7.4.3)\n",
            "Collecting thinc<8.1.0,>=8.0.8\n",
            "  Downloading thinc-8.0.10-cp37-cp37m-manylinux_2_17_x86_64.manylinux2014_x86_64.whl (623 kB)\n",
            "\u001b[K     |████████████████████████████████| 623 kB 57.2 MB/s \n",
            "\u001b[?25hCollecting pathy>=0.3.5\n",
            "  Downloading pathy-0.6.0-py3-none-any.whl (42 kB)\n",
            "\u001b[K     |████████████████████████████████| 42 kB 1.5 MB/s \n",
            "\u001b[?25hRequirement already satisfied: numpy>=1.15.0 in /usr/local/lib/python3.7/dist-packages (from spacy) (1.19.5)\n",
            "Collecting pydantic!=1.8,!=1.8.1,<1.9.0,>=1.7.4\n",
            "  Downloading pydantic-1.8.2-cp37-cp37m-manylinux2014_x86_64.whl (10.1 MB)\n",
            "\u001b[K     |████████████████████████████████| 10.1 MB 51.1 MB/s \n",
            "\u001b[?25hRequirement already satisfied: preshed<3.1.0,>=3.0.2 in /usr/local/lib/python3.7/dist-packages (from spacy) (3.0.5)\n",
            "Collecting srsly<3.0.0,>=2.4.1\n",
            "  Downloading srsly-2.4.1-cp37-cp37m-manylinux2014_x86_64.whl (456 kB)\n",
            "\u001b[K     |████████████████████████████████| 456 kB 59.9 MB/s \n",
            "\u001b[?25hRequirement already satisfied: tqdm<5.0.0,>=4.38.0 in /usr/local/lib/python3.7/dist-packages (from spacy) (4.62.0)\n",
            "Requirement already satisfied: murmurhash<1.1.0,>=0.28.0 in /usr/local/lib/python3.7/dist-packages (from spacy) (1.0.5)\n",
            "Collecting typer<0.4.0,>=0.3.0\n",
            "  Downloading typer-0.3.2-py3-none-any.whl (21 kB)\n",
            "Requirement already satisfied: zipp>=0.5 in /usr/local/lib/python3.7/dist-packages (from catalogue<2.1.0,>=2.0.4->spacy) (3.5.0)\n",
            "Requirement already satisfied: pyparsing>=2.0.2 in /usr/local/lib/python3.7/dist-packages (from packaging>=20.0->spacy) (2.4.7)\n",
            "Requirement already satisfied: smart-open<6.0.0,>=5.0.0 in /usr/local/lib/python3.7/dist-packages (from pathy>=0.3.5->spacy) (5.1.0)\n",
            "Requirement already satisfied: chardet<4,>=3.0.2 in /usr/local/lib/python3.7/dist-packages (from requests<3.0.0,>=2.13.0->spacy) (3.0.4)\n",
            "Requirement already satisfied: idna<3,>=2.5 in /usr/local/lib/python3.7/dist-packages (from requests<3.0.0,>=2.13.0->spacy) (2.10)\n",
            "Requirement already satisfied: certifi>=2017.4.17 in /usr/local/lib/python3.7/dist-packages (from requests<3.0.0,>=2.13.0->spacy) (2021.5.30)\n",
            "Requirement already satisfied: urllib3!=1.25.0,!=1.25.1,<1.26,>=1.21.1 in /usr/local/lib/python3.7/dist-packages (from requests<3.0.0,>=2.13.0->spacy) (1.24.3)\n",
            "Requirement already satisfied: click<7.2.0,>=7.1.1 in /usr/local/lib/python3.7/dist-packages (from typer<0.4.0,>=0.3.0->spacy) (7.1.2)\n",
            "Requirement already satisfied: MarkupSafe>=0.23 in /usr/local/lib/python3.7/dist-packages (from jinja2->spacy) (2.0.1)\n",
            "Installing collected packages: catalogue, typer, srsly, pydantic, thinc, spacy-legacy, pathy, spacy\n",
            "  Attempting uninstall: catalogue\n",
            "    Found existing installation: catalogue 1.0.0\n",
            "    Uninstalling catalogue-1.0.0:\n",
            "      Successfully uninstalled catalogue-1.0.0\n",
            "  Attempting uninstall: srsly\n",
            "    Found existing installation: srsly 1.0.5\n",
            "    Uninstalling srsly-1.0.5:\n",
            "      Successfully uninstalled srsly-1.0.5\n",
            "  Attempting uninstall: thinc\n",
            "    Found existing installation: thinc 7.4.0\n",
            "    Uninstalling thinc-7.4.0:\n",
            "      Successfully uninstalled thinc-7.4.0\n",
            "  Attempting uninstall: spacy\n",
            "    Found existing installation: spacy 2.2.4\n",
            "    Uninstalling spacy-2.2.4:\n",
            "      Successfully uninstalled spacy-2.2.4\n",
            "Successfully installed catalogue-2.0.6 pathy-0.6.0 pydantic-1.8.2 spacy-3.1.2 spacy-legacy-3.0.8 srsly-2.4.1 thinc-8.0.10 typer-0.3.2\n"
          ]
        },
        {
          "output_type": "display_data",
          "data": {
            "application/vnd.colab-display-data+json": {
              "pip_warning": {
                "packages": [
                  "catalogue",
                  "spacy",
                  "srsly",
                  "thinc"
                ]
              }
            }
          },
          "metadata": {}
        }
      ]
    },
    {
      "cell_type": "code",
      "metadata": {
        "id": "pk1baOprzc7O"
      },
      "source": [
        "#2º importar biblioteca\n",
        "import spacy "
      ],
      "execution_count": 1,
      "outputs": []
    },
    {
      "cell_type": "code",
      "metadata": {
        "colab": {
          "base_uri": "https://localhost:8080/"
        },
        "id": "uLMNIGOb_toA",
        "outputId": "06fea729-8968-4c4d-d41e-d621b4bf5905"
      },
      "source": [
        "#baixando o pacote pt_core_news_lg\n",
        "!python -m spacy download pt_core_news_lg"
      ],
      "execution_count": null,
      "outputs": [
        {
          "output_type": "stream",
          "name": "stdout",
          "text": [
            "Collecting pt-core-news-lg==3.1.0\n",
            "  Downloading https://github.com/explosion/spacy-models/releases/download/pt_core_news_lg-3.1.0/pt_core_news_lg-3.1.0-py3-none-any.whl (576.7 MB)\n",
            "\u001b[K     |████████████████████████████████| 576.7 MB 9.8 kB/s \n",
            "\u001b[?25hRequirement already satisfied: spacy<3.2.0,>=3.1.0 in /usr/local/lib/python3.7/dist-packages (from pt-core-news-lg==3.1.0) (3.1.2)\n",
            "Requirement already satisfied: pathy>=0.3.5 in /usr/local/lib/python3.7/dist-packages (from spacy<3.2.0,>=3.1.0->pt-core-news-lg==3.1.0) (0.6.0)\n",
            "Requirement already satisfied: catalogue<2.1.0,>=2.0.4 in /usr/local/lib/python3.7/dist-packages (from spacy<3.2.0,>=3.1.0->pt-core-news-lg==3.1.0) (2.0.6)\n",
            "Requirement already satisfied: numpy>=1.15.0 in /usr/local/lib/python3.7/dist-packages (from spacy<3.2.0,>=3.1.0->pt-core-news-lg==3.1.0) (1.19.5)\n",
            "Requirement already satisfied: blis<0.8.0,>=0.4.0 in /usr/local/lib/python3.7/dist-packages (from spacy<3.2.0,>=3.1.0->pt-core-news-lg==3.1.0) (0.4.1)\n",
            "Requirement already satisfied: typer<0.4.0,>=0.3.0 in /usr/local/lib/python3.7/dist-packages (from spacy<3.2.0,>=3.1.0->pt-core-news-lg==3.1.0) (0.3.2)\n",
            "Requirement already satisfied: pydantic!=1.8,!=1.8.1,<1.9.0,>=1.7.4 in /usr/local/lib/python3.7/dist-packages (from spacy<3.2.0,>=3.1.0->pt-core-news-lg==3.1.0) (1.8.2)\n",
            "Requirement already satisfied: preshed<3.1.0,>=3.0.2 in /usr/local/lib/python3.7/dist-packages (from spacy<3.2.0,>=3.1.0->pt-core-news-lg==3.1.0) (3.0.5)\n",
            "Requirement already satisfied: spacy-legacy<3.1.0,>=3.0.7 in /usr/local/lib/python3.7/dist-packages (from spacy<3.2.0,>=3.1.0->pt-core-news-lg==3.1.0) (3.0.8)\n",
            "Requirement already satisfied: requests<3.0.0,>=2.13.0 in /usr/local/lib/python3.7/dist-packages (from spacy<3.2.0,>=3.1.0->pt-core-news-lg==3.1.0) (2.23.0)\n",
            "Requirement already satisfied: jinja2 in /usr/local/lib/python3.7/dist-packages (from spacy<3.2.0,>=3.1.0->pt-core-news-lg==3.1.0) (2.11.3)\n",
            "Requirement already satisfied: srsly<3.0.0,>=2.4.1 in /usr/local/lib/python3.7/dist-packages (from spacy<3.2.0,>=3.1.0->pt-core-news-lg==3.1.0) (2.4.1)\n",
            "Requirement already satisfied: setuptools in /usr/local/lib/python3.7/dist-packages (from spacy<3.2.0,>=3.1.0->pt-core-news-lg==3.1.0) (57.4.0)\n",
            "Requirement already satisfied: packaging>=20.0 in /usr/local/lib/python3.7/dist-packages (from spacy<3.2.0,>=3.1.0->pt-core-news-lg==3.1.0) (21.0)\n",
            "Requirement already satisfied: murmurhash<1.1.0,>=0.28.0 in /usr/local/lib/python3.7/dist-packages (from spacy<3.2.0,>=3.1.0->pt-core-news-lg==3.1.0) (1.0.5)\n",
            "Requirement already satisfied: typing-extensions<4.0.0.0,>=3.7.4 in /usr/local/lib/python3.7/dist-packages (from spacy<3.2.0,>=3.1.0->pt-core-news-lg==3.1.0) (3.7.4.3)\n",
            "Requirement already satisfied: tqdm<5.0.0,>=4.38.0 in /usr/local/lib/python3.7/dist-packages (from spacy<3.2.0,>=3.1.0->pt-core-news-lg==3.1.0) (4.62.0)\n",
            "Requirement already satisfied: thinc<8.1.0,>=8.0.8 in /usr/local/lib/python3.7/dist-packages (from spacy<3.2.0,>=3.1.0->pt-core-news-lg==3.1.0) (8.0.10)\n",
            "Requirement already satisfied: cymem<2.1.0,>=2.0.2 in /usr/local/lib/python3.7/dist-packages (from spacy<3.2.0,>=3.1.0->pt-core-news-lg==3.1.0) (2.0.5)\n",
            "Requirement already satisfied: wasabi<1.1.0,>=0.8.1 in /usr/local/lib/python3.7/dist-packages (from spacy<3.2.0,>=3.1.0->pt-core-news-lg==3.1.0) (0.8.2)\n",
            "Requirement already satisfied: zipp>=0.5 in /usr/local/lib/python3.7/dist-packages (from catalogue<2.1.0,>=2.0.4->spacy<3.2.0,>=3.1.0->pt-core-news-lg==3.1.0) (3.5.0)\n",
            "Requirement already satisfied: pyparsing>=2.0.2 in /usr/local/lib/python3.7/dist-packages (from packaging>=20.0->spacy<3.2.0,>=3.1.0->pt-core-news-lg==3.1.0) (2.4.7)\n",
            "Requirement already satisfied: smart-open<6.0.0,>=5.0.0 in /usr/local/lib/python3.7/dist-packages (from pathy>=0.3.5->spacy<3.2.0,>=3.1.0->pt-core-news-lg==3.1.0) (5.1.0)\n",
            "Requirement already satisfied: idna<3,>=2.5 in /usr/local/lib/python3.7/dist-packages (from requests<3.0.0,>=2.13.0->spacy<3.2.0,>=3.1.0->pt-core-news-lg==3.1.0) (2.10)\n",
            "Requirement already satisfied: certifi>=2017.4.17 in /usr/local/lib/python3.7/dist-packages (from requests<3.0.0,>=2.13.0->spacy<3.2.0,>=3.1.0->pt-core-news-lg==3.1.0) (2021.5.30)\n",
            "Requirement already satisfied: urllib3!=1.25.0,!=1.25.1,<1.26,>=1.21.1 in /usr/local/lib/python3.7/dist-packages (from requests<3.0.0,>=2.13.0->spacy<3.2.0,>=3.1.0->pt-core-news-lg==3.1.0) (1.24.3)\n",
            "Requirement already satisfied: chardet<4,>=3.0.2 in /usr/local/lib/python3.7/dist-packages (from requests<3.0.0,>=2.13.0->spacy<3.2.0,>=3.1.0->pt-core-news-lg==3.1.0) (3.0.4)\n",
            "Requirement already satisfied: click<7.2.0,>=7.1.1 in /usr/local/lib/python3.7/dist-packages (from typer<0.4.0,>=0.3.0->spacy<3.2.0,>=3.1.0->pt-core-news-lg==3.1.0) (7.1.2)\n",
            "Requirement already satisfied: MarkupSafe>=0.23 in /usr/local/lib/python3.7/dist-packages (from jinja2->spacy<3.2.0,>=3.1.0->pt-core-news-lg==3.1.0) (2.0.1)\n",
            "Installing collected packages: pt-core-news-lg\n",
            "Successfully installed pt-core-news-lg-3.1.0\n",
            "\u001b[38;5;2m✔ Download and installation successful\u001b[0m\n",
            "You can now load the package via spacy.load('pt_core_news_lg')\n"
          ]
        }
      ]
    },
    {
      "cell_type": "code",
      "metadata": {
        "colab": {
          "base_uri": "https://localhost:8080/"
        },
        "id": "nh5vXncjFtud",
        "outputId": "10b2fc75-7650-40fe-f843-8cf38c38b8c9"
      },
      "source": [
        "#EXTRAAAAAAAA AULA\n",
        "!python -m spacy download pt_core_news_sm"
      ],
      "execution_count": 3,
      "outputs": [
        {
          "output_type": "stream",
          "name": "stdout",
          "text": [
            "Collecting pt-core-news-sm==3.1.0\n",
            "  Downloading https://github.com/explosion/spacy-models/releases/download/pt_core_news_sm-3.1.0/pt_core_news_sm-3.1.0-py3-none-any.whl (21.9 MB)\n",
            "\u001b[K     |████████████████████████████████| 21.9 MB 1.4 MB/s \n",
            "\u001b[?25hRequirement already satisfied: spacy<3.2.0,>=3.1.0 in /usr/local/lib/python3.7/dist-packages (from pt-core-news-sm==3.1.0) (3.1.2)\n",
            "Requirement already satisfied: typing-extensions<4.0.0.0,>=3.7.4 in /usr/local/lib/python3.7/dist-packages (from spacy<3.2.0,>=3.1.0->pt-core-news-sm==3.1.0) (3.7.4.3)\n",
            "Requirement already satisfied: spacy-legacy<3.1.0,>=3.0.7 in /usr/local/lib/python3.7/dist-packages (from spacy<3.2.0,>=3.1.0->pt-core-news-sm==3.1.0) (3.0.8)\n",
            "Requirement already satisfied: numpy>=1.15.0 in /usr/local/lib/python3.7/dist-packages (from spacy<3.2.0,>=3.1.0->pt-core-news-sm==3.1.0) (1.19.5)\n",
            "Requirement already satisfied: pathy>=0.3.5 in /usr/local/lib/python3.7/dist-packages (from spacy<3.2.0,>=3.1.0->pt-core-news-sm==3.1.0) (0.6.0)\n",
            "Requirement already satisfied: srsly<3.0.0,>=2.4.1 in /usr/local/lib/python3.7/dist-packages (from spacy<3.2.0,>=3.1.0->pt-core-news-sm==3.1.0) (2.4.1)\n",
            "Requirement already satisfied: blis<0.8.0,>=0.4.0 in /usr/local/lib/python3.7/dist-packages (from spacy<3.2.0,>=3.1.0->pt-core-news-sm==3.1.0) (0.4.1)\n",
            "Requirement already satisfied: pydantic!=1.8,!=1.8.1,<1.9.0,>=1.7.4 in /usr/local/lib/python3.7/dist-packages (from spacy<3.2.0,>=3.1.0->pt-core-news-sm==3.1.0) (1.8.2)\n",
            "Requirement already satisfied: packaging>=20.0 in /usr/local/lib/python3.7/dist-packages (from spacy<3.2.0,>=3.1.0->pt-core-news-sm==3.1.0) (21.0)\n",
            "Requirement already satisfied: jinja2 in /usr/local/lib/python3.7/dist-packages (from spacy<3.2.0,>=3.1.0->pt-core-news-sm==3.1.0) (2.11.3)\n",
            "Requirement already satisfied: catalogue<2.1.0,>=2.0.4 in /usr/local/lib/python3.7/dist-packages (from spacy<3.2.0,>=3.1.0->pt-core-news-sm==3.1.0) (2.0.6)\n",
            "Requirement already satisfied: setuptools in /usr/local/lib/python3.7/dist-packages (from spacy<3.2.0,>=3.1.0->pt-core-news-sm==3.1.0) (57.4.0)\n",
            "Requirement already satisfied: wasabi<1.1.0,>=0.8.1 in /usr/local/lib/python3.7/dist-packages (from spacy<3.2.0,>=3.1.0->pt-core-news-sm==3.1.0) (0.8.2)\n",
            "Requirement already satisfied: typer<0.4.0,>=0.3.0 in /usr/local/lib/python3.7/dist-packages (from spacy<3.2.0,>=3.1.0->pt-core-news-sm==3.1.0) (0.3.2)\n",
            "Requirement already satisfied: preshed<3.1.0,>=3.0.2 in /usr/local/lib/python3.7/dist-packages (from spacy<3.2.0,>=3.1.0->pt-core-news-sm==3.1.0) (3.0.5)\n",
            "Requirement already satisfied: requests<3.0.0,>=2.13.0 in /usr/local/lib/python3.7/dist-packages (from spacy<3.2.0,>=3.1.0->pt-core-news-sm==3.1.0) (2.23.0)\n",
            "Requirement already satisfied: murmurhash<1.1.0,>=0.28.0 in /usr/local/lib/python3.7/dist-packages (from spacy<3.2.0,>=3.1.0->pt-core-news-sm==3.1.0) (1.0.5)\n",
            "Requirement already satisfied: tqdm<5.0.0,>=4.38.0 in /usr/local/lib/python3.7/dist-packages (from spacy<3.2.0,>=3.1.0->pt-core-news-sm==3.1.0) (4.62.0)\n",
            "Requirement already satisfied: cymem<2.1.0,>=2.0.2 in /usr/local/lib/python3.7/dist-packages (from spacy<3.2.0,>=3.1.0->pt-core-news-sm==3.1.0) (2.0.5)\n",
            "Requirement already satisfied: thinc<8.1.0,>=8.0.8 in /usr/local/lib/python3.7/dist-packages (from spacy<3.2.0,>=3.1.0->pt-core-news-sm==3.1.0) (8.0.10)\n",
            "Requirement already satisfied: zipp>=0.5 in /usr/local/lib/python3.7/dist-packages (from catalogue<2.1.0,>=2.0.4->spacy<3.2.0,>=3.1.0->pt-core-news-sm==3.1.0) (3.5.0)\n",
            "Requirement already satisfied: pyparsing>=2.0.2 in /usr/local/lib/python3.7/dist-packages (from packaging>=20.0->spacy<3.2.0,>=3.1.0->pt-core-news-sm==3.1.0) (2.4.7)\n",
            "Requirement already satisfied: smart-open<6.0.0,>=5.0.0 in /usr/local/lib/python3.7/dist-packages (from pathy>=0.3.5->spacy<3.2.0,>=3.1.0->pt-core-news-sm==3.1.0) (5.1.0)\n",
            "Requirement already satisfied: certifi>=2017.4.17 in /usr/local/lib/python3.7/dist-packages (from requests<3.0.0,>=2.13.0->spacy<3.2.0,>=3.1.0->pt-core-news-sm==3.1.0) (2021.5.30)\n",
            "Requirement already satisfied: idna<3,>=2.5 in /usr/local/lib/python3.7/dist-packages (from requests<3.0.0,>=2.13.0->spacy<3.2.0,>=3.1.0->pt-core-news-sm==3.1.0) (2.10)\n",
            "Requirement already satisfied: urllib3!=1.25.0,!=1.25.1,<1.26,>=1.21.1 in /usr/local/lib/python3.7/dist-packages (from requests<3.0.0,>=2.13.0->spacy<3.2.0,>=3.1.0->pt-core-news-sm==3.1.0) (1.24.3)\n",
            "Requirement already satisfied: chardet<4,>=3.0.2 in /usr/local/lib/python3.7/dist-packages (from requests<3.0.0,>=2.13.0->spacy<3.2.0,>=3.1.0->pt-core-news-sm==3.1.0) (3.0.4)\n",
            "Requirement already satisfied: click<7.2.0,>=7.1.1 in /usr/local/lib/python3.7/dist-packages (from typer<0.4.0,>=0.3.0->spacy<3.2.0,>=3.1.0->pt-core-news-sm==3.1.0) (7.1.2)\n",
            "Requirement already satisfied: MarkupSafe>=0.23 in /usr/local/lib/python3.7/dist-packages (from jinja2->spacy<3.2.0,>=3.1.0->pt-core-news-sm==3.1.0) (2.0.1)\n",
            "Installing collected packages: pt-core-news-sm\n",
            "  Attempting uninstall: pt-core-news-sm\n",
            "    Found existing installation: pt-core-news-sm 2.2.5\n",
            "    Uninstalling pt-core-news-sm-2.2.5:\n",
            "      Successfully uninstalled pt-core-news-sm-2.2.5\n",
            "Successfully installed pt-core-news-sm-3.1.0\n",
            "\u001b[38;5;2m✔ Download and installation successful\u001b[0m\n",
            "You can now load the package via spacy.load('pt_core_news_sm')\n"
          ]
        }
      ]
    },
    {
      "cell_type": "code",
      "metadata": {
        "id": "SKDyXcOuEhsW"
      },
      "source": [
        "# \n",
        "from spacy.lang.pt.examples import sentences "
      ],
      "execution_count": 2,
      "outputs": []
    },
    {
      "cell_type": "code",
      "metadata": {
        "id": "WKnYRIQLLdlh"
      },
      "source": [
        "#https://universaldependencies.org/u/pos/all.html#al-u-pos/AUX\n",
        "\n",
        "#https://spacy.io/models/pt\n",
        "\n",
        "  #ADJ ADJETIVO = Adjetivos são palavras que normalmente modificam substantivos e especificam suas propriedades ou atributos\n",
        "    #exemplo: grande, velho, verde, primeiro, segundo\n",
        "\n",
        "  #ADV ADVERBIO = Advérbios são palavras que normalmente modificam os verbos  tempo, lugar, direção ou maneira\n",
        "    #exemplo: muito, extamente, amanhã, nunca\n",
        "\n",
        "  #ADP ADPOSIÇÃO = Adposição é um termo abrangente para preposições e pós-posições.\n",
        "    #exemplo: no, para, decorrer\n",
        "\n",
        "  #AUX AUXILIAR = Um auxiliar é uma palavra funcional que acompanha o verbo lexical de uma frase verbal \n",
        "    #exemplo: deve, é \n",
        "\n",
        "  #CCONJ: conjunção coordenativa = Uma conjunção coordenadora é uma palavra que liga palavras ou constituintes maiores sem subordinar sintaticamente um ao outro \n",
        "    #exemplo: e, ou, mas\n",
        "\n",
        "  #DET: DETERMINANTE = Determinantes são palavras que modificam substantivos ou sintagmas nominais e expressam a referência do sintagma nominal no contexto.\n",
        "    #exemplo: este, qual , há\n",
        "\n",
        "  #INTJ INTERJEIÇÃO = Uma interjeição é uma palavra usada na maioria das vezes como uma exclamação ou parte de uma exclamação.\n",
        "    #exemplo: bravo, olá\n",
        "\n",
        "  #NUM NUMERAL = expressa um número e uma relação com o número\n",
        "    #exemplo: 0,1,2,1000, I, IV, MMXIV\n",
        "\n",
        "  #NOUN SUBSTANTIVO = classe gramatical que normalmente denota uma pessoa, lugar, coisa, animal ou ideia.\n",
        "    #exemplo: garota, gato, beleza\n",
        "    \n",
        "  #PART PARTICULA = Partículas são palavras funcionais que devem ser associadas a outra palavra ou frase para transmitir significado\n",
        "    #exemplo: 's , não, \n",
        "\n",
        "  #PUNCT PONTUAÇÃO = Os sinais de pontuação são caracteres não alfabéticos e grupos de caracteres usados\n",
        "    #exemplo: . , ()\n",
        "\n",
        "  #PROPN PRONOME = substantivo próprio é um substantivo (ou palavra de conteúdo nominal) \n",
        "    #exemplo: eu, voce, ela, todos, tudo, ninguem, nada\n",
        "\n",
        "  #SCONJ CONJUNÇÂO SUBORDINADA =  é uma conjunção que liga construções tornando uma delas um constituinte da outra\n",
        "    #exemplo: que, e se, enquanto\n",
        "\n",
        "  #SYM SIMBOLO = Um símbolo é uma entidade semelhante a uma palavra que difere das palavras comuns pela forma\n",
        "    #exemplo: $, %, +, -\n",
        "\n",
        "  #VERB VERBO = Um verbo é um membro da classe sintática de palavras que normalmente sinalizam eventos e ações\n",
        "    #exemplo: correr, comeu, correndo\n",
        "\n",
        "  #X OUTROS = A tag Xé usada para palavras que, por algum motivo, não podem ser atribuídas a uma categoria de classe gramatical real\n",
        "    #exemplo: xfgh , lkksas\n",
        "  "
      ],
      "execution_count": null,
      "outputs": []
    },
    {
      "cell_type": "code",
      "metadata": {
        "id": "VbJku4FZEp5m"
      },
      "source": [
        "import spacy"
      ],
      "execution_count": 4,
      "outputs": []
    },
    {
      "cell_type": "code",
      "metadata": {
        "id": "XY3Shp_9GFfC"
      },
      "source": [
        "nlp = spacy.load(\"pt_core_news_sm\")"
      ],
      "execution_count": 4,
      "outputs": []
    },
    {
      "cell_type": "code",
      "metadata": {
        "id": "cy6b6jHhGIb0"
      },
      "source": [
        "documento = nlp(\"O xfgh comeu + enquanto voce, não garota 10 bravo há mas deve decorrer exatamente primeiro\")"
      ],
      "execution_count": 5,
      "outputs": []
    },
    {
      "cell_type": "code",
      "metadata": {
        "colab": {
          "base_uri": "https://localhost:8080/"
        },
        "id": "5ojhV3QUGTuS",
        "outputId": "e536dec7-c5d4-4e37-dcd2-a7a9a8a473f0"
      },
      "source": [
        "for palavra in documento:\n",
        "  print(palavra.text, palavra.pos_)\n",
        "\n",
        "  \n",
        "  \n",
        "\n",
        "\n"
      ],
      "execution_count": 6,
      "outputs": [
        {
          "output_type": "stream",
          "name": "stdout",
          "text": [
            "O DET\n",
            "xfgh NOUN\n",
            "comeu VERB\n",
            "+ NOUN\n",
            "enquanto ADP\n",
            "voce NOUN\n",
            ", PUNCT\n",
            "não ADV\n",
            "garota VERB\n",
            "10 NUM\n",
            "bravo VERB\n",
            "há VERB\n",
            "mas CCONJ\n",
            "deve VERB\n",
            "decorrer VERB\n",
            "exatamente ADV\n",
            "primeiro ADV\n"
          ]
        }
      ]
    },
    {
      "cell_type": "code",
      "metadata": {
        "id": "5J8d1kJvMAGx"
      },
      "source": [
        "# O DET - DETERMINANTE = Determinantes são palavras que modificam substantivos ou sintagmas \n",
        "# xfgh NOUN - uma pessoa, lugar, coisa, animal ou ideia.\n",
        "# comeu VERB\n",
        "# + NOUN - uma pessoa, lugar, coisa, animal ou ideia.\n",
        "# enquanto ADP\n",
        "# voce NOUN\n",
        "# , PUNCT PONTUAÇÃO\n",
        "# não ADV\n",
        "# garota VERB\n",
        "# 10 NUM\n",
        "# bravo VERB\n",
        "# há VERB\n",
        "# mas CCONJ\n",
        "# deve VERB\n",
        "# decorrer VERB\n",
        "# exatamente ADV Advérbios são palavras que normalmente modificam os verbos\n",
        "# primeiro ADV"
      ],
      "execution_count": null,
      "outputs": []
    }
  ]
}