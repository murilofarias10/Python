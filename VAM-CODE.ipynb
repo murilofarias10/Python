{
 "cells": [
  {
   "cell_type": "markdown",
   "metadata": {},
   "source": [
    "The code below goes to the VAM folder, analyzes all the subfolders, identifies which files are PDFs, and extracts them to the ALL_PDF folder.\n",
    "If there are two files with the same name, it keeps the newest one."
   ]
  },
  {
   "cell_type": "code",
   "execution_count": null,
   "metadata": {},
   "outputs": [],
   "source": [
    "import os\n",
    "import shutil\n",
    "\n",
    "# Set the path to your main folder\n",
    "main_folder = r\"C:\\Users\\MuriloFarias\\OneDrive - Kubik Engenharia Ltda\\Área de Trabalho\\VAM\"\n",
    "\n",
    "# Create a destination folder to store all PDFs with a fixed name\n",
    "destination_folder = os.path.join(main_folder, \"ALL_PDF\")\n",
    "os.makedirs(destination_folder, exist_ok=True)\n",
    "\n",
    "# Walk through all subfolders in the main folder\n",
    "for root, dirs, files in os.walk(main_folder):\n",
    "    # Skip the ALL_PDF folder\n",
    "    if destination_folder in root:\n",
    "        continue\n",
    "\n",
    "    for file in files:\n",
    "        if file.lower().endswith(\".pdf\"):  # Check if the file is a PDF\n",
    "            source_file = os.path.join(root, file)\n",
    "            destination_file = os.path.join(destination_folder, file)\n",
    "\n",
    "            if os.path.exists(destination_file):\n",
    "                # Compare last modified time of both files\n",
    "                source_modified_time = os.path.getmtime(source_file)\n",
    "                destination_modified_time = os.path.getmtime(destination_file)\n",
    "\n",
    "                if source_modified_time > destination_modified_time:\n",
    "                    # Replace the older file in the destination folder\n",
    "                    shutil.copy(source_file, destination_file)\n",
    "                    print(f\"Replaced older file: {file}\")\n",
    "                else:\n",
    "                    print(f\"Skipped older file: {file}\")\n",
    "            else:\n",
    "                # Copy the file if it doesn't exist in the destination\n",
    "                shutil.copy(source_file, destination_folder)\n",
    "                print(f\"Copied new file: {file}\")\n",
    "\n",
    "print(f\"All PDFs have been copied to: {destination_folder}\")\n"
   ]
  }
 ],
 "metadata": {
  "kernelspec": {
   "display_name": "Python 3",
   "language": "python",
   "name": "python3"
  },
  "language_info": {
   "codemirror_mode": {
    "name": "ipython",
    "version": 3
   },
   "file_extension": ".py",
   "mimetype": "text/x-python",
   "name": "python",
   "nbconvert_exporter": "python",
   "pygments_lexer": "ipython3",
   "version": "3.11.9"
  }
 },
 "nbformat": 4,
 "nbformat_minor": 2
}
