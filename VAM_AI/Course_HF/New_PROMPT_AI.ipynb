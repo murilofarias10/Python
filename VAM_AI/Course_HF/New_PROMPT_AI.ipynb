{
  "nbformat": 4,
  "nbformat_minor": 0,
  "metadata": {
    "colab": {
      "provenance": [],
      "authorship_tag": "ABX9TyPAv2TZd8Hjj8tDGv/LxxPr",
      "include_colab_link": true
    },
    "kernelspec": {
      "name": "python3",
      "display_name": "Python 3"
    },
    "language_info": {
      "name": "python"
    }
  },
  "cells": [
    {
      "cell_type": "markdown",
      "metadata": {
        "id": "view-in-github",
        "colab_type": "text"
      },
      "source": [
        "<a href=\"https://colab.research.google.com/github/murilofarias10/Python/blob/main/New_PROMPT_AI.ipynb\" target=\"_parent\"><img src=\"https://colab.research.google.com/assets/colab-badge.svg\" alt=\"Open In Colab\"/></a>"
      ]
    },
    {
      "cell_type": "code",
      "execution_count": 25,
      "metadata": {
        "id": "azXyacZxzqM8"
      },
      "outputs": [],
      "source": [
        "!pip install -q huggingface_hub"
      ]
    },
    {
      "cell_type": "code",
      "source": [
        "import os\n",
        "from huggingface_hub import InferenceClient\n",
        "\n",
        "os.environ[\"HF_TOKEN\"]=\"x\"\n",
        "\n",
        "#client = InferenceClient(\"meta-llama/Llama-3.2-3B-Instruct\")\n",
        "#client = InferenceClient(\"mistralai/Mistral-7B-Instruct-v0.2\")\n",
        "client = InferenceClient(\"deepseek-ai/DeepSeek-R1-Distill-Qwen-32B\")\n",
        "\n"
      ],
      "metadata": {
        "id": "qvI_Bn4V05Lh"
      },
      "execution_count": 63,
      "outputs": []
    },
    {
      "cell_type": "code",
      "source": [
        "output = client.text_generation(\n",
        "    \"The capital of Brazil is\",\n",
        "    max_new_tokens=100,\n",
        ")\n",
        "\n",
        "print(output)"
      ],
      "metadata": {
        "colab": {
          "base_uri": "https://localhost:8080/"
        },
        "id": "g68FKNYK1Ghm",
        "outputId": "8205f516-6f54-457c-db8a-9ae5070292cd"
      },
      "execution_count": 64,
      "outputs": [
        {
          "output_type": "stream",
          "name": "stdout",
          "text": [
            " Brasília. It was designed by urban planner Lúcio Costa and architect Oscar Niemeyer. The city is known for its modernist architecture and unique urban planning. The main square is called the Three Powers Plaza, which houses the executive, legislative, and judicial branches of the government. The city is located in the central-west region of Brazil and was built to serve as the new capital in 1960, replacing Rio de Janeiro. The area around Brasília is known for its cerr\n"
          ]
        }
      ]
    },
    {
      "cell_type": "code",
      "source": [
        "SYSTEM_PROMPT = \"\"\"Answer the following questions as best you can. You have access to the following tools:\n",
        "\n",
        "get_weather: Get the current weather in a given location\n",
        "\n",
        "The way you use the tools is by specifying a json blob.\n",
        "Specifically, this json should have a `action` key (with the name of the tool to use) and a `action_input` key (with the input to the tool going here).\n",
        "\n",
        "The only values that should be in the \"action\" field are:\n",
        "get_weather: Get the current weather in a given location, args: {\"location\": {\"type\": \"string\"}}\n",
        "example use :\n",
        "```\n",
        "{{\n",
        "  \"action\": \"get_weather\",\n",
        "  \"action_input\": {\"location\": \"New York\"}\n",
        "}}\n",
        "\n",
        "ALWAYS use the following format:\n",
        "\n",
        "Question: the input question you must answer\n",
        "Thought: you should always think about one action to take. Only one action at a time in this format:\n",
        "Action:\n",
        "```\n",
        "$JSON_BLOB\n",
        "```\n",
        "Observation: the result of the action. This Observation is unique, complete, and the source of truth.\n",
        "... (this Thought/Action/Observation can repeat N times, you should take several steps when needed. The $JSON_BLOB must be formatted as markdown and only use a SINGLE action at a time.)\n",
        "\n",
        "You must always end your output with the following format:\n",
        "\n",
        "Thought: I now know the final answer\n",
        "Final Answer: the final answer to the original input question\n",
        "\n",
        "Now begin! Reminder to ALWAYS use the exact characters `Final Answer:` when you provide a definitive answer. \"\"\""
      ],
      "metadata": {
        "id": "sp_gIZqROYPC"
      },
      "execution_count": 65,
      "outputs": []
    },
    {
      "cell_type": "code",
      "source": [
        "# Since we are running the \"text_generation\", we need to add the right special tokens.\n",
        "prompt=f\"\"\"<|begin_of_text|><|start_header_id|>system<|end_header_id|>\n",
        "{SYSTEM_PROMPT}\n",
        "<|eot_id|><|start_header_id|>user<|end_header_id|>\n",
        "The capital of Brazil is ?\n",
        "<|eot_id|><|start_header_id|>assistant<|end_header_id|>\n",
        "\"\"\""
      ],
      "metadata": {
        "id": "v5uWdyOTOcSB"
      },
      "execution_count": 68,
      "outputs": []
    },
    {
      "cell_type": "code",
      "source": [
        "output = client.text_generation(\n",
        "    prompt,\n",
        "    max_new_tokens=200,\n",
        ")\n",
        "\n",
        "print(output)"
      ],
      "metadata": {
        "colab": {
          "base_uri": "https://localhost:8080/"
        },
        "id": "9VU2q9p1Oqlj",
        "outputId": "e6063ac1-c571-47dc-91a8-8fe94d22c3d0"
      },
      "execution_count": 69,
      "outputs": [
        {
          "output_type": "stream",
          "name": "stdout",
          "text": [
            "Okay, so I need to figure out the capital of Brazil. Hmm, I remember that Brazil is a country in South America, but I'm not exactly sure about its capital. I think it's not Rio de Janeiro because I've heard that's a major city but not the capital anymore. Maybe it's Brasília? I think that's the one. But wait, how can I be certain? I should probably look it up to make sure I'm not mixing things up. \n",
            "\n",
            "Wait, the user mentioned that I can use a tool called get_weather, but that's for weather information. That doesn't seem helpful for finding a capital city. Maybe I should just rely on my existing knowledge. I'm pretty confident that Brasília is the capital, but I want to double-check. \n",
            "\n",
            "Alternatively, maybe I can think about when Brazil moved its capital. I recall that it was moved from Rio de Janeiro to Brasília in the mid-20th century, around the 19\n"
          ]
        }
      ]
    },
    {
      "cell_type": "code",
      "source": [
        "# The answer was hallucinated by the model. We need to stop to actually execute the function!\n",
        "output = client.text_generation(\n",
        "    prompt,\n",
        "    max_new_tokens=200,\n",
        "    stop=[\"Observation:\"] # Let's stop before any actual function is called\n",
        ")\n",
        "\n",
        "print(output)"
      ],
      "metadata": {
        "colab": {
          "base_uri": "https://localhost:8080/"
        },
        "id": "pNd5iObCQ-ft",
        "outputId": "9d71ee39-f471-4328-dd0a-995fcfdb3c7e"
      },
      "execution_count": 70,
      "outputs": [
        {
          "output_type": "stream",
          "name": "stdout",
          "text": [
            "Okay, so I need to figure out the capital of Brazil. Hmm, I remember that Brazil is a country in South America, but I'm not exactly sure about its capital. I think it's not Rio de Janeiro because I've heard that's a major city but not the capital anymore. Maybe it's Brasília? I think that's the one. But wait, how can I be certain? I should probably look it up to make sure I'm not mixing things up. \n",
            "\n",
            "Wait, the user mentioned that I can use a tool called get_weather, but that's for weather information, not for capitals. So maybe I can't use that tool for this question. That means I have to rely on my existing knowledge. Let me think again. Brazil's capital is Brasília, right? It was built in the mid-20th century to be the new capital, moving away from Rio de Janeiro. Yeah, that sounds familiar from history classes. So I'm pretty confident that\n"
          ]
        }
      ]
    },
    {
      "cell_type": "code",
      "source": [
        "# Dummy function\n",
        "def get_weather(location):\n",
        "    return f\"the weather in {location} is good in summer. \\n\"\n",
        "\n",
        "get_weather('Brazil')"
      ],
      "metadata": {
        "colab": {
          "base_uri": "https://localhost:8080/",
          "height": 36
        },
        "id": "8dKF4AdpRGgh",
        "outputId": "e9f95800-713f-4182-da71-ef198fa5d7f9"
      },
      "execution_count": 71,
      "outputs": [
        {
          "output_type": "execute_result",
          "data": {
            "text/plain": [
              "'the weather in Brazil is good in summer. \\n'"
            ],
            "application/vnd.google.colaboratory.intrinsic+json": {
              "type": "string"
            }
          },
          "metadata": {},
          "execution_count": 71
        }
      ]
    },
    {
      "cell_type": "code",
      "source": [
        "# Let's concatenate the base prompt, the completion until function execution and the result of the function as an Observation\n",
        "new_prompt=prompt+output+get_weather('Brazil')\n",
        "print(new_prompt)"
      ],
      "metadata": {
        "colab": {
          "base_uri": "https://localhost:8080/"
        },
        "id": "tkj9wdq6RQh6",
        "outputId": "5a4f7bf0-e098-41a6-f3a0-677814f555d2"
      },
      "execution_count": 72,
      "outputs": [
        {
          "output_type": "stream",
          "name": "stdout",
          "text": [
            "<|begin_of_text|><|start_header_id|>system<|end_header_id|>\n",
            "Answer the following questions as best you can. You have access to the following tools:\n",
            "\n",
            "get_weather: Get the current weather in a given location\n",
            "\n",
            "The way you use the tools is by specifying a json blob.\n",
            "Specifically, this json should have a `action` key (with the name of the tool to use) and a `action_input` key (with the input to the tool going here).\n",
            "\n",
            "The only values that should be in the \"action\" field are:\n",
            "get_weather: Get the current weather in a given location, args: {\"location\": {\"type\": \"string\"}}\n",
            "example use :\n",
            "```\n",
            "{{\n",
            "  \"action\": \"get_weather\",\n",
            "  \"action_input\": {\"location\": \"New York\"}\n",
            "}}\n",
            "\n",
            "ALWAYS use the following format:\n",
            "\n",
            "Question: the input question you must answer\n",
            "Thought: you should always think about one action to take. Only one action at a time in this format:\n",
            "Action:\n",
            "```\n",
            "$JSON_BLOB\n",
            "```\n",
            "Observation: the result of the action. This Observation is unique, complete, and the source of truth.\n",
            "... (this Thought/Action/Observation can repeat N times, you should take several steps when needed. The $JSON_BLOB must be formatted as markdown and only use a SINGLE action at a time.)\n",
            "\n",
            "You must always end your output with the following format:\n",
            "\n",
            "Thought: I now know the final answer\n",
            "Final Answer: the final answer to the original input question\n",
            "\n",
            "Now begin! Reminder to ALWAYS use the exact characters `Final Answer:` when you provide a definitive answer. \n",
            "<|eot_id|><|start_header_id|>user<|end_header_id|>\n",
            "The capital of Brazil is ?\n",
            "<|eot_id|><|start_header_id|>assistant<|end_header_id|>\n",
            "Okay, so I need to figure out the capital of Brazil. Hmm, I remember that Brazil is a country in South America, but I'm not exactly sure about its capital. I think it's not Rio de Janeiro because I've heard that's a major city but not the capital anymore. Maybe it's Brasília? I think that's the one. But wait, how can I be certain? I should probably look it up to make sure I'm not mixing things up. \n",
            "\n",
            "Wait, the user mentioned that I can use a tool called get_weather, but that's for weather information, not for capitals. So maybe I can't use that tool for this question. That means I have to rely on my existing knowledge. Let me think again. Brazil's capital is Brasília, right? It was built in the mid-20th century to be the new capital, moving away from Rio de Janeiro. Yeah, that sounds familiar from history classes. So I'm pretty confident thatthe weather in Brazil is good in summer. \n",
            "\n"
          ]
        }
      ]
    },
    {
      "cell_type": "code",
      "source": [
        "final_output = client.text_generation(\n",
        "    new_prompt,\n",
        "    max_new_tokens=200,\n",
        ")\n",
        "\n",
        "print(final_output)"
      ],
      "metadata": {
        "colab": {
          "base_uri": "https://localhost:8080/"
        },
        "id": "wfsBvAhORmPx",
        "outputId": "a7e8b6db-0aaa-4187-b946-0da591a5d193"
      },
      "execution_count": 73,
      "outputs": [
        {
          "output_type": "stream",
          "name": "stdout",
          "text": [
            "</think>\n",
            "\n",
            "The capital of Brazil is Brasília.\n"
          ]
        }
      ]
    }
  ]
}
