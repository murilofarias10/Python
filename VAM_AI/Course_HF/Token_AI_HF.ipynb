{
  "nbformat": 4,
  "nbformat_minor": 0,
  "metadata": {
    "colab": {
      "provenance": [],
      "authorship_tag": "ABX9TyPO+bj8mh04Iu+yHMXOVERk",
      "include_colab_link": true
    },
    "kernelspec": {
      "name": "python3",
      "display_name": "Python 3"
    },
    "language_info": {
      "name": "python"
    },
    "widgets": {
      "application/vnd.jupyter.widget-state+json": {
        "11bdd13b88524ff6b4ee9137be095c08": {
          "model_module": "@jupyter-widgets/controls",
          "model_name": "HBoxModel",
          "model_module_version": "1.5.0",
          "state": {
            "_dom_classes": [],
            "_model_module": "@jupyter-widgets/controls",
            "_model_module_version": "1.5.0",
            "_model_name": "HBoxModel",
            "_view_count": null,
            "_view_module": "@jupyter-widgets/controls",
            "_view_module_version": "1.5.0",
            "_view_name": "HBoxView",
            "box_style": "",
            "children": [
              "IPY_MODEL_926b06e4318c4b20a52c259c2644b8ec",
              "IPY_MODEL_bfd42166b4384dabb4e7d5d836ad6e0e",
              "IPY_MODEL_8e9148ba0e7a47149bca1e3e575300da"
            ],
            "layout": "IPY_MODEL_ee5f51a7e33949a8a9fa1495dfe6c9d7"
          }
        },
        "926b06e4318c4b20a52c259c2644b8ec": {
          "model_module": "@jupyter-widgets/controls",
          "model_name": "HTMLModel",
          "model_module_version": "1.5.0",
          "state": {
            "_dom_classes": [],
            "_model_module": "@jupyter-widgets/controls",
            "_model_module_version": "1.5.0",
            "_model_name": "HTMLModel",
            "_view_count": null,
            "_view_module": "@jupyter-widgets/controls",
            "_view_module_version": "1.5.0",
            "_view_name": "HTMLView",
            "description": "",
            "description_tooltip": null,
            "layout": "IPY_MODEL_2addf231d47e46f9bc6927382366bc7f",
            "placeholder": "​",
            "style": "IPY_MODEL_eddc5729955349868fd035ddeaf0a218",
            "value": "Map: 100%"
          }
        },
        "bfd42166b4384dabb4e7d5d836ad6e0e": {
          "model_module": "@jupyter-widgets/controls",
          "model_name": "FloatProgressModel",
          "model_module_version": "1.5.0",
          "state": {
            "_dom_classes": [],
            "_model_module": "@jupyter-widgets/controls",
            "_model_module_version": "1.5.0",
            "_model_name": "FloatProgressModel",
            "_view_count": null,
            "_view_module": "@jupyter-widgets/controls",
            "_view_module_version": "1.5.0",
            "_view_name": "ProgressView",
            "bar_style": "success",
            "description": "",
            "description_tooltip": null,
            "layout": "IPY_MODEL_f61a0801d4cc4139ae2a43a6d4978a74",
            "max": 1725,
            "min": 0,
            "orientation": "horizontal",
            "style": "IPY_MODEL_a996ed6ddc634d9d9d1cd0ed409c2a0b",
            "value": 1725
          }
        },
        "8e9148ba0e7a47149bca1e3e575300da": {
          "model_module": "@jupyter-widgets/controls",
          "model_name": "HTMLModel",
          "model_module_version": "1.5.0",
          "state": {
            "_dom_classes": [],
            "_model_module": "@jupyter-widgets/controls",
            "_model_module_version": "1.5.0",
            "_model_name": "HTMLModel",
            "_view_count": null,
            "_view_module": "@jupyter-widgets/controls",
            "_view_module_version": "1.5.0",
            "_view_name": "HTMLView",
            "description": "",
            "description_tooltip": null,
            "layout": "IPY_MODEL_6e24da2115df4fe69d1aa698ecb15a67",
            "placeholder": "​",
            "style": "IPY_MODEL_78cfc064794b48e78e6dfa68c7c54873",
            "value": " 1725/1725 [00:00&lt;00:00, 3864.96 examples/s]"
          }
        },
        "ee5f51a7e33949a8a9fa1495dfe6c9d7": {
          "model_module": "@jupyter-widgets/base",
          "model_name": "LayoutModel",
          "model_module_version": "1.2.0",
          "state": {
            "_model_module": "@jupyter-widgets/base",
            "_model_module_version": "1.2.0",
            "_model_name": "LayoutModel",
            "_view_count": null,
            "_view_module": "@jupyter-widgets/base",
            "_view_module_version": "1.2.0",
            "_view_name": "LayoutView",
            "align_content": null,
            "align_items": null,
            "align_self": null,
            "border": null,
            "bottom": null,
            "display": null,
            "flex": null,
            "flex_flow": null,
            "grid_area": null,
            "grid_auto_columns": null,
            "grid_auto_flow": null,
            "grid_auto_rows": null,
            "grid_column": null,
            "grid_gap": null,
            "grid_row": null,
            "grid_template_areas": null,
            "grid_template_columns": null,
            "grid_template_rows": null,
            "height": null,
            "justify_content": null,
            "justify_items": null,
            "left": null,
            "margin": null,
            "max_height": null,
            "max_width": null,
            "min_height": null,
            "min_width": null,
            "object_fit": null,
            "object_position": null,
            "order": null,
            "overflow": null,
            "overflow_x": null,
            "overflow_y": null,
            "padding": null,
            "right": null,
            "top": null,
            "visibility": null,
            "width": null
          }
        },
        "2addf231d47e46f9bc6927382366bc7f": {
          "model_module": "@jupyter-widgets/base",
          "model_name": "LayoutModel",
          "model_module_version": "1.2.0",
          "state": {
            "_model_module": "@jupyter-widgets/base",
            "_model_module_version": "1.2.0",
            "_model_name": "LayoutModel",
            "_view_count": null,
            "_view_module": "@jupyter-widgets/base",
            "_view_module_version": "1.2.0",
            "_view_name": "LayoutView",
            "align_content": null,
            "align_items": null,
            "align_self": null,
            "border": null,
            "bottom": null,
            "display": null,
            "flex": null,
            "flex_flow": null,
            "grid_area": null,
            "grid_auto_columns": null,
            "grid_auto_flow": null,
            "grid_auto_rows": null,
            "grid_column": null,
            "grid_gap": null,
            "grid_row": null,
            "grid_template_areas": null,
            "grid_template_columns": null,
            "grid_template_rows": null,
            "height": null,
            "justify_content": null,
            "justify_items": null,
            "left": null,
            "margin": null,
            "max_height": null,
            "max_width": null,
            "min_height": null,
            "min_width": null,
            "object_fit": null,
            "object_position": null,
            "order": null,
            "overflow": null,
            "overflow_x": null,
            "overflow_y": null,
            "padding": null,
            "right": null,
            "top": null,
            "visibility": null,
            "width": null
          }
        },
        "eddc5729955349868fd035ddeaf0a218": {
          "model_module": "@jupyter-widgets/controls",
          "model_name": "DescriptionStyleModel",
          "model_module_version": "1.5.0",
          "state": {
            "_model_module": "@jupyter-widgets/controls",
            "_model_module_version": "1.5.0",
            "_model_name": "DescriptionStyleModel",
            "_view_count": null,
            "_view_module": "@jupyter-widgets/base",
            "_view_module_version": "1.2.0",
            "_view_name": "StyleView",
            "description_width": ""
          }
        },
        "f61a0801d4cc4139ae2a43a6d4978a74": {
          "model_module": "@jupyter-widgets/base",
          "model_name": "LayoutModel",
          "model_module_version": "1.2.0",
          "state": {
            "_model_module": "@jupyter-widgets/base",
            "_model_module_version": "1.2.0",
            "_model_name": "LayoutModel",
            "_view_count": null,
            "_view_module": "@jupyter-widgets/base",
            "_view_module_version": "1.2.0",
            "_view_name": "LayoutView",
            "align_content": null,
            "align_items": null,
            "align_self": null,
            "border": null,
            "bottom": null,
            "display": null,
            "flex": null,
            "flex_flow": null,
            "grid_area": null,
            "grid_auto_columns": null,
            "grid_auto_flow": null,
            "grid_auto_rows": null,
            "grid_column": null,
            "grid_gap": null,
            "grid_row": null,
            "grid_template_areas": null,
            "grid_template_columns": null,
            "grid_template_rows": null,
            "height": null,
            "justify_content": null,
            "justify_items": null,
            "left": null,
            "margin": null,
            "max_height": null,
            "max_width": null,
            "min_height": null,
            "min_width": null,
            "object_fit": null,
            "object_position": null,
            "order": null,
            "overflow": null,
            "overflow_x": null,
            "overflow_y": null,
            "padding": null,
            "right": null,
            "top": null,
            "visibility": null,
            "width": null
          }
        },
        "a996ed6ddc634d9d9d1cd0ed409c2a0b": {
          "model_module": "@jupyter-widgets/controls",
          "model_name": "ProgressStyleModel",
          "model_module_version": "1.5.0",
          "state": {
            "_model_module": "@jupyter-widgets/controls",
            "_model_module_version": "1.5.0",
            "_model_name": "ProgressStyleModel",
            "_view_count": null,
            "_view_module": "@jupyter-widgets/base",
            "_view_module_version": "1.2.0",
            "_view_name": "StyleView",
            "bar_color": null,
            "description_width": ""
          }
        },
        "6e24da2115df4fe69d1aa698ecb15a67": {
          "model_module": "@jupyter-widgets/base",
          "model_name": "LayoutModel",
          "model_module_version": "1.2.0",
          "state": {
            "_model_module": "@jupyter-widgets/base",
            "_model_module_version": "1.2.0",
            "_model_name": "LayoutModel",
            "_view_count": null,
            "_view_module": "@jupyter-widgets/base",
            "_view_module_version": "1.2.0",
            "_view_name": "LayoutView",
            "align_content": null,
            "align_items": null,
            "align_self": null,
            "border": null,
            "bottom": null,
            "display": null,
            "flex": null,
            "flex_flow": null,
            "grid_area": null,
            "grid_auto_columns": null,
            "grid_auto_flow": null,
            "grid_auto_rows": null,
            "grid_column": null,
            "grid_gap": null,
            "grid_row": null,
            "grid_template_areas": null,
            "grid_template_columns": null,
            "grid_template_rows": null,
            "height": null,
            "justify_content": null,
            "justify_items": null,
            "left": null,
            "margin": null,
            "max_height": null,
            "max_width": null,
            "min_height": null,
            "min_width": null,
            "object_fit": null,
            "object_position": null,
            "order": null,
            "overflow": null,
            "overflow_x": null,
            "overflow_y": null,
            "padding": null,
            "right": null,
            "top": null,
            "visibility": null,
            "width": null
          }
        },
        "78cfc064794b48e78e6dfa68c7c54873": {
          "model_module": "@jupyter-widgets/controls",
          "model_name": "DescriptionStyleModel",
          "model_module_version": "1.5.0",
          "state": {
            "_model_module": "@jupyter-widgets/controls",
            "_model_module_version": "1.5.0",
            "_model_name": "DescriptionStyleModel",
            "_view_count": null,
            "_view_module": "@jupyter-widgets/base",
            "_view_module_version": "1.2.0",
            "_view_name": "StyleView",
            "description_width": ""
          }
        }
      }
    }
  },
  "cells": [
    {
      "cell_type": "markdown",
      "metadata": {
        "id": "view-in-github",
        "colab_type": "text"
      },
      "source": [
        "<a href=\"https://colab.research.google.com/github/murilofarias10/Python/blob/main/Token_AI_HF.ipynb\" target=\"_parent\"><img src=\"https://colab.research.google.com/assets/colab-badge.svg\" alt=\"Open In Colab\"/></a>"
      ]
    },
    {
      "cell_type": "code",
      "source": [
        "pip install datasets\n",
        "from datasets import load_dataset\n",
        "from transformers import AutoTokenizer"
      ],
      "metadata": {
        "id": "1XAm9BnGxHZh"
      },
      "execution_count": null,
      "outputs": []
    },
    {
      "cell_type": "code",
      "execution_count": 78,
      "metadata": {
        "id": "e7SeiMdCwyBB"
      },
      "outputs": [],
      "source": [
        "raw_datasets = load_dataset(\"glue\", \"mrpc\") #from datasets import load_dataset\n"
      ]
    },
    {
      "cell_type": "code",
      "source": [
        "#first one train\n",
        "raw_train_dataset = raw_datasets[\"train\"]\n",
        "raw_train_dataset[0]\n",
        "\n",
        "#last one train\n",
        "raw_train_dataset = raw_datasets[\"train\"]\n",
        "raw_train_dataset[3667]\n"
      ],
      "metadata": {
        "colab": {
          "base_uri": "https://localhost:8080/"
        },
        "id": "b4bkwHKqyDK7",
        "outputId": "00a88f68-66dd-427a-83dd-f2dcc8df5022"
      },
      "execution_count": 60,
      "outputs": [
        {
          "output_type": "execute_result",
          "data": {
            "text/plain": [
              "{'sentence1': \"The 30-year bond US30YT = RR rose 22 / 32 for a yield of 4.31 percent , versus 4.35 percent at Wednesday 's close .\",\n",
              " 'sentence2': 'The 30-year bond US30YT = RR grew 1-3 / 32 for a yield of 4.30 percent , down from 4.35 percent late Wednesday .',\n",
              " 'label': 0,\n",
              " 'idx': 4075}"
            ]
          },
          "metadata": {},
          "execution_count": 60
        }
      ]
    },
    {
      "cell_type": "code",
      "source": [
        "#first one validation\n",
        "raw_train_dataset = raw_datasets[\"validation\"]\n",
        "raw_train_dataset[0]\n",
        "\n",
        "#last one validation\n",
        "raw_train_dataset = raw_datasets[\"validation\"]\n",
        "raw_train_dataset[407]"
      ],
      "metadata": {
        "id": "9NCwyLzKyQSx"
      },
      "execution_count": null,
      "outputs": []
    },
    {
      "cell_type": "code",
      "source": [
        "#first one test\n",
        "raw_train_dataset = raw_datasets[\"test\"]\n",
        "raw_train_dataset[0]\n",
        "\n",
        "#last one features\n",
        "raw_train_dataset = raw_datasets[\"test\"]\n",
        "raw_train_dataset[1724]"
      ],
      "metadata": {
        "id": "j0fSpXabyRYL"
      },
      "execution_count": null,
      "outputs": []
    },
    {
      "cell_type": "code",
      "source": [
        "raw_train_dataset = raw_datasets[\"train\"]\n",
        "raw_train_dataset\n",
        "\n",
        "#LABEL 0 = Not Equivalent\n",
        "#LABEL 1 = Equivalent"
      ],
      "metadata": {
        "id": "c6wtzMlFytKC"
      },
      "execution_count": null,
      "outputs": []
    },
    {
      "cell_type": "code",
      "source": [
        "raw_datasets = load_dataset(\"glue\", \"mrpc\") #from datasets import load_dataset"
      ],
      "metadata": {
        "id": "m2ULqRYHBzGa"
      },
      "execution_count": null,
      "outputs": []
    },
    {
      "cell_type": "code",
      "source": [
        "raw_datasets[\"train\"].features"
      ],
      "metadata": {
        "id": "W02hEeYa0hxD"
      },
      "execution_count": null,
      "outputs": []
    },
    {
      "cell_type": "code",
      "source": [
        "checkpoint = \"bert-base-uncased\"\n",
        "tokenizer = AutoTokenizer.from_pretrained(checkpoint) #from transformers import AutoTokenizer\n",
        "tokenized_sentences_1 = tokenizer(raw_datasets[\"train\"][\"sentence1\"])\n",
        "tokenized_sentences_2 = tokenizer(raw_datasets[\"train\"][\"sentence2\"])\n",
        "tokenized_sentences_1"
      ],
      "metadata": {
        "id": "xSKzBPJN0k0b"
      },
      "execution_count": null,
      "outputs": []
    },
    {
      "cell_type": "code",
      "source": [
        "x = tokenizer(\"This is the first sentence.\", \"This is the second one.\")\n",
        "x"
      ],
      "metadata": {
        "colab": {
          "base_uri": "https://localhost:8080/"
        },
        "id": "GmZ4VkW515eW",
        "outputId": "d01f9157-29e9-4309-f8e8-846356be0db3"
      },
      "execution_count": 83,
      "outputs": [
        {
          "output_type": "execute_result",
          "data": {
            "text/plain": [
              "{'input_ids': [101, 2023, 2003, 1996, 2034, 6251, 1012, 102, 2023, 2003, 1996, 2117, 2028, 1012, 102], 'token_type_ids': [0, 0, 0, 0, 0, 0, 0, 0, 1, 1, 1, 1, 1, 1, 1], 'attention_mask': [1, 1, 1, 1, 1, 1, 1, 1, 1, 1, 1, 1, 1, 1, 1]}"
            ]
          },
          "metadata": {},
          "execution_count": 83
        }
      ]
    },
    {
      "cell_type": "code",
      "source": [
        "tokenizer.convert_ids_to_tokens(x[\"input_ids\"])"
      ],
      "metadata": {
        "colab": {
          "base_uri": "https://localhost:8080/"
        },
        "id": "mLfEL72421Eu",
        "outputId": "dee656c1-9bfc-4ecf-f3d8-d9fbd75a991c"
      },
      "execution_count": 84,
      "outputs": [
        {
          "output_type": "execute_result",
          "data": {
            "text/plain": [
              "['[CLS]',\n",
              " 'this',\n",
              " 'is',\n",
              " 'the',\n",
              " 'first',\n",
              " 'sentence',\n",
              " '.',\n",
              " '[SEP]',\n",
              " 'this',\n",
              " 'is',\n",
              " 'the',\n",
              " 'second',\n",
              " 'one',\n",
              " '.',\n",
              " '[SEP]']"
            ]
          },
          "metadata": {},
          "execution_count": 84
        }
      ]
    },
    {
      "cell_type": "markdown",
      "source": [
        "SEGUNDO MURILO"
      ],
      "metadata": {
        "id": "QLi7VRKT-yku"
      }
    },
    {
      "cell_type": "code",
      "source": [
        "two = raw_datasets[\"train\"][0]\n",
        "two"
      ],
      "metadata": {
        "colab": {
          "base_uri": "https://localhost:8080/"
        },
        "id": "jMPQdfwV8CTu",
        "outputId": "a44bd22d-8935-4d07-b3fa-31bc687851b1"
      },
      "execution_count": 175,
      "outputs": [
        {
          "output_type": "execute_result",
          "data": {
            "text/plain": [
              "{'sentence1': 'Amrozi accused his brother , whom he called \" the witness \" , of deliberately distorting his evidence .',\n",
              " 'sentence2': 'Referring to him as only \" the witness \" , Amrozi accused his brother of deliberately distorting his evidence .',\n",
              " 'label': 1,\n",
              " 'idx': 0}"
            ]
          },
          "metadata": {},
          "execution_count": 175
        }
      ]
    },
    {
      "cell_type": "code",
      "source": [
        "checkpoint = \"bert-base-uncased\"\n",
        "tokenizer = AutoTokenizer.from_pretrained(checkpoint) #from transformers import AutoTokenizer\n",
        "tokenized_sentences_X = tokenizer(two[\"sentence1\"], two[\"sentence2\"])"
      ],
      "metadata": {
        "id": "nDOVc8E38CN6"
      },
      "execution_count": 177,
      "outputs": []
    },
    {
      "cell_type": "code",
      "source": [
        "tokenizer.convert_ids_to_tokens(tokenized_sentences_X[\"input_ids\"])"
      ],
      "metadata": {
        "colab": {
          "base_uri": "https://localhost:8080/"
        },
        "id": "vWFpuue0W5zL",
        "outputId": "89687d9d-c51b-47dd-aab8-4275ce16e052"
      },
      "execution_count": 178,
      "outputs": [
        {
          "output_type": "execute_result",
          "data": {
            "text/plain": [
              "['[CLS]',\n",
              " 'am',\n",
              " '##ro',\n",
              " '##zi',\n",
              " 'accused',\n",
              " 'his',\n",
              " 'brother',\n",
              " ',',\n",
              " 'whom',\n",
              " 'he',\n",
              " 'called',\n",
              " '\"',\n",
              " 'the',\n",
              " 'witness',\n",
              " '\"',\n",
              " ',',\n",
              " 'of',\n",
              " 'deliberately',\n",
              " 'di',\n",
              " '##stor',\n",
              " '##ting',\n",
              " 'his',\n",
              " 'evidence',\n",
              " '.',\n",
              " '[SEP]',\n",
              " 'referring',\n",
              " 'to',\n",
              " 'him',\n",
              " 'as',\n",
              " 'only',\n",
              " '\"',\n",
              " 'the',\n",
              " 'witness',\n",
              " '\"',\n",
              " ',',\n",
              " 'am',\n",
              " '##ro',\n",
              " '##zi',\n",
              " 'accused',\n",
              " 'his',\n",
              " 'brother',\n",
              " 'of',\n",
              " 'deliberately',\n",
              " 'di',\n",
              " '##stor',\n",
              " '##ting',\n",
              " 'his',\n",
              " 'evidence',\n",
              " '.',\n",
              " '[SEP]']"
            ]
          },
          "metadata": {},
          "execution_count": 178
        }
      ]
    },
    {
      "cell_type": "code",
      "source": [
        "b = tokenizer(\"This is the first sentence.\", \"This is the second one.\")\n",
        "b"
      ],
      "metadata": {
        "colab": {
          "base_uri": "https://localhost:8080/"
        },
        "id": "PGHfRwMD8CHq",
        "outputId": "ef42b1d0-5aaf-416e-a623-f6941bb200da"
      },
      "execution_count": 90,
      "outputs": [
        {
          "output_type": "execute_result",
          "data": {
            "text/plain": [
              "{'input_ids': [101, 2023, 2003, 1996, 2034, 6251, 1012, 102, 2023, 2003, 1996, 2117, 2028, 1012, 102], 'token_type_ids': [0, 0, 0, 0, 0, 0, 0, 0, 1, 1, 1, 1, 1, 1, 1], 'attention_mask': [1, 1, 1, 1, 1, 1, 1, 1, 1, 1, 1, 1, 1, 1, 1]}"
            ]
          },
          "metadata": {},
          "execution_count": 90
        }
      ]
    },
    {
      "cell_type": "code",
      "source": [
        "tokenizer.convert_ids_to_tokens(b[\"input_ids\"])"
      ],
      "metadata": {
        "colab": {
          "base_uri": "https://localhost:8080/"
        },
        "id": "vkIi4XPZ8CAp",
        "outputId": "dd01c2ae-8e18-44aa-ecb6-d0bffa722256"
      },
      "execution_count": 91,
      "outputs": [
        {
          "output_type": "execute_result",
          "data": {
            "text/plain": [
              "['[CLS]',\n",
              " 'this',\n",
              " 'is',\n",
              " 'the',\n",
              " 'first',\n",
              " 'sentence',\n",
              " '.',\n",
              " '[SEP]',\n",
              " 'this',\n",
              " 'is',\n",
              " 'the',\n",
              " 'second',\n",
              " 'one',\n",
              " '.',\n",
              " '[SEP]']"
            ]
          },
          "metadata": {},
          "execution_count": 91
        }
      ]
    },
    {
      "cell_type": "markdown",
      "source": [
        "TERCEIRO"
      ],
      "metadata": {
        "id": "yA6J3Xmf_Y0W"
      }
    },
    {
      "cell_type": "code",
      "source": [
        "terceiro = raw_datasets[\"train\"]\n",
        "checkpoint = \"bert-base-uncased\"\n",
        "tokenizer = AutoTokenizer.from_pretrained(checkpoint) #from transformers import AutoTokenizer\n",
        "tokenized_sentences_1 = tokenizer(terceiro[\"sentence1\"])\n",
        "tokenized_sentences_1 = tokenizer(terceiro[\"sentence2\"])\n",
        "c = tokenizer(\"This is the first sentence.\", \"This is the second one.\")\n",
        "tokenizer.convert_ids_to_tokens(c[\"input_ids\"])"
      ],
      "metadata": {
        "colab": {
          "base_uri": "https://localhost:8080/"
        },
        "id": "pqPDKggb282t",
        "outputId": "7bec1d9d-69a3-47c6-bf66-b9b448681a76"
      },
      "execution_count": 94,
      "outputs": [
        {
          "output_type": "execute_result",
          "data": {
            "text/plain": [
              "['[CLS]',\n",
              " 'this',\n",
              " 'is',\n",
              " 'the',\n",
              " 'first',\n",
              " 'sentence',\n",
              " '.',\n",
              " '[SEP]',\n",
              " 'this',\n",
              " 'is',\n",
              " 'the',\n",
              " 'second',\n",
              " 'one',\n",
              " '.',\n",
              " '[SEP]']"
            ]
          },
          "metadata": {},
          "execution_count": 94
        }
      ]
    },
    {
      "cell_type": "markdown",
      "source": [
        "Voltando e resumindo"
      ],
      "metadata": {
        "id": "B7jGwzFyB66U"
      }
    },
    {
      "cell_type": "code",
      "source": [
        "tokenized_sentences_1 = tokenizer2(terceiro[\"sentence1\"])\n",
        "tokenized_sentences_2 = tokenizer2(terceiro[\"sentence2\"])\n",
        "tokenized_sentences_1"
      ],
      "metadata": {
        "id": "YOoSPErXP0Gv"
      },
      "execution_count": null,
      "outputs": []
    },
    {
      "cell_type": "code",
      "source": [
        "checkpoint5 = \"bert-base-uncased\" #pre trained model\n",
        "tokenizer5 = AutoTokenizer.from_pretrained(checkpoint5) #from transformers import AutoTokenizer\n",
        "xv = tokenizer5(\"This is the first sentence.\", \"This is the second one sentencexx.\")\n",
        "tokenizer5.convert_ids_to_tokens(xv[\"input_ids\"])"
      ],
      "metadata": {
        "colab": {
          "base_uri": "https://localhost:8080/"
        },
        "id": "1003I3AC_k4u",
        "outputId": "2bd98fa8-3be4-4c65-eb71-ab63163edb9d"
      },
      "execution_count": 127,
      "outputs": [
        {
          "output_type": "execute_result",
          "data": {
            "text/plain": [
              "['[CLS]',\n",
              " 'this',\n",
              " 'is',\n",
              " 'the',\n",
              " 'first',\n",
              " 'sentence',\n",
              " '.',\n",
              " '[SEP]',\n",
              " 'this',\n",
              " 'is',\n",
              " 'the',\n",
              " 'second',\n",
              " 'one',\n",
              " 'sentence',\n",
              " '##xx',\n",
              " '.',\n",
              " '[SEP]']"
            ]
          },
          "metadata": {},
          "execution_count": 127
        }
      ]
    },
    {
      "cell_type": "code",
      "source": [
        "xv"
      ],
      "metadata": {
        "colab": {
          "base_uri": "https://localhost:8080/"
        },
        "id": "Gq5RnuB6D07H",
        "outputId": "9e941112-effb-492e-a644-3c8f935489f2"
      },
      "execution_count": 128,
      "outputs": [
        {
          "output_type": "execute_result",
          "data": {
            "text/plain": [
              "{'input_ids': [101, 2023, 2003, 1996, 2034, 6251, 1012, 102, 2023, 2003, 1996, 2117, 2028, 6251, 20348, 1012, 102], 'token_type_ids': [0, 0, 0, 0, 0, 0, 0, 0, 1, 1, 1, 1, 1, 1, 1, 1, 1], 'attention_mask': [1, 1, 1, 1, 1, 1, 1, 1, 1, 1, 1, 1, 1, 1, 1, 1, 1]}"
            ]
          },
          "metadata": {},
          "execution_count": 128
        }
      ]
    },
    {
      "cell_type": "code",
      "source": [
        "raw_datasets3"
      ],
      "metadata": {
        "colab": {
          "base_uri": "https://localhost:8080/"
        },
        "id": "xVJc_j1gRagQ",
        "outputId": "dafc22b6-8420-424e-d86a-6e6448d26022"
      },
      "execution_count": 131,
      "outputs": [
        {
          "output_type": "execute_result",
          "data": {
            "text/plain": [
              "DatasetDict({\n",
              "    train: Dataset({\n",
              "        features: ['sentence1', 'sentence2', 'label', 'idx'],\n",
              "        num_rows: 3668\n",
              "    })\n",
              "    validation: Dataset({\n",
              "        features: ['sentence1', 'sentence2', 'label', 'idx'],\n",
              "        num_rows: 408\n",
              "    })\n",
              "    test: Dataset({\n",
              "        features: ['sentence1', 'sentence2', 'label', 'idx'],\n",
              "        num_rows: 1725\n",
              "    })\n",
              "})"
            ]
          },
          "metadata": {},
          "execution_count": 131
        }
      ]
    },
    {
      "cell_type": "markdown",
      "source": [
        "USANDO UMA FUNCAO"
      ],
      "metadata": {
        "id": "ikfSy8pQYyyY"
      }
    },
    {
      "cell_type": "code",
      "source": [
        "raw_datasets3 = load_dataset(\"glue\", \"mrpc\") #from datasets import load_dataset\n",
        "checkpoint3 = \"bert-base-uncased\" #pre trained model\n",
        "tokenizer3 = AutoTokenizer.from_pretrained(checkpoint3) #from transformers import AutoTokenizer\n",
        "\n",
        "def tok_functions(parameter):\n",
        "    return tokenizer3(parameter[\"sentence1\"], parameter[\"sentence2\"], truncation=True) #sentence1 and sentence 2 is because the file raw_datasets3\n",
        "\n",
        "results = raw_datasets3.map(tok_functions, batched=True) #raw_datasets3.map(), which automatically passes each dataset example if batched=True\n",
        "results"
      ],
      "metadata": {
        "colab": {
          "base_uri": "https://localhost:8080/",
          "height": 292,
          "referenced_widgets": [
            "11bdd13b88524ff6b4ee9137be095c08",
            "926b06e4318c4b20a52c259c2644b8ec",
            "bfd42166b4384dabb4e7d5d836ad6e0e",
            "8e9148ba0e7a47149bca1e3e575300da",
            "ee5f51a7e33949a8a9fa1495dfe6c9d7",
            "2addf231d47e46f9bc6927382366bc7f",
            "eddc5729955349868fd035ddeaf0a218",
            "f61a0801d4cc4139ae2a43a6d4978a74",
            "a996ed6ddc634d9d9d1cd0ed409c2a0b",
            "6e24da2115df4fe69d1aa698ecb15a67",
            "78cfc064794b48e78e6dfa68c7c54873"
          ]
        },
        "id": "aOxKroCLKtMf",
        "outputId": "06e0800c-da29-41ba-aae8-d8b4d7cef21e"
      },
      "execution_count": 179,
      "outputs": [
        {
          "output_type": "display_data",
          "data": {
            "text/plain": [
              "Map:   0%|          | 0/1725 [00:00<?, ? examples/s]"
            ],
            "application/vnd.jupyter.widget-view+json": {
              "version_major": 2,
              "version_minor": 0,
              "model_id": "11bdd13b88524ff6b4ee9137be095c08"
            }
          },
          "metadata": {}
        },
        {
          "output_type": "execute_result",
          "data": {
            "text/plain": [
              "DatasetDict({\n",
              "    train: Dataset({\n",
              "        features: ['sentence1', 'sentence2', 'label', 'idx', 'input_ids', 'token_type_ids', 'attention_mask'],\n",
              "        num_rows: 3668\n",
              "    })\n",
              "    validation: Dataset({\n",
              "        features: ['sentence1', 'sentence2', 'label', 'idx', 'input_ids', 'token_type_ids', 'attention_mask'],\n",
              "        num_rows: 408\n",
              "    })\n",
              "    test: Dataset({\n",
              "        features: ['sentence1', 'sentence2', 'label', 'idx', 'input_ids', 'token_type_ids', 'attention_mask'],\n",
              "        num_rows: 1725\n",
              "    })\n",
              "})"
            ]
          },
          "metadata": {},
          "execution_count": 179
        }
      ]
    },
    {
      "cell_type": "code",
      "source": [
        "results.column_names"
      ],
      "metadata": {
        "colab": {
          "base_uri": "https://localhost:8080/"
        },
        "id": "ZqIvgXbgO3yj",
        "outputId": "ec778e34-f9b5-47b6-dab9-06bc266f3ed7"
      },
      "execution_count": 180,
      "outputs": [
        {
          "output_type": "execute_result",
          "data": {
            "text/plain": [
              "{'train': ['sentence1',\n",
              "  'sentence2',\n",
              "  'label',\n",
              "  'idx',\n",
              "  'input_ids',\n",
              "  'token_type_ids',\n",
              "  'attention_mask'],\n",
              " 'validation': ['sentence1',\n",
              "  'sentence2',\n",
              "  'label',\n",
              "  'idx',\n",
              "  'input_ids',\n",
              "  'token_type_ids',\n",
              "  'attention_mask'],\n",
              " 'test': ['sentence1',\n",
              "  'sentence2',\n",
              "  'label',\n",
              "  'idx',\n",
              "  'input_ids',\n",
              "  'token_type_ids',\n",
              "  'attention_mask']}"
            ]
          },
          "metadata": {},
          "execution_count": 180
        }
      ]
    },
    {
      "cell_type": "code",
      "source": [
        "testando_outro_resultado = results[\"train\"][0]\n",
        "checkpoint6 = \"bert-base-uncased\" #pre trained model\n",
        "tokenizer6 = AutoTokenizer.from_pretrained(checkpoint6) #from transformers import AutoTokenizer\n",
        "tokenizer6.convert_ids_to_tokens(testando_outro_resultado[\"input_ids\"])"
      ],
      "metadata": {
        "colab": {
          "base_uri": "https://localhost:8080/"
        },
        "id": "D5-clD4NT3rg",
        "outputId": "fc628f9f-5364-40a5-8f45-aeb8babbff68"
      },
      "execution_count": 181,
      "outputs": [
        {
          "output_type": "execute_result",
          "data": {
            "text/plain": [
              "['[CLS]',\n",
              " 'am',\n",
              " '##ro',\n",
              " '##zi',\n",
              " 'accused',\n",
              " 'his',\n",
              " 'brother',\n",
              " ',',\n",
              " 'whom',\n",
              " 'he',\n",
              " 'called',\n",
              " '\"',\n",
              " 'the',\n",
              " 'witness',\n",
              " '\"',\n",
              " ',',\n",
              " 'of',\n",
              " 'deliberately',\n",
              " 'di',\n",
              " '##stor',\n",
              " '##ting',\n",
              " 'his',\n",
              " 'evidence',\n",
              " '.',\n",
              " '[SEP]',\n",
              " 'referring',\n",
              " 'to',\n",
              " 'him',\n",
              " 'as',\n",
              " 'only',\n",
              " '\"',\n",
              " 'the',\n",
              " 'witness',\n",
              " '\"',\n",
              " ',',\n",
              " 'am',\n",
              " '##ro',\n",
              " '##zi',\n",
              " 'accused',\n",
              " 'his',\n",
              " 'brother',\n",
              " 'of',\n",
              " 'deliberately',\n",
              " 'di',\n",
              " '##stor',\n",
              " '##ting',\n",
              " 'his',\n",
              " 'evidence',\n",
              " '.',\n",
              " '[SEP]']"
            ]
          },
          "metadata": {},
          "execution_count": 181
        }
      ]
    },
    {
      "cell_type": "code",
      "source": [
        "results[\"train\"][0]['input_ids']"
      ],
      "metadata": {
        "colab": {
          "base_uri": "https://localhost:8080/"
        },
        "id": "rE2wzjmKVv0R",
        "outputId": "3d11c046-c108-4a2a-a6cb-926e6dbe36f9"
      },
      "execution_count": 182,
      "outputs": [
        {
          "output_type": "execute_result",
          "data": {
            "text/plain": [
              "[101,\n",
              " 2572,\n",
              " 3217,\n",
              " 5831,\n",
              " 5496,\n",
              " 2010,\n",
              " 2567,\n",
              " 1010,\n",
              " 3183,\n",
              " 2002,\n",
              " 2170,\n",
              " 1000,\n",
              " 1996,\n",
              " 7409,\n",
              " 1000,\n",
              " 1010,\n",
              " 1997,\n",
              " 9969,\n",
              " 4487,\n",
              " 23809,\n",
              " 3436,\n",
              " 2010,\n",
              " 3350,\n",
              " 1012,\n",
              " 102,\n",
              " 7727,\n",
              " 2000,\n",
              " 2032,\n",
              " 2004,\n",
              " 2069,\n",
              " 1000,\n",
              " 1996,\n",
              " 7409,\n",
              " 1000,\n",
              " 1010,\n",
              " 2572,\n",
              " 3217,\n",
              " 5831,\n",
              " 5496,\n",
              " 2010,\n",
              " 2567,\n",
              " 1997,\n",
              " 9969,\n",
              " 4487,\n",
              " 23809,\n",
              " 3436,\n",
              " 2010,\n",
              " 3350,\n",
              " 1012,\n",
              " 102]"
            ]
          },
          "metadata": {},
          "execution_count": 182
        }
      ]
    },
    {
      "cell_type": "code",
      "source": [
        "from transformers import DataCollatorWithPadding\n",
        "\n",
        "data_collator = DataCollatorWithPadding(tokenizer=tokenizer6)"
      ],
      "metadata": {
        "id": "Zt2c1d-tVzMQ"
      },
      "execution_count": 183,
      "outputs": []
    },
    {
      "cell_type": "code",
      "source": [
        "samples = results[\"train\"][0:10]\n",
        "samples = {k: v for k, v in samples.items() if k not in [\"idx\", \"sentence1\", \"sentence2\"]}\n",
        "[len(x) for x in samples[\"input_ids\"]]"
      ],
      "metadata": {
        "colab": {
          "base_uri": "https://localhost:8080/"
        },
        "id": "S29BOZTzZMVJ",
        "outputId": "71ad4a27-114c-4c5e-c33e-e2568e6d4865"
      },
      "execution_count": 189,
      "outputs": [
        {
          "output_type": "execute_result",
          "data": {
            "text/plain": [
              "[50, 59, 47, 67, 59, 50, 62, 32, 45, 60]"
            ]
          },
          "metadata": {},
          "execution_count": 189
        }
      ]
    },
    {
      "cell_type": "code",
      "source": [
        "batch = data_collator(samples)\n",
        "{k: v.shape for k, v in batch.items()}"
      ],
      "metadata": {
        "colab": {
          "base_uri": "https://localhost:8080/"
        },
        "id": "aAbqirTXZ2aj",
        "outputId": "e007ddce-77cd-46b1-cadc-313906032578"
      },
      "execution_count": 190,
      "outputs": [
        {
          "output_type": "execute_result",
          "data": {
            "text/plain": [
              "{'input_ids': torch.Size([10, 67]),\n",
              " 'token_type_ids': torch.Size([10, 67]),\n",
              " 'attention_mask': torch.Size([10, 67]),\n",
              " 'labels': torch.Size([10])}"
            ]
          },
          "metadata": {},
          "execution_count": 190
        }
      ]
    }
  ]
}
